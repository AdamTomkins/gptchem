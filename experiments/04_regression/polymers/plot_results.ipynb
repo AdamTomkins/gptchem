{
 "cells": [
  {
   "cell_type": "code",
   "execution_count": 1,
   "metadata": {},
   "outputs": [],
   "source": [
    "%load_ext autoreload \n",
    "%autoreload 2"
   ]
  },
  {
   "cell_type": "code",
   "execution_count": 2,
   "metadata": {},
   "outputs": [],
   "source": [
    "from glob import glob \n",
    "from fastcore.xtras import load_pickle\n",
    "\n",
    "import matplotlib.pyplot as plt \n",
    "import matplotlib as mpl\n",
    "mpl.rcParams.update(mpl.rcParamsDefault)\n",
    "plt.style.use(['science', 'nature'])\n",
    "\n",
    "import matplotx\n",
    "\n",
    "import pandas as pd \n",
    "import numpy as np\n",
    "\n",
    "%matplotlib inline"
   ]
  },
  {
   "cell_type": "code",
   "execution_count": 3,
   "metadata": {},
   "outputs": [],
   "source": [
    "all_res = glob('out/**/*.pkl')"
   ]
  },
  {
   "cell_type": "code",
   "execution_count": 4,
   "metadata": {},
   "outputs": [],
   "source": [
    "compiled_res = []\n",
    "compiled_gpr = []\n",
    "\n",
    "for res in all_res:\n",
    "    loaded = load_pickle(res)\n",
    "\n",
    "    num_points = loaded['num_train_points']\n",
    "\n",
    "    metrics = {\n",
    "        'num_train_points': loaded['num_train_points'],\n",
    "        'mae': loaded['mean_absolute_error'],\n",
    "        'max_error': loaded['max_error'],\n",
    "        'mse': loaded['mean_squared_error']\n",
    "    }\n",
    "\n",
    "    compiled_res.append(metrics)\n",
    "\n",
    "\n",
    "    gpr_metrics = {\n",
    "        'num_train_points': loaded['num_train_points'],\n",
    "        'mae': loaded['baseline']['mean_absolute_error'],\n",
    "        'max_error': loaded['baseline']['max_error'],\n",
    "        'mse': loaded['baseline']['mean_squared_error']\n",
    "    }\n",
    "\n",
    "    compiled_gpr.append(gpr_metrics)"
   ]
  },
  {
   "cell_type": "code",
   "execution_count": 5,
   "metadata": {},
   "outputs": [],
   "source": [
    "compiled_res = pd.DataFrame(compiled_res)\n",
    "compiled_gpr = pd.DataFrame(compiled_gpr)"
   ]
  },
  {
   "cell_type": "code",
   "execution_count": 10,
   "metadata": {},
   "outputs": [],
   "source": [
    "compiled_grouped_res = compiled_res.groupby([ 'num_train_points']).agg(['mean', 'std', 'count'])"
   ]
  },
  {
   "cell_type": "code",
   "execution_count": 11,
   "metadata": {},
   "outputs": [],
   "source": [
    "compiled_gpr_grouped = compiled_gpr.groupby(['num_train_points']).agg(['mean', 'std'])"
   ]
  },
  {
   "cell_type": "code",
   "execution_count": 12,
   "metadata": {},
   "outputs": [
    {
     "data": {
      "text/html": [
       "<div>\n",
       "<style scoped>\n",
       "    .dataframe tbody tr th:only-of-type {\n",
       "        vertical-align: middle;\n",
       "    }\n",
       "\n",
       "    .dataframe tbody tr th {\n",
       "        vertical-align: top;\n",
       "    }\n",
       "\n",
       "    .dataframe thead tr th {\n",
       "        text-align: left;\n",
       "    }\n",
       "\n",
       "    .dataframe thead tr:last-of-type th {\n",
       "        text-align: right;\n",
       "    }\n",
       "</style>\n",
       "<table border=\"1\" class=\"dataframe\">\n",
       "  <thead>\n",
       "    <tr>\n",
       "      <th></th>\n",
       "      <th colspan=\"3\" halign=\"left\">mae</th>\n",
       "      <th colspan=\"3\" halign=\"left\">max_error</th>\n",
       "      <th colspan=\"3\" halign=\"left\">mse</th>\n",
       "    </tr>\n",
       "    <tr>\n",
       "      <th></th>\n",
       "      <th>mean</th>\n",
       "      <th>std</th>\n",
       "      <th>count</th>\n",
       "      <th>mean</th>\n",
       "      <th>std</th>\n",
       "      <th>count</th>\n",
       "      <th>mean</th>\n",
       "      <th>std</th>\n",
       "      <th>count</th>\n",
       "    </tr>\n",
       "    <tr>\n",
       "      <th>num_train_points</th>\n",
       "      <th></th>\n",
       "      <th></th>\n",
       "      <th></th>\n",
       "      <th></th>\n",
       "      <th></th>\n",
       "      <th></th>\n",
       "      <th></th>\n",
       "      <th></th>\n",
       "      <th></th>\n",
       "    </tr>\n",
       "  </thead>\n",
       "  <tbody>\n",
       "    <tr>\n",
       "      <th>10</th>\n",
       "      <td>2.653250</td>\n",
       "      <td>0.131857</td>\n",
       "      <td>4</td>\n",
       "      <td>8.680000</td>\n",
       "      <td>0.817843</td>\n",
       "      <td>4</td>\n",
       "      <td>10.411285</td>\n",
       "      <td>1.043155</td>\n",
       "      <td>4</td>\n",
       "    </tr>\n",
       "    <tr>\n",
       "      <th>20</th>\n",
       "      <td>2.673467</td>\n",
       "      <td>0.216208</td>\n",
       "      <td>3</td>\n",
       "      <td>9.003333</td>\n",
       "      <td>0.802143</td>\n",
       "      <td>3</td>\n",
       "      <td>10.931237</td>\n",
       "      <td>1.609100</td>\n",
       "      <td>3</td>\n",
       "    </tr>\n",
       "    <tr>\n",
       "      <th>50</th>\n",
       "      <td>2.499370</td>\n",
       "      <td>0.069424</td>\n",
       "      <td>4</td>\n",
       "      <td>8.157500</td>\n",
       "      <td>0.648813</td>\n",
       "      <td>4</td>\n",
       "      <td>9.313259</td>\n",
       "      <td>0.339615</td>\n",
       "      <td>4</td>\n",
       "    </tr>\n",
       "    <tr>\n",
       "      <th>100</th>\n",
       "      <td>1.837480</td>\n",
       "      <td>0.402973</td>\n",
       "      <td>3</td>\n",
       "      <td>6.020000</td>\n",
       "      <td>1.372734</td>\n",
       "      <td>3</td>\n",
       "      <td>5.332481</td>\n",
       "      <td>2.176965</td>\n",
       "      <td>3</td>\n",
       "    </tr>\n",
       "    <tr>\n",
       "      <th>200</th>\n",
       "      <td>0.825987</td>\n",
       "      <td>0.053361</td>\n",
       "      <td>3</td>\n",
       "      <td>4.146667</td>\n",
       "      <td>0.505206</td>\n",
       "      <td>3</td>\n",
       "      <td>1.161951</td>\n",
       "      <td>0.173835</td>\n",
       "      <td>3</td>\n",
       "    </tr>\n",
       "    <tr>\n",
       "      <th>500</th>\n",
       "      <td>0.638420</td>\n",
       "      <td>0.031311</td>\n",
       "      <td>2</td>\n",
       "      <td>3.065000</td>\n",
       "      <td>0.502046</td>\n",
       "      <td>2</td>\n",
       "      <td>0.648782</td>\n",
       "      <td>0.030257</td>\n",
       "      <td>2</td>\n",
       "    </tr>\n",
       "  </tbody>\n",
       "</table>\n",
       "</div>"
      ],
      "text/plain": [
       "                       mae                 max_error                  \\\n",
       "                      mean       std count      mean       std count   \n",
       "num_train_points                                                       \n",
       "10                2.653250  0.131857     4  8.680000  0.817843     4   \n",
       "20                2.673467  0.216208     3  9.003333  0.802143     3   \n",
       "50                2.499370  0.069424     4  8.157500  0.648813     4   \n",
       "100               1.837480  0.402973     3  6.020000  1.372734     3   \n",
       "200               0.825987  0.053361     3  4.146667  0.505206     3   \n",
       "500               0.638420  0.031311     2  3.065000  0.502046     2   \n",
       "\n",
       "                        mse                  \n",
       "                       mean       std count  \n",
       "num_train_points                             \n",
       "10                10.411285  1.043155     4  \n",
       "20                10.931237  1.609100     3  \n",
       "50                 9.313259  0.339615     4  \n",
       "100                5.332481  2.176965     3  \n",
       "200                1.161951  0.173835     3  \n",
       "500                0.648782  0.030257     2  "
      ]
     },
     "execution_count": 12,
     "metadata": {},
     "output_type": "execute_result"
    }
   ],
   "source": [
    "compiled_grouped_res"
   ]
  },
  {
   "cell_type": "code",
   "execution_count": 9,
   "metadata": {},
   "outputs": [
    {
     "data": {
      "image/png": "[encoded data removed]",
      "text/plain": [
       "<Figure size 330x250 with 1 Axes>"
      ]
     },
     "metadata": {},
     "output_type": "display_data"
    }
   ],
   "source": [
    "with plt.style.context(matplotx.styles.dufte):\n",
    "    fig, ax = plt.subplots(1,1)\n",
    "\n",
    "    ax.plot(\n",
    "        compiled_grouped_res.loc[:].index, \n",
    "        compiled_grouped_res.loc[:]['mae']['mean'], \n",
    "        label='GPT', \n",
    "        marker='o'\n",
    "    )\n",
    "\n",
    "    ax.fill_between(\n",
    "        compiled_grouped_res.loc[ :].index, \n",
    "        compiled_grouped_res.loc[ :]['mae']['mean'] - compiled_grouped_res.loc[:]['mae']['std'], \n",
    "        compiled_grouped_res.loc[ :]['mae']['mean'] + compiled_grouped_res.loc[:]['mae']['std'], \n",
    "          alpha=.5\n",
    "    )\n",
    "\n",
    "    ax.plot(\n",
    "        compiled_gpr_grouped.loc[:].index, \n",
    "        compiled_gpr_grouped['mae']['mean'], \n",
    "        label='XGBoost baseline',\n",
    "        marker='o'\n",
    "    )\n",
    "\n",
    "    ax.fill_between(\n",
    "        compiled_gpr_grouped.loc[ :].index, \n",
    "        compiled_gpr_grouped.loc[:]['mae']['mean'] - compiled_gpr_grouped.loc[ :]['mae']['std'], \n",
    "        compiled_gpr_grouped.loc[ :]['mae']['mean'] + compiled_gpr_grouped.loc[ :]['mae']['std'], \n",
    "        alpha=.5\n",
    "    )\n",
    "\n",
    "    matplotx.line_labels(fontsize=8)\n",
    "\n",
    "    ax.set_xlabel('number of training points', labelpad=4)\n",
    "    matplotx.ylabel_top('MAE / eV')\n",
    "    ax.set_xscale('log')\n",
    "\n",
    "fig.savefig('polymer_regression_res.pdf', bbox_inches='tight')\n"
   ]
  },
  {
   "cell_type": "code",
   "execution_count": null,
   "metadata": {},
   "outputs": [],
   "source": []
  },
  {
   "cell_type": "code",
   "execution_count": null,
   "metadata": {},
   "outputs": [],
   "source": []
  }
 ],
 "metadata": {
  "kernelspec": {
   "display_name": "gptchem",
   "language": "python",
   "name": "python3"
  },
  "language_info": {
   "codemirror_mode": {
    "name": "ipython",
    "version": 3
   },
   "file_extension": ".py",
   "mimetype": "text/x-python",
   "name": "python",
   "nbconvert_exporter": "python",
   "pygments_lexer": "ipython3",
   "version": "3.9.15"
  },
  "orig_nbformat": 4,
  "vscode": {
   "interpreter": {
    "hash": "2f3b9074e5baa1438c27e2ea813f7f53b7516c83bd70840b6d64eae6820ee5df"
   }
  }
 },
 "nbformat": 4,
 "nbformat_minor": 2
}
