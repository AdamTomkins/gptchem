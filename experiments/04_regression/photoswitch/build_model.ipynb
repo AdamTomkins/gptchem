{
 "cells": [
  {
   "cell_type": "code",
   "execution_count": 14,
   "metadata": {},
   "outputs": [
    {
     "name": "stdout",
     "output_type": "stream",
     "text": [
      "The autoreload extension is already loaded. To reload it, use:\n",
      "  %reload_ext autoreload\n"
     ]
    }
   ],
   "source": [
    "%load_ext autoreload\n",
    "%autoreload 2\n",
    "\n",
    "from gptchem.data import get_photoswitch_data\n",
    "from loguru import logger\n",
    "logger.enable(\"gptchem\")\n",
    "from gptchem.extractor import RegressionExtractor\n",
    "from gptchem.formatter import RegressionFormatter\n",
    "from gptchem.tuner import Tuner \n",
    "from gptchem.querier import Querier\n",
    "\n",
    "from sklearn.model_selection import train_test_split"
   ]
  },
  {
   "cell_type": "code",
   "execution_count": 2,
   "metadata": {},
   "outputs": [],
   "source": [
    "data = get_photoswitch_data()"
   ]
  },
  {
   "cell_type": "code",
   "execution_count": 6,
   "metadata": {},
   "outputs": [],
   "source": [
    "formatter = RegressionFormatter(\n",
    "    representation_column=\"SMILES\",\n",
    "    label_column=\"E isomer pi-pi* wavelength in nm\",\n",
    "    property_name=\"E isomer pi-pi* wavelength in nm\",\n",
    ")"
   ]
  },
  {
   "cell_type": "code",
   "execution_count": 7,
   "metadata": {},
   "outputs": [],
   "source": [
    "formatted = formatter(data)"
   ]
  },
  {
   "cell_type": "code",
   "execution_count": 8,
   "metadata": {},
   "outputs": [
    {
     "data": {
      "text/html": [
       "<div>\n",
       "<style scoped>\n",
       "    .dataframe tbody tr th:only-of-type {\n",
       "        vertical-align: middle;\n",
       "    }\n",
       "\n",
       "    .dataframe tbody tr th {\n",
       "        vertical-align: top;\n",
       "    }\n",
       "\n",
       "    .dataframe thead th {\n",
       "        text-align: right;\n",
       "    }\n",
       "</style>\n",
       "<table border=\"1\" class=\"dataframe\">\n",
       "  <thead>\n",
       "    <tr style=\"text-align: right;\">\n",
       "      <th></th>\n",
       "      <th>prompt</th>\n",
       "      <th>completion</th>\n",
       "      <th>label</th>\n",
       "      <th>representation</th>\n",
       "    </tr>\n",
       "  </thead>\n",
       "  <tbody>\n",
       "    <tr>\n",
       "      <th>0</th>\n",
       "      <td>What is the E isomer pi-pi* wavelength in nm o...</td>\n",
       "      <td>310.0@@@</td>\n",
       "      <td>310.0</td>\n",
       "      <td>C[N]1C=CC(=N1)N=NC2=CC=CC=C2</td>\n",
       "    </tr>\n",
       "    <tr>\n",
       "      <th>1</th>\n",
       "      <td>What is the E isomer pi-pi* wavelength in nm o...</td>\n",
       "      <td>310.0@@@</td>\n",
       "      <td>310.0</td>\n",
       "      <td>C[N]1C=NC(=N1)N=NC2=CC=CC=C2</td>\n",
       "    </tr>\n",
       "    <tr>\n",
       "      <th>2</th>\n",
       "      <td>What is the E isomer pi-pi* wavelength in nm o...</td>\n",
       "      <td>325.0@@@</td>\n",
       "      <td>325.0</td>\n",
       "      <td>C[N]1C=C(C)C(=N1)N=NC2=CC=CC=C2</td>\n",
       "    </tr>\n",
       "    <tr>\n",
       "      <th>3</th>\n",
       "      <td>What is the E isomer pi-pi* wavelength in nm o...</td>\n",
       "      <td>328.0@@@</td>\n",
       "      <td>328.0</td>\n",
       "      <td>C[N]1C=C(C=N1)N=NC2=CC=CC=C2</td>\n",
       "    </tr>\n",
       "    <tr>\n",
       "      <th>4</th>\n",
       "      <td>What is the E isomer pi-pi* wavelength in nm o...</td>\n",
       "      <td>335.0@@@</td>\n",
       "      <td>335.0</td>\n",
       "      <td>C[N]1N=C(C)C(=C1C)N=NC2=CC=CC=C2</td>\n",
       "    </tr>\n",
       "    <tr>\n",
       "      <th>...</th>\n",
       "      <td>...</td>\n",
       "      <td>...</td>\n",
       "      <td>...</td>\n",
       "      <td>...</td>\n",
       "    </tr>\n",
       "    <tr>\n",
       "      <th>385</th>\n",
       "      <td>What is the E isomer pi-pi* wavelength in nm o...</td>\n",
       "      <td>456.0@@@</td>\n",
       "      <td>456.0</td>\n",
       "      <td>OC%38=C%39N=CC=CC%39=C(/N=N/C%40=NC%41=CC(C)=C...</td>\n",
       "    </tr>\n",
       "    <tr>\n",
       "      <th>386</th>\n",
       "      <td>What is the E isomer pi-pi* wavelength in nm o...</td>\n",
       "      <td>437.0@@@</td>\n",
       "      <td>437.0</td>\n",
       "      <td>OC%42=C%43N=CC=CC%43=C(/N=N/C%44=NC%45=CC=CC=C...</td>\n",
       "    </tr>\n",
       "    <tr>\n",
       "      <th>387</th>\n",
       "      <td>What is the E isomer pi-pi* wavelength in nm o...</td>\n",
       "      <td>545.0@@@</td>\n",
       "      <td>545.0</td>\n",
       "      <td>N#CC1C(SC(/N=N/C2=NC(C=CC([N+]([O-])=O)=C3)=C3...</td>\n",
       "    </tr>\n",
       "    <tr>\n",
       "      <th>388</th>\n",
       "      <td>What is the E isomer pi-pi* wavelength in nm o...</td>\n",
       "      <td>535.0@@@</td>\n",
       "      <td>535.0</td>\n",
       "      <td>N#Cc5c(c6ccc(Cl)cc6)c(/N=N/C7=NC(C=CC([N+]([O-...</td>\n",
       "    </tr>\n",
       "    <tr>\n",
       "      <th>389</th>\n",
       "      <td>What is the E isomer pi-pi* wavelength in nm o...</td>\n",
       "      <td>550.0@@@</td>\n",
       "      <td>550.0</td>\n",
       "      <td>N#CC9C(SC(/N=N/C%10=NC(C=CC([N+]([O-])=O)=C%11...</td>\n",
       "    </tr>\n",
       "  </tbody>\n",
       "</table>\n",
       "<p>390 rows × 4 columns</p>\n",
       "</div>"
      ],
      "text/plain": [
       "                                                prompt completion  label  \\\n",
       "0    What is the E isomer pi-pi* wavelength in nm o...   310.0@@@  310.0   \n",
       "1    What is the E isomer pi-pi* wavelength in nm o...   310.0@@@  310.0   \n",
       "2    What is the E isomer pi-pi* wavelength in nm o...   325.0@@@  325.0   \n",
       "3    What is the E isomer pi-pi* wavelength in nm o...   328.0@@@  328.0   \n",
       "4    What is the E isomer pi-pi* wavelength in nm o...   335.0@@@  335.0   \n",
       "..                                                 ...        ...    ...   \n",
       "385  What is the E isomer pi-pi* wavelength in nm o...   456.0@@@  456.0   \n",
       "386  What is the E isomer pi-pi* wavelength in nm o...   437.0@@@  437.0   \n",
       "387  What is the E isomer pi-pi* wavelength in nm o...   545.0@@@  545.0   \n",
       "388  What is the E isomer pi-pi* wavelength in nm o...   535.0@@@  535.0   \n",
       "389  What is the E isomer pi-pi* wavelength in nm o...   550.0@@@  550.0   \n",
       "\n",
       "                                        representation  \n",
       "0                         C[N]1C=CC(=N1)N=NC2=CC=CC=C2  \n",
       "1                         C[N]1C=NC(=N1)N=NC2=CC=CC=C2  \n",
       "2                      C[N]1C=C(C)C(=N1)N=NC2=CC=CC=C2  \n",
       "3                         C[N]1C=C(C=N1)N=NC2=CC=CC=C2  \n",
       "4                     C[N]1N=C(C)C(=C1C)N=NC2=CC=CC=C2  \n",
       "..                                                 ...  \n",
       "385  OC%38=C%39N=CC=CC%39=C(/N=N/C%40=NC%41=CC(C)=C...  \n",
       "386  OC%42=C%43N=CC=CC%43=C(/N=N/C%44=NC%45=CC=CC=C...  \n",
       "387  N#CC1C(SC(/N=N/C2=NC(C=CC([N+]([O-])=O)=C3)=C3...  \n",
       "388  N#Cc5c(c6ccc(Cl)cc6)c(/N=N/C7=NC(C=CC([N+]([O-...  \n",
       "389  N#CC9C(SC(/N=N/C%10=NC(C=CC([N+]([O-])=O)=C%11...  \n",
       "\n",
       "[390 rows x 4 columns]"
      ]
     },
     "execution_count": 8,
     "metadata": {},
     "output_type": "execute_result"
    }
   ],
   "source": [
    "formatted"
   ]
  },
  {
   "cell_type": "code",
   "execution_count": 9,
   "metadata": {},
   "outputs": [],
   "source": [
    "train, test = train_test_split(formatted, test_size=0.2)"
   ]
  },
  {
   "cell_type": "code",
   "execution_count": 12,
   "metadata": {},
   "outputs": [],
   "source": [
    "train_subset, val = train_test_split(train, train_size=0.2)"
   ]
  },
  {
   "cell_type": "code",
   "execution_count": 15,
   "metadata": {},
   "outputs": [],
   "source": [
    "tuner = Tuner()"
   ]
  },
  {
   "cell_type": "code",
   "execution_count": 16,
   "metadata": {},
   "outputs": [
    {
     "name": "stderr",
     "output_type": "stream",
     "text": [
      "Upload progress: 100%|██████████| 13.3k/13.3k [00:00<00:00, 7.86Mit/s]\n"
     ]
    },
    {
     "name": "stdout",
     "output_type": "stream",
     "text": [
      "Uploaded file from /Users/kevinmaikjablonka/git/kjappelbaum/gptchem/experiments/04_regression/photoswitch/out/20230117_232713/train.jsonl: file-Cx3yXvcQ3jSYKmfy9KndQ6ee\n"
     ]
    },
    {
     "name": "stderr",
     "output_type": "stream",
     "text": [
      "2023-01-17 23:27:24.709 | DEBUG    | gptchem.tuner:tune:186 - Requested fine tuning. {\n",
      "  \"created_at\": 1673994444,\n",
      "  \"events\": [\n",
      "    {\n",
      "      \"created_at\": 1673994444,\n",
      "      \"level\": \"info\",\n",
      "      \"message\": \"Created fine-tune: ft-9H4zpmFR59Q4xTlWhNM6lPa9\",\n",
      "      \"object\": \"fine-tune-event\"\n",
      "    }\n",
      "  ],\n",
      "  \"fine_tuned_model\": null,\n",
      "  \"hyperparams\": {\n",
      "    \"batch_size\": null,\n",
      "    \"learning_rate_multiplier\": null,\n",
      "    \"n_epochs\": 4,\n",
      "    \"prompt_loss_weight\": 0.01\n",
      "  },\n",
      "  \"id\": \"ft-9H4zpmFR59Q4xTlWhNM6lPa9\",\n",
      "  \"model\": \"ada\",\n",
      "  \"object\": \"fine-tune\",\n",
      "  \"organization_id\": \"org-TFRJXw3PPQocOWbu71eI2t9U\",\n",
      "  \"result_files\": [],\n",
      "  \"status\": \"pending\",\n",
      "  \"training_files\": [\n",
      "    {\n",
      "      \"bytes\": 13282,\n",
      "      \"created_at\": 1673994444,\n",
      "      \"filename\": \"/Users/kevinmaikjablonka/git/kjappelbaum/gptchem/experiments/04_regression/photoswitch/out/20230117_232713/train.jsonl\",\n",
      "      \"id\": \"file-Cx3yXvcQ3jSYKmfy9KndQ6ee\",\n",
      "      \"object\": \"file\",\n",
      "      \"purpose\": \"fine-tune\",\n",
      "      \"status\": \"uploaded\",\n",
      "      \"status_details\": null\n",
      "    }\n",
      "  ],\n",
      "  \"updated_at\": 1673994444,\n",
      "  \"validation_files\": []\n",
      "}\n",
      "2023-01-17 23:27:25.100 | DEBUG    | gptchem.tuner:get_ft_model_name:29 - Fine tuning status: pending\n",
      "2023-01-17 23:29:25.687 | DEBUG    | gptchem.tuner:get_ft_model_name:29 - Fine tuning status: pending\n",
      "2023-01-17 23:31:26.885 | DEBUG    | gptchem.tuner:get_ft_model_name:29 - Fine tuning status: pending\n",
      "2023-01-17 23:40:19.901 | DEBUG    | gptchem.tuner:get_ft_model_name:29 - Fine tuning status: pending\n",
      "2023-01-17 23:42:20.479 | DEBUG    | gptchem.tuner:get_ft_model_name:29 - Fine tuning status: pending\n",
      "2023-01-17 23:44:21.944 | DEBUG    | gptchem.tuner:get_ft_model_name:29 - Fine tuning status: pending\n",
      "2023-01-17 23:46:22.902 | DEBUG    | gptchem.tuner:get_ft_model_name:29 - Fine tuning status: pending\n",
      "2023-01-17 23:48:23.700 | DEBUG    | gptchem.tuner:get_ft_model_name:29 - Fine tuning status: pending\n",
      "2023-01-17 23:50:24.173 | DEBUG    | gptchem.tuner:get_ft_model_name:29 - Fine tuning status: pending\n",
      "2023-01-17 23:52:25.170 | DEBUG    | gptchem.tuner:get_ft_model_name:29 - Fine tuning status: pending\n",
      "2023-01-17 23:54:25.907 | DEBUG    | gptchem.tuner:get_ft_model_name:29 - Fine tuning status: pending\n",
      "2023-01-17 23:56:26.480 | DEBUG    | gptchem.tuner:get_ft_model_name:29 - Fine tuning status: pending\n",
      "2023-01-17 23:58:27.439 | DEBUG    | gptchem.tuner:get_ft_model_name:29 - Fine tuning status: pending\n",
      "2023-01-18 00:00:28.006 | DEBUG    | gptchem.tuner:get_ft_model_name:29 - Fine tuning status: pending\n",
      "2023-01-18 00:02:28.592 | DEBUG    | gptchem.tuner:get_ft_model_name:29 - Fine tuning status: succeeded\n",
      "2023-01-18 00:03:59.508 | DEBUG    | gptchem.tuner:tune:202 - Fine tuning completed. {'base_model': 'ada', 'batch_size': None, 'n_epochs': 4, 'learning_rate_multiplier': None, 'run_name': None, 'wandb_sync': True, 'outdir': '/Users/kevinmaikjablonka/git/kjappelbaum/gptchem/experiments/04_regression/photoswitch/out/20230117_232713', 'train_filename': '/Users/kevinmaikjablonka/git/kjappelbaum/gptchem/experiments/04_regression/photoswitch/out/20230117_232713/train.jsonl', 'valid_filename': 'None', 'model_name': 'ada:ft-lsmoepfl-2023-01-17-23-02-18', 'ft_id': 'ft-9H4zpmFR59Q4xTlWhNM6lPa9', 'date': '20230118_000359', 'train_file_id': 'file-Cx3yXvcQ3jSYKmfy9KndQ6ee', 'valid_file_id': None}\n"
     ]
    },
    {
     "name": "stdout",
     "output_type": "stream",
     "text": [
      "Fine-tune ft-PpWA3b7JADC4wTddEvVJP4VH has the status \"pending\" and will not be logged\n",
      "🎉 wandb sync completed successfully\n"
     ]
    }
   ],
   "source": [
    "tune_res = tuner.tune(train_subset)"
   ]
  },
  {
   "cell_type": "code",
   "execution_count": 17,
   "metadata": {},
   "outputs": [],
   "source": [
    "querier = Querier(tune_res['model_name'])"
   ]
  },
  {
   "cell_type": "code",
   "execution_count": 18,
   "metadata": {},
   "outputs": [],
   "source": [
    "completions = querier(test)"
   ]
  },
  {
   "cell_type": "code",
   "execution_count": null,
   "metadata": {},
   "outputs": [],
   "source": []
  }
 ],
 "metadata": {
  "kernelspec": {
   "display_name": "gptchem",
   "language": "python",
   "name": "python3"
  },
  "language_info": {
   "codemirror_mode": {
    "name": "ipython",
    "version": 3
   },
   "file_extension": ".py",
   "mimetype": "text/x-python",
   "name": "python",
   "nbconvert_exporter": "python",
   "pygments_lexer": "ipython3",
   "version": "3.9.15"
  },
  "orig_nbformat": 4,
  "vscode": {
   "interpreter": {
    "hash": "2f3b9074e5baa1438c27e2ea813f7f53b7516c83bd70840b6d64eae6820ee5df"
   }
  }
 },
 "nbformat": 4,
 "nbformat_minor": 2
}
