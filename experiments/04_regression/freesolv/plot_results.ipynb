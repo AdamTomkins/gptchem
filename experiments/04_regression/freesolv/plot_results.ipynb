{
 "cells": [
  {
   "cell_type": "code",
   "execution_count": 1,
   "metadata": {},
   "outputs": [],
   "source": [
    "%load_ext autoreload\n",
    "%autoreload 2"
   ]
  },
  {
   "cell_type": "code",
   "execution_count": 2,
   "metadata": {},
   "outputs": [],
   "source": [
    "from glob import glob\n",
    "\n",
    "import matplotlib as mpl\n",
    "import matplotlib.pyplot as plt\n",
    "import matplotx\n",
    "import numpy as np\n",
    "import pandas as pd\n",
    "from fastcore.xtras import load_pickle\n",
    "from scipy.stats import sem\n",
    "\n",
    "from gptchem.plotsettings import *\n",
    "\n",
    "%matplotlib inline"
   ]
  },
  {
   "cell_type": "code",
   "execution_count": 3,
   "metadata": {},
   "outputs": [
    {
     "name": "stderr",
     "output_type": "stream",
     "text": [
      "/var/folders/m9/_txh68y946s4pxy1x2wnd3lh0000gn/T/ipykernel_55737/446663461.py:3: FutureWarning: ['name'] did not aggregate successfully. If any error is raised this will raise in a future version of pandas. Drop these columns/ops to avoid this warning.\n",
      "  molclr[molclr[\"name\"] == \"FreeSolv\"].groupby([\"num_size\"]).agg([\"mean\", \"std\", sem])\n"
     ]
    }
   ],
   "source": [
    "molclr = pd.read_csv(\"../../03_classification/molclr_regression_res.csv\")\n",
    "molclr_grouped = (\n",
    "    molclr[molclr[\"name\"] == \"FreeSolv\"].groupby([\"num_size\"]).agg([\"mean\", \"std\", sem])\n",
    ")"
   ]
  },
  {
   "cell_type": "code",
   "execution_count": 4,
   "metadata": {},
   "outputs": [],
   "source": [
    "all_res = glob(\"out/**/*.pkl\")"
   ]
  },
  {
   "cell_type": "code",
   "execution_count": 5,
   "metadata": {},
   "outputs": [],
   "source": [
    "compiled_res = []\n",
    "compiled_gpr = []\n",
    "\n",
    "for res in all_res:\n",
    "    loaded = load_pickle(res)\n",
    "    repre = loaded[\"representation\"]\n",
    "    num_points = loaded[\"num_train_points\"]\n",
    "\n",
    "    metrics = {\n",
    "        \"representation\": loaded[\"representation\"],\n",
    "        \"num_train_points\": loaded[\"num_train_points\"],\n",
    "        \"mae\": loaded[\"mean_absolute_error\"],\n",
    "        \"max_error\": loaded[\"max_error\"],\n",
    "        \"mse\": loaded[\"mean_squared_error\"],\n",
    "    }\n",
    "\n",
    "    compiled_res.append(metrics)\n",
    "\n",
    "    gpr_metrics = {\n",
    "        \"num_train_points\": loaded[\"num_train_points\"],\n",
    "        \"mae\": loaded[\"gpr_baseline\"][\"mean_absolute_error\"],\n",
    "        \"max_error\": loaded[\"gpr_baseline\"][\"max_error\"],\n",
    "        \"mse\": loaded[\"gpr_baseline\"][\"mean_squared_error\"],\n",
    "    }\n",
    "\n",
    "    compiled_gpr.append(gpr_metrics)"
   ]
  },
  {
   "cell_type": "code",
   "execution_count": 6,
   "metadata": {},
   "outputs": [],
   "source": [
    "compiled_res = pd.DataFrame(compiled_res)\n",
    "compiled_gpr = pd.DataFrame(compiled_gpr)"
   ]
  },
  {
   "cell_type": "code",
   "execution_count": 7,
   "metadata": {},
   "outputs": [],
   "source": [
    "compiled_grouped_res = compiled_res.groupby([\"representation\", \"num_train_points\"]).agg(\n",
    "    [\"mean\", \"std\", sem]\n",
    ")"
   ]
  },
  {
   "cell_type": "code",
   "execution_count": 8,
   "metadata": {},
   "outputs": [],
   "source": [
    "compiled_gpr_grouped = compiled_gpr.groupby([\"num_train_points\"]).agg([\"mean\", \"std\", sem])"
   ]
  },
  {
   "cell_type": "code",
   "execution_count": 9,
   "metadata": {},
   "outputs": [
    {
     "data": {
      "text/html": [
       "<div>\n",
       "<style scoped>\n",
       "    .dataframe tbody tr th:only-of-type {\n",
       "        vertical-align: middle;\n",
       "    }\n",
       "\n",
       "    .dataframe tbody tr th {\n",
       "        vertical-align: top;\n",
       "    }\n",
       "\n",
       "    .dataframe thead tr th {\n",
       "        text-align: left;\n",
       "    }\n",
       "\n",
       "    .dataframe thead tr:last-of-type th {\n",
       "        text-align: right;\n",
       "    }\n",
       "</style>\n",
       "<table border=\"1\" class=\"dataframe\">\n",
       "  <thead>\n",
       "    <tr>\n",
       "      <th></th>\n",
       "      <th></th>\n",
       "      <th colspan=\"3\" halign=\"left\">mae</th>\n",
       "      <th colspan=\"3\" halign=\"left\">max_error</th>\n",
       "      <th colspan=\"3\" halign=\"left\">mse</th>\n",
       "    </tr>\n",
       "    <tr>\n",
       "      <th></th>\n",
       "      <th></th>\n",
       "      <th>mean</th>\n",
       "      <th>std</th>\n",
       "      <th>sem</th>\n",
       "      <th>mean</th>\n",
       "      <th>std</th>\n",
       "      <th>sem</th>\n",
       "      <th>mean</th>\n",
       "      <th>std</th>\n",
       "      <th>sem</th>\n",
       "    </tr>\n",
       "    <tr>\n",
       "      <th>representation</th>\n",
       "      <th>num_train_points</th>\n",
       "      <th></th>\n",
       "      <th></th>\n",
       "      <th></th>\n",
       "      <th></th>\n",
       "      <th></th>\n",
       "      <th></th>\n",
       "      <th></th>\n",
       "      <th></th>\n",
       "      <th></th>\n",
       "    </tr>\n",
       "  </thead>\n",
       "  <tbody>\n",
       "    <tr>\n",
       "      <th rowspan=\"5\" valign=\"top\">smiles</th>\n",
       "      <th>10</th>\n",
       "      <td>3.475614</td>\n",
       "      <td>0.312447</td>\n",
       "      <td>0.104149</td>\n",
       "      <td>20.153333</td>\n",
       "      <td>4.246192</td>\n",
       "      <td>1.415397</td>\n",
       "      <td>20.395465</td>\n",
       "      <td>3.386485</td>\n",
       "      <td>1.128828</td>\n",
       "    </tr>\n",
       "    <tr>\n",
       "      <th>20</th>\n",
       "      <td>3.257690</td>\n",
       "      <td>0.351225</td>\n",
       "      <td>0.124177</td>\n",
       "      <td>22.490000</td>\n",
       "      <td>4.162798</td>\n",
       "      <td>1.471771</td>\n",
       "      <td>19.121533</td>\n",
       "      <td>3.835100</td>\n",
       "      <td>1.355913</td>\n",
       "    </tr>\n",
       "    <tr>\n",
       "      <th>50</th>\n",
       "      <td>2.594349</td>\n",
       "      <td>0.138203</td>\n",
       "      <td>0.052236</td>\n",
       "      <td>19.887143</td>\n",
       "      <td>1.539012</td>\n",
       "      <td>0.581692</td>\n",
       "      <td>13.043110</td>\n",
       "      <td>0.863987</td>\n",
       "      <td>0.326556</td>\n",
       "    </tr>\n",
       "    <tr>\n",
       "      <th>100</th>\n",
       "      <td>2.278264</td>\n",
       "      <td>0.439438</td>\n",
       "      <td>0.196522</td>\n",
       "      <td>15.078000</td>\n",
       "      <td>4.763745</td>\n",
       "      <td>2.130412</td>\n",
       "      <td>10.327211</td>\n",
       "      <td>3.598889</td>\n",
       "      <td>1.609472</td>\n",
       "    </tr>\n",
       "    <tr>\n",
       "      <th>200</th>\n",
       "      <td>1.427512</td>\n",
       "      <td>0.068145</td>\n",
       "      <td>0.030475</td>\n",
       "      <td>10.250000</td>\n",
       "      <td>3.017441</td>\n",
       "      <td>1.349441</td>\n",
       "      <td>4.500120</td>\n",
       "      <td>0.324428</td>\n",
       "      <td>0.145089</td>\n",
       "    </tr>\n",
       "  </tbody>\n",
       "</table>\n",
       "</div>"
      ],
      "text/plain": [
       "                                      mae                      max_error  \\\n",
       "                                     mean       std       sem       mean   \n",
       "representation num_train_points                                            \n",
       "smiles         10                3.475614  0.312447  0.104149  20.153333   \n",
       "               20                3.257690  0.351225  0.124177  22.490000   \n",
       "               50                2.594349  0.138203  0.052236  19.887143   \n",
       "               100               2.278264  0.439438  0.196522  15.078000   \n",
       "               200               1.427512  0.068145  0.030475  10.250000   \n",
       "\n",
       "                                                           mse            \\\n",
       "                                      std       sem       mean       std   \n",
       "representation num_train_points                                            \n",
       "smiles         10                4.246192  1.415397  20.395465  3.386485   \n",
       "               20                4.162798  1.471771  19.121533  3.835100   \n",
       "               50                1.539012  0.581692  13.043110  0.863987   \n",
       "               100               4.763745  2.130412  10.327211  3.598889   \n",
       "               200               3.017441  1.349441   4.500120  0.324428   \n",
       "\n",
       "                                           \n",
       "                                      sem  \n",
       "representation num_train_points            \n",
       "smiles         10                1.128828  \n",
       "               20                1.355913  \n",
       "               50                0.326556  \n",
       "               100               1.609472  \n",
       "               200               0.145089  "
      ]
     },
     "execution_count": 9,
     "metadata": {},
     "output_type": "execute_result"
    }
   ],
   "source": [
    "compiled_grouped_res"
   ]
  },
  {
   "cell_type": "code",
   "execution_count": 10,
   "metadata": {},
   "outputs": [
    {
     "data": {
      "image/png": "[encoded data removed]",
      "text/plain": [
       "<Figure size 330x250 with 1 Axes>"
      ]
     },
     "metadata": {},
     "output_type": "display_data"
    }
   ],
   "source": [
    "# with plt.style.context(matplotx.styles.dufte):\n",
    "fig, ax = plt.subplots(1, 1)\n",
    "# ax.plot(\n",
    "#     compiled_grouped_res.loc[\"SELFIES\", :].index,\n",
    "#     compiled_grouped_res.loc[\"SELFIES\", :]['mae']['mean'],\n",
    "#     label='GPT SELFIES',\n",
    "#     marker='o'\n",
    "# )\n",
    "\n",
    "# ax.fill_between(\n",
    "#     compiled_grouped_res.loc[\"SELFIES\", :].index,\n",
    "#     compiled_grouped_res.loc[\"SELFIES\", :]['mae']['mean'] - compiled_grouped_res.loc[\"SELFIES\", :]['mae']['std'],\n",
    "#     compiled_grouped_res.loc[\"SELFIES\", :]['mae']['mean'] + compiled_grouped_res.loc[\"SELFIES\", :]['mae']['std'],\n",
    "# )\n",
    "\n",
    "ax.plot(\n",
    "    compiled_grouped_res.loc[\"smiles\", :].index,\n",
    "    compiled_grouped_res.loc[\"smiles\", :][\"mae\"][\"mean\"],\n",
    "    label=\"GPT SMILES\",\n",
    "    marker=\"o\",\n",
    ")\n",
    "\n",
    "ax.fill_between(\n",
    "    compiled_grouped_res.loc[\"smiles\", :].index,\n",
    "    compiled_grouped_res.loc[\"smiles\", :][\"mae\"][\"mean\"]\n",
    "    - compiled_grouped_res.loc[\"smiles\", :][\"mae\"][\"sem\"],\n",
    "    compiled_grouped_res.loc[\"smiles\", :][\"mae\"][\"mean\"]\n",
    "    + compiled_grouped_res.loc[\"smiles\", :][\"mae\"][\"sem\"],\n",
    "    alpha=0.5,\n",
    ")\n",
    "\n",
    "ax.plot(\n",
    "    compiled_gpr_grouped.loc[:].index,\n",
    "    compiled_gpr_grouped[\"mae\"][\"mean\"],\n",
    "    label=\"GPR baseline\",\n",
    "    marker=\"o\",\n",
    ")\n",
    "\n",
    "ax.fill_between(\n",
    "    compiled_gpr_grouped.loc[:].index,\n",
    "    compiled_gpr_grouped.loc[:][\"mae\"][\"mean\"] - compiled_gpr_grouped.loc[:][\"mae\"][\"sem\"],\n",
    "    compiled_gpr_grouped.loc[:][\"mae\"][\"mean\"] + compiled_gpr_grouped.loc[:][\"mae\"][\"sem\"],\n",
    "    alpha=0.5,\n",
    ")\n",
    "\n",
    "ax.plot(\n",
    "    molclr_grouped.loc[:].index,\n",
    "    molclr_grouped.loc[:][\"mae\"][\"mean\"],\n",
    "    label=\"MolCLR\",\n",
    "    marker=\"o\",\n",
    ")\n",
    "\n",
    "ax.fill_between(\n",
    "    molclr_grouped.loc[:].index,\n",
    "    molclr_grouped.loc[:][\"mae\"][\"mean\"] - molclr_grouped.loc[:][\"mae\"][\"sem\"],\n",
    "    molclr_grouped.loc[:][\"mae\"][\"mean\"] + molclr_grouped.loc[:][\"mae\"][\"sem\"],\n",
    "    alpha=0.5,\n",
    ")\n",
    "\n",
    "\n",
    "matplotx.line_labels()\n",
    "\n",
    "ax.set_xlabel(\"number of training points\", labelpad=4)\n",
    "ylabel_top(\"MAE / kcal mol$^{-1}$\", x_pad=0.03, y_pad=0.0)\n",
    "ax.set_xscale(\"log\")\n",
    "\n",
    "range_frame(\n",
    "    ax,\n",
    "    compiled_gpr_grouped.loc[:].index,\n",
    "    np.stack(\n",
    "        [\n",
    "            compiled_gpr_grouped.loc[:][\"mae\"][\"mean\"],\n",
    "            compiled_grouped_res.loc[\"smiles\", :][\"mae\"][\"mean\"]\n",
    "            + compiled_grouped_res.loc[\"smiles\", :][\"mae\"][\"sem\"],\n",
    "        ]\n",
    "    ).flatten(),\n",
    "    pad=0.01,\n",
    ")\n",
    "fig.savefig(\"freesolv_regression_res.pdf\", bbox_inches=\"tight\")"
   ]
  },
  {
   "cell_type": "code",
   "execution_count": null,
   "metadata": {},
   "outputs": [],
   "source": []
  },
  {
   "cell_type": "code",
   "execution_count": null,
   "metadata": {},
   "outputs": [],
   "source": []
  },
  {
   "cell_type": "code",
   "execution_count": null,
   "metadata": {},
   "outputs": [],
   "source": []
  },
  {
   "cell_type": "code",
   "execution_count": null,
   "metadata": {},
   "outputs": [],
   "source": []
  }
 ],
 "metadata": {
  "kernelspec": {
   "display_name": "gptchem",
   "language": "python",
   "name": "python3"
  },
  "language_info": {
   "codemirror_mode": {
    "name": "ipython",
    "version": 3
   },
   "file_extension": ".py",
   "mimetype": "text/x-python",
   "name": "python",
   "nbconvert_exporter": "python",
   "pygments_lexer": "ipython3",
   "version": "3.9.15"
  },
  "orig_nbformat": 4,
  "vscode": {
   "interpreter": {
    "hash": "2f3b9074e5baa1438c27e2ea813f7f53b7516c83bd70840b6d64eae6820ee5df"
   }
  }
 },
 "nbformat": 4,
 "nbformat_minor": 2
}
