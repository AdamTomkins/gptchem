{
 "cells": [
  {
   "cell_type": "code",
   "execution_count": 1,
   "metadata": {},
   "outputs": [],
   "source": [
    "%load_ext autoreload \n",
    "%autoreload 2"
   ]
  },
  {
   "cell_type": "code",
   "execution_count": 2,
   "metadata": {},
   "outputs": [],
   "source": [
    "from glob import glob \n",
    "from fastcore.xtras import load_pickle\n",
    "\n",
    "import matplotlib.pyplot as plt \n",
    "import matplotlib as mpl\n",
    "mpl.rcParams.update(mpl.rcParamsDefault)\n",
    "plt.style.use(['science', 'nature'])\n",
    "\n",
    "import matplotx\n",
    "\n",
    "import pandas as pd \n",
    "import numpy as np\n",
    "\n",
    "%matplotlib inline"
   ]
  },
  {
   "cell_type": "code",
   "execution_count": 3,
   "metadata": {},
   "outputs": [],
   "source": [
    "all_res = glob('out/**/*.pkl')"
   ]
  },
  {
   "cell_type": "code",
   "execution_count": 4,
   "metadata": {},
   "outputs": [],
   "source": [
    "compiled_res = []\n",
    "compiled_gpr = []\n",
    "\n",
    "for res in all_res:\n",
    "    loaded = load_pickle(res)\n",
    "    repre = loaded['representation']\n",
    "    num_points = loaded['num_train_points']\n",
    "\n",
    "    metrics = {\n",
    "        'representation': loaded['representation'],\n",
    "        'num_train_points': loaded['num_train_points'],\n",
    "        'mae': loaded['mean_absolute_error'],\n",
    "        'max_error': loaded['max_error'],\n",
    "        'mse': loaded['mean_squared_error']\n",
    "    }\n",
    "\n",
    "    compiled_res.append(metrics)\n",
    "\n",
    "\n",
    "    gpr_metrics = {\n",
    "        'num_train_points': loaded['num_train_points'],\n",
    "        'mae': loaded['gpr_baseline']['mean_absolute_error'],\n",
    "        'max_error': loaded['gpr_baseline']['max_error'],\n",
    "        'mse': loaded['gpr_baseline']['mean_squared_error']\n",
    "    }\n",
    "\n",
    "    compiled_gpr.append(gpr_metrics)"
   ]
  },
  {
   "cell_type": "code",
   "execution_count": 5,
   "metadata": {},
   "outputs": [],
   "source": [
    "compiled_res = pd.DataFrame(compiled_res)\n",
    "compiled_gpr = pd.DataFrame(compiled_gpr)"
   ]
  },
  {
   "cell_type": "code",
   "execution_count": 6,
   "metadata": {},
   "outputs": [],
   "source": [
    "compiled_grouped_res = compiled_res.groupby(['representation', 'num_train_points']).agg(['mean', 'std'])"
   ]
  },
  {
   "cell_type": "code",
   "execution_count": 7,
   "metadata": {},
   "outputs": [],
   "source": [
    "compiled_gpr_grouped = compiled_gpr.groupby(['num_train_points']).agg(['mean', 'std'])"
   ]
  },
  {
   "cell_type": "code",
   "execution_count": 8,
   "metadata": {},
   "outputs": [
    {
     "data": {
      "text/html": [
       "<div>\n",
       "<style scoped>\n",
       "    .dataframe tbody tr th:only-of-type {\n",
       "        vertical-align: middle;\n",
       "    }\n",
       "\n",
       "    .dataframe tbody tr th {\n",
       "        vertical-align: top;\n",
       "    }\n",
       "\n",
       "    .dataframe thead tr th {\n",
       "        text-align: left;\n",
       "    }\n",
       "\n",
       "    .dataframe thead tr:last-of-type th {\n",
       "        text-align: right;\n",
       "    }\n",
       "</style>\n",
       "<table border=\"1\" class=\"dataframe\">\n",
       "  <thead>\n",
       "    <tr>\n",
       "      <th></th>\n",
       "      <th></th>\n",
       "      <th colspan=\"2\" halign=\"left\">mae</th>\n",
       "      <th colspan=\"2\" halign=\"left\">max_error</th>\n",
       "      <th colspan=\"2\" halign=\"left\">mse</th>\n",
       "    </tr>\n",
       "    <tr>\n",
       "      <th></th>\n",
       "      <th></th>\n",
       "      <th>mean</th>\n",
       "      <th>std</th>\n",
       "      <th>mean</th>\n",
       "      <th>std</th>\n",
       "      <th>mean</th>\n",
       "      <th>std</th>\n",
       "    </tr>\n",
       "    <tr>\n",
       "      <th>representation</th>\n",
       "      <th>num_train_points</th>\n",
       "      <th></th>\n",
       "      <th></th>\n",
       "      <th></th>\n",
       "      <th></th>\n",
       "      <th></th>\n",
       "      <th></th>\n",
       "    </tr>\n",
       "  </thead>\n",
       "  <tbody>\n",
       "    <tr>\n",
       "      <th rowspan=\"5\" valign=\"top\">smiles</th>\n",
       "      <th>10</th>\n",
       "      <td>3.47992</td>\n",
       "      <td>0.358515</td>\n",
       "      <td>18.8460</td>\n",
       "      <td>3.625876</td>\n",
       "      <td>19.842545</td>\n",
       "      <td>2.986773</td>\n",
       "    </tr>\n",
       "    <tr>\n",
       "      <th>20</th>\n",
       "      <td>3.26048</td>\n",
       "      <td>0.384098</td>\n",
       "      <td>23.5550</td>\n",
       "      <td>0.751377</td>\n",
       "      <td>19.310904</td>\n",
       "      <td>3.173651</td>\n",
       "    </tr>\n",
       "    <tr>\n",
       "      <th>50</th>\n",
       "      <td>2.69529</td>\n",
       "      <td>0.061274</td>\n",
       "      <td>19.0825</td>\n",
       "      <td>1.650098</td>\n",
       "      <td>13.666322</td>\n",
       "      <td>0.494862</td>\n",
       "    </tr>\n",
       "    <tr>\n",
       "      <th>100</th>\n",
       "      <td>2.70338</td>\n",
       "      <td>0.292940</td>\n",
       "      <td>19.4550</td>\n",
       "      <td>0.176777</td>\n",
       "      <td>14.057225</td>\n",
       "      <td>2.123633</td>\n",
       "    </tr>\n",
       "    <tr>\n",
       "      <th>200</th>\n",
       "      <td>1.41032</td>\n",
       "      <td>0.103973</td>\n",
       "      <td>12.9050</td>\n",
       "      <td>1.859691</td>\n",
       "      <td>4.456968</td>\n",
       "      <td>0.124775</td>\n",
       "    </tr>\n",
       "  </tbody>\n",
       "</table>\n",
       "</div>"
      ],
      "text/plain": [
       "                                     mae           max_error            \\\n",
       "                                    mean       std      mean       std   \n",
       "representation num_train_points                                          \n",
       "smiles         10                3.47992  0.358515   18.8460  3.625876   \n",
       "               20                3.26048  0.384098   23.5550  0.751377   \n",
       "               50                2.69529  0.061274   19.0825  1.650098   \n",
       "               100               2.70338  0.292940   19.4550  0.176777   \n",
       "               200               1.41032  0.103973   12.9050  1.859691   \n",
       "\n",
       "                                       mse            \n",
       "                                      mean       std  \n",
       "representation num_train_points                       \n",
       "smiles         10                19.842545  2.986773  \n",
       "               20                19.310904  3.173651  \n",
       "               50                13.666322  0.494862  \n",
       "               100               14.057225  2.123633  \n",
       "               200                4.456968  0.124775  "
      ]
     },
     "execution_count": 8,
     "metadata": {},
     "output_type": "execute_result"
    }
   ],
   "source": [
    "compiled_grouped_res"
   ]
  },
  {
   "cell_type": "code",
   "execution_count": 9,
   "metadata": {},
   "outputs": [
    {
     "data": {
      "image/png": "[encoded data removed]",
      "text/plain": [
       "<Figure size 330x250 with 1 Axes>"
      ]
     },
     "metadata": {},
     "output_type": "display_data"
    }
   ],
   "source": [
    "with plt.style.context(matplotx.styles.dufte):\n",
    "    fig, ax = plt.subplots(1,1)\n",
    "    # ax.plot(\n",
    "    #     compiled_grouped_res.loc[\"SELFIES\", :].index, \n",
    "    #     compiled_grouped_res.loc[\"SELFIES\", :]['mae']['mean'], \n",
    "    #     label='GPT SELFIES', \n",
    "    #     marker='o'\n",
    "    # )\n",
    "\n",
    "    # ax.fill_between(\n",
    "    #     compiled_grouped_res.loc[\"SELFIES\", :].index, \n",
    "    #     compiled_grouped_res.loc[\"SELFIES\", :]['mae']['mean'] - compiled_grouped_res.loc[\"SELFIES\", :]['mae']['std'], \n",
    "    #     compiled_grouped_res.loc[\"SELFIES\", :]['mae']['mean'] + compiled_grouped_res.loc[\"SELFIES\", :]['mae']['std'], \n",
    "    # )\n",
    "\n",
    "    ax.plot(\n",
    "        compiled_grouped_res.loc[\"smiles\", :].index, \n",
    "        compiled_grouped_res.loc[\"smiles\", :]['mae']['mean'], \n",
    "        label='GPT SMILES',\n",
    "        marker='o'\n",
    "    )\n",
    "\n",
    "    ax.fill_between(\n",
    "        compiled_grouped_res.loc[\"smiles\", :].index, \n",
    "        compiled_grouped_res.loc[\"smiles\", :]['mae']['mean'] - compiled_grouped_res.loc[\"smiles\", :]['mae']['std'], \n",
    "        compiled_grouped_res.loc[\"smiles\", :]['mae']['mean'] + compiled_grouped_res.loc[\"smiles\", :]['mae']['std'], \n",
    "        alpha=.5\n",
    "    )\n",
    "\n",
    "    ax.plot(\n",
    "        compiled_gpr_grouped.loc[:].index, \n",
    "        compiled_gpr_grouped['mae']['mean'], \n",
    "        label='GPR baseline',\n",
    "        marker='o'\n",
    "    )\n",
    "\n",
    "    ax.fill_between(\n",
    "        compiled_gpr_grouped.loc[ :].index, \n",
    "        compiled_gpr_grouped.loc[:]['mae']['mean'] - compiled_gpr_grouped.loc[ :]['mae']['std'], \n",
    "        compiled_gpr_grouped.loc[ :]['mae']['mean'] + compiled_gpr_grouped.loc[ :]['mae']['std'], \n",
    "        alpha=.5\n",
    "    )\n",
    "\n",
    "    matplotx.line_labels(fontsize=8)\n",
    "\n",
    "    ax.set_xlabel('number of training points', labelpad=4)\n",
    "    matplotx.ylabel_top('MAE / eV')\n",
    "    ax.set_xscale('log')\n",
    "\n",
    "fig.savefig('freesolv_regression_res.pdf', bbox_inches='tight')\n"
   ]
  },
  {
   "cell_type": "code",
   "execution_count": null,
   "metadata": {},
   "outputs": [],
   "source": []
  },
  {
   "cell_type": "code",
   "execution_count": null,
   "metadata": {},
   "outputs": [],
   "source": []
  },
  {
   "cell_type": "code",
   "execution_count": null,
   "metadata": {},
   "outputs": [],
   "source": []
  }
 ],
 "metadata": {
  "kernelspec": {
   "display_name": "gptchem",
   "language": "python",
   "name": "python3"
  },
  "language_info": {
   "codemirror_mode": {
    "name": "ipython",
    "version": 3
   },
   "file_extension": ".py",
   "mimetype": "text/x-python",
   "name": "python",
   "nbconvert_exporter": "python",
   "pygments_lexer": "ipython3",
   "version": "3.9.15"
  },
  "orig_nbformat": 4,
  "vscode": {
   "interpreter": {
    "hash": "2f3b9074e5baa1438c27e2ea813f7f53b7516c83bd70840b6d64eae6820ee5df"
   }
  }
 },
 "nbformat": 4,
 "nbformat_minor": 2
}
