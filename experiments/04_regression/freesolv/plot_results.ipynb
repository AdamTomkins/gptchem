{
 "cells": [
  {
   "cell_type": "code",
   "execution_count": 10,
   "metadata": {},
   "outputs": [
    {
     "name": "stdout",
     "output_type": "stream",
     "text": [
      "The autoreload extension is already loaded. To reload it, use:\n",
      "  %reload_ext autoreload\n"
     ]
    }
   ],
   "source": [
    "%load_ext autoreload\n",
    "%autoreload 2"
   ]
  },
  {
   "cell_type": "code",
   "execution_count": 11,
   "metadata": {},
   "outputs": [],
   "source": [
    "from glob import glob\n",
    "\n",
    "import matplotlib as mpl\n",
    "import matplotlib.pyplot as plt\n",
    "from fastcore.xtras import load_pickle\n",
    "\n",
    "import matplotx\n",
    "import numpy as np\n",
    "import pandas as pd\n",
    "\n",
    "from gptchem.plotsettings import *\n",
    "\n",
    "%matplotlib inline"
   ]
  },
  {
   "cell_type": "code",
   "execution_count": 12,
   "metadata": {},
   "outputs": [],
   "source": [
    "all_res = glob(\"out/**/*.pkl\")"
   ]
  },
  {
   "cell_type": "code",
   "execution_count": 13,
   "metadata": {},
   "outputs": [],
   "source": [
    "compiled_res = []\n",
    "compiled_gpr = []\n",
    "\n",
    "for res in all_res:\n",
    "    loaded = load_pickle(res)\n",
    "    repre = loaded[\"representation\"]\n",
    "    num_points = loaded[\"num_train_points\"]\n",
    "\n",
    "    metrics = {\n",
    "        \"representation\": loaded[\"representation\"],\n",
    "        \"num_train_points\": loaded[\"num_train_points\"],\n",
    "        \"mae\": loaded[\"mean_absolute_error\"],\n",
    "        \"max_error\": loaded[\"max_error\"],\n",
    "        \"mse\": loaded[\"mean_squared_error\"],\n",
    "    }\n",
    "\n",
    "    compiled_res.append(metrics)\n",
    "\n",
    "    gpr_metrics = {\n",
    "        \"num_train_points\": loaded[\"num_train_points\"],\n",
    "        \"mae\": loaded[\"gpr_baseline\"][\"mean_absolute_error\"],\n",
    "        \"max_error\": loaded[\"gpr_baseline\"][\"max_error\"],\n",
    "        \"mse\": loaded[\"gpr_baseline\"][\"mean_squared_error\"],\n",
    "    }\n",
    "\n",
    "    compiled_gpr.append(gpr_metrics)"
   ]
  },
  {
   "cell_type": "code",
   "execution_count": 14,
   "metadata": {},
   "outputs": [],
   "source": [
    "compiled_res = pd.DataFrame(compiled_res)\n",
    "compiled_gpr = pd.DataFrame(compiled_gpr)"
   ]
  },
  {
   "cell_type": "code",
   "execution_count": 15,
   "metadata": {},
   "outputs": [],
   "source": [
    "compiled_grouped_res = compiled_res.groupby([\"representation\", \"num_train_points\"]).agg(\n",
    "    [\"mean\", \"std\"]\n",
    ")"
   ]
  },
  {
   "cell_type": "code",
   "execution_count": 16,
   "metadata": {},
   "outputs": [],
   "source": [
    "compiled_gpr_grouped = compiled_gpr.groupby([\"num_train_points\"]).agg([\"mean\", \"std\"])"
   ]
  },
  {
   "cell_type": "code",
   "execution_count": 17,
   "metadata": {},
   "outputs": [
    {
     "data": {
      "text/html": [
       "<div>\n",
       "<style scoped>\n",
       "    .dataframe tbody tr th:only-of-type {\n",
       "        vertical-align: middle;\n",
       "    }\n",
       "\n",
       "    .dataframe tbody tr th {\n",
       "        vertical-align: top;\n",
       "    }\n",
       "\n",
       "    .dataframe thead tr th {\n",
       "        text-align: left;\n",
       "    }\n",
       "\n",
       "    .dataframe thead tr:last-of-type th {\n",
       "        text-align: right;\n",
       "    }\n",
       "</style>\n",
       "<table border=\"1\" class=\"dataframe\">\n",
       "  <thead>\n",
       "    <tr>\n",
       "      <th></th>\n",
       "      <th></th>\n",
       "      <th colspan=\"2\" halign=\"left\">mae</th>\n",
       "      <th colspan=\"2\" halign=\"left\">max_error</th>\n",
       "      <th colspan=\"2\" halign=\"left\">mse</th>\n",
       "    </tr>\n",
       "    <tr>\n",
       "      <th></th>\n",
       "      <th></th>\n",
       "      <th>mean</th>\n",
       "      <th>std</th>\n",
       "      <th>mean</th>\n",
       "      <th>std</th>\n",
       "      <th>mean</th>\n",
       "      <th>std</th>\n",
       "    </tr>\n",
       "    <tr>\n",
       "      <th>representation</th>\n",
       "      <th>num_train_points</th>\n",
       "      <th></th>\n",
       "      <th></th>\n",
       "      <th></th>\n",
       "      <th></th>\n",
       "      <th></th>\n",
       "      <th></th>\n",
       "    </tr>\n",
       "  </thead>\n",
       "  <tbody>\n",
       "    <tr>\n",
       "      <th rowspan=\"5\" valign=\"top\">smiles</th>\n",
       "      <th>10</th>\n",
       "      <td>3.475614</td>\n",
       "      <td>0.312447</td>\n",
       "      <td>20.153333</td>\n",
       "      <td>4.246192</td>\n",
       "      <td>20.395465</td>\n",
       "      <td>3.386485</td>\n",
       "    </tr>\n",
       "    <tr>\n",
       "      <th>20</th>\n",
       "      <td>3.335497</td>\n",
       "      <td>0.295660</td>\n",
       "      <td>23.942857</td>\n",
       "      <td>0.718534</td>\n",
       "      <td>20.176103</td>\n",
       "      <td>2.603758</td>\n",
       "    </tr>\n",
       "    <tr>\n",
       "      <th>50</th>\n",
       "      <td>2.594349</td>\n",
       "      <td>0.138203</td>\n",
       "      <td>19.887143</td>\n",
       "      <td>1.539012</td>\n",
       "      <td>13.043110</td>\n",
       "      <td>0.863987</td>\n",
       "    </tr>\n",
       "    <tr>\n",
       "      <th>100</th>\n",
       "      <td>2.278264</td>\n",
       "      <td>0.439438</td>\n",
       "      <td>15.078000</td>\n",
       "      <td>4.763745</td>\n",
       "      <td>10.327211</td>\n",
       "      <td>3.598889</td>\n",
       "    </tr>\n",
       "    <tr>\n",
       "      <th>200</th>\n",
       "      <td>1.427512</td>\n",
       "      <td>0.068145</td>\n",
       "      <td>10.250000</td>\n",
       "      <td>3.017441</td>\n",
       "      <td>4.500120</td>\n",
       "      <td>0.324428</td>\n",
       "    </tr>\n",
       "  </tbody>\n",
       "</table>\n",
       "</div>"
      ],
      "text/plain": [
       "                                      mae            max_error            \\\n",
       "                                     mean       std       mean       std   \n",
       "representation num_train_points                                            \n",
       "smiles         10                3.475614  0.312447  20.153333  4.246192   \n",
       "               20                3.335497  0.295660  23.942857  0.718534   \n",
       "               50                2.594349  0.138203  19.887143  1.539012   \n",
       "               100               2.278264  0.439438  15.078000  4.763745   \n",
       "               200               1.427512  0.068145  10.250000  3.017441   \n",
       "\n",
       "                                       mse            \n",
       "                                      mean       std  \n",
       "representation num_train_points                       \n",
       "smiles         10                20.395465  3.386485  \n",
       "               20                20.176103  2.603758  \n",
       "               50                13.043110  0.863987  \n",
       "               100               10.327211  3.598889  \n",
       "               200                4.500120  0.324428  "
      ]
     },
     "execution_count": 17,
     "metadata": {},
     "output_type": "execute_result"
    }
   ],
   "source": [
    "compiled_grouped_res"
   ]
  },
  {
   "cell_type": "code",
   "execution_count": 50,
   "metadata": {},
   "outputs": [
    {
     "data": {
      "image/png": "[encoded data removed]",
      "text/plain": [
       "<Figure size 330x250 with 1 Axes>"
      ]
     },
     "metadata": {},
     "output_type": "display_data"
    }
   ],
   "source": [
    "# with plt.style.context(matplotx.styles.dufte):\n",
    "fig, ax = plt.subplots(1, 1)\n",
    "# ax.plot(\n",
    "#     compiled_grouped_res.loc[\"SELFIES\", :].index,\n",
    "#     compiled_grouped_res.loc[\"SELFIES\", :]['mae']['mean'],\n",
    "#     label='GPT SELFIES',\n",
    "#     marker='o'\n",
    "# )\n",
    "\n",
    "# ax.fill_between(\n",
    "#     compiled_grouped_res.loc[\"SELFIES\", :].index,\n",
    "#     compiled_grouped_res.loc[\"SELFIES\", :]['mae']['mean'] - compiled_grouped_res.loc[\"SELFIES\", :]['mae']['std'],\n",
    "#     compiled_grouped_res.loc[\"SELFIES\", :]['mae']['mean'] + compiled_grouped_res.loc[\"SELFIES\", :]['mae']['std'],\n",
    "# )\n",
    "\n",
    "ax.plot(\n",
    "    compiled_grouped_res.loc[\"smiles\", :].index,\n",
    "    compiled_grouped_res.loc[\"smiles\", :][\"mae\"][\"mean\"],\n",
    "    label=\"GPT SMILES\",\n",
    "    marker=\"o\",\n",
    ")\n",
    "\n",
    "ax.fill_between(\n",
    "    compiled_grouped_res.loc[\"smiles\", :].index,\n",
    "    compiled_grouped_res.loc[\"smiles\", :][\"mae\"][\"mean\"]\n",
    "    - compiled_grouped_res.loc[\"smiles\", :][\"mae\"][\"std\"],\n",
    "    compiled_grouped_res.loc[\"smiles\", :][\"mae\"][\"mean\"]\n",
    "    + compiled_grouped_res.loc[\"smiles\", :][\"mae\"][\"std\"],\n",
    "    alpha=0.5,\n",
    ")\n",
    "\n",
    "ax.plot(\n",
    "    compiled_gpr_grouped.loc[:].index,\n",
    "    compiled_gpr_grouped[\"mae\"][\"mean\"],\n",
    "    label=\"GPR baseline\",\n",
    "    marker=\"o\",\n",
    ")\n",
    "\n",
    "ax.fill_between(\n",
    "    compiled_gpr_grouped.loc[:].index,\n",
    "    compiled_gpr_grouped.loc[:][\"mae\"][\"mean\"] - compiled_gpr_grouped.loc[:][\"mae\"][\"std\"],\n",
    "    compiled_gpr_grouped.loc[:][\"mae\"][\"mean\"] + compiled_gpr_grouped.loc[:][\"mae\"][\"std\"],\n",
    "    alpha=0.5,\n",
    ")\n",
    "\n",
    "matplotx.line_labels()\n",
    "\n",
    "ax.set_xlabel(\"number of training points\", labelpad=4)\n",
    "ylabel_top(\"MAE / kcal mol$^{-1}$\", x_pad=0.03, y_pad=0.1)\n",
    "ax.set_xscale(\"log\")\n",
    "\n",
    "range_frame(\n",
    "    ax,\n",
    "    compiled_gpr_grouped.loc[:].index,\n",
    "    np.stack(\n",
    "        [compiled_gpr_grouped.loc[:][\"mae\"][\"mean\"],  compiled_grouped_res.loc[\"smiles\", :][\"mae\"][\"mean\"]\n",
    "    + compiled_grouped_res.loc[\"smiles\", :][\"mae\"][\"std\"],]\n",
    "    ).flatten(), pad=0.01\n",
    ")\n",
    "fig.savefig(\"freesolv_regression_res.pdf\", bbox_inches=\"tight\")"
   ]
  },
  {
   "cell_type": "code",
   "execution_count": null,
   "metadata": {},
   "outputs": [],
   "source": []
  },
  {
   "cell_type": "code",
   "execution_count": null,
   "metadata": {},
   "outputs": [],
   "source": []
  },
  {
   "cell_type": "code",
   "execution_count": null,
   "metadata": {},
   "outputs": [],
   "source": []
  }
 ],
 "metadata": {
  "kernelspec": {
   "display_name": "gptchem",
   "language": "python",
   "name": "python3"
  },
  "language_info": {
   "codemirror_mode": {
    "name": "ipython",
    "version": 3
   },
   "file_extension": ".py",
   "mimetype": "text/x-python",
   "name": "python",
   "nbconvert_exporter": "python",
   "pygments_lexer": "ipython3",
   "version": "3.9.15"
  },
  "orig_nbformat": 4,
  "vscode": {
   "interpreter": {
    "hash": "2f3b9074e5baa1438c27e2ea813f7f53b7516c83bd70840b6d64eae6820ee5df"
   }
  }
 },
 "nbformat": 4,
 "nbformat_minor": 2
}
