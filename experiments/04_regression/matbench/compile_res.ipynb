{
 "cells": [
  {
   "cell_type": "code",
   "execution_count": 3,
   "metadata": {},
   "outputs": [],
   "source": [
    "from fastcore.xtras import load_pickle\n",
    "import pandas as pd\n",
    "from matbench.bench import MatbenchBenchmark\n",
    "import json\n",
    "import numpy as np"
   ]
  },
  {
   "cell_type": "code",
   "execution_count": 7,
   "metadata": {},
   "outputs": [
    {
     "name": "stdout",
     "output_type": "stream",
     "text": [
      "2023-01-29 12:15:59 WARNING  Warning! Versions not matching: (data file has version 0.1.0, this package is 0.6).\n",
      "2023-01-29 12:15:59 INFO     Initialized benchmark 'matbench_v0.1' with 13 tasks: \n",
      "['matbench_dielectric',\n",
      " 'matbench_expt_gap',\n",
      " 'matbench_expt_is_metal',\n",
      " 'matbench_glass',\n",
      " 'matbench_jdft2d',\n",
      " 'matbench_log_gvrh',\n",
      " 'matbench_log_kvrh',\n",
      " 'matbench_mp_e_form',\n",
      " 'matbench_mp_gap',\n",
      " 'matbench_mp_is_metal',\n",
      " 'matbench_perovskites',\n",
      " 'matbench_phonons',\n",
      " 'matbench_steels']\n",
      "2023-01-29 12:16:00 WARNING  To add new data to this benchmark, the benchmark must be loaded with .load(). Alternatively, load individual tasks with MatbenchTask.load().\n"
     ]
    }
   ],
   "source": [
    "mb = MatbenchBenchmark.from_file('/Users/kevinmaikjablonka/git/kjappelbaum/matbench/benchmarks/matbench_v0.1_dummy/results.json.gz')"
   ]
  },
  {
   "cell_type": "code",
   "execution_count": 9,
   "metadata": {},
   "outputs": [
    {
     "name": "stdout",
     "output_type": "stream",
     "text": [
      "mae\n",
      "\\num{229.74 \\pm 9.7}\n",
      "rmse\n",
      "\\num{301.22 \\pm 21.46}\n",
      "mape\n",
      "\\num{0.16 \\pm 0.0}\n",
      "max_error\n",
      "\\num{1032.32 \\pm 59.36}\n"
     ]
    }
   ],
   "source": [
    "for task in mb.tasks:\n",
    "    if task.dataset_name == 'matbench_steels':\n",
    "        for k, v in task.scores.items():\n",
    "            print(k)\n",
    "            print(\"\\\\num{\" + f\"{np.round(v['mean'], 2)} \" + \"\\\\pm \" + f\"{np.round(v['std'], 2)}\" + \"}\")"
   ]
  },
  {
   "cell_type": "code",
   "execution_count": null,
   "metadata": {},
   "outputs": [],
   "source": []
  }
 ],
 "metadata": {
  "kernelspec": {
   "display_name": "gptchem",
   "language": "python",
   "name": "python3"
  },
  "language_info": {
   "codemirror_mode": {
    "name": "ipython",
    "version": 3
   },
   "file_extension": ".py",
   "mimetype": "text/x-python",
   "name": "python",
   "nbconvert_exporter": "python",
   "pygments_lexer": "ipython3",
   "version": "3.9.15"
  },
  "orig_nbformat": 4,
  "vscode": {
   "interpreter": {
    "hash": "2f3b9074e5baa1438c27e2ea813f7f53b7516c83bd70840b6d64eae6820ee5df"
   }
  }
 },
 "nbformat": 4,
 "nbformat_minor": 2
}
