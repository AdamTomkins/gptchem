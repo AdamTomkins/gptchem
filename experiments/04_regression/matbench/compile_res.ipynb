{
 "cells": [
  {
   "cell_type": "code",
   "execution_count": 2,
   "metadata": {},
   "outputs": [],
   "source": [
    "import json\n",
    "\n",
    "import numpy as np\n",
    "import pandas as pd\n",
    "from fastcore.xtras import load_pickle\n",
    "from matbench.bench import MatbenchBenchmark"
   ]
  },
  {
   "cell_type": "code",
   "execution_count": 11,
   "metadata": {},
   "outputs": [
    {
     "name": "stdout",
     "output_type": "stream",
     "text": [
      "2023-01-30 19:09:00 WARNING  Warning! Versions not matching: (data file has version 0.5, this package is 0.6).\n",
      "2023-01-30 19:09:00 INFO     Initialized benchmark 'matbench_v0.1' with 1 tasks: \n",
      "['matbench_steels']\n",
      "2023-01-30 19:09:00 WARNING  To add new data to this benchmark, the benchmark must be loaded with .load(). Alternatively, load individual tasks with MatbenchTask.load().\n"
     ]
    }
   ],
   "source": [
    "mb = MatbenchBenchmark.from_file(\n",
    "    \"/Users/kevinmaikjablonka/git/kjappelbaum/matbench/benchmarks/matbench_v0.1_RFLR/results.json.gz\"\n",
    ")"
   ]
  },
  {
   "cell_type": "code",
   "execution_count": 12,
   "metadata": {},
   "outputs": [
    {
     "name": "stdout",
     "output_type": "stream",
     "text": [
      "mae\n",
      "\\num{90.59 \\pm 6.71}\n",
      "rmse\n",
      "\\num{128.09 \\pm 10.09}\n",
      "mape\n",
      "\\num{0.06 \\pm 0.01}\n",
      "max_error\n",
      "\\num{422.71 \\pm 72.06}\n"
     ]
    }
   ],
   "source": [
    "for task in mb.tasks:\n",
    "    if task.dataset_name == \"matbench_steels\":\n",
    "        for k, v in task.scores.items():\n",
    "            print(k)\n",
    "            print(\n",
    "                \"\\\\num{\" + f\"{np.round(v['mean'], 2)} \" + \"\\\\pm \" + f\"{np.round(v['std'], 2)}\" + \"}\"\n",
    "            )"
   ]
  },
  {
   "cell_type": "code",
   "execution_count": null,
   "metadata": {},
   "outputs": [],
   "source": []
  },
  {
   "cell_type": "code",
   "execution_count": null,
   "metadata": {},
   "outputs": [],
   "source": []
  }
 ],
 "metadata": {
  "kernelspec": {
   "display_name": "gptchem",
   "language": "python",
   "name": "python3"
  },
  "language_info": {
   "codemirror_mode": {
    "name": "ipython",
    "version": 3
   },
   "file_extension": ".py",
   "mimetype": "text/x-python",
   "name": "python",
   "nbconvert_exporter": "python",
   "pygments_lexer": "ipython3",
   "version": "3.9.15"
  },
  "orig_nbformat": 4,
  "vscode": {
   "interpreter": {
    "hash": "2f3b9074e5baa1438c27e2ea813f7f53b7516c83bd70840b6d64eae6820ee5df"
   }
  }
 },
 "nbformat": 4,
 "nbformat_minor": 2
}
