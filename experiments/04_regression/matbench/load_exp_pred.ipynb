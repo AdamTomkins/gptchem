{
 "cells": [
  {
   "cell_type": "code",
   "execution_count": 1,
   "metadata": {},
   "outputs": [],
   "source": [
    "%load_ext autoreload\n",
    "%autoreload 2"
   ]
  },
  {
   "cell_type": "code",
   "execution_count": 2,
   "metadata": {},
   "outputs": [],
   "source": [
    "import matplotlib.pyplot as plt\n",
    "from fastcore.xtras import load_pickle\n",
    "from loguru import logger\n",
    "from matbench.bench import MatbenchBenchmark\n",
    "from matbench.constants import CLF_KEY\n",
    "\n",
    "from gptchem.gpt_regressor import GPTRegressor\n",
    "from gptchem.tuner import Tuner\n",
    "\n",
    "logger.enable(\"gptchem\")"
   ]
  },
  {
   "cell_type": "code",
   "execution_count": 3,
   "metadata": {},
   "outputs": [
    {
     "name": "stdout",
     "output_type": "stream",
     "text": [
      "2023-02-03 17:54:56 INFO     Initialized benchmark 'matbench_v0.1' with 1 tasks: \n",
      "['matbench_expt_gap']\n"
     ]
    }
   ],
   "source": [
    "mb = MatbenchBenchmark(\n",
    "    autoload=True,\n",
    "    subset=[\n",
    "        \"matbench_expt_gap\",\n",
    "        # \"matbench_steels\",\n",
    "    ],\n",
    ")"
   ]
  },
  {
   "cell_type": "code",
   "execution_count": 4,
   "metadata": {},
   "outputs": [],
   "source": [
    "predictions = load_pickle(\"expt_gap_predictions.pkl\")"
   ]
  },
  {
   "cell_type": "code",
   "execution_count": 11,
   "metadata": {},
   "outputs": [
    {
     "name": "stdout",
     "output_type": "stream",
     "text": [
      "2023-02-03 17:57:50 INFO     Dataset matbench_expt_gap already loaded; not reloading dataset.\n",
      "0\n",
      "2023-02-03 17:57:50 INFO     Recorded fold matbench_expt_gap-0 successfully.\n",
      "1\n",
      "2023-02-03 17:57:50 INFO     Recorded fold matbench_expt_gap-1 successfully.\n",
      "2\n",
      "2023-02-03 17:57:50 INFO     Recorded fold matbench_expt_gap-2 successfully.\n",
      "3\n",
      "2023-02-03 17:57:50 INFO     Recorded fold matbench_expt_gap-3 successfully.\n",
      "4\n",
      "2023-02-03 17:57:50 ERROR    Fold number 4 already recorded! Aborting record...\n"
     ]
    }
   ],
   "source": [
    "for task in mb.tasks:\n",
    "    task.load()\n",
    "\n",
    "    for fold_ind, fold in enumerate(task.folds):\n",
    "        print(fold)\n",
    "        # if task.is_recorded[fold_ind]:\n",
    "        #     print(f\"Skipping fold {fold_ind} of {task.dataset_name}\")\n",
    "        #     continue\n",
    "        pred = predictions[task.dataset_name][fold_ind]\n",
    "        train_inputs, train_outputs = task.get_train_and_val_data(fold)\n",
    "\n",
    "        task.record(fold, pred)\n",
    "    # print(f\"{task.dataset_name}: MAE  {task.scores['mae']['mean']}\")"
   ]
  },
  {
   "cell_type": "code",
   "execution_count": 12,
   "metadata": {},
   "outputs": [
    {
     "data": {
      "text/plain": [
       "{'mae': {'mean': 0.4586179554359628,\n",
       "  'max': 0.4895222584147666,\n",
       "  'min': 0.42375678610206297,\n",
       "  'std': 0.022901110237595775},\n",
       " 'rmse': {'mean': 1.063540594511536,\n",
       "  'max': 1.1893601323526728,\n",
       "  'min': 0.9374768039113706,\n",
       "  'std': 0.08520990262530455},\n",
       " 'mape': {'mean': 0.5209245710332703,\n",
       "  'max': 0.6324040176400094,\n",
       "  'min': 0.4472022659467109,\n",
       "  'std': 0.06905755822418772},\n",
       " 'max_error': {'mean': 9.366,\n",
       "  'max': 11.7,\n",
       "  'min': 6.53,\n",
       "  'std': 1.9596489481537247},\n",
       " '_ipython_canary_method_should_not_exist_': {}}"
      ]
     },
     "execution_count": 12,
     "metadata": {},
     "output_type": "execute_result"
    }
   ],
   "source": [
    "task.scores"
   ]
  },
  {
   "cell_type": "code",
   "execution_count": null,
   "metadata": {},
   "outputs": [],
   "source": []
  }
 ],
 "metadata": {
  "kernelspec": {
   "display_name": "gptchem",
   "language": "python",
   "name": "python3"
  },
  "language_info": {
   "codemirror_mode": {
    "name": "ipython",
    "version": 3
   },
   "file_extension": ".py",
   "mimetype": "text/x-python",
   "name": "python",
   "nbconvert_exporter": "python",
   "pygments_lexer": "ipython3",
   "version": "3.9.15"
  },
  "orig_nbformat": 4,
  "vscode": {
   "interpreter": {
    "hash": "2f3b9074e5baa1438c27e2ea813f7f53b7516c83bd70840b6d64eae6820ee5df"
   }
  }
 },
 "nbformat": 4,
 "nbformat_minor": 2
}
