{
 "cells": [
  {
   "cell_type": "code",
   "execution_count": 1,
   "metadata": {},
   "outputs": [],
   "source": [
    "%load_ext autoreload\n",
    "%autoreload 2"
   ]
  },
  {
   "cell_type": "code",
   "execution_count": 10,
   "metadata": {},
   "outputs": [],
   "source": [
    "import pandas as pd\n",
    "import matplotlib.pyplot as plt \n",
    "import matplotx\n",
    "plt.style.use(['science', 'nature'])\n",
    "%matplotlib inline\n",
    "\n",
    "from sklearn.model_selection import train_test_split"
   ]
  },
  {
   "cell_type": "code",
   "execution_count": 3,
   "metadata": {},
   "outputs": [],
   "source": [
    "df = pd.read_csv(\"BAN_solvents_20230126.csv\")"
   ]
  },
  {
   "cell_type": "code",
   "execution_count": 4,
   "metadata": {},
   "outputs": [
    {
     "data": {
      "text/html": [
       "<div>\n",
       "<style scoped>\n",
       "    .dataframe tbody tr th:only-of-type {\n",
       "        vertical-align: middle;\n",
       "    }\n",
       "\n",
       "    .dataframe tbody tr th {\n",
       "        vertical-align: top;\n",
       "    }\n",
       "\n",
       "    .dataframe thead th {\n",
       "        text-align: right;\n",
       "    }\n",
       "</style>\n",
       "<table border=\"1\" class=\"dataframe\">\n",
       "  <thead>\n",
       "    <tr style=\"text-align: right;\">\n",
       "      <th></th>\n",
       "      <th>ligand name</th>\n",
       "      <th>T [°C]</th>\n",
       "      <th>t [h]</th>\n",
       "      <th>solvent1</th>\n",
       "      <th>V/V solvent1 [ ]</th>\n",
       "      <th>solvent2</th>\n",
       "      <th>V/V solvent2 [ ]</th>\n",
       "      <th>solvent3</th>\n",
       "      <th>V/V solvent3 [ ]</th>\n",
       "      <th>inorganic salt</th>\n",
       "      <th>metal</th>\n",
       "      <th>additional</th>\n",
       "      <th>reported</th>\n",
       "      <th>outcome</th>\n",
       "      <th>score</th>\n",
       "    </tr>\n",
       "  </thead>\n",
       "  <tbody>\n",
       "    <tr>\n",
       "      <th>0</th>\n",
       "      <td>(1R,3S)-1,2,2-trimethyl-3-(pyridin-4-ylcarbamo...</td>\n",
       "      <td>100.0</td>\n",
       "      <td>48.0</td>\n",
       "      <td>methanol</td>\n",
       "      <td>0.86</td>\n",
       "      <td>water</td>\n",
       "      <td>0.14</td>\n",
       "      <td>NaN</td>\n",
       "      <td>0.00</td>\n",
       "      <td>Zn(NO3)2·6H2O</td>\n",
       "      <td>Zn</td>\n",
       "      <td>NaN</td>\n",
       "      <td>10.1039/c2jm15604k</td>\n",
       "      <td>successful</td>\n",
       "      <td>1.0</td>\n",
       "    </tr>\n",
       "    <tr>\n",
       "      <th>1</th>\n",
       "      <td>(1R, 3S)-1,2,2-trimethyl-3-(pyridin-3-ylmethy...</td>\n",
       "      <td>100.0</td>\n",
       "      <td>30.0</td>\n",
       "      <td>water</td>\n",
       "      <td>1.00</td>\n",
       "      <td>NaN</td>\n",
       "      <td>0.00</td>\n",
       "      <td>NaN</td>\n",
       "      <td>0.00</td>\n",
       "      <td>CdSO4·8/3H2O</td>\n",
       "      <td>Cd</td>\n",
       "      <td>NaOH</td>\n",
       "      <td>10.1016/j.inoche.2007.01.001</td>\n",
       "      <td>successful</td>\n",
       "      <td>1.0</td>\n",
       "    </tr>\n",
       "    <tr>\n",
       "      <th>2</th>\n",
       "      <td>1,2,2-trimethyl-3-(pyridin-4-ylcarbamoyl)cyclo...</td>\n",
       "      <td>120.0</td>\n",
       "      <td>48.0</td>\n",
       "      <td>DMF</td>\n",
       "      <td>0.50</td>\n",
       "      <td>water</td>\n",
       "      <td>0.25</td>\n",
       "      <td>ethanol</td>\n",
       "      <td>0.25</td>\n",
       "      <td>Zn(NO3)2·6H2O</td>\n",
       "      <td>Zn</td>\n",
       "      <td>NaN</td>\n",
       "      <td>10.1021/cg101135r</td>\n",
       "      <td>successful</td>\n",
       "      <td>1.0</td>\n",
       "    </tr>\n",
       "    <tr>\n",
       "      <th>3</th>\n",
       "      <td>1,2,2-trimethyl-3-(pyridin-4-ylcarbamoyl)cyclo...</td>\n",
       "      <td>120.0</td>\n",
       "      <td>48.0</td>\n",
       "      <td>DMF</td>\n",
       "      <td>0.54</td>\n",
       "      <td>water</td>\n",
       "      <td>0.23</td>\n",
       "      <td>ethanol</td>\n",
       "      <td>0.23</td>\n",
       "      <td>Cd(NO3)2·4H2O</td>\n",
       "      <td>Cd</td>\n",
       "      <td>NaN</td>\n",
       "      <td>10.1021/cg101135r</td>\n",
       "      <td>successful</td>\n",
       "      <td>1.0</td>\n",
       "    </tr>\n",
       "    <tr>\n",
       "      <th>4</th>\n",
       "      <td>(1R,3S)-1,2,2-trimethylcyclopentane-1,3-dicarb...</td>\n",
       "      <td>100.0</td>\n",
       "      <td>48.0</td>\n",
       "      <td>DMF</td>\n",
       "      <td>0.65</td>\n",
       "      <td>ethanol</td>\n",
       "      <td>0.35</td>\n",
       "      <td>NaN</td>\n",
       "      <td>0.00</td>\n",
       "      <td>Mn(NO3)2·6H2O</td>\n",
       "      <td>Mn</td>\n",
       "      <td>NaN</td>\n",
       "      <td>10.1021/ic502861k</td>\n",
       "      <td>successful</td>\n",
       "      <td>1.0</td>\n",
       "    </tr>\n",
       "  </tbody>\n",
       "</table>\n",
       "</div>"
      ],
      "text/plain": [
       "                                         ligand name  T [°C]  t [h]  solvent1  \\\n",
       "0  (1R,3S)-1,2,2-trimethyl-3-(pyridin-4-ylcarbamo...   100.0   48.0  methanol   \n",
       "1   (1R, 3S)-1,2,2-trimethyl-3-(pyridin-3-ylmethy...   100.0   30.0     water   \n",
       "2  1,2,2-trimethyl-3-(pyridin-4-ylcarbamoyl)cyclo...   120.0   48.0       DMF   \n",
       "3  1,2,2-trimethyl-3-(pyridin-4-ylcarbamoyl)cyclo...   120.0   48.0       DMF   \n",
       "4  (1R,3S)-1,2,2-trimethylcyclopentane-1,3-dicarb...   100.0   48.0       DMF   \n",
       "\n",
       "   V/V solvent1 [ ] solvent2  V/V solvent2 [ ] solvent3  V/V solvent3 [ ]  \\\n",
       "0              0.86    water              0.14      NaN              0.00   \n",
       "1              1.00      NaN              0.00      NaN              0.00   \n",
       "2              0.50    water              0.25  ethanol              0.25   \n",
       "3              0.54    water              0.23  ethanol              0.23   \n",
       "4              0.65  ethanol              0.35      NaN              0.00   \n",
       "\n",
       "  inorganic salt metal additional                      reported     outcome  \\\n",
       "0  Zn(NO3)2·6H2O    Zn        NaN            10.1039/c2jm15604k  successful   \n",
       "1   CdSO4·8/3H2O    Cd       NaOH  10.1016/j.inoche.2007.01.001  successful   \n",
       "2  Zn(NO3)2·6H2O    Zn        NaN             10.1021/cg101135r  successful   \n",
       "3  Cd(NO3)2·4H2O    Cd        NaN             10.1021/cg101135r  successful   \n",
       "4  Mn(NO3)2·6H2O    Mn        NaN             10.1021/ic502861k  successful   \n",
       "\n",
       "   score  \n",
       "0    1.0  \n",
       "1    1.0  \n",
       "2    1.0  \n",
       "3    1.0  \n",
       "4    1.0  "
      ]
     },
     "execution_count": 4,
     "metadata": {},
     "output_type": "execute_result"
    }
   ],
   "source": [
    "df.head()"
   ]
  },
  {
   "cell_type": "code",
   "execution_count": 9,
   "metadata": {},
   "outputs": [
    {
     "data": {
      "text/plain": [
       "(array([ 82.,  15.,   7.,   1.,  24.,  10.,   6.,   0.,   3., 337.]),\n",
       " array([0. , 0.1, 0.2, 0.3, 0.4, 0.5, 0.6, 0.7, 0.8, 0.9, 1. ]),\n",
       " <BarContainer object of 10 artists>)"
      ]
     },
     "execution_count": 9,
     "metadata": {},
     "output_type": "execute_result"
    },
    {
     "data": {
      "image/png": "[encoded data removed]",
      "text/plain": [
       "<Figure size 330x250 with 1 Axes>"
      ]
     },
     "metadata": {},
     "output_type": "display_data"
    }
   ],
   "source": [
    "plt.hist(df['score'])"
   ]
  },
  {
   "cell_type": "code",
   "execution_count": 7,
   "metadata": {},
   "outputs": [],
   "source": [
    "prompt_template = \"What is the sucess of a reaction of {ligand} with {salt}  in {solvent} {modifier} at {temperature} of {time}?\""
   ]
  },
  {
   "cell_type": "code",
   "execution_count": null,
   "metadata": {},
   "outputs": [],
   "source": [
    "prediction_template = \"The sucess of a reaction of {ligand} with {salt}  in {solvent} {modifier} at {temperature} of {time} is {score}.\""
   ]
  }
 ],
 "metadata": {
  "kernelspec": {
   "display_name": "gptchem",
   "language": "python",
   "name": "python3"
  },
  "language_info": {
   "codemirror_mode": {
    "name": "ipython",
    "version": 3
   },
   "file_extension": ".py",
   "mimetype": "text/x-python",
   "name": "python",
   "nbconvert_exporter": "python",
   "pygments_lexer": "ipython3",
   "version": "3.9.15"
  },
  "orig_nbformat": 4,
  "vscode": {
   "interpreter": {
    "hash": "2f3b9074e5baa1438c27e2ea813f7f53b7516c83bd70840b6d64eae6820ee5df"
   }
  }
 },
 "nbformat": 4,
 "nbformat_minor": 2
}
