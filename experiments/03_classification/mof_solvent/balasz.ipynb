{
 "cells": [
  {
   "cell_type": "code",
   "execution_count": 1,
   "metadata": {},
   "outputs": [],
   "source": [
    "%load_ext autoreload\n",
    "%autoreload 2"
   ]
  },
  {
   "cell_type": "code",
   "execution_count": 44,
   "metadata": {},
   "outputs": [],
   "source": [
    "import matplotlib.pyplot as plt\n",
    "import matplotx\n",
    "import pandas as pd\n",
    "import seaborn as sns\n",
    "\n",
    "plt.style.use([\"science\", \"nature\"])\n",
    "%matplotlib inline\n",
    "\n",
    "from pycm import ConfusionMatrix\n",
    "from sklearn.model_selection import train_test_split\n",
    "\n",
    "from gptchem.formatter import MOFSynthesisRecommenderFormatter\n",
    "from gptchem.querier import Querier\n",
    "from gptchem.tuner import Tuner"
   ]
  },
  {
   "cell_type": "code",
   "execution_count": 3,
   "metadata": {},
   "outputs": [],
   "source": [
    "df = pd.read_csv(\"BAN_solvents_20230126.csv\")"
   ]
  },
  {
   "cell_type": "code",
   "execution_count": 67,
   "metadata": {},
   "outputs": [
    {
     "data": {
      "text/html": [
       "<div>\n",
       "<style scoped>\n",
       "    .dataframe tbody tr th:only-of-type {\n",
       "        vertical-align: middle;\n",
       "    }\n",
       "\n",
       "    .dataframe tbody tr th {\n",
       "        vertical-align: top;\n",
       "    }\n",
       "\n",
       "    .dataframe thead th {\n",
       "        text-align: right;\n",
       "    }\n",
       "</style>\n",
       "<table border=\"1\" class=\"dataframe\">\n",
       "  <thead>\n",
       "    <tr style=\"text-align: right;\">\n",
       "      <th></th>\n",
       "      <th>ligand name</th>\n",
       "      <th>T [°C]</th>\n",
       "      <th>t [h]</th>\n",
       "      <th>solvent1</th>\n",
       "      <th>V/V solvent1 [ ]</th>\n",
       "      <th>solvent2</th>\n",
       "      <th>V/V solvent2 [ ]</th>\n",
       "      <th>solvent3</th>\n",
       "      <th>V/V solvent3 [ ]</th>\n",
       "      <th>inorganic salt</th>\n",
       "      <th>metal</th>\n",
       "      <th>additional</th>\n",
       "      <th>reported</th>\n",
       "      <th>outcome</th>\n",
       "      <th>score</th>\n",
       "      <th>successful</th>\n",
       "    </tr>\n",
       "  </thead>\n",
       "  <tbody>\n",
       "    <tr>\n",
       "      <th>480</th>\n",
       "      <td>(S)-4′-(1-carboxyethoxy)-[1,1′-biphenyl]-4-car...</td>\n",
       "      <td>120.0</td>\n",
       "      <td>72.00</td>\n",
       "      <td>acetonitrile</td>\n",
       "      <td>0.8</td>\n",
       "      <td>water</td>\n",
       "      <td>0.2</td>\n",
       "      <td>NaN</td>\n",
       "      <td>NaN</td>\n",
       "      <td>Zn(NO3)2·6H2O</td>\n",
       "      <td>Zn</td>\n",
       "      <td>NaN</td>\n",
       "      <td>10.1039/c7ra00337d</td>\n",
       "      <td>sucessful</td>\n",
       "      <td>1.0</td>\n",
       "      <td>1</td>\n",
       "    </tr>\n",
       "    <tr>\n",
       "      <th>481</th>\n",
       "      <td>(S)-6-(1-carboxyethoxy)-2-naphthoic acid</td>\n",
       "      <td>140.0</td>\n",
       "      <td>72.00</td>\n",
       "      <td>acetonitrile</td>\n",
       "      <td>0.8</td>\n",
       "      <td>water</td>\n",
       "      <td>0.2</td>\n",
       "      <td>NaN</td>\n",
       "      <td>NaN</td>\n",
       "      <td>Zn(NO3)2·6H2O</td>\n",
       "      <td>Zn</td>\n",
       "      <td>NaN</td>\n",
       "      <td>10.1039/c7ra00337d</td>\n",
       "      <td>sucessful</td>\n",
       "      <td>1.0</td>\n",
       "      <td>1</td>\n",
       "    </tr>\n",
       "    <tr>\n",
       "      <th>482</th>\n",
       "      <td>4′-(1-carboxyethoxy)-[1,1′-biphenyl]-3,5-dicar...</td>\n",
       "      <td>120.0</td>\n",
       "      <td>72.00</td>\n",
       "      <td>acetonitrile</td>\n",
       "      <td>0.5</td>\n",
       "      <td>water</td>\n",
       "      <td>0.5</td>\n",
       "      <td>NaN</td>\n",
       "      <td>NaN</td>\n",
       "      <td>CoCl2·6H2O</td>\n",
       "      <td>Co</td>\n",
       "      <td>NaOH</td>\n",
       "      <td>10.1039/c9nj05766h</td>\n",
       "      <td>sucessful</td>\n",
       "      <td>1.0</td>\n",
       "      <td>1</td>\n",
       "    </tr>\n",
       "    <tr>\n",
       "      <th>483</th>\n",
       "      <td>N,N′-bis(4-cyanophenyl)-(1R,2R)-diaminocyclohe...</td>\n",
       "      <td>25.0</td>\n",
       "      <td>60.00</td>\n",
       "      <td>dichloromethane</td>\n",
       "      <td>1.0</td>\n",
       "      <td>NaN</td>\n",
       "      <td>NaN</td>\n",
       "      <td>NaN</td>\n",
       "      <td>NaN</td>\n",
       "      <td>[Cu(MeCN)4]PF6</td>\n",
       "      <td>Cu</td>\n",
       "      <td>NaN</td>\n",
       "      <td>10.1021/cg049781w</td>\n",
       "      <td>sucessful</td>\n",
       "      <td>1.0</td>\n",
       "      <td>1</td>\n",
       "    </tr>\n",
       "    <tr>\n",
       "      <th>484</th>\n",
       "      <td>N,N′-bis(4-cyanophenyl)-(1R,2R)-diaminocyclohe...</td>\n",
       "      <td>30.0</td>\n",
       "      <td>0.08</td>\n",
       "      <td>acetone</td>\n",
       "      <td>1.0</td>\n",
       "      <td>NaN</td>\n",
       "      <td>NaN</td>\n",
       "      <td>NaN</td>\n",
       "      <td>NaN</td>\n",
       "      <td>AgClO4·H2O</td>\n",
       "      <td>Ag</td>\n",
       "      <td>NaN</td>\n",
       "      <td>10.1039/b316931f</td>\n",
       "      <td>sucessful</td>\n",
       "      <td>1.0</td>\n",
       "      <td>1</td>\n",
       "    </tr>\n",
       "  </tbody>\n",
       "</table>\n",
       "</div>"
      ],
      "text/plain": [
       "                                           ligand name  T [°C]  t [h]  \\\n",
       "480  (S)-4′-(1-carboxyethoxy)-[1,1′-biphenyl]-4-car...   120.0  72.00   \n",
       "481           (S)-6-(1-carboxyethoxy)-2-naphthoic acid   140.0  72.00   \n",
       "482  4′-(1-carboxyethoxy)-[1,1′-biphenyl]-3,5-dicar...   120.0  72.00   \n",
       "483  N,N′-bis(4-cyanophenyl)-(1R,2R)-diaminocyclohe...    25.0  60.00   \n",
       "484  N,N′-bis(4-cyanophenyl)-(1R,2R)-diaminocyclohe...    30.0   0.08   \n",
       "\n",
       "            solvent1  V/V solvent1 [ ] solvent2  V/V solvent2 [ ] solvent3  \\\n",
       "480     acetonitrile               0.8    water               0.2      NaN   \n",
       "481     acetonitrile               0.8    water               0.2      NaN   \n",
       "482     acetonitrile               0.5    water               0.5      NaN   \n",
       "483  dichloromethane               1.0      NaN               NaN      NaN   \n",
       "484          acetone               1.0      NaN               NaN      NaN   \n",
       "\n",
       "     V/V solvent3 [ ]  inorganic salt metal additional            reported  \\\n",
       "480               NaN   Zn(NO3)2·6H2O    Zn        NaN  10.1039/c7ra00337d   \n",
       "481               NaN   Zn(NO3)2·6H2O    Zn        NaN  10.1039/c7ra00337d   \n",
       "482               NaN      CoCl2·6H2O    Co       NaOH  10.1039/c9nj05766h   \n",
       "483               NaN  [Cu(MeCN)4]PF6    Cu        NaN   10.1021/cg049781w   \n",
       "484               NaN     AgClO4·H2O     Ag        NaN    10.1039/b316931f   \n",
       "\n",
       "       outcome  score  successful  \n",
       "480  sucessful    1.0           1  \n",
       "481  sucessful    1.0           1  \n",
       "482  sucessful    1.0           1  \n",
       "483  sucessful    1.0           1  \n",
       "484  sucessful    1.0           1  "
      ]
     },
     "execution_count": 67,
     "metadata": {},
     "output_type": "execute_result"
    }
   ],
   "source": [
    "df.tail()"
   ]
  },
  {
   "cell_type": "code",
   "execution_count": 5,
   "metadata": {},
   "outputs": [
    {
     "data": {
      "text/plain": [
       "array(['successful', 'byproduct', 'failed', 'contaminated',\n",
       "       'conatminated', 'poor', 'poor BET', 'poor yield', 'incompatible',\n",
       "       'unknown pahse', 'succesful', 'unknown phase', 'sucessful',\n",
       "       'modest yield', 'byproduct likely', 'contamination likely',\n",
       "       'delayed', 'good', 'discarded', 'amorphous', 'poor crystallinity',\n",
       "       nan], dtype=object)"
      ]
     },
     "execution_count": 5,
     "metadata": {},
     "output_type": "execute_result"
    }
   ],
   "source": [
    "df[\"outcome\"].unique()"
   ]
  },
  {
   "cell_type": "code",
   "execution_count": 6,
   "metadata": {},
   "outputs": [],
   "source": [
    "df[\"successful\"] = df[\"score\"] > 0.6"
   ]
  },
  {
   "cell_type": "code",
   "execution_count": 7,
   "metadata": {},
   "outputs": [],
   "source": [
    "df[\"successful\"] = df[\"successful\"].astype(int)"
   ]
  },
  {
   "cell_type": "code",
   "execution_count": 8,
   "metadata": {},
   "outputs": [
    {
     "data": {
      "text/plain": [
       "<AxesSubplot: >"
      ]
     },
     "execution_count": 8,
     "metadata": {},
     "output_type": "execute_result"
    },
    {
     "data": {
      "image/png": "[encoded data removed]",
      "text/plain": [
       "<Figure size 330x250 with 1 Axes>"
      ]
     },
     "metadata": {},
     "output_type": "display_data"
    }
   ],
   "source": [
    "df[\"successful\"].hist()"
   ]
  },
  {
   "cell_type": "code",
   "execution_count": 9,
   "metadata": {},
   "outputs": [
    {
     "data": {
      "text/plain": [
       "(array([ 82.,  15.,   7.,   1.,  24.,  10.,   6.,   0.,   3., 337.]),\n",
       " array([0. , 0.1, 0.2, 0.3, 0.4, 0.5, 0.6, 0.7, 0.8, 0.9, 1. ]),\n",
       " <BarContainer object of 10 artists>)"
      ]
     },
     "execution_count": 9,
     "metadata": {},
     "output_type": "execute_result"
    },
    {
     "data": {
      "image/png": "[encoded data removed]",
      "text/plain": [
       "<Figure size 330x250 with 1 Axes>"
      ]
     },
     "metadata": {},
     "output_type": "display_data"
    }
   ],
   "source": [
    "plt.hist(df[\"score\"])"
   ]
  },
  {
   "cell_type": "code",
   "execution_count": 10,
   "metadata": {},
   "outputs": [],
   "source": [
    "formatter = MOFSynthesisRecommenderFormatter(score_column=\"successful\")"
   ]
  },
  {
   "cell_type": "code",
   "execution_count": 11,
   "metadata": {},
   "outputs": [],
   "source": [
    "formatted = formatter(df)"
   ]
  },
  {
   "cell_type": "code",
   "execution_count": 68,
   "metadata": {},
   "outputs": [
    {
     "data": {
      "text/plain": [
       "'What is the sucess of a reaction of (1R,3S)-1,2,2-trimethyl-3-(pyridin-4-ylcarbamoyl)cyclopentanecarboxylic acid with Zn(NO3)2·6H2O in 0.86 methanol and 0.14 water   at 100.0C for 48.0h###'"
      ]
     },
     "execution_count": 68,
     "metadata": {},
     "output_type": "execute_result"
    }
   ],
   "source": [
    "formatted.iloc[0][\"prompt\"]"
   ]
  },
  {
   "cell_type": "code",
   "execution_count": 13,
   "metadata": {},
   "outputs": [
    {
     "data": {
      "text/plain": [
       "' 1@@@'"
      ]
     },
     "execution_count": 13,
     "metadata": {},
     "output_type": "execute_result"
    }
   ],
   "source": [
    "formatted.iloc[1][\"completion\"]"
   ]
  },
  {
   "cell_type": "code",
   "execution_count": 14,
   "metadata": {},
   "outputs": [],
   "source": [
    "dois = df[\"reported\"].unique()\n",
    "\n",
    "train, test = train_test_split(dois, train_size=0.8, random_state=5)"
   ]
  },
  {
   "cell_type": "code",
   "execution_count": 15,
   "metadata": {},
   "outputs": [],
   "source": [
    "train_data = df[df[\"reported\"].isin(train)]\n",
    "test_data = df[df[\"reported\"].isin(test)]"
   ]
  },
  {
   "cell_type": "code",
   "execution_count": 16,
   "metadata": {},
   "outputs": [
    {
     "name": "stderr",
     "output_type": "stream",
     "text": [
      "/Users/kevinmaikjablonka/git/kjappelbaum/gptchem/src/gptchem/formatter.py:841: SettingWithCopyWarning: \n",
      "A value is trying to be set on a copy of a slice from a DataFrame\n",
      "\n",
      "See the caveats in the documentation: https://pandas.pydata.org/pandas-docs/stable/user_guide/indexing.html#returning-a-view-versus-a-copy\n",
      "  df.dropna(subset=[self.ligand_column] + [self.inorganic_salt_column], inplace=True)\n",
      "/Users/kevinmaikjablonka/git/kjappelbaum/gptchem/src/gptchem/formatter.py:841: SettingWithCopyWarning: \n",
      "A value is trying to be set on a copy of a slice from a DataFrame\n",
      "\n",
      "See the caveats in the documentation: https://pandas.pydata.org/pandas-docs/stable/user_guide/indexing.html#returning-a-view-versus-a-copy\n",
      "  df.dropna(subset=[self.ligand_column] + [self.inorganic_salt_column], inplace=True)\n"
     ]
    }
   ],
   "source": [
    "train_formatted = formatter(train_data)\n",
    "test_formatted = formatter(test_data)"
   ]
  },
  {
   "cell_type": "code",
   "execution_count": 17,
   "metadata": {},
   "outputs": [
    {
     "data": {
      "text/plain": [
       "<AxesSubplot: >"
      ]
     },
     "execution_count": 17,
     "metadata": {},
     "output_type": "execute_result"
    },
    {
     "data": {
      "image/png": "[encoded data removed]",
      "text/plain": [
       "<Figure size 330x250 with 1 Axes>"
      ]
     },
     "metadata": {},
     "output_type": "display_data"
    }
   ],
   "source": [
    "test_formatted[\"label\"].hist()"
   ]
  },
  {
   "cell_type": "code",
   "execution_count": 18,
   "metadata": {},
   "outputs": [
    {
     "data": {
      "text/plain": [
       "<AxesSubplot: >"
      ]
     },
     "execution_count": 18,
     "metadata": {},
     "output_type": "execute_result"
    },
    {
     "data": {
      "image/png": "[encoded data removed]",
      "text/plain": [
       "<Figure size 330x250 with 1 Axes>"
      ]
     },
     "metadata": {},
     "output_type": "display_data"
    }
   ],
   "source": [
    "train_formatted[\"label\"].hist()"
   ]
  },
  {
   "cell_type": "code",
   "execution_count": 19,
   "metadata": {},
   "outputs": [
    {
     "name": "stderr",
     "output_type": "stream",
     "text": [
      "Upload progress: 100%|██████████| 174k/174k [00:00<00:00, 95.3Mit/s]\n"
     ]
    },
    {
     "name": "stdout",
     "output_type": "stream",
     "text": [
      "Uploaded file from /Users/kevinmaikjablonka/git/kjappelbaum/gptchem/experiments/03_classification/mof_solvent/out/20230130_084320/train.jsonl: file-OhAEaNYDGbLZzXusl2Mz3QkE\n"
     ]
    },
    {
     "data": {
      "text/plain": [
       "{'base_model': 'ada',\n",
       " 'batch_size': None,\n",
       " 'n_epochs': 8,\n",
       " 'learning_rate_multiplier': 0.02,\n",
       " 'run_name': None,\n",
       " 'wandb_sync': False,\n",
       " 'outdir': '/Users/kevinmaikjablonka/git/kjappelbaum/gptchem/experiments/03_classification/mof_solvent/out/20230130_084320',\n",
       " 'train_filename': '/Users/kevinmaikjablonka/git/kjappelbaum/gptchem/experiments/03_classification/mof_solvent/out/20230130_084320/train.jsonl',\n",
       " 'valid_filename': 'None',\n",
       " 'model_name': 'ada:ft-lsmoepfl-2023-01-30-08-02-53',\n",
       " 'ft_id': 'ft-jlfm8yStmfFf4xzabbpMCCeM',\n",
       " 'date': '20230130_090344',\n",
       " 'train_file_id': 'file-OhAEaNYDGbLZzXusl2Mz3QkE',\n",
       " 'valid_file_id': None}"
      ]
     },
     "execution_count": 19,
     "metadata": {},
     "output_type": "execute_result"
    }
   ],
   "source": [
    "tuner = Tuner(n_epochs=8, learning_rate_multiplier=0.02, wandb_sync=False)\n",
    "tuner(train_formatted)"
   ]
  },
  {
   "cell_type": "code",
   "execution_count": 21,
   "metadata": {},
   "outputs": [],
   "source": [
    "querier = Querier(\"ada:ft-lsmoepfl-2023-01-30-08-02-53\")"
   ]
  },
  {
   "cell_type": "code",
   "execution_count": 22,
   "metadata": {},
   "outputs": [],
   "source": [
    "predictions = querier(test_formatted)"
   ]
  },
  {
   "cell_type": "code",
   "execution_count": 23,
   "metadata": {},
   "outputs": [],
   "source": [
    "from gptchem.extractor import ClassificationExtractor"
   ]
  },
  {
   "cell_type": "code",
   "execution_count": 24,
   "metadata": {},
   "outputs": [
    {
     "data": {
      "text/plain": [
       "{'choices': [' 0',\n",
       "  ' 1',\n",
       "  ' 1',\n",
       "  ' 1',\n",
       "  ' 1',\n",
       "  ' 1',\n",
       "  ' 1',\n",
       "  ' 0',\n",
       "  ' 1',\n",
       "  ' 0',\n",
       "  ' 1',\n",
       "  ' 0',\n",
       "  ' 1',\n",
       "  ' 1',\n",
       "  ' 1',\n",
       "  ' 1',\n",
       "  ' 1',\n",
       "  ' 1',\n",
       "  ' 1',\n",
       "  ' 1',\n",
       "  ' 1',\n",
       "  ' 1',\n",
       "  ' 1',\n",
       "  ' 1',\n",
       "  ' 1',\n",
       "  ' 1',\n",
       "  ' 1',\n",
       "  ' 1',\n",
       "  ' 1',\n",
       "  ' 1',\n",
       "  ' 1',\n",
       "  ' 1',\n",
       "  ' 1',\n",
       "  ' 1',\n",
       "  ' 1',\n",
       "  ' 1',\n",
       "  ' 1',\n",
       "  ' 1',\n",
       "  ' 1',\n",
       "  ' 1',\n",
       "  ' 1',\n",
       "  ' 1',\n",
       "  ' 0',\n",
       "  ' 0',\n",
       "  ' 0',\n",
       "  ' 0',\n",
       "  ' 0',\n",
       "  ' 0',\n",
       "  ' 1',\n",
       "  ' 0',\n",
       "  ' 0',\n",
       "  ' 0',\n",
       "  ' 0',\n",
       "  ' 0',\n",
       "  ' 0',\n",
       "  ' 0',\n",
       "  ' 0',\n",
       "  ' 0',\n",
       "  ' 0',\n",
       "  ' 0',\n",
       "  ' 0',\n",
       "  ' 0',\n",
       "  ' 0',\n",
       "  ' 1',\n",
       "  ' 1',\n",
       "  ' 1',\n",
       "  ' 1',\n",
       "  ' 1'],\n",
       " 'logprobs': [None,\n",
       "  None,\n",
       "  None,\n",
       "  None,\n",
       "  None,\n",
       "  None,\n",
       "  None,\n",
       "  None,\n",
       "  None,\n",
       "  None,\n",
       "  None,\n",
       "  None,\n",
       "  None,\n",
       "  None,\n",
       "  None,\n",
       "  None,\n",
       "  None,\n",
       "  None,\n",
       "  None,\n",
       "  None,\n",
       "  None,\n",
       "  None,\n",
       "  None,\n",
       "  None,\n",
       "  None,\n",
       "  None,\n",
       "  None,\n",
       "  None,\n",
       "  None,\n",
       "  None,\n",
       "  None,\n",
       "  None,\n",
       "  None,\n",
       "  None,\n",
       "  None,\n",
       "  None,\n",
       "  None,\n",
       "  None,\n",
       "  None,\n",
       "  None,\n",
       "  None,\n",
       "  None,\n",
       "  None,\n",
       "  None,\n",
       "  None,\n",
       "  None,\n",
       "  None,\n",
       "  None,\n",
       "  None,\n",
       "  None,\n",
       "  None,\n",
       "  None,\n",
       "  None,\n",
       "  None,\n",
       "  None,\n",
       "  None,\n",
       "  None,\n",
       "  None,\n",
       "  None,\n",
       "  None,\n",
       "  None,\n",
       "  None,\n",
       "  None,\n",
       "  None,\n",
       "  None,\n",
       "  None,\n",
       "  None,\n",
       "  None],\n",
       " 'model': 'ada:ft-lsmoepfl-2023-01-30-08-02-53'}"
      ]
     },
     "execution_count": 24,
     "metadata": {},
     "output_type": "execute_result"
    }
   ],
   "source": [
    "predictions"
   ]
  },
  {
   "cell_type": "code",
   "execution_count": 26,
   "metadata": {},
   "outputs": [],
   "source": [
    "extracted = ClassificationExtractor()(predictions)"
   ]
  },
  {
   "cell_type": "code",
   "execution_count": 27,
   "metadata": {},
   "outputs": [
    {
     "data": {
      "text/plain": [
       "(#68) [0,1,1,1,1,1,1,0,1,0...]"
      ]
     },
     "execution_count": 27,
     "metadata": {},
     "output_type": "execute_result"
    }
   ],
   "source": [
    "extracted"
   ]
  },
  {
   "cell_type": "code",
   "execution_count": 28,
   "metadata": {},
   "outputs": [
    {
     "data": {
      "text/plain": [
       "<matplotlib.collections.PathCollection at 0x16fb656a0>"
      ]
     },
     "execution_count": 28,
     "metadata": {},
     "output_type": "execute_result"
    },
    {
     "data": {
      "image/png": "[encoded data removed]",
      "text/plain": [
       "<Figure size 330x250 with 1 Axes>"
      ]
     },
     "metadata": {},
     "output_type": "display_data"
    }
   ],
   "source": [
    "plt.scatter(extracted, test_data[\"score\"], alpha=0.2)"
   ]
  },
  {
   "cell_type": "code",
   "execution_count": 54,
   "metadata": {},
   "outputs": [],
   "source": [
    "cm = ConfusionMatrix(actual_vector=test_formatted[\"label\"].values, predict_vector=list(extracted))"
   ]
  },
  {
   "cell_type": "code",
   "execution_count": 55,
   "metadata": {},
   "outputs": [
    {
     "name": "stdout",
     "output_type": "stream",
     "text": [
      "Predict  0        1        \n",
      "Actual\n",
      "0        10       4        \n",
      "\n",
      "1        14       40       \n",
      "\n",
      "\n",
      "\n",
      "\n",
      "\n",
      "Overall Statistics : \n",
      "\n",
      "95% CI                                                            (0.63043,0.84016)\n",
      "ACC Macro                                                         0.73529\n",
      "ARI                                                               0.18998\n",
      "AUNP                                                              0.72751\n",
      "AUNU                                                              0.72751\n",
      "Bangdiwala B                                                      0.62684\n",
      "Bennett S                                                         0.47059\n",
      "CBA                                                               0.5787\n",
      "CSI                                                               0.39039\n",
      "Chi-Squared                                                       10.07953\n",
      "Chi-Squared DF                                                    1\n",
      "Conditional Entropy                                               0.83335\n",
      "Cramer V                                                          0.385\n",
      "Cross Entropy                                                     0.80807\n",
      "F1 Macro                                                          0.67132\n",
      "F1 Micro                                                          0.73529\n",
      "FNR Macro                                                         0.27249\n",
      "FNR Micro                                                         0.26471\n",
      "FPR Macro                                                         0.27249\n",
      "FPR Micro                                                         0.26471\n",
      "Gwet AC1                                                          0.55684\n",
      "Hamming Loss                                                      0.26471\n",
      "Joint Entropy                                                     1.56688\n",
      "KL Divergence                                                     0.07453\n",
      "Kappa                                                             0.35983\n",
      "Kappa 95% CI                                                      (0.10624,0.61343)\n",
      "Kappa No Prevalence                                               0.47059\n",
      "Kappa Standard Error                                              0.12939\n",
      "Kappa Unbiased                                                    0.34264\n",
      "Krippendorff Alpha                                                0.34748\n",
      "Lambda A                                                          0.0\n",
      "Lambda B                                                          0.25\n",
      "Mutual Information                                                0.10332\n",
      "NIR                                                               0.79412\n",
      "Overall ACC                                                       0.73529\n",
      "Overall CEN                                                       0.66854\n",
      "Overall J                                                         (1.0468,0.5234)\n",
      "Overall MCC                                                       0.385\n",
      "Overall MCEN                                                      0.51007\n",
      "Overall RACC                                                      0.58651\n",
      "Overall RACCU                                                     0.59732\n",
      "P-Value                                                           0.90828\n",
      "PPV Macro                                                         0.66288\n",
      "PPV Micro                                                         0.73529\n",
      "Pearson C                                                         0.3593\n",
      "Phi-Squared                                                       0.14823\n",
      "RCI                                                               0.14085\n",
      "RR                                                                34.0\n",
      "Reference Entropy                                                 0.73354\n",
      "Response Entropy                                                  0.93667\n",
      "SOA1(Landis & Koch)                                               Fair\n",
      "SOA2(Fleiss)                                                      Poor\n",
      "SOA3(Altman)                                                      Fair\n",
      "SOA4(Cicchetti)                                                   Poor\n",
      "SOA5(Cramer)                                                      Moderate\n",
      "SOA6(Matthews)                                                    Weak\n",
      "Scott PI                                                          0.34264\n",
      "Standard Error                                                    0.0535\n",
      "TNR Macro                                                         0.72751\n",
      "TNR Micro                                                         0.73529\n",
      "TPR Macro                                                         0.72751\n",
      "TPR Micro                                                         0.73529\n",
      "Zero-one Loss                                                     18\n",
      "\n",
      "Class Statistics :\n",
      "\n",
      "Classes                                                           0             1             \n",
      "ACC(Accuracy)                                                     0.73529       0.73529       \n",
      "AGF(Adjusted F-score)                                             0.73721       0.59131       \n",
      "AGM(Adjusted geometric mean)                                      0.7333        0.72516       \n",
      "AM(Difference between automatic and manual classification)        10            -10           \n",
      "AUC(Area under the ROC curve)                                     0.72751       0.72751       \n",
      "AUCI(AUC value interpretation)                                    Good          Good          \n",
      "AUPR(Area under the PR curve)                                     0.56548       0.82492       \n",
      "BB(Braun-Blanquet similarity)                                     0.41667       0.74074       \n",
      "BCD(Bray-Curtis dissimilarity)                                    0.07353       0.07353       \n",
      "BM(Informedness or bookmaker informedness)                        0.45503       0.45503       \n",
      "CEN(Confusion entropy)                                            0.87262       0.58941       \n",
      "DOR(Diagnostic odds ratio)                                        7.14286       7.14286       \n",
      "DP(Discriminant power)                                            0.47076       0.47076       \n",
      "DPI(Discriminant power interpretation)                            Poor          Poor          \n",
      "ERR(Error rate)                                                   0.26471       0.26471       \n",
      "F0.5(F0.5 score)                                                  0.45455       0.86957       \n",
      "F1(F1 score - harmonic mean of precision and sensitivity)         0.52632       0.81633       \n",
      "F2(F2 score)                                                      0.625         0.76923       \n",
      "FDR(False discovery rate)                                         0.58333       0.09091       \n",
      "FN(False negative/miss/type 2 error)                              4             14            \n",
      "FNR(Miss rate or false negative rate)                             0.28571       0.25926       \n",
      "FOR(False omission rate)                                          0.09091       0.58333       \n",
      "FP(False positive/type 1 error/false alarm)                       14            4             \n",
      "FPR(Fall-out or false positive rate)                              0.25926       0.28571       \n",
      "G(G-measure geometric mean of precision and sensitivity)          0.54554       0.82061       \n",
      "GI(Gini index)                                                    0.45503       0.45503       \n",
      "GM(G-mean geometric mean of specificity and sensitivity)          0.72739       0.72739       \n",
      "HD(Hamming distance)                                              18            18            \n",
      "IBA(Index of balanced accuracy)                                   0.5151        0.5431        \n",
      "ICSI(Individual classification success index)                     0.13095       0.64983       \n",
      "IS(Information score)                                             1.01707       0.19507       \n",
      "J(Jaccard index)                                                  0.35714       0.68966       \n",
      "LS(Lift score)                                                    2.02381       1.14478       \n",
      "MCC(Matthews correlation coefficient)                             0.385         0.385         \n",
      "MCCI(Matthews correlation coefficient interpretation)             Weak          Weak          \n",
      "MCEN(Modified confusion entropy)                                  0.90105       0.76105       \n",
      "MK(Markedness)                                                    0.32576       0.32576       \n",
      "N(Condition negative)                                             54            14            \n",
      "NLR(Negative likelihood ratio)                                    0.38571       0.36296       \n",
      "NLRI(Negative likelihood ratio interpretation)                    Poor          Poor          \n",
      "NPV(Negative predictive value)                                    0.90909       0.41667       \n",
      "OC(Overlap coefficient)                                           0.71429       0.90909       \n",
      "OOC(Otsuka-Ochiai coefficient)                                    0.54554       0.82061       \n",
      "OP(Optimized precision)                                           0.71711       0.71711       \n",
      "P(Condition positive or support)                                  14            54            \n",
      "PLR(Positive likelihood ratio)                                    2.7551        2.59259       \n",
      "PLRI(Positive likelihood ratio interpretation)                    Poor          Poor          \n",
      "POP(Population)                                                   68            68            \n",
      "PPV(Precision or positive predictive value)                       0.41667       0.90909       \n",
      "PRE(Prevalence)                                                   0.20588       0.79412       \n",
      "Q(Yule Q - coefficient of colligation)                            0.75439       0.75439       \n",
      "QI(Yule Q interpretation)                                         Strong        Strong        \n",
      "RACC(Random accuracy)                                             0.07266       0.51384       \n",
      "RACCU(Random accuracy unbiased)                                   0.07807       0.51925       \n",
      "TN(True negative/correct rejection)                               40            10            \n",
      "TNR(Specificity or true negative rate)                            0.74074       0.71429       \n",
      "TON(Test outcome negative)                                        44            24            \n",
      "TOP(Test outcome positive)                                        24            44            \n",
      "TP(True positive/hit)                                             10            40            \n",
      "TPR(Sensitivity, recall, hit rate, or true positive rate)         0.71429       0.74074       \n",
      "Y(Youden index)                                                   0.45503       0.45503       \n",
      "dInd(Distance index)                                              0.38581       0.38581       \n",
      "sInd(Similarity index)                                            0.72719       0.72719       \n",
      "\n"
     ]
    }
   ],
   "source": [
    "print(cm)"
   ]
  },
  {
   "cell_type": "code",
   "execution_count": 56,
   "metadata": {},
   "outputs": [
    {
     "data": {
      "text/plain": [
       "485"
      ]
     },
     "execution_count": 56,
     "metadata": {},
     "output_type": "execute_result"
    }
   ],
   "source": [
    "len(df)"
   ]
  },
  {
   "cell_type": "code",
   "execution_count": 64,
   "metadata": {},
   "outputs": [
    {
     "data": {
      "image/png": "[encoded data removed]",
      "text/plain": [
       "<Figure size 330x250 with 1 Axes>"
      ]
     },
     "metadata": {},
     "output_type": "display_data"
    }
   ],
   "source": [
    "with plt.style.context(matplotx.styles.dufte):\n",
    "    sns.heatmap(\n",
    "        pd.DataFrame(cm.normalized_matrix.values()),\n",
    "        cmap=\"RdBu_r\",\n",
    "        annot=True,\n",
    "        fmt=\".2f\",\n",
    "        cbar=False,\n",
    "    )\n",
    "    plt.xlabel(\"Predicted\", labelpad=4)\n",
    "    plt.ylabel(\"Actual\", labelpad=4)\n",
    "    plt.xticks([0.5, 1.5], [\"Failure\", \"Success\"], rotation=0)\n",
    "    plt.yticks([0.5, 1.5], [\"Failure\", \"Success\"], rotation=0)\n",
    "    plt.savefig(\"balasz_confusion_matrix.pdf\", bbox_inches=\"tight\")"
   ]
  },
  {
   "cell_type": "code",
   "execution_count": 47,
   "metadata": {},
   "outputs": [
    {
     "data": {
      "text/plain": [
       "dict_values([{0: 0.71429, 1: 0.28571}, {0: 0.25926, 1: 0.74074}])"
      ]
     },
     "execution_count": 47,
     "metadata": {},
     "output_type": "execute_result"
    }
   ],
   "source": [
    "cm.normalized_matrix.values()"
   ]
  },
  {
   "cell_type": "code",
   "execution_count": 65,
   "metadata": {},
   "outputs": [
    {
     "data": {
      "text/plain": [
       "0.35983263598326376"
      ]
     },
     "execution_count": 65,
     "metadata": {},
     "output_type": "execute_result"
    }
   ],
   "source": [
    "cm.Kappa"
   ]
  },
  {
   "cell_type": "code",
   "execution_count": 66,
   "metadata": {},
   "outputs": [
    {
     "name": "stdout",
     "output_type": "stream",
     "text": [
      "Predict  0        1        \n",
      "Actual\n",
      "0        10       4        \n",
      "\n",
      "1        14       40       \n",
      "\n",
      "\n",
      "\n",
      "\n",
      "\n",
      "Overall Statistics : \n",
      "\n",
      "95% CI                                                            (0.63043,0.84016)\n",
      "ACC Macro                                                         0.73529\n",
      "ARI                                                               0.18998\n",
      "AUNP                                                              0.72751\n",
      "AUNU                                                              0.72751\n",
      "Bangdiwala B                                                      0.62684\n",
      "Bennett S                                                         0.47059\n",
      "CBA                                                               0.5787\n",
      "CSI                                                               0.39039\n",
      "Chi-Squared                                                       10.07953\n",
      "Chi-Squared DF                                                    1\n",
      "Conditional Entropy                                               0.83335\n",
      "Cramer V                                                          0.385\n",
      "Cross Entropy                                                     0.80807\n",
      "F1 Macro                                                          0.67132\n",
      "F1 Micro                                                          0.73529\n",
      "FNR Macro                                                         0.27249\n",
      "FNR Micro                                                         0.26471\n",
      "FPR Macro                                                         0.27249\n",
      "FPR Micro                                                         0.26471\n",
      "Gwet AC1                                                          0.55684\n",
      "Hamming Loss                                                      0.26471\n",
      "Joint Entropy                                                     1.56688\n",
      "KL Divergence                                                     0.07453\n",
      "Kappa                                                             0.35983\n",
      "Kappa 95% CI                                                      (0.10624,0.61343)\n",
      "Kappa No Prevalence                                               0.47059\n",
      "Kappa Standard Error                                              0.12939\n",
      "Kappa Unbiased                                                    0.34264\n",
      "Krippendorff Alpha                                                0.34748\n",
      "Lambda A                                                          0.0\n",
      "Lambda B                                                          0.25\n",
      "Mutual Information                                                0.10332\n",
      "NIR                                                               0.79412\n",
      "Overall ACC                                                       0.73529\n",
      "Overall CEN                                                       0.66854\n",
      "Overall J                                                         (1.0468,0.5234)\n",
      "Overall MCC                                                       0.385\n",
      "Overall MCEN                                                      0.51007\n",
      "Overall RACC                                                      0.58651\n",
      "Overall RACCU                                                     0.59732\n",
      "P-Value                                                           0.90828\n",
      "PPV Macro                                                         0.66288\n",
      "PPV Micro                                                         0.73529\n",
      "Pearson C                                                         0.3593\n",
      "Phi-Squared                                                       0.14823\n",
      "RCI                                                               0.14085\n",
      "RR                                                                34.0\n",
      "Reference Entropy                                                 0.73354\n",
      "Response Entropy                                                  0.93667\n",
      "SOA1(Landis & Koch)                                               Fair\n",
      "SOA2(Fleiss)                                                      Poor\n",
      "SOA3(Altman)                                                      Fair\n",
      "SOA4(Cicchetti)                                                   Poor\n",
      "SOA5(Cramer)                                                      Moderate\n",
      "SOA6(Matthews)                                                    Weak\n",
      "Scott PI                                                          0.34264\n",
      "Standard Error                                                    0.0535\n",
      "TNR Macro                                                         0.72751\n",
      "TNR Micro                                                         0.73529\n",
      "TPR Macro                                                         0.72751\n",
      "TPR Micro                                                         0.73529\n",
      "Zero-one Loss                                                     18\n",
      "\n",
      "Class Statistics :\n",
      "\n",
      "Classes                                                           0             1             \n",
      "ACC(Accuracy)                                                     0.73529       0.73529       \n",
      "AGF(Adjusted F-score)                                             0.73721       0.59131       \n",
      "AGM(Adjusted geometric mean)                                      0.7333        0.72516       \n",
      "AM(Difference between automatic and manual classification)        10            -10           \n",
      "AUC(Area under the ROC curve)                                     0.72751       0.72751       \n",
      "AUCI(AUC value interpretation)                                    Good          Good          \n",
      "AUPR(Area under the PR curve)                                     0.56548       0.82492       \n",
      "BB(Braun-Blanquet similarity)                                     0.41667       0.74074       \n",
      "BCD(Bray-Curtis dissimilarity)                                    0.07353       0.07353       \n",
      "BM(Informedness or bookmaker informedness)                        0.45503       0.45503       \n",
      "CEN(Confusion entropy)                                            0.87262       0.58941       \n",
      "DOR(Diagnostic odds ratio)                                        7.14286       7.14286       \n",
      "DP(Discriminant power)                                            0.47076       0.47076       \n",
      "DPI(Discriminant power interpretation)                            Poor          Poor          \n",
      "ERR(Error rate)                                                   0.26471       0.26471       \n",
      "F0.5(F0.5 score)                                                  0.45455       0.86957       \n",
      "F1(F1 score - harmonic mean of precision and sensitivity)         0.52632       0.81633       \n",
      "F2(F2 score)                                                      0.625         0.76923       \n",
      "FDR(False discovery rate)                                         0.58333       0.09091       \n",
      "FN(False negative/miss/type 2 error)                              4             14            \n",
      "FNR(Miss rate or false negative rate)                             0.28571       0.25926       \n",
      "FOR(False omission rate)                                          0.09091       0.58333       \n",
      "FP(False positive/type 1 error/false alarm)                       14            4             \n",
      "FPR(Fall-out or false positive rate)                              0.25926       0.28571       \n",
      "G(G-measure geometric mean of precision and sensitivity)          0.54554       0.82061       \n",
      "GI(Gini index)                                                    0.45503       0.45503       \n",
      "GM(G-mean geometric mean of specificity and sensitivity)          0.72739       0.72739       \n",
      "HD(Hamming distance)                                              18            18            \n",
      "IBA(Index of balanced accuracy)                                   0.5151        0.5431        \n",
      "ICSI(Individual classification success index)                     0.13095       0.64983       \n",
      "IS(Information score)                                             1.01707       0.19507       \n",
      "J(Jaccard index)                                                  0.35714       0.68966       \n",
      "LS(Lift score)                                                    2.02381       1.14478       \n",
      "MCC(Matthews correlation coefficient)                             0.385         0.385         \n",
      "MCCI(Matthews correlation coefficient interpretation)             Weak          Weak          \n",
      "MCEN(Modified confusion entropy)                                  0.90105       0.76105       \n",
      "MK(Markedness)                                                    0.32576       0.32576       \n",
      "N(Condition negative)                                             54            14            \n",
      "NLR(Negative likelihood ratio)                                    0.38571       0.36296       \n",
      "NLRI(Negative likelihood ratio interpretation)                    Poor          Poor          \n",
      "NPV(Negative predictive value)                                    0.90909       0.41667       \n",
      "OC(Overlap coefficient)                                           0.71429       0.90909       \n",
      "OOC(Otsuka-Ochiai coefficient)                                    0.54554       0.82061       \n",
      "OP(Optimized precision)                                           0.71711       0.71711       \n",
      "P(Condition positive or support)                                  14            54            \n",
      "PLR(Positive likelihood ratio)                                    2.7551        2.59259       \n",
      "PLRI(Positive likelihood ratio interpretation)                    Poor          Poor          \n",
      "POP(Population)                                                   68            68            \n",
      "PPV(Precision or positive predictive value)                       0.41667       0.90909       \n",
      "PRE(Prevalence)                                                   0.20588       0.79412       \n",
      "Q(Yule Q - coefficient of colligation)                            0.75439       0.75439       \n",
      "QI(Yule Q interpretation)                                         Strong        Strong        \n",
      "RACC(Random accuracy)                                             0.07266       0.51384       \n",
      "RACCU(Random accuracy unbiased)                                   0.07807       0.51925       \n",
      "TN(True negative/correct rejection)                               40            10            \n",
      "TNR(Specificity or true negative rate)                            0.74074       0.71429       \n",
      "TON(Test outcome negative)                                        44            24            \n",
      "TOP(Test outcome positive)                                        24            44            \n",
      "TP(True positive/hit)                                             10            40            \n",
      "TPR(Sensitivity, recall, hit rate, or true positive rate)         0.71429       0.74074       \n",
      "Y(Youden index)                                                   0.45503       0.45503       \n",
      "dInd(Distance index)                                              0.38581       0.38581       \n",
      "sInd(Similarity index)                                            0.72719       0.72719       \n",
      "\n"
     ]
    }
   ],
   "source": [
    "print(cm)"
   ]
  },
  {
   "cell_type": "code",
   "execution_count": 80,
   "metadata": {},
   "outputs": [],
   "source": [
    "from sklearn.preprocessing import LabelEncoder, OneHotEncoder"
   ]
  },
  {
   "cell_type": "code",
   "execution_count": 81,
   "metadata": {},
   "outputs": [],
   "source": [
    "oh = LabelEncoder()"
   ]
  },
  {
   "cell_type": "code",
   "execution_count": 84,
   "metadata": {},
   "outputs": [
    {
     "data": {
      "text/plain": [
       "array([  1, 108,  39,  39,   2, 105, 105, 105, 105, 105, 105, 105, 105,\n",
       "       105, 105, 105, 105, 105, 105,   3,   3,   3,   3,   3,   3, 103,\n",
       "       103, 103, 103, 103, 103, 103, 103, 103, 103, 103, 103, 105,  68,\n",
       "        58,  92,  92,  92,  42,  42,  42,  42, 103,  68,  68,   3,   3,\n",
       "       105, 105, 105, 105, 105, 105, 105, 105, 105, 105, 105, 105, 105,\n",
       "       105, 105, 105, 105, 105, 105, 105, 105, 105, 105, 105, 105, 105,\n",
       "       105, 105, 105, 105, 105, 105, 105, 105, 105,  65,  59,  40,  56,\n",
       "        52, 101, 103, 103, 103, 103,  86,  86,  87,  55,  55,  55,  89,\n",
       "        89,  45, 106,  80,  91, 105,  65,  59,  59,  59,  59,  59,  80,\n",
       "        91,  80,  91,  59,  59,  59,  59,  80, 106,  65,  65,  52,  65,\n",
       "         7,  59, 102, 102, 102, 105,  60, 105,  64,   7, 109,  67,  94,\n",
       "         7, 105,  65,  61,   7, 102,  44, 104,  93,  91, 105,  62, 100,\n",
       "       103,  40,  84,  43,  82,  65, 105,  65,  85, 103, 103, 103, 103,\n",
       "       103,  97,  63,  98,  83,  73,  90,   0,   5,   6,   4,   4,   4,\n",
       "        31,  96,  95,  47,  47,  46,  46,  46,  46,  29,  10,  30,  11,\n",
       "        15,  16,  13,   8,  21,  12,   9,  14,  19,  49,  51,  50,  48,\n",
       "        22, 107, 107, 107, 107, 107, 107,  81,  81,  81,  81,  81,  81,\n",
       "        81,  81,  81,  81,  81,  81,  53,  53,  53,  53,  53,  53,  53,\n",
       "        53,  53,  53,  53,  53,  53,  53,  53,  53,  53,  53,  54,  54,\n",
       "        54,  54,  54,  54, 103, 103, 103, 103, 103, 103, 103, 103,  70,\n",
       "        70,  70,  70,  70,  60,  60,  60,  60,  60,  60,  60,  60,  60,\n",
       "        60,  60,  60,  60,  60,  60,  60,  60,  60,  60,  60,  60,  60,\n",
       "        60,  60, 105, 105, 105, 105, 105, 105, 105, 105, 105, 105, 105,\n",
       "       105, 105, 105, 105, 105, 105, 105, 105,  59,  59,  59,  59,  75,\n",
       "        75,  75,  75,  75,  75,  75,  75,  75,  68,  68,  68,  68,  68,\n",
       "        68,  68,  68,  68,  68,  68,  68,  68,  68,  68,  68,  68,  68,\n",
       "        68,  68,  68,  32,  18,  18,  18,  18,  18,  18,  18,  18,  18,\n",
       "        72,  72,  71,  77,  76,  74,  72,  71,  72,  71,  33,  20,  33,\n",
       "        20,  33,  20,  33,  20,  33,  20,  33,  20,  33,  20,  33,  20,\n",
       "        33,  20,  33,  20,  33,  20,  33,  20,  33,  20,  33,  20,  33,\n",
       "        20,  33,  20,  25,  79,  79,  79,  78,  78,  78,  78,  78,  78,\n",
       "        78,  78,  65,  69,  41,  66,  57,  65,  69,  41,  66,  57,  65,\n",
       "        69,  41,  66,  57,  69,  69,  69,  69,  69,  69,  69,  69,  65,\n",
       "        41,  66,  57,  65,  65,  65,  65,  69,  69,  69,  69,  41,  41,\n",
       "        41,  41,  66,  66,  66,  66,  65,  69,  41,  66,  57,  65,  69,\n",
       "        41,  66,  57,  65,  69,  41,  66,  57,  26,  28,  28,  37,  38,\n",
       "        24,  23,  23,  23,  17,  17,  17,  27,  27,  27,  27,  35,  34,\n",
       "        36,  88,  99,  99])"
      ]
     },
     "execution_count": 84,
     "metadata": {},
     "output_type": "execute_result"
    }
   ],
   "source": [
    "oh.fit_transform(df[\"ligand name\"].values.reshape(-1, 1))"
   ]
  },
  {
   "cell_type": "code",
   "execution_count": null,
   "metadata": {},
   "outputs": [],
   "source": []
  }
 ],
 "metadata": {
  "kernelspec": {
   "display_name": "gptchem",
   "language": "python",
   "name": "python3"
  },
  "language_info": {
   "codemirror_mode": {
    "name": "ipython",
    "version": 3
   },
   "file_extension": ".py",
   "mimetype": "text/x-python",
   "name": "python",
   "nbconvert_exporter": "python",
   "pygments_lexer": "ipython3",
   "version": "3.9.15"
  },
  "orig_nbformat": 4,
  "vscode": {
   "interpreter": {
    "hash": "2f3b9074e5baa1438c27e2ea813f7f53b7516c83bd70840b6d64eae6820ee5df"
   }
  }
 },
 "nbformat": 4,
 "nbformat_minor": 2
}
