{
 "cells": [
  {
   "cell_type": "code",
   "execution_count": 1,
   "metadata": {},
   "outputs": [],
   "source": [
    "%load_ext autoreload\n",
    "%autoreload 2"
   ]
  },
  {
   "cell_type": "code",
   "execution_count": 12,
   "metadata": {},
   "outputs": [],
   "source": [
    "from gptchem.data import get_mof_solvent_data\n",
    "from gptchem.formatter import MOFSolventRecommenderFormatter\n",
    "\n",
    "from gptchem.tuner import Tuner\n",
    "from gptchem.querier import Querier\n",
    "\n",
    "\n",
    "from sklearn.model_selection import train_test_split"
   ]
  },
  {
   "cell_type": "code",
   "execution_count": 4,
   "metadata": {},
   "outputs": [],
   "source": [
    "data = get_mof_solvent_data()"
   ]
  },
  {
   "cell_type": "code",
   "execution_count": null,
   "metadata": {},
   "outputs": [],
   "source": [
    "solvent_columns = [\"solvent1\", \"solvent2\", \"solvent3\",\t\"solvent4\",\t\"solvent5\"]\n",
    "solvent_molrations = [\"sol_molratio1\", \"sol_molratio2\", \"sol_molratio3\", \"sol_molratio4\", \"sol_molratio5\"]\n",
    "metal = [\"core_All_Metals\"]\n",
    "counter_ions = [\"counterions1\"]\n",
    "linkers = [\"linker_1\", \"linker_2\"]"
   ]
  },
  {
   "cell_type": "code",
   "execution_count": 8,
   "metadata": {},
   "outputs": [],
   "source": [
    "recommender = MOFSolventRecommenderFormatter(\n",
    "    linker_columns=[\"linker_1\", \"linker_2\"],\n",
    "    node_columns=[\"core_All_Metals\"],\n",
    "    counter_ion_columns=[\"counterions1\"],\n",
    "    solvent_columns=[\"solvent1\", \"solvent2\", \"solvent3\",\t\"solvent4\",\t\"solvent5\"],\n",
    "    solvent_mol_ratio_columns=[\"sol_molratio1\", \"sol_molratio2\", \"sol_molratio3\", \"sol_molratio4\", \"sol_molratio5\"],\n",
    ")"
   ]
  },
  {
   "cell_type": "code",
   "execution_count": 9,
   "metadata": {},
   "outputs": [],
   "source": [
    "formatted = recommender(data)"
   ]
  },
  {
   "cell_type": "code",
   "execution_count": 10,
   "metadata": {},
   "outputs": [
    {
     "data": {
      "text/html": [
       "<div>\n",
       "<style scoped>\n",
       "    .dataframe tbody tr th:only-of-type {\n",
       "        vertical-align: middle;\n",
       "    }\n",
       "\n",
       "    .dataframe tbody tr th {\n",
       "        vertical-align: top;\n",
       "    }\n",
       "\n",
       "    .dataframe thead th {\n",
       "        text-align: right;\n",
       "    }\n",
       "</style>\n",
       "<table border=\"1\" class=\"dataframe\">\n",
       "  <thead>\n",
       "    <tr style=\"text-align: right;\">\n",
       "      <th></th>\n",
       "      <th>prompt</th>\n",
       "      <th>completion</th>\n",
       "      <th>label</th>\n",
       "      <th>representation</th>\n",
       "      <th>solvents</th>\n",
       "      <th>solvent_mol_ratios</th>\n",
       "    </tr>\n",
       "  </thead>\n",
       "  <tbody>\n",
       "    <tr>\n",
       "      <th>0</th>\n",
       "      <td>In what solvent can one make a MOF out of [O-]...</td>\n",
       "      <td>0.53 CN(C)C=O and 0.18 C(CO)O and 0.28 O@@@</td>\n",
       "      <td>0.53 CN(C)C=O and 0.18 C(CO)O and 0.28 O</td>\n",
       "      <td>[[[O-]C(=O)c1cc([N][N]c2cc(cc(c2)C(=O)O)C(=O)O...</td>\n",
       "      <td>[CN(C)C=O, C(CO)O, O, nan, nan]</td>\n",
       "      <td>[0.532, 0.184, 0.284, nan, nan]</td>\n",
       "    </tr>\n",
       "    <tr>\n",
       "      <th>1</th>\n",
       "      <td>In what solvent can one make a MOF out of O=C(...</td>\n",
       "      <td>0.54 CN(C)C=O and 0.46 O@@@</td>\n",
       "      <td>0.54 CN(C)C=O and 0.46 O</td>\n",
       "      <td>[[O=C(c1cncc(c1)C(=O)Nc1ccc2c(c1)ccc(c2)C(=O)[...</td>\n",
       "      <td>[CN(C)C=O, O, nan, nan, nan]</td>\n",
       "      <td>[0.539, 0.461, nan, nan, nan]</td>\n",
       "    </tr>\n",
       "    <tr>\n",
       "      <th>2</th>\n",
       "      <td>In what solvent can one make a MOF out of [N]1...</td>\n",
       "      <td>1.0 O@@@</td>\n",
       "      <td>1.0 O</td>\n",
       "      <td>[[[N]1C=NN=C1, nan], [Zn], [F], [O, nan, nan, ...</td>\n",
       "      <td>[O, nan, nan, nan, nan]</td>\n",
       "      <td>[1.0, nan, nan, nan, nan]</td>\n",
       "    </tr>\n",
       "    <tr>\n",
       "      <th>3</th>\n",
       "      <td>In what solvent can one make a MOF out of [O-]...</td>\n",
       "      <td>0.56 CN(C)C=O and 0.34 O and 0.1 CCO@@@</td>\n",
       "      <td>0.56 CN(C)C=O and 0.34 O and 0.1 CCO</td>\n",
       "      <td>[[[O-]C(=O)c1ccc(cc1)c1cccc(c1)C(=O)[O-], nan]...</td>\n",
       "      <td>[CN(C)C=O, O, CCO, nan, nan]</td>\n",
       "      <td>[0.556, 0.339, 0.105, nan, nan]</td>\n",
       "    </tr>\n",
       "    <tr>\n",
       "      <th>4</th>\n",
       "      <td>In what solvent can one make a MOF out of [O-]...</td>\n",
       "      <td>0.38 CN(C)C=O and 0.3 CCO and 0.32 O@@@</td>\n",
       "      <td>0.38 CN(C)C=O and 0.3 CCO and 0.32 O</td>\n",
       "      <td>[[[O-]C(=O)c1cc([N][N]c2cc(cc(c2)C(=O)[O-])C(=...</td>\n",
       "      <td>[CN(C)C=O, CCO, O, nan, nan]</td>\n",
       "      <td>[0.377, 0.3, 0.323, nan, nan]</td>\n",
       "    </tr>\n",
       "    <tr>\n",
       "      <th>...</th>\n",
       "      <td>...</td>\n",
       "      <td>...</td>\n",
       "      <td>...</td>\n",
       "      <td>...</td>\n",
       "      <td>...</td>\n",
       "      <td>...</td>\n",
       "    </tr>\n",
       "    <tr>\n",
       "      <th>431</th>\n",
       "      <td>In what solvent can one make a MOF out of Cc1c...</td>\n",
       "      <td>1.0 CO@@@</td>\n",
       "      <td>1.0 CO</td>\n",
       "      <td>[[Cc1c(c2c(C)c(c3ccncc3)c(c(c2C)c2ccncc2)C)c(C...</td>\n",
       "      <td>[CO, nan, nan, nan, nan]</td>\n",
       "      <td>[1.0, nan, nan, nan, nan]</td>\n",
       "    </tr>\n",
       "    <tr>\n",
       "      <th>432</th>\n",
       "      <td>In what solvent can one make a MOF out of [O-]...</td>\n",
       "      <td>1.0 O@@@</td>\n",
       "      <td>1.0 O</td>\n",
       "      <td>[[[O-]C(=O)C1C(C(=O)[O-])C(C1C(=O)[O-])C(=O)[O...</td>\n",
       "      <td>[O, nan, nan, nan, nan]</td>\n",
       "      <td>[1.0, nan, nan, nan, nan]</td>\n",
       "    </tr>\n",
       "    <tr>\n",
       "      <th>433</th>\n",
       "      <td>In what solvent can one make a MOF out of [O]P...</td>\n",
       "      <td>1.0 O@@@</td>\n",
       "      <td>1.0 O</td>\n",
       "      <td>[[[O]P(=O)(C(P(=O)([O])[O])(Cc1cccnc1)O)[O], n...</td>\n",
       "      <td>[O, nan, nan, nan, nan]</td>\n",
       "      <td>[1.0, nan, nan, nan, nan]</td>\n",
       "    </tr>\n",
       "    <tr>\n",
       "      <th>434</th>\n",
       "      <td>In what solvent can one make a MOF out of [O-]...</td>\n",
       "      <td>1.0 O@@@</td>\n",
       "      <td>1.0 O</td>\n",
       "      <td>[[[O-]C(=O)c1cccc(c1)C(=O)[O-], c1ccc(nc1)c1cc...</td>\n",
       "      <td>[O, nan, nan, nan, nan]</td>\n",
       "      <td>[1.0, nan, nan, nan, nan]</td>\n",
       "    </tr>\n",
       "    <tr>\n",
       "      <th>435</th>\n",
       "      <td>In what solvent can one make a MOF out of [O-]...</td>\n",
       "      <td>1.0 CC(=O)N(C)C@@@</td>\n",
       "      <td>1.0 CC(=O)N(C)C</td>\n",
       "      <td>[[[O-]C(=O)c1ccc2c(c1)ccc(c2)N(c1ccc2c(c1)ccc(...</td>\n",
       "      <td>[CC(=O)N(C)C, nan, nan, nan, nan]</td>\n",
       "      <td>[1.0, nan, nan, nan, nan]</td>\n",
       "    </tr>\n",
       "  </tbody>\n",
       "</table>\n",
       "<p>436 rows × 6 columns</p>\n",
       "</div>"
      ],
      "text/plain": [
       "                                                prompt  ...               solvent_mol_ratios\n",
       "0    In what solvent can one make a MOF out of [O-]...  ...  [0.532, 0.184, 0.284, nan, nan]\n",
       "1    In what solvent can one make a MOF out of O=C(...  ...    [0.539, 0.461, nan, nan, nan]\n",
       "2    In what solvent can one make a MOF out of [N]1...  ...        [1.0, nan, nan, nan, nan]\n",
       "3    In what solvent can one make a MOF out of [O-]...  ...  [0.556, 0.339, 0.105, nan, nan]\n",
       "4    In what solvent can one make a MOF out of [O-]...  ...    [0.377, 0.3, 0.323, nan, nan]\n",
       "..                                                 ...  ...                              ...\n",
       "431  In what solvent can one make a MOF out of Cc1c...  ...        [1.0, nan, nan, nan, nan]\n",
       "432  In what solvent can one make a MOF out of [O-]...  ...        [1.0, nan, nan, nan, nan]\n",
       "433  In what solvent can one make a MOF out of [O]P...  ...        [1.0, nan, nan, nan, nan]\n",
       "434  In what solvent can one make a MOF out of [O-]...  ...        [1.0, nan, nan, nan, nan]\n",
       "435  In what solvent can one make a MOF out of [O-]...  ...        [1.0, nan, nan, nan, nan]\n",
       "\n",
       "[436 rows x 6 columns]"
      ]
     },
     "execution_count": 10,
     "metadata": {},
     "output_type": "execute_result"
    }
   ],
   "source": [
    "formatted"
   ]
  },
  {
   "cell_type": "code",
   "execution_count": 13,
   "metadata": {},
   "outputs": [],
   "source": [
    "train, test = train_test_split(formatted, train_size=100, test_size=50, random_state=42)"
   ]
  },
  {
   "cell_type": "code",
   "execution_count": 14,
   "metadata": {},
   "outputs": [
    {
     "name": "stderr",
     "output_type": "stream",
     "text": [
      "Upload progress: 100%|██████████| 45.5k/45.5k [00:00<00:00, 16.4Mit/s]\n"
     ]
    },
    {
     "name": "stdout",
     "output_type": "stream",
     "text": [
      "Uploaded file from /Users/kevinmaikjablonka/git/kjappelbaum/gptchem/experiments/03_classification/mof_solvent/out/20230115_184116/train.jsonl: file-Uf3KpooYAjifbnMp8nGsdTun\n"
     ]
    }
   ],
   "source": [
    "tuner = Tuner(n_epochs=8, learning_rate_multiplier=0.02, wandb_sync=False)\n",
    "tune_res = tuner(train)\n",
    "querier = Querier.from_preset(tune_res[\"model_name\"])\n",
    "completions = querier(test)"
   ]
  },
  {
   "cell_type": "code",
   "execution_count": null,
   "metadata": {},
   "outputs": [],
   "source": []
  }
 ],
 "metadata": {
  "kernelspec": {
   "display_name": "gptchem",
   "language": "python",
   "name": "python3"
  },
  "language_info": {
   "codemirror_mode": {
    "name": "ipython",
    "version": 3
   },
   "file_extension": ".py",
   "mimetype": "text/x-python",
   "name": "python",
   "nbconvert_exporter": "python",
   "pygments_lexer": "ipython3",
   "version": "3.9.15"
  },
  "orig_nbformat": 4,
  "vscode": {
   "interpreter": {
    "hash": "2f3b9074e5baa1438c27e2ea813f7f53b7516c83bd70840b6d64eae6820ee5df"
   }
  }
 },
 "nbformat": 4,
 "nbformat_minor": 2
}
