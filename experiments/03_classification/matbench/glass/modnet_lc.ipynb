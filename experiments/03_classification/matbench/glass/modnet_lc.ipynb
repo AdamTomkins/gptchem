{
 "cells": [
  {
   "cell_type": "code",
   "execution_count": 1,
   "metadata": {},
   "outputs": [],
   "source": [
    "%load_ext autoreload\n",
    "%autoreload 2"
   ]
  },
  {
   "cell_type": "code",
   "execution_count": 9,
   "metadata": {},
   "outputs": [],
   "source": [
    "from collections import defaultdict\n",
    "import itertools\n",
    "import os\n",
    "import pandas as pd\n",
    "import matplotlib.pyplot as plt\n",
    "import numpy as np\n",
    "from IPython.display import Markdown\n",
    "from matminer.datasets import load_dataset\n",
    "from pymatgen.core import Composition\n",
    "\n",
    "from modnet.preprocessing import MODData\n",
    "\n",
    "# from modnet.models import MODNetModel\n",
    "from modnet.featurizers import MODFeaturizer\n",
    "from modnet.models import MODNetModel\n",
    "from modnet.featurizers.presets import DeBreuck2020Featurizer"
   ]
  },
  {
   "cell_type": "code",
   "execution_count": 3,
   "metadata": {},
   "outputs": [],
   "source": [
    "from gptchem.data import get_matbench_glass"
   ]
  },
  {
   "cell_type": "code",
   "execution_count": 4,
   "metadata": {},
   "outputs": [],
   "source": [
    "df = get_matbench_glass()"
   ]
  },
  {
   "cell_type": "code",
   "execution_count": 5,
   "metadata": {},
   "outputs": [
    {
     "data": {
      "text/plain": [
       "'0.1.12'"
      ]
     },
     "execution_count": 5,
     "metadata": {},
     "output_type": "execute_result"
    }
   ],
   "source": [
    "import modnet\n",
    "\n",
    "modnet.__version__"
   ]
  },
  {
   "cell_type": "code",
   "execution_count": 6,
   "metadata": {},
   "outputs": [],
   "source": [
    "class CompositionOnlyFeaturizer(DeBreuck2020Featurizer):\n",
    "    def __init__(self):\n",
    "        super().__init__()\n",
    "        self.oxid_composition_featurizers = ()\n",
    "        self.structure_featurizers = ()\n",
    "        self.site_featurizers = ()"
   ]
  },
  {
   "cell_type": "code",
   "execution_count": 7,
   "metadata": {},
   "outputs": [
    {
     "name": "stdout",
     "output_type": "stream",
     "text": [
      "2023-02-07 14:13:16,179 - modnet - INFO - Loaded CompositionOnlyFeaturizer featurizer.\n",
      "2023-02-07 14:13:16,197 - modnet - INFO - Computing features, this can take time...\n",
      "2023-02-07 14:13:16,199 - modnet - INFO - Applying composition featurizers...\n",
      "2023-02-07 14:13:16,225 - modnet - INFO - Applying featurizers (AtomicOrbitals(), AtomicPackingEfficiency(), BandCenter(), ElementFraction(), ElementProperty(data_source=<matminer.utils.data.MagpieData object at 0x2a17f25b0>,\n",
      "                features=['Number', 'MendeleevNumber', 'AtomicWeight',\n",
      "                          'MeltingT', 'Column', 'Row', 'CovalentRadius',\n",
      "                          'Electronegativity', 'NsValence', 'NpValence',\n",
      "                          'NdValence', 'NfValence', 'NValence', 'NsUnfilled',\n",
      "                          'NpUnfilled', 'NdUnfilled', 'NfUnfilled', 'NUnfilled',\n",
      "                          'GSvolume_pa', 'GSbandgap', 'GSmagmom',\n",
      "                          'SpaceGroupNumber'],\n",
      "                stats=['minimum', 'maximum', 'range', 'mean', 'avg_dev',\n",
      "                       'mode']), IonProperty(), Miedema(ss_types=['min'], struct_types=['inter', 'amor', 'ss']), Stoichiometry(), TMetalFraction(), ValenceOrbital(), YangSolidSolution()) to column 'composition'.\n"
     ]
    },
    {
     "data": {
      "application/vnd.jupyter.widget-view+json": {
       "model_id": "73d7e81df5cc4dd78632ee0260021188",
       "version_major": 2,
       "version_minor": 0
      },
      "text/plain": [
       "MultipleFeaturizer:   0%|          | 0/5680 [00:00<?, ?it/s]"
      ]
     },
     "metadata": {},
     "output_type": "display_data"
    },
    {
     "name": "stderr",
     "output_type": "stream",
     "text": [
      "/Users/kevinmaikjablonka/miniconda3/envs/gptchem/lib/python3.9/site-packages/matminer/featurizers/composition/alloy.py:198: RuntimeWarning: invalid value encountered in power\n",
      "  alp_a = np.multiply(1.5, np.power(v_a, 2 / 3)) / reduce(lambda x, y: 1 / x + 1 / y, np.power(n_ws, 1 / 3))\n",
      "/Users/kevinmaikjablonka/miniconda3/envs/gptchem/lib/python3.9/site-packages/matminer/featurizers/composition/alloy.py:198: RuntimeWarning: invalid value encountered in power\n",
      "  alp_a = np.multiply(1.5, np.power(v_a, 2 / 3)) / reduce(lambda x, y: 1 / x + 1 / y, np.power(n_ws, 1 / 3))\n",
      "/Users/kevinmaikjablonka/miniconda3/envs/gptchem/lib/python3.9/site-packages/matminer/featurizers/composition/alloy.py:198: RuntimeWarning: invalid value encountered in power\n",
      "  alp_a = np.multiply(1.5, np.power(v_a, 2 / 3)) / reduce(lambda x, y: 1 / x + 1 / y, np.power(n_ws, 1 / 3))\n",
      "/Users/kevinmaikjablonka/miniconda3/envs/gptchem/lib/python3.9/site-packages/matminer/featurizers/composition/alloy.py:198: RuntimeWarning: invalid value encountered in power\n",
      "  alp_a = np.multiply(1.5, np.power(v_a, 2 / 3)) / reduce(lambda x, y: 1 / x + 1 / y, np.power(n_ws, 1 / 3))\n",
      "/Users/kevinmaikjablonka/miniconda3/envs/gptchem/lib/python3.9/site-packages/matminer/featurizers/composition/alloy.py:198: RuntimeWarning: invalid value encountered in power\n",
      "  alp_a = np.multiply(1.5, np.power(v_a, 2 / 3)) / reduce(lambda x, y: 1 / x + 1 / y, np.power(n_ws, 1 / 3))\n",
      "/Users/kevinmaikjablonka/miniconda3/envs/gptchem/lib/python3.9/site-packages/matminer/featurizers/composition/alloy.py:198: RuntimeWarning: invalid value encountered in power\n",
      "  alp_a = np.multiply(1.5, np.power(v_a, 2 / 3)) / reduce(lambda x, y: 1 / x + 1 / y, np.power(n_ws, 1 / 3))\n",
      "/Users/kevinmaikjablonka/miniconda3/envs/gptchem/lib/python3.9/site-packages/matminer/featurizers/composition/alloy.py:198: RuntimeWarning: invalid value encountered in power\n",
      "  alp_a = np.multiply(1.5, np.power(v_a, 2 / 3)) / reduce(lambda x, y: 1 / x + 1 / y, np.power(n_ws, 1 / 3))\n",
      "/Users/kevinmaikjablonka/miniconda3/envs/gptchem/lib/python3.9/site-packages/matminer/featurizers/composition/alloy.py:198: RuntimeWarning: invalid value encountered in power\n",
      "  alp_a = np.multiply(1.5, np.power(v_a, 2 / 3)) / reduce(lambda x, y: 1 / x + 1 / y, np.power(n_ws, 1 / 3))\n",
      "/Users/kevinmaikjablonka/miniconda3/envs/gptchem/lib/python3.9/site-packages/matminer/featurizers/composition/alloy.py:198: RuntimeWarning: invalid value encountered in power\n",
      "  alp_a = np.multiply(1.5, np.power(v_a, 2 / 3)) / reduce(lambda x, y: 1 / x + 1 / y, np.power(n_ws, 1 / 3))\n",
      "/Users/kevinmaikjablonka/miniconda3/envs/gptchem/lib/python3.9/site-packages/matminer/featurizers/composition/alloy.py:198: RuntimeWarning: invalid value encountered in power\n",
      "  alp_a = np.multiply(1.5, np.power(v_a, 2 / 3)) / reduce(lambda x, y: 1 / x + 1 / y, np.power(n_ws, 1 / 3))\n",
      "/Users/kevinmaikjablonka/miniconda3/envs/gptchem/lib/python3.9/site-packages/matminer/featurizers/composition/alloy.py:198: RuntimeWarning: invalid value encountered in power\n",
      "  alp_a = np.multiply(1.5, np.power(v_a, 2 / 3)) / reduce(lambda x, y: 1 / x + 1 / y, np.power(n_ws, 1 / 3))\n"
     ]
    },
    {
     "name": "stdout",
     "output_type": "stream",
     "text": [
      "2023-02-07 14:29:47,467 - modnet - INFO - Data has successfully been featurized!\n",
      "2023-02-07 14:29:47,493 - modnet - INFO - Multiprocessing on 1 workers.\n",
      "2023-02-07 14:29:47,495 - modnet - INFO - Computing \"self\" MI (i.e. information entropy) of features\n"
     ]
    },
    {
     "name": "stderr",
     "output_type": "stream",
     "text": [
      "100%|██████████| 270/270 [00:06<00:00, 44.81it/s]"
     ]
    },
    {
     "name": "stdout",
     "output_type": "stream",
     "text": [
      "2023-02-07 14:29:53,552 - modnet - INFO - Computing cross NMI between all features...\n"
     ]
    },
    {
     "name": "stderr",
     "output_type": "stream",
     "text": [
      "\n",
      "100%|██████████| 16110/16110 [04:00<00:00, 66.95it/s] \n"
     ]
    },
    {
     "name": "stdout",
     "output_type": "stream",
     "text": [
      "2023-02-07 14:33:54,716 - modnet - INFO - Starting target 1/1: gfa ...\n",
      "2023-02-07 14:33:54,716 - modnet - INFO - Computing mutual information between features and target...\n"
     ]
    },
    {
     "name": "stderr",
     "output_type": "stream",
     "text": [
      "/Users/kevinmaikjablonka/git/kjappelbaum/modnet/modnet/preprocessing.py:145: FutureWarning: In a future version, `df.iloc[:, i] = newvals` will attempt to set the values inplace instead of always setting a new array. To retain the old behavior, use either `df[df.columns[i]] = newvals` or, if columns are non-unique, `df.isetitem(i, newvals)`\n",
      "  mutual_info.loc[:, target_name] = _mifun(df_feat, df_target[target_name], **kwargs)\n"
     ]
    },
    {
     "name": "stdout",
     "output_type": "stream",
     "text": [
      "2023-02-07 14:34:00,210 - modnet - INFO - Computing optimal features...\n",
      "2023-02-07 14:34:01,538 - modnet - INFO - Selected 50/180 features...\n",
      "2023-02-07 14:34:02,532 - modnet - INFO - Selected 100/180 features...\n",
      "2023-02-07 14:34:03,079 - modnet - INFO - Selected 150/180 features...\n",
      "2023-02-07 14:34:03,202 - modnet - INFO - Done with target 1/1: gfa.\n",
      "2023-02-07 14:34:03,204 - modnet - INFO - Merging all features...\n",
      "2023-02-07 14:34:03,205 - modnet - INFO - Done.\n",
      "2023-02-07 14:34:04,483 - modnet - INFO - Data successfully saved as ./precomputed/glass_benchmark_moddata.pkl.gz!\n"
     ]
    }
   ],
   "source": [
    "PRECOMPUTED_MODDATA = \"./precomputed/glass_benchmark_moddata.pkl.gz\"\n",
    "\n",
    "if os.path.isfile(PRECOMPUTED_MODDATA):\n",
    "    data = MODData.load(PRECOMPUTED_MODDATA)\n",
    "else:\n",
    "    # Use a fresh copy of the dataset\n",
    "    # df = load_dataset(\"matbench_glass\")\n",
    "    # df[\"composition\"] = df[\"composition\"].map(Composition)\n",
    "    df[\"structure\"] = df[\"composition\"].map(Composition)\n",
    "\n",
    "    data = MODData(\n",
    "        materials=df[\"structure\"].tolist(),\n",
    "        targets=df[\"gfa\"].tolist(),\n",
    "        target_names=[\"gfa\"],\n",
    "        featurizer=CompositionOnlyFeaturizer(),\n",
    "        # num_classes = {'gfa':2}\n",
    "    )\n",
    "    data.featurize()\n",
    "    # As this is a small data/feature set, order all features\n",
    "    data.feature_selection(n=-1)\n",
    "    data.save(PRECOMPUTED_MODDATA)"
   ]
  },
  {
   "cell_type": "code",
   "execution_count": 11,
   "metadata": {},
   "outputs": [],
   "source": [
    "best_settings = {\n",
    "    \"increase_bs\": True,\n",
    "    \"num_neurons\": [[128], [64], [16], []],\n",
    "    \"n_feat\": 150,\n",
    "    \"lr\": 0.002,\n",
    "    \"epochs\": 200,\n",
    "    \"verbose\": 0,\n",
    "    \"act\": \"elu\",\n",
    "    \"batch_size\": 64,\n",
    "    \"num_classes\": {\"gfa\": 2},\n",
    "    \"loss\": \"categorical_crossentropy\",\n",
    "    # \"xscale\": \"standard\",\n",
    "}"
   ]
  },
  {
   "cell_type": "code",
   "execution_count": 14,
   "metadata": {},
   "outputs": [],
   "source": [
    "model = MODNetModel(\n",
    "    [[[\"gfa\"]]],\n",
    "    {\"gfa\": 1},\n",
    "    num_neurons=best_settings[\"num_neurons\"],\n",
    "    num_classes=best_settings.get(\"num_classes\"),\n",
    "    act=best_settings.get(\"act\"),\n",
    "    out_act=best_settings.get(\"out_act\", \"linear\"),\n",
    "    n_feat=best_settings[\"n_feat\"],\n",
    ")"
   ]
  },
  {
   "cell_type": "code",
   "execution_count": 15,
   "metadata": {},
   "outputs": [
    {
     "name": "stderr",
     "output_type": "stream",
     "text": [
      "/Users/kevinmaikjablonka/miniconda3/envs/gptchem/lib/python3.9/site-packages/keras/optimizers/optimizer_v2/adam.py:114: UserWarning: The `lr` argument is deprecated, use `learning_rate` instead.\n",
      "  super().__init__(name, **kwargs)\n"
     ]
    }
   ],
   "source": [
    "model.fit(data, epochs=best_settings[\"epochs\"], batch_size=best_settings[\"batch_size\"], \n",
    "verbose=best_settings[\"verbose\"], lr=best_settings[\"lr\"], loss=best_settings[\"loss\"])"
   ]
  },
  {
   "cell_type": "code",
   "execution_count": 16,
   "metadata": {},
   "outputs": [
    {
     "name": "stdout",
     "output_type": "stream",
     "text": [
      "178/178 [==============================] - 0s 421us/step\n"
     ]
    }
   ],
   "source": [
    "predictions = model.predict(data)"
   ]
  },
  {
   "cell_type": "code",
   "execution_count": 17,
   "metadata": {},
   "outputs": [
    {
     "data": {
      "text/html": [
       "<div>\n",
       "<style scoped>\n",
       "    .dataframe tbody tr th:only-of-type {\n",
       "        vertical-align: middle;\n",
       "    }\n",
       "\n",
       "    .dataframe tbody tr th {\n",
       "        vertical-align: top;\n",
       "    }\n",
       "\n",
       "    .dataframe thead th {\n",
       "        text-align: right;\n",
       "    }\n",
       "</style>\n",
       "<table border=\"1\" class=\"dataframe\">\n",
       "  <thead>\n",
       "    <tr style=\"text-align: right;\">\n",
       "      <th></th>\n",
       "      <th>gfa</th>\n",
       "    </tr>\n",
       "  </thead>\n",
       "  <tbody>\n",
       "    <tr>\n",
       "      <th>id0</th>\n",
       "      <td>0</td>\n",
       "    </tr>\n",
       "    <tr>\n",
       "      <th>id1</th>\n",
       "      <td>1</td>\n",
       "    </tr>\n",
       "    <tr>\n",
       "      <th>id2</th>\n",
       "      <td>1</td>\n",
       "    </tr>\n",
       "    <tr>\n",
       "      <th>id3</th>\n",
       "      <td>1</td>\n",
       "    </tr>\n",
       "    <tr>\n",
       "      <th>id4</th>\n",
       "      <td>1</td>\n",
       "    </tr>\n",
       "    <tr>\n",
       "      <th>...</th>\n",
       "      <td>...</td>\n",
       "    </tr>\n",
       "    <tr>\n",
       "      <th>id5675</th>\n",
       "      <td>0</td>\n",
       "    </tr>\n",
       "    <tr>\n",
       "      <th>id5676</th>\n",
       "      <td>1</td>\n",
       "    </tr>\n",
       "    <tr>\n",
       "      <th>id5677</th>\n",
       "      <td>1</td>\n",
       "    </tr>\n",
       "    <tr>\n",
       "      <th>id5678</th>\n",
       "      <td>1</td>\n",
       "    </tr>\n",
       "    <tr>\n",
       "      <th>id5679</th>\n",
       "      <td>1</td>\n",
       "    </tr>\n",
       "  </tbody>\n",
       "</table>\n",
       "<p>5680 rows × 1 columns</p>\n",
       "</div>"
      ],
      "text/plain": [
       "        gfa\n",
       "id0       0\n",
       "id1       1\n",
       "id2       1\n",
       "id3       1\n",
       "id4       1\n",
       "...     ...\n",
       "id5675    0\n",
       "id5676    1\n",
       "id5677    1\n",
       "id5678    1\n",
       "id5679    1\n",
       "\n",
       "[5680 rows x 1 columns]"
      ]
     },
     "execution_count": 17,
     "metadata": {},
     "output_type": "execute_result"
    }
   ],
   "source": [
    "predictions"
   ]
  },
  {
   "cell_type": "code",
   "execution_count": null,
   "metadata": {},
   "outputs": [],
   "source": []
  }
 ],
 "metadata": {
  "kernelspec": {
   "display_name": "gptchem",
   "language": "python",
   "name": "python3"
  },
  "language_info": {
   "codemirror_mode": {
    "name": "ipython",
    "version": 3
   },
   "file_extension": ".py",
   "mimetype": "text/x-python",
   "name": "python",
   "nbconvert_exporter": "python",
   "pygments_lexer": "ipython3",
   "version": "3.9.15"
  },
  "orig_nbformat": 4,
  "vscode": {
   "interpreter": {
    "hash": "2f3b9074e5baa1438c27e2ea813f7f53b7516c83bd70840b6d64eae6820ee5df"
   }
  }
 },
 "nbformat": 4,
 "nbformat_minor": 2
}
