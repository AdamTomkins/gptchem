{
 "cells": [
  {
   "cell_type": "code",
   "execution_count": 64,
   "metadata": {},
   "outputs": [
    {
     "name": "stdout",
     "output_type": "stream",
     "text": [
      "The autoreload extension is already loaded. To reload it, use:\n",
      "  %reload_ext autoreload\n"
     ]
    }
   ],
   "source": [
    "%load_ext autoreload\n",
    "%autoreload 2"
   ]
  },
  {
   "cell_type": "code",
   "execution_count": 79,
   "metadata": {},
   "outputs": [],
   "source": [
    "import os\n",
    "from glob import glob\n",
    "from pathlib import Path\n",
    "\n",
    "import matplotlib as mpl\n",
    "import matplotlib.pyplot as plt\n",
    "import matplotx\n",
    "import pandas as pd\n",
    "from fastcore.xtras import load_pickle\n",
    "from scipy.stats import sem\n",
    "\n",
    "from gptchem.evaluator import find_learning_curve_intersection, fit_learning_curve, lc\n",
    "from gptchem.plotsettings import *\n",
    "from gptchem.settings import ONE_COL_WIDTH_INCH, TWO_COL_GOLDEN_RATIO_HEIGHT_INCH"
   ]
  },
  {
   "cell_type": "code",
   "execution_count": 80,
   "metadata": {},
   "outputs": [],
   "source": [
    "all_out = glob(\"out/**/*.pkl\")"
   ]
  },
  {
   "cell_type": "code",
   "execution_count": 81,
   "metadata": {},
   "outputs": [],
   "source": [
    "all_modnet_out = glob(\"out_baseline/*.pkl\")"
   ]
  },
  {
   "cell_type": "code",
   "execution_count": 82,
   "metadata": {},
   "outputs": [
    {
     "data": {
      "text/plain": [
       "63"
      ]
     },
     "execution_count": 82,
     "metadata": {},
     "output_type": "execute_result"
    }
   ],
   "source": [
    "len(all_modnet_out)"
   ]
  },
  {
   "cell_type": "code",
   "execution_count": 83,
   "metadata": {},
   "outputs": [
    {
     "data": {
      "text/plain": [
       "22"
      ]
     },
     "execution_count": 83,
     "metadata": {},
     "output_type": "execute_result"
    }
   ],
   "source": [
    "len(all_out)"
   ]
  },
  {
   "cell_type": "code",
   "execution_count": 70,
   "metadata": {},
   "outputs": [],
   "source": [
    "all_res = [load_pickle(p) for p in all_out]"
   ]
  },
  {
   "cell_type": "code",
   "execution_count": 71,
   "metadata": {},
   "outputs": [],
   "source": [
    "all_compiled_res = []\n",
    "all_compiled_baseline_res = []\n",
    "\n",
    "for res in all_res:\n",
    "    compiled_res = {}\n",
    "    compiled_baseline_res = {}\n",
    "    compiled_res[\"accuracy\"] = res[\"accuracy\"]\n",
    "    compiled_res[\"f1_macro\"] = res[\"f1_macro\"]\n",
    "    compiled_res[\"f1_micro\"] = res[\"f1_micro\"]\n",
    "    compiled_res[\"kappa\"] = res[\"kappa\"]\n",
    "    compiled_res[\"train_size\"] = res[\"train_size\"]\n",
    "\n",
    "    try:\n",
    "        compiled_baseline_res[\"accuracy\"] = res[\"baseline\"][\"accuracy\"]\n",
    "        compiled_baseline_res[\"f1_macro\"] = res[\"baseline\"][\"f1_macro\"]\n",
    "        compiled_baseline_res[\"f1_micro\"] = res[\"baseline\"][\"f1_micro\"]\n",
    "        compiled_baseline_res[\"kappa\"] = res[\"baseline\"][\"kappa\"]\n",
    "        compiled_baseline_res[\"train_size\"] = res[\"train_size\"]\n",
    "    except KeyError:\n",
    "        compiled_baseline_res[\"accuracy\"] = None\n",
    "        compiled_baseline_res[\"f1_macro\"] = None\n",
    "        compiled_baseline_res[\"f1_micro\"] = None\n",
    "        compiled_baseline_res[\"kappa\"] = None\n",
    "        compiled_baseline_res[\"train_size\"] = res[\"train_size\"]\n",
    "\n",
    "    all_compiled_res.append(compiled_res)\n",
    "\n",
    "    if compiled_baseline_res[\"accuracy\"] is not None:\n",
    "        if compiled_baseline_res[\"accuracy\"] < 1:\n",
    "            all_compiled_baseline_res.append(compiled_baseline_res)"
   ]
  },
  {
   "cell_type": "code",
   "execution_count": 72,
   "metadata": {},
   "outputs": [],
   "source": [
    "all_modnet_res = []\n",
    "\n",
    "for res in all_modnet_out:\n",
    "    all_modnet_res.append(load_pickle(res))"
   ]
  },
  {
   "cell_type": "code",
   "execution_count": 73,
   "metadata": {},
   "outputs": [],
   "source": [
    "all_compiled_res = pd.DataFrame(all_compiled_res)\n",
    "all_compiled_baseline_res = pd.DataFrame(all_compiled_baseline_res)\n",
    "all_modnet_res = pd.DataFrame(all_modnet_res)"
   ]
  },
  {
   "cell_type": "code",
   "execution_count": 74,
   "metadata": {},
   "outputs": [],
   "source": [
    "grouped_res = all_compiled_res.groupby(\"train_size\").agg([\"mean\", \"std\", sem])"
   ]
  },
  {
   "cell_type": "code",
   "execution_count": 75,
   "metadata": {},
   "outputs": [
    {
     "name": "stderr",
     "output_type": "stream",
     "text": [
      "/Users/kevinmaikjablonka/miniconda3/envs/gptchem/lib/python3.9/site-packages/numpy/core/_methods.py:265: RuntimeWarning: Degrees of freedom <= 0 for slice\n",
      "  ret = _var(a, axis=axis, dtype=dtype, out=out, ddof=ddof,\n",
      "/Users/kevinmaikjablonka/miniconda3/envs/gptchem/lib/python3.9/site-packages/numpy/core/_methods.py:257: RuntimeWarning: invalid value encountered in double_scalars\n",
      "  ret = ret.dtype.type(ret / rcount)\n",
      "/Users/kevinmaikjablonka/miniconda3/envs/gptchem/lib/python3.9/site-packages/numpy/core/_methods.py:265: RuntimeWarning: Degrees of freedom <= 0 for slice\n",
      "  ret = _var(a, axis=axis, dtype=dtype, out=out, ddof=ddof,\n",
      "/Users/kevinmaikjablonka/miniconda3/envs/gptchem/lib/python3.9/site-packages/numpy/core/_methods.py:257: RuntimeWarning: invalid value encountered in double_scalars\n",
      "  ret = ret.dtype.type(ret / rcount)\n",
      "/Users/kevinmaikjablonka/miniconda3/envs/gptchem/lib/python3.9/site-packages/numpy/core/_methods.py:265: RuntimeWarning: Degrees of freedom <= 0 for slice\n",
      "  ret = _var(a, axis=axis, dtype=dtype, out=out, ddof=ddof,\n",
      "/Users/kevinmaikjablonka/miniconda3/envs/gptchem/lib/python3.9/site-packages/numpy/core/_methods.py:257: RuntimeWarning: invalid value encountered in double_scalars\n",
      "  ret = ret.dtype.type(ret / rcount)\n",
      "/Users/kevinmaikjablonka/miniconda3/envs/gptchem/lib/python3.9/site-packages/numpy/core/_methods.py:265: RuntimeWarning: Degrees of freedom <= 0 for slice\n",
      "  ret = _var(a, axis=axis, dtype=dtype, out=out, ddof=ddof,\n",
      "/Users/kevinmaikjablonka/miniconda3/envs/gptchem/lib/python3.9/site-packages/numpy/core/_methods.py:257: RuntimeWarning: invalid value encountered in double_scalars\n",
      "  ret = ret.dtype.type(ret / rcount)\n"
     ]
    }
   ],
   "source": [
    "grouped_automatminer = all_compiled_baseline_res.groupby(\"train_size\").agg([\"mean\", \"std\", sem])"
   ]
  },
  {
   "cell_type": "code",
   "execution_count": 76,
   "metadata": {},
   "outputs": [],
   "source": [
    "grouped_modnet = (\n",
    "    all_modnet_res[[\"accuracy\", \"f1_macro\", \"f1_micro\", \"kappa\", \"train_size\"]]\n",
    "    .groupby(\"train_size\")\n",
    "    .agg([\"mean\", \"std\", sem])\n",
    ")"
   ]
  },
  {
   "cell_type": "code",
   "execution_count": 77,
   "metadata": {},
   "outputs": [
    {
     "data": {
      "text/html": [
       "<div>\n",
       "<style scoped>\n",
       "    .dataframe tbody tr th:only-of-type {\n",
       "        vertical-align: middle;\n",
       "    }\n",
       "\n",
       "    .dataframe tbody tr th {\n",
       "        vertical-align: top;\n",
       "    }\n",
       "\n",
       "    .dataframe thead tr th {\n",
       "        text-align: left;\n",
       "    }\n",
       "\n",
       "    .dataframe thead tr:last-of-type th {\n",
       "        text-align: right;\n",
       "    }\n",
       "</style>\n",
       "<table border=\"1\" class=\"dataframe\">\n",
       "  <thead>\n",
       "    <tr>\n",
       "      <th></th>\n",
       "      <th colspan=\"3\" halign=\"left\">accuracy</th>\n",
       "      <th colspan=\"3\" halign=\"left\">f1_macro</th>\n",
       "      <th colspan=\"3\" halign=\"left\">f1_micro</th>\n",
       "      <th colspan=\"3\" halign=\"left\">kappa</th>\n",
       "    </tr>\n",
       "    <tr>\n",
       "      <th></th>\n",
       "      <th>mean</th>\n",
       "      <th>std</th>\n",
       "      <th>sem</th>\n",
       "      <th>mean</th>\n",
       "      <th>std</th>\n",
       "      <th>sem</th>\n",
       "      <th>mean</th>\n",
       "      <th>std</th>\n",
       "      <th>sem</th>\n",
       "      <th>mean</th>\n",
       "      <th>std</th>\n",
       "      <th>sem</th>\n",
       "    </tr>\n",
       "    <tr>\n",
       "      <th>train_size</th>\n",
       "      <th></th>\n",
       "      <th></th>\n",
       "      <th></th>\n",
       "      <th></th>\n",
       "      <th></th>\n",
       "      <th></th>\n",
       "      <th></th>\n",
       "      <th></th>\n",
       "      <th></th>\n",
       "      <th></th>\n",
       "      <th></th>\n",
       "      <th></th>\n",
       "    </tr>\n",
       "  </thead>\n",
       "  <tbody>\n",
       "    <tr>\n",
       "      <th>10</th>\n",
       "      <td>0.652974</td>\n",
       "      <td>0.059564</td>\n",
       "      <td>0.017959</td>\n",
       "      <td>0.564138</td>\n",
       "      <td>0.048966</td>\n",
       "      <td>0.014764</td>\n",
       "      <td>0.652974</td>\n",
       "      <td>0.059564</td>\n",
       "      <td>0.017959</td>\n",
       "      <td>0.135915</td>\n",
       "      <td>0.102145</td>\n",
       "      <td>0.030798</td>\n",
       "    </tr>\n",
       "    <tr>\n",
       "      <th>50</th>\n",
       "      <td>0.703037</td>\n",
       "      <td>0.025252</td>\n",
       "      <td>0.007985</td>\n",
       "      <td>0.623190</td>\n",
       "      <td>0.041504</td>\n",
       "      <td>0.013125</td>\n",
       "      <td>0.703037</td>\n",
       "      <td>0.025252</td>\n",
       "      <td>0.007985</td>\n",
       "      <td>0.249037</td>\n",
       "      <td>0.080955</td>\n",
       "      <td>0.025600</td>\n",
       "    </tr>\n",
       "    <tr>\n",
       "      <th>100</th>\n",
       "      <td>0.713864</td>\n",
       "      <td>0.022039</td>\n",
       "      <td>0.006645</td>\n",
       "      <td>0.647704</td>\n",
       "      <td>0.020937</td>\n",
       "      <td>0.006313</td>\n",
       "      <td>0.713864</td>\n",
       "      <td>0.022039</td>\n",
       "      <td>0.006645</td>\n",
       "      <td>0.296913</td>\n",
       "      <td>0.041788</td>\n",
       "      <td>0.012600</td>\n",
       "    </tr>\n",
       "    <tr>\n",
       "      <th>200</th>\n",
       "      <td>0.746417</td>\n",
       "      <td>0.012815</td>\n",
       "      <td>0.003864</td>\n",
       "      <td>0.693404</td>\n",
       "      <td>0.012274</td>\n",
       "      <td>0.003701</td>\n",
       "      <td>0.746417</td>\n",
       "      <td>0.012815</td>\n",
       "      <td>0.003864</td>\n",
       "      <td>0.387587</td>\n",
       "      <td>0.024670</td>\n",
       "      <td>0.007438</td>\n",
       "    </tr>\n",
       "    <tr>\n",
       "      <th>500</th>\n",
       "      <td>0.784977</td>\n",
       "      <td>0.011775</td>\n",
       "      <td>0.003550</td>\n",
       "      <td>0.733352</td>\n",
       "      <td>0.014694</td>\n",
       "      <td>0.004430</td>\n",
       "      <td>0.784977</td>\n",
       "      <td>0.011775</td>\n",
       "      <td>0.003550</td>\n",
       "      <td>0.467472</td>\n",
       "      <td>0.028935</td>\n",
       "      <td>0.008724</td>\n",
       "    </tr>\n",
       "    <tr>\n",
       "      <th>1000</th>\n",
       "      <td>0.807170</td>\n",
       "      <td>0.008597</td>\n",
       "      <td>0.002866</td>\n",
       "      <td>0.764303</td>\n",
       "      <td>0.009657</td>\n",
       "      <td>0.003219</td>\n",
       "      <td>0.807170</td>\n",
       "      <td>0.008597</td>\n",
       "      <td>0.002866</td>\n",
       "      <td>0.528903</td>\n",
       "      <td>0.019217</td>\n",
       "      <td>0.006406</td>\n",
       "    </tr>\n",
       "  </tbody>\n",
       "</table>\n",
       "</div>"
      ],
      "text/plain": [
       "            accuracy                      f1_macro                      \\\n",
       "                mean       std       sem      mean       std       sem   \n",
       "train_size                                                               \n",
       "10          0.652974  0.059564  0.017959  0.564138  0.048966  0.014764   \n",
       "50          0.703037  0.025252  0.007985  0.623190  0.041504  0.013125   \n",
       "100         0.713864  0.022039  0.006645  0.647704  0.020937  0.006313   \n",
       "200         0.746417  0.012815  0.003864  0.693404  0.012274  0.003701   \n",
       "500         0.784977  0.011775  0.003550  0.733352  0.014694  0.004430   \n",
       "1000        0.807170  0.008597  0.002866  0.764303  0.009657  0.003219   \n",
       "\n",
       "            f1_micro                         kappa                      \n",
       "                mean       std       sem      mean       std       sem  \n",
       "train_size                                                              \n",
       "10          0.652974  0.059564  0.017959  0.135915  0.102145  0.030798  \n",
       "50          0.703037  0.025252  0.007985  0.249037  0.080955  0.025600  \n",
       "100         0.713864  0.022039  0.006645  0.296913  0.041788  0.012600  \n",
       "200         0.746417  0.012815  0.003864  0.387587  0.024670  0.007438  \n",
       "500         0.784977  0.011775  0.003550  0.467472  0.028935  0.008724  \n",
       "1000        0.807170  0.008597  0.002866  0.528903  0.019217  0.006406  "
      ]
     },
     "execution_count": 77,
     "metadata": {},
     "output_type": "execute_result"
    }
   ],
   "source": [
    "grouped_modnet"
   ]
  },
  {
   "cell_type": "code",
   "execution_count": 78,
   "metadata": {},
   "outputs": [
    {
     "data": {
      "image/png": "[encoded data removed]",
      "text/plain": [
       "<Figure size 325x444.984 with 4 Axes>"
      ]
     },
     "metadata": {},
     "output_type": "display_data"
    }
   ],
   "source": [
    "fig, ax = plt.subplots(\n",
    "    4, 1, figsize=(ONE_COL_WIDTH_INCH, TWO_COL_GOLDEN_RATIO_HEIGHT_INCH), sharex=True\n",
    ")\n",
    "\n",
    "ax[0].plot(\n",
    "    grouped_res.index,\n",
    "    grouped_res[\"accuracy\"][\"mean\"],\n",
    "    label=\"GPT\",\n",
    "    marker=\"o\",\n",
    ")\n",
    "\n",
    "ax[0].fill_between(\n",
    "    grouped_res.index,\n",
    "    grouped_res[\"accuracy\"][\"mean\"] - grouped_res[\"accuracy\"][\"sem\"],\n",
    "    grouped_res[\"accuracy\"][\"mean\"] + grouped_res[\"accuracy\"][\"sem\"],\n",
    "    alpha=0.5,\n",
    ")\n",
    "\n",
    "ax[0].plot(\n",
    "    grouped_automatminer.index,\n",
    "    grouped_automatminer[\"accuracy\"][\"mean\"],\n",
    "    label=\"automatminer\",\n",
    "    marker=\"o\",\n",
    ")\n",
    "\n",
    "ax[0].fill_between(\n",
    "    grouped_automatminer.index,\n",
    "    grouped_automatminer[\"accuracy\"][\"mean\"] - grouped_automatminer[\"accuracy\"][\"sem\"],\n",
    "    grouped_automatminer[\"accuracy\"][\"mean\"] + grouped_automatminer[\"accuracy\"][\"sem\"],\n",
    "    alpha=0.5,\n",
    ")\n",
    "ax[0].plot(\n",
    "    grouped_modnet.index,\n",
    "    grouped_modnet[\"accuracy\"][\"mean\"],\n",
    "    label=\"ModNet\",\n",
    "    marker=\"o\",\n",
    ")\n",
    "\n",
    "ax[0].fill_between(\n",
    "    grouped_modnet.index,\n",
    "    grouped_modnet[\"accuracy\"][\"mean\"] - grouped_modnet[\"accuracy\"][\"sem\"],\n",
    "    grouped_modnet[\"accuracy\"][\"mean\"] + grouped_modnet[\"accuracy\"][\"sem\"],\n",
    "    alpha=0.5,\n",
    ")\n",
    "\n",
    "matplotx.line_labels(ax[0])\n",
    "\n",
    "ylabel_top(\"accuracy\", ax[0])\n",
    "\n",
    "ax[1].plot(\n",
    "    grouped_res.index,\n",
    "    grouped_res[\"f1_macro\"][\"mean\"],\n",
    "    label=\"GPT\",\n",
    "    marker=\"o\",\n",
    ")\n",
    "ax[1].fill_between(\n",
    "    grouped_res.index,\n",
    "    grouped_res[\"f1_macro\"][\"mean\"] - grouped_res[\"f1_macro\"][\"sem\"],\n",
    "    grouped_res[\"f1_macro\"][\"mean\"] + grouped_res[\"f1_macro\"][\"sem\"],\n",
    "    alpha=0.5,\n",
    ")\n",
    "\n",
    "ax[1].plot(\n",
    "    grouped_automatminer.index,\n",
    "    grouped_automatminer[\"f1_macro\"][\"mean\"],\n",
    "    label=\"automatminer\",\n",
    "    marker=\"o\",\n",
    ")\n",
    "ax[1].fill_between(\n",
    "    grouped_automatminer.index,\n",
    "    grouped_automatminer[\"f1_macro\"][\"mean\"] - grouped_automatminer[\"f1_macro\"][\"sem\"],\n",
    "    grouped_automatminer[\"f1_macro\"][\"mean\"] + grouped_automatminer[\"f1_macro\"][\"sem\"],\n",
    "    alpha=0.5,\n",
    ")\n",
    "\n",
    "ax[1].plot(\n",
    "    grouped_modnet.index,\n",
    "    grouped_modnet[\"f1_macro\"][\"mean\"],\n",
    "    label=\"ModNet\",\n",
    "    marker=\"o\",\n",
    ")\n",
    "ax[1].fill_between(\n",
    "    grouped_modnet.index,\n",
    "    grouped_modnet[\"f1_macro\"][\"mean\"] - grouped_modnet[\"f1_macro\"][\"sem\"],\n",
    "    grouped_modnet[\"f1_macro\"][\"mean\"] + grouped_modnet[\"f1_macro\"][\"sem\"],\n",
    "    alpha=0.5,\n",
    ")\n",
    "\n",
    "ylabel_top(r\"$F_1$ macro\", ax[1])\n",
    "\n",
    "ax[2].plot(\n",
    "    grouped_res.index,\n",
    "    grouped_res[\"f1_micro\"][\"mean\"],\n",
    "    label=\"GPT\",\n",
    "    marker=\"o\",\n",
    ")\n",
    "ax[2].fill_between(\n",
    "    grouped_res.index,\n",
    "    grouped_res[\"f1_micro\"][\"mean\"] - grouped_res[\"f1_micro\"][\"sem\"],\n",
    "    grouped_res[\"f1_micro\"][\"mean\"] + grouped_res[\"f1_micro\"][\"sem\"],\n",
    "    alpha=0.5,\n",
    ")\n",
    "\n",
    "ax[2].plot(\n",
    "    grouped_automatminer.index,\n",
    "    grouped_automatminer[\"f1_micro\"][\"mean\"],\n",
    "    label=\"automatminer\",\n",
    "    marker=\"o\",\n",
    ")\n",
    "ax[2].fill_between(\n",
    "    grouped_automatminer.index,\n",
    "    grouped_automatminer[\"f1_micro\"][\"mean\"] - grouped_automatminer[\"f1_micro\"][\"sem\"],\n",
    "    grouped_automatminer[\"f1_micro\"][\"mean\"] + grouped_automatminer[\"f1_micro\"][\"sem\"],\n",
    "    alpha=0.5,\n",
    ")\n",
    "\n",
    "ax[2].plot(\n",
    "    grouped_modnet.index,\n",
    "    grouped_modnet[\"f1_micro\"][\"mean\"],\n",
    "    label=\"ModNet\",\n",
    "    marker=\"o\",\n",
    ")\n",
    "ax[2].fill_between(\n",
    "    grouped_modnet.index,\n",
    "    grouped_modnet[\"f1_micro\"][\"mean\"] - grouped_modnet[\"f1_micro\"][\"sem\"],\n",
    "    grouped_modnet[\"f1_micro\"][\"mean\"] + grouped_modnet[\"f1_micro\"][\"sem\"],\n",
    "    alpha=0.5,\n",
    ")\n",
    "\n",
    "ylabel_top(r\"$F_1$ micro\", ax[2])\n",
    "\n",
    "ax[3].plot(\n",
    "    grouped_res.index,\n",
    "    grouped_res[\"kappa\"][\"mean\"],\n",
    "    label=\"GPT\",\n",
    "    marker=\"o\",\n",
    ")\n",
    "ax[3].fill_between(\n",
    "    grouped_res.index,\n",
    "    grouped_res[\"kappa\"][\"mean\"] - grouped_res[\"kappa\"][\"sem\"],\n",
    "    grouped_res[\"kappa\"][\"mean\"] + grouped_res[\"kappa\"][\"sem\"],\n",
    "    alpha=0.5,\n",
    ")\n",
    "\n",
    "ax[3].plot(\n",
    "    grouped_automatminer.index,\n",
    "    grouped_automatminer[\"kappa\"][\"mean\"],\n",
    "    label=\"automatminer\",\n",
    "    marker=\"o\",\n",
    ")\n",
    "ax[3].fill_between(\n",
    "    grouped_automatminer.index,\n",
    "    grouped_automatminer[\"kappa\"][\"mean\"] - grouped_automatminer[\"kappa\"][\"sem\"],\n",
    "    grouped_automatminer[\"kappa\"][\"mean\"] + grouped_automatminer[\"kappa\"][\"sem\"],\n",
    "    alpha=0.5,\n",
    ")\n",
    "\n",
    "ax[3].plot(\n",
    "    grouped_modnet.index,\n",
    "    grouped_modnet[\"kappa\"][\"mean\"],\n",
    "    label=\"ModNet\",\n",
    "    marker=\"o\",\n",
    ")\n",
    "ax[3].fill_between(\n",
    "    grouped_modnet.index,\n",
    "    grouped_modnet[\"kappa\"][\"mean\"] - grouped_modnet[\"kappa\"][\"sem\"],\n",
    "    grouped_modnet[\"kappa\"][\"mean\"] + grouped_modnet[\"kappa\"][\"sem\"],\n",
    "    alpha=0.5,\n",
    ")\n",
    "\n",
    "ylabel_top(r\"$\\kappa$\", ax[3])\n",
    "\n",
    "plt.subplots_adjust(hspace=0.6, top=1, bottom=0.2)\n",
    "\n",
    "ax[-1].set_xlabel(\"number of training samples\")\n",
    "\n",
    "fig.savefig(\"glass_lc.pdf\", bbox_inches=\"tight\")"
   ]
  },
  {
   "cell_type": "code",
   "execution_count": 84,
   "metadata": {},
   "outputs": [
    {
     "data": {
      "text/plain": [
       "0.9818986881113947"
      ]
     },
     "execution_count": 84,
     "metadata": {},
     "output_type": "execute_result"
    }
   ],
   "source": [
    "find_learning_curve_intersection(\n",
    "    grouped_res[\"f1_macro\"][\"mean\"].values[0],\n",
    "    fit_learning_curve(\n",
    "        grouped_automatminer.index,\n",
    "        grouped_automatminer[\"f1_macro\"][\"mean\"],\n",
    "    )[0],\n",
    ") / 10"
   ]
  },
  {
   "cell_type": "code",
   "execution_count": 88,
   "metadata": {},
   "outputs": [
    {
     "data": {
      "text/plain": [
       "0.6208750717446352"
      ]
     },
     "execution_count": 88,
     "metadata": {},
     "output_type": "execute_result"
    }
   ],
   "source": [
    "find_learning_curve_intersection(\n",
    "    grouped_res[\"f1_macro\"][\"mean\"].values[0],\n",
    "    fit_learning_curve(\n",
    "        grouped_modnet.index,\n",
    "        grouped_modnet[\"f1_macro\"][\"mean\"],\n",
    "    )[0],\n",
    ") / 10"
   ]
  },
  {
   "cell_type": "code",
   "execution_count": null,
   "metadata": {},
   "outputs": [],
   "source": []
  }
 ],
 "metadata": {
  "kernelspec": {
   "display_name": "gptchem",
   "language": "python",
   "name": "python3"
  },
  "language_info": {
   "codemirror_mode": {
    "name": "ipython",
    "version": 3
   },
   "file_extension": ".py",
   "mimetype": "text/x-python",
   "name": "python",
   "nbconvert_exporter": "python",
   "pygments_lexer": "ipython3",
   "version": "3.9.15"
  },
  "orig_nbformat": 4,
  "vscode": {
   "interpreter": {
    "hash": "2f3b9074e5baa1438c27e2ea813f7f53b7516c83bd70840b6d64eae6820ee5df"
   }
  }
 },
 "nbformat": 4,
 "nbformat_minor": 2
}
