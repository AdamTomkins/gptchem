{
 "cells": [
  {
   "cell_type": "code",
   "execution_count": 1,
   "metadata": {},
   "outputs": [],
   "source": [
    "%load_ext autoreload\n",
    "%autoreload 2"
   ]
  },
  {
   "cell_type": "code",
   "execution_count": 5,
   "metadata": {},
   "outputs": [],
   "source": [
    "import pandas as pd \n",
    "from glob import glob \n",
    "from pathlib import Path \n",
    "import os \n",
    "from fastcore.xtras import load_pickle\n",
    "\n",
    "import matplotlib as mpl\n",
    "import matplotlib.pyplot as plt\n",
    "mpl.rcParams.update(mpl.rcParamsDefault)\n",
    "plt.style.use([\"science\", \"nature\"])\n",
    "\n",
    "import matplotx"
   ]
  },
  {
   "cell_type": "code",
   "execution_count": 3,
   "metadata": {},
   "outputs": [],
   "source": [
    "all_out = glob('out/**/*.pkl')"
   ]
  },
  {
   "cell_type": "code",
   "execution_count": 4,
   "metadata": {},
   "outputs": [
    {
     "data": {
      "text/plain": [
       "2"
      ]
     },
     "execution_count": 4,
     "metadata": {},
     "output_type": "execute_result"
    }
   ],
   "source": [
    "len(all_out)"
   ]
  },
  {
   "cell_type": "code",
   "execution_count": 6,
   "metadata": {},
   "outputs": [],
   "source": [
    "all_res = [load_pickle(p) for p in all_out]"
   ]
  },
  {
   "cell_type": "code",
   "execution_count": 8,
   "metadata": {},
   "outputs": [
    {
     "data": {
      "text/plain": [
       "{'baseline': {'accuracy': None,\n",
       "  'f1': None,\n",
       "  'precision': None,\n",
       "  'recall': None,\n",
       "  'roc_auc': None,\n",
       "  'pr_auc': None},\n",
       " 'accuracy': 0.0,\n",
       " 'acc_macro': 0.0,\n",
       " 'racc': 0.0,\n",
       " 'kappa': 0.0,\n",
       " 'confusion_matrix': pycm.ConfusionMatrix(classes: ['1', 'None']),\n",
       " 'f1_macro': 0.0,\n",
       " 'f1_micro': 0.0,\n",
       " 'frac_valid': 0.0,\n",
       " 'all_y_true': (#5670) [1,1,1,1,1,1,1,1,1,1...],\n",
       " 'all_y_pred':           composition  gfa\n",
       " 1069      Cr10Ni4Mo11    1\n",
       " 2888          MgAl2Pd    0\n",
       " 633        Ce3Al42Ni5    1\n",
       " 4989      Zr2(CrCo5)3    1\n",
       " 5427   Zr67.5Cu25B7.5    1\n",
       " ...               ...  ...\n",
       " 5358  Zr6.5Cr16Co77.5    1\n",
       " 970             Co3B2    1\n",
       " 3484       Nd6Mg11Ni3    1\n",
       " 5565        Zr8CrNi11    1\n",
       " 1667        Fe41Cu5B4    0\n",
       " \n",
       " [5670 rows x 2 columns],\n",
       " 'valid_indices': [],\n",
       " 'might_have_rounded_floats': False,\n",
       " 'train_size': 10}"
      ]
     },
     "execution_count": 8,
     "metadata": {},
     "output_type": "execute_result"
    }
   ],
   "source": [
    "all_res[1]"
   ]
  },
  {
   "cell_type": "code",
   "execution_count": null,
   "metadata": {},
   "outputs": [],
   "source": []
  }
 ],
 "metadata": {
  "kernelspec": {
   "display_name": "gptchem",
   "language": "python",
   "name": "python3"
  },
  "language_info": {
   "codemirror_mode": {
    "name": "ipython",
    "version": 3
   },
   "file_extension": ".py",
   "mimetype": "text/x-python",
   "name": "python",
   "nbconvert_exporter": "python",
   "pygments_lexer": "ipython3",
   "version": "3.9.15"
  },
  "orig_nbformat": 4,
  "vscode": {
   "interpreter": {
    "hash": "2f3b9074e5baa1438c27e2ea813f7f53b7516c83bd70840b6d64eae6820ee5df"
   }
  }
 },
 "nbformat": 4,
 "nbformat_minor": 2
}
