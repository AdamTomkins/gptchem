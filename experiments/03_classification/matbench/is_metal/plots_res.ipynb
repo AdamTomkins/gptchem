{
 "cells": [
  {
   "cell_type": "code",
   "execution_count": 1,
   "metadata": {},
   "outputs": [],
   "source": [
    "%load_ext autoreload\n",
    "%autoreload 2"
   ]
  },
  {
   "cell_type": "code",
   "execution_count": 2,
   "metadata": {},
   "outputs": [],
   "source": [
    "import pandas as pd \n",
    "from glob import glob \n",
    "from pathlib import Path \n",
    "import os \n",
    "from fastcore.xtras import load_pickle\n",
    "\n",
    "import matplotlib as mpl\n",
    "import matplotlib.pyplot as plt\n",
    "mpl.rcParams.update(mpl.rcParamsDefault)\n",
    "plt.style.use([\"science\", \"nature\"])\n",
    "\n",
    "import matplotx"
   ]
  },
  {
   "cell_type": "code",
   "execution_count": 3,
   "metadata": {},
   "outputs": [],
   "source": [
    "all_out = glob('out/**/*.pkl')"
   ]
  },
  {
   "cell_type": "code",
   "execution_count": 4,
   "metadata": {},
   "outputs": [
    {
     "data": {
      "text/plain": [
       "2"
      ]
     },
     "execution_count": 4,
     "metadata": {},
     "output_type": "execute_result"
    }
   ],
   "source": [
    "len(all_out)"
   ]
  },
  {
   "cell_type": "code",
   "execution_count": 5,
   "metadata": {},
   "outputs": [],
   "source": [
    "all_res = [load_pickle(p) for p in all_out]"
   ]
  },
  {
   "cell_type": "code",
   "execution_count": 6,
   "metadata": {},
   "outputs": [
    {
     "data": {
      "text/plain": [
       "{'baseline': {'accuracy': None,\n",
       "  'f1': None,\n",
       "  'precision': None,\n",
       "  'recall': None,\n",
       "  'roc_auc': None,\n",
       "  'pr_auc': None},\n",
       " 'accuracy': 0.0,\n",
       " 'acc_macro': 0.3333333333333333,\n",
       " 'racc': 0.0,\n",
       " 'kappa': 0.0,\n",
       " 'confusion_matrix': pycm.ConfusionMatrix(classes: ['0', '1', 'None']),\n",
       " 'f1_macro': 0.0,\n",
       " 'f1_micro': 0.0,\n",
       " 'frac_valid': 0.0,\n",
       " 'all_y_true': (#4871) [0,0,1,0,1,1,1,1,0,1...],\n",
       " 'all_y_pred':         composition  is_metal\n",
       " 1942  In1Sb0.5As0.5         0\n",
       " 2380    Li11Mn13O32         1\n",
       " 1807           HgPt         1\n",
       " 3794        SmCuSeO         0\n",
       " 3349        PrFeGe2         1\n",
       " ...             ...       ...\n",
       " 3391  Rb2Cd3(B4O7)4         0\n",
       " 2259       La2B4Rh5         1\n",
       " 761       CdCu2SnS4         0\n",
       " 3869     Sn5(BRh3)2         1\n",
       " 4704        YbSmRh2         1\n",
       " \n",
       " [4871 rows x 2 columns],\n",
       " 'valid_indices': [],\n",
       " 'might_have_rounded_floats': False,\n",
       " 'train_size': 50}"
      ]
     },
     "execution_count": 6,
     "metadata": {},
     "output_type": "execute_result"
    }
   ],
   "source": [
    "all_res[1]"
   ]
  },
  {
   "cell_type": "code",
   "execution_count": null,
   "metadata": {},
   "outputs": [],
   "source": []
  }
 ],
 "metadata": {
  "kernelspec": {
   "display_name": "gptchem",
   "language": "python",
   "name": "python3"
  },
  "language_info": {
   "codemirror_mode": {
    "name": "ipython",
    "version": 3
   },
   "file_extension": ".py",
   "mimetype": "text/x-python",
   "name": "python",
   "nbconvert_exporter": "python",
   "pygments_lexer": "ipython3",
   "version": "3.9.15"
  },
  "orig_nbformat": 4,
  "vscode": {
   "interpreter": {
    "hash": "2f3b9074e5baa1438c27e2ea813f7f53b7516c83bd70840b6d64eae6820ee5df"
   }
  }
 },
 "nbformat": 4,
 "nbformat_minor": 2
}
