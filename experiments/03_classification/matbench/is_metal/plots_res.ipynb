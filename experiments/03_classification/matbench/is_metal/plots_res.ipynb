{
 "cells": [
  {
   "cell_type": "code",
   "execution_count": 12,
   "metadata": {},
   "outputs": [
    {
     "name": "stdout",
     "output_type": "stream",
     "text": [
      "The autoreload extension is already loaded. To reload it, use:\n",
      "  %reload_ext autoreload\n"
     ]
    }
   ],
   "source": [
    "%load_ext autoreload\n",
    "%autoreload 2"
   ]
  },
  {
   "cell_type": "code",
   "execution_count": 50,
   "metadata": {},
   "outputs": [],
   "source": [
    "import pandas as pd \n",
    "from glob import glob \n",
    "from pathlib import Path \n",
    "import os \n",
    "from fastcore.xtras import load_pickle\n",
    "\n",
    "import matplotlib as mpl\n",
    "import matplotlib.pyplot as plt\n",
    "from gptchem.plotsettings import * \n",
    "from gptchem.settings import TWO_COL_GOLDEN_RATIO_HEIGHT_INCH, ONE_COL_WIDTH_INCH\n",
    "import matplotx\n",
    "\n",
    "from scipy.stats import sem\n",
    "\n",
    "%matplotlib inline"
   ]
  },
  {
   "cell_type": "code",
   "execution_count": 27,
   "metadata": {},
   "outputs": [],
   "source": [
    "all_out = glob('out/**/*.pkl')"
   ]
  },
  {
   "cell_type": "code",
   "execution_count": 28,
   "metadata": {},
   "outputs": [],
   "source": [
    "all_modnet_out = glob('out_baseline/*.pkl')"
   ]
  },
  {
   "cell_type": "code",
   "execution_count": 29,
   "metadata": {},
   "outputs": [
    {
     "data": {
      "text/plain": [
       "14"
      ]
     },
     "execution_count": 29,
     "metadata": {},
     "output_type": "execute_result"
    }
   ],
   "source": [
    "len(all_out)"
   ]
  },
  {
   "cell_type": "code",
   "execution_count": 30,
   "metadata": {},
   "outputs": [],
   "source": [
    "all_res = [load_pickle(p) for p in all_out]"
   ]
  },
  {
   "cell_type": "code",
   "execution_count": 31,
   "metadata": {},
   "outputs": [],
   "source": [
    "all_compiled_res = []\n",
    "all_compiled_baseline_res = [] \n",
    "\n",
    "for res in all_res:\n",
    "    compiled_res = {}\n",
    "    compiled_baseline_res = {}\n",
    "    compiled_res['accuracy'] = res['accuracy']\n",
    "    compiled_res['f1_macro'] = res['f1_macro']\n",
    "    compiled_res['f1_micro'] = res['f1_micro']\n",
    "    compiled_res['kappa'] = res['kappa']\n",
    "    compiled_res['train_size'] = res['train_size']\n",
    "\n",
    "    try:\n",
    "        compiled_baseline_res['accuracy'] = res['baseline']['accuracy']\n",
    "        compiled_baseline_res['f1_macro'] = res['baseline']['f1_macro']\n",
    "        compiled_baseline_res['f1_micro'] = res['baseline']['f1_micro']\n",
    "        compiled_baseline_res['kappa'] = res['baseline']['kappa']\n",
    "        compiled_baseline_res['train_size'] = res['train_size']\n",
    "    except KeyError:\n",
    "        compiled_baseline_res['accuracy'] = None\n",
    "        compiled_baseline_res['f1_macro'] = None\n",
    "        compiled_baseline_res['f1_micro'] = None\n",
    "        compiled_baseline_res['kappa'] = None\n",
    "        compiled_baseline_res['train_size'] = res['train_size']\n",
    "        \n",
    "    all_compiled_res.append(compiled_res)\n",
    "\n",
    "    if compiled_baseline_res['accuracy'] is not None:\n",
    "        if compiled_baseline_res['accuracy'] < 1:\n",
    "            all_compiled_baseline_res.append(compiled_baseline_res)\n",
    "\n"
   ]
  },
  {
   "cell_type": "code",
   "execution_count": 32,
   "metadata": {},
   "outputs": [],
   "source": [
    "all_modnet_res = pd.DataFrame([load_pickle(p) for p in all_modnet_out])"
   ]
  },
  {
   "cell_type": "code",
   "execution_count": 39,
   "metadata": {},
   "outputs": [],
   "source": [
    "all_compiled_res = pd.DataFrame(all_compiled_res)\n",
    "all_compiled_baseline_res = pd.DataFrame(all_compiled_baseline_res)"
   ]
  },
  {
   "cell_type": "code",
   "execution_count": 46,
   "metadata": {},
   "outputs": [
    {
     "name": "stderr",
     "output_type": "stream",
     "text": [
      "/Users/kevinmaikjablonka/miniconda3/envs/gptchem/lib/python3.9/site-packages/numpy/core/_methods.py:265: RuntimeWarning: Degrees of freedom <= 0 for slice\n",
      "  ret = _var(a, axis=axis, dtype=dtype, out=out, ddof=ddof,\n",
      "/Users/kevinmaikjablonka/miniconda3/envs/gptchem/lib/python3.9/site-packages/numpy/core/_methods.py:257: RuntimeWarning: invalid value encountered in double_scalars\n",
      "  ret = ret.dtype.type(ret / rcount)\n",
      "/Users/kevinmaikjablonka/miniconda3/envs/gptchem/lib/python3.9/site-packages/numpy/core/_methods.py:265: RuntimeWarning: Degrees of freedom <= 0 for slice\n",
      "  ret = _var(a, axis=axis, dtype=dtype, out=out, ddof=ddof,\n",
      "/Users/kevinmaikjablonka/miniconda3/envs/gptchem/lib/python3.9/site-packages/numpy/core/_methods.py:257: RuntimeWarning: invalid value encountered in double_scalars\n",
      "  ret = ret.dtype.type(ret / rcount)\n",
      "/Users/kevinmaikjablonka/miniconda3/envs/gptchem/lib/python3.9/site-packages/numpy/core/_methods.py:265: RuntimeWarning: Degrees of freedom <= 0 for slice\n",
      "  ret = _var(a, axis=axis, dtype=dtype, out=out, ddof=ddof,\n",
      "/Users/kevinmaikjablonka/miniconda3/envs/gptchem/lib/python3.9/site-packages/numpy/core/_methods.py:257: RuntimeWarning: invalid value encountered in double_scalars\n",
      "  ret = ret.dtype.type(ret / rcount)\n",
      "/Users/kevinmaikjablonka/miniconda3/envs/gptchem/lib/python3.9/site-packages/numpy/core/_methods.py:265: RuntimeWarning: Degrees of freedom <= 0 for slice\n",
      "  ret = _var(a, axis=axis, dtype=dtype, out=out, ddof=ddof,\n",
      "/Users/kevinmaikjablonka/miniconda3/envs/gptchem/lib/python3.9/site-packages/numpy/core/_methods.py:257: RuntimeWarning: invalid value encountered in double_scalars\n",
      "  ret = ret.dtype.type(ret / rcount)\n"
     ]
    }
   ],
   "source": [
    "grouped_res = all_compiled_res.groupby('train_size').agg(['mean', 'std', sem])"
   ]
  },
  {
   "cell_type": "code",
   "execution_count": 47,
   "metadata": {},
   "outputs": [
    {
     "name": "stderr",
     "output_type": "stream",
     "text": [
      "/Users/kevinmaikjablonka/miniconda3/envs/gptchem/lib/python3.9/site-packages/numpy/core/_methods.py:265: RuntimeWarning: Degrees of freedom <= 0 for slice\n",
      "  ret = _var(a, axis=axis, dtype=dtype, out=out, ddof=ddof,\n",
      "/Users/kevinmaikjablonka/miniconda3/envs/gptchem/lib/python3.9/site-packages/numpy/core/_methods.py:257: RuntimeWarning: invalid value encountered in double_scalars\n",
      "  ret = ret.dtype.type(ret / rcount)\n",
      "/Users/kevinmaikjablonka/miniconda3/envs/gptchem/lib/python3.9/site-packages/numpy/core/_methods.py:265: RuntimeWarning: Degrees of freedom <= 0 for slice\n",
      "  ret = _var(a, axis=axis, dtype=dtype, out=out, ddof=ddof,\n",
      "/Users/kevinmaikjablonka/miniconda3/envs/gptchem/lib/python3.9/site-packages/numpy/core/_methods.py:257: RuntimeWarning: invalid value encountered in double_scalars\n",
      "  ret = ret.dtype.type(ret / rcount)\n",
      "/Users/kevinmaikjablonka/miniconda3/envs/gptchem/lib/python3.9/site-packages/numpy/core/_methods.py:265: RuntimeWarning: Degrees of freedom <= 0 for slice\n",
      "  ret = _var(a, axis=axis, dtype=dtype, out=out, ddof=ddof,\n",
      "/Users/kevinmaikjablonka/miniconda3/envs/gptchem/lib/python3.9/site-packages/numpy/core/_methods.py:257: RuntimeWarning: invalid value encountered in double_scalars\n",
      "  ret = ret.dtype.type(ret / rcount)\n",
      "/Users/kevinmaikjablonka/miniconda3/envs/gptchem/lib/python3.9/site-packages/numpy/core/_methods.py:265: RuntimeWarning: Degrees of freedom <= 0 for slice\n",
      "  ret = _var(a, axis=axis, dtype=dtype, out=out, ddof=ddof,\n",
      "/Users/kevinmaikjablonka/miniconda3/envs/gptchem/lib/python3.9/site-packages/numpy/core/_methods.py:257: RuntimeWarning: invalid value encountered in double_scalars\n",
      "  ret = ret.dtype.type(ret / rcount)\n"
     ]
    }
   ],
   "source": [
    "grouped_automatminer = all_compiled_baseline_res.groupby('train_size').agg(['mean', 'std', sem])"
   ]
  },
  {
   "cell_type": "code",
   "execution_count": 48,
   "metadata": {},
   "outputs": [],
   "source": [
    "grouped_modnet = all_modnet_res[['accuracy', 'f1_macro', 'f1_micro', 'kappa', 'train_size']].groupby('train_size').agg(['mean', 'std', sem])"
   ]
  },
  {
   "cell_type": "code",
   "execution_count": 51,
   "metadata": {},
   "outputs": [
    {
     "data": {
      "image/png": "[encoded data removed]",
      "text/plain": [
       "<Figure size 325x444.984 with 4 Axes>"
      ]
     },
     "metadata": {},
     "output_type": "display_data"
    }
   ],
   "source": [
    "fig, ax = plt.subplots(4, 1, figsize=(ONE_COL_WIDTH_INCH, TWO_COL_GOLDEN_RATIO_HEIGHT_INCH), sharex=True)\n",
    "\n",
    "ax[0].plot(\n",
    "    grouped_res.index, \n",
    "    grouped_res['accuracy']['mean'],\n",
    "    label='GPT',\n",
    "    marker='o',\n",
    ")\n",
    "\n",
    "ax[0].fill_between(\n",
    "    grouped_res.index,\n",
    "    grouped_res['accuracy']['mean'] - grouped_res['accuracy']['sem'],\n",
    "    grouped_res['accuracy']['mean'] + grouped_res['accuracy']['sem'],\n",
    "    alpha=0.5,\n",
    ")\n",
    "\n",
    "ax[0].plot(\n",
    "    grouped_automatminer.index,\n",
    "    grouped_automatminer['accuracy']['mean'],\n",
    "    label='automatminer',\n",
    "    marker='o',\n",
    ")\n",
    "\n",
    "ax[0].fill_between(\n",
    "    grouped_automatminer.index,\n",
    "    grouped_automatminer['accuracy']['mean'] - grouped_automatminer['accuracy']['sem'],\n",
    "    grouped_automatminer['accuracy']['mean'] + grouped_automatminer['accuracy']['sem'],\n",
    "    alpha=0.5,\n",
    ")\n",
    "ax[0].plot(\n",
    "    grouped_modnet.index,\n",
    "    grouped_modnet['accuracy']['mean'],\n",
    "    label='ModNet',\n",
    "    marker='o',\n",
    ")\n",
    "\n",
    "ax[0].fill_between(\n",
    "    grouped_modnet.index,\n",
    "    grouped_modnet['accuracy']['mean'] - grouped_modnet['accuracy']['sem'],\n",
    "    grouped_modnet['accuracy']['mean'] + grouped_modnet['accuracy']['sem'],\n",
    "    alpha=0.5,\n",
    ")\n",
    "\n",
    "matplotx.line_labels(ax[0])\n",
    "\n",
    "ylabel_top('accuracy', ax[0])\n",
    "\n",
    "ax[1].plot(\n",
    "    grouped_res.index,\n",
    "    grouped_res['f1_macro']['mean'],\n",
    "    label='GPT',\n",
    "    marker='o',\n",
    ")\n",
    "ax[1].fill_between(\n",
    "    grouped_res.index,\n",
    "    grouped_res['f1_macro']['mean'] - grouped_res['f1_macro']['sem'],\n",
    "    grouped_res['f1_macro']['mean'] + grouped_res['f1_macro']['sem'],\n",
    "    alpha=0.5,\n",
    ")\n",
    "\n",
    "ax[1].plot(\n",
    "    grouped_automatminer.index,\n",
    "    grouped_automatminer['f1_macro']['mean'],\n",
    "    label='automatminer',\n",
    "    marker='o',\n",
    ")\n",
    "ax[1].fill_between(\n",
    "    grouped_automatminer.index,\n",
    "    grouped_automatminer['f1_macro']['mean'] - grouped_automatminer['f1_macro']['sem'],\n",
    "    grouped_automatminer['f1_macro']['mean'] + grouped_automatminer['f1_macro']['sem'],\n",
    "    alpha=0.5,\n",
    ")\n",
    "\n",
    "ax[1].plot(\n",
    "    grouped_modnet.index,\n",
    "    grouped_modnet['f1_macro']['mean'],\n",
    "    label='ModNet',\n",
    "    marker='o',\n",
    ")\n",
    "ax[1].fill_between(\n",
    "    grouped_modnet.index,\n",
    "    grouped_modnet['f1_macro']['mean'] - grouped_modnet['f1_macro']['sem'],\n",
    "    grouped_modnet['f1_macro']['mean'] + grouped_modnet['f1_macro']['sem'],\n",
    "    alpha=0.5,\n",
    ")\n",
    "\n",
    "ylabel_top(r'$F_1$ macro', ax[1])\n",
    "\n",
    "ax[2].plot(\n",
    "    grouped_res.index,\n",
    "    grouped_res['f1_micro']['mean'],\n",
    "    label='GPT',\n",
    "    marker='o',\n",
    ")\n",
    "ax[2].fill_between(\n",
    "    grouped_res.index,\n",
    "    grouped_res['f1_micro']['mean'] - grouped_res['f1_micro']['sem'],\n",
    "    grouped_res['f1_micro']['mean'] + grouped_res['f1_micro']['sem'],\n",
    "    alpha=0.5,\n",
    ")\n",
    "\n",
    "ax[2].plot(\n",
    "    grouped_automatminer.index,\n",
    "    grouped_automatminer['f1_micro']['mean'],\n",
    "    label='automatminer',\n",
    "    marker='o',\n",
    ")\n",
    "ax[2].fill_between(\n",
    "    grouped_automatminer.index,\n",
    "    grouped_automatminer['f1_micro']['mean'] - grouped_automatminer['f1_micro']['sem'],\n",
    "    grouped_automatminer['f1_micro']['mean'] + grouped_automatminer['f1_micro']['sem'],\n",
    "    alpha=0.5,\n",
    ")\n",
    "\n",
    "ax[2].plot(\n",
    "    grouped_modnet.index,\n",
    "    grouped_modnet['f1_micro']['mean'],\n",
    "    label='ModNet',\n",
    "    marker='o',\n",
    ")\n",
    "ax[2].fill_between(\n",
    "    grouped_modnet.index,\n",
    "    grouped_modnet['f1_micro']['mean'] - grouped_modnet['f1_micro']['sem'],\n",
    "    grouped_modnet['f1_micro']['mean'] + grouped_modnet['f1_micro']['sem'],\n",
    "    alpha=0.5,\n",
    ")\n",
    "\n",
    "ylabel_top(r'$F_1$ micro', ax[2])\n",
    "\n",
    "ax[3].plot(\n",
    "    grouped_res.index,\n",
    "    grouped_res['kappa']['mean'],\n",
    "    label='GPT',\n",
    "    marker='o',\n",
    ")\n",
    "ax[3].fill_between(\n",
    "    grouped_res.index,\n",
    "    grouped_res['kappa']['mean'] - grouped_res['kappa']['sem'],\n",
    "    grouped_res['kappa']['mean'] + grouped_res['kappa']['sem'],\n",
    "    alpha=0.5,\n",
    ")\n",
    "\n",
    "ax[3].plot(\n",
    "    grouped_automatminer.index,\n",
    "    grouped_automatminer['kappa']['mean'],\n",
    "    label='automatminer',\n",
    "    marker='o',\n",
    ")\n",
    "ax[3].fill_between(\n",
    "    grouped_automatminer.index,\n",
    "    grouped_automatminer['kappa']['mean'] - grouped_automatminer['kappa']['sem'],\n",
    "    grouped_automatminer['kappa']['mean'] + grouped_automatminer['kappa']['sem'],\n",
    "    alpha=0.5,\n",
    ")\n",
    "\n",
    "ax[3].plot(\n",
    "    grouped_modnet.index,\n",
    "    grouped_modnet['kappa']['mean'],\n",
    "    label='ModNet',\n",
    "    marker='o',\n",
    ")\n",
    "ax[3].fill_between(\n",
    "    grouped_modnet.index,\n",
    "    grouped_modnet['kappa']['mean'] - grouped_modnet['kappa']['sem'],\n",
    "    grouped_modnet['kappa']['mean'] + grouped_modnet['kappa']['sem'],\n",
    "    alpha=0.5,\n",
    ")\n",
    "\n",
    "ylabel_top(r'$\\kappa$', ax[3])\n",
    "\n",
    "plt.subplots_adjust(hspace=.6, top=1, bottom=.2)\n",
    "\n",
    "ax[-1].set_xlabel('number of training samples')\n",
    "\n",
    "fig.savefig('is_metal_lc.pdf', bbox_inches='tight')"
   ]
  },
  {
   "cell_type": "code",
   "execution_count": null,
   "metadata": {},
   "outputs": [],
   "source": []
  }
 ],
 "metadata": {
  "kernelspec": {
   "display_name": "gptchem",
   "language": "python",
   "name": "python3"
  },
  "language_info": {
   "codemirror_mode": {
    "name": "ipython",
    "version": 3
   },
   "file_extension": ".py",
   "mimetype": "text/x-python",
   "name": "python",
   "nbconvert_exporter": "python",
   "pygments_lexer": "ipython3",
   "version": "3.9.15"
  },
  "orig_nbformat": 4,
  "vscode": {
   "interpreter": {
    "hash": "2f3b9074e5baa1438c27e2ea813f7f53b7516c83bd70840b6d64eae6820ee5df"
   }
  }
 },
 "nbformat": 4,
 "nbformat_minor": 2
}
