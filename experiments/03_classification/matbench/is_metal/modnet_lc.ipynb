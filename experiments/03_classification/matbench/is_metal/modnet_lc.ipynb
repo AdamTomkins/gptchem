{
 "cells": [
  {
   "cell_type": "code",
   "execution_count": 1,
   "metadata": {},
   "outputs": [],
   "source": [
    "%load_ext autoreload \n",
    "%autoreload 2"
   ]
  },
  {
   "cell_type": "code",
   "execution_count": 1,
   "metadata": {},
   "outputs": [],
   "source": [
    "from collections import defaultdict\n",
    "import itertools\n",
    "import os\n",
    "import pandas as pd\n",
    "import matplotlib.pyplot as plt \n",
    "import numpy as np\n",
    "from IPython.display import Markdown\n",
    "from matminer.datasets import load_dataset\n",
    "from pymatgen.core import Composition\n",
    "\n",
    "from modnet.preprocessing import MODData\n",
    "#from modnet.models import MODNetModel\n",
    "from modnet.featurizers import MODFeaturizer\n",
    "from modnet.featurizers.presets import DeBreuck2020Featurizer\n",
    "\n",
    "os.environ[\"CUDA_VISIBLE_DEVICES\"] = \"\""
   ]
  },
  {
   "cell_type": "code",
   "execution_count": 3,
   "metadata": {},
   "outputs": [
    {
     "data": {
      "text/plain": [
       "'0.1.12'"
      ]
     },
     "execution_count": 3,
     "metadata": {},
     "output_type": "execute_result"
    }
   ],
   "source": [
    "import modnet\n",
    "modnet.__version__"
   ]
  },
  {
   "cell_type": "code",
   "execution_count": 4,
   "metadata": {},
   "outputs": [],
   "source": [
    "class CompositionOnlyFeaturizer(MODFeaturizer):\n",
    "    composition_featurizers = DeBreuck2020Featurizer.composition_featurizers\n",
    "    \n",
    "    def featurize_composition(self, df):\n",
    "        \"\"\" Applies the preset composition featurizers to the input dataframe,\n",
    "        renames some fields and cleans the output dataframe.\n",
    "\n",
    "        \"\"\"\n",
    "        from pymatgen.core.periodic_table import Element \n",
    "        import numpy as np\n",
    "        from modnet.featurizers import clean_df\n",
    "        df = super().featurize_composition(df)\n",
    "        _orbitals = {\"s\": 1, \"p\": 2, \"d\": 3, \"f\": 4}\n",
    "        df['AtomicOrbitals|HOMO_character'] = df['AtomicOrbitals|HOMO_character'].map(_orbitals)\n",
    "        df['AtomicOrbitals|LUMO_character'] = df['AtomicOrbitals|LUMO_character'].map(_orbitals)\n",
    "\n",
    "        df['AtomicOrbitals|HOMO_element'] = df['AtomicOrbitals|HOMO_element'].apply(\n",
    "            lambda x: -1 if not isinstance(x, str) else Element(x).Z\n",
    "        )\n",
    "        df['AtomicOrbitals|LUMO_element'] = df['AtomicOrbitals|LUMO_element'].apply(\n",
    "            lambda x: -1 if not isinstance(x, str) else Element(x).Z\n",
    "        )\n",
    "\n",
    "        df = df.replace([np.inf, -np.inf, np.nan], 0)\n",
    "        \n",
    "        return clean_df(df)\n",
    "\n",
    "class CompositionContainer:\n",
    "    def __init__(self, composition):\n",
    "        self.composition = composition"
   ]
  },
  {
   "cell_type": "code",
   "execution_count": 5,
   "metadata": {},
   "outputs": [
    {
     "name": "stdout",
     "output_type": "stream",
     "text": [
      "2023-02-06 14:56:50,006 - modnet - INFO - Loaded CompositionOnlyFeaturizer featurizer.\n",
      "2023-02-06 14:56:50,010 - modnet - INFO - Computing features, this can take time...\n",
      "2023-02-06 14:56:50,012 - modnet - INFO - Data has successfully been featurized!\n",
      "2023-02-06 14:56:50,020 - modnet - INFO - Multiprocessing on 1 workers.\n",
      "2023-02-06 14:56:50,021 - modnet - INFO - Computing \"self\" MI (i.e. information entropy) of features\n"
     ]
    },
    {
     "name": "stderr",
     "output_type": "stream",
     "text": [
      "0it [00:00, ?it/s]"
     ]
    },
    {
     "name": "stdout",
     "output_type": "stream",
     "text": [
      "2023-02-06 14:56:50,025 - modnet - INFO - Computing cross NMI between all features...\n"
     ]
    },
    {
     "name": "stderr",
     "output_type": "stream",
     "text": [
      "\n",
      "0it [00:00, ?it/s]"
     ]
    },
    {
     "name": "stdout",
     "output_type": "stream",
     "text": [
      "2023-02-06 14:56:50,065 - modnet - INFO - Starting target 1/1: is_metal ...\n",
      "2023-02-06 14:56:50,066 - modnet - INFO - Computing mutual information between features and target...\n"
     ]
    },
    {
     "name": "stderr",
     "output_type": "stream",
     "text": [
      "\n"
     ]
    },
    {
     "ename": "ValueError",
     "evalue": "The input features DataFrame and the target variable DataFrame should contain the same number of data points.",
     "output_type": "error",
     "traceback": [
      "\u001b[0;31m---------------------------------------------------------------------------\u001b[0m",
      "\u001b[0;31mValueError\u001b[0m                                Traceback (most recent call last)",
      "Cell \u001b[0;32mIn[5], line 20\u001b[0m\n\u001b[1;32m     18\u001b[0m data\u001b[39m.\u001b[39mfeaturize()\n\u001b[1;32m     19\u001b[0m \u001b[39m# As this is a small data/feature set, order all features \u001b[39;00m\n\u001b[0;32m---> 20\u001b[0m data\u001b[39m.\u001b[39;49mfeature_selection(n\u001b[39m=\u001b[39;49m\u001b[39m-\u001b[39;49m\u001b[39m1\u001b[39;49m)\n",
      "File \u001b[0;32m~/miniconda3/envs/gptchem/lib/python3.9/site-packages/modnet/preprocessing.py:858\u001b[0m, in \u001b[0;36mMODData.feature_selection\u001b[0;34m(self, n, cross_nmi, use_precomputed_cross_nmi, n_samples, n_jobs)\u001b[0m\n\u001b[1;32m    856\u001b[0m     df \u001b[39m=\u001b[39m \u001b[39mself\u001b[39m\u001b[39m.\u001b[39mdf_featurized\u001b[39m.\u001b[39mcopy()\n\u001b[1;32m    857\u001b[0m     df_target \u001b[39m=\u001b[39m \u001b[39mself\u001b[39m\u001b[39m.\u001b[39mdf_targets[[name]]\n\u001b[0;32m--> 858\u001b[0m \u001b[39mself\u001b[39m\u001b[39m.\u001b[39mtarget_nmi \u001b[39m=\u001b[39m nmi_target(\n\u001b[1;32m    859\u001b[0m     df,\n\u001b[1;32m    860\u001b[0m     df_target,\n\u001b[1;32m    861\u001b[0m     task_type,\n\u001b[1;32m    862\u001b[0m )[name]\n\u001b[1;32m    864\u001b[0m LOG\u001b[39m.\u001b[39minfo(\u001b[39m\"\u001b[39m\u001b[39mComputing optimal features...\u001b[39m\u001b[39m\"\u001b[39m)\n\u001b[1;32m    865\u001b[0m optimal_features_by_target[name] \u001b[39m=\u001b[39m get_features_dyn(\n\u001b[1;32m    866\u001b[0m     n, \u001b[39mself\u001b[39m\u001b[39m.\u001b[39mcross_nmi, \u001b[39mself\u001b[39m\u001b[39m.\u001b[39mtarget_nmi\n\u001b[1;32m    867\u001b[0m )\n",
      "File \u001b[0;32m~/miniconda3/envs/gptchem/lib/python3.9/site-packages/modnet/preprocessing.py:112\u001b[0m, in \u001b[0;36mnmi_target\u001b[0;34m(df_feat, df_target, task_type, drop_constant_features, **kwargs)\u001b[0m\n\u001b[1;32m    109\u001b[0m     df_target\u001b[39m.\u001b[39miloc[:, \u001b[39m0\u001b[39m] \u001b[39m=\u001b[39m df_target\u001b[39m.\u001b[39miloc[:, \u001b[39m0\u001b[39m]\u001b[39m.\u001b[39mmap(_mapArrayToInt)\n\u001b[1;32m    111\u001b[0m \u001b[39mif\u001b[39;00m \u001b[39mlen\u001b[39m(df_feat) \u001b[39m!=\u001b[39m \u001b[39mlen\u001b[39m(df_target):\n\u001b[0;32m--> 112\u001b[0m     \u001b[39mraise\u001b[39;00m \u001b[39mValueError\u001b[39;00m(\n\u001b[1;32m    113\u001b[0m         \u001b[39m\"\u001b[39m\u001b[39mThe input features DataFrame and the target variable DataFrame \u001b[39m\u001b[39m\"\u001b[39m\n\u001b[1;32m    114\u001b[0m         \u001b[39m\"\u001b[39m\u001b[39mshould contain the same number of data points.\u001b[39m\u001b[39m\"\u001b[39m\n\u001b[1;32m    115\u001b[0m     )\n\u001b[1;32m    117\u001b[0m \u001b[39m# Drop features which have the same value for the entire data set\u001b[39;00m\n\u001b[1;32m    118\u001b[0m \u001b[39mif\u001b[39;00m drop_constant_features:\n",
      "\u001b[0;31mValueError\u001b[0m: The input features DataFrame and the target variable DataFrame should contain the same number of data points."
     ]
    }
   ],
   "source": [
    "\n",
    "PRECOMPUTED_MODDATA = \"./precomputed/expt_is_metal_benchmark_moddata.pkl.gz\"\n",
    "\n",
    "if os.path.isfile(PRECOMPUTED_MODDATA):\n",
    "    data = MODData.load(PRECOMPUTED_MODDATA)\n",
    "else:\n",
    "    # Use a fresh copy of the dataset\n",
    "    df = load_dataset(\"matbench_expt_is_metal\")\n",
    "    df[\"composition\"] = df[\"composition\"].map(Composition)\n",
    "    df[\"structure\"] = df[\"composition\"].map(CompositionContainer)\n",
    "    \n",
    "    data = MODData(\n",
    "        structures=df[\"structure\"].tolist(), \n",
    "        targets=df[\"is_metal\"].tolist(), \n",
    "        target_names=[\"is_metal\"],\n",
    "        featurizer=CompositionOnlyFeaturizer(n_jobs=8),\n",
    "        num_classes = {'is_metal':2}\n",
    "    )\n",
    "    data.featurize()\n",
    "    # As this is a small data/feature set, order all features \n",
    "    data.feature_selection(n=-1)"
   ]
  },
  {
   "cell_type": "code",
   "execution_count": null,
   "metadata": {},
   "outputs": [],
   "source": []
  }
 ],
 "metadata": {
  "kernelspec": {
   "display_name": "gptchem",
   "language": "python",
   "name": "python3"
  },
  "language_info": {
   "codemirror_mode": {
    "name": "ipython",
    "version": 3
   },
   "file_extension": ".py",
   "mimetype": "text/x-python",
   "name": "python",
   "nbconvert_exporter": "python",
   "pygments_lexer": "ipython3",
   "version": "3.9.15"
  },
  "orig_nbformat": 4,
  "vscode": {
   "interpreter": {
    "hash": "2f3b9074e5baa1438c27e2ea813f7f53b7516c83bd70840b6d64eae6820ee5df"
   }
  }
 },
 "nbformat": 4,
 "nbformat_minor": 2
}
