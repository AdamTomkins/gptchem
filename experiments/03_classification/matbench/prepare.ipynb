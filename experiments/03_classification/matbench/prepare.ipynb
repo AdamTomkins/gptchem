{
 "cells": [
  {
   "cell_type": "code",
   "execution_count": 11,
   "metadata": {},
   "outputs": [
    {
     "name": "stdout",
     "output_type": "stream",
     "text": [
      "The autoreload extension is already loaded. To reload it, use:\n",
      "  %reload_ext autoreload\n"
     ]
    }
   ],
   "source": [
    "%load_ext autoreload \n",
    "%autoreload 2"
   ]
  },
  {
   "cell_type": "code",
   "execution_count": 27,
   "metadata": {},
   "outputs": [],
   "source": [
    "from matbench.bench import MatbenchBenchmark\n",
    "from matbench.constants import CLF_KEY\n",
    "from gptchem.gpt_classifier import GPTClassifier\n",
    "from gptchem.tuner import Tuner\n",
    "\n",
    "from loguru import logger\n",
    "\n",
    "logger.enable(\"gptchem\")"
   ]
  },
  {
   "cell_type": "code",
   "execution_count": 30,
   "metadata": {},
   "outputs": [
    {
     "name": "stdout",
     "output_type": "stream",
     "text": [
      "2023-01-18 09:00:45 INFO     Initialized benchmark 'matbench_v0.1' with 2 tasks: \n",
      "['matbench_glass', 'matbench_expt_is_metal']\n"
     ]
    }
   ],
   "source": [
    "mb = MatbenchBenchmark(\n",
    "    autoload=True,\n",
    "    subset=[\n",
    "        \"matbench_glass\",\n",
    "        \"matbench_expt_is_metal\",\n",
    "    ],\n",
    ")"
   ]
  },
  {
   "cell_type": "code",
   "execution_count": 31,
   "metadata": {},
   "outputs": [
    {
     "name": "stdout",
     "output_type": "stream",
     "text": [
      "2023-01-18 09:00:45 INFO     Dataset matbench_glass already loaded; not reloading dataset.\n",
      "<class 'int'>\n"
     ]
    },
    {
     "name": "stderr",
     "output_type": "stream",
     "text": [
      "Upload progress: 100%|██████████| 501k/501k [00:00<00:00, 799Mit/s]\n"
     ]
    },
    {
     "name": "stdout",
     "output_type": "stream",
     "text": [
      "Uploaded file from /Users/kevinmaikjablonka/git/kjappelbaum/gptchem/experiments/03_classification/matbench/out/20230118_090045/train.jsonl: file-bPqgToXju1FuFr9LLqd3YhTH\n"
     ]
    },
    {
     "name": "stderr",
     "output_type": "stream",
     "text": [
      "2023-01-18 09:00:49.098 | DEBUG    | gptchem.tuner:tune:186 - Requested fine tuning. {\n",
      "  \"created_at\": 1674028849,\n",
      "  \"events\": [\n",
      "    {\n",
      "      \"created_at\": 1674028849,\n",
      "      \"level\": \"info\",\n",
      "      \"message\": \"Created fine-tune: ft-Ot29PLMFNbmOUc1bvSzeifu1\",\n",
      "      \"object\": \"fine-tune-event\"\n",
      "    }\n",
      "  ],\n",
      "  \"fine_tuned_model\": null,\n",
      "  \"hyperparams\": {\n",
      "    \"batch_size\": null,\n",
      "    \"learning_rate_multiplier\": 0.02,\n",
      "    \"n_epochs\": 8,\n",
      "    \"prompt_loss_weight\": 0.01\n",
      "  },\n",
      "  \"id\": \"ft-Ot29PLMFNbmOUc1bvSzeifu1\",\n",
      "  \"model\": \"ada\",\n",
      "  \"object\": \"fine-tune\",\n",
      "  \"organization_id\": \"org-TFRJXw3PPQocOWbu71eI2t9U\",\n",
      "  \"result_files\": [],\n",
      "  \"status\": \"pending\",\n",
      "  \"training_files\": [\n",
      "    {\n",
      "      \"bytes\": 500776,\n",
      "      \"created_at\": 1674028848,\n",
      "      \"filename\": \"/Users/kevinmaikjablonka/git/kjappelbaum/gptchem/experiments/03_classification/matbench/out/20230118_090045/train.jsonl\",\n",
      "      \"id\": \"file-bPqgToXju1FuFr9LLqd3YhTH\",\n",
      "      \"object\": \"file\",\n",
      "      \"purpose\": \"fine-tune\",\n",
      "      \"status\": \"uploaded\",\n",
      "      \"status_details\": null\n",
      "    }\n",
      "  ],\n",
      "  \"updated_at\": 1674028849,\n",
      "  \"validation_files\": []\n",
      "}\n",
      "2023-01-18 09:00:49.381 | DEBUG    | gptchem.tuner:get_ft_model_name:29 - Fine tuning status: pending\n",
      "2023-01-18 09:02:49.966 | DEBUG    | gptchem.tuner:get_ft_model_name:29 - Fine tuning status: running\n"
     ]
    }
   ],
   "source": [
    "for task in mb.tasks:\n",
    "    task.load()\n",
    "    \n",
    "    for fold_ind, fold in enumerate(task.folds):\n",
    "        print(type(fold))\n",
    "        classifier = GPTClassifier('glass', Tuner(n_epochs=8, learning_rate_multiplier=0.02, wandb_sync=False))\n",
    "        train_inputs, train_outputs = task.get_train_and_val_data(fold)\n",
    "\n",
    "        # train and validate your model\n",
    "        classifier.fit(train_inputs, train_outputs.astype(int))\n",
    "\n",
    "        # Get testing data\n",
    "        test_inputs = task.get_test_data(fold, include_target=False)\n",
    "\n",
    "        # Predict on the testing data\n",
    "        # Your output should be a pandas series, numpy array, or python iterable\n",
    "        # where the array elements are floats or bools\n",
    "        predictions = classifier.predict(test_inputs)\n",
    "\n",
    "        # Record your data!\n",
    "        task.record(fold, predictions)\n",
    "\n",
    "    print(f\"{task.dataset_name}: Accuracy score {task.scores['accuracy']['mean']}\")\n",
    "    print(f\"{task.dataset_name}: ROC score {task.scores['rocauc']['mean']}\")"
   ]
  },
  {
   "cell_type": "code",
   "execution_count": null,
   "metadata": {},
   "outputs": [],
   "source": []
  }
 ],
 "metadata": {
  "kernelspec": {
   "display_name": "gptchem",
   "language": "python",
   "name": "python3"
  },
  "language_info": {
   "codemirror_mode": {
    "name": "ipython",
    "version": 3
   },
   "file_extension": ".py",
   "mimetype": "text/x-python",
   "name": "python",
   "nbconvert_exporter": "python",
   "pygments_lexer": "ipython3",
   "version": "3.9.15"
  },
  "orig_nbformat": 4,
  "vscode": {
   "interpreter": {
    "hash": "2f3b9074e5baa1438c27e2ea813f7f53b7516c83bd70840b6d64eae6820ee5df"
   }
  }
 },
 "nbformat": 4,
 "nbformat_minor": 2
}
