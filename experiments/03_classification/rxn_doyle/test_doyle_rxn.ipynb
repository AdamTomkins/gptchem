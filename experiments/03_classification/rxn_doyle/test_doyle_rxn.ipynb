{
 "cells": [
  {
   "cell_type": "code",
   "execution_count": 1,
   "metadata": {},
   "outputs": [],
   "source": [
    "%load_ext autoreload\n",
    "%autoreload 2"
   ]
  },
  {
   "cell_type": "code",
   "execution_count": 2,
   "metadata": {},
   "outputs": [],
   "source": [
    "from gptchem.data import get_doyle_rxn_data\n",
    "from gptchem.formatter import ReactionClassificationFormatter"
   ]
  },
  {
   "cell_type": "code",
   "execution_count": 3,
   "metadata": {},
   "outputs": [],
   "source": [
    "formatter = ReactionClassificationFormatter.from_preset(\"DreherDoyle\", 2, one_hot=True)"
   ]
  },
  {
   "cell_type": "code",
   "execution_count": 4,
   "metadata": {},
   "outputs": [],
   "source": [
    "data = get_doyle_rxn_data()"
   ]
  },
  {
   "cell_type": "code",
   "execution_count": 5,
   "metadata": {},
   "outputs": [],
   "source": [
    "formatted = formatter(data)"
   ]
  },
  {
   "cell_type": "code",
   "execution_count": 6,
   "metadata": {},
   "outputs": [
    {
     "data": {
      "text/html": [
       "<div>\n",
       "<style scoped>\n",
       "    .dataframe tbody tr th:only-of-type {\n",
       "        vertical-align: middle;\n",
       "    }\n",
       "\n",
       "    .dataframe tbody tr th {\n",
       "        vertical-align: top;\n",
       "    }\n",
       "\n",
       "    .dataframe thead th {\n",
       "        text-align: right;\n",
       "    }\n",
       "</style>\n",
       "<table border=\"1\" class=\"dataframe\">\n",
       "  <thead>\n",
       "    <tr style=\"text-align: right;\">\n",
       "      <th></th>\n",
       "      <th>prompt</th>\n",
       "      <th>completion</th>\n",
       "      <th>label</th>\n",
       "      <th>representation</th>\n",
       "    </tr>\n",
       "  </thead>\n",
       "  <tbody>\n",
       "    <tr>\n",
       "      <th>0</th>\n",
       "      <td>What is the yield of the reaction ligand 3  ad...</td>\n",
       "      <td>1@@@</td>\n",
       "      <td>1</td>\n",
       "      <td>[3, 9, 1, 9]</td>\n",
       "    </tr>\n",
       "    <tr>\n",
       "      <th>1</th>\n",
       "      <td>What is the yield of the reaction ligand 3  ad...</td>\n",
       "      <td>0@@@</td>\n",
       "      <td>0</td>\n",
       "      <td>[3, 19, 1, 4]</td>\n",
       "    </tr>\n",
       "    <tr>\n",
       "      <th>2</th>\n",
       "      <td>What is the yield of the reaction ligand 2  ad...</td>\n",
       "      <td>0@@@</td>\n",
       "      <td>0</td>\n",
       "      <td>[2, 19, 1, 11]</td>\n",
       "    </tr>\n",
       "    <tr>\n",
       "      <th>3</th>\n",
       "      <td>What is the yield of the reaction ligand 0  ad...</td>\n",
       "      <td>0@@@</td>\n",
       "      <td>0</td>\n",
       "      <td>[0, 15, 2, 5]</td>\n",
       "    </tr>\n",
       "    <tr>\n",
       "      <th>4</th>\n",
       "      <td>What is the yield of the reaction ligand 3  ad...</td>\n",
       "      <td>0@@@</td>\n",
       "      <td>0</td>\n",
       "      <td>[3, 9, 2, 7]</td>\n",
       "    </tr>\n",
       "    <tr>\n",
       "      <th>...</th>\n",
       "      <td>...</td>\n",
       "      <td>...</td>\n",
       "      <td>...</td>\n",
       "      <td>...</td>\n",
       "    </tr>\n",
       "    <tr>\n",
       "      <th>3950</th>\n",
       "      <td>What is the yield of the reaction ligand 2  ad...</td>\n",
       "      <td>0@@@</td>\n",
       "      <td>0</td>\n",
       "      <td>[2, 1, 1, 2]</td>\n",
       "    </tr>\n",
       "    <tr>\n",
       "      <th>3951</th>\n",
       "      <td>What is the yield of the reaction ligand 0  ad...</td>\n",
       "      <td>1@@@</td>\n",
       "      <td>1</td>\n",
       "      <td>[0, 10, 2, 2]</td>\n",
       "    </tr>\n",
       "    <tr>\n",
       "      <th>3952</th>\n",
       "      <td>What is the yield of the reaction ligand 0  ad...</td>\n",
       "      <td>0@@@</td>\n",
       "      <td>0</td>\n",
       "      <td>[0, 15, 0, 5]</td>\n",
       "    </tr>\n",
       "    <tr>\n",
       "      <th>3953</th>\n",
       "      <td>What is the yield of the reaction ligand 3  ad...</td>\n",
       "      <td>0@@@</td>\n",
       "      <td>0</td>\n",
       "      <td>[3, 3, 1, 5]</td>\n",
       "    </tr>\n",
       "    <tr>\n",
       "      <th>3954</th>\n",
       "      <td>What is the yield of the reaction ligand 3  ad...</td>\n",
       "      <td>1@@@</td>\n",
       "      <td>1</td>\n",
       "      <td>[3, 0, 0, 11]</td>\n",
       "    </tr>\n",
       "  </tbody>\n",
       "</table>\n",
       "<p>3955 rows × 4 columns</p>\n",
       "</div>"
      ],
      "text/plain": [
       "                                                 prompt completion  label  \\\n",
       "0     What is the yield of the reaction ligand 3  ad...       1@@@      1   \n",
       "1     What is the yield of the reaction ligand 3  ad...       0@@@      0   \n",
       "2     What is the yield of the reaction ligand 2  ad...       0@@@      0   \n",
       "3     What is the yield of the reaction ligand 0  ad...       0@@@      0   \n",
       "4     What is the yield of the reaction ligand 3  ad...       0@@@      0   \n",
       "...                                                 ...        ...    ...   \n",
       "3950  What is the yield of the reaction ligand 2  ad...       0@@@      0   \n",
       "3951  What is the yield of the reaction ligand 0  ad...       1@@@      1   \n",
       "3952  What is the yield of the reaction ligand 0  ad...       0@@@      0   \n",
       "3953  What is the yield of the reaction ligand 3  ad...       0@@@      0   \n",
       "3954  What is the yield of the reaction ligand 3  ad...       1@@@      1   \n",
       "\n",
       "      representation  \n",
       "0       [3, 9, 1, 9]  \n",
       "1      [3, 19, 1, 4]  \n",
       "2     [2, 19, 1, 11]  \n",
       "3      [0, 15, 2, 5]  \n",
       "4       [3, 9, 2, 7]  \n",
       "...              ...  \n",
       "3950    [2, 1, 1, 2]  \n",
       "3951   [0, 10, 2, 2]  \n",
       "3952   [0, 15, 0, 5]  \n",
       "3953    [3, 3, 1, 5]  \n",
       "3954   [3, 0, 0, 11]  \n",
       "\n",
       "[3955 rows x 4 columns]"
      ]
     },
     "execution_count": 6,
     "metadata": {},
     "output_type": "execute_result"
    }
   ],
   "source": [
    "formatted"
   ]
  },
  {
   "cell_type": "code",
   "execution_count": 7,
   "metadata": {},
   "outputs": [
    {
     "data": {
      "text/plain": [
       "3955"
      ]
     },
     "execution_count": 7,
     "metadata": {},
     "output_type": "execute_result"
    }
   ],
   "source": [
    "len(formatted)"
   ]
  },
  {
   "cell_type": "code",
   "execution_count": 8,
   "metadata": {},
   "outputs": [
    {
     "data": {
      "text/plain": [
       "0    1978\n",
       "1    1977\n",
       "Name: label, dtype: int64"
      ]
     },
     "execution_count": 8,
     "metadata": {},
     "output_type": "execute_result"
    }
   ],
   "source": [
    "formatted[\"label\"].value_counts()"
   ]
  },
  {
   "cell_type": "code",
   "execution_count": null,
   "metadata": {},
   "outputs": [],
   "source": []
  }
 ],
 "metadata": {
  "kernelspec": {
   "display_name": "gptchem",
   "language": "python",
   "name": "python3"
  },
  "language_info": {
   "codemirror_mode": {
    "name": "ipython",
    "version": 3
   },
   "file_extension": ".py",
   "mimetype": "text/x-python",
   "name": "python",
   "nbconvert_exporter": "python",
   "pygments_lexer": "ipython3",
   "version": "3.9.15 (main, Nov 24 2022, 08:28:41) \n[Clang 14.0.6 ]"
  },
  "orig_nbformat": 4,
  "vscode": {
   "interpreter": {
    "hash": "2f3b9074e5baa1438c27e2ea813f7f53b7516c83bd70840b6d64eae6820ee5df"
   }
  }
 },
 "nbformat": 4,
 "nbformat_minor": 2
}
