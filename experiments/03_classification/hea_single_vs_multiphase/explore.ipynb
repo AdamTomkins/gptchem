{
 "cells": [
  {
   "cell_type": "markdown",
   "metadata": {},
   "source": [
    "# Predicting single vs. multiphase for alloys"
   ]
  },
  {
   "cell_type": "code",
   "execution_count": 1,
   "metadata": {},
   "outputs": [],
   "source": [
    "%load_ext autoreload\n",
    "%autoreload 2"
   ]
  },
  {
   "cell_type": "code",
   "execution_count": 2,
   "metadata": {},
   "outputs": [],
   "source": [
    "from sklearn.model_selection import train_test_split\n",
    "\n",
    "from gptchem.formatter import ClassificationFormatter\n",
    "from gptchem.querier import Querier\n",
    "from gptchem.tuner import Tuner\n",
    "from gptchem.evaluator import evaluate_classification\n",
    "from gptchem.extractor import ClassificationExtractor\n",
    "from gptchem.data import get_hea_phase_data"
   ]
  },
  {
   "cell_type": "code",
   "execution_count": 3,
   "metadata": {},
   "outputs": [],
   "source": [
    "data = get_hea_phase_data()"
   ]
  },
  {
   "cell_type": "code",
   "execution_count": 4,
   "metadata": {},
   "outputs": [
    {
     "data": {
      "text/html": [
       "<div>\n",
       "<style scoped>\n",
       "    .dataframe tbody tr th:only-of-type {\n",
       "        vertical-align: middle;\n",
       "    }\n",
       "\n",
       "    .dataframe tbody tr th {\n",
       "        vertical-align: top;\n",
       "    }\n",
       "\n",
       "    .dataframe thead th {\n",
       "        text-align: right;\n",
       "    }\n",
       "</style>\n",
       "<table border=\"1\" class=\"dataframe\">\n",
       "  <thead>\n",
       "    <tr style=\"text-align: right;\">\n",
       "      <th></th>\n",
       "      <th>Alloy</th>\n",
       "      <th>Phase</th>\n",
       "      <th>phase_encoded</th>\n",
       "      <th>phase_binary_encoded</th>\n",
       "    </tr>\n",
       "  </thead>\n",
       "  <tbody>\n",
       "    <tr>\n",
       "      <th>0</th>\n",
       "      <td>Ag0.05Zr0.95</td>\n",
       "      <td>bcc</td>\n",
       "      <td>1</td>\n",
       "      <td>1</td>\n",
       "    </tr>\n",
       "    <tr>\n",
       "      <th>1</th>\n",
       "      <td>Al0.15Cr0.85</td>\n",
       "      <td>bcc</td>\n",
       "      <td>1</td>\n",
       "      <td>1</td>\n",
       "    </tr>\n",
       "    <tr>\n",
       "      <th>2</th>\n",
       "      <td>Al0.1Fe0.9</td>\n",
       "      <td>bcc</td>\n",
       "      <td>1</td>\n",
       "      <td>1</td>\n",
       "    </tr>\n",
       "    <tr>\n",
       "      <th>3</th>\n",
       "      <td>Al0.1Hf0.9</td>\n",
       "      <td>bcc</td>\n",
       "      <td>1</td>\n",
       "      <td>1</td>\n",
       "    </tr>\n",
       "    <tr>\n",
       "      <th>4</th>\n",
       "      <td>Al0.1Ti0.9</td>\n",
       "      <td>bcc</td>\n",
       "      <td>1</td>\n",
       "      <td>1</td>\n",
       "    </tr>\n",
       "  </tbody>\n",
       "</table>\n",
       "</div>"
      ],
      "text/plain": [
       "          Alloy Phase  phase_encoded  phase_binary_encoded\n",
       "0  Ag0.05Zr0.95   bcc              1                     1\n",
       "1  Al0.15Cr0.85   bcc              1                     1\n",
       "2    Al0.1Fe0.9   bcc              1                     1\n",
       "3    Al0.1Hf0.9   bcc              1                     1\n",
       "4    Al0.1Ti0.9   bcc              1                     1"
      ]
     },
     "execution_count": 4,
     "metadata": {},
     "output_type": "execute_result"
    }
   ],
   "source": [
    "data.head()"
   ]
  },
  {
   "cell_type": "code",
   "execution_count": 5,
   "metadata": {},
   "outputs": [
    {
     "data": {
      "text/plain": [
       "0    627\n",
       "1    261\n",
       "2    218\n",
       "3    146\n",
       "Name: phase_encoded, dtype: int64"
      ]
     },
     "execution_count": 5,
     "metadata": {},
     "output_type": "execute_result"
    }
   ],
   "source": [
    "data['phase_encoded'].value_counts()"
   ]
  },
  {
   "cell_type": "code",
   "execution_count": 6,
   "metadata": {},
   "outputs": [],
   "source": [
    "formatter = ClassificationFormatter(\n",
    "    representation_column='Alloy',\n",
    "    label_column='phase_binary_encoded',\n",
    "    property_name='phase',\n",
    "    num_classes=None,\n",
    "    qcut=None\n",
    ")"
   ]
  },
  {
   "cell_type": "code",
   "execution_count": 7,
   "metadata": {},
   "outputs": [],
   "source": [
    "formatted = formatter(data)"
   ]
  },
  {
   "cell_type": "code",
   "execution_count": 8,
   "metadata": {},
   "outputs": [
    {
     "data": {
      "text/html": [
       "<div>\n",
       "<style scoped>\n",
       "    .dataframe tbody tr th:only-of-type {\n",
       "        vertical-align: middle;\n",
       "    }\n",
       "\n",
       "    .dataframe tbody tr th {\n",
       "        vertical-align: top;\n",
       "    }\n",
       "\n",
       "    .dataframe thead th {\n",
       "        text-align: right;\n",
       "    }\n",
       "</style>\n",
       "<table border=\"1\" class=\"dataframe\">\n",
       "  <thead>\n",
       "    <tr style=\"text-align: right;\">\n",
       "      <th></th>\n",
       "      <th>prompt</th>\n",
       "      <th>completion</th>\n",
       "      <th>label</th>\n",
       "      <th>representation</th>\n",
       "    </tr>\n",
       "  </thead>\n",
       "  <tbody>\n",
       "    <tr>\n",
       "      <th>0</th>\n",
       "      <td>What is the phase of Ag0.05Zr0.95?###</td>\n",
       "      <td>1@@@</td>\n",
       "      <td>1</td>\n",
       "      <td>Ag0.05Zr0.95</td>\n",
       "    </tr>\n",
       "    <tr>\n",
       "      <th>1</th>\n",
       "      <td>What is the phase of Al0.15Cr0.85?###</td>\n",
       "      <td>1@@@</td>\n",
       "      <td>1</td>\n",
       "      <td>Al0.15Cr0.85</td>\n",
       "    </tr>\n",
       "    <tr>\n",
       "      <th>2</th>\n",
       "      <td>What is the phase of Al0.1Fe0.9?###</td>\n",
       "      <td>1@@@</td>\n",
       "      <td>1</td>\n",
       "      <td>Al0.1Fe0.9</td>\n",
       "    </tr>\n",
       "    <tr>\n",
       "      <th>3</th>\n",
       "      <td>What is the phase of Al0.1Hf0.9?###</td>\n",
       "      <td>1@@@</td>\n",
       "      <td>1</td>\n",
       "      <td>Al0.1Hf0.9</td>\n",
       "    </tr>\n",
       "    <tr>\n",
       "      <th>4</th>\n",
       "      <td>What is the phase of Al0.1Ti0.9?###</td>\n",
       "      <td>1@@@</td>\n",
       "      <td>1</td>\n",
       "      <td>Al0.1Ti0.9</td>\n",
       "    </tr>\n",
       "    <tr>\n",
       "      <th>...</th>\n",
       "      <td>...</td>\n",
       "      <td>...</td>\n",
       "      <td>...</td>\n",
       "      <td>...</td>\n",
       "    </tr>\n",
       "    <tr>\n",
       "      <th>1247</th>\n",
       "      <td>What is the phase of SrY?###</td>\n",
       "      <td>0@@@</td>\n",
       "      <td>0</td>\n",
       "      <td>SrY</td>\n",
       "    </tr>\n",
       "    <tr>\n",
       "      <th>1248</th>\n",
       "      <td>What is the phase of TaTb?###</td>\n",
       "      <td>0@@@</td>\n",
       "      <td>0</td>\n",
       "      <td>TaTb</td>\n",
       "    </tr>\n",
       "    <tr>\n",
       "      <th>1249</th>\n",
       "      <td>What is the phase of TaTl?###</td>\n",
       "      <td>0@@@</td>\n",
       "      <td>0</td>\n",
       "      <td>TaTl</td>\n",
       "    </tr>\n",
       "    <tr>\n",
       "      <th>1250</th>\n",
       "      <td>What is the phase of TaTm?###</td>\n",
       "      <td>0@@@</td>\n",
       "      <td>0</td>\n",
       "      <td>TaTm</td>\n",
       "    </tr>\n",
       "    <tr>\n",
       "      <th>1251</th>\n",
       "      <td>What is the phase of Ta_Th?###</td>\n",
       "      <td>0@@@</td>\n",
       "      <td>0</td>\n",
       "      <td>Ta_Th</td>\n",
       "    </tr>\n",
       "  </tbody>\n",
       "</table>\n",
       "<p>1252 rows × 4 columns</p>\n",
       "</div>"
      ],
      "text/plain": [
       "                                     prompt completion  label representation\n",
       "0     What is the phase of Ag0.05Zr0.95?###       1@@@      1   Ag0.05Zr0.95\n",
       "1     What is the phase of Al0.15Cr0.85?###       1@@@      1   Al0.15Cr0.85\n",
       "2       What is the phase of Al0.1Fe0.9?###       1@@@      1     Al0.1Fe0.9\n",
       "3       What is the phase of Al0.1Hf0.9?###       1@@@      1     Al0.1Hf0.9\n",
       "4       What is the phase of Al0.1Ti0.9?###       1@@@      1     Al0.1Ti0.9\n",
       "...                                     ...        ...    ...            ...\n",
       "1247           What is the phase of SrY?###       0@@@      0            SrY\n",
       "1248          What is the phase of TaTb?###       0@@@      0           TaTb\n",
       "1249          What is the phase of TaTl?###       0@@@      0           TaTl\n",
       "1250          What is the phase of TaTm?###       0@@@      0           TaTm\n",
       "1251         What is the phase of Ta_Th?###       0@@@      0          Ta_Th\n",
       "\n",
       "[1252 rows x 4 columns]"
      ]
     },
     "execution_count": 8,
     "metadata": {},
     "output_type": "execute_result"
    }
   ],
   "source": [
    "formatted"
   ]
  },
  {
   "cell_type": "code",
   "execution_count": 9,
   "metadata": {},
   "outputs": [],
   "source": [
    "train, test = train_test_split(formatted, train_size=50, test_size=100, stratify=formatted['label'], random_state=42)"
   ]
  },
  {
   "cell_type": "code",
   "execution_count": 10,
   "metadata": {},
   "outputs": [],
   "source": [
    "tuner = Tuner(base_model='ada', n_epochs=8, learning_rate_multiplier=0.02, wandb_sync=False)"
   ]
  },
  {
   "cell_type": "code",
   "execution_count": 11,
   "metadata": {},
   "outputs": [
    {
     "name": "stderr",
     "output_type": "stream",
     "text": [
      "Upload progress: 100%|██████████| 5.57k/5.57k [00:00<00:00, 3.88Mit/s]\n"
     ]
    },
    {
     "name": "stdout",
     "output_type": "stream",
     "text": [
      "Uploaded file from /Users/kevinmaikjablonka/git/kjappelbaum/gptchem/experiments/03_classification/hea_single_vs_multiphase/out/20230109_151611/train.jsonl: file-YRG9zLE74de5ykSxQzKp4tZm\n"
     ]
    }
   ],
   "source": [
    "tune_summary = tuner(train)"
   ]
  },
  {
   "cell_type": "code",
   "execution_count": 13,
   "metadata": {},
   "outputs": [],
   "source": [
    "querier = Querier(tune_summary['model_name'])"
   ]
  },
  {
   "cell_type": "code",
   "execution_count": 14,
   "metadata": {},
   "outputs": [],
   "source": [
    "completions = querier(test, logprobs=2)"
   ]
  },
  {
   "cell_type": "code",
   "execution_count": 15,
   "metadata": {},
   "outputs": [],
   "source": [
    "extractor = ClassificationExtractor()\n",
    "predictions = extractor(completions)"
   ]
  },
  {
   "cell_type": "code",
   "execution_count": 16,
   "metadata": {},
   "outputs": [],
   "source": [
    "metrics = evaluate_classification(test['label'], predictions)"
   ]
  },
  {
   "cell_type": "code",
   "execution_count": 17,
   "metadata": {},
   "outputs": [
    {
     "data": {
      "text/plain": [
       "{'accuracy': 0.95,\n",
       " 'acc_macro': 0.95,\n",
       " 'racc': 0.5,\n",
       " 'kappa': 0.8999999999999999,\n",
       " 'confusion_matrix': pycm.ConfusionMatrix(classes: [0, 1]),\n",
       " 'f1_macro': 0.9499549594635172,\n",
       " 'f1_micro': 0.95,\n",
       " 'frac_valid': 1.0,\n",
       " 'all_y_true': (#100) [0,1,1,0,1,1,1,0,1,1...],\n",
       " 'all_y_pred': (#100) [0,1,0,1,1,1,1,0,1,0...],\n",
       " 'valid_indices': [0,\n",
       "  1,\n",
       "  2,\n",
       "  3,\n",
       "  4,\n",
       "  5,\n",
       "  6,\n",
       "  7,\n",
       "  8,\n",
       "  9,\n",
       "  10,\n",
       "  11,\n",
       "  12,\n",
       "  13,\n",
       "  14,\n",
       "  15,\n",
       "  16,\n",
       "  17,\n",
       "  18,\n",
       "  19,\n",
       "  20,\n",
       "  21,\n",
       "  22,\n",
       "  23,\n",
       "  24,\n",
       "  25,\n",
       "  26,\n",
       "  27,\n",
       "  28,\n",
       "  29,\n",
       "  30,\n",
       "  31,\n",
       "  32,\n",
       "  33,\n",
       "  34,\n",
       "  35,\n",
       "  36,\n",
       "  37,\n",
       "  38,\n",
       "  39,\n",
       "  40,\n",
       "  41,\n",
       "  42,\n",
       "  43,\n",
       "  44,\n",
       "  45,\n",
       "  46,\n",
       "  47,\n",
       "  48,\n",
       "  49,\n",
       "  50,\n",
       "  51,\n",
       "  52,\n",
       "  53,\n",
       "  54,\n",
       "  55,\n",
       "  56,\n",
       "  57,\n",
       "  58,\n",
       "  59,\n",
       "  60,\n",
       "  61,\n",
       "  62,\n",
       "  63,\n",
       "  64,\n",
       "  65,\n",
       "  66,\n",
       "  67,\n",
       "  68,\n",
       "  69,\n",
       "  70,\n",
       "  71,\n",
       "  72,\n",
       "  73,\n",
       "  74,\n",
       "  75,\n",
       "  76,\n",
       "  77,\n",
       "  78,\n",
       "  79,\n",
       "  80,\n",
       "  81,\n",
       "  82,\n",
       "  83,\n",
       "  84,\n",
       "  85,\n",
       "  86,\n",
       "  87,\n",
       "  88,\n",
       "  89,\n",
       "  90,\n",
       "  91,\n",
       "  92,\n",
       "  93,\n",
       "  94,\n",
       "  95,\n",
       "  96,\n",
       "  97,\n",
       "  98,\n",
       "  99],\n",
       " 'might_have_rounded_floats': False}"
      ]
     },
     "execution_count": 17,
     "metadata": {},
     "output_type": "execute_result"
    }
   ],
   "source": [
    "metrics"
   ]
  },
  {
   "cell_type": "code",
   "execution_count": null,
   "metadata": {},
   "outputs": [],
   "source": []
  }
 ],
 "metadata": {
  "kernelspec": {
   "display_name": "gptchem",
   "language": "python",
   "name": "python3"
  },
  "language_info": {
   "codemirror_mode": {
    "name": "ipython",
    "version": 3
   },
   "file_extension": ".py",
   "mimetype": "text/x-python",
   "name": "python",
   "nbconvert_exporter": "python",
   "pygments_lexer": "ipython3",
   "version": "3.9.15"
  },
  "orig_nbformat": 4,
  "vscode": {
   "interpreter": {
    "hash": "2f3b9074e5baa1438c27e2ea813f7f53b7516c83bd70840b6d64eae6820ee5df"
   }
  }
 },
 "nbformat": 4,
 "nbformat_minor": 2
}
