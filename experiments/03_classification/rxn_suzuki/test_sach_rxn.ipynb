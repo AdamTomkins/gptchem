{
 "cells": [
  {
   "cell_type": "code",
   "execution_count": 25,
   "metadata": {},
   "outputs": [
    {
     "name": "stdout",
     "output_type": "stream",
     "text": [
      "The autoreload extension is already loaded. To reload it, use:\n",
      "  %reload_ext autoreload\n"
     ]
    }
   ],
   "source": [
    "%load_ext autoreload\n",
    "%autoreload 2"
   ]
  },
  {
   "cell_type": "code",
   "execution_count": 26,
   "metadata": {},
   "outputs": [],
   "source": [
    "from gptchem.data import get_suzuki_rxn_data\n",
    "from gptchem.formatter import ReactionClassificationFormatter"
   ]
  },
  {
   "cell_type": "code",
   "execution_count": 31,
   "metadata": {},
   "outputs": [],
   "source": [
    "data = get_suzuki_rxn_data()\n",
    "formatter = ReactionClassificationFormatter.from_preset(\n",
    "    \"SuzukiMiyaura\", num_classes=5, one_hot=False\n",
    ")"
   ]
  },
  {
   "cell_type": "code",
   "execution_count": 32,
   "metadata": {},
   "outputs": [],
   "source": [
    "formatted = formatter(data)"
   ]
  },
  {
   "cell_type": "code",
   "execution_count": 33,
   "metadata": {},
   "outputs": [
    {
     "data": {
      "text/html": [
       "<div>\n",
       "<style scoped>\n",
       "    .dataframe tbody tr th:only-of-type {\n",
       "        vertical-align: middle;\n",
       "    }\n",
       "\n",
       "    .dataframe tbody tr th {\n",
       "        vertical-align: top;\n",
       "    }\n",
       "\n",
       "    .dataframe thead th {\n",
       "        text-align: right;\n",
       "    }\n",
       "</style>\n",
       "<table border=\"1\" class=\"dataframe\">\n",
       "  <thead>\n",
       "    <tr style=\"text-align: right;\">\n",
       "      <th></th>\n",
       "      <th>prompt</th>\n",
       "      <th>completion</th>\n",
       "      <th>label</th>\n",
       "      <th>representation</th>\n",
       "    </tr>\n",
       "  </thead>\n",
       "  <tbody>\n",
       "    <tr>\n",
       "      <th>0</th>\n",
       "      <td>What is the yield of the reaction reactant 1 C...</td>\n",
       "      <td>0@@@</td>\n",
       "      <td>0</td>\n",
       "      <td>[C1=C(Cl)C=CC2=NC=CC=C12.CCC1=CC(=CC=C1)CC, CC...</td>\n",
       "    </tr>\n",
       "    <tr>\n",
       "      <th>1</th>\n",
       "      <td>What is the yield of the reaction reactant 1 C...</td>\n",
       "      <td>0@@@</td>\n",
       "      <td>0</td>\n",
       "      <td>[C1=C(Cl)C=CC2=NC=CC=C12.CCC1=CC(=CC=C1)CC, CC...</td>\n",
       "    </tr>\n",
       "    <tr>\n",
       "      <th>2</th>\n",
       "      <td>What is the yield of the reaction reactant 1 C...</td>\n",
       "      <td>0@@@</td>\n",
       "      <td>0</td>\n",
       "      <td>[C1=C(Cl)C=CC2=NC=CC=C12.CCC1=CC(=CC=C1)CC, CC...</td>\n",
       "    </tr>\n",
       "    <tr>\n",
       "      <th>3</th>\n",
       "      <td>What is the yield of the reaction reactant 1 C...</td>\n",
       "      <td>0@@@</td>\n",
       "      <td>0</td>\n",
       "      <td>[C1=C(Cl)C=CC2=NC=CC=C12.CCC1=CC(=CC=C1)CC, CC...</td>\n",
       "    </tr>\n",
       "    <tr>\n",
       "      <th>4</th>\n",
       "      <td>What is the yield of the reaction reactant 1 C...</td>\n",
       "      <td>0@@@</td>\n",
       "      <td>0</td>\n",
       "      <td>[C1=C(Cl)C=CC2=NC=CC=C12.CCC1=CC(=CC=C1)CC, CC...</td>\n",
       "    </tr>\n",
       "    <tr>\n",
       "      <th>...</th>\n",
       "      <td>...</td>\n",
       "      <td>...</td>\n",
       "      <td>...</td>\n",
       "      <td>...</td>\n",
       "    </tr>\n",
       "    <tr>\n",
       "      <th>5755</th>\n",
       "      <td>What is the yield of the reaction reactant 1 B...</td>\n",
       "      <td>3@@@</td>\n",
       "      <td>3</td>\n",
       "      <td>[B1(OC(C(O1)(C)C)(C)C)C2=CC3=C(C=C2)N=CC=C3.O,...</td>\n",
       "    </tr>\n",
       "    <tr>\n",
       "      <th>5756</th>\n",
       "      <td>What is the yield of the reaction reactant 1 B...</td>\n",
       "      <td>0@@@</td>\n",
       "      <td>0</td>\n",
       "      <td>[B1(OC(C(O1)(C)C)(C)C)C2=CC3=C(C=C2)N=CC=C3.O,...</td>\n",
       "    </tr>\n",
       "    <tr>\n",
       "      <th>5757</th>\n",
       "      <td>What is the yield of the reaction reactant 1 B...</td>\n",
       "      <td>2@@@</td>\n",
       "      <td>2</td>\n",
       "      <td>[B1(OC(C(O1)(C)C)(C)C)C2=CC3=C(C=C2)N=CC=C3.O,...</td>\n",
       "    </tr>\n",
       "    <tr>\n",
       "      <th>5758</th>\n",
       "      <td>What is the yield of the reaction reactant 1 B...</td>\n",
       "      <td>0@@@</td>\n",
       "      <td>0</td>\n",
       "      <td>[B1(OC(C(O1)(C)C)(C)C)C2=CC3=C(C=C2)N=CC=C3.O,...</td>\n",
       "    </tr>\n",
       "    <tr>\n",
       "      <th>5759</th>\n",
       "      <td>What is the yield of the reaction reactant 1 B...</td>\n",
       "      <td>3@@@</td>\n",
       "      <td>3</td>\n",
       "      <td>[B1(OC(C(O1)(C)C)(C)C)C2=CC3=C(C=C2)N=CC=C3.O,...</td>\n",
       "    </tr>\n",
       "  </tbody>\n",
       "</table>\n",
       "<p>5760 rows × 4 columns</p>\n",
       "</div>"
      ],
      "text/plain": [
       "                                                 prompt  ...                                     representation\n",
       "0     What is the yield of the reaction reactant 1 C...  ...  [C1=C(Cl)C=CC2=NC=CC=C12.CCC1=CC(=CC=C1)CC, CC...\n",
       "1     What is the yield of the reaction reactant 1 C...  ...  [C1=C(Cl)C=CC2=NC=CC=C12.CCC1=CC(=CC=C1)CC, CC...\n",
       "2     What is the yield of the reaction reactant 1 C...  ...  [C1=C(Cl)C=CC2=NC=CC=C12.CCC1=CC(=CC=C1)CC, CC...\n",
       "3     What is the yield of the reaction reactant 1 C...  ...  [C1=C(Cl)C=CC2=NC=CC=C12.CCC1=CC(=CC=C1)CC, CC...\n",
       "4     What is the yield of the reaction reactant 1 C...  ...  [C1=C(Cl)C=CC2=NC=CC=C12.CCC1=CC(=CC=C1)CC, CC...\n",
       "...                                                 ...  ...                                                ...\n",
       "5755  What is the yield of the reaction reactant 1 B...  ...  [B1(OC(C(O1)(C)C)(C)C)C2=CC3=C(C=C2)N=CC=C3.O,...\n",
       "5756  What is the yield of the reaction reactant 1 B...  ...  [B1(OC(C(O1)(C)C)(C)C)C2=CC3=C(C=C2)N=CC=C3.O,...\n",
       "5757  What is the yield of the reaction reactant 1 B...  ...  [B1(OC(C(O1)(C)C)(C)C)C2=CC3=C(C=C2)N=CC=C3.O,...\n",
       "5758  What is the yield of the reaction reactant 1 B...  ...  [B1(OC(C(O1)(C)C)(C)C)C2=CC3=C(C=C2)N=CC=C3.O,...\n",
       "5759  What is the yield of the reaction reactant 1 B...  ...  [B1(OC(C(O1)(C)C)(C)C)C2=CC3=C(C=C2)N=CC=C3.O,...\n",
       "\n",
       "[5760 rows x 4 columns]"
      ]
     },
     "execution_count": 33,
     "metadata": {},
     "output_type": "execute_result"
    }
   ],
   "source": [
    "formatted"
   ]
  },
  {
   "cell_type": "code",
   "execution_count": 34,
   "metadata": {},
   "outputs": [
    {
     "data": {
      "text/plain": [
       "array([0, 4, 1, 3, 2])"
      ]
     },
     "execution_count": 34,
     "metadata": {},
     "output_type": "execute_result"
    }
   ],
   "source": [
    "formatted['label'].unique()"
   ]
  },
  {
   "cell_type": "code",
   "execution_count": 35,
   "metadata": {},
   "outputs": [
    {
     "data": {
      "text/plain": [
       "0    1152\n",
       "4    1152\n",
       "1    1152\n",
       "3    1152\n",
       "2    1152\n",
       "Name: label, dtype: int64"
      ]
     },
     "execution_count": 35,
     "metadata": {},
     "output_type": "execute_result"
    }
   ],
   "source": [
    "formatted['label'].value_counts()"
   ]
  },
  {
   "cell_type": "code",
   "execution_count": 36,
   "metadata": {},
   "outputs": [
    {
     "data": {
      "text/html": [
       "<div>\n",
       "<style scoped>\n",
       "    .dataframe tbody tr th:only-of-type {\n",
       "        vertical-align: middle;\n",
       "    }\n",
       "\n",
       "    .dataframe tbody tr th {\n",
       "        vertical-align: top;\n",
       "    }\n",
       "\n",
       "    .dataframe thead th {\n",
       "        text-align: right;\n",
       "    }\n",
       "</style>\n",
       "<table border=\"1\" class=\"dataframe\">\n",
       "  <thead>\n",
       "    <tr style=\"text-align: right;\">\n",
       "      <th></th>\n",
       "      <th>reactant_1_smiles</th>\n",
       "      <th>reactant_2_smiles</th>\n",
       "      <th>catalyst_smiles</th>\n",
       "      <th>ligand_smiles</th>\n",
       "      <th>reagent_1_smiles</th>\n",
       "      <th>solvent_1_smiles</th>\n",
       "      <th>rxn</th>\n",
       "      <th>yield</th>\n",
       "    </tr>\n",
       "  </thead>\n",
       "  <tbody>\n",
       "    <tr>\n",
       "      <th>0</th>\n",
       "      <td>C1=C(Cl)C=CC2=NC=CC=C12.CCC1=CC(=CC=C1)CC</td>\n",
       "      <td>CC1=CC=C2C(C=NN2C3OCCCC3)=C1B(O)O</td>\n",
       "      <td>CC(=O)O~CC(=O)O~[Pd]</td>\n",
       "      <td>CC(C)(C)P(C(C)(C)C)C(C)(C)C</td>\n",
       "      <td>[OH-].[Na+]</td>\n",
       "      <td>CC#N.O</td>\n",
       "      <td>CC#N.CC(=O)O~CC(=O)O~[Pd].CC(C)(C)P(C(C)(C)C)C...</td>\n",
       "      <td>0.047641</td>\n",
       "    </tr>\n",
       "    <tr>\n",
       "      <th>1</th>\n",
       "      <td>C1=C(Cl)C=CC2=NC=CC=C12.CCC1=CC(=CC=C1)CC</td>\n",
       "      <td>CC1=CC=C2C(C=NN2C3OCCCC3)=C1B(O)O</td>\n",
       "      <td>CC(=O)O~CC(=O)O~[Pd]</td>\n",
       "      <td>c3c(P(c1ccccc1)c2ccccc2)cccc3</td>\n",
       "      <td>[OH-].[Na+]</td>\n",
       "      <td>CC#N.O</td>\n",
       "      <td>CC#N.CC(=O)O~CC(=O)O~[Pd].CCc1cccc(CC)c1.Cc1cc...</td>\n",
       "      <td>0.041210</td>\n",
       "    </tr>\n",
       "    <tr>\n",
       "      <th>2</th>\n",
       "      <td>C1=C(Cl)C=CC2=NC=CC=C12.CCC1=CC(=CC=C1)CC</td>\n",
       "      <td>CC1=CC=C2C(C=NN2C3OCCCC3)=C1B(O)O</td>\n",
       "      <td>CC(=O)O~CC(=O)O~[Pd]</td>\n",
       "      <td>CC(C)(C)P(C1=CC=C(C=C1)N(C)C)C(C)(C)C</td>\n",
       "      <td>[OH-].[Na+]</td>\n",
       "      <td>CC#N.O</td>\n",
       "      <td>CC#N.CC(=O)O~CC(=O)O~[Pd].CCc1cccc(CC)c1.CN(C)...</td>\n",
       "      <td>0.025838</td>\n",
       "    </tr>\n",
       "    <tr>\n",
       "      <th>3</th>\n",
       "      <td>C1=C(Cl)C=CC2=NC=CC=C12.CCC1=CC(=CC=C1)CC</td>\n",
       "      <td>CC1=CC=C2C(C=NN2C3OCCCC3)=C1B(O)O</td>\n",
       "      <td>CC(=O)O~CC(=O)O~[Pd]</td>\n",
       "      <td>C1(CCCCC1)P(C2CCCCC2)C3CCCCC3</td>\n",
       "      <td>[OH-].[Na+]</td>\n",
       "      <td>CC#N.O</td>\n",
       "      <td>C1CCC(P(C2CCCCC2)C2CCCCC2)CC1.CC#N.CC(=O)O~CC(...</td>\n",
       "      <td>0.044432</td>\n",
       "    </tr>\n",
       "    <tr>\n",
       "      <th>4</th>\n",
       "      <td>C1=C(Cl)C=CC2=NC=CC=C12.CCC1=CC(=CC=C1)CC</td>\n",
       "      <td>CC1=CC=C2C(C=NN2C3OCCCC3)=C1B(O)O</td>\n",
       "      <td>CC(=O)O~CC(=O)O~[Pd]</td>\n",
       "      <td>CC1=CC=CC=C1P(C2=CC=CC=C2C)C3=CC=CC=C3C</td>\n",
       "      <td>[OH-].[Na+]</td>\n",
       "      <td>CC#N.O</td>\n",
       "      <td>CC#N.CC(=O)O~CC(=O)O~[Pd].CCc1cccc(CC)c1.Cc1cc...</td>\n",
       "      <td>0.019499</td>\n",
       "    </tr>\n",
       "    <tr>\n",
       "      <th>...</th>\n",
       "      <td>...</td>\n",
       "      <td>...</td>\n",
       "      <td>...</td>\n",
       "      <td>...</td>\n",
       "      <td>...</td>\n",
       "      <td>...</td>\n",
       "      <td>...</td>\n",
       "      <td>...</td>\n",
       "    </tr>\n",
       "    <tr>\n",
       "      <th>5755</th>\n",
       "      <td>B1(OC(C(O1)(C)C)(C)C)C2=CC3=C(C=C2)N=CC=C3.O</td>\n",
       "      <td>CC1=CC=C2C(C=NN2C3OCCCC3)=C1Br</td>\n",
       "      <td>CC(=O)O~CC(=O)O~[Pd]</td>\n",
       "      <td>CC(C)(C)P(C1=CC=C[CH]1)C(C)(C)C.CC(C)(C)P(C1=C...</td>\n",
       "      <td>[K+].[K+].[K+].[O-]P([O-])([O-])=O</td>\n",
       "      <td>CN(C)C=O.O</td>\n",
       "      <td>CC(=O)O~CC(=O)O~[Pd].CC(C)(C)P(C1=CC=C[CH]1)C(...</td>\n",
       "      <td>0.472114</td>\n",
       "    </tr>\n",
       "    <tr>\n",
       "      <th>5756</th>\n",
       "      <td>B1(OC(C(O1)(C)C)(C)C)C2=CC3=C(C=C2)N=CC=C3.O</td>\n",
       "      <td>CC1=CC=C2C(C=NN2C3OCCCC3)=C1Br</td>\n",
       "      <td>CC(=O)O~CC(=O)O~[Pd]</td>\n",
       "      <td>P(c2ccccc2c1c(cc(cc1C(C)C)C(C)C)C(C)C)(C3CCCCC...</td>\n",
       "      <td>[K+].[K+].[K+].[O-]P([O-])([O-])=O</td>\n",
       "      <td>CN(C)C=O.O</td>\n",
       "      <td>CC(=O)O~CC(=O)O~[Pd].CC(C)c1cc(C(C)C)c(-c2cccc...</td>\n",
       "      <td>0.000000</td>\n",
       "    </tr>\n",
       "    <tr>\n",
       "      <th>5757</th>\n",
       "      <td>B1(OC(C(O1)(C)C)(C)C)C2=CC3=C(C=C2)N=CC=C3.O</td>\n",
       "      <td>CC1=CC=C2C(C=NN2C3OCCCC3)=C1Br</td>\n",
       "      <td>CC(=O)O~CC(=O)O~[Pd]</td>\n",
       "      <td>C1=CC=C(C=C1)P([C-]2C=CC=C2)C3=CC=CC=C3.C1=CC=...</td>\n",
       "      <td>[K+].[K+].[K+].[O-]P([O-])([O-])=O</td>\n",
       "      <td>CN(C)C=O.O</td>\n",
       "      <td>CC(=O)O~CC(=O)O~[Pd].CC1(C)OB(c2ccc3ncccc3c2)O...</td>\n",
       "      <td>0.314437</td>\n",
       "    </tr>\n",
       "    <tr>\n",
       "      <th>5758</th>\n",
       "      <td>B1(OC(C(O1)(C)C)(C)C)C2=CC3=C(C=C2)N=CC=C3.O</td>\n",
       "      <td>CC1=CC=C2C(C=NN2C3OCCCC3)=C1Br</td>\n",
       "      <td>CC(=O)O~CC(=O)O~[Pd]</td>\n",
       "      <td>O6c1c(cccc1P(c2ccccc2)c3ccccc3)C(c7cccc(P(c4cc...</td>\n",
       "      <td>[K+].[K+].[K+].[O-]P([O-])([O-])=O</td>\n",
       "      <td>CN(C)C=O.O</td>\n",
       "      <td>CC(=O)O~CC(=O)O~[Pd].CC1(C)OB(c2ccc3ncccc3c2)O...</td>\n",
       "      <td>0.000000</td>\n",
       "    </tr>\n",
       "    <tr>\n",
       "      <th>5759</th>\n",
       "      <td>B1(OC(C(O1)(C)C)(C)C)C2=CC3=C(C=C2)N=CC=C3.O</td>\n",
       "      <td>CC1=CC=C2C(C=NN2C3OCCCC3)=C1Br</td>\n",
       "      <td>CC(=O)O~CC(=O)O~[Pd]</td>\n",
       "      <td>NaN</td>\n",
       "      <td>[K+].[K+].[K+].[O-]P([O-])([O-])=O</td>\n",
       "      <td>CN(C)C=O.O</td>\n",
       "      <td>CC(=O)O~CC(=O)O~[Pd].CC1(C)OB(c2ccc3ncccc3c2)O...</td>\n",
       "      <td>0.541974</td>\n",
       "    </tr>\n",
       "  </tbody>\n",
       "</table>\n",
       "<p>5760 rows × 8 columns</p>\n",
       "</div>"
      ],
      "text/plain": [
       "                                 reactant_1_smiles  ...     yield\n",
       "0        C1=C(Cl)C=CC2=NC=CC=C12.CCC1=CC(=CC=C1)CC  ...  0.047641\n",
       "1        C1=C(Cl)C=CC2=NC=CC=C12.CCC1=CC(=CC=C1)CC  ...  0.041210\n",
       "2        C1=C(Cl)C=CC2=NC=CC=C12.CCC1=CC(=CC=C1)CC  ...  0.025838\n",
       "3        C1=C(Cl)C=CC2=NC=CC=C12.CCC1=CC(=CC=C1)CC  ...  0.044432\n",
       "4        C1=C(Cl)C=CC2=NC=CC=C12.CCC1=CC(=CC=C1)CC  ...  0.019499\n",
       "...                                            ...  ...       ...\n",
       "5755  B1(OC(C(O1)(C)C)(C)C)C2=CC3=C(C=C2)N=CC=C3.O  ...  0.472114\n",
       "5756  B1(OC(C(O1)(C)C)(C)C)C2=CC3=C(C=C2)N=CC=C3.O  ...  0.000000\n",
       "5757  B1(OC(C(O1)(C)C)(C)C)C2=CC3=C(C=C2)N=CC=C3.O  ...  0.314437\n",
       "5758  B1(OC(C(O1)(C)C)(C)C)C2=CC3=C(C=C2)N=CC=C3.O  ...  0.000000\n",
       "5759  B1(OC(C(O1)(C)C)(C)C)C2=CC3=C(C=C2)N=CC=C3.O  ...  0.541974\n",
       "\n",
       "[5760 rows x 8 columns]"
      ]
     },
     "execution_count": 36,
     "metadata": {},
     "output_type": "execute_result"
    }
   ],
   "source": [
    "data"
   ]
  },
  {
   "cell_type": "code",
   "execution_count": null,
   "metadata": {},
   "outputs": [],
   "source": []
  }
 ],
 "metadata": {
  "kernelspec": {
   "display_name": "gptchem",
   "language": "python",
   "name": "python3"
  },
  "language_info": {
   "codemirror_mode": {
    "name": "ipython",
    "version": 3
   },
   "file_extension": ".py",
   "mimetype": "text/x-python",
   "name": "python",
   "nbconvert_exporter": "python",
   "pygments_lexer": "ipython3",
   "version": "3.9.15 (main, Nov 24 2022, 08:28:41) \n[Clang 14.0.6 ]"
  },
  "orig_nbformat": 4,
  "vscode": {
   "interpreter": {
    "hash": "2f3b9074e5baa1438c27e2ea813f7f53b7516c83bd70840b6d64eae6820ee5df"
   }
  }
 },
 "nbformat": 4,
 "nbformat_minor": 2
}
