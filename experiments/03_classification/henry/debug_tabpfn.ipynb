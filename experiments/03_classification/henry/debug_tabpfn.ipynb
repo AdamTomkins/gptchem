{
 "cells": [
  {
   "cell_type": "code",
   "execution_count": 1,
   "metadata": {},
   "outputs": [],
   "source": [
    "%load_ext autoreload\n",
    "%autoreload 2"
   ]
  },
  {
   "cell_type": "code",
   "execution_count": 20,
   "metadata": {},
   "outputs": [],
   "source": [
    "from gptchem.data import get_moosavi_mof_data\n",
    "from sklearn.model_selection import train_test_split\n",
    "from gptchem.baselines.henry import FEATURES\n",
    "from sklearn.ensemble import RandomForestClassifier\n",
    "from sklearn.feature_selection import SelectFromModel\n",
    "from tabpfn.scripts.transformer_prediction_interface import TabPFNClassifier\n",
    "\n",
    "import pandas as pd\n",
    "\n",
    "from pycm import ConfusionMatrix"
   ]
  },
  {
   "cell_type": "code",
   "execution_count": 2,
   "metadata": {},
   "outputs": [],
   "source": [
    "data = get_moosavi_mof_data()"
   ]
  },
  {
   "cell_type": "code",
   "execution_count": 9,
   "metadata": {},
   "outputs": [],
   "source": [
    "data['logKH_CH4_bins'] = pd.qcut(data['logKH_CH4'], 5, labels=[0, 1, 2, 3, 4])"
   ]
  },
  {
   "cell_type": "code",
   "execution_count": 14,
   "metadata": {},
   "outputs": [],
   "source": [
    "train_data, test_data = train_test_split(data, train_size=100)"
   ]
  },
  {
   "cell_type": "code",
   "execution_count": 15,
   "metadata": {},
   "outputs": [
    {
     "data": {
      "text/plain": [
       "100"
      ]
     },
     "execution_count": 15,
     "metadata": {},
     "output_type": "execute_result"
    }
   ],
   "source": [
    "len(train_data)"
   ]
  },
  {
   "cell_type": "code",
   "execution_count": 16,
   "metadata": {},
   "outputs": [],
   "source": [
    "X_train, y_train = train_data[FEATURES], train_data[\"logKH_CH4_bins\"]\n",
    "X_test, y_test = test_data[FEATURES], test_data[\"logKH_CH4_bins\"]"
   ]
  },
  {
   "cell_type": "code",
   "execution_count": 17,
   "metadata": {},
   "outputs": [
    {
     "name": "stdout",
     "output_type": "stream",
     "text": [
      "Loading model that can be used for inference only\n",
      "Using a Transformer with 25.82 M parameters\n"
     ]
    }
   ],
   "source": [
    "selector = SelectFromModel(estimator=RandomForestClassifier(), max_features=100)\n",
    "X_train = selector.fit_transform(X_train, y_train)\n",
    "X_test = selector.transform(X_test)\n",
    "tabpfn = TabPFNClassifier(device=\"cpu\", N_ensemble_configurations=32)\n",
    "\n",
    "tabpfn.fit(X_train, y_train)\n",
    "\n",
    "tabpfn_predictions, _ = tabpfn.predict(X_test, return_winning_probability=True)"
   ]
  },
  {
   "cell_type": "code",
   "execution_count": 18,
   "metadata": {},
   "outputs": [
    {
     "data": {
      "text/plain": [
       "array([1, 2, 4, ..., 0, 2, 2])"
      ]
     },
     "execution_count": 18,
     "metadata": {},
     "output_type": "execute_result"
    }
   ],
   "source": [
    "tabpfn_predictions"
   ]
  },
  {
   "cell_type": "code",
   "execution_count": 19,
   "metadata": {},
   "outputs": [
    {
     "data": {
      "text/plain": [
       "5170    2\n",
       "1052    0\n",
       "1862    3\n",
       "2807    0\n",
       "807     4\n",
       "       ..\n",
       "106     4\n",
       "2231    0\n",
       "5664    0\n",
       "2430    2\n",
       "5143    1\n",
       "Name: logKH_CH4_bins, Length: 6090, dtype: category\n",
       "Categories (5, int64): [0 < 1 < 2 < 3 < 4]"
      ]
     },
     "execution_count": 19,
     "metadata": {},
     "output_type": "execute_result"
    }
   ],
   "source": [
    "y_test"
   ]
  },
  {
   "cell_type": "code",
   "execution_count": 24,
   "metadata": {},
   "outputs": [],
   "source": [
    "cm = ConfusionMatrix(y_test.values.astype(int), tabpfn_predictions)"
   ]
  },
  {
   "cell_type": "code",
   "execution_count": 25,
   "metadata": {},
   "outputs": [
    {
     "name": "stdout",
     "output_type": "stream",
     "text": [
      "Predict   0         1         2         3         4         \n",
      "Actual\n",
      "0         763       187       178       7         80        \n",
      "\n",
      "1         330       344       444       0         100       \n",
      "\n",
      "2         206       246       548       10        208       \n",
      "\n",
      "3         132       171       532       21        366       \n",
      "\n",
      "4         172       97        300       17        631       \n",
      "\n",
      "\n",
      "\n",
      "\n",
      "\n",
      "Overall Statistics : \n",
      "\n",
      "95% CI                                                            (0.36663,0.391)\n",
      "ACC Macro                                                         0.75153\n",
      "ARI                                                               0.09206\n",
      "AUNP                                                              0.61183\n",
      "AUNU                                                              0.61197\n",
      "Bangdiwala B                                                      0.18881\n",
      "Bennett S                                                         0.22352\n",
      "CBA                                                               0.30098\n",
      "CSI                                                               -0.23754\n",
      "Chi-Squared                                                       2023.94964\n",
      "Chi-Squared DF                                                    16\n",
      "Conditional Entropy                                               1.79223\n",
      "Cramer V                                                          0.28824\n",
      "Cross Entropy                                                     3.00337\n",
      "F1 Macro                                                          0.34076\n",
      "F1 Micro                                                          0.37882\n",
      "FNR Macro                                                         0.6208\n",
      "FNR Micro                                                         0.62118\n",
      "FPR Macro                                                         0.15527\n",
      "FPR Micro                                                         0.1553\n",
      "Gwet AC1                                                          0.22704\n",
      "Hamming Loss                                                      0.62118\n",
      "Joint Entropy                                                     4.11416\n",
      "KL Divergence                                                     0.68144\n",
      "Kappa                                                             0.22368\n",
      "Kappa 95% CI                                                      (0.20845,0.2389)\n",
      "Kappa No Prevalence                                               -0.24236\n",
      "Kappa Standard Error                                              0.00777\n",
      "Kappa Unbiased                                                    0.20912\n",
      "Krippendorff Alpha                                                0.20918\n",
      "Lambda A                                                          0.22288\n",
      "Lambda B                                                          0.22407\n",
      "Mutual Information                                                0.22584\n",
      "NIR                                                               0.20066\n",
      "Overall ACC                                                       0.37882\n",
      "Overall CEN                                                       0.66613\n",
      "Overall J                                                         (1.0925,0.2185)\n",
      "Overall MCC                                                       0.2324\n",
      "Overall MCEN                                                      0.75084\n",
      "Overall RACC                                                      0.19984\n",
      "Overall RACCU                                                     0.21457\n",
      "P-Value                                                           None\n",
      "PPV Macro                                                         0.38326\n",
      "PPV Micro                                                         0.37882\n",
      "Pearson C                                                         0.49944\n",
      "Phi-Squared                                                       0.33234\n",
      "RCI                                                               0.09726\n",
      "RR                                                                1218.0\n",
      "Reference Entropy                                                 2.32193\n",
      "Response Entropy                                                  2.01807\n",
      "SOA1(Landis & Koch)                                               Fair\n",
      "SOA2(Fleiss)                                                      Poor\n",
      "SOA3(Altman)                                                      Fair\n",
      "SOA4(Cicchetti)                                                   Poor\n",
      "SOA5(Cramer)                                                      Moderate\n",
      "SOA6(Matthews)                                                    Negligible\n",
      "Scott PI                                                          0.20912\n",
      "Standard Error                                                    0.00622\n",
      "TNR Macro                                                         0.84473\n",
      "TNR Micro                                                         0.8447\n",
      "TPR Macro                                                         0.3792\n",
      "TPR Micro                                                         0.37882\n",
      "Zero-one Loss                                                     3783\n",
      "\n",
      "Class Statistics :\n",
      "\n",
      "Classes                                                           0             1             2             3             4             \n",
      "ACC(Accuracy)                                                     0.78785       0.74138       0.65123       0.79721       0.77997       \n",
      "AGF(Adjusted F-score)                                             0.72235       0.49192       0.56654       0.13304       0.66226       \n",
      "AGM(Adjusted geometric mean)                                      0.76841       0.65368       0.62393       0.51374       0.74347       \n",
      "AM(Difference between automatic and manual classification)        388           -173          784           -1167         168           \n",
      "AUC(Area under the ROC curve)                                     0.72784       0.56927       0.57574       0.5051        0.68188       \n",
      "AUCI(AUC value interpretation)                                    Good          Poor          Poor          Poor          Fair          \n",
      "AUPR(Area under the PR curve)                                     0.55198       0.30581       0.36182       0.1995        0.48704       \n",
      "BB(Braun-Blanquet similarity)                                     0.47598       0.28243       0.27373       0.01718       0.4556        \n",
      "BCD(Bray-Curtis dissimilarity)                                    0.03186       0.0142        0.06437       0.09581       0.01379       \n",
      "BM(Informedness or bookmaker informedness)                        0.45568       0.13855       0.15148       0.0102        0.36376       \n",
      "CEN(Confusion entropy)                                            0.59002       0.72884       0.73054       0.64959       0.62242       \n",
      "DOR(Diagnostic odds ratio)                                        8.10868       2.3419        1.92271       2.48602       5.88237       \n",
      "DP(Discriminant power)                                            0.50113       0.20375       0.15653       0.21805       0.42428       \n",
      "DPI(Discriminant power interpretation)                            Poor          Poor          Poor          Poor          Poor          \n",
      "ERR(Error rate)                                                   0.21215       0.25862       0.34877       0.20279       0.22003       \n",
      "F0.5(F0.5 score)                                                  0.5002        0.31864       0.29699       0.07282       0.46692       \n",
      "F1(F1 score - harmonic mean of precision and sensitivity)         0.54152       0.30402       0.34037       0.03289       0.48501       \n",
      "F2(F2 score)                                                      0.59028       0.29069       0.3986        0.02124       0.50456       \n",
      "FDR(False discovery rate)                                         0.52402       0.67081       0.72627       0.61818       0.5444        \n",
      "FN(False negative/miss/type 2 error)                              452           874           670           1201          586           \n",
      "FNR(Miss rate or false negative rate)                             0.37202       0.71757       0.55008       0.98282       0.48151       \n",
      "FOR(False omission rate)                                          0.10074       0.17324       0.16389       0.19901       0.12455       \n",
      "FP(False positive/type 1 error/false alarm)                       840           701           1454          34            754           \n",
      "FPR(Fall-out or false positive rate)                              0.17231       0.14388       0.29844       0.00698       0.15473       \n",
      "G(G-measure geometric mean of precision and sensitivity)          0.54673       0.30491       0.35093       0.081         0.48603       \n",
      "GI(Gini index)                                                    0.45568       0.13855       0.15148       0.0102        0.36376       \n",
      "GM(G-mean geometric mean of specificity and sensitivity)          0.72096       0.49172       0.56182       0.13063       0.66201       \n",
      "HD(Hamming distance)                                              1292          1575          2124          1235          1340          \n",
      "IBA(Index of balanced accuracy)                                   0.41597       0.10308       0.23621       0.00041       0.29505       \n",
      "ICSI(Individual classification success index)                     0.10397       -0.38838      -0.27636      -0.601        -0.02592      \n",
      "IS(Information score)                                             1.25447       0.71891       0.45273       0.92816       1.18894       \n",
      "J(Jaccard index)                                                  0.37129       0.17926       0.20509       0.01672       0.32014       \n",
      "LS(Lift score)                                                    2.38579       1.64593       1.36863       1.90284       2.27985       \n",
      "MCC(Matthews correlation coefficient)                             0.41351       0.14699       0.12898       0.04318       0.34702       \n",
      "MCCI(Matthews correlation coefficient interpretation)             Weak          Negligible    Negligible    Negligible    Weak          \n",
      "MCEN(Modified confusion entropy)                                  0.71363       0.79441       0.80905       0.65261       0.73088       \n",
      "MK(Markedness)                                                    0.37525       0.15595       0.10983       0.18281       0.33105       \n",
      "N(Condition negative)                                             4875          4872          4872          4868          4873          \n",
      "NLR(Negative likelihood ratio)                                    0.44946       0.83817       0.78408       0.98973       0.56965       \n",
      "NLRI(Negative likelihood ratio interpretation)                    Poor          Negligible    Negligible    Negligible    Negligible    \n",
      "NPV(Negative predictive value)                                    0.89926       0.82676       0.83611       0.80099       0.87545       \n",
      "OC(Overlap coefficient)                                           0.62798       0.32919       0.44992       0.38182       0.51849       \n",
      "OOC(Otsuka-Ochiai coefficient)                                    0.54673       0.30491       0.35093       0.081         0.48603       \n",
      "OP(Optimized precision)                                           0.65066       0.2375        0.43269       -0.16877      0.54035       \n",
      "P(Condition positive or support)                                  1215          1218          1218          1222          1217          \n",
      "PLR(Positive likelihood ratio)                                    3.64455       1.96291       1.50757       2.46048       3.35092       \n",
      "PLRI(Positive likelihood ratio interpretation)                    Poor          Poor          Poor          Poor          Poor          \n",
      "POP(Population)                                                   6090          6090          6090          6090          6090          \n",
      "PPV(Precision or positive predictive value)                       0.47598       0.32919       0.27373       0.38182       0.4556        \n",
      "PRE(Prevalence)                                                   0.19951       0.2           0.2           0.20066       0.19984       \n",
      "Q(Yule Q - coefficient of colligation)                            0.78043       0.40154       0.3157        0.42628       0.7094        \n",
      "QI(Yule Q interpretation)                                         Strong        Weak          Weak          Weak          Moderate      \n",
      "RACC(Random accuracy)                                             0.05251       0.03432       0.06575       0.00181       0.04545       \n",
      "RACCU(Random accuracy unbiased)                                   0.05353       0.03452       0.06989       0.01099       0.04564       \n",
      "TN(True negative/correct rejection)                               4035          4171          3418          4834          4119          \n",
      "TNR(Specificity or true negative rate)                            0.82769       0.85612       0.70156       0.99302       0.84527       \n",
      "TON(Test outcome negative)                                        4487          5045          4088          6035          4705          \n",
      "TOP(Test outcome positive)                                        1603          1045          2002          55            1385          \n",
      "TP(True positive/hit)                                             763           344           548           21            631           \n",
      "TPR(Sensitivity, recall, hit rate, or true positive rate)         0.62798       0.28243       0.44992       0.01718       0.51849       \n",
      "Y(Youden index)                                                   0.45568       0.13855       0.15148       0.0102        0.36376       \n",
      "dInd(Distance index)                                              0.40998       0.73185       0.62582       0.98284       0.50576       \n",
      "sInd(Similarity index)                                            0.7101        0.4825        0.55747       0.30503       0.64237       \n",
      "\n"
     ]
    }
   ],
   "source": [
    "print(cm)"
   ]
  },
  {
   "cell_type": "code",
   "execution_count": null,
   "metadata": {},
   "outputs": [],
   "source": []
  }
 ],
 "metadata": {
  "kernelspec": {
   "display_name": "gptchem",
   "language": "python",
   "name": "python3"
  },
  "language_info": {
   "codemirror_mode": {
    "name": "ipython",
    "version": 3
   },
   "file_extension": ".py",
   "mimetype": "text/x-python",
   "name": "python",
   "nbconvert_exporter": "python",
   "pygments_lexer": "ipython3",
   "version": "3.9.15"
  },
  "orig_nbformat": 4,
  "vscode": {
   "interpreter": {
    "hash": "2f3b9074e5baa1438c27e2ea813f7f53b7516c83bd70840b6d64eae6820ee5df"
   }
  }
 },
 "nbformat": 4,
 "nbformat_minor": 2
}
