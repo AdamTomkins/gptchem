{
 "cells": [
  {
   "cell_type": "code",
   "execution_count": 48,
   "metadata": {},
   "outputs": [
    {
     "name": "stdout",
     "output_type": "stream",
     "text": [
      "The autoreload extension is already loaded. To reload it, use:\n",
      "  %reload_ext autoreload\n"
     ]
    }
   ],
   "source": [
    "%load_ext autoreload \n",
    "%autoreload 2"
   ]
  },
  {
   "cell_type": "code",
   "execution_count": 49,
   "metadata": {},
   "outputs": [],
   "source": [
    "from gptchem.querier import Querier\n",
    "from gptchem.extractor import ClassificationExtractor\n",
    "from gptchem.data import get_photoswitch_data\n",
    "from gptchem.formatter import ClassificationFormatter"
   ]
  },
  {
   "cell_type": "code",
   "execution_count": 50,
   "metadata": {},
   "outputs": [],
   "source": [
    "data = get_photoswitch_data()"
   ]
  },
  {
   "cell_type": "code",
   "execution_count": 51,
   "metadata": {},
   "outputs": [],
   "source": [
    "modelname = \"ada:ft-lsmoepfl-2023-01-15-07-02-31\""
   ]
  },
  {
   "cell_type": "markdown",
   "metadata": {},
   "source": [
    "## Trying simple names "
   ]
  },
  {
   "cell_type": "code",
   "execution_count": 72,
   "metadata": {},
   "outputs": [],
   "source": [
    "names = [\n",
    "    'Berend',\n",
    "    'Kevin',\n",
    "    'Philippe',\n",
    "    'Andres',\n",
    "    'Bus',\n",
    "    'car',\n",
    "    'tree',\n",
    "    'house',\n",
    "    'cat',\n",
    "    'magnificent',\n",
    "    'a Berend',\n",
    "    'a Kevin',\n",
    "    'a Philippe',\n",
    "    'an Andres',\n",
    "    'a Bus',\n",
    "    'a car',\n",
    "]"
   ]
  },
  {
   "cell_type": "code",
   "execution_count": 61,
   "metadata": {},
   "outputs": [],
   "source": [
    "data_subset = data.sample(len(names))"
   ]
  },
  {
   "cell_type": "code",
   "execution_count": 62,
   "metadata": {},
   "outputs": [],
   "source": [
    "data_subset['SMILES'] = names"
   ]
  },
  {
   "cell_type": "code",
   "execution_count": 63,
   "metadata": {},
   "outputs": [],
   "source": [
    "formatter = ClassificationFormatter(\n",
    "    representation_column=\"SMILES\",\n",
    "    label_column=\"E isomer pi-pi* wavelength in nm\",\n",
    "    property_name=\"transition wavelength\",\n",
    "    num_classes=5\n",
    ")"
   ]
  },
  {
   "cell_type": "code",
   "execution_count": 64,
   "metadata": {},
   "outputs": [],
   "source": [
    "formatted = formatter(data_subset)"
   ]
  },
  {
   "cell_type": "code",
   "execution_count": 65,
   "metadata": {},
   "outputs": [
    {
     "data": {
      "text/html": [
       "<div>\n",
       "<style scoped>\n",
       "    .dataframe tbody tr th:only-of-type {\n",
       "        vertical-align: middle;\n",
       "    }\n",
       "\n",
       "    .dataframe tbody tr th {\n",
       "        vertical-align: top;\n",
       "    }\n",
       "\n",
       "    .dataframe thead th {\n",
       "        text-align: right;\n",
       "    }\n",
       "</style>\n",
       "<table border=\"1\" class=\"dataframe\">\n",
       "  <thead>\n",
       "    <tr style=\"text-align: right;\">\n",
       "      <th></th>\n",
       "      <th>prompt</th>\n",
       "      <th>completion</th>\n",
       "      <th>label</th>\n",
       "      <th>representation</th>\n",
       "    </tr>\n",
       "  </thead>\n",
       "  <tbody>\n",
       "    <tr>\n",
       "      <th>0</th>\n",
       "      <td>What is the transition wavelength of Berend?###</td>\n",
       "      <td>0@@@</td>\n",
       "      <td>0</td>\n",
       "      <td>Berend</td>\n",
       "    </tr>\n",
       "    <tr>\n",
       "      <th>1</th>\n",
       "      <td>What is the transition wavelength of Kevin?###</td>\n",
       "      <td>4@@@</td>\n",
       "      <td>4</td>\n",
       "      <td>Kevin</td>\n",
       "    </tr>\n",
       "    <tr>\n",
       "      <th>2</th>\n",
       "      <td>What is the transition wavelength of Philippe?###</td>\n",
       "      <td>3@@@</td>\n",
       "      <td>3</td>\n",
       "      <td>Philippe</td>\n",
       "    </tr>\n",
       "    <tr>\n",
       "      <th>3</th>\n",
       "      <td>What is the transition wavelength of Andres?###</td>\n",
       "      <td>4@@@</td>\n",
       "      <td>4</td>\n",
       "      <td>Andres</td>\n",
       "    </tr>\n",
       "    <tr>\n",
       "      <th>4</th>\n",
       "      <td>What is the transition wavelength of Bus?###</td>\n",
       "      <td>3@@@</td>\n",
       "      <td>3</td>\n",
       "      <td>Bus</td>\n",
       "    </tr>\n",
       "    <tr>\n",
       "      <th>5</th>\n",
       "      <td>What is the transition wavelength of car?###</td>\n",
       "      <td>3@@@</td>\n",
       "      <td>3</td>\n",
       "      <td>car</td>\n",
       "    </tr>\n",
       "    <tr>\n",
       "      <th>6</th>\n",
       "      <td>What is the transition wavelength of tree?###</td>\n",
       "      <td>1@@@</td>\n",
       "      <td>1</td>\n",
       "      <td>tree</td>\n",
       "    </tr>\n",
       "    <tr>\n",
       "      <th>7</th>\n",
       "      <td>What is the transition wavelength of house?###</td>\n",
       "      <td>0@@@</td>\n",
       "      <td>0</td>\n",
       "      <td>house</td>\n",
       "    </tr>\n",
       "    <tr>\n",
       "      <th>8</th>\n",
       "      <td>What is the transition wavelength of cat?###</td>\n",
       "      <td>0@@@</td>\n",
       "      <td>0</td>\n",
       "      <td>cat</td>\n",
       "    </tr>\n",
       "    <tr>\n",
       "      <th>9</th>\n",
       "      <td>What is the transition wavelength of magnifice...</td>\n",
       "      <td>2@@@</td>\n",
       "      <td>2</td>\n",
       "      <td>magnificent</td>\n",
       "    </tr>\n",
       "    <tr>\n",
       "      <th>10</th>\n",
       "      <td>What is the transition wavelength of a Berend?###</td>\n",
       "      <td>1@@@</td>\n",
       "      <td>1</td>\n",
       "      <td>a Berend</td>\n",
       "    </tr>\n",
       "    <tr>\n",
       "      <th>11</th>\n",
       "      <td>What is the transition wavelength of a Kevin?###</td>\n",
       "      <td>4@@@</td>\n",
       "      <td>4</td>\n",
       "      <td>a Kevin</td>\n",
       "    </tr>\n",
       "    <tr>\n",
       "      <th>12</th>\n",
       "      <td>What is the transition wavelength of a Phlippe...</td>\n",
       "      <td>1@@@</td>\n",
       "      <td>1</td>\n",
       "      <td>a Phlippe</td>\n",
       "    </tr>\n",
       "    <tr>\n",
       "      <th>13</th>\n",
       "      <td>What is the transition wavelength of an Andres...</td>\n",
       "      <td>2@@@</td>\n",
       "      <td>2</td>\n",
       "      <td>an Andres</td>\n",
       "    </tr>\n",
       "    <tr>\n",
       "      <th>14</th>\n",
       "      <td>What is the transition wavelength of a Bus?###</td>\n",
       "      <td>0@@@</td>\n",
       "      <td>0</td>\n",
       "      <td>a Bus</td>\n",
       "    </tr>\n",
       "    <tr>\n",
       "      <th>15</th>\n",
       "      <td>What is the transition wavelength of a car?###</td>\n",
       "      <td>2@@@</td>\n",
       "      <td>2</td>\n",
       "      <td>a car</td>\n",
       "    </tr>\n",
       "  </tbody>\n",
       "</table>\n",
       "</div>"
      ],
      "text/plain": [
       "                                               prompt completion  label  \\\n",
       "0     What is the transition wavelength of Berend?###       0@@@      0   \n",
       "1      What is the transition wavelength of Kevin?###       4@@@      4   \n",
       "2   What is the transition wavelength of Philippe?###       3@@@      3   \n",
       "3     What is the transition wavelength of Andres?###       4@@@      4   \n",
       "4        What is the transition wavelength of Bus?###       3@@@      3   \n",
       "5        What is the transition wavelength of car?###       3@@@      3   \n",
       "6       What is the transition wavelength of tree?###       1@@@      1   \n",
       "7      What is the transition wavelength of house?###       0@@@      0   \n",
       "8        What is the transition wavelength of cat?###       0@@@      0   \n",
       "9   What is the transition wavelength of magnifice...       2@@@      2   \n",
       "10  What is the transition wavelength of a Berend?###       1@@@      1   \n",
       "11   What is the transition wavelength of a Kevin?###       4@@@      4   \n",
       "12  What is the transition wavelength of a Phlippe...       1@@@      1   \n",
       "13  What is the transition wavelength of an Andres...       2@@@      2   \n",
       "14     What is the transition wavelength of a Bus?###       0@@@      0   \n",
       "15     What is the transition wavelength of a car?###       2@@@      2   \n",
       "\n",
       "   representation  \n",
       "0          Berend  \n",
       "1           Kevin  \n",
       "2        Philippe  \n",
       "3          Andres  \n",
       "4             Bus  \n",
       "5             car  \n",
       "6            tree  \n",
       "7           house  \n",
       "8             cat  \n",
       "9     magnificent  \n",
       "10       a Berend  \n",
       "11        a Kevin  \n",
       "12      a Phlippe  \n",
       "13      an Andres  \n",
       "14          a Bus  \n",
       "15          a car  "
      ]
     },
     "execution_count": 65,
     "metadata": {},
     "output_type": "execute_result"
    }
   ],
   "source": [
    "formatted"
   ]
  },
  {
   "cell_type": "code",
   "execution_count": 67,
   "metadata": {},
   "outputs": [],
   "source": [
    "qurier = Querier(modelname, max_tokens=10)"
   ]
  },
  {
   "cell_type": "code",
   "execution_count": 68,
   "metadata": {},
   "outputs": [],
   "source": [
    "completions = qurier(formatted)"
   ]
  },
  {
   "cell_type": "code",
   "execution_count": 71,
   "metadata": {},
   "outputs": [
    {
     "name": "stdout",
     "output_type": "stream",
     "text": [
      "What is the transition wavelength of Berend?& 0\\\\\n",
      "What is the transition wavelength of Kevin?& 0\\\\\n",
      "What is the transition wavelength of Philippe?& 0\\\\\n",
      "What is the transition wavelength of Andres?& 0\\\\\n",
      "What is the transition wavelength of Bus?& 0\\\\\n",
      "What is the transition wavelength of car?& 0\\\\\n",
      "What is the transition wavelength of tree?& 0\\\\\n",
      "What is the transition wavelength of house?& 0\\\\\n",
      "What is the transition wavelength of cat?& 0\\\\\n",
      "What is the transition wavelength of magnificent?& 0\\\\\n",
      "What is the transition wavelength of a Berend?& 0\\\\\n",
      "What is the transition wavelength of a Kevin?& 0\\\\\n",
      "What is the transition wavelength of a Phlippe?& 0\\\\\n",
      "What is the transition wavelength of an Andres?& 0\\\\\n",
      "What is the transition wavelength of a Bus?& 0\\\\\n",
      "What is the transition wavelength of a car?& 0\\\\\n"
     ]
    }
   ],
   "source": [
    "for i, row in formatted.iterrows():\n",
    "    print(row['prompt'].replace('###', \"\") + \"&\" + completions['choices'][i] + '\\\\\\\\')"
   ]
  },
  {
   "cell_type": "markdown",
   "metadata": {},
   "source": [
    "## Change the prompt format"
   ]
  },
  {
   "cell_type": "code",
   "execution_count": 73,
   "metadata": {},
   "outputs": [],
   "source": [
    "formatted_new = formatted.copy()"
   ]
  },
  {
   "cell_type": "code",
   "execution_count": 74,
   "metadata": {},
   "outputs": [],
   "source": [
    "formatted_new['prompt'] = formatted_new['prompt'].apply(lambda x: x.replace('What is the transition wavelength of', 'what is the adsorption energy of'))"
   ]
  },
  {
   "cell_type": "code",
   "execution_count": 75,
   "metadata": {},
   "outputs": [
    {
     "data": {
      "text/html": [
       "<div>\n",
       "<style scoped>\n",
       "    .dataframe tbody tr th:only-of-type {\n",
       "        vertical-align: middle;\n",
       "    }\n",
       "\n",
       "    .dataframe tbody tr th {\n",
       "        vertical-align: top;\n",
       "    }\n",
       "\n",
       "    .dataframe thead th {\n",
       "        text-align: right;\n",
       "    }\n",
       "</style>\n",
       "<table border=\"1\" class=\"dataframe\">\n",
       "  <thead>\n",
       "    <tr style=\"text-align: right;\">\n",
       "      <th></th>\n",
       "      <th>prompt</th>\n",
       "      <th>completion</th>\n",
       "      <th>label</th>\n",
       "      <th>representation</th>\n",
       "    </tr>\n",
       "  </thead>\n",
       "  <tbody>\n",
       "    <tr>\n",
       "      <th>0</th>\n",
       "      <td>what is the adsorption energy of Berend?###</td>\n",
       "      <td>0@@@</td>\n",
       "      <td>0</td>\n",
       "      <td>Berend</td>\n",
       "    </tr>\n",
       "    <tr>\n",
       "      <th>1</th>\n",
       "      <td>what is the adsorption energy of Kevin?###</td>\n",
       "      <td>4@@@</td>\n",
       "      <td>4</td>\n",
       "      <td>Kevin</td>\n",
       "    </tr>\n",
       "    <tr>\n",
       "      <th>2</th>\n",
       "      <td>what is the adsorption energy of Philippe?###</td>\n",
       "      <td>3@@@</td>\n",
       "      <td>3</td>\n",
       "      <td>Philippe</td>\n",
       "    </tr>\n",
       "    <tr>\n",
       "      <th>3</th>\n",
       "      <td>what is the adsorption energy of Andres?###</td>\n",
       "      <td>4@@@</td>\n",
       "      <td>4</td>\n",
       "      <td>Andres</td>\n",
       "    </tr>\n",
       "    <tr>\n",
       "      <th>4</th>\n",
       "      <td>what is the adsorption energy of Bus?###</td>\n",
       "      <td>3@@@</td>\n",
       "      <td>3</td>\n",
       "      <td>Bus</td>\n",
       "    </tr>\n",
       "    <tr>\n",
       "      <th>5</th>\n",
       "      <td>what is the adsorption energy of car?###</td>\n",
       "      <td>3@@@</td>\n",
       "      <td>3</td>\n",
       "      <td>car</td>\n",
       "    </tr>\n",
       "    <tr>\n",
       "      <th>6</th>\n",
       "      <td>what is the adsorption energy of tree?###</td>\n",
       "      <td>1@@@</td>\n",
       "      <td>1</td>\n",
       "      <td>tree</td>\n",
       "    </tr>\n",
       "    <tr>\n",
       "      <th>7</th>\n",
       "      <td>what is the adsorption energy of house?###</td>\n",
       "      <td>0@@@</td>\n",
       "      <td>0</td>\n",
       "      <td>house</td>\n",
       "    </tr>\n",
       "    <tr>\n",
       "      <th>8</th>\n",
       "      <td>what is the adsorption energy of cat?###</td>\n",
       "      <td>0@@@</td>\n",
       "      <td>0</td>\n",
       "      <td>cat</td>\n",
       "    </tr>\n",
       "    <tr>\n",
       "      <th>9</th>\n",
       "      <td>what is the adsorption energy of magnificent?###</td>\n",
       "      <td>2@@@</td>\n",
       "      <td>2</td>\n",
       "      <td>magnificent</td>\n",
       "    </tr>\n",
       "    <tr>\n",
       "      <th>10</th>\n",
       "      <td>what is the adsorption energy of a Berend?###</td>\n",
       "      <td>1@@@</td>\n",
       "      <td>1</td>\n",
       "      <td>a Berend</td>\n",
       "    </tr>\n",
       "    <tr>\n",
       "      <th>11</th>\n",
       "      <td>what is the adsorption energy of a Kevin?###</td>\n",
       "      <td>4@@@</td>\n",
       "      <td>4</td>\n",
       "      <td>a Kevin</td>\n",
       "    </tr>\n",
       "    <tr>\n",
       "      <th>12</th>\n",
       "      <td>what is the adsorption energy of a Phlippe?###</td>\n",
       "      <td>1@@@</td>\n",
       "      <td>1</td>\n",
       "      <td>a Phlippe</td>\n",
       "    </tr>\n",
       "    <tr>\n",
       "      <th>13</th>\n",
       "      <td>what is the adsorption energy of an Andres?###</td>\n",
       "      <td>2@@@</td>\n",
       "      <td>2</td>\n",
       "      <td>an Andres</td>\n",
       "    </tr>\n",
       "    <tr>\n",
       "      <th>14</th>\n",
       "      <td>what is the adsorption energy of a Bus?###</td>\n",
       "      <td>0@@@</td>\n",
       "      <td>0</td>\n",
       "      <td>a Bus</td>\n",
       "    </tr>\n",
       "    <tr>\n",
       "      <th>15</th>\n",
       "      <td>what is the adsorption energy of a car?###</td>\n",
       "      <td>2@@@</td>\n",
       "      <td>2</td>\n",
       "      <td>a car</td>\n",
       "    </tr>\n",
       "  </tbody>\n",
       "</table>\n",
       "</div>"
      ],
      "text/plain": [
       "                                              prompt completion  label  \\\n",
       "0        what is the adsorption energy of Berend?###       0@@@      0   \n",
       "1         what is the adsorption energy of Kevin?###       4@@@      4   \n",
       "2      what is the adsorption energy of Philippe?###       3@@@      3   \n",
       "3        what is the adsorption energy of Andres?###       4@@@      4   \n",
       "4           what is the adsorption energy of Bus?###       3@@@      3   \n",
       "5           what is the adsorption energy of car?###       3@@@      3   \n",
       "6          what is the adsorption energy of tree?###       1@@@      1   \n",
       "7         what is the adsorption energy of house?###       0@@@      0   \n",
       "8           what is the adsorption energy of cat?###       0@@@      0   \n",
       "9   what is the adsorption energy of magnificent?###       2@@@      2   \n",
       "10     what is the adsorption energy of a Berend?###       1@@@      1   \n",
       "11      what is the adsorption energy of a Kevin?###       4@@@      4   \n",
       "12    what is the adsorption energy of a Phlippe?###       1@@@      1   \n",
       "13    what is the adsorption energy of an Andres?###       2@@@      2   \n",
       "14        what is the adsorption energy of a Bus?###       0@@@      0   \n",
       "15        what is the adsorption energy of a car?###       2@@@      2   \n",
       "\n",
       "   representation  \n",
       "0          Berend  \n",
       "1           Kevin  \n",
       "2        Philippe  \n",
       "3          Andres  \n",
       "4             Bus  \n",
       "5             car  \n",
       "6            tree  \n",
       "7           house  \n",
       "8             cat  \n",
       "9     magnificent  \n",
       "10       a Berend  \n",
       "11        a Kevin  \n",
       "12      a Phlippe  \n",
       "13      an Andres  \n",
       "14          a Bus  \n",
       "15          a car  "
      ]
     },
     "execution_count": 75,
     "metadata": {},
     "output_type": "execute_result"
    }
   ],
   "source": [
    "formatted_new"
   ]
  },
  {
   "cell_type": "code",
   "execution_count": 76,
   "metadata": {},
   "outputs": [],
   "source": [
    "querier = Querier(modelname, max_tokens=10)\n",
    "querier._stop = None"
   ]
  },
  {
   "cell_type": "code",
   "execution_count": 77,
   "metadata": {},
   "outputs": [],
   "source": [
    "completions_new = querier(formatted_new)"
   ]
  },
  {
   "cell_type": "code",
   "execution_count": 78,
   "metadata": {},
   "outputs": [
    {
     "data": {
      "text/plain": [
       "{'choices': [' 0@@@ 0@@@ 0@@@ 1',\n",
       "  ' 0@@@ 0@@@ 0@@@ 1',\n",
       "  ' 0@@@ 0@@@ 0@@@ 1',\n",
       "  ' 0@@@ 0@@@ 0@@@ 0',\n",
       "  ' 0@@@@@@ 0@@@@@@',\n",
       "  ' 0@@@ 0@@@ 0@@@ 1',\n",
       "  ' 0@@@ 0@@@ 0@@@ 1',\n",
       "  ' 0@@@ 0@@@ 0@@@ 1',\n",
       "  ' 0@@@ 0@@@ 0@@@ 1',\n",
       "  ' 0@@@ 0@@@ 0@@@ 1',\n",
       "  ' 0@@@ 0@@@ 0@@@ 1',\n",
       "  ' 0@@@ 0@@@ 0@@@ 1',\n",
       "  ' 0@@@ 0@@@ 0@@@ 1',\n",
       "  ' 0@@@ 0@@@ 0@@@ 1',\n",
       "  ' 0@@@ 0@@@@@@ 0@@',\n",
       "  ' 0@@@ 0@@@ 1@@@@@'],\n",
       " 'logprobs': [None,\n",
       "  None,\n",
       "  None,\n",
       "  None,\n",
       "  None,\n",
       "  None,\n",
       "  None,\n",
       "  None,\n",
       "  None,\n",
       "  None,\n",
       "  None,\n",
       "  None,\n",
       "  None,\n",
       "  None,\n",
       "  None,\n",
       "  None],\n",
       " 'model': 'ada:ft-lsmoepfl-2023-01-15-07-02-31'}"
      ]
     },
     "execution_count": 78,
     "metadata": {},
     "output_type": "execute_result"
    }
   ],
   "source": [
    "completions_new"
   ]
  },
  {
   "cell_type": "code",
   "execution_count": 79,
   "metadata": {},
   "outputs": [
    {
     "name": "stdout",
     "output_type": "stream",
     "text": [
      "what is the adsorption energy of Berend?& 0\\\\\n",
      "what is the adsorption energy of Kevin?& 0\\\\\n",
      "what is the adsorption energy of Philippe?& 0\\\\\n",
      "what is the adsorption energy of Andres?& 0\\\\\n",
      "what is the adsorption energy of Bus?& 0\\\\\n",
      "what is the adsorption energy of car?& 0\\\\\n",
      "what is the adsorption energy of tree?& 0\\\\\n",
      "what is the adsorption energy of house?& 0\\\\\n",
      "what is the adsorption energy of cat?& 0\\\\\n",
      "what is the adsorption energy of magnificent?& 0\\\\\n",
      "what is the adsorption energy of a Berend?& 0\\\\\n",
      "what is the adsorption energy of a Kevin?& 0\\\\\n",
      "what is the adsorption energy of a Phlippe?& 0\\\\\n",
      "what is the adsorption energy of an Andres?& 0\\\\\n",
      "what is the adsorption energy of a Bus?& 0\\\\\n",
      "what is the adsorption energy of a car?& 0\\\\\n"
     ]
    }
   ],
   "source": [
    "for i, row in formatted_new.iterrows():\n",
    "    print(row['prompt'].replace('###', '') + \"&\" + completions['choices'][i].split(\"@\")[0]+ '\\\\\\\\')"
   ]
  },
  {
   "cell_type": "markdown",
   "metadata": {},
   "source": [
    "## Random element symbols and random letter"
   ]
  },
  {
   "cell_type": "code",
   "execution_count": 80,
   "metadata": {},
   "outputs": [],
   "source": [
    "import random"
   ]
  },
  {
   "cell_type": "code",
   "execution_count": 81,
   "metadata": {},
   "outputs": [],
   "source": [
    "elements = [\n",
    "    'H', \n",
    "    'C', \n",
    "    'Be', \n",
    "    'N',\n",
    "    'O',\n",
    "    'F',\n",
    "    'Ne',\n",
    "    'Na',\n",
    "    'Mg',\n",
    "    'Al',\n",
    "    'Si',\n",
    "    'P',\n",
    "    'S',\n",
    "    'Cl',\n",
    "    'Ar',\n",
    "    'K',\n",
    "    'Ca',\n",
    "    'Sc',\n",
    "    'Ti',\n",
    "    'V',\n",
    "    'Cr',\n",
    "    'Mn',\n",
    "    'Fe',\n",
    "    'Co',\n",
    "    'Ni',\n",
    "    'Cu',\n",
    "    'Zn',\n",
    "    'Ga',\n",
    "    'Ge',\n",
    "    'As',\n",
    "]\n",
    "\n",
    "random_letters = ['a', 'b', 'c', 'd', 'e', 'f', 'g', 'h', 'i', 'j', 'k', 'l', 'm', 'n', 'o', 'p', 'q', 'r', 's', 't', 'u', 'v', 'w', 'x', 'y', 'z']\n",
    "\n",
    "random_words_made_of_elements = [\n",
    "    ''.join([random.choice(elements) for _ in range(5)]) for _ in range(10)\n",
    "]\n",
    "\n",
    "random_words_made_of_random_letters = [\n",
    "    ''.join([random.choice(random_letters) for _ in range(5)]) for _ in range(10)\n",
    "]"
   ]
  },
  {
   "cell_type": "code",
   "execution_count": 82,
   "metadata": {},
   "outputs": [
    {
     "data": {
      "text/plain": [
       "['PFeScNaFe',\n",
       " 'ClMnCuScBe',\n",
       " 'GeClNaCFe',\n",
       " 'BeCuGeZnFe',\n",
       " 'CoGeNaMnCr',\n",
       " 'CaFOGaNi',\n",
       " 'NaKNeNiN',\n",
       " 'GeNeMgMnMg',\n",
       " 'ZnNiZnFF',\n",
       " 'CaTiAsCoMg']"
      ]
     },
     "execution_count": 82,
     "metadata": {},
     "output_type": "execute_result"
    }
   ],
   "source": [
    "random_words_made_of_elements"
   ]
  },
  {
   "cell_type": "code",
   "execution_count": 83,
   "metadata": {},
   "outputs": [],
   "source": [
    "data_subset_elements = data.sample(len(random_words_made_of_elements))\n",
    "data_subset_letters = data.sample(len(random_words_made_of_random_letters))"
   ]
  },
  {
   "cell_type": "code",
   "execution_count": 84,
   "metadata": {},
   "outputs": [],
   "source": [
    "data_subset_elements['SMILES'] = random_words_made_of_elements\n",
    "data_subset_letters['SMILES'] = random_words_made_of_random_letters"
   ]
  },
  {
   "cell_type": "code",
   "execution_count": 85,
   "metadata": {},
   "outputs": [],
   "source": [
    "formatted_elements =  formatter(data_subset_elements)\n",
    "formatted_letters =  formatter(data_subset_letters)"
   ]
  },
  {
   "cell_type": "code",
   "execution_count": 86,
   "metadata": {},
   "outputs": [],
   "source": [
    "completions_elements = querier(formatted_elements)\n",
    "completions_letters = querier(formatted_letters)"
   ]
  },
  {
   "cell_type": "code",
   "execution_count": 87,
   "metadata": {},
   "outputs": [
    {
     "data": {
      "text/plain": [
       "{'choices': [' 0@@@ 0@@@ 0@@@ 0',\n",
       "  ' 0@@@ 0@@@@@@ 0@@',\n",
       "  ' 0@@@ 0@@@ 0@@@ 0',\n",
       "  ' 0@@@@@@ 0@@@@@@',\n",
       "  ' 0@@@@@@ 0@@@@@@',\n",
       "  ' 0@@@@@@ 0@@@@@@',\n",
       "  ' 0@@@ 0@@@ 0@@@ 0',\n",
       "  ' 0@@@ 0@@@ 0@@@ 0',\n",
       "  ' 0@@@ 0@@@ 0@@@ 0',\n",
       "  ' 0@@@@@@ 0@@@@@@'],\n",
       " 'logprobs': [None, None, None, None, None, None, None, None, None, None],\n",
       " 'model': 'ada:ft-lsmoepfl-2023-01-15-07-02-31'}"
      ]
     },
     "execution_count": 87,
     "metadata": {},
     "output_type": "execute_result"
    }
   ],
   "source": [
    "completions_elements"
   ]
  },
  {
   "cell_type": "code",
   "execution_count": 88,
   "metadata": {},
   "outputs": [
    {
     "data": {
      "text/plain": [
       "{'choices': [' 0@@@ 0@@@@@@ 0@@',\n",
       "  ' 0@@@ 0@@@ 0@@@ 1',\n",
       "  ' 0@@@@@@ 0@@@@@@',\n",
       "  ' 0@@@ 0@@@ 0@@@ 1',\n",
       "  ' 0@@@ 0@@@ 0@@@ 0',\n",
       "  ' 0@@@ 0@@@@@@ 0@@',\n",
       "  ' 0@@@ 0@@@ 0@@@ 0',\n",
       "  ' 0@@@@@@ 0@@@@@@',\n",
       "  ' 0@@@ 0@@@ 0@@@ 0'],\n",
       " 'logprobs': [None, None, None, None, None, None, None, None, None],\n",
       " 'model': 'ada:ft-lsmoepfl-2023-01-15-07-02-31'}"
      ]
     },
     "execution_count": 88,
     "metadata": {},
     "output_type": "execute_result"
    }
   ],
   "source": [
    "completions_letters"
   ]
  },
  {
   "cell_type": "code",
   "execution_count": 89,
   "metadata": {},
   "outputs": [
    {
     "name": "stdout",
     "output_type": "stream",
     "text": [
      "What is the transition wavelength of jtjei?&0@@@\\\\\n",
      "What is the transition wavelength of jytcs?&0@@@\\\\\n",
      "What is the transition wavelength of cymtv?&0@@@\\\\\n",
      "What is the transition wavelength of ntnlz?&0@@@@@@\\\\\n",
      "What is the transition wavelength of oqeze?&0@@@@@@\\\\\n",
      "What is the transition wavelength of linwg?&0@@@@@@\\\\\n",
      "What is the transition wavelength of ktgje?&0@@@\\\\\n",
      "What is the transition wavelength of cjmqi?&0@@@\\\\\n",
      "What is the transition wavelength of srved?&0@@@\\\\\n"
     ]
    }
   ],
   "source": [
    "for i, row in formatted_letters.iterrows():\n",
    "    print(row['prompt'].replace('###', '') + \"&\" + completions_elements['choices'][i].split()[0] + '\\\\\\\\')"
   ]
  },
  {
   "cell_type": "code",
   "execution_count": 92,
   "metadata": {},
   "outputs": [
    {
     "name": "stdout",
     "output_type": "stream",
     "text": [
      "What is the transition wavelength of PFeScNaFe?&0\\\\\n",
      "What is the transition wavelength of ClMnCuScBe?&0\\\\\n",
      "What is the transition wavelength of GeClNaCFe?&0\\\\\n",
      "What is the transition wavelength of BeCuGeZnFe?&0\\\\\n",
      "What is the transition wavelength of CoGeNaMnCr?&0\\\\\n",
      "What is the transition wavelength of CaFOGaNi?&0\\\\\n",
      "What is the transition wavelength of NaKNeNiN?&0\\\\\n",
      "What is the transition wavelength of GeNeMgMnMg?&0\\\\\n",
      "What is the transition wavelength of ZnNiZnFF?&0\\\\\n",
      "What is the transition wavelength of CaTiAsCoMg?&0\\\\\n"
     ]
    }
   ],
   "source": [
    "for i, row in formatted_elements.iterrows():\n",
    "    print(row['prompt'].replace('###', '') + \"&\" + completions_elements['choices'][i].split()[0].replace('@', '') + '\\\\\\\\')"
   ]
  },
  {
   "cell_type": "markdown",
   "metadata": {},
   "source": [
    "## Use a different model, one for inverse design"
   ]
  },
  {
   "cell_type": "code",
   "execution_count": 93,
   "metadata": {},
   "outputs": [],
   "source": [
    "from gptchem.formatter import InverseDesignFormatter"
   ]
  },
  {
   "cell_type": "code",
   "execution_count": 94,
   "metadata": {},
   "outputs": [],
   "source": [
    "modelname = 'ada:ft-lsmoepfl-2023-02-05-15-54-47'"
   ]
  },
  {
   "cell_type": "code",
   "execution_count": 95,
   "metadata": {},
   "outputs": [],
   "source": [
    "names = [\n",
    "    'Berend',\n",
    "    'Kevin',\n",
    "    'Philippe',\n",
    "    'Andres',\n",
    "    'Bus',\n",
    "    'car',\n",
    "    'tree',\n",
    "    'house',\n",
    "    'cat',\n",
    "    'magnificent',\n",
    "    'a Berend',\n",
    "    'a Kevin',\n",
    "    'a Philippe',\n",
    "    'an Andres',\n",
    "    'a Bus',\n",
    "    'a car',\n",
    "]"
   ]
  },
  {
   "cell_type": "code",
   "execution_count": 96,
   "metadata": {},
   "outputs": [],
   "source": [
    "data_subset = data.sample(len(names))"
   ]
  },
  {
   "cell_type": "code",
   "execution_count": 97,
   "metadata": {},
   "outputs": [],
   "source": [
    "data_subset['E isomer pi-pi* wavelength in nm'] = names\n",
    "data_subset['Z isomer pi-pi* wavelength in nm'] = names"
   ]
  },
  {
   "cell_type": "code",
   "execution_count": 98,
   "metadata": {},
   "outputs": [],
   "source": [
    "formatter = InverseDesignFormatter(\n",
    "    representation_column=\"SMILES\",\n",
    "    property_columns=[\"E isomer pi-pi* wavelength in nm\", \"Z isomer pi-pi* wavelength in nm\"],\n",
    "    property_names=[\"E isomer transition wavelength\", \"Z isomer transition wavelength\"],\n",
    "num_digits =None\n",
    ")\n",
    "\n",
    "formatter._CHECK_NAN = False"
   ]
  },
  {
   "cell_type": "code",
   "execution_count": 99,
   "metadata": {},
   "outputs": [],
   "source": [
    "formatted = formatter(data_subset)"
   ]
  },
  {
   "cell_type": "code",
   "execution_count": 100,
   "metadata": {},
   "outputs": [
    {
     "data": {
      "text/plain": [
       "'What is a molecule with E isomer transition wavelength Berend ,Z isomer transition wavelength Berend?###'"
      ]
     },
     "execution_count": 100,
     "metadata": {},
     "output_type": "execute_result"
    }
   ],
   "source": [
    "formatted['prompt'].iloc[0]"
   ]
  },
  {
   "cell_type": "code",
   "execution_count": 101,
   "metadata": {},
   "outputs": [],
   "source": [
    "querier = Querier(modelname, max_tokens=600)"
   ]
  },
  {
   "cell_type": "code",
   "execution_count": 102,
   "metadata": {},
   "outputs": [],
   "source": [
    "completions = querier(formatted)"
   ]
  },
  {
   "cell_type": "code",
   "execution_count": 103,
   "metadata": {},
   "outputs": [
    {
     "name": "stdout",
     "output_type": "stream",
     "text": [
      "What is a molecule with E isomer transition wavelength Berend ,Z isomer transition wavelength Berend?&CC1=C(C(C)=NN1)/N=N/C2=CC=C(C(F)(F)F)C=C2\\\\\n",
      "What is a molecule with E isomer transition wavelength Kevin ,Z isomer transition wavelength Kevin?&CC1=C(C(C)=NN1)/N=N/C2=CC=C(C(F)(F)F)C=C2\\\\\n",
      "What is a molecule with E isomer transition wavelength Philippe ,Z isomer transition wavelength Philippe?&CC1=C(C(C)=NN1)/N=N/C2=CC=C(C(F)(F)F)C=C2\\\\\n",
      "What is a molecule with E isomer transition wavelength Andres ,Z isomer transition wavelength Andres?&CC1=C(C(C)=NN1)/N=N/C2=CC(C(F)(F)F)=CC=C2\\\\\n",
      "What is a molecule with E isomer transition wavelength Bus ,Z isomer transition wavelength Bus?&CC1=C(C(C)=NN1)/N=N/C2=CC=C(Br)C=C2\\\\\n",
      "What is a molecule with E isomer transition wavelength car ,Z isomer transition wavelength car?&CC1=C(C(C)=NN1)/N=N/C2=CC=C(C(F)(F)F)C=C2\\\\\n",
      "What is a molecule with E isomer transition wavelength tree ,Z isomer transition wavelength tree?&CC1=C(C(C)=NN1)/N=N/C2=CC=C(C)C=C2\\\\\n",
      "What is a molecule with E isomer transition wavelength house ,Z isomer transition wavelength house?&CC1=C(C(C)=NN1)/N=N/C2=CC=C(C(F)(F)F)C=C2\\\\\n",
      "What is a molecule with E isomer transition wavelength cat ,Z isomer transition wavelength cat?&CC1=C(C(C)=NN1)/N=N/C2=CC=C(C(F)(F)F)C=C2\\\\\n",
      "What is a molecule with E isomer transition wavelength magnificent ,Z isomer transition wavelength magnificent?&CC1=C(C(C)=NN1)/N=N/C2=CC=C(C(F)(F)F)C=C2\\\\\n",
      "What is a molecule with E isomer transition wavelength a Berend ,Z isomer transition wavelength a Berend?&CC1=C(C(C)=NN1)/N=N/C2=CC=C(C(F)(F)F)C=C2\\\\\n",
      "What is a molecule with E isomer transition wavelength a Kevin ,Z isomer transition wavelength a Kevin?&CC1=C(C(C)=NN1)/N=N/C2=CC(NC(C)=O)=CC=C2\\\\\n",
      "What is a molecule with E isomer transition wavelength a Philippe ,Z isomer transition wavelength a Philippe?&CC1=C(C(C)=NN1)/N=N/C2=CC=C(C(F)(F)F)C=C2\\\\\n",
      "What is a molecule with E isomer transition wavelength an Andres ,Z isomer transition wavelength an Andres?&CC1=C(C(C)=NN1)/N=N/C2=CC=C(C(F)(F)F)C=C2\\\\\n",
      "What is a molecule with E isomer transition wavelength a Bus ,Z isomer transition wavelength a Bus?&CC1=C(C(C)=NN1)/N=N/C2=CC=C(Br)C=C2\\\\\n",
      "What is a molecule with E isomer transition wavelength a car ,Z isomer transition wavelength a car?&CC1=C(C(C)=NN1)/N=N/C2=CC=C(C(F)(F)F)C=C2\\\\\n"
     ]
    }
   ],
   "source": [
    "for i, row in formatted.iterrows():\n",
    "    print(row['prompt'].replace('###', '') + \"&\" + completions['choices'][i].split()[0].replace('@', '') + '\\\\\\\\')"
   ]
  },
  {
   "cell_type": "markdown",
   "metadata": {},
   "source": [
    "### Random Elemenets"
   ]
  },
  {
   "cell_type": "code",
   "execution_count": 107,
   "metadata": {},
   "outputs": [],
   "source": [
    "data_subset_elements = data.sample(len(random_words_made_of_elements))\n",
    "data_subset_letters = data.sample(len(random_words_made_of_random_letters))"
   ]
  },
  {
   "cell_type": "code",
   "execution_count": 109,
   "metadata": {},
   "outputs": [],
   "source": [
    "data_subset_elements['E isomer pi-pi* wavelength in nm'] = random_words_made_of_elements\n",
    "data_subset_elements['Z isomer pi-pi* wavelength in nm'] = random_words_made_of_elements"
   ]
  },
  {
   "cell_type": "code",
   "execution_count": 110,
   "metadata": {},
   "outputs": [],
   "source": [
    "formatted_elm = formatter(data_subset_elements)"
   ]
  },
  {
   "cell_type": "code",
   "execution_count": 111,
   "metadata": {},
   "outputs": [],
   "source": [
    "completions_elm = querier(formatted_elm)"
   ]
  },
  {
   "cell_type": "code",
   "execution_count": 112,
   "metadata": {},
   "outputs": [
    {
     "name": "stdout",
     "output_type": "stream",
     "text": [
      "What is a molecule with E isomer transition wavelength PFeScNaFe ,Z isomer transition wavelength PFeScNaFe?&CC1=C(C(C)=NN1)/N=N/C2=CC=C(C(F)(F)F)C=C2\\\\\n",
      "What is a molecule with E isomer transition wavelength ClMnCuScBe ,Z isomer transition wavelength ClMnCuScBe?&CC1=C(C(C)=NN1)/N=N/C2=CC=C(C(F)(F)F)C=C2\\\\\n",
      "What is a molecule with E isomer transition wavelength GeClNaCFe ,Z isomer transition wavelength GeClNaCFe?&CC1=C(C(C)=NN1)/N=N/C2=CC=C(C(F)(F)F)C=C2\\\\\n",
      "What is a molecule with E isomer transition wavelength BeCuGeZnFe ,Z isomer transition wavelength BeCuGeZnFe?&CC1=C(C(C)=NN1)/N=N/C2=CC=C(C(F)(F)F)C=C2\\\\\n",
      "What is a molecule with E isomer transition wavelength CoGeNaMnCr ,Z isomer transition wavelength CoGeNaMnCr?&CC1=C(C(C)=NN1)/N=N/C2=CC=C(C(F)(F)F)C=C2\\\\\n",
      "What is a molecule with E isomer transition wavelength CaFOGaNi ,Z isomer transition wavelength CaFOGaNi?&CC1=C(C(C)=NN1)/N=N/C2=CC(C(F)(F)F)=CC=C2\\\\\n",
      "What is a molecule with E isomer transition wavelength NaKNeNiN ,Z isomer transition wavelength NaKNeNiN?&CC1=C(C(C)=NN1)/N=N/C2=CC(C(F)(F)F)=CC=C2\\\\\n",
      "What is a molecule with E isomer transition wavelength GeNeMgMnMg ,Z isomer transition wavelength GeNeMgMnMg?&CC1=C(C(C)=NN1)/N=N/C2=CC=C(C(F)(F)F)C=C2\\\\\n",
      "What is a molecule with E isomer transition wavelength ZnNiZnFF ,Z isomer transition wavelength ZnNiZnFF?&CC1=C(C(C)=NN1)/N=N/C2=CC=C(C)C=C2\\\\\n",
      "What is a molecule with E isomer transition wavelength CaTiAsCoMg ,Z isomer transition wavelength CaTiAsCoMg?&CC1=C(C(C)=NN1)/N=N/C2=CC(C(F)(F)F)=CC=C2\\\\\n"
     ]
    }
   ],
   "source": [
    "for i, row in formatted_elm.iterrows():\n",
    "    print(row['prompt'].replace('###', '') + \"&\" + completions_elm['choices'][i].split()[0].replace('@', '') + '\\\\\\\\')"
   ]
  },
  {
   "cell_type": "markdown",
   "metadata": {},
   "source": [
    "### Random letters"
   ]
  },
  {
   "cell_type": "code",
   "execution_count": 113,
   "metadata": {},
   "outputs": [],
   "source": [
    "data_subset_letters['E isomer pi-pi* wavelength in nm'] = random_words_made_of_random_letters\n",
    "data_subset_letters['Z isomer pi-pi* wavelength in nm'] = random_words_made_of_random_letters"
   ]
  },
  {
   "cell_type": "code",
   "execution_count": 114,
   "metadata": {},
   "outputs": [],
   "source": [
    "formatted_letter = formatter(data_subset_letters)"
   ]
  },
  {
   "cell_type": "code",
   "execution_count": 115,
   "metadata": {},
   "outputs": [],
   "source": [
    "completions_letter = querier(formatted_letter)"
   ]
  },
  {
   "cell_type": "code",
   "execution_count": 116,
   "metadata": {},
   "outputs": [
    {
     "name": "stdout",
     "output_type": "stream",
     "text": [
      "What is a molecule with E isomer transition wavelength jtjei ,Z isomer transition wavelength jtjei?&CC1=C(C(C)=NN1)/N=N/C2=CC(C(F)(F)F)=CC=C2\\\\\n",
      "What is a molecule with E isomer transition wavelength jytcs ,Z isomer transition wavelength jytcs?&CC1=C(C(C)=NN1)/N=N/C2=CC(C(F)(F)F)=CC=C2\\\\\n",
      "What is a molecule with E isomer transition wavelength cymtv ,Z isomer transition wavelength cymtv?&CC1=C(C(C)=NN1)/N=N/C2=CC(C(F)(F)F)=CC=C2\\\\\n",
      "What is a molecule with E isomer transition wavelength ntnlz ,Z isomer transition wavelength ntnlz?&CC1=C(C(C)=NN1)/N=N/C2=CC(C(O)=O)=CC=C2\\\\\n",
      "What is a molecule with E isomer transition wavelength oqeze ,Z isomer transition wavelength oqeze?&CC1=C(C(C)=NN1)/N=N/C2=CC(C(F)(F)F)=CC=C2\\\\\n",
      "What is a molecule with E isomer transition wavelength linwg ,Z isomer transition wavelength linwg?&CC1=C(C(C)=NN1)/N=N/C2=CC=C(C(F)(F)F)C=C2\\\\\n",
      "What is a molecule with E isomer transition wavelength ktgje ,Z isomer transition wavelength ktgje?&CC1=C(C(C)=NN1)/N=N/C2=CC(C(F)(F)F)=CC=C2\\\\\n",
      "What is a molecule with E isomer transition wavelength cjmqi ,Z isomer transition wavelength cjmqi?&CC1=C(C(C)=NN1)/N=N/C2=CC(C(O)=O)=CC=C2\\\\\n",
      "What is a molecule with E isomer transition wavelength srved ,Z isomer transition wavelength srved?&CC1=C(C(C)=NN1)/N=N/C2=CC=C(C(F)(F)F)C=C2\\\\\n",
      "What is a molecule with E isomer transition wavelength xjkgl ,Z isomer transition wavelength xjkgl?&CC1=C(C(C)=NN1)/N=N/C2=CC(C(F)(F)F)=CC=C2\\\\\n"
     ]
    }
   ],
   "source": [
    "for i, row in formatted_letter.iterrows():\n",
    "    print(row['prompt'].replace('###', '') + \"&\" + completions_letter['choices'][i].split()[0].replace('@', '') + '\\\\\\\\')"
   ]
  },
  {
   "cell_type": "code",
   "execution_count": null,
   "metadata": {},
   "outputs": [],
   "source": []
  }
 ],
 "metadata": {
  "kernelspec": {
   "display_name": "gptchem",
   "language": "python",
   "name": "python3"
  },
  "language_info": {
   "codemirror_mode": {
    "name": "ipython",
    "version": 3
   },
   "file_extension": ".py",
   "mimetype": "text/x-python",
   "name": "python",
   "nbconvert_exporter": "python",
   "pygments_lexer": "ipython3",
   "version": "3.9.15"
  },
  "orig_nbformat": 4,
  "vscode": {
   "interpreter": {
    "hash": "2f3b9074e5baa1438c27e2ea813f7f53b7516c83bd70840b6d64eae6820ee5df"
   }
  }
 },
 "nbformat": 4,
 "nbformat_minor": 2
}
