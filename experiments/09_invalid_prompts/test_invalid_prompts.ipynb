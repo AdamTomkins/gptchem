{
 "cells": [
  {
   "cell_type": "code",
   "execution_count": 1,
   "metadata": {},
   "outputs": [],
   "source": [
    "%load_ext autoreload \n",
    "%autoreload 2"
   ]
  },
  {
   "cell_type": "code",
   "execution_count": 7,
   "metadata": {},
   "outputs": [],
   "source": [
    "from gptchem.querier import Querier\n",
    "from gptchem.extractor import ClassificationExtractor\n",
    "from gptchem.data import get_photoswitch_data\n",
    "from gptchem.formatter import ClassificationFormatter"
   ]
  },
  {
   "cell_type": "code",
   "execution_count": 4,
   "metadata": {},
   "outputs": [],
   "source": [
    "data = get_photoswitch_data()"
   ]
  },
  {
   "cell_type": "code",
   "execution_count": 9,
   "metadata": {},
   "outputs": [],
   "source": [
    "modelname = \"ada:ft-lsmoepfl-2023-01-15-07-02-31\""
   ]
  },
  {
   "cell_type": "markdown",
   "metadata": {},
   "source": [
    "## Trying simple names "
   ]
  },
  {
   "cell_type": "code",
   "execution_count": 33,
   "metadata": {},
   "outputs": [],
   "source": [
    "names = [\n",
    "    'Berend',\n",
    "    'Kevin',\n",
    "    'Phlippe',\n",
    "    'Andres',\n",
    "    'Bus',\n",
    "    'car',\n",
    "    'tree',\n",
    "    'house',\n",
    "    'cat',\n",
    "    'magnificent',\n",
    "    'a Berend',\n",
    "    'a Kevin',\n",
    "    'a Phlippe',\n",
    "    'an Andres',\n",
    "    'a Bus',\n",
    "    'a car',\n",
    "]"
   ]
  },
  {
   "cell_type": "code",
   "execution_count": 34,
   "metadata": {},
   "outputs": [],
   "source": [
    "data_subset = data.sample(len(names))"
   ]
  },
  {
   "cell_type": "code",
   "execution_count": 35,
   "metadata": {},
   "outputs": [],
   "source": [
    "data_subset['SMILES'] = names"
   ]
  },
  {
   "cell_type": "code",
   "execution_count": 36,
   "metadata": {},
   "outputs": [],
   "source": [
    "formatter = ClassificationFormatter(\n",
    "    representation_column=\"SMILES\",\n",
    "    label_column=\"E isomer pi-pi* wavelength in nm\",\n",
    "    property_name=\"transition wavelength\",\n",
    "    num_classes=5\n",
    ")"
   ]
  },
  {
   "cell_type": "code",
   "execution_count": 37,
   "metadata": {},
   "outputs": [],
   "source": [
    "formatted = formatter(data_subset)"
   ]
  },
  {
   "cell_type": "code",
   "execution_count": 38,
   "metadata": {},
   "outputs": [
    {
     "data": {
      "text/html": [
       "<div>\n",
       "<style scoped>\n",
       "    .dataframe tbody tr th:only-of-type {\n",
       "        vertical-align: middle;\n",
       "    }\n",
       "\n",
       "    .dataframe tbody tr th {\n",
       "        vertical-align: top;\n",
       "    }\n",
       "\n",
       "    .dataframe thead th {\n",
       "        text-align: right;\n",
       "    }\n",
       "</style>\n",
       "<table border=\"1\" class=\"dataframe\">\n",
       "  <thead>\n",
       "    <tr style=\"text-align: right;\">\n",
       "      <th></th>\n",
       "      <th>prompt</th>\n",
       "      <th>completion</th>\n",
       "      <th>label</th>\n",
       "      <th>representation</th>\n",
       "    </tr>\n",
       "  </thead>\n",
       "  <tbody>\n",
       "    <tr>\n",
       "      <th>0</th>\n",
       "      <td>What is the transition wavelength of Berend?###</td>\n",
       "      <td>0@@@</td>\n",
       "      <td>0</td>\n",
       "      <td>Berend</td>\n",
       "    </tr>\n",
       "    <tr>\n",
       "      <th>1</th>\n",
       "      <td>What is the transition wavelength of Kevin?###</td>\n",
       "      <td>0@@@</td>\n",
       "      <td>0</td>\n",
       "      <td>Kevin</td>\n",
       "    </tr>\n",
       "    <tr>\n",
       "      <th>2</th>\n",
       "      <td>What is the transition wavelength of Phlippe?###</td>\n",
       "      <td>1@@@</td>\n",
       "      <td>1</td>\n",
       "      <td>Phlippe</td>\n",
       "    </tr>\n",
       "    <tr>\n",
       "      <th>3</th>\n",
       "      <td>What is the transition wavelength of Andres?###</td>\n",
       "      <td>2@@@</td>\n",
       "      <td>2</td>\n",
       "      <td>Andres</td>\n",
       "    </tr>\n",
       "    <tr>\n",
       "      <th>4</th>\n",
       "      <td>What is the transition wavelength of Bus?###</td>\n",
       "      <td>1@@@</td>\n",
       "      <td>1</td>\n",
       "      <td>Bus</td>\n",
       "    </tr>\n",
       "    <tr>\n",
       "      <th>5</th>\n",
       "      <td>What is the transition wavelength of car?###</td>\n",
       "      <td>3@@@</td>\n",
       "      <td>3</td>\n",
       "      <td>car</td>\n",
       "    </tr>\n",
       "    <tr>\n",
       "      <th>6</th>\n",
       "      <td>What is the transition wavelength of tree?###</td>\n",
       "      <td>2@@@</td>\n",
       "      <td>2</td>\n",
       "      <td>tree</td>\n",
       "    </tr>\n",
       "    <tr>\n",
       "      <th>7</th>\n",
       "      <td>What is the transition wavelength of house?###</td>\n",
       "      <td>1@@@</td>\n",
       "      <td>1</td>\n",
       "      <td>house</td>\n",
       "    </tr>\n",
       "    <tr>\n",
       "      <th>8</th>\n",
       "      <td>What is the transition wavelength of cat?###</td>\n",
       "      <td>0@@@</td>\n",
       "      <td>0</td>\n",
       "      <td>cat</td>\n",
       "    </tr>\n",
       "    <tr>\n",
       "      <th>9</th>\n",
       "      <td>What is the transition wavelength of magnifice...</td>\n",
       "      <td>4@@@</td>\n",
       "      <td>4</td>\n",
       "      <td>magnificent</td>\n",
       "    </tr>\n",
       "    <tr>\n",
       "      <th>10</th>\n",
       "      <td>What is the transition wavelength of a Berend?###</td>\n",
       "      <td>4@@@</td>\n",
       "      <td>4</td>\n",
       "      <td>a Berend</td>\n",
       "    </tr>\n",
       "    <tr>\n",
       "      <th>11</th>\n",
       "      <td>What is the transition wavelength of a Kevin?###</td>\n",
       "      <td>3@@@</td>\n",
       "      <td>3</td>\n",
       "      <td>a Kevin</td>\n",
       "    </tr>\n",
       "    <tr>\n",
       "      <th>12</th>\n",
       "      <td>What is the transition wavelength of a Phlippe...</td>\n",
       "      <td>2@@@</td>\n",
       "      <td>2</td>\n",
       "      <td>a Phlippe</td>\n",
       "    </tr>\n",
       "    <tr>\n",
       "      <th>13</th>\n",
       "      <td>What is the transition wavelength of an Andres...</td>\n",
       "      <td>3@@@</td>\n",
       "      <td>3</td>\n",
       "      <td>an Andres</td>\n",
       "    </tr>\n",
       "    <tr>\n",
       "      <th>14</th>\n",
       "      <td>What is the transition wavelength of a Bus?###</td>\n",
       "      <td>0@@@</td>\n",
       "      <td>0</td>\n",
       "      <td>a Bus</td>\n",
       "    </tr>\n",
       "    <tr>\n",
       "      <th>15</th>\n",
       "      <td>What is the transition wavelength of a car?###</td>\n",
       "      <td>4@@@</td>\n",
       "      <td>4</td>\n",
       "      <td>a car</td>\n",
       "    </tr>\n",
       "  </tbody>\n",
       "</table>\n",
       "</div>"
      ],
      "text/plain": [
       "                                               prompt completion  label  \\\n",
       "0     What is the transition wavelength of Berend?###       0@@@      0   \n",
       "1      What is the transition wavelength of Kevin?###       0@@@      0   \n",
       "2    What is the transition wavelength of Phlippe?###       1@@@      1   \n",
       "3     What is the transition wavelength of Andres?###       2@@@      2   \n",
       "4        What is the transition wavelength of Bus?###       1@@@      1   \n",
       "5        What is the transition wavelength of car?###       3@@@      3   \n",
       "6       What is the transition wavelength of tree?###       2@@@      2   \n",
       "7      What is the transition wavelength of house?###       1@@@      1   \n",
       "8        What is the transition wavelength of cat?###       0@@@      0   \n",
       "9   What is the transition wavelength of magnifice...       4@@@      4   \n",
       "10  What is the transition wavelength of a Berend?###       4@@@      4   \n",
       "11   What is the transition wavelength of a Kevin?###       3@@@      3   \n",
       "12  What is the transition wavelength of a Phlippe...       2@@@      2   \n",
       "13  What is the transition wavelength of an Andres...       3@@@      3   \n",
       "14     What is the transition wavelength of a Bus?###       0@@@      0   \n",
       "15     What is the transition wavelength of a car?###       4@@@      4   \n",
       "\n",
       "   representation  \n",
       "0          Berend  \n",
       "1           Kevin  \n",
       "2         Phlippe  \n",
       "3          Andres  \n",
       "4             Bus  \n",
       "5             car  \n",
       "6            tree  \n",
       "7           house  \n",
       "8             cat  \n",
       "9     magnificent  \n",
       "10       a Berend  \n",
       "11        a Kevin  \n",
       "12      a Phlippe  \n",
       "13      an Andres  \n",
       "14          a Bus  \n",
       "15          a car  "
      ]
     },
     "execution_count": 38,
     "metadata": {},
     "output_type": "execute_result"
    }
   ],
   "source": [
    "formatted"
   ]
  },
  {
   "cell_type": "code",
   "execution_count": 43,
   "metadata": {},
   "outputs": [
    {
     "name": "stdout",
     "output_type": "stream",
     "text": [
      "What is the transition wavelength of Berend?###&0\\n\n",
      "What is the transition wavelength of Kevin?###&0\\n\n",
      "What is the transition wavelength of Phlippe?###&0\\n\n",
      "What is the transition wavelength of Andres?###&0\\n\n",
      "What is the transition wavelength of Bus?###&0\\n\n",
      "What is the transition wavelength of car?###&0\\n\n",
      "What is the transition wavelength of tree?###&0\\n\n",
      "What is the transition wavelength of house?###&0\\n\n",
      "What is the transition wavelength of cat?###&0\\n\n",
      "What is the transition wavelength of magnificent?###&0\\n\n",
      "What is the transition wavelength of a Berend?###&0\\n\n",
      "What is the transition wavelength of a Kevin?###&0\\n\n",
      "What is the transition wavelength of a Phlippe?###&0\\n\n",
      "What is the transition wavelength of an Andres?###&0\\n\n",
      "What is the transition wavelength of a Bus?###&0\\n\n",
      "What is the transition wavelength of a car?###&0\\n\n"
     ]
    }
   ],
   "source": [
    "for i, row in formatted.iterrows():\n",
    "    print(row['prompt'] + \"&\" + \"0\" + '\\\\n')"
   ]
  },
  {
   "cell_type": "code",
   "execution_count": 39,
   "metadata": {},
   "outputs": [],
   "source": [
    "qurier = Querier(modelname, max_tokens=10)"
   ]
  },
  {
   "cell_type": "code",
   "execution_count": 40,
   "metadata": {},
   "outputs": [],
   "source": [
    "completions = qurier(formatted)"
   ]
  },
  {
   "cell_type": "code",
   "execution_count": 41,
   "metadata": {},
   "outputs": [
    {
     "data": {
      "text/plain": [
       "{'choices': [' 0',\n",
       "  ' 0',\n",
       "  ' 0',\n",
       "  ' 0',\n",
       "  ' 0',\n",
       "  ' 0',\n",
       "  ' 0',\n",
       "  ' 0',\n",
       "  ' 0',\n",
       "  ' 0',\n",
       "  ' 0',\n",
       "  ' 0',\n",
       "  ' 0',\n",
       "  ' 0',\n",
       "  ' 0',\n",
       "  ' 0'],\n",
       " 'logprobs': [None,\n",
       "  None,\n",
       "  None,\n",
       "  None,\n",
       "  None,\n",
       "  None,\n",
       "  None,\n",
       "  None,\n",
       "  None,\n",
       "  None,\n",
       "  None,\n",
       "  None,\n",
       "  None,\n",
       "  None,\n",
       "  None,\n",
       "  None],\n",
       " 'model': 'ada:ft-lsmoepfl-2023-01-15-07-02-31'}"
      ]
     },
     "execution_count": 41,
     "metadata": {},
     "output_type": "execute_result"
    }
   ],
   "source": [
    "completions"
   ]
  },
  {
   "cell_type": "markdown",
   "metadata": {},
   "source": [
    "## Change the prompt format"
   ]
  },
  {
   "cell_type": "code",
   "execution_count": 44,
   "metadata": {},
   "outputs": [],
   "source": [
    "formatted_new = formatted.copy()"
   ]
  },
  {
   "cell_type": "code",
   "execution_count": 45,
   "metadata": {},
   "outputs": [],
   "source": [
    "formatted_new['prompt'] = formatted_new['prompt'].apply(lambda x: x.replace('What is the transition wavelength of', 'what is the adsorption energy of'))"
   ]
  },
  {
   "cell_type": "code",
   "execution_count": 46,
   "metadata": {},
   "outputs": [
    {
     "data": {
      "text/html": [
       "<div>\n",
       "<style scoped>\n",
       "    .dataframe tbody tr th:only-of-type {\n",
       "        vertical-align: middle;\n",
       "    }\n",
       "\n",
       "    .dataframe tbody tr th {\n",
       "        vertical-align: top;\n",
       "    }\n",
       "\n",
       "    .dataframe thead th {\n",
       "        text-align: right;\n",
       "    }\n",
       "</style>\n",
       "<table border=\"1\" class=\"dataframe\">\n",
       "  <thead>\n",
       "    <tr style=\"text-align: right;\">\n",
       "      <th></th>\n",
       "      <th>prompt</th>\n",
       "      <th>completion</th>\n",
       "      <th>label</th>\n",
       "      <th>representation</th>\n",
       "    </tr>\n",
       "  </thead>\n",
       "  <tbody>\n",
       "    <tr>\n",
       "      <th>0</th>\n",
       "      <td>what is the adsorption energy of Berend?###</td>\n",
       "      <td>0@@@</td>\n",
       "      <td>0</td>\n",
       "      <td>Berend</td>\n",
       "    </tr>\n",
       "    <tr>\n",
       "      <th>1</th>\n",
       "      <td>what is the adsorption energy of Kevin?###</td>\n",
       "      <td>0@@@</td>\n",
       "      <td>0</td>\n",
       "      <td>Kevin</td>\n",
       "    </tr>\n",
       "    <tr>\n",
       "      <th>2</th>\n",
       "      <td>what is the adsorption energy of Phlippe?###</td>\n",
       "      <td>1@@@</td>\n",
       "      <td>1</td>\n",
       "      <td>Phlippe</td>\n",
       "    </tr>\n",
       "    <tr>\n",
       "      <th>3</th>\n",
       "      <td>what is the adsorption energy of Andres?###</td>\n",
       "      <td>2@@@</td>\n",
       "      <td>2</td>\n",
       "      <td>Andres</td>\n",
       "    </tr>\n",
       "    <tr>\n",
       "      <th>4</th>\n",
       "      <td>what is the adsorption energy of Bus?###</td>\n",
       "      <td>1@@@</td>\n",
       "      <td>1</td>\n",
       "      <td>Bus</td>\n",
       "    </tr>\n",
       "    <tr>\n",
       "      <th>5</th>\n",
       "      <td>what is the adsorption energy of car?###</td>\n",
       "      <td>3@@@</td>\n",
       "      <td>3</td>\n",
       "      <td>car</td>\n",
       "    </tr>\n",
       "    <tr>\n",
       "      <th>6</th>\n",
       "      <td>what is the adsorption energy of tree?###</td>\n",
       "      <td>2@@@</td>\n",
       "      <td>2</td>\n",
       "      <td>tree</td>\n",
       "    </tr>\n",
       "    <tr>\n",
       "      <th>7</th>\n",
       "      <td>what is the adsorption energy of house?###</td>\n",
       "      <td>1@@@</td>\n",
       "      <td>1</td>\n",
       "      <td>house</td>\n",
       "    </tr>\n",
       "    <tr>\n",
       "      <th>8</th>\n",
       "      <td>what is the adsorption energy of cat?###</td>\n",
       "      <td>0@@@</td>\n",
       "      <td>0</td>\n",
       "      <td>cat</td>\n",
       "    </tr>\n",
       "    <tr>\n",
       "      <th>9</th>\n",
       "      <td>what is the adsorption energy of magnificent?###</td>\n",
       "      <td>4@@@</td>\n",
       "      <td>4</td>\n",
       "      <td>magnificent</td>\n",
       "    </tr>\n",
       "    <tr>\n",
       "      <th>10</th>\n",
       "      <td>what is the adsorption energy of a Berend?###</td>\n",
       "      <td>4@@@</td>\n",
       "      <td>4</td>\n",
       "      <td>a Berend</td>\n",
       "    </tr>\n",
       "    <tr>\n",
       "      <th>11</th>\n",
       "      <td>what is the adsorption energy of a Kevin?###</td>\n",
       "      <td>3@@@</td>\n",
       "      <td>3</td>\n",
       "      <td>a Kevin</td>\n",
       "    </tr>\n",
       "    <tr>\n",
       "      <th>12</th>\n",
       "      <td>what is the adsorption energy of a Phlippe?###</td>\n",
       "      <td>2@@@</td>\n",
       "      <td>2</td>\n",
       "      <td>a Phlippe</td>\n",
       "    </tr>\n",
       "    <tr>\n",
       "      <th>13</th>\n",
       "      <td>what is the adsorption energy of an Andres?###</td>\n",
       "      <td>3@@@</td>\n",
       "      <td>3</td>\n",
       "      <td>an Andres</td>\n",
       "    </tr>\n",
       "    <tr>\n",
       "      <th>14</th>\n",
       "      <td>what is the adsorption energy of a Bus?###</td>\n",
       "      <td>0@@@</td>\n",
       "      <td>0</td>\n",
       "      <td>a Bus</td>\n",
       "    </tr>\n",
       "    <tr>\n",
       "      <th>15</th>\n",
       "      <td>what is the adsorption energy of a car?###</td>\n",
       "      <td>4@@@</td>\n",
       "      <td>4</td>\n",
       "      <td>a car</td>\n",
       "    </tr>\n",
       "  </tbody>\n",
       "</table>\n",
       "</div>"
      ],
      "text/plain": [
       "                                              prompt completion  label  \\\n",
       "0        what is the adsorption energy of Berend?###       0@@@      0   \n",
       "1         what is the adsorption energy of Kevin?###       0@@@      0   \n",
       "2       what is the adsorption energy of Phlippe?###       1@@@      1   \n",
       "3        what is the adsorption energy of Andres?###       2@@@      2   \n",
       "4           what is the adsorption energy of Bus?###       1@@@      1   \n",
       "5           what is the adsorption energy of car?###       3@@@      3   \n",
       "6          what is the adsorption energy of tree?###       2@@@      2   \n",
       "7         what is the adsorption energy of house?###       1@@@      1   \n",
       "8           what is the adsorption energy of cat?###       0@@@      0   \n",
       "9   what is the adsorption energy of magnificent?###       4@@@      4   \n",
       "10     what is the adsorption energy of a Berend?###       4@@@      4   \n",
       "11      what is the adsorption energy of a Kevin?###       3@@@      3   \n",
       "12    what is the adsorption energy of a Phlippe?###       2@@@      2   \n",
       "13    what is the adsorption energy of an Andres?###       3@@@      3   \n",
       "14        what is the adsorption energy of a Bus?###       0@@@      0   \n",
       "15        what is the adsorption energy of a car?###       4@@@      4   \n",
       "\n",
       "   representation  \n",
       "0          Berend  \n",
       "1           Kevin  \n",
       "2         Phlippe  \n",
       "3          Andres  \n",
       "4             Bus  \n",
       "5             car  \n",
       "6            tree  \n",
       "7           house  \n",
       "8             cat  \n",
       "9     magnificent  \n",
       "10       a Berend  \n",
       "11        a Kevin  \n",
       "12      a Phlippe  \n",
       "13      an Andres  \n",
       "14          a Bus  \n",
       "15          a car  "
      ]
     },
     "execution_count": 46,
     "metadata": {},
     "output_type": "execute_result"
    }
   ],
   "source": [
    "formatted_new"
   ]
  },
  {
   "cell_type": "code",
   "execution_count": 50,
   "metadata": {},
   "outputs": [],
   "source": [
    "querier = Querier(modelname, max_tokens=10)\n",
    "querier._stop = None"
   ]
  },
  {
   "cell_type": "code",
   "execution_count": 51,
   "metadata": {},
   "outputs": [],
   "source": [
    "completions_new = querier(formatted_new)"
   ]
  },
  {
   "cell_type": "code",
   "execution_count": 52,
   "metadata": {},
   "outputs": [
    {
     "data": {
      "text/plain": [
       "{'choices': [' 0@@@ 0@@@ 0@@@ 1',\n",
       "  ' 0@@@ 0@@@ 0@@@ 1',\n",
       "  ' 0@@@ 0@@@ 0@@@ 1',\n",
       "  ' 0@@@ 0@@@ 0@@@ 0',\n",
       "  ' 0@@@@@@ 0@@@@@@',\n",
       "  ' 0@@@ 0@@@ 0@@@ 1',\n",
       "  ' 0@@@ 0@@@ 0@@@ 1',\n",
       "  ' 0@@@ 0@@@ 0@@@ 1',\n",
       "  ' 0@@@ 0@@@ 0@@@ 1',\n",
       "  ' 0@@@ 0@@@ 0@@@ 1',\n",
       "  ' 0@@@ 0@@@ 0@@@ 1',\n",
       "  ' 0@@@ 0@@@ 0@@@ 1',\n",
       "  ' 0@@@ 0@@@ 0@@@ 1',\n",
       "  ' 0@@@ 0@@@ 0@@@ 1',\n",
       "  ' 0@@@ 0@@@@@@ 0@@',\n",
       "  ' 0@@@ 0@@@ 1@@@@@'],\n",
       " 'logprobs': [None,\n",
       "  None,\n",
       "  None,\n",
       "  None,\n",
       "  None,\n",
       "  None,\n",
       "  None,\n",
       "  None,\n",
       "  None,\n",
       "  None,\n",
       "  None,\n",
       "  None,\n",
       "  None,\n",
       "  None,\n",
       "  None,\n",
       "  None],\n",
       " 'model': 'ada:ft-lsmoepfl-2023-01-15-07-02-31'}"
      ]
     },
     "execution_count": 52,
     "metadata": {},
     "output_type": "execute_result"
    }
   ],
   "source": [
    "completions_new"
   ]
  },
  {
   "cell_type": "code",
   "execution_count": 55,
   "metadata": {},
   "outputs": [
    {
     "name": "stdout",
     "output_type": "stream",
     "text": [
      "what is the adsorption energy of Berend?&0\\\\\n",
      "what is the adsorption energy of Kevin?&0\\\\\n",
      "what is the adsorption energy of Phlippe?&0\\\\\n",
      "what is the adsorption energy of Andres?&0\\\\\n",
      "what is the adsorption energy of Bus?&0\\\\\n",
      "what is the adsorption energy of car?&0\\\\\n",
      "what is the adsorption energy of tree?&0\\\\\n",
      "what is the adsorption energy of house?&0\\\\\n",
      "what is the adsorption energy of cat?&0\\\\\n",
      "what is the adsorption energy of magnificent?&0\\\\\n",
      "what is the adsorption energy of a Berend?&0\\\\\n",
      "what is the adsorption energy of a Kevin?&0\\\\\n",
      "what is the adsorption energy of a Phlippe?&0\\\\\n",
      "what is the adsorption energy of an Andres?&0\\\\\n",
      "what is the adsorption energy of a Bus?&0\\\\\n",
      "what is the adsorption energy of a car?&0\\\\\n"
     ]
    }
   ],
   "source": [
    "for i, row in formatted_new.iterrows():\n",
    "    print(row['prompt'].replace('###', '') + \"&\" + \"0\" + '\\\\\\\\')"
   ]
  },
  {
   "cell_type": "code",
   "execution_count": null,
   "metadata": {},
   "outputs": [],
   "source": []
  }
 ],
 "metadata": {
  "kernelspec": {
   "display_name": "gptchem",
   "language": "python",
   "name": "python3"
  },
  "language_info": {
   "codemirror_mode": {
    "name": "ipython",
    "version": 3
   },
   "file_extension": ".py",
   "mimetype": "text/x-python",
   "name": "python",
   "nbconvert_exporter": "python",
   "pygments_lexer": "ipython3",
   "version": "3.9.15"
  },
  "orig_nbformat": 4,
  "vscode": {
   "interpreter": {
    "hash": "2f3b9074e5baa1438c27e2ea813f7f53b7516c83bd70840b6d64eae6820ee5df"
   }
  }
 },
 "nbformat": 4,
 "nbformat_minor": 2
}
