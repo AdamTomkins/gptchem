{
 "cells": [
  {
   "cell_type": "code",
   "execution_count": 1,
   "metadata": {},
   "outputs": [],
   "source": [
    "%load_ext autoreload\n",
    "%autoreload 2"
   ]
  },
  {
   "cell_type": "code",
   "execution_count": 2,
   "metadata": {},
   "outputs": [],
   "source": [
    "from glob import glob \n",
    "import pandas as pd \n",
    "from pathlib import Path\n",
    "import os\n",
    "import numpy as np \n",
    "\n",
    "import matplotlib.pyplot as plt\n",
    "from fastcore.xtras import load_pickle\n",
    "from gptchem.plotsettings import * "
   ]
  },
  {
   "cell_type": "code",
   "execution_count": 3,
   "metadata": {},
   "outputs": [],
   "source": [
    "all_res = glob('out/**/*.pkl')"
   ]
  },
  {
   "cell_type": "code",
   "execution_count": 4,
   "metadata": {},
   "outputs": [
    {
     "data": {
      "text/plain": [
       "['out/20230203_144227/summary.pkl',\n",
       " 'out/20230203_125819/summary.pkl',\n",
       " 'out/20230203_153854/summary.pkl',\n",
       " 'out/20230203_135353/summary.pkl',\n",
       " 'out/20230203_163212/summary.pkl',\n",
       " 'out/20230203_163823/summary.pkl',\n",
       " 'out/20230203_120554/summary.pkl',\n",
       " 'out/20230203_175033/summary.pkl',\n",
       " 'out/20230203_134927/summary.pkl',\n",
       " 'out/20230203_164433/summary.pkl']"
      ]
     },
     "execution_count": 4,
     "metadata": {},
     "output_type": "execute_result"
    }
   ],
   "source": [
    "all_res"
   ]
  },
  {
   "cell_type": "code",
   "execution_count": null,
   "metadata": {},
   "outputs": [],
   "source": []
  }
 ],
 "metadata": {
  "kernelspec": {
   "display_name": "gptchem",
   "language": "python",
   "name": "python3"
  },
  "language_info": {
   "codemirror_mode": {
    "name": "ipython",
    "version": 3
   },
   "file_extension": ".py",
   "mimetype": "text/x-python",
   "name": "python",
   "nbconvert_exporter": "python",
   "pygments_lexer": "ipython3",
   "version": "3.9.15"
  },
  "orig_nbformat": 4,
  "vscode": {
   "interpreter": {
    "hash": "2f3b9074e5baa1438c27e2ea813f7f53b7516c83bd70840b6d64eae6820ee5df"
   }
  }
 },
 "nbformat": 4,
 "nbformat_minor": 2
}
