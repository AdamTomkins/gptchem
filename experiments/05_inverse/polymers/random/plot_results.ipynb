{
 "cells": [
  {
   "cell_type": "code",
   "execution_count": 26,
   "metadata": {},
   "outputs": [
    {
     "name": "stdout",
     "output_type": "stream",
     "text": [
      "The autoreload extension is already loaded. To reload it, use:\n",
      "  %reload_ext autoreload\n"
     ]
    }
   ],
   "source": [
    "%load_ext autoreload\n",
    "%autoreload 2"
   ]
  },
  {
   "cell_type": "code",
   "execution_count": 27,
   "metadata": {},
   "outputs": [],
   "source": [
    "from glob import glob\n",
    "\n",
    "import matplotlib as mpl\n",
    "import matplotlib.pyplot as plt\n",
    "import pandas as pd\n",
    "import seaborn as sns\n",
    "from fastcore.xtras import load_pickle\n",
    "from guacamol.utils.chemistry import is_valid\n",
    "import numpy as np \n",
    "from scipy.stats import sem\n",
    "from gptchem.data import get_polymer_data\n",
    "from gptchem.evaluator import evaluate_generated_smiles, evaluate_photoswitch_smiles_pred\n",
    "from gptchem.settings import ONE_COL_GOLDEN_RATIO_HEIGHT_INCH, ONE_COL_WIDTH_INCH\n",
    "\n",
    "from gptchem.plotsettings import *\n",
    "\n",
    "import matplotx\n",
    "\n",
    "%matplotlib inline"
   ]
  },
  {
   "cell_type": "code",
   "execution_count": 28,
   "metadata": {},
   "outputs": [],
   "source": [
    "all_res = glob(\"out/**/*.pkl\")"
   ]
  },
  {
   "cell_type": "code",
   "execution_count": 29,
   "metadata": {},
   "outputs": [],
   "source": [
    "res = load_pickle(all_res[0])"
   ]
  },
  {
   "cell_type": "code",
   "execution_count": 30,
   "metadata": {},
   "outputs": [],
   "source": [
    "temperatures = [0.0, 0.1, 0.2, 0.5, 0.75, 1.0, 1.25, 1.5]"
   ]
  },
  {
   "cell_type": "code",
   "execution_count": 33,
   "metadata": {},
   "outputs": [],
   "source": [
    "compiled_res = []\n",
    "\n",
    "for filename in all_res: \n",
    "    loaded = load_pickle(filename)\n",
    "    try:\n",
    "        for i, res in enumerate(loaded['res']):\n",
    "            preds = [r['prediction'][0] for r in res['predictions']]\n",
    "            mapes = [np.abs(pred-expected)/expected for pred, expected in zip(preds, res['expected_performance'])]     \n",
    "            result = {\n",
    "                'num_train_points': loaded['num_train_points'],\n",
    "                'noise_level': loaded['noise_level'],\n",
    "                'valid_fraction': res['valid_smiles_fraction'],\n",
    "                'unique_fraction': res['unique_smiles_fraction'],\n",
    "                'temp': temperatures[i],\n",
    "                \"fraction_in_train\": res['fraction_in_train'],\n",
    "                'kldiv_score': res['kldiv_score'],\n",
    "                'mae': np.mean(res['losses']),\n",
    "                'mape': np.mean(np.abs(mapes) * 100),\n",
    "                **res['string_distances_collection_summary']\n",
    "            }\n",
    "            for k,v in res['summary_composition_mismatches'].items():\n",
    "                result[f'comp_mismatch_{k}'] = v\n",
    "        \n",
    "            compiled_res.append(result)\n",
    "    except Exception as e :\n",
    "        print(e)\n",
    "        pass\n",
    "        "
   ]
  },
  {
   "cell_type": "code",
   "execution_count": 34,
   "metadata": {},
   "outputs": [],
   "source": [
    "df = pd.DataFrame(compiled_res)"
   ]
  },
  {
   "cell_type": "code",
   "execution_count": 35,
   "metadata": {},
   "outputs": [],
   "source": [
    "grouped = df.groupby(['num_train_points', 'temp']).agg(['mean', 'std', sem, \"count\"])"
   ]
  },
  {
   "cell_type": "code",
   "execution_count": 36,
   "metadata": {},
   "outputs": [
    {
     "data": {
      "text/html": [
       "<div>\n",
       "<style scoped>\n",
       "    .dataframe tbody tr th:only-of-type {\n",
       "        vertical-align: middle;\n",
       "    }\n",
       "\n",
       "    .dataframe tbody tr th {\n",
       "        vertical-align: top;\n",
       "    }\n",
       "\n",
       "    .dataframe thead th {\n",
       "        text-align: right;\n",
       "    }\n",
       "</style>\n",
       "<table border=\"1\" class=\"dataframe\">\n",
       "  <thead>\n",
       "    <tr style=\"text-align: right;\">\n",
       "      <th></th>\n",
       "      <th></th>\n",
       "      <th>mean</th>\n",
       "      <th>std</th>\n",
       "      <th>sem</th>\n",
       "      <th>count</th>\n",
       "    </tr>\n",
       "    <tr>\n",
       "      <th>num_train_points</th>\n",
       "      <th>temp</th>\n",
       "      <th></th>\n",
       "      <th></th>\n",
       "      <th></th>\n",
       "      <th></th>\n",
       "    </tr>\n",
       "  </thead>\n",
       "  <tbody>\n",
       "    <tr>\n",
       "      <th rowspan=\"8\" valign=\"top\">100</th>\n",
       "      <th>0.00</th>\n",
       "      <td>0.0</td>\n",
       "      <td>0.0</td>\n",
       "      <td>0.0</td>\n",
       "      <td>6</td>\n",
       "    </tr>\n",
       "    <tr>\n",
       "      <th>0.10</th>\n",
       "      <td>0.0</td>\n",
       "      <td>0.0</td>\n",
       "      <td>0.0</td>\n",
       "      <td>6</td>\n",
       "    </tr>\n",
       "    <tr>\n",
       "      <th>0.20</th>\n",
       "      <td>0.0</td>\n",
       "      <td>0.0</td>\n",
       "      <td>0.0</td>\n",
       "      <td>6</td>\n",
       "    </tr>\n",
       "    <tr>\n",
       "      <th>0.50</th>\n",
       "      <td>0.0</td>\n",
       "      <td>0.0</td>\n",
       "      <td>0.0</td>\n",
       "      <td>6</td>\n",
       "    </tr>\n",
       "    <tr>\n",
       "      <th>0.75</th>\n",
       "      <td>0.0</td>\n",
       "      <td>0.0</td>\n",
       "      <td>0.0</td>\n",
       "      <td>6</td>\n",
       "    </tr>\n",
       "    <tr>\n",
       "      <th>1.00</th>\n",
       "      <td>0.0</td>\n",
       "      <td>0.0</td>\n",
       "      <td>0.0</td>\n",
       "      <td>6</td>\n",
       "    </tr>\n",
       "    <tr>\n",
       "      <th>1.25</th>\n",
       "      <td>0.0</td>\n",
       "      <td>0.0</td>\n",
       "      <td>0.0</td>\n",
       "      <td>6</td>\n",
       "    </tr>\n",
       "    <tr>\n",
       "      <th>1.50</th>\n",
       "      <td>0.0</td>\n",
       "      <td>0.0</td>\n",
       "      <td>0.0</td>\n",
       "      <td>6</td>\n",
       "    </tr>\n",
       "  </tbody>\n",
       "</table>\n",
       "</div>"
      ],
      "text/plain": [
       "                       mean  std  sem  count\n",
       "num_train_points temp                       \n",
       "100              0.00   0.0  0.0  0.0      6\n",
       "                 0.10   0.0  0.0  0.0      6\n",
       "                 0.20   0.0  0.0  0.0      6\n",
       "                 0.50   0.0  0.0  0.0      6\n",
       "                 0.75   0.0  0.0  0.0      6\n",
       "                 1.00   0.0  0.0  0.0      6\n",
       "                 1.25   0.0  0.0  0.0      6\n",
       "                 1.50   0.0  0.0  0.0      6"
      ]
     },
     "execution_count": 36,
     "metadata": {},
     "output_type": "execute_result"
    }
   ],
   "source": [
    "grouped['fraction_in_train']"
   ]
  },
  {
   "cell_type": "code",
   "execution_count": 40,
   "metadata": {},
   "outputs": [
    {
     "data": {
      "image/png": "[encoded data removed]",
      "text/plain": [
       "<Figure size 325x650 with 7 Axes>"
      ]
     },
     "metadata": {},
     "output_type": "display_data"
    }
   ],
   "source": [
    "\n",
    "fig, ax = plt.subplots(7,1, sharex='all', figsize=(ONE_COL_WIDTH_INCH, 2 * ONE_COL_WIDTH_INCH))\n",
    "\n",
    "ax[0].plot(grouped.loc[100, :].index, grouped.loc[100, :]['valid_fraction']['mean'])\n",
    "ax[0].fill_between(\n",
    "    grouped.loc[100, :].index,\n",
    "    grouped.loc[100, :]['valid_fraction']['mean'] -  grouped.loc[100, :]['valid_fraction']['sem'], \n",
    "    grouped.loc[100, :]['valid_fraction']['mean'] +  grouped.loc[100, :]['valid_fraction']['sem'], alpha=.5 )\n",
    "ylabel_top('valid fraction', ax=ax[0])\n",
    "\n",
    "range_frame(\n",
    "    ax[0],\n",
    "    grouped.loc[100, :].index,\n",
    "np.nan_to_num(np.stack([\n",
    "        grouped.loc[100, :]['valid_fraction']['mean'] ,\n",
    "        grouped.loc[100, :]['valid_fraction']['mean']\n",
    "    ]).flatten(),grouped.loc[100, :]['valid_fraction']['mean'].mean())\n",
    ")\n",
    "\n",
    "ax[1].plot(grouped.loc[100, :].index, grouped.loc[100, :]['unique_fraction']['mean'])\n",
    "ax[1].fill_between(\n",
    "    grouped.loc[100, :].index,\n",
    "    grouped.loc[100, :]['unique_fraction']['mean'] -  grouped.loc[100, :]['unique_fraction']['sem'], \n",
    "    grouped.loc[100, :]['unique_fraction']['mean'] +  grouped.loc[100, :]['unique_fraction']['sem'], alpha=.5 )\n",
    "ylabel_top('unique fraction', ax=ax[1])\n",
    "\n",
    "\n",
    "range_frame(\n",
    "    ax[1],\n",
    "    grouped.loc[100, :].index,\n",
    "np.nan_to_num(np.stack([\n",
    "        grouped.loc[100, :]['unique_fraction']['mean'] ,\n",
    "        grouped.loc[100, :]['unique_fraction']['mean']\n",
    "    ]).flatten(),grouped.loc[100, :]['unique_fraction']['mean'].mean())\n",
    ")\n",
    "\n",
    "\n",
    "ax[2].plot(grouped.loc[100, :].index, grouped.loc[100, :]['kldiv_score']['mean'])\n",
    "ax[2].fill_between(\n",
    "    grouped.loc[100, :].index,\n",
    "    grouped.loc[100, :]['kldiv_score']['mean'] -  grouped.loc[100, :]['kldiv_score']['sem'], \n",
    "    grouped.loc[100, :]['kldiv_score']['mean'] +  grouped.loc[100, :]['kldiv_score']['sem'], alpha=.5 )\n",
    "ylabel_top('KL', ax=ax[2], x_pad=0.05)\n",
    "\n",
    "\n",
    "range_frame(\n",
    "    ax[2],\n",
    "    grouped.loc[100, :].index,\n",
    "np.nan_to_num(np.stack([\n",
    "        grouped.loc[100, :]['kldiv_score']['mean'] ,\n",
    "        grouped.loc[100, :]['kldiv_score']['mean']\n",
    "    ]).flatten(),grouped.loc[100, :]['kldiv_score']['mean'].mean())\n",
    ")\n",
    "\n",
    "\n",
    "ax[3].plot(grouped.loc[100, :].index, grouped.loc[100, :]['mae']['mean'])\n",
    "ax[3].fill_between(\n",
    "    grouped.loc[100, :].index,\n",
    "    grouped.loc[100, :]['mae']['mean'] -  grouped.loc[100, :]['mae']['sem'], \n",
    "    grouped.loc[100, :]['mae']['mean'] +  grouped.loc[100, :]['mae']['sem'], alpha=.5 )\n",
    "ylabel_top('MAE / $k_\\mathrm{B}T$', ax=ax[3])\n",
    "\n",
    "range_frame(\n",
    "    ax[3],\n",
    "    grouped.loc[100, :].index,\n",
    "np.nan_to_num(np.stack([\n",
    "        grouped.loc[100, :]['mae']['mean'] ,\n",
    "        grouped.loc[100, :]['mae']['mean']\n",
    "    ]).flatten(),grouped.loc[100, :]['mae']['mean'].mean())\n",
    ")\n",
    "\n",
    "\n",
    "ax[4].plot(grouped.loc[100, :].index, grouped.loc[100, :]['mape']['mean'])\n",
    "ax[4].fill_between(\n",
    "    grouped.loc[100, :].index,\n",
    "    grouped.loc[100, :]['mape']['mean'] -  grouped.loc[100, :]['mape']['sem'], \n",
    "    grouped.loc[100, :]['mape']['mean'] +  grouped.loc[100, :]['mape']['sem'], alpha=.5 )\n",
    "ylabel_top('MAPE / %', ax=ax[4])\n",
    "\n",
    "range_frame(\n",
    "    ax[4],\n",
    "    grouped.loc[100, :].index,\n",
    "np.nan_to_num(np.stack([\n",
    "        grouped.loc[100, :]['mape']['mean'] ,\n",
    "        grouped.loc[100, :]['mape']['mean']\n",
    "    ]).flatten(),grouped.loc[100, :]['mape']['mean'].mean())\n",
    ")\n",
    "\n",
    "\n",
    "\n",
    "ax[5].plot(grouped.loc[100, :].index, grouped.loc[100, :]['fraction_in_train']['mean'])\n",
    "ax[5].fill_between(\n",
    "    grouped.loc[100, :].index,\n",
    "    grouped.loc[100, :]['fraction_in_train']['mean'] -  grouped.loc[100, :]['fraction_in_train']['sem'], \n",
    "    grouped.loc[100, :]['fraction_in_train']['mean'] +  grouped.loc[100, :]['fraction_in_train']['sem'], alpha=.5 )\n",
    "ylabel_top('frac. in train', ax=ax[5])\n",
    "\n",
    "\n",
    "range_frame(\n",
    "    ax[5],\n",
    "    grouped.loc[100, :].index,\n",
    "    np.array([0])\n",
    ")\n",
    "\n",
    "\n",
    "ax[6].plot(grouped.loc[100, :].index, grouped.loc[100, :]['LongestCommonSubsequence_mean']['mean'])\n",
    "ax[6].fill_between(\n",
    "    grouped.loc[100, :].index,\n",
    "    grouped.loc[100, :]['LongestCommonSubsequence_mean']['mean'] -  grouped.loc[100, :]['LongestCommonSubsequence_mean']['sem'], \n",
    "    grouped.loc[100, :]['LongestCommonSubsequence_mean']['mean'] +  grouped.loc[100, :]['LongestCommonSubsequence_mean']['sem'], alpha=.5 )\n",
    "ylabel_top('longest common subsequence', ax=ax[6])\n",
    "\n",
    "\n",
    "range_frame(\n",
    "    ax[6],\n",
    "    grouped.loc[100, :].index,\n",
    "np.nan_to_num(np.stack([\n",
    "        grouped.loc[100, :]['LongestCommonSubsequence_mean']['mean'] ,\n",
    "        grouped.loc[100, :]['LongestCommonSubsequence_mean']['mean']\n",
    "    ]).flatten(),grouped.loc[100, :]['LongestCommonSubsequence_mean']['mean'].mean())\n",
    ")\n",
    "\n",
    "\n",
    "ax[-1].set_xlabel('temperature', labelpad=4)\n",
    "plt.subplots_adjust(hspace=.6, top=1, bottom=.2)\n",
    "fig.savefig('random_polymer_inverse.pdf', bbox_inches='tight')"
   ]
  },
  {
   "cell_type": "code",
   "execution_count": 25,
   "metadata": {},
   "outputs": [
    {
     "data": {
      "text/plain": [
       "2.7135963497608304"
      ]
     },
     "execution_count": 25,
     "metadata": {},
     "output_type": "execute_result"
    }
   ],
   "source": [
    "np.abs(get_polymer_data()['deltaGmin'].mean() - get_polymer_data()['deltaGmin']).mean()"
   ]
  },
  {
   "cell_type": "code",
   "execution_count": null,
   "metadata": {},
   "outputs": [],
   "source": []
  }
 ],
 "metadata": {
  "kernelspec": {
   "display_name": "gptchem",
   "language": "python",
   "name": "python3"
  },
  "language_info": {
   "codemirror_mode": {
    "name": "ipython",
    "version": 3
   },
   "file_extension": ".py",
   "mimetype": "text/x-python",
   "name": "python",
   "nbconvert_exporter": "python",
   "pygments_lexer": "ipython3",
   "version": "3.9.15"
  },
  "orig_nbformat": 4,
  "vscode": {
   "interpreter": {
    "hash": "2f3b9074e5baa1438c27e2ea813f7f53b7516c83bd70840b6d64eae6820ee5df"
   }
  }
 },
 "nbformat": 4,
 "nbformat_minor": 2
}
