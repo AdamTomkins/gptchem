{
 "cells": [
  {
   "cell_type": "code",
   "execution_count": 1,
   "metadata": {},
   "outputs": [],
   "source": [
    "%load_ext autoreload\n",
    "%autoreload 2"
   ]
  },
  {
   "cell_type": "code",
   "execution_count": 71,
   "metadata": {},
   "outputs": [],
   "source": [
    "from glob import glob\n",
    "\n",
    "import matplotlib as mpl\n",
    "import matplotlib.pyplot as plt\n",
    "import pandas as pd\n",
    "import seaborn as sns\n",
    "from fastcore.xtras import load_pickle\n",
    "from guacamol.utils.chemistry import is_valid\n",
    "import numpy as np \n",
    "\n",
    "from gptchem.data import get_polymer_data\n",
    "from gptchem.evaluator import evaluate_generated_smiles, evaluate_photoswitch_smiles_pred\n",
    "from gptchem.settings import ONE_COL_GOLDEN_RATIO_HEIGHT_INCH, ONE_COL_WIDTH_INCH\n",
    "\n",
    "mpl.rcParams.update(mpl.rcParamsDefault)\n",
    "plt.style.use([\"science\", \"nature\"])\n",
    "\n",
    "import matplotx\n",
    "\n",
    "%matplotlib inline"
   ]
  },
  {
   "cell_type": "code",
   "execution_count": 72,
   "metadata": {},
   "outputs": [],
   "source": [
    "all_res = glob(\"out/**/*.pkl\")"
   ]
  },
  {
   "cell_type": "code",
   "execution_count": 73,
   "metadata": {},
   "outputs": [],
   "source": [
    "res = load_pickle(all_res[1])"
   ]
  },
  {
   "cell_type": "code",
   "execution_count": 74,
   "metadata": {},
   "outputs": [],
   "source": [
    "temperatures = [0.0, 0.1, 0.2, 0.5, 0.75, 1.0, 1.25, 1.5]"
   ]
  },
  {
   "cell_type": "code",
   "execution_count": 75,
   "metadata": {},
   "outputs": [
    {
     "name": "stdout",
     "output_type": "stream",
     "text": [
      "'res'\n",
      "'res'\n"
     ]
    }
   ],
   "source": [
    "compiled_res = []\n",
    "\n",
    "for filename in all_res: \n",
    "    loaded = load_pickle(filename)\n",
    "    try:\n",
    "        for i, res in enumerate(loaded['res']):\n",
    "            result = {\n",
    "                'num_train_points': loaded['num_train_points'],\n",
    "                'noise_level': loaded['noise_level'],\n",
    "                'valid_fraction': res['valid_smiles_fraction'],\n",
    "                'unique_fraction': res['unique_smiles_fraction'],\n",
    "                'temp': temperatures[i],\n",
    "                'kldiv_score': res['kldiv_score'],\n",
    "                'mae': np.mean(res['losses']),\n",
    "                **res['string_distances_collection_summary']\n",
    "            }\n",
    "            for k,v in res['summary_composition_mismatches'].items():\n",
    "                result[f'comp_mismatch_{k}'] = v\n",
    "        \n",
    "            compiled_res.append(result)\n",
    "    except Exception as e :\n",
    "        print(e)\n",
    "        pass\n",
    "        "
   ]
  },
  {
   "cell_type": "code",
   "execution_count": 76,
   "metadata": {},
   "outputs": [],
   "source": [
    "df = pd.DataFrame(compiled_res)"
   ]
  },
  {
   "cell_type": "code",
   "execution_count": 77,
   "metadata": {},
   "outputs": [],
   "source": [
    "grouped = df.groupby(['num_train_points', 'temp']).agg(['mean', 'std'])"
   ]
  },
  {
   "cell_type": "code",
   "execution_count": 78,
   "metadata": {},
   "outputs": [
    {
     "data": {
      "text/html": [
       "<div>\n",
       "<style scoped>\n",
       "    .dataframe tbody tr th:only-of-type {\n",
       "        vertical-align: middle;\n",
       "    }\n",
       "\n",
       "    .dataframe tbody tr th {\n",
       "        vertical-align: top;\n",
       "    }\n",
       "\n",
       "    .dataframe thead th {\n",
       "        text-align: right;\n",
       "    }\n",
       "</style>\n",
       "<table border=\"1\" class=\"dataframe\">\n",
       "  <thead>\n",
       "    <tr style=\"text-align: right;\">\n",
       "      <th></th>\n",
       "      <th></th>\n",
       "      <th>mean</th>\n",
       "      <th>std</th>\n",
       "    </tr>\n",
       "    <tr>\n",
       "      <th>num_train_points</th>\n",
       "      <th>temp</th>\n",
       "      <th></th>\n",
       "      <th></th>\n",
       "    </tr>\n",
       "  </thead>\n",
       "  <tbody>\n",
       "    <tr>\n",
       "      <th rowspan=\"6\" valign=\"top\">100</th>\n",
       "      <th>0.00</th>\n",
       "      <td>310.567222</td>\n",
       "      <td>257.763878</td>\n",
       "    </tr>\n",
       "    <tr>\n",
       "      <th>0.10</th>\n",
       "      <td>211.334630</td>\n",
       "      <td>291.481913</td>\n",
       "    </tr>\n",
       "    <tr>\n",
       "      <th>0.20</th>\n",
       "      <td>102.073519</td>\n",
       "      <td>104.347492</td>\n",
       "    </tr>\n",
       "    <tr>\n",
       "      <th>0.50</th>\n",
       "      <td>41.199815</td>\n",
       "      <td>1.823854</td>\n",
       "    </tr>\n",
       "    <tr>\n",
       "      <th>0.75</th>\n",
       "      <td>44.155556</td>\n",
       "      <td>4.179787</td>\n",
       "    </tr>\n",
       "    <tr>\n",
       "      <th>1.00</th>\n",
       "      <td>51.900000</td>\n",
       "      <td>16.829141</td>\n",
       "    </tr>\n",
       "  </tbody>\n",
       "</table>\n",
       "</div>"
      ],
      "text/plain": [
       "                             mean         std\n",
       "num_train_points temp                        \n",
       "100              0.00  310.567222  257.763878\n",
       "                 0.10  211.334630  291.481913\n",
       "                 0.20  102.073519  104.347492\n",
       "                 0.50   41.199815    1.823854\n",
       "                 0.75   44.155556    4.179787\n",
       "                 1.00   51.900000   16.829141"
      ]
     },
     "execution_count": 78,
     "metadata": {},
     "output_type": "execute_result"
    }
   ],
   "source": [
    "grouped['LongestCommonSubsequence_mean']"
   ]
  },
  {
   "cell_type": "code",
   "execution_count": 79,
   "metadata": {},
   "outputs": [
    {
     "data": {
      "image/png": "[encoded data removed]",
      "text/plain": [
       "<Figure size 325x650 with 6 Axes>"
      ]
     },
     "metadata": {},
     "output_type": "display_data"
    }
   ],
   "source": [
    "with plt.style.context(matplotx.styles.dufte):\n",
    "    fig, ax = plt.subplots(6,1, sharex='all', figsize=(ONE_COL_WIDTH_INCH, 2 * ONE_COL_WIDTH_INCH))\n",
    "\n",
    "    ax[0].plot(grouped.loc[100, :].index, grouped.loc[100, :]['valid_fraction']['mean'])\n",
    "    ax[0].fill_between(\n",
    "       grouped.loc[100, :].index,\n",
    "        grouped.loc[100, :]['valid_fraction']['mean'] -  grouped.loc[100, :]['valid_fraction']['std'], \n",
    "        grouped.loc[100, :]['valid_fraction']['mean'] +  grouped.loc[100, :]['valid_fraction']['std'], alpha=.5 )\n",
    "    matplotx.ylabel_top('valid fraction', ax=ax[0])\n",
    "\n",
    "\n",
    "    ax[1].plot(grouped.loc[100, :].index, grouped.loc[100, :]['valid_fraction']['mean'])\n",
    "    ax[1].fill_between(\n",
    "       grouped.loc[100, :].index,\n",
    "        grouped.loc[100, :]['unique_fraction']['mean'] -  grouped.loc[100, :]['unique_fraction']['std'], \n",
    "        grouped.loc[100, :]['unique_fraction']['mean'] +  grouped.loc[100, :]['unique_fraction']['std'], alpha=.5 )\n",
    "    matplotx.ylabel_top('unique fraction', ax=ax[1])\n",
    "\n",
    "    ax[2].plot(grouped.loc[100, :].index, grouped.loc[100, :]['kldiv_score']['mean'])\n",
    "    ax[2].fill_between(\n",
    "       grouped.loc[100, :].index,\n",
    "        grouped.loc[100, :]['kldiv_score']['mean'] -  grouped.loc[100, :]['kldiv_score']['std'], \n",
    "        grouped.loc[100, :]['kldiv_score']['mean'] +  grouped.loc[100, :]['kldiv_score']['std'], alpha=.5 )\n",
    "    matplotx.ylabel_top('KL', ax=ax[2])\n",
    "\n",
    "    ax[3].plot(grouped.loc[100, :].index, grouped.loc[100, :]['mae']['mean'])\n",
    "    ax[3].fill_between(\n",
    "       grouped.loc[100, :].index,\n",
    "        grouped.loc[100, :]['mae']['mean'] -  grouped.loc[100, :]['mae']['std'], \n",
    "        grouped.loc[100, :]['mae']['mean'] +  grouped.loc[100, :]['mae']['std'], alpha=.5 )\n",
    "    matplotx.ylabel_top('MAE / $k_\\mathrm{B}T$', ax=ax[3])\n",
    "\n",
    "    ax[4].plot(grouped.loc[100, :].index, grouped.loc[100, :]['comp_mismatch_mean']['mean'])\n",
    "    ax[4].fill_between(\n",
    "       grouped.loc[100, :].index,\n",
    "        grouped.loc[100, :]['comp_mismatch_mean']['mean'] -  grouped.loc[100, :]['comp_mismatch_mean']['std'], \n",
    "        grouped.loc[100, :]['comp_mismatch_mean']['mean'] +  grouped.loc[100, :]['comp_mismatch_mean']['std'], alpha=.5 )\n",
    "    matplotx.ylabel_top('composition mismatch', ax=ax[4])\n",
    "\n",
    "\n",
    "    ax[5].plot(grouped.loc[100, :].index, grouped.loc[100, :]['LongestCommonSubsequence_mean']['mean'])\n",
    "    ax[5].fill_between(\n",
    "       grouped.loc[100, :].index,\n",
    "        grouped.loc[100, :]['LongestCommonSubsequence_mean']['mean'] -  grouped.loc[100, :]['LongestCommonSubsequence_mean']['std'], \n",
    "        grouped.loc[100, :]['LongestCommonSubsequence_mean']['mean'] +  grouped.loc[100, :]['LongestCommonSubsequence_mean']['std'], alpha=.5 )\n",
    "    matplotx.ylabel_top('longest common subsequence', ax=ax[5])\n",
    "\n",
    "    ax[-1].set_xlabel('temperature', labelpad=4)\n",
    "    fig.savefig('random_polymer_inverse.pdf', bbox_inches='tight')"
   ]
  },
  {
   "cell_type": "code",
   "execution_count": 68,
   "metadata": {},
   "outputs": [
    {
     "data": {
      "text/plain": [
       "2.7135963497608304"
      ]
     },
     "execution_count": 68,
     "metadata": {},
     "output_type": "execute_result"
    }
   ],
   "source": [
    "np.abs(get_polymer_data()['deltaGmin'].mean() - get_polymer_data()['deltaGmin']).mean()"
   ]
  },
  {
   "cell_type": "code",
   "execution_count": null,
   "metadata": {},
   "outputs": [],
   "source": []
  }
 ],
 "metadata": {
  "kernelspec": {
   "display_name": "gptchem",
   "language": "python",
   "name": "python3"
  },
  "language_info": {
   "codemirror_mode": {
    "name": "ipython",
    "version": 3
   },
   "file_extension": ".py",
   "mimetype": "text/x-python",
   "name": "python",
   "nbconvert_exporter": "python",
   "pygments_lexer": "ipython3",
   "version": "3.9.15"
  },
  "orig_nbformat": 4,
  "vscode": {
   "interpreter": {
    "hash": "2f3b9074e5baa1438c27e2ea813f7f53b7516c83bd70840b6d64eae6820ee5df"
   }
  }
 },
 "nbformat": 4,
 "nbformat_minor": 2
}
