{
 "cells": [
  {
   "cell_type": "code",
   "execution_count": 2,
   "metadata": {},
   "outputs": [],
   "source": [
    "%load_ext autoreload\n",
    "%autoreload 2"
   ]
  },
  {
   "cell_type": "code",
   "execution_count": 3,
   "metadata": {},
   "outputs": [],
   "source": [
    "from glob import glob\n",
    "\n",
    "import matplotlib as mpl\n",
    "import matplotlib.pyplot as plt\n",
    "import pandas as pd\n",
    "import seaborn as sns\n",
    "from fastcore.xtras import load_pickle\n",
    "from guacamol.utils.chemistry import is_valid\n",
    "import numpy as np \n",
    "\n",
    "from gptchem.data import get_polymer_data\n",
    "from gptchem.evaluator import evaluate_generated_smiles, evaluate_photoswitch_smiles_pred\n",
    "from gptchem.settings import ONE_COL_GOLDEN_RATIO_HEIGHT_INCH, ONE_COL_WIDTH_INCH\n",
    "\n",
    "from gptchem.plotsettings import *\n",
    "\n",
    "import matplotx\n",
    "\n",
    "%matplotlib inline"
   ]
  },
  {
   "cell_type": "code",
   "execution_count": null,
   "metadata": {},
   "outputs": [],
   "source": [
    "all_res = glob(\"out/**/*.pkl\")"
   ]
  },
  {
   "cell_type": "code",
   "execution_count": null,
   "metadata": {},
   "outputs": [],
   "source": [
    "res = load_pickle(all_res[1])"
   ]
  },
  {
   "cell_type": "code",
   "execution_count": 6,
   "metadata": {},
   "outputs": [],
   "source": [
    "temperatures = [0.0, 0.1, 0.2, 0.5, 0.75, 1.0, 1.25, 1.5]"
   ]
  },
  {
   "cell_type": "code",
   "execution_count": 12,
   "metadata": {},
   "outputs": [
    {
     "data": {
      "text/plain": [
       "{'composition_mismatches':       distances  min  max  mean  expected_len  found_len\n",
       " 0  [0, 0, 0, 0]    0    0   0.0             0          0\n",
       " 1  [0, 0, 0, 0]    0    0   0.0             0          0\n",
       " 2  [0, 0, 0, 0]    0    0   0.0             0          0\n",
       " 3  [0, 0, 0, 0]    0    0   0.0             0          0,\n",
       " 'summary_composition_mismatches': {'min': 0.0,\n",
       "  'max': 0.0,\n",
       "  'mean': 0.0,\n",
       "  'expected_len': 0.0,\n",
       "  'found_len': 0.0},\n",
       " 'losses': [5.970016199641925,\n",
       "  0.6220145686733636,\n",
       "  8.846016842725959,\n",
       "  2.524638693077259],\n",
       " 'kldiv_score': 0.8253520997174949,\n",
       " 'valid_smiles_fraction': 0.8,\n",
       " 'valid_indices': [0, 1, 3, 4],\n",
       " 'valid_polymers': ['B-R-R-R-R-B-W-R-R-A-R-B-B-L-A-A-W-A-B-R-A-A-R-R-A',\n",
       "  'B-R-B-B-B-R-R-B-B-W-W-R-R-B-B-B-B-W-W-A-wake-up-activity- climates-void',\n",
       "  'B-R-A-B-B-B-B-W-A-R-R-R-B-R-A-W-B-B-B-R-A-W-A-A-B-A-B-W-A-A-B-W',\n",
       "  'N-A-B-B-W-A-W-A-B-B-A-B-R-A@@T@@W@@B-B@@R-A-A@R@@R@@R@@R@@A@@A@@R@@R@@A@@W@@W@@W@@W@@R@@R@@R@@R@@W@@R@@R@@R-B@@A@@A'],\n",
       " 'unique_smiles_fraction': 1.0,\n",
       " 'novel_smiles_fraction': 1.0,\n",
       " 'generated_sequences': (#5) ['B-R-R-R-R-B-W-R-R-A-R-B-B-L-A-A-W-A-B-R-A-A-R-R-A','B-R-B-B-B-R-R-B-B-W-W-R-R-B-B-B-B-W-W-A-wake-up-activity- climates-void','W-R-B-B-B-B-W-W-A-1100-Cool-A-A-W-W-A-B-A-A-R-B-B-W-W-A-R-B-B','B-R-A-B-B-B-B-W-A-R-R-R-B-R-A-W-B-B-B-R-A-W-A-A-B-A-B-W-A-A-B-W','N-A-B-B-W-A-W-A-B-B-A-B-R-A@@T@@W@@B-B@@R-A-A@R@@R@@R@@R@@A@@A@@R@@R@@A@@W@@W@@W@@W@@R@@R@@R@@R@@W@@R@@R@@R-B@@A@@A'],\n",
       " 'predictions': [{'monomer_squence': 'B-R-R-R-R-B-W-R-R-A-R-B-B-',\n",
       "   'composition': {'B': 4, 'R': 7, 'W': 1, 'A': 1, '': 1},\n",
       "   'smiles': '[Tr][R][R][R][R][Tr][W][R][R][Ta][R][Tr][Tr]L[Ta][Ta][W][Ta][Tr][R][Ta][Ta][R][R][Ta]',\n",
       "   'prediction': array([-8.00071], dtype=float32),\n",
       "   'features':    head_tail_[W]  head_tail_[Tr]  head_tail_[Ta]  head_tail_[R]  \\\n",
       "   0              0               1               1              0   \n",
       "   \n",
       "      total_clusters  num_[W]  max_[W]  min_[W]  mean_[W]  num_[Tr]  ...  \\\n",
       "   0               6      0.0        0        0         0  0.166667  ...   \n",
       "   \n",
       "           [W]      [Tr]      [Ta]       [R]  rel_shannon  length  total_solvent  \\\n",
       "   0  0.083333  0.208333  0.291667  0.416667     0.395847      24            710   \n",
       "   \n",
       "      std_solvent  total_surface  std_surface  \n",
       "   0     3.510896            550     4.545297  \n",
       "   \n",
       "   [1 rows x 31 columns]},\n",
       "  {'monomer_squence': 'B-R-B-B-B-R-R-B-B-W-W-R-R-B-B-B-B-W-W-A-',\n",
       "   'composition': {'B': 10, 'R': 5, 'W': 4, 'A': 1, '': 1},\n",
       "   'smiles': '[Tr][R][Tr][Tr][Tr][R][R][Tr][Tr][W][W][R][R][Tr][Tr][Tr][Tr][W][W][Ta]wakeupactivity climatesvoid',\n",
       "   'prediction': array([-6.2979217], dtype=float32),\n",
       "   'features':    head_tail_[W]  head_tail_[Tr]  head_tail_[Ta]  head_tail_[R]  \\\n",
       "   0              0               1               0              0   \n",
       "   \n",
       "      total_clusters   num_[W]  max_[W]  min_[W]  mean_[W]  num_[Tr]  ...  [W]  \\\n",
       "   0               7  0.285714        2        2       2.0  0.428571  ...  0.2   \n",
       "   \n",
       "      [Tr]  [Ta]   [R]  rel_shannon  length  total_solvent  std_solvent  \\\n",
       "   0   0.5  0.05  0.25     0.388827      20            645     2.947457   \n",
       "   \n",
       "      total_surface  std_surface  \n",
       "   0            540     4.582576  \n",
       "   \n",
       "   [1 rows x 31 columns]},\n",
       "  {'monomer_squence': 'B-R-A-B-B-B-B-W-A-R-R-R-B-R-A-W-B-B-B-R-A-W-A-A-B-A-B-W-A-A-B-W',\n",
       "   'composition': {'B': 12, 'R': 6, 'A': 9, 'W': 5},\n",
       "   'smiles': '[Tr][R][Ta][Tr][Tr][Tr][Tr][W][Ta][R][R][R][Tr][R][Ta][W][Tr][Tr][Tr][R][Ta][W][Ta][Ta][Tr][Ta][Tr][W][Ta][Ta][Tr][W]',\n",
       "   'prediction': array([-7.7127447], dtype=float32),\n",
       "   'features':    head_tail_[W]  head_tail_[Tr]  head_tail_[Ta]  head_tail_[R]  \\\n",
       "   0              1               1               0              0   \n",
       "   \n",
       "      total_clusters  num_[W]  max_[W]  min_[W]  mean_[W]  num_[Tr]  ...  \\\n",
       "   0               5      0.0        0        0         0       0.4  ...   \n",
       "   \n",
       "          [W]   [Tr]     [Ta]     [R]  rel_shannon  length  total_solvent  \\\n",
       "   0  0.15625  0.375  0.28125  0.1875     0.383323      32            975   \n",
       "   \n",
       "      std_solvent  total_surface  std_surface  \n",
       "   0     4.023248            810     4.990225  \n",
       "   \n",
       "   [1 rows x 31 columns]},\n",
       "  {'monomer_squence': '-A-B-B-W-A-W-A-B-B-A-B-R-A',\n",
       "   'composition': {'': 1, 'A': 5, 'B': 5, 'W': 2, 'R': 1},\n",
       "   'smiles': 'N[Ta][Tr][Tr][W][Ta][W][Ta][Tr][Tr][Ta][Tr][R][Ta]',\n",
       "   'prediction': array([-5.55278], dtype=float32),\n",
       "   'features':    head_tail_[W]  head_tail_[Tr]  head_tail_[Ta]  head_tail_[R]  \\\n",
       "   0              0               0               1              0   \n",
       "   \n",
       "      total_clusters  num_[W]  max_[W]  min_[W]  mean_[W]  num_[Tr]  ...  \\\n",
       "   0               2      0.0        0        0         0       1.0  ...   \n",
       "   \n",
       "           [W]      [Tr]      [Ta]       [R]  rel_shannon  length  total_solvent  \\\n",
       "   0  0.153846  0.384615  0.384615  0.076923     0.475753      13            390   \n",
       "   \n",
       "      std_solvent  total_surface  std_surface  \n",
       "   0      4.38529            330     4.985185  \n",
       "   \n",
       "   [1 rows x 31 columns]}],\n",
       " 'string_distances_collection':    Levenshtein_min  Levenshtein_max  Levenshtein_mean  Levenshtein_std  \\\n",
       " 0               19               44              30.0         9.011104   \n",
       " 1               40               48              43.2         2.925748   \n",
       " 2               22               34              26.8         3.919184   \n",
       " 3               78               89              82.6         3.929377   \n",
       " \n",
       "    NormalizedLevenshtein_min  NormalizedLevenshtein_max  \\\n",
       " 0                   0.345455                   0.530120   \n",
       " 1                   0.560000                   0.633803   \n",
       " 2                   0.346667                   0.412698   \n",
       " 3                   0.678261                   0.773913   \n",
       " \n",
       "    NormalizedLevenshtein_mean  NormalizedLevenshtein_std  \\\n",
       " 0                    0.447796                   0.059344   \n",
       " 1                    0.582592                   0.026633   \n",
       " 2                    0.381254                   0.028510   \n",
       " 3                    0.718261                   0.034168   \n",
       " \n",
       "    LongestCommonSubsequence_min  LongestCommonSubsequence_max  \\\n",
       " 0                            32                            54   \n",
       " 1                            56                            76   \n",
       " 2                            34                            44   \n",
       " 3                           104                           118   \n",
       " \n",
       "    LongestCommonSubsequence_mean  LongestCommonSubsequence_std  \n",
       " 0                           40.8                      7.858753  \n",
       " 1                           65.2                      7.756288  \n",
       " 2                           38.0                      3.346640  \n",
       " 3                          111.2                      5.455273  ,\n",
       " 'string_distances_collection_summary': {'Levenshtein_min': 39.75,\n",
       "  'Levenshtein_max': 53.75,\n",
       "  'Levenshtein_mean': 45.65,\n",
       "  'Levenshtein_std': 4.946353039462848,\n",
       "  'NormalizedLevenshtein_min': 0.48259552042160736,\n",
       "  'NormalizedLevenshtein_max': 0.5876336887514482,\n",
       "  'NormalizedLevenshtein_mean': 0.532475882617921,\n",
       "  'NormalizedLevenshtein_std': 0.037163926501853704,\n",
       "  'LongestCommonSubsequence_min': 56.5,\n",
       "  'LongestCommonSubsequence_max': 73.0,\n",
       "  'LongestCommonSubsequence_mean': 63.8,\n",
       "  'LongestCommonSubsequence_std': 6.104238409638043}}"
      ]
     },
     "execution_count": 12,
     "metadata": {},
     "output_type": "execute_result"
    }
   ],
   "source": [
    "res"
   ]
  },
  {
   "cell_type": "code",
   "execution_count": 7,
   "metadata": {},
   "outputs": [
    {
     "name": "stdout",
     "output_type": "stream",
     "text": [
      "'res'\n",
      "'res'\n"
     ]
    }
   ],
   "source": [
    "compiled_res = []\n",
    "\n",
    "for filename in all_res: \n",
    "    loaded = load_pickle(filename)\n",
    "    try:\n",
    "        for i, res in enumerate(loaded['res']):\n",
    "            result = {\n",
    "                'num_train_points': loaded['num_train_points'],\n",
    "                'noise_level': loaded['noise_level'],\n",
    "                'valid_fraction': res['valid_smiles_fraction'],\n",
    "                'unique_fraction': res['unique_smiles_fraction'],\n",
    "                'temp': temperatures[i],\n",
    "                'kldiv_score': res['kldiv_score'],\n",
    "                'mae': np.mean(res['losses']),\n",
    "                **res['string_distances_collection_summary']\n",
    "            }\n",
    "            for k,v in res['summary_composition_mismatches'].items():\n",
    "                result[f'comp_mismatch_{k}'] = v\n",
    "        \n",
    "            compiled_res.append(result)\n",
    "    except Exception as e :\n",
    "        print(e)\n",
    "        pass\n",
    "        "
   ]
  },
  {
   "cell_type": "code",
   "execution_count": 1,
   "metadata": {},
   "outputs": [
    {
     "ename": "NameError",
     "evalue": "name 'pd' is not defined",
     "output_type": "error",
     "traceback": [
      "\u001b[0;31m---------------------------------------------------------------------------\u001b[0m",
      "\u001b[0;31mNameError\u001b[0m                                 Traceback (most recent call last)",
      "Cell \u001b[0;32mIn[1], line 1\u001b[0m\n\u001b[0;32m----> 1\u001b[0m df \u001b[39m=\u001b[39m pd\u001b[39m.\u001b[39mDataFrame(compiled_res)\n",
      "\u001b[0;31mNameError\u001b[0m: name 'pd' is not defined"
     ]
    }
   ],
   "source": [
    "df = pd.DataFrame(compiled_res)"
   ]
  },
  {
   "cell_type": "code",
   "execution_count": 9,
   "metadata": {},
   "outputs": [],
   "source": [
    "grouped = df.groupby(['num_train_points', 'temp']).agg(['mean', 'std'])"
   ]
  },
  {
   "cell_type": "code",
   "execution_count": 10,
   "metadata": {},
   "outputs": [
    {
     "data": {
      "text/html": [
       "<div>\n",
       "<style scoped>\n",
       "    .dataframe tbody tr th:only-of-type {\n",
       "        vertical-align: middle;\n",
       "    }\n",
       "\n",
       "    .dataframe tbody tr th {\n",
       "        vertical-align: top;\n",
       "    }\n",
       "\n",
       "    .dataframe thead th {\n",
       "        text-align: right;\n",
       "    }\n",
       "</style>\n",
       "<table border=\"1\" class=\"dataframe\">\n",
       "  <thead>\n",
       "    <tr style=\"text-align: right;\">\n",
       "      <th></th>\n",
       "      <th></th>\n",
       "      <th>mean</th>\n",
       "      <th>std</th>\n",
       "    </tr>\n",
       "    <tr>\n",
       "      <th>num_train_points</th>\n",
       "      <th>temp</th>\n",
       "      <th></th>\n",
       "      <th></th>\n",
       "    </tr>\n",
       "  </thead>\n",
       "  <tbody>\n",
       "    <tr>\n",
       "      <th rowspan=\"7\" valign=\"top\">100</th>\n",
       "      <th>0.00</th>\n",
       "      <td>325.203311</td>\n",
       "      <td>188.952109</td>\n",
       "    </tr>\n",
       "    <tr>\n",
       "      <th>0.10</th>\n",
       "      <td>212.274048</td>\n",
       "      <td>202.087382</td>\n",
       "    </tr>\n",
       "    <tr>\n",
       "      <th>0.20</th>\n",
       "      <td>86.771226</td>\n",
       "      <td>70.528990</td>\n",
       "    </tr>\n",
       "    <tr>\n",
       "      <th>0.50</th>\n",
       "      <td>43.981174</td>\n",
       "      <td>4.218511</td>\n",
       "    </tr>\n",
       "    <tr>\n",
       "      <th>0.75</th>\n",
       "      <td>43.450222</td>\n",
       "      <td>2.188128</td>\n",
       "    </tr>\n",
       "    <tr>\n",
       "      <th>1.00</th>\n",
       "      <td>46.346522</td>\n",
       "      <td>9.843781</td>\n",
       "    </tr>\n",
       "    <tr>\n",
       "      <th>1.25</th>\n",
       "      <td>42.085000</td>\n",
       "      <td>NaN</td>\n",
       "    </tr>\n",
       "  </tbody>\n",
       "</table>\n",
       "</div>"
      ],
      "text/plain": [
       "                             mean         std\n",
       "num_train_points temp                        \n",
       "100              0.00  325.203311  188.952109\n",
       "                 0.10  212.274048  202.087382\n",
       "                 0.20   86.771226   70.528990\n",
       "                 0.50   43.981174    4.218511\n",
       "                 0.75   43.450222    2.188128\n",
       "                 1.00   46.346522    9.843781\n",
       "                 1.25   42.085000         NaN"
      ]
     },
     "execution_count": 10,
     "metadata": {},
     "output_type": "execute_result"
    }
   ],
   "source": [
    "grouped['LongestCommonSubsequence_mean']"
   ]
  },
  {
   "cell_type": "code",
   "execution_count": 11,
   "metadata": {},
   "outputs": [
    {
     "data": {
      "image/png": "[encoded data removed]",
      "text/plain": [
       "<Figure size 325x650 with 6 Axes>"
      ]
     },
     "metadata": {},
     "output_type": "display_data"
    }
   ],
   "source": [
    "with plt.style.context(matplotx.styles.dufte):\n",
    "    fig, ax = plt.subplots(6,1, sharex='all', figsize=(ONE_COL_WIDTH_INCH, 2 * ONE_COL_WIDTH_INCH))\n",
    "\n",
    "    ax[0].plot(grouped.loc[100, :].index, grouped.loc[100, :]['valid_fraction']['mean'])\n",
    "    ax[0].fill_between(\n",
    "       grouped.loc[100, :].index,\n",
    "        grouped.loc[100, :]['valid_fraction']['mean'] -  grouped.loc[100, :]['valid_fraction']['std'], \n",
    "        grouped.loc[100, :]['valid_fraction']['mean'] +  grouped.loc[100, :]['valid_fraction']['std'], alpha=.5 )\n",
    "    matplotx.ylabel_top('valid fraction', ax=ax[0])\n",
    "\n",
    "\n",
    "    ax[1].plot(grouped.loc[100, :].index, grouped.loc[100, :]['valid_fraction']['mean'])\n",
    "    ax[1].fill_between(\n",
    "       grouped.loc[100, :].index,\n",
    "        grouped.loc[100, :]['unique_fraction']['mean'] -  grouped.loc[100, :]['unique_fraction']['std'], \n",
    "        grouped.loc[100, :]['unique_fraction']['mean'] +  grouped.loc[100, :]['unique_fraction']['std'], alpha=.5 )\n",
    "    matplotx.ylabel_top('unique fraction', ax=ax[1])\n",
    "\n",
    "    ax[2].plot(grouped.loc[100, :].index, grouped.loc[100, :]['kldiv_score']['mean'])\n",
    "    ax[2].fill_between(\n",
    "       grouped.loc[100, :].index,\n",
    "        grouped.loc[100, :]['kldiv_score']['mean'] -  grouped.loc[100, :]['kldiv_score']['std'], \n",
    "        grouped.loc[100, :]['kldiv_score']['mean'] +  grouped.loc[100, :]['kldiv_score']['std'], alpha=.5 )\n",
    "    matplotx.ylabel_top('KL', ax=ax[2])\n",
    "\n",
    "    ax[3].plot(grouped.loc[100, :].index, grouped.loc[100, :]['mae']['mean'])\n",
    "    ax[3].fill_between(\n",
    "       grouped.loc[100, :].index,\n",
    "        grouped.loc[100, :]['mae']['mean'] -  grouped.loc[100, :]['mae']['std'], \n",
    "        grouped.loc[100, :]['mae']['mean'] +  grouped.loc[100, :]['mae']['std'], alpha=.5 )\n",
    "    matplotx.ylabel_top('MAE / $k_\\mathrm{B}T$', ax=ax[3])\n",
    "\n",
    "    ax[4].plot(grouped.loc[100, :].index, grouped.loc[100, :]['comp_mismatch_mean']['mean'])\n",
    "    ax[4].fill_between(\n",
    "       grouped.loc[100, :].index,\n",
    "        grouped.loc[100, :]['comp_mismatch_mean']['mean'] -  grouped.loc[100, :]['comp_mismatch_mean']['std'], \n",
    "        grouped.loc[100, :]['comp_mismatch_mean']['mean'] +  grouped.loc[100, :]['comp_mismatch_mean']['std'], alpha=.5 )\n",
    "    matplotx.ylabel_top('composition mismatch', ax=ax[4])\n",
    "\n",
    "\n",
    "    ax[5].plot(grouped.loc[100, :].index, grouped.loc[100, :]['LongestCommonSubsequence_mean']['mean'])\n",
    "    ax[5].fill_between(\n",
    "       grouped.loc[100, :].index,\n",
    "        grouped.loc[100, :]['LongestCommonSubsequence_mean']['mean'] -  grouped.loc[100, :]['LongestCommonSubsequence_mean']['std'], \n",
    "        grouped.loc[100, :]['LongestCommonSubsequence_mean']['mean'] +  grouped.loc[100, :]['LongestCommonSubsequence_mean']['std'], alpha=.5 )\n",
    "    matplotx.ylabel_top('longest common subsequence', ax=ax[5])\n",
    "\n",
    "    ax[-1].set_xlabel('temperature', labelpad=4)\n",
    "    fig.savefig('random_polymer_inverse.pdf', bbox_inches='tight')"
   ]
  },
  {
   "cell_type": "code",
   "execution_count": 68,
   "metadata": {},
   "outputs": [
    {
     "data": {
      "text/plain": [
       "2.7135963497608304"
      ]
     },
     "execution_count": 68,
     "metadata": {},
     "output_type": "execute_result"
    }
   ],
   "source": [
    "np.abs(get_polymer_data()['deltaGmin'].mean() - get_polymer_data()['deltaGmin']).mean()"
   ]
  },
  {
   "cell_type": "code",
   "execution_count": null,
   "metadata": {},
   "outputs": [],
   "source": []
  }
 ],
 "metadata": {
  "kernelspec": {
   "display_name": "gptchem",
   "language": "python",
   "name": "python3"
  },
  "language_info": {
   "codemirror_mode": {
    "name": "ipython",
    "version": 3
   },
   "file_extension": ".py",
   "mimetype": "text/x-python",
   "name": "python",
   "nbconvert_exporter": "python",
   "pygments_lexer": "ipython3",
   "version": "3.9.15"
  },
  "orig_nbformat": 4,
  "vscode": {
   "interpreter": {
    "hash": "2f3b9074e5baa1438c27e2ea813f7f53b7516c83bd70840b6d64eae6820ee5df"
   }
  }
 },
 "nbformat": 4,
 "nbformat_minor": 2
}
