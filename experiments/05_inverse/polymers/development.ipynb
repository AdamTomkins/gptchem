{
 "cells": [
  {
   "cell_type": "code",
   "execution_count": 1,
   "metadata": {},
   "outputs": [],
   "source": [
    "%load_ext autoreload\n",
    "%autoreload 2"
   ]
  },
  {
   "cell_type": "code",
   "execution_count": 2,
   "metadata": {},
   "outputs": [],
   "source": [
    "from gptchem.data import get_polymer_data\n",
    "from gptchem.formatter import InverseDesignFormatter\n",
    "from sklearn.model_selection import train_test_split\n",
    "from gptchem.evaluator import polymer_string2performance"
   ]
  },
  {
   "cell_type": "code",
   "execution_count": 3,
   "metadata": {},
   "outputs": [],
   "source": [
    "data = get_polymer_data()"
   ]
  },
  {
   "cell_type": "code",
   "execution_count": 8,
   "metadata": {},
   "outputs": [],
   "source": [
    "formatter = InverseDesignFormatter(representation_column='string', property_columns=['deltaGmin'], property_names=['adsorption_energy'],)"
   ]
  },
  {
   "cell_type": "code",
   "execution_count": 9,
   "metadata": {},
   "outputs": [],
   "source": [
    "formatted = formatter(data)"
   ]
  },
  {
   "cell_type": "code",
   "execution_count": 10,
   "metadata": {},
   "outputs": [
    {
     "data": {
      "text/plain": [
       "{'monomer_squence': 'W-A-B-W-W-A-A-A-R-W-B-B-R-R-B-R',\n",
       " 'composition': {'W': 4, 'A': 4, 'B': 4, 'R': 4},\n",
       " 'smiles': '[W][Ta][Tr][W][W][Ta][Ta][Ta][R][W][Tr][Tr][R][R][Tr][R]',\n",
       " 'prediction': array([-6.1970377], dtype=float32),\n",
       " 'features':    head_tail_[W]  head_tail_[Tr]  head_tail_[Ta]  head_tail_[R]  \\\n",
       " 0              1               0               0              1   \n",
       " \n",
       "    total_clusters  num_[W]  max_[W]  min_[W]  mean_[W]  num_[Tr]  ...   [W]  \\\n",
       " 0               4     0.25        2        2       2.0      0.25  ...  0.25   \n",
       " \n",
       "    [Tr]  [Ta]   [R]  rel_shannon  length  total_solvent  std_solvent  \\\n",
       " 0  0.25  0.25  0.25          0.5      16            480     3.535534   \n",
       " \n",
       "    total_surface  std_surface  \n",
       " 0            400          5.0  \n",
       " \n",
       " [1 rows x 31 columns]}"
      ]
     },
     "execution_count": 10,
     "metadata": {},
     "output_type": "execute_result"
    }
   ],
   "source": [
    "polymer_string2performance(formatted.iloc[0]['label'])"
   ]
  },
  {
   "cell_type": "code",
   "execution_count": 12,
   "metadata": {},
   "outputs": [
    {
     "data": {
      "text/html": [
       "<div>\n",
       "<style scoped>\n",
       "    .dataframe tbody tr th:only-of-type {\n",
       "        vertical-align: middle;\n",
       "    }\n",
       "\n",
       "    .dataframe tbody tr th {\n",
       "        vertical-align: top;\n",
       "    }\n",
       "\n",
       "    .dataframe thead th {\n",
       "        text-align: right;\n",
       "    }\n",
       "</style>\n",
       "<table border=\"1\" class=\"dataframe\">\n",
       "  <thead>\n",
       "    <tr style=\"text-align: right;\">\n",
       "      <th></th>\n",
       "      <th>prompt</th>\n",
       "      <th>completion</th>\n",
       "      <th>label</th>\n",
       "      <th>representation</th>\n",
       "    </tr>\n",
       "  </thead>\n",
       "  <tbody>\n",
       "    <tr>\n",
       "      <th>0</th>\n",
       "      <td>What is a molecule with adsorption_energy -7.5...</td>\n",
       "      <td>W-A-B-W-W-A-A-A-R-W-B-B-R-R-B-R@@@</td>\n",
       "      <td>W-A-B-W-W-A-A-A-R-W-B-B-R-R-B-R</td>\n",
       "      <td>[-7.535286244444447]</td>\n",
       "    </tr>\n",
       "    <tr>\n",
       "      <th>1</th>\n",
       "      <td>What is a molecule with adsorption_energy -7.3...</td>\n",
       "      <td>R-W-W-R-R-B-B-B-A-A-A-W-W-A-R-B@@@</td>\n",
       "      <td>R-W-W-R-R-B-B-B-A-A-A-W-W-A-R-B</td>\n",
       "      <td>[-7.270527222222221]</td>\n",
       "    </tr>\n",
       "    <tr>\n",
       "      <th>2</th>\n",
       "      <td>What is a molecule with adsorption_energy -6.4...</td>\n",
       "      <td>A-R-A-W-B-W-A-R-B-W-A-B-B-R-W-R@@@</td>\n",
       "      <td>A-R-A-W-B-W-A-R-B-W-A-B-B-R-W-R</td>\n",
       "      <td>[-6.416311311111111]</td>\n",
       "    </tr>\n",
       "    <tr>\n",
       "      <th>3</th>\n",
       "      <td>What is a molecule with adsorption_energy -6.7...</td>\n",
       "      <td>W-A-R-A-B-B-B-W-A-W-B-R-A-W-R-R@@@</td>\n",
       "      <td>W-A-R-A-B-B-B-W-A-W-B-R-A-W-R-R</td>\n",
       "      <td>[-6.684815644444439]</td>\n",
       "    </tr>\n",
       "    <tr>\n",
       "      <th>4</th>\n",
       "      <td>What is a molecule with adsorption_energy -6.6...</td>\n",
       "      <td>R-R-B-B-W-R-A-W-R-W-A-B-A-A-W-B@@@</td>\n",
       "      <td>R-R-B-B-W-R-A-W-R-W-A-B-A-A-W-B</td>\n",
       "      <td>[-6.606492355555552]</td>\n",
       "    </tr>\n",
       "    <tr>\n",
       "      <th>...</th>\n",
       "      <td>...</td>\n",
       "      <td>...</td>\n",
       "      <td>...</td>\n",
       "      <td>...</td>\n",
       "    </tr>\n",
       "    <tr>\n",
       "      <th>3120</th>\n",
       "      <td>What is a molecule with adsorption_energy -17....</td>\n",
       "      <td>R-W-B-W-W-B-B-B-A-W-W-W-A-W-A-A-W-A-R-R-B-B-A...</td>\n",
       "      <td>R-W-B-W-W-B-B-B-A-W-W-W-A-W-A-A-W-A-R-R-B-B-A-...</td>\n",
       "      <td>[-16.95276779999999]</td>\n",
       "    </tr>\n",
       "    <tr>\n",
       "      <th>3121</th>\n",
       "      <td>What is a molecule with adsorption_energy -17....</td>\n",
       "      <td>R-A-A-R-A-R-W-B-W-A-R-B-W-R-B-R-W-B-A-B-A-B-A...</td>\n",
       "      <td>R-A-A-R-A-R-W-B-W-A-R-B-W-R-B-R-W-B-A-B-A-B-A-...</td>\n",
       "      <td>[-17.129209466666673]</td>\n",
       "    </tr>\n",
       "    <tr>\n",
       "      <th>3122</th>\n",
       "      <td>What is a molecule with adsorption_energy -16....</td>\n",
       "      <td>W-W-R-B-W-W-A-W-R-R-A-R-B-A-A-W-R-R-B-B-B-A-R...</td>\n",
       "      <td>W-W-R-B-W-W-A-W-R-R-A-R-B-A-A-W-R-R-B-B-B-A-R-...</td>\n",
       "      <td>[-16.361275533333345]</td>\n",
       "    </tr>\n",
       "    <tr>\n",
       "      <th>3123</th>\n",
       "      <td>What is a molecule with adsorption_energy -14....</td>\n",
       "      <td>B-A-B-B-R-W-A-R-W-R-B-W-R-W-R-R-W-B-W-A-A-B-A...</td>\n",
       "      <td>B-A-B-B-R-W-A-R-W-R-B-W-R-W-R-R-W-B-W-A-A-B-A-...</td>\n",
       "      <td>[-14.72941055555556]</td>\n",
       "    </tr>\n",
       "    <tr>\n",
       "      <th>3124</th>\n",
       "      <td>What is a molecule with adsorption_energy -16....</td>\n",
       "      <td>B-W-B-R-B-A-R-A-B-A-B-B-R-R-R-W-W-B-B-A-R-A-R...</td>\n",
       "      <td>B-W-B-R-B-A-R-A-B-A-B-B-R-R-R-W-W-B-B-A-R-A-R-...</td>\n",
       "      <td>[-16.89514980000001]</td>\n",
       "    </tr>\n",
       "  </tbody>\n",
       "</table>\n",
       "<p>3125 rows × 4 columns</p>\n",
       "</div>"
      ],
      "text/plain": [
       "                                                 prompt  ...         representation\n",
       "0     What is a molecule with adsorption_energy -7.5...  ...   [-7.535286244444447]\n",
       "1     What is a molecule with adsorption_energy -7.3...  ...   [-7.270527222222221]\n",
       "2     What is a molecule with adsorption_energy -6.4...  ...   [-6.416311311111111]\n",
       "3     What is a molecule with adsorption_energy -6.7...  ...   [-6.684815644444439]\n",
       "4     What is a molecule with adsorption_energy -6.6...  ...   [-6.606492355555552]\n",
       "...                                                 ...  ...                    ...\n",
       "3120  What is a molecule with adsorption_energy -17....  ...   [-16.95276779999999]\n",
       "3121  What is a molecule with adsorption_energy -17....  ...  [-17.129209466666673]\n",
       "3122  What is a molecule with adsorption_energy -16....  ...  [-16.361275533333345]\n",
       "3123  What is a molecule with adsorption_energy -14....  ...   [-14.72941055555556]\n",
       "3124  What is a molecule with adsorption_energy -16....  ...   [-16.89514980000001]\n",
       "\n",
       "[3125 rows x 4 columns]"
      ]
     },
     "execution_count": 12,
     "metadata": {},
     "output_type": "execute_result"
    }
   ],
   "source": [
    "formatted"
   ]
  },
  {
   "cell_type": "code",
   "execution_count": null,
   "metadata": {},
   "outputs": [],
   "source": []
  }
 ],
 "metadata": {
  "kernelspec": {
   "display_name": "gptchem",
   "language": "python",
   "name": "python3"
  },
  "language_info": {
   "codemirror_mode": {
    "name": "ipython",
    "version": 3
   },
   "file_extension": ".py",
   "mimetype": "text/x-python",
   "name": "python",
   "nbconvert_exporter": "python",
   "pygments_lexer": "ipython3",
   "version": "3.9.15"
  },
  "orig_nbformat": 4,
  "vscode": {
   "interpreter": {
    "hash": "2f3b9074e5baa1438c27e2ea813f7f53b7516c83bd70840b6d64eae6820ee5df"
   }
  }
 },
 "nbformat": 4,
 "nbformat_minor": 2
}
