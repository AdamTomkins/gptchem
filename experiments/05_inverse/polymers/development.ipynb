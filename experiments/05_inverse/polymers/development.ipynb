{
 "cells": [
  {
   "cell_type": "code",
   "execution_count": 1,
   "metadata": {},
   "outputs": [],
   "source": [
    "%load_ext autoreload\n",
    "%autoreload 2"
   ]
  },
  {
   "cell_type": "code",
   "execution_count": 2,
   "metadata": {},
   "outputs": [],
   "source": [
    "from sklearn.model_selection import train_test_split\n",
    "\n",
    "from gptchem.data import get_polymer_data\n",
    "from gptchem.evaluator import PolymerKLDivBenchmark, polymer_string2performance, string_distances, get_inverse_polymer_metrics\n",
    "from gptchem.formatter import InverseDesignFormatter"
   ]
  },
  {
   "cell_type": "code",
   "execution_count": 3,
   "metadata": {},
   "outputs": [],
   "source": [
    "data = get_polymer_data()"
   ]
  },
  {
   "cell_type": "code",
   "execution_count": 4,
   "metadata": {},
   "outputs": [],
   "source": [
    "formatter = InverseDesignFormatter(\n",
    "    representation_column=\"string\",\n",
    "    property_columns=[\"deltaGmin\"],\n",
    "    property_names=[\"adsorption_energy\"],\n",
    ")"
   ]
  },
  {
   "cell_type": "code",
   "execution_count": 5,
   "metadata": {},
   "outputs": [],
   "source": [
    "formatted = formatter(data)"
   ]
  },
  {
   "cell_type": "code",
   "execution_count": 16,
   "metadata": {},
   "outputs": [
    {
     "data": {
      "text/html": [
       "<div>\n",
       "<style scoped>\n",
       "    .dataframe tbody tr th:only-of-type {\n",
       "        vertical-align: middle;\n",
       "    }\n",
       "\n",
       "    .dataframe tbody tr th {\n",
       "        vertical-align: top;\n",
       "    }\n",
       "\n",
       "    .dataframe thead th {\n",
       "        text-align: right;\n",
       "    }\n",
       "</style>\n",
       "<table border=\"1\" class=\"dataframe\">\n",
       "  <thead>\n",
       "    <tr style=\"text-align: right;\">\n",
       "      <th></th>\n",
       "      <th>prompt</th>\n",
       "      <th>completion</th>\n",
       "      <th>label</th>\n",
       "      <th>representation</th>\n",
       "    </tr>\n",
       "  </thead>\n",
       "  <tbody>\n",
       "    <tr>\n",
       "      <th>0</th>\n",
       "      <td>What is a molecule with adsorption_energy -7.5...</td>\n",
       "      <td>W-A-B-W-W-A-A-A-R-W-B-B-R-R-B-R@@@</td>\n",
       "      <td>W-A-B-W-W-A-A-A-R-W-B-B-R-R-B-R</td>\n",
       "      <td>[-7.535286244444447]</td>\n",
       "    </tr>\n",
       "    <tr>\n",
       "      <th>1</th>\n",
       "      <td>What is a molecule with adsorption_energy -7.3...</td>\n",
       "      <td>R-W-W-R-R-B-B-B-A-A-A-W-W-A-R-B@@@</td>\n",
       "      <td>R-W-W-R-R-B-B-B-A-A-A-W-W-A-R-B</td>\n",
       "      <td>[-7.270527222222221]</td>\n",
       "    </tr>\n",
       "    <tr>\n",
       "      <th>2</th>\n",
       "      <td>What is a molecule with adsorption_energy -6.4...</td>\n",
       "      <td>A-R-A-W-B-W-A-R-B-W-A-B-B-R-W-R@@@</td>\n",
       "      <td>A-R-A-W-B-W-A-R-B-W-A-B-B-R-W-R</td>\n",
       "      <td>[-6.416311311111111]</td>\n",
       "    </tr>\n",
       "    <tr>\n",
       "      <th>3</th>\n",
       "      <td>What is a molecule with adsorption_energy -6.7...</td>\n",
       "      <td>W-A-R-A-B-B-B-W-A-W-B-R-A-W-R-R@@@</td>\n",
       "      <td>W-A-R-A-B-B-B-W-A-W-B-R-A-W-R-R</td>\n",
       "      <td>[-6.684815644444439]</td>\n",
       "    </tr>\n",
       "    <tr>\n",
       "      <th>4</th>\n",
       "      <td>What is a molecule with adsorption_energy -6.6...</td>\n",
       "      <td>R-R-B-B-W-R-A-W-R-W-A-B-A-A-W-B@@@</td>\n",
       "      <td>R-R-B-B-W-R-A-W-R-W-A-B-A-A-W-B</td>\n",
       "      <td>[-6.606492355555552]</td>\n",
       "    </tr>\n",
       "    <tr>\n",
       "      <th>...</th>\n",
       "      <td>...</td>\n",
       "      <td>...</td>\n",
       "      <td>...</td>\n",
       "      <td>...</td>\n",
       "    </tr>\n",
       "    <tr>\n",
       "      <th>3120</th>\n",
       "      <td>What is a molecule with adsorption_energy -17....</td>\n",
       "      <td>R-W-B-W-W-B-B-B-A-W-W-W-A-W-A-A-W-A-R-R-B-B-A...</td>\n",
       "      <td>R-W-B-W-W-B-B-B-A-W-W-W-A-W-A-A-W-A-R-R-B-B-A-...</td>\n",
       "      <td>[-16.95276779999999]</td>\n",
       "    </tr>\n",
       "    <tr>\n",
       "      <th>3121</th>\n",
       "      <td>What is a molecule with adsorption_energy -17....</td>\n",
       "      <td>R-A-A-R-A-R-W-B-W-A-R-B-W-R-B-R-W-B-A-B-A-B-A...</td>\n",
       "      <td>R-A-A-R-A-R-W-B-W-A-R-B-W-R-B-R-W-B-A-B-A-B-A-...</td>\n",
       "      <td>[-17.129209466666673]</td>\n",
       "    </tr>\n",
       "    <tr>\n",
       "      <th>3122</th>\n",
       "      <td>What is a molecule with adsorption_energy -16....</td>\n",
       "      <td>W-W-R-B-W-W-A-W-R-R-A-R-B-A-A-W-R-R-B-B-B-A-R...</td>\n",
       "      <td>W-W-R-B-W-W-A-W-R-R-A-R-B-A-A-W-R-R-B-B-B-A-R-...</td>\n",
       "      <td>[-16.361275533333345]</td>\n",
       "    </tr>\n",
       "    <tr>\n",
       "      <th>3123</th>\n",
       "      <td>What is a molecule with adsorption_energy -14....</td>\n",
       "      <td>B-A-B-B-R-W-A-R-W-R-B-W-R-W-R-R-W-B-W-A-A-B-A...</td>\n",
       "      <td>B-A-B-B-R-W-A-R-W-R-B-W-R-W-R-R-W-B-W-A-A-B-A-...</td>\n",
       "      <td>[-14.72941055555556]</td>\n",
       "    </tr>\n",
       "    <tr>\n",
       "      <th>3124</th>\n",
       "      <td>What is a molecule with adsorption_energy -16....</td>\n",
       "      <td>B-W-B-R-B-A-R-A-B-A-B-B-R-R-R-W-W-B-B-A-R-A-R...</td>\n",
       "      <td>B-W-B-R-B-A-R-A-B-A-B-B-R-R-R-W-W-B-B-A-R-A-R-...</td>\n",
       "      <td>[-16.89514980000001]</td>\n",
       "    </tr>\n",
       "  </tbody>\n",
       "</table>\n",
       "<p>3125 rows × 4 columns</p>\n",
       "</div>"
      ],
      "text/plain": [
       "                                                 prompt  \\\n",
       "0     What is a molecule with adsorption_energy -7.5...   \n",
       "1     What is a molecule with adsorption_energy -7.3...   \n",
       "2     What is a molecule with adsorption_energy -6.4...   \n",
       "3     What is a molecule with adsorption_energy -6.7...   \n",
       "4     What is a molecule with adsorption_energy -6.6...   \n",
       "...                                                 ...   \n",
       "3120  What is a molecule with adsorption_energy -17....   \n",
       "3121  What is a molecule with adsorption_energy -17....   \n",
       "3122  What is a molecule with adsorption_energy -16....   \n",
       "3123  What is a molecule with adsorption_energy -14....   \n",
       "3124  What is a molecule with adsorption_energy -16....   \n",
       "\n",
       "                                             completion  \\\n",
       "0                    W-A-B-W-W-A-A-A-R-W-B-B-R-R-B-R@@@   \n",
       "1                    R-W-W-R-R-B-B-B-A-A-A-W-W-A-R-B@@@   \n",
       "2                    A-R-A-W-B-W-A-R-B-W-A-B-B-R-W-R@@@   \n",
       "3                    W-A-R-A-B-B-B-W-A-W-B-R-A-W-R-R@@@   \n",
       "4                    R-R-B-B-W-R-A-W-R-W-A-B-A-A-W-B@@@   \n",
       "...                                                 ...   \n",
       "3120   R-W-B-W-W-B-B-B-A-W-W-W-A-W-A-A-W-A-R-R-B-B-A...   \n",
       "3121   R-A-A-R-A-R-W-B-W-A-R-B-W-R-B-R-W-B-A-B-A-B-A...   \n",
       "3122   W-W-R-B-W-W-A-W-R-R-A-R-B-A-A-W-R-R-B-B-B-A-R...   \n",
       "3123   B-A-B-B-R-W-A-R-W-R-B-W-R-W-R-R-W-B-W-A-A-B-A...   \n",
       "3124   B-W-B-R-B-A-R-A-B-A-B-B-R-R-R-W-W-B-B-A-R-A-R...   \n",
       "\n",
       "                                                  label         representation  \n",
       "0                       W-A-B-W-W-A-A-A-R-W-B-B-R-R-B-R   [-7.535286244444447]  \n",
       "1                       R-W-W-R-R-B-B-B-A-A-A-W-W-A-R-B   [-7.270527222222221]  \n",
       "2                       A-R-A-W-B-W-A-R-B-W-A-B-B-R-W-R   [-6.416311311111111]  \n",
       "3                       W-A-R-A-B-B-B-W-A-W-B-R-A-W-R-R   [-6.684815644444439]  \n",
       "4                       R-R-B-B-W-R-A-W-R-W-A-B-A-A-W-B   [-6.606492355555552]  \n",
       "...                                                 ...                    ...  \n",
       "3120  R-W-B-W-W-B-B-B-A-W-W-W-A-W-A-A-W-A-R-R-B-B-A-...   [-16.95276779999999]  \n",
       "3121  R-A-A-R-A-R-W-B-W-A-R-B-W-R-B-R-W-B-A-B-A-B-A-...  [-17.129209466666673]  \n",
       "3122  W-W-R-B-W-W-A-W-R-R-A-R-B-A-A-W-R-R-B-B-B-A-R-...  [-16.361275533333345]  \n",
       "3123  B-A-B-B-R-W-A-R-W-R-B-W-R-W-R-R-W-B-W-A-A-B-A-...   [-14.72941055555556]  \n",
       "3124  B-W-B-R-B-A-R-A-B-A-B-B-R-R-R-W-W-B-B-A-R-A-R-...   [-16.89514980000001]  \n",
       "\n",
       "[3125 rows x 4 columns]"
      ]
     },
     "execution_count": 16,
     "metadata": {},
     "output_type": "execute_result"
    }
   ],
   "source": [
    "formatted"
   ]
  },
  {
   "cell_type": "code",
   "execution_count": 6,
   "metadata": {},
   "outputs": [
    {
     "data": {
      "text/plain": [
       "{'monomer_squence': 'W-A-B-W-W-A-A-A-R-W-B-B-R-R-B-R',\n",
       " 'composition': {'W': 4, 'A': 4, 'B': 4, 'R': 4},\n",
       " 'smiles': '[W][Ta][Tr][W][W][Ta][Ta][Ta][R][W][Tr][Tr][R][R][Tr][R]',\n",
       " 'prediction': array([-6.1970377], dtype=float32),\n",
       " 'features':    head_tail_[W]  head_tail_[Tr]  head_tail_[Ta]  head_tail_[R]  \\\n",
       " 0              1               0               0              1   \n",
       " \n",
       "    total_clusters  num_[W]  max_[W]  min_[W]  mean_[W]  num_[Tr]  ...   [W]  \\\n",
       " 0               4     0.25        2        2       2.0      0.25  ...  0.25   \n",
       " \n",
       "    [Tr]  [Ta]   [R]  rel_shannon  length  total_solvent  std_solvent  \\\n",
       " 0  0.25  0.25  0.25          0.5      16            480     3.535534   \n",
       " \n",
       "    total_surface  std_surface  \n",
       " 0            400          5.0  \n",
       " \n",
       " [1 rows x 31 columns]}"
      ]
     },
     "execution_count": 6,
     "metadata": {},
     "output_type": "execute_result"
    }
   ],
   "source": [
    "polymer_string2performance(formatted.iloc[0][\"label\"])"
   ]
  },
  {
   "cell_type": "code",
   "execution_count": 18,
   "metadata": {},
   "outputs": [],
   "source": [
    "kldiv_benchmark = PolymerKLDivBenchmark(formatted.iloc[80:]['label'], 20)"
   ]
  },
  {
   "cell_type": "code",
   "execution_count": 19,
   "metadata": {},
   "outputs": [
    {
     "ename": "KeyError",
     "evalue": "'num_[W]'",
     "output_type": "error",
     "traceback": [
      "\u001b[0;31m---------------------------------------------------------------------------\u001b[0m",
      "\u001b[0;31mKeyError\u001b[0m                                  Traceback (most recent call last)",
      "File \u001b[0;32m~/miniconda3/envs/gptchem/lib/python3.9/site-packages/pandas/core/indexes/base.py:3803\u001b[0m, in \u001b[0;36mIndex.get_loc\u001b[0;34m(self, key, method, tolerance)\u001b[0m\n\u001b[1;32m   3802\u001b[0m \u001b[39mtry\u001b[39;00m:\n\u001b[0;32m-> 3803\u001b[0m     \u001b[39mreturn\u001b[39;00m \u001b[39mself\u001b[39;49m\u001b[39m.\u001b[39;49m_engine\u001b[39m.\u001b[39;49mget_loc(casted_key)\n\u001b[1;32m   3804\u001b[0m \u001b[39mexcept\u001b[39;00m \u001b[39mKeyError\u001b[39;00m \u001b[39mas\u001b[39;00m err:\n",
      "File \u001b[0;32m~/miniconda3/envs/gptchem/lib/python3.9/site-packages/pandas/_libs/index.pyx:138\u001b[0m, in \u001b[0;36mpandas._libs.index.IndexEngine.get_loc\u001b[0;34m()\u001b[0m\n",
      "File \u001b[0;32m~/miniconda3/envs/gptchem/lib/python3.9/site-packages/pandas/_libs/index.pyx:146\u001b[0m, in \u001b[0;36mpandas._libs.index.IndexEngine.get_loc\u001b[0;34m()\u001b[0m\n",
      "File \u001b[0;32mpandas/_libs/index_class_helper.pxi:49\u001b[0m, in \u001b[0;36mpandas._libs.index.Int64Engine._check_type\u001b[0;34m()\u001b[0m\n",
      "\u001b[0;31mKeyError\u001b[0m: 'num_[W]'",
      "\nThe above exception was the direct cause of the following exception:\n",
      "\u001b[0;31mKeyError\u001b[0m                                  Traceback (most recent call last)",
      "Cell \u001b[0;32mIn[19], line 1\u001b[0m\n\u001b[0;32m----> 1\u001b[0m kldiv_benchmark\u001b[39m.\u001b[39;49mscore(formatted\u001b[39m.\u001b[39;49miloc[\u001b[39m0\u001b[39;49m:\u001b[39m40\u001b[39;49m][\u001b[39m'\u001b[39;49m\u001b[39mlabel\u001b[39;49m\u001b[39m'\u001b[39;49m])\n",
      "File \u001b[0;32m~/git/kjappelbaum/gptchem/src/gptchem/evaluator.py:603\u001b[0m, in \u001b[0;36mPolymerKLDivBenchmark.score\u001b[0;34m(self, test_polymers)\u001b[0m\n\u001b[1;32m    600\u001b[0m \u001b[39m# now we calculate the kl divergence for the float valued descriptors ...\u001b[39;00m\n\u001b[1;32m    601\u001b[0m \u001b[39mfor\u001b[39;00m i, feat \u001b[39min\u001b[39;00m \u001b[39menumerate\u001b[39m(POLYMER_FEATURES):\n\u001b[1;32m    602\u001b[0m     kldiv \u001b[39m=\u001b[39m continuous_kldiv(\n\u001b[0;32m--> 603\u001b[0m         X_baseline\u001b[39m=\u001b[39m\u001b[39mself\u001b[39;49m\u001b[39m.\u001b[39;49mtraining_set[feat]\u001b[39m.\u001b[39mvalues, X_sampled\u001b[39m=\u001b[39mtest_set[feat]\u001b[39m.\u001b[39mvalues, pca\u001b[39m=\u001b[39m\u001b[39mTrue\u001b[39;00m\n\u001b[1;32m    604\u001b[0m     )\n\u001b[1;32m    605\u001b[0m     kldivs[feat] \u001b[39m=\u001b[39m kldiv\n\u001b[1;32m    607\u001b[0m \u001b[39m# Each KL divergence value is transformed to be in [0, 1].\u001b[39;00m\n\u001b[1;32m    608\u001b[0m \u001b[39m# Then their average delivers the final score.\u001b[39;00m\n",
      "File \u001b[0;32m~/miniconda3/envs/gptchem/lib/python3.9/site-packages/pandas/core/series.py:981\u001b[0m, in \u001b[0;36mSeries.__getitem__\u001b[0;34m(self, key)\u001b[0m\n\u001b[1;32m    978\u001b[0m     \u001b[39mreturn\u001b[39;00m \u001b[39mself\u001b[39m\u001b[39m.\u001b[39m_values[key]\n\u001b[1;32m    980\u001b[0m \u001b[39melif\u001b[39;00m key_is_scalar:\n\u001b[0;32m--> 981\u001b[0m     \u001b[39mreturn\u001b[39;00m \u001b[39mself\u001b[39;49m\u001b[39m.\u001b[39;49m_get_value(key)\n\u001b[1;32m    983\u001b[0m \u001b[39mif\u001b[39;00m is_hashable(key):\n\u001b[1;32m    984\u001b[0m     \u001b[39m# Otherwise index.get_value will raise InvalidIndexError\u001b[39;00m\n\u001b[1;32m    985\u001b[0m     \u001b[39mtry\u001b[39;00m:\n\u001b[1;32m    986\u001b[0m         \u001b[39m# For labels that don't resolve as scalars like tuples and frozensets\u001b[39;00m\n",
      "File \u001b[0;32m~/miniconda3/envs/gptchem/lib/python3.9/site-packages/pandas/core/series.py:1089\u001b[0m, in \u001b[0;36mSeries._get_value\u001b[0;34m(self, label, takeable)\u001b[0m\n\u001b[1;32m   1086\u001b[0m     \u001b[39mreturn\u001b[39;00m \u001b[39mself\u001b[39m\u001b[39m.\u001b[39m_values[label]\n\u001b[1;32m   1088\u001b[0m \u001b[39m# Similar to Index.get_value, but we do not fall back to positional\u001b[39;00m\n\u001b[0;32m-> 1089\u001b[0m loc \u001b[39m=\u001b[39m \u001b[39mself\u001b[39;49m\u001b[39m.\u001b[39;49mindex\u001b[39m.\u001b[39;49mget_loc(label)\n\u001b[1;32m   1090\u001b[0m \u001b[39mreturn\u001b[39;00m \u001b[39mself\u001b[39m\u001b[39m.\u001b[39mindex\u001b[39m.\u001b[39m_get_values_for_loc(\u001b[39mself\u001b[39m, loc, label)\n",
      "File \u001b[0;32m~/miniconda3/envs/gptchem/lib/python3.9/site-packages/pandas/core/indexes/base.py:3805\u001b[0m, in \u001b[0;36mIndex.get_loc\u001b[0;34m(self, key, method, tolerance)\u001b[0m\n\u001b[1;32m   3803\u001b[0m     \u001b[39mreturn\u001b[39;00m \u001b[39mself\u001b[39m\u001b[39m.\u001b[39m_engine\u001b[39m.\u001b[39mget_loc(casted_key)\n\u001b[1;32m   3804\u001b[0m \u001b[39mexcept\u001b[39;00m \u001b[39mKeyError\u001b[39;00m \u001b[39mas\u001b[39;00m err:\n\u001b[0;32m-> 3805\u001b[0m     \u001b[39mraise\u001b[39;00m \u001b[39mKeyError\u001b[39;00m(key) \u001b[39mfrom\u001b[39;00m \u001b[39merr\u001b[39;00m\n\u001b[1;32m   3806\u001b[0m \u001b[39mexcept\u001b[39;00m \u001b[39mTypeError\u001b[39;00m:\n\u001b[1;32m   3807\u001b[0m     \u001b[39m# If we have a listlike key, _check_indexing_error will raise\u001b[39;00m\n\u001b[1;32m   3808\u001b[0m     \u001b[39m#  InvalidIndexError. Otherwise we fall through and re-raise\u001b[39;00m\n\u001b[1;32m   3809\u001b[0m     \u001b[39m#  the TypeError.\u001b[39;00m\n\u001b[1;32m   3810\u001b[0m     \u001b[39mself\u001b[39m\u001b[39m.\u001b[39m_check_indexing_error(key)\n",
      "\u001b[0;31mKeyError\u001b[0m: 'num_[W]'"
     ]
    }
   ],
   "source": [
    "kldiv_benchmark.score(formatted.iloc[0:40]['label'])"
   ]
  },
  {
   "cell_type": "code",
   "execution_count": 20,
   "metadata": {},
   "outputs": [
    {
     "name": "stdout",
     "output_type": "stream",
     "text": [
      "\u001b[0;31mSignature:\u001b[0m \u001b[0mstring_distances\u001b[0m\u001b[0;34m(\u001b[0m\u001b[0mtraining_set\u001b[0m\u001b[0;34m:\u001b[0m \u001b[0mCollection\u001b[0m\u001b[0;34m[\u001b[0m\u001b[0mstr\u001b[0m\u001b[0;34m]\u001b[0m\u001b[0;34m,\u001b[0m \u001b[0mquery_string\u001b[0m\u001b[0;34m:\u001b[0m \u001b[0mstr\u001b[0m\u001b[0;34m)\u001b[0m \u001b[0;34m->\u001b[0m \u001b[0mdict\u001b[0m\u001b[0;34m\u001b[0m\u001b[0;34m\u001b[0m\u001b[0m\n",
      "\u001b[0;31mDocstring:\u001b[0m\n",
      "Calculate the distances between the query string and the training set.\n",
      "\n",
      "Args:\n",
      "    training_set (Collection[str]): The training set\n",
      "    query_string (str): The query string\n",
      "\n",
      "Returns:\n",
      "    dict: A dictionary with the distances, the min, max, mean and the expected length\n",
      "\n",
      "Example:\n",
      "    >>> training_set = [\"AAA\", \"BBB\", \"CCC\"]\n",
      "    >>> query_string = \"BBB\"\n",
      "    >>> result = string_distances(training_set, query_string)\n",
      "    assert result[\"NormalizedLevenshtein_min\"] == 0.0\n",
      "    assert result[\"NormalizedLevenshtein_max\"] == 1.0\n",
      "\u001b[0;31mFile:\u001b[0m      ~/git/kjappelbaum/gptchem/src/gptchem/evaluator.py\n",
      "\u001b[0;31mType:\u001b[0m      function\n"
     ]
    }
   ],
   "source": [
    "?string_distances"
   ]
  },
  {
   "cell_type": "code",
   "execution_count": 21,
   "metadata": {},
   "outputs": [
    {
     "data": {
      "text/plain": [
       "{'Levenshtein_min': 0.0,\n",
       " 'Levenshtein_max': 18.0,\n",
       " 'Levenshtein_mean': 12.4,\n",
       " 'Levenshtein_std': 4.543126676640219,\n",
       " 'NormalizedLevenshtein_min': 0.0,\n",
       " 'NormalizedLevenshtein_max': 0.5142857142857142,\n",
       " 'NormalizedLevenshtein_mean': 0.3734562211981567,\n",
       " 'NormalizedLevenshtein_std': 0.13521010617991372,\n",
       " 'LongestCommonSubsequence_min': 0.0,\n",
       " 'LongestCommonSubsequence_max': 26.0,\n",
       " 'LongestCommonSubsequence_mean': 19.6,\n",
       " 'LongestCommonSubsequence_std': 6.916646586316233}"
      ]
     },
     "execution_count": 21,
     "metadata": {},
     "output_type": "execute_result"
    }
   ],
   "source": [
    "string_distances(formatted.iloc[0:10][\"label\"], formatted.iloc[1][\"label\"])"
   ]
  },
  {
   "cell_type": "code",
   "execution_count": 22,
   "metadata": {},
   "outputs": [],
   "source": [
    "metrics = get_inverse_polymer_metrics(\n",
    "    formatted.iloc[0:50][\"label\"] + \"rfer\",\n",
    "    df_test=formatted.iloc[50:100],\n",
    "    df_train=formatted.iloc[100:200],\n",
    ")"
   ]
  },
  {
   "cell_type": "code",
   "execution_count": 24,
   "metadata": {},
   "outputs": [
    {
     "data": {
      "text/plain": [
       "dict_keys(['composition_mismatches', 'summary_composition_mismatches', 'losses', 'kldiv_score', 'valid_smiles_fraction', 'valid_indices', 'valid_polymers', 'unique_smiles_fraction', 'novel_smiles_fraction', 'generated_sequences', 'predictions', 'string_distances_collection', 'string_distances_collection_summary'])"
      ]
     },
     "execution_count": 24,
     "metadata": {},
     "output_type": "execute_result"
    }
   ],
   "source": [
    "metrics.keys()"
   ]
  },
  {
   "cell_type": "code",
   "execution_count": 25,
   "metadata": {},
   "outputs": [
    {
     "data": {
      "text/plain": [
       "{'min': 0.0, 'max': 0.0, 'mean': 0.0, 'expected_len': 0.0, 'found_len': 0.0}"
      ]
     },
     "execution_count": 25,
     "metadata": {},
     "output_type": "execute_result"
    }
   ],
   "source": [
    "metrics['summary_composition_mismatches']"
   ]
  },
  {
   "cell_type": "code",
   "execution_count": 27,
   "metadata": {},
   "outputs": [
    {
     "data": {
      "text/plain": [
       "{'Levenshtein_min': 14.7,\n",
       " 'Levenshtein_max': 31.96,\n",
       " 'Levenshtein_mean': 22.2034,\n",
       " 'Levenshtein_std': 3.81781238067424,\n",
       " 'NormalizedLevenshtein_min': 0.32251644931215323,\n",
       " 'NormalizedLevenshtein_max': 0.5295707279117129,\n",
       " 'NormalizedLevenshtein_mean': 0.433501519941204,\n",
       " 'NormalizedLevenshtein_std': 0.04222193413567687,\n",
       " 'LongestCommonSubsequence_min': 22.8,\n",
       " 'LongestCommonSubsequence_max': 43.48,\n",
       " 'LongestCommonSubsequence_mean': 33.053200000000004,\n",
       " 'LongestCommonSubsequence_std': 4.304929640528428}"
      ]
     },
     "execution_count": 27,
     "metadata": {},
     "output_type": "execute_result"
    }
   ],
   "source": [
    "metrics['string_distances_collection_summary']"
   ]
  },
  {
   "cell_type": "code",
   "execution_count": 43,
   "metadata": {},
   "outputs": [
    {
     "data": {
      "text/plain": [
       "1.0"
      ]
     },
     "execution_count": 43,
     "metadata": {},
     "output_type": "execute_result"
    }
   ],
   "source": [
    "metrics['novel_smiles_fraction']"
   ]
  },
  {
   "cell_type": "code",
   "execution_count": 9,
   "metadata": {},
   "outputs": [
    {
     "data": {
      "text/html": [
       "<div>\n",
       "<style scoped>\n",
       "    .dataframe tbody tr th:only-of-type {\n",
       "        vertical-align: middle;\n",
       "    }\n",
       "\n",
       "    .dataframe tbody tr th {\n",
       "        vertical-align: top;\n",
       "    }\n",
       "\n",
       "    .dataframe thead th {\n",
       "        text-align: right;\n",
       "    }\n",
       "</style>\n",
       "<table border=\"1\" class=\"dataframe\">\n",
       "  <thead>\n",
       "    <tr style=\"text-align: right;\">\n",
       "      <th></th>\n",
       "      <th>prompt</th>\n",
       "      <th>completion</th>\n",
       "      <th>label</th>\n",
       "      <th>representation</th>\n",
       "    </tr>\n",
       "  </thead>\n",
       "  <tbody>\n",
       "    <tr>\n",
       "      <th>0</th>\n",
       "      <td>What is a molecule with adsorption_energy -7.5...</td>\n",
       "      <td>W-A-B-W-W-A-A-A-R-W-B-B-R-R-B-R@@@</td>\n",
       "      <td>W-A-B-W-W-A-A-A-R-W-B-B-R-R-B-R</td>\n",
       "      <td>[-7.535286244444447]</td>\n",
       "    </tr>\n",
       "    <tr>\n",
       "      <th>1</th>\n",
       "      <td>What is a molecule with adsorption_energy -7.3...</td>\n",
       "      <td>R-W-W-R-R-B-B-B-A-A-A-W-W-A-R-B@@@</td>\n",
       "      <td>R-W-W-R-R-B-B-B-A-A-A-W-W-A-R-B</td>\n",
       "      <td>[-7.270527222222221]</td>\n",
       "    </tr>\n",
       "    <tr>\n",
       "      <th>2</th>\n",
       "      <td>What is a molecule with adsorption_energy -6.4...</td>\n",
       "      <td>A-R-A-W-B-W-A-R-B-W-A-B-B-R-W-R@@@</td>\n",
       "      <td>A-R-A-W-B-W-A-R-B-W-A-B-B-R-W-R</td>\n",
       "      <td>[-6.416311311111111]</td>\n",
       "    </tr>\n",
       "    <tr>\n",
       "      <th>3</th>\n",
       "      <td>What is a molecule with adsorption_energy -6.7...</td>\n",
       "      <td>W-A-R-A-B-B-B-W-A-W-B-R-A-W-R-R@@@</td>\n",
       "      <td>W-A-R-A-B-B-B-W-A-W-B-R-A-W-R-R</td>\n",
       "      <td>[-6.684815644444439]</td>\n",
       "    </tr>\n",
       "    <tr>\n",
       "      <th>4</th>\n",
       "      <td>What is a molecule with adsorption_energy -6.6...</td>\n",
       "      <td>R-R-B-B-W-R-A-W-R-W-A-B-A-A-W-B@@@</td>\n",
       "      <td>R-R-B-B-W-R-A-W-R-W-A-B-A-A-W-B</td>\n",
       "      <td>[-6.606492355555552]</td>\n",
       "    </tr>\n",
       "    <tr>\n",
       "      <th>5</th>\n",
       "      <td>What is a molecule with adsorption_energy -6.2...</td>\n",
       "      <td>W-B-B-A-W-A-W-W-A-R-W-R-B-R-W-B-A-R@@@</td>\n",
       "      <td>W-B-B-A-W-A-W-W-A-R-W-R-B-R-W-B-A-R</td>\n",
       "      <td>[-6.210183644444443]</td>\n",
       "    </tr>\n",
       "    <tr>\n",
       "      <th>6</th>\n",
       "      <td>What is a molecule with adsorption_energy -6.6...</td>\n",
       "      <td>W-W-B-W-R-B-R-A-W-B-A-A-W-R-W-B-A-R@@@</td>\n",
       "      <td>W-W-B-W-R-B-R-A-W-B-A-A-W-R-W-B-A-R</td>\n",
       "      <td>[-6.616805355555557]</td>\n",
       "    </tr>\n",
       "    <tr>\n",
       "      <th>7</th>\n",
       "      <td>What is a molecule with adsorption_energy -5.6...</td>\n",
       "      <td>B-B-A-B-A-W-R-W-R-W-B-R-W-A-W-W-A-R@@@</td>\n",
       "      <td>B-B-A-B-A-W-R-W-R-W-B-R-W-A-W-W-A-R</td>\n",
       "      <td>[-5.5528067555555545]</td>\n",
       "    </tr>\n",
       "    <tr>\n",
       "      <th>8</th>\n",
       "      <td>What is a molecule with adsorption_energy -6.4...</td>\n",
       "      <td>R-W-R-A-R-A-B-W-W-W-B-B-W-W-A-B-A-R@@@</td>\n",
       "      <td>R-W-R-A-R-A-B-W-W-W-B-B-W-W-A-B-A-R</td>\n",
       "      <td>[-6.361648266666666]</td>\n",
       "    </tr>\n",
       "    <tr>\n",
       "      <th>9</th>\n",
       "      <td>What is a molecule with adsorption_energy -6.6...</td>\n",
       "      <td>B-B-W-W-B-W-R-A-A-B-A-W-A-R-R-R-W-W@@@</td>\n",
       "      <td>B-B-W-W-B-W-R-A-A-B-A-W-A-R-R-R-W-W</td>\n",
       "      <td>[-6.6253376444444445]</td>\n",
       "    </tr>\n",
       "  </tbody>\n",
       "</table>\n",
       "</div>"
      ],
      "text/plain": [
       "                                              prompt  \\\n",
       "0  What is a molecule with adsorption_energy -7.5...   \n",
       "1  What is a molecule with adsorption_energy -7.3...   \n",
       "2  What is a molecule with adsorption_energy -6.4...   \n",
       "3  What is a molecule with adsorption_energy -6.7...   \n",
       "4  What is a molecule with adsorption_energy -6.6...   \n",
       "5  What is a molecule with adsorption_energy -6.2...   \n",
       "6  What is a molecule with adsorption_energy -6.6...   \n",
       "7  What is a molecule with adsorption_energy -5.6...   \n",
       "8  What is a molecule with adsorption_energy -6.4...   \n",
       "9  What is a molecule with adsorption_energy -6.6...   \n",
       "\n",
       "                                completion  \\\n",
       "0       W-A-B-W-W-A-A-A-R-W-B-B-R-R-B-R@@@   \n",
       "1       R-W-W-R-R-B-B-B-A-A-A-W-W-A-R-B@@@   \n",
       "2       A-R-A-W-B-W-A-R-B-W-A-B-B-R-W-R@@@   \n",
       "3       W-A-R-A-B-B-B-W-A-W-B-R-A-W-R-R@@@   \n",
       "4       R-R-B-B-W-R-A-W-R-W-A-B-A-A-W-B@@@   \n",
       "5   W-B-B-A-W-A-W-W-A-R-W-R-B-R-W-B-A-R@@@   \n",
       "6   W-W-B-W-R-B-R-A-W-B-A-A-W-R-W-B-A-R@@@   \n",
       "7   B-B-A-B-A-W-R-W-R-W-B-R-W-A-W-W-A-R@@@   \n",
       "8   R-W-R-A-R-A-B-W-W-W-B-B-W-W-A-B-A-R@@@   \n",
       "9   B-B-W-W-B-W-R-A-A-B-A-W-A-R-R-R-W-W@@@   \n",
       "\n",
       "                                 label         representation  \n",
       "0      W-A-B-W-W-A-A-A-R-W-B-B-R-R-B-R   [-7.535286244444447]  \n",
       "1      R-W-W-R-R-B-B-B-A-A-A-W-W-A-R-B   [-7.270527222222221]  \n",
       "2      A-R-A-W-B-W-A-R-B-W-A-B-B-R-W-R   [-6.416311311111111]  \n",
       "3      W-A-R-A-B-B-B-W-A-W-B-R-A-W-R-R   [-6.684815644444439]  \n",
       "4      R-R-B-B-W-R-A-W-R-W-A-B-A-A-W-B   [-6.606492355555552]  \n",
       "5  W-B-B-A-W-A-W-W-A-R-W-R-B-R-W-B-A-R   [-6.210183644444443]  \n",
       "6  W-W-B-W-R-B-R-A-W-B-A-A-W-R-W-B-A-R   [-6.616805355555557]  \n",
       "7  B-B-A-B-A-W-R-W-R-W-B-R-W-A-W-W-A-R  [-5.5528067555555545]  \n",
       "8  R-W-R-A-R-A-B-W-W-W-B-B-W-W-A-B-A-R   [-6.361648266666666]  \n",
       "9  B-B-W-W-B-W-R-A-A-B-A-W-A-R-R-R-W-W  [-6.6253376444444445]  "
      ]
     },
     "execution_count": 9,
     "metadata": {},
     "output_type": "execute_result"
    }
   ],
   "source": [
    "formatted.iloc[0:10]"
   ]
  },
  {
   "cell_type": "code",
   "execution_count": null,
   "metadata": {},
   "outputs": [],
   "source": []
  }
 ],
 "metadata": {
  "kernelspec": {
   "display_name": "gptchem",
   "language": "python",
   "name": "python3"
  },
  "language_info": {
   "codemirror_mode": {
    "name": "ipython",
    "version": 3
   },
   "file_extension": ".py",
   "mimetype": "text/x-python",
   "name": "python",
   "nbconvert_exporter": "python",
   "pygments_lexer": "ipython3",
   "version": "3.9.15 (main, Nov 24 2022, 08:28:41) \n[Clang 14.0.6 ]"
  },
  "orig_nbformat": 4,
  "vscode": {
   "interpreter": {
    "hash": "2f3b9074e5baa1438c27e2ea813f7f53b7516c83bd70840b6d64eae6820ee5df"
   }
  }
 },
 "nbformat": 4,
 "nbformat_minor": 2
}
