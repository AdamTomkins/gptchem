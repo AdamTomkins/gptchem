{
 "cells": [
  {
   "cell_type": "code",
   "execution_count": 1,
   "metadata": {},
   "outputs": [],
   "source": [
    "%load_ext autoreload\n",
    "%autoreload 2"
   ]
  },
  {
   "cell_type": "code",
   "execution_count": 2,
   "metadata": {},
   "outputs": [],
   "source": [
    "from sklearn.model_selection import train_test_split\n",
    "\n",
    "from gptchem.data import get_polymer_data\n",
    "from gptchem.evaluator import PolymerKLDivBenchmark, polymer_string2performance, string_distances\n",
    "from gptchem.formatter import InverseDesignFormatter"
   ]
  },
  {
   "cell_type": "code",
   "execution_count": 3,
   "metadata": {},
   "outputs": [],
   "source": [
    "data = get_polymer_data()"
   ]
  },
  {
   "cell_type": "code",
   "execution_count": 4,
   "metadata": {},
   "outputs": [],
   "source": [
    "formatter = InverseDesignFormatter(\n",
    "    representation_column=\"string\",\n",
    "    property_columns=[\"deltaGmin\"],\n",
    "    property_names=[\"adsorption_energy\"],\n",
    ")"
   ]
  },
  {
   "cell_type": "code",
   "execution_count": 5,
   "metadata": {},
   "outputs": [],
   "source": [
    "formatted = formatter(data)"
   ]
  },
  {
   "cell_type": "code",
   "execution_count": 6,
   "metadata": {},
   "outputs": [
    {
     "data": {
      "text/plain": [
       "{'monomer_squence': 'W-A-B-W-W-A-A-A-R-W-B-B-R-R-B-R',\n",
       " 'composition': {'W': 4, 'A': 4, 'B': 4, 'R': 4},\n",
       " 'smiles': '[W][Ta][Tr][W][W][Ta][Ta][Ta][R][W][Tr][Tr][R][R][Tr][R]',\n",
       " 'prediction': array([-6.1970377], dtype=float32),\n",
       " 'features':    head_tail_[W]  head_tail_[Tr]  head_tail_[Ta]  head_tail_[R]  \\\n",
       " 0              1               0               0              1   \n",
       " \n",
       "    total_clusters  num_[W]  max_[W]  min_[W]  mean_[W]  num_[Tr]  ...   [W]  \\\n",
       " 0               4     0.25        2        2       2.0      0.25  ...  0.25   \n",
       " \n",
       "    [Tr]  [Ta]   [R]  rel_shannon  length  total_solvent  std_solvent  \\\n",
       " 0  0.25  0.25  0.25          0.5      16            480     3.535534   \n",
       " \n",
       "    total_surface  std_surface  \n",
       " 0            400          5.0  \n",
       " \n",
       " [1 rows x 31 columns]}"
      ]
     },
     "execution_count": 6,
     "metadata": {},
     "output_type": "execute_result"
    }
   ],
   "source": [
    "polymer_string2performance(formatted.iloc[0][\"label\"])"
   ]
  },
  {
   "cell_type": "code",
   "execution_count": 39,
   "metadata": {},
   "outputs": [],
   "source": [
    "kldiv_benchmark = PolymerKLDivBenchmark(data.iloc[80:], 20)"
   ]
  },
  {
   "cell_type": "code",
   "execution_count": 40,
   "metadata": {},
   "outputs": [
    {
     "data": {
      "text/plain": [
       "0.5348989420975668"
      ]
     },
     "execution_count": 40,
     "metadata": {},
     "output_type": "execute_result"
    }
   ],
   "source": [
    "kldiv_benchmark.score(data.iloc[0:40])"
   ]
  },
  {
   "cell_type": "code",
   "execution_count": 7,
   "metadata": {},
   "outputs": [
    {
     "name": "stdout",
     "output_type": "stream",
     "text": [
      "\u001b[0;31mSignature:\u001b[0m \u001b[0mstring_distances\u001b[0m\u001b[0;34m(\u001b[0m\u001b[0mtraining_set\u001b[0m\u001b[0;34m:\u001b[0m \u001b[0mCollection\u001b[0m\u001b[0;34m[\u001b[0m\u001b[0mstr\u001b[0m\u001b[0;34m]\u001b[0m\u001b[0;34m,\u001b[0m \u001b[0mquery_string\u001b[0m\u001b[0;34m:\u001b[0m \u001b[0mstr\u001b[0m\u001b[0;34m)\u001b[0m \u001b[0;34m->\u001b[0m \u001b[0mdict\u001b[0m\u001b[0;34m\u001b[0m\u001b[0;34m\u001b[0m\u001b[0m\n",
      "\u001b[0;31mDocstring:\u001b[0m\n",
      "Calculate the distances between the query string and the training set.\n",
      "\n",
      "Args:\n",
      "    training_set (Collection[str]): The training set\n",
      "    query_string (str): The query string\n",
      "\n",
      "Returns:\n",
      "    dict: A dictionary with the distances, the min, max, mean and the expected length\n",
      "\n",
      "Example:\n",
      "    >>> training_set = [\"AAA\", \"BBB\", \"CCC\"]\n",
      "    >>> query_string = \"BBB\"\n",
      "    >>> result = string_distances(training_set, query_string)\n",
      "    assert result[\"NormalizedLevenshtein_min\"] == 0.0\n",
      "    assert result[\"NormalizedLevenshtein_max\"] == 1.0\n",
      "\u001b[0;31mFile:\u001b[0m      ~/git/kjappelbaum/gptchem/src/gptchem/evaluator.py\n",
      "\u001b[0;31mType:\u001b[0m      function\n"
     ]
    }
   ],
   "source": [
    "?string_distances"
   ]
  },
  {
   "cell_type": "code",
   "execution_count": 8,
   "metadata": {},
   "outputs": [
    {
     "data": {
      "text/plain": [
       "{'Levenshtein_min': 0.0,\n",
       " 'Levenshtein_max': 18.0,\n",
       " 'Levenshtein_mean': 12.4,\n",
       " 'Levenshtein_std': 4.543126676640219,\n",
       " 'NormalizedLevenshtein_min': 0.0,\n",
       " 'NormalizedLevenshtein_max': 0.5142857142857142,\n",
       " 'NormalizedLevenshtein_mean': 0.3734562211981567,\n",
       " 'NormalizedLevenshtein_std': 0.13521010617991372,\n",
       " 'LongestCommonSubsequence_min': 0.0,\n",
       " 'LongestCommonSubsequence_max': 26.0,\n",
       " 'LongestCommonSubsequence_mean': 19.6,\n",
       " 'LongestCommonSubsequence_std': 6.916646586316233}"
      ]
     },
     "execution_count": 8,
     "metadata": {},
     "output_type": "execute_result"
    }
   ],
   "source": [
    "string_distances(formatted.iloc[0:10][\"label\"], formatted.iloc[1][\"label\"])"
   ]
  },
  {
   "cell_type": "code",
   "execution_count": null,
   "metadata": {},
   "outputs": [],
   "source": []
  }
 ],
 "metadata": {
  "kernelspec": {
   "display_name": "gptchem",
   "language": "python",
   "name": "python3"
  },
  "language_info": {
   "codemirror_mode": {
    "name": "ipython",
    "version": 3
   },
   "file_extension": ".py",
   "mimetype": "text/x-python",
   "name": "python",
   "nbconvert_exporter": "python",
   "pygments_lexer": "ipython3",
   "version": "3.9.15"
  },
  "orig_nbformat": 4,
  "vscode": {
   "interpreter": {
    "hash": "2f3b9074e5baa1438c27e2ea813f7f53b7516c83bd70840b6d64eae6820ee5df"
   }
  }
 },
 "nbformat": 4,
 "nbformat_minor": 2
}
