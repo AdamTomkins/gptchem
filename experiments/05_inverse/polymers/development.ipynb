{
 "cells": [
  {
   "cell_type": "code",
   "execution_count": 1,
   "metadata": {},
   "outputs": [],
   "source": [
    "%load_ext autoreload\n",
    "%autoreload 2"
   ]
  },
  {
   "cell_type": "code",
   "execution_count": 2,
   "metadata": {},
   "outputs": [],
   "source": [
    "from sklearn.model_selection import train_test_split\n",
    "\n",
    "from gptchem.data import get_polymer_data\n",
    "from gptchem.evaluator import PolymerKLDivBenchmark, polymer_string2performance, string_distances, get_inverse_polymer_metrics\n",
    "from gptchem.formatter import InverseDesignFormatter"
   ]
  },
  {
   "cell_type": "code",
   "execution_count": 3,
   "metadata": {},
   "outputs": [],
   "source": [
    "data = get_polymer_data()"
   ]
  },
  {
   "cell_type": "code",
   "execution_count": 4,
   "metadata": {},
   "outputs": [],
   "source": [
    "formatter = InverseDesignFormatter(\n",
    "    representation_column=\"string\",\n",
    "    property_columns=[\"deltaGmin\"],\n",
    "    property_names=[\"adsorption_energy\"],\n",
    ")"
   ]
  },
  {
   "cell_type": "code",
   "execution_count": 5,
   "metadata": {},
   "outputs": [],
   "source": [
    "formatted = formatter(data)"
   ]
  },
  {
   "cell_type": "code",
   "execution_count": 6,
   "metadata": {},
   "outputs": [
    {
     "data": {
      "text/plain": [
       "{'monomer_squence': 'W-A-B-W-W-A-A-A-R-W-B-B-R-R-B-R',\n",
       " 'composition': {'W': 4, 'A': 4, 'B': 4, 'R': 4},\n",
       " 'smiles': '[W][Ta][Tr][W][W][Ta][Ta][Ta][R][W][Tr][Tr][R][R][Tr][R]',\n",
       " 'prediction': array([-6.1970377], dtype=float32),\n",
       " 'features':    head_tail_[W]  head_tail_[Tr]  head_tail_[Ta]  head_tail_[R]  \\\n",
       " 0              1               0               0              1   \n",
       " \n",
       "    total_clusters  num_[W]  max_[W]  min_[W]  mean_[W]  num_[Tr]  ...   [W]  \\\n",
       " 0               4     0.25        2        2       2.0      0.25  ...  0.25   \n",
       " \n",
       "    [Tr]  [Ta]   [R]  rel_shannon  length  total_solvent  std_solvent  \\\n",
       " 0  0.25  0.25  0.25          0.5      16            480     3.535534   \n",
       " \n",
       "    total_surface  std_surface  \n",
       " 0            400          5.0  \n",
       " \n",
       " [1 rows x 31 columns]}"
      ]
     },
     "execution_count": 6,
     "metadata": {},
     "output_type": "execute_result"
    }
   ],
   "source": [
    "polymer_string2performance(formatted.iloc[0][\"label\"])"
   ]
  },
  {
   "cell_type": "code",
   "execution_count": 39,
   "metadata": {},
   "outputs": [],
   "source": [
    "kldiv_benchmark = PolymerKLDivBenchmark(data.iloc[80:], 20)"
   ]
  },
  {
   "cell_type": "code",
   "execution_count": 40,
   "metadata": {},
   "outputs": [
    {
     "data": {
      "text/plain": [
       "0.5348989420975668"
      ]
     },
     "execution_count": 40,
     "metadata": {},
     "output_type": "execute_result"
    }
   ],
   "source": [
    "kldiv_benchmark.score(data.iloc[0:40])"
   ]
  },
  {
   "cell_type": "code",
   "execution_count": 7,
   "metadata": {},
   "outputs": [
    {
     "name": "stdout",
     "output_type": "stream",
     "text": [
      "\u001b[0;31mSignature:\u001b[0m \u001b[0mstring_distances\u001b[0m\u001b[0;34m(\u001b[0m\u001b[0mtraining_set\u001b[0m\u001b[0;34m:\u001b[0m \u001b[0mCollection\u001b[0m\u001b[0;34m[\u001b[0m\u001b[0mstr\u001b[0m\u001b[0;34m]\u001b[0m\u001b[0;34m,\u001b[0m \u001b[0mquery_string\u001b[0m\u001b[0;34m:\u001b[0m \u001b[0mstr\u001b[0m\u001b[0;34m)\u001b[0m \u001b[0;34m->\u001b[0m \u001b[0mdict\u001b[0m\u001b[0;34m\u001b[0m\u001b[0;34m\u001b[0m\u001b[0m\n",
      "\u001b[0;31mDocstring:\u001b[0m\n",
      "Calculate the distances between the query string and the training set.\n",
      "\n",
      "Args:\n",
      "    training_set (Collection[str]): The training set\n",
      "    query_string (str): The query string\n",
      "\n",
      "Returns:\n",
      "    dict: A dictionary with the distances, the min, max, mean and the expected length\n",
      "\n",
      "Example:\n",
      "    >>> training_set = [\"AAA\", \"BBB\", \"CCC\"]\n",
      "    >>> query_string = \"BBB\"\n",
      "    >>> result = string_distances(training_set, query_string)\n",
      "    assert result[\"NormalizedLevenshtein_min\"] == 0.0\n",
      "    assert result[\"NormalizedLevenshtein_max\"] == 1.0\n",
      "\u001b[0;31mFile:\u001b[0m      ~/git/kjappelbaum/gptchem/src/gptchem/evaluator.py\n",
      "\u001b[0;31mType:\u001b[0m      function\n"
     ]
    }
   ],
   "source": [
    "?string_distances"
   ]
  },
  {
   "cell_type": "code",
   "execution_count": 8,
   "metadata": {},
   "outputs": [
    {
     "data": {
      "text/plain": [
       "{'Levenshtein_min': 0.0,\n",
       " 'Levenshtein_max': 18.0,\n",
       " 'Levenshtein_mean': 12.4,\n",
       " 'Levenshtein_std': 4.543126676640219,\n",
       " 'NormalizedLevenshtein_min': 0.0,\n",
       " 'NormalizedLevenshtein_max': 0.5142857142857142,\n",
       " 'NormalizedLevenshtein_mean': 0.3734562211981567,\n",
       " 'NormalizedLevenshtein_std': 0.13521010617991372,\n",
       " 'LongestCommonSubsequence_min': 0.0,\n",
       " 'LongestCommonSubsequence_max': 26.0,\n",
       " 'LongestCommonSubsequence_mean': 19.6,\n",
       " 'LongestCommonSubsequence_std': 6.916646586316233}"
      ]
     },
     "execution_count": 8,
     "metadata": {},
     "output_type": "execute_result"
    }
   ],
   "source": [
    "string_distances(formatted.iloc[0:10][\"label\"], formatted.iloc[1][\"label\"])"
   ]
  },
  {
   "cell_type": "code",
   "execution_count": 44,
   "metadata": {},
   "outputs": [],
   "source": [
    "metrics = get_inverse_polymer_metrics(\n",
    "    formatted.iloc[0:50][\"label\"] + \"rfer\",\n",
    "    df_test=formatted.iloc[50:100],\n",
    "    df_train=formatted.iloc[100:200],\n",
    ")"
   ]
  },
  {
   "cell_type": "code",
   "execution_count": 36,
   "metadata": {},
   "outputs": [
    {
     "data": {
      "text/plain": [
       "dict_keys(['composition_mismatches', 'summary_composition_mismatches', 'losses', 'kldiv_score', 'valid_smiles_fraction', 'valid_indices', 'valid_polymers', 'unique_smiles_fraction', 'novel_smiles_fraction', 'generated_sequences', 'predictions'])"
      ]
     },
     "execution_count": 36,
     "metadata": {},
     "output_type": "execute_result"
    }
   ],
   "source": [
    "metrics.keys()"
   ]
  },
  {
   "cell_type": "code",
   "execution_count": 38,
   "metadata": {},
   "outputs": [
    {
     "data": {
      "text/plain": [
       "{'min': 0.0, 'max': 0.0, 'mean': 0.0, 'expected_len': 0.0, 'found_len': 0.0}"
      ]
     },
     "execution_count": 38,
     "metadata": {},
     "output_type": "execute_result"
    }
   ],
   "source": [
    "metrics['summary_composition_mismatches']"
   ]
  },
  {
   "cell_type": "code",
   "execution_count": 39,
   "metadata": {},
   "outputs": [
    {
     "data": {
      "text/plain": [
       "[3.5533907031616163,\n",
       " 3.2233195198886495,\n",
       " 4.139636470855033,\n",
       " 3.439842991328943,\n",
       " 3.5715008269694,\n",
       " 4.320588906003822,\n",
       " 3.6292993269612577,\n",
       " 4.652228306003829,\n",
       " 3.4233172461025703,\n",
       " 2.179405461844887,\n",
       " 1.7596549320061579,\n",
       " 1.1487882770331463,\n",
       " 2.520249638629826,\n",
       " 2.9433567582519693,\n",
       " 3.387179476071511,\n",
       " 2.294553752803542,\n",
       " 1.4690893938666463,\n",
       " 1.8402308838602721,\n",
       " 1.6390341962849915,\n",
       " 4.1102977641777905,\n",
       " 2.198821489453124,\n",
       " 2.1232323561197903,\n",
       " 1.6224677561197964,\n",
       " 0.26506864505411354,\n",
       " 1.1799203102945954,\n",
       " 4.815044626306145,\n",
       " 4.785310266236717,\n",
       " 4.265409357242152,\n",
       " 4.999765903474243,\n",
       " 4.638475530416509,\n",
       " 4.341379093323438,\n",
       " 3.429638762830262,\n",
       " 3.1306268734205407,\n",
       " 4.567679195343022,\n",
       " 3.625339593174921,\n",
       " 2.6224203779208715,\n",
       " 3.6466782944383382,\n",
       " 2.6124288796569832,\n",
       " 2.7522656308559874,\n",
       " 2.474759842627634,\n",
       " 3.5771372157979293,\n",
       " 1.9830966799750378,\n",
       " 0.9942113092020737,\n",
       " 3.7167064427212146,\n",
       " 2.6137557488532153,\n",
       " 3.6028628273050884,\n",
       " 1.0396825048909504,\n",
       " 1.621060321158855,\n",
       " 1.5950760160020607,\n",
       " 2.363424674681937]"
      ]
     },
     "execution_count": 39,
     "metadata": {},
     "output_type": "execute_result"
    }
   ],
   "source": [
    "metrics['losses']"
   ]
  },
  {
   "cell_type": "code",
   "execution_count": 43,
   "metadata": {},
   "outputs": [
    {
     "data": {
      "text/plain": [
       "1.0"
      ]
     },
     "execution_count": 43,
     "metadata": {},
     "output_type": "execute_result"
    }
   ],
   "source": [
    "metrics['novel_smiles_fraction']"
   ]
  },
  {
   "cell_type": "code",
   "execution_count": 9,
   "metadata": {},
   "outputs": [
    {
     "data": {
      "text/html": [
       "<div>\n",
       "<style scoped>\n",
       "    .dataframe tbody tr th:only-of-type {\n",
       "        vertical-align: middle;\n",
       "    }\n",
       "\n",
       "    .dataframe tbody tr th {\n",
       "        vertical-align: top;\n",
       "    }\n",
       "\n",
       "    .dataframe thead th {\n",
       "        text-align: right;\n",
       "    }\n",
       "</style>\n",
       "<table border=\"1\" class=\"dataframe\">\n",
       "  <thead>\n",
       "    <tr style=\"text-align: right;\">\n",
       "      <th></th>\n",
       "      <th>prompt</th>\n",
       "      <th>completion</th>\n",
       "      <th>label</th>\n",
       "      <th>representation</th>\n",
       "    </tr>\n",
       "  </thead>\n",
       "  <tbody>\n",
       "    <tr>\n",
       "      <th>0</th>\n",
       "      <td>What is a molecule with adsorption_energy -7.5...</td>\n",
       "      <td>W-A-B-W-W-A-A-A-R-W-B-B-R-R-B-R@@@</td>\n",
       "      <td>W-A-B-W-W-A-A-A-R-W-B-B-R-R-B-R</td>\n",
       "      <td>[-7.535286244444447]</td>\n",
       "    </tr>\n",
       "    <tr>\n",
       "      <th>1</th>\n",
       "      <td>What is a molecule with adsorption_energy -7.3...</td>\n",
       "      <td>R-W-W-R-R-B-B-B-A-A-A-W-W-A-R-B@@@</td>\n",
       "      <td>R-W-W-R-R-B-B-B-A-A-A-W-W-A-R-B</td>\n",
       "      <td>[-7.270527222222221]</td>\n",
       "    </tr>\n",
       "    <tr>\n",
       "      <th>2</th>\n",
       "      <td>What is a molecule with adsorption_energy -6.4...</td>\n",
       "      <td>A-R-A-W-B-W-A-R-B-W-A-B-B-R-W-R@@@</td>\n",
       "      <td>A-R-A-W-B-W-A-R-B-W-A-B-B-R-W-R</td>\n",
       "      <td>[-6.416311311111111]</td>\n",
       "    </tr>\n",
       "    <tr>\n",
       "      <th>3</th>\n",
       "      <td>What is a molecule with adsorption_energy -6.7...</td>\n",
       "      <td>W-A-R-A-B-B-B-W-A-W-B-R-A-W-R-R@@@</td>\n",
       "      <td>W-A-R-A-B-B-B-W-A-W-B-R-A-W-R-R</td>\n",
       "      <td>[-6.684815644444439]</td>\n",
       "    </tr>\n",
       "    <tr>\n",
       "      <th>4</th>\n",
       "      <td>What is a molecule with adsorption_energy -6.6...</td>\n",
       "      <td>R-R-B-B-W-R-A-W-R-W-A-B-A-A-W-B@@@</td>\n",
       "      <td>R-R-B-B-W-R-A-W-R-W-A-B-A-A-W-B</td>\n",
       "      <td>[-6.606492355555552]</td>\n",
       "    </tr>\n",
       "    <tr>\n",
       "      <th>5</th>\n",
       "      <td>What is a molecule with adsorption_energy -6.2...</td>\n",
       "      <td>W-B-B-A-W-A-W-W-A-R-W-R-B-R-W-B-A-R@@@</td>\n",
       "      <td>W-B-B-A-W-A-W-W-A-R-W-R-B-R-W-B-A-R</td>\n",
       "      <td>[-6.210183644444443]</td>\n",
       "    </tr>\n",
       "    <tr>\n",
       "      <th>6</th>\n",
       "      <td>What is a molecule with adsorption_energy -6.6...</td>\n",
       "      <td>W-W-B-W-R-B-R-A-W-B-A-A-W-R-W-B-A-R@@@</td>\n",
       "      <td>W-W-B-W-R-B-R-A-W-B-A-A-W-R-W-B-A-R</td>\n",
       "      <td>[-6.616805355555557]</td>\n",
       "    </tr>\n",
       "    <tr>\n",
       "      <th>7</th>\n",
       "      <td>What is a molecule with adsorption_energy -5.6...</td>\n",
       "      <td>B-B-A-B-A-W-R-W-R-W-B-R-W-A-W-W-A-R@@@</td>\n",
       "      <td>B-B-A-B-A-W-R-W-R-W-B-R-W-A-W-W-A-R</td>\n",
       "      <td>[-5.5528067555555545]</td>\n",
       "    </tr>\n",
       "    <tr>\n",
       "      <th>8</th>\n",
       "      <td>What is a molecule with adsorption_energy -6.4...</td>\n",
       "      <td>R-W-R-A-R-A-B-W-W-W-B-B-W-W-A-B-A-R@@@</td>\n",
       "      <td>R-W-R-A-R-A-B-W-W-W-B-B-W-W-A-B-A-R</td>\n",
       "      <td>[-6.361648266666666]</td>\n",
       "    </tr>\n",
       "    <tr>\n",
       "      <th>9</th>\n",
       "      <td>What is a molecule with adsorption_energy -6.6...</td>\n",
       "      <td>B-B-W-W-B-W-R-A-A-B-A-W-A-R-R-R-W-W@@@</td>\n",
       "      <td>B-B-W-W-B-W-R-A-A-B-A-W-A-R-R-R-W-W</td>\n",
       "      <td>[-6.6253376444444445]</td>\n",
       "    </tr>\n",
       "  </tbody>\n",
       "</table>\n",
       "</div>"
      ],
      "text/plain": [
       "                                              prompt  \\\n",
       "0  What is a molecule with adsorption_energy -7.5...   \n",
       "1  What is a molecule with adsorption_energy -7.3...   \n",
       "2  What is a molecule with adsorption_energy -6.4...   \n",
       "3  What is a molecule with adsorption_energy -6.7...   \n",
       "4  What is a molecule with adsorption_energy -6.6...   \n",
       "5  What is a molecule with adsorption_energy -6.2...   \n",
       "6  What is a molecule with adsorption_energy -6.6...   \n",
       "7  What is a molecule with adsorption_energy -5.6...   \n",
       "8  What is a molecule with adsorption_energy -6.4...   \n",
       "9  What is a molecule with adsorption_energy -6.6...   \n",
       "\n",
       "                                completion  \\\n",
       "0       W-A-B-W-W-A-A-A-R-W-B-B-R-R-B-R@@@   \n",
       "1       R-W-W-R-R-B-B-B-A-A-A-W-W-A-R-B@@@   \n",
       "2       A-R-A-W-B-W-A-R-B-W-A-B-B-R-W-R@@@   \n",
       "3       W-A-R-A-B-B-B-W-A-W-B-R-A-W-R-R@@@   \n",
       "4       R-R-B-B-W-R-A-W-R-W-A-B-A-A-W-B@@@   \n",
       "5   W-B-B-A-W-A-W-W-A-R-W-R-B-R-W-B-A-R@@@   \n",
       "6   W-W-B-W-R-B-R-A-W-B-A-A-W-R-W-B-A-R@@@   \n",
       "7   B-B-A-B-A-W-R-W-R-W-B-R-W-A-W-W-A-R@@@   \n",
       "8   R-W-R-A-R-A-B-W-W-W-B-B-W-W-A-B-A-R@@@   \n",
       "9   B-B-W-W-B-W-R-A-A-B-A-W-A-R-R-R-W-W@@@   \n",
       "\n",
       "                                 label         representation  \n",
       "0      W-A-B-W-W-A-A-A-R-W-B-B-R-R-B-R   [-7.535286244444447]  \n",
       "1      R-W-W-R-R-B-B-B-A-A-A-W-W-A-R-B   [-7.270527222222221]  \n",
       "2      A-R-A-W-B-W-A-R-B-W-A-B-B-R-W-R   [-6.416311311111111]  \n",
       "3      W-A-R-A-B-B-B-W-A-W-B-R-A-W-R-R   [-6.684815644444439]  \n",
       "4      R-R-B-B-W-R-A-W-R-W-A-B-A-A-W-B   [-6.606492355555552]  \n",
       "5  W-B-B-A-W-A-W-W-A-R-W-R-B-R-W-B-A-R   [-6.210183644444443]  \n",
       "6  W-W-B-W-R-B-R-A-W-B-A-A-W-R-W-B-A-R   [-6.616805355555557]  \n",
       "7  B-B-A-B-A-W-R-W-R-W-B-R-W-A-W-W-A-R  [-5.5528067555555545]  \n",
       "8  R-W-R-A-R-A-B-W-W-W-B-B-W-W-A-B-A-R   [-6.361648266666666]  \n",
       "9  B-B-W-W-B-W-R-A-A-B-A-W-A-R-R-R-W-W  [-6.6253376444444445]  "
      ]
     },
     "execution_count": 9,
     "metadata": {},
     "output_type": "execute_result"
    }
   ],
   "source": [
    "formatted.iloc[0:10]"
   ]
  },
  {
   "cell_type": "code",
   "execution_count": null,
   "metadata": {},
   "outputs": [],
   "source": []
  }
 ],
 "metadata": {
  "kernelspec": {
   "display_name": "gptchem",
   "language": "python",
   "name": "python3"
  },
  "language_info": {
   "codemirror_mode": {
    "name": "ipython",
    "version": 3
   },
   "file_extension": ".py",
   "mimetype": "text/x-python",
   "name": "python",
   "nbconvert_exporter": "python",
   "pygments_lexer": "ipython3",
   "version": "3.9.15 (main, Nov 24 2022, 08:28:41) \n[Clang 14.0.6 ]"
  },
  "orig_nbformat": 4,
  "vscode": {
   "interpreter": {
    "hash": "2f3b9074e5baa1438c27e2ea813f7f53b7516c83bd70840b6d64eae6820ee5df"
   }
  }
 },
 "nbformat": 4,
 "nbformat_minor": 2
}
