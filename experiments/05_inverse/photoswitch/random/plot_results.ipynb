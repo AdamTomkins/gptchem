{
 "cells": [
  {
   "cell_type": "code",
   "execution_count": 50,
   "metadata": {},
   "outputs": [
    {
     "name": "stdout",
     "output_type": "stream",
     "text": [
      "The autoreload extension is already loaded. To reload it, use:\n",
      "  %reload_ext autoreload\n"
     ]
    }
   ],
   "source": [
    "%load_ext autoreload\n",
    "%autoreload 2"
   ]
  },
  {
   "cell_type": "code",
   "execution_count": 51,
   "metadata": {},
   "outputs": [],
   "source": [
    "import pandas as pd\n",
    "from fastcore.xtras import load_pickle\n",
    "\n",
    "from gptchem.data import get_photoswitch_data\n",
    "from gptchem.evaluator import evaluate_photoswitch_smiles_pred, evaluate_generated_smiles\n",
    "\n",
    "from gptchem.settings import ONE_COL_WIDTH_INCH, ONE_COL_GOLDEN_RATIO_HEIGHT_INCH\n",
    "\n",
    "from guacamol.utils.chemistry import is_valid\n",
    "from glob import glob\n",
    "import matplotlib.pyplot as plt \n",
    "import matplotlib as mpl\n",
    "mpl.rcParams.update(mpl.rcParamsDefault)\n",
    "plt.style.use(['science', 'nature'])\n",
    "\n",
    "import matplotx\n",
    "\n",
    "\n",
    "%matplotlib inline"
   ]
  },
  {
   "cell_type": "code",
   "execution_count": 52,
   "metadata": {},
   "outputs": [],
   "source": [
    "from rdkit import Chem"
   ]
  },
  {
   "cell_type": "code",
   "execution_count": 53,
   "metadata": {},
   "outputs": [],
   "source": [
    "all_res = glob('out/**/*.pkl')"
   ]
  },
  {
   "cell_type": "code",
   "execution_count": 54,
   "metadata": {},
   "outputs": [],
   "source": [
    "res = load_pickle(all_res[0])"
   ]
  },
  {
   "cell_type": "code",
   "execution_count": 55,
   "metadata": {},
   "outputs": [],
   "source": [
    "from collections import defaultdict"
   ]
  },
  {
   "cell_type": "code",
   "execution_count": 56,
   "metadata": {},
   "outputs": [],
   "source": [
    "def contains_azo(smiles):\n",
    "    mol = Chem.MolFromSmiles(smiles)\n",
    "    # check if there is a N#N bond\n",
    "    smarts = \"[NX2]=N\"\n",
    "    return mol.HasSubstructMatch(Chem.MolFromSmarts(smarts))"
   ]
  },
  {
   "cell_type": "code",
   "execution_count": 57,
   "metadata": {},
   "outputs": [],
   "source": [
    "compiled_res = []\n",
    "generated_smiles = set()\n",
    "generated_smiles_w_azos = set()\n",
    "\n",
    "generated_smiles_w_azos_at_temp = defaultdict(set)\n",
    "generated_smiles_at_temp = defaultdict(set)\n",
    "\n",
    "for res_path in all_res:\n",
    "    res = load_pickle(res_path)\n",
    "    for temp_res in res['res_at_temp']:\n",
    "\n",
    "\n",
    "        metrics= {\n",
    "            'noise_level': res['noise_level'],\n",
    "            'temp': temp_res['temperature'],\n",
    "            'frac_valid': temp_res['frac_valid'],\n",
    "            'frac_unique': temp_res['frac_unique'],\n",
    "            'frac_smiles_in_train': temp_res['frac_smiles_in_train'],\n",
    "            'frac_smiles_in_pubchem': temp_res['frac_smiles_in_pubchem'],\n",
    "            'kld': temp_res['kld'],\n",
    "            'frechet_d': temp_res['frechet_d'],\n",
    "            'frechet_score': temp_res['frechet_score'],\n",
    "            'frac_contains_azo': sum([contains_azo(s) for s in temp_res['valid_smiles']]) / len(temp_res['valid_smiles']),\n",
    "        }\n",
    "\n",
    "        generated_smiles.update([s for s in temp_res['generated_smiles'] if is_valid(s)])\n",
    "        v_w_azo = [s for s in temp_res['generated_smiles'] if is_valid(s) and contains_azo(s)]\n",
    "        generated_smiles_w_azos.update(v_w_azo)\n",
    "        generated_smiles_w_azos_at_temp[temp_res['temperature']].update(v_w_azo)\n",
    "\n",
    "\n",
    "        v = [s for s in temp_res['generated_smiles'] if is_valid(s)]\n",
    "        generated_smiles_at_temp[temp_res['temperature']].update(v)\n",
    "\n",
    "        for me, v in temp_res['e_pi_pi_star_metrics'].items():\n",
    "            metrics[\"e_pi_pi_star_\" + me] = v\n",
    "\n",
    "        for me, v in temp_res['z_pi_pi_star_metrics'].items():\n",
    "            metrics[\"z_pi_pi_star_\" + me] = v\n",
    "        compiled_res.append(metrics)"
   ]
  },
  {
   "cell_type": "code",
   "execution_count": 58,
   "metadata": {},
   "outputs": [
    {
     "data": {
      "text/plain": [
       "True"
      ]
     },
     "execution_count": 58,
     "metadata": {},
     "output_type": "execute_result"
    }
   ],
   "source": [
    "contains_azo(list(generated_smiles)[5])"
   ]
  },
  {
   "cell_type": "code",
   "execution_count": 59,
   "metadata": {},
   "outputs": [
    {
     "data": {
      "image/png": "[encoded data removed]",
      "text/plain": [
       "<rdkit.Chem.rdchem.Mol at 0x2a4ec05f0>"
      ]
     },
     "execution_count": 59,
     "metadata": {},
     "output_type": "execute_result"
    }
   ],
   "source": [
    "Chem.MolFromSmiles(list(generated_smiles)[0])"
   ]
  },
  {
   "cell_type": "code",
   "execution_count": 60,
   "metadata": {},
   "outputs": [],
   "source": [
    "df = pd.DataFrame(compiled_res)"
   ]
  },
  {
   "cell_type": "code",
   "execution_count": 61,
   "metadata": {},
   "outputs": [],
   "source": [
    "grouped = df.groupby(['temp']).agg(['mean', 'std'])"
   ]
  },
  {
   "cell_type": "code",
   "execution_count": 62,
   "metadata": {},
   "outputs": [
    {
     "data": {
      "text/html": [
       "<div>\n",
       "<style scoped>\n",
       "    .dataframe tbody tr th:only-of-type {\n",
       "        vertical-align: middle;\n",
       "    }\n",
       "\n",
       "    .dataframe tbody tr th {\n",
       "        vertical-align: top;\n",
       "    }\n",
       "\n",
       "    .dataframe thead tr th {\n",
       "        text-align: left;\n",
       "    }\n",
       "\n",
       "    .dataframe thead tr:last-of-type th {\n",
       "        text-align: right;\n",
       "    }\n",
       "</style>\n",
       "<table border=\"1\" class=\"dataframe\">\n",
       "  <thead>\n",
       "    <tr>\n",
       "      <th></th>\n",
       "      <th colspan=\"2\" halign=\"left\">noise_level</th>\n",
       "      <th colspan=\"2\" halign=\"left\">frac_valid</th>\n",
       "      <th colspan=\"2\" halign=\"left\">frac_unique</th>\n",
       "      <th colspan=\"2\" halign=\"left\">frac_smiles_in_train</th>\n",
       "      <th colspan=\"2\" halign=\"left\">frac_smiles_in_pubchem</th>\n",
       "      <th>...</th>\n",
       "      <th colspan=\"2\" halign=\"left\">z_pi_pi_star_r2</th>\n",
       "      <th colspan=\"2\" halign=\"left\">z_pi_pi_star_max_error</th>\n",
       "      <th colspan=\"2\" halign=\"left\">z_pi_pi_star_mean_absolute_error</th>\n",
       "      <th colspan=\"2\" halign=\"left\">z_pi_pi_star_mean_squared_error</th>\n",
       "      <th colspan=\"2\" halign=\"left\">z_pi_pi_star_rmse</th>\n",
       "    </tr>\n",
       "    <tr>\n",
       "      <th></th>\n",
       "      <th>mean</th>\n",
       "      <th>std</th>\n",
       "      <th>mean</th>\n",
       "      <th>std</th>\n",
       "      <th>mean</th>\n",
       "      <th>std</th>\n",
       "      <th>mean</th>\n",
       "      <th>std</th>\n",
       "      <th>mean</th>\n",
       "      <th>std</th>\n",
       "      <th>...</th>\n",
       "      <th>mean</th>\n",
       "      <th>std</th>\n",
       "      <th>mean</th>\n",
       "      <th>std</th>\n",
       "      <th>mean</th>\n",
       "      <th>std</th>\n",
       "      <th>mean</th>\n",
       "      <th>std</th>\n",
       "      <th>mean</th>\n",
       "      <th>std</th>\n",
       "    </tr>\n",
       "    <tr>\n",
       "      <th>temp</th>\n",
       "      <th></th>\n",
       "      <th></th>\n",
       "      <th></th>\n",
       "      <th></th>\n",
       "      <th></th>\n",
       "      <th></th>\n",
       "      <th></th>\n",
       "      <th></th>\n",
       "      <th></th>\n",
       "      <th></th>\n",
       "      <th></th>\n",
       "      <th></th>\n",
       "      <th></th>\n",
       "      <th></th>\n",
       "      <th></th>\n",
       "      <th></th>\n",
       "      <th></th>\n",
       "      <th></th>\n",
       "      <th></th>\n",
       "      <th></th>\n",
       "      <th></th>\n",
       "    </tr>\n",
       "  </thead>\n",
       "  <tbody>\n",
       "    <tr>\n",
       "      <th>0.00</th>\n",
       "      <td>2.375</td>\n",
       "      <td>3.440826</td>\n",
       "      <td>0.995924</td>\n",
       "      <td>0.011529</td>\n",
       "      <td>0.025953</td>\n",
       "      <td>0.010072</td>\n",
       "      <td>0.0</td>\n",
       "      <td>0.0</td>\n",
       "      <td>1.000000</td>\n",
       "      <td>0.000000</td>\n",
       "      <td>...</td>\n",
       "      <td>-0.019551</td>\n",
       "      <td>0.049992</td>\n",
       "      <td>52.146474</td>\n",
       "      <td>3.031616</td>\n",
       "      <td>13.582005</td>\n",
       "      <td>1.117144</td>\n",
       "      <td>332.991150</td>\n",
       "      <td>35.258395</td>\n",
       "      <td>18.226821</td>\n",
       "      <td>0.940602</td>\n",
       "    </tr>\n",
       "    <tr>\n",
       "      <th>0.10</th>\n",
       "      <td>2.375</td>\n",
       "      <td>3.440826</td>\n",
       "      <td>0.991848</td>\n",
       "      <td>0.011251</td>\n",
       "      <td>0.045350</td>\n",
       "      <td>0.020318</td>\n",
       "      <td>0.0</td>\n",
       "      <td>0.0</td>\n",
       "      <td>1.000000</td>\n",
       "      <td>0.000000</td>\n",
       "      <td>...</td>\n",
       "      <td>-0.039051</td>\n",
       "      <td>0.035264</td>\n",
       "      <td>52.540281</td>\n",
       "      <td>3.657073</td>\n",
       "      <td>13.765590</td>\n",
       "      <td>0.907673</td>\n",
       "      <td>340.616751</td>\n",
       "      <td>27.808826</td>\n",
       "      <td>18.443177</td>\n",
       "      <td>0.729742</td>\n",
       "    </tr>\n",
       "    <tr>\n",
       "      <th>0.20</th>\n",
       "      <td>2.375</td>\n",
       "      <td>3.440826</td>\n",
       "      <td>0.975543</td>\n",
       "      <td>0.039298</td>\n",
       "      <td>0.109033</td>\n",
       "      <td>0.035998</td>\n",
       "      <td>0.0</td>\n",
       "      <td>0.0</td>\n",
       "      <td>1.000000</td>\n",
       "      <td>0.000000</td>\n",
       "      <td>...</td>\n",
       "      <td>-0.078431</td>\n",
       "      <td>0.072170</td>\n",
       "      <td>53.751948</td>\n",
       "      <td>4.329762</td>\n",
       "      <td>14.048516</td>\n",
       "      <td>0.932031</td>\n",
       "      <td>354.275170</td>\n",
       "      <td>33.261576</td>\n",
       "      <td>18.804906</td>\n",
       "      <td>0.862349</td>\n",
       "    </tr>\n",
       "    <tr>\n",
       "      <th>0.50</th>\n",
       "      <td>2.375</td>\n",
       "      <td>3.440826</td>\n",
       "      <td>0.971467</td>\n",
       "      <td>0.018315</td>\n",
       "      <td>0.364854</td>\n",
       "      <td>0.028913</td>\n",
       "      <td>0.0</td>\n",
       "      <td>0.0</td>\n",
       "      <td>1.000000</td>\n",
       "      <td>0.000000</td>\n",
       "      <td>...</td>\n",
       "      <td>-0.171761</td>\n",
       "      <td>0.084941</td>\n",
       "      <td>60.099580</td>\n",
       "      <td>6.357657</td>\n",
       "      <td>14.570727</td>\n",
       "      <td>1.227767</td>\n",
       "      <td>387.174227</td>\n",
       "      <td>52.960583</td>\n",
       "      <td>19.638155</td>\n",
       "      <td>1.316753</td>\n",
       "    </tr>\n",
       "    <tr>\n",
       "      <th>0.75</th>\n",
       "      <td>2.375</td>\n",
       "      <td>3.440826</td>\n",
       "      <td>0.914402</td>\n",
       "      <td>0.039592</td>\n",
       "      <td>0.554911</td>\n",
       "      <td>0.023796</td>\n",
       "      <td>0.0</td>\n",
       "      <td>0.0</td>\n",
       "      <td>1.000000</td>\n",
       "      <td>0.000000</td>\n",
       "      <td>...</td>\n",
       "      <td>-0.262193</td>\n",
       "      <td>0.150131</td>\n",
       "      <td>67.661231</td>\n",
       "      <td>13.097945</td>\n",
       "      <td>14.636907</td>\n",
       "      <td>1.295736</td>\n",
       "      <td>412.765260</td>\n",
       "      <td>79.506963</td>\n",
       "      <td>20.235248</td>\n",
       "      <td>1.942013</td>\n",
       "    </tr>\n",
       "    <tr>\n",
       "      <th>1.00</th>\n",
       "      <td>2.375</td>\n",
       "      <td>3.440826</td>\n",
       "      <td>0.692935</td>\n",
       "      <td>0.054114</td>\n",
       "      <td>0.752957</td>\n",
       "      <td>0.071289</td>\n",
       "      <td>0.0</td>\n",
       "      <td>0.0</td>\n",
       "      <td>1.000000</td>\n",
       "      <td>0.000000</td>\n",
       "      <td>...</td>\n",
       "      <td>-0.403172</td>\n",
       "      <td>0.196098</td>\n",
       "      <td>67.993861</td>\n",
       "      <td>8.944947</td>\n",
       "      <td>15.680546</td>\n",
       "      <td>1.799866</td>\n",
       "      <td>474.480530</td>\n",
       "      <td>81.197308</td>\n",
       "      <td>21.717218</td>\n",
       "      <td>1.802523</td>\n",
       "    </tr>\n",
       "    <tr>\n",
       "      <th>1.25</th>\n",
       "      <td>2.375</td>\n",
       "      <td>3.440826</td>\n",
       "      <td>0.342391</td>\n",
       "      <td>0.063380</td>\n",
       "      <td>0.897495</td>\n",
       "      <td>0.054707</td>\n",
       "      <td>0.0</td>\n",
       "      <td>0.0</td>\n",
       "      <td>1.000000</td>\n",
       "      <td>0.000000</td>\n",
       "      <td>...</td>\n",
       "      <td>-0.699172</td>\n",
       "      <td>0.468916</td>\n",
       "      <td>56.607614</td>\n",
       "      <td>7.397753</td>\n",
       "      <td>16.902062</td>\n",
       "      <td>2.520160</td>\n",
       "      <td>494.161749</td>\n",
       "      <td>101.100860</td>\n",
       "      <td>22.112341</td>\n",
       "      <td>2.439237</td>\n",
       "    </tr>\n",
       "    <tr>\n",
       "      <th>1.50</th>\n",
       "      <td>2.375</td>\n",
       "      <td>3.440826</td>\n",
       "      <td>0.108696</td>\n",
       "      <td>0.029625</td>\n",
       "      <td>1.000000</td>\n",
       "      <td>0.000000</td>\n",
       "      <td>0.0</td>\n",
       "      <td>0.0</td>\n",
       "      <td>1.000000</td>\n",
       "      <td>0.000000</td>\n",
       "      <td>...</td>\n",
       "      <td>-4.222145</td>\n",
       "      <td>5.414800</td>\n",
       "      <td>52.728697</td>\n",
       "      <td>7.437472</td>\n",
       "      <td>25.620209</td>\n",
       "      <td>3.543218</td>\n",
       "      <td>933.849692</td>\n",
       "      <td>165.439478</td>\n",
       "      <td>30.455532</td>\n",
       "      <td>2.685467</td>\n",
       "    </tr>\n",
       "    <tr>\n",
       "      <th>2.00</th>\n",
       "      <td>2.375</td>\n",
       "      <td>3.440826</td>\n",
       "      <td>0.130435</td>\n",
       "      <td>0.041083</td>\n",
       "      <td>1.000000</td>\n",
       "      <td>0.000000</td>\n",
       "      <td>0.0</td>\n",
       "      <td>0.0</td>\n",
       "      <td>0.979167</td>\n",
       "      <td>0.058926</td>\n",
       "      <td>...</td>\n",
       "      <td>-5.829693</td>\n",
       "      <td>4.001700</td>\n",
       "      <td>61.765966</td>\n",
       "      <td>12.527507</td>\n",
       "      <td>33.271719</td>\n",
       "      <td>4.076855</td>\n",
       "      <td>1432.178788</td>\n",
       "      <td>424.372478</td>\n",
       "      <td>37.497041</td>\n",
       "      <td>5.466857</td>\n",
       "    </tr>\n",
       "  </tbody>\n",
       "</table>\n",
       "<p>9 rows × 38 columns</p>\n",
       "</div>"
      ],
      "text/plain": [
       "     noise_level           frac_valid           frac_unique            \\\n",
       "            mean       std       mean       std        mean       std   \n",
       "temp                                                                    \n",
       "0.00       2.375  3.440826   0.995924  0.011529    0.025953  0.010072   \n",
       "0.10       2.375  3.440826   0.991848  0.011251    0.045350  0.020318   \n",
       "0.20       2.375  3.440826   0.975543  0.039298    0.109033  0.035998   \n",
       "0.50       2.375  3.440826   0.971467  0.018315    0.364854  0.028913   \n",
       "0.75       2.375  3.440826   0.914402  0.039592    0.554911  0.023796   \n",
       "1.00       2.375  3.440826   0.692935  0.054114    0.752957  0.071289   \n",
       "1.25       2.375  3.440826   0.342391  0.063380    0.897495  0.054707   \n",
       "1.50       2.375  3.440826   0.108696  0.029625    1.000000  0.000000   \n",
       "2.00       2.375  3.440826   0.130435  0.041083    1.000000  0.000000   \n",
       "\n",
       "     frac_smiles_in_train      frac_smiles_in_pubchem            ...  \\\n",
       "                     mean  std                   mean       std  ...   \n",
       "temp                                                             ...   \n",
       "0.00                  0.0  0.0               1.000000  0.000000  ...   \n",
       "0.10                  0.0  0.0               1.000000  0.000000  ...   \n",
       "0.20                  0.0  0.0               1.000000  0.000000  ...   \n",
       "0.50                  0.0  0.0               1.000000  0.000000  ...   \n",
       "0.75                  0.0  0.0               1.000000  0.000000  ...   \n",
       "1.00                  0.0  0.0               1.000000  0.000000  ...   \n",
       "1.25                  0.0  0.0               1.000000  0.000000  ...   \n",
       "1.50                  0.0  0.0               1.000000  0.000000  ...   \n",
       "2.00                  0.0  0.0               0.979167  0.058926  ...   \n",
       "\n",
       "     z_pi_pi_star_r2           z_pi_pi_star_max_error             \\\n",
       "                mean       std                   mean        std   \n",
       "temp                                                               \n",
       "0.00       -0.019551  0.049992              52.146474   3.031616   \n",
       "0.10       -0.039051  0.035264              52.540281   3.657073   \n",
       "0.20       -0.078431  0.072170              53.751948   4.329762   \n",
       "0.50       -0.171761  0.084941              60.099580   6.357657   \n",
       "0.75       -0.262193  0.150131              67.661231  13.097945   \n",
       "1.00       -0.403172  0.196098              67.993861   8.944947   \n",
       "1.25       -0.699172  0.468916              56.607614   7.397753   \n",
       "1.50       -4.222145  5.414800              52.728697   7.437472   \n",
       "2.00       -5.829693  4.001700              61.765966  12.527507   \n",
       "\n",
       "     z_pi_pi_star_mean_absolute_error            \\\n",
       "                                 mean       std   \n",
       "temp                                              \n",
       "0.00                        13.582005  1.117144   \n",
       "0.10                        13.765590  0.907673   \n",
       "0.20                        14.048516  0.932031   \n",
       "0.50                        14.570727  1.227767   \n",
       "0.75                        14.636907  1.295736   \n",
       "1.00                        15.680546  1.799866   \n",
       "1.25                        16.902062  2.520160   \n",
       "1.50                        25.620209  3.543218   \n",
       "2.00                        33.271719  4.076855   \n",
       "\n",
       "     z_pi_pi_star_mean_squared_error             z_pi_pi_star_rmse            \n",
       "                                mean         std              mean       std  \n",
       "temp                                                                          \n",
       "0.00                      332.991150   35.258395         18.226821  0.940602  \n",
       "0.10                      340.616751   27.808826         18.443177  0.729742  \n",
       "0.20                      354.275170   33.261576         18.804906  0.862349  \n",
       "0.50                      387.174227   52.960583         19.638155  1.316753  \n",
       "0.75                      412.765260   79.506963         20.235248  1.942013  \n",
       "1.00                      474.480530   81.197308         21.717218  1.802523  \n",
       "1.25                      494.161749  101.100860         22.112341  2.439237  \n",
       "1.50                      933.849692  165.439478         30.455532  2.685467  \n",
       "2.00                     1432.178788  424.372478         37.497041  5.466857  \n",
       "\n",
       "[9 rows x 38 columns]"
      ]
     },
     "execution_count": 62,
     "metadata": {},
     "output_type": "execute_result"
    }
   ],
   "source": [
    "grouped"
   ]
  },
  {
   "cell_type": "code",
   "execution_count": 63,
   "metadata": {},
   "outputs": [
    {
     "data": {
      "image/png": "[encoded data removed]",
      "text/plain": [
       "<Figure size 325x650 with 7 Axes>"
      ]
     },
     "metadata": {},
     "output_type": "display_data"
    }
   ],
   "source": [
    "with plt.style.context(matplotx.styles.dufte):\n",
    "    fig, ax = plt.subplots(7,1, sharex='all', figsize=(ONE_COL_WIDTH_INCH, 2*ONE_COL_WIDTH_INCH))\n",
    "    ax[0].plot(grouped.index, grouped['frac_valid']['mean'], label='frac_valid')\n",
    "    ax[0].fill_between(grouped.index, grouped['frac_valid']['mean'] - grouped['frac_valid']['std'], grouped['frac_valid']['mean'] + grouped['frac_valid']['std'], alpha=0.2)\n",
    "\n",
    "    matplotx.ylabel_top('frac. valid SMILES', ax=ax[0])\n",
    "\n",
    "    ax[1].plot(grouped.index, grouped['frac_unique']['mean'], label='frac_unique')\n",
    "    ax[1].fill_between(grouped.index, grouped['frac_unique']['mean'] - grouped['frac_unique']['std'], grouped['frac_unique']['mean'] + grouped['frac_unique']['std'], alpha=0.2)\n",
    "\n",
    "    matplotx.ylabel_top('frac. unique SMILES', ax=ax[1])\n",
    "\n",
    "    ax[2].plot(grouped.index, grouped['frac_smiles_in_train']['mean'], label='frac_smiles_in_train')\n",
    "    ax[2].fill_between(grouped.index, grouped['frac_smiles_in_train']['mean'] - grouped['frac_smiles_in_train']['std'], grouped['frac_smiles_in_train']['mean'] + grouped['frac_smiles_in_train']['std'], alpha=0.2)\n",
    "\n",
    "    matplotx.ylabel_top('frac. SMILES in train', ax=ax[2])\n",
    "\n",
    "    ax[3].plot(grouped.index, grouped['frac_smiles_in_pubchem']['mean'], label='frac_smiles_in_pubchem')\n",
    "    ax[3].fill_between(grouped.index, grouped['frac_smiles_in_pubchem']['mean'] - grouped['frac_smiles_in_pubchem']['std'], grouped['frac_smiles_in_pubchem']['mean'] + grouped['frac_smiles_in_pubchem']['std'], alpha=0.2)\n",
    "\n",
    "    matplotx.ylabel_top('frac. SMILES in PubChem', ax=ax[3])\n",
    "\n",
    "    ax[4].plot(grouped.index, grouped['kld']['mean'], label='kld')\n",
    "    ax[4].fill_between(grouped.index, grouped['kld']['mean'] - grouped['kld']['std'], grouped['kld']['mean'] + grouped['kld']['std'], alpha=0.2)\n",
    "\n",
    "    matplotx.ylabel_top('KLD', ax=ax[4])\n",
    "\n",
    "    ax[5].plot(grouped.index, grouped['frechet_d']['mean'], label='frechet_d')\n",
    "    ax[5].fill_between(grouped.index, grouped['frechet_d']['mean'] - grouped['frechet_d']['std'], grouped['frechet_d']['mean'] + grouped['frechet_d']['std'], alpha=0.2)\n",
    "\n",
    "    matplotx.ylabel_top('Frechet distance', ax=ax[5])\n",
    "\n",
    "    ax[6].plot(grouped.index, grouped['frac_contains_azo']['mean'], label='frechet_score')\n",
    "    ax[6].fill_between(grouped.index, grouped['frac_contains_azo']['mean'] - grouped['frac_contains_azo']['std'], grouped['frac_contains_azo']['mean'] + grouped['frac_contains_azo']['std'], alpha=0.2)\n",
    "\n",
    "    matplotx.ylabel_top('frac. SMILES with azo', ax=ax[6])\n",
    "\n",
    "    ax[-1].set_xlabel('temperature', labelpad=4)\n",
    "\n",
    "    fig.savefig('photoswitch_random_smiles_metrics.pdf', bbox_inches='tight')"
   ]
  },
  {
   "cell_type": "code",
   "execution_count": 64,
   "metadata": {},
   "outputs": [
    {
     "data": {
      "image/png": "[encoded data removed]",
      "text/plain": [
       "<Figure size 325x200.861 with 2 Axes>"
      ]
     },
     "metadata": {},
     "output_type": "display_data"
    }
   ],
   "source": [
    "with plt.style.context(matplotx.styles.dufte):\n",
    "    fig, ax = plt.subplots(2,1, sharex='all', figsize=(ONE_COL_WIDTH_INCH, ONE_COL_GOLDEN_RATIO_HEIGHT_INCH))\n",
    "\n",
    "    ax[0].plot(grouped.index, grouped['z_pi_pi_star_mean_absolute_error']['mean'], label='e_pi_pi_star_metrics')\n",
    "    ax[0].fill_between(grouped.index, grouped['z_pi_pi_star_mean_absolute_error']['mean'] - grouped['z_pi_pi_star_mean_absolute_error']['std'], grouped['z_pi_pi_star_mean_absolute_error']['mean'] + grouped['z_pi_pi_star_mean_absolute_error']['std'], alpha=0.2)\n",
    "\n",
    "    matplotx.ylabel_top('Z isomer MAE', ax=ax[0])\n",
    "\n",
    "    ax[0].hlines(11.616605626696359, 0, 2, color='k', linestyle='--')\n",
    "\n",
    "    ax[0].set_ylim(8,35)\n",
    "\n",
    "    ax[1].plot(grouped.index, grouped['e_pi_pi_star_mean_absolute_error']['mean'], label='e_pi_pi_star_metrics')\n",
    "    ax[1].fill_between(grouped.index, grouped['e_pi_pi_star_mean_absolute_error']['mean'] - grouped['e_pi_pi_star_mean_absolute_error']['std'], grouped['e_pi_pi_star_mean_absolute_error']['mean'] + grouped['e_pi_pi_star_mean_absolute_error']['std'], alpha=0.2)\n",
    "\n",
    "    matplotx.ylabel_top('E isomer MAE', ax=ax[1])\n",
    "\n",
    "    ax[1].hlines(14.38998132190228, 0, 2, color='k', linestyle='--')\n",
    "\n",
    "    ax[-1].set_xlabel('temperature', labelpad=4)\n",
    "    ax[1].set_ylim(10,65)\n",
    "fig.savefig('random_photoswitch_constrain_matches.pdf', bbox_inches='tight')"
   ]
  },
  {
   "cell_type": "markdown",
   "metadata": {},
   "source": [
    "## Visualize"
   ]
  },
  {
   "cell_type": "code",
   "execution_count": 65,
   "metadata": {},
   "outputs": [],
   "source": [
    "import tmap as tm\n",
    "import numpy as np\n",
    "\n",
    "from faerun import Faerun\n",
    "from mhfp.encoder import MHFPEncoder\n",
    "from rdkit.Chem import AllChem\n",
    "\n",
    "from tqdm import tqdm"
   ]
  },
  {
   "cell_type": "code",
   "execution_count": 66,
   "metadata": {},
   "outputs": [],
   "source": [
    "import os\n",
    "import shutil"
   ]
  },
  {
   "cell_type": "code",
   "execution_count": 67,
   "metadata": {},
   "outputs": [],
   "source": [
    "def make_figure(temp):\n",
    "    path = f\"plots_all/{temp}\"\n",
    "    os.makedirs(path, exist_ok=True)\n",
    "    enc = MHFPEncoder()\n",
    "    lf = tm.LSHForest(2048, 128)\n",
    "    train_data = get_photoswitch_data()\n",
    "    train_smiles = train_data['SMILES'].values\n",
    "    all_smiles = set(train_smiles) | generated_smiles_at_temp[temp]\n",
    "\n",
    "    fps = []\n",
    "    labels = []\n",
    "\n",
    "    for smiles in tqdm(all_smiles):\n",
    "        mol = AllChem.MolFromSmiles(smiles)\n",
    "        fps.append(tm.VectorUint(enc.encode_mol(mol, min_radius=0)))\n",
    "        labels.append(smiles in train_smiles)\n",
    "\n",
    "    lf.batch_add(fps)\n",
    "    lf.index()\n",
    "    cfg = tm.LayoutConfiguration()\n",
    "    cfg.k = 100\n",
    "    cfg.sl_extra_scaling_steps = 6\n",
    "    cfg.sl_repeats = 2\n",
    "    cfg.mmm_repeats = 2\n",
    "    cfg.node_size = 2\n",
    "    x, y, s, t, _ = tm.layout_from_lsh_forest(lf, config=cfg)\n",
    "\n",
    "    f = Faerun(\n",
    "    clear_color=\"#FFFFFF\",\n",
    "    coords=False,\n",
    "    view=\"free\",\n",
    "    impress='made with <a href=\"http://tmap.gdb.tools\" target=\"_blank\">tmap</a><br />and <a href=\"https://github.com/reymond-group/faerun-python\" target=\"_blank\">faerun</a>',\n",
    "    )\n",
    "    f.add_scatter(\n",
    "        f\"Photoswitches\",\n",
    "        {\n",
    "            \"x\": x,\n",
    "            \"y\": y,\n",
    "            \"c\": labels,\n",
    "            \"labels\": all_smiles,\n",
    "        },\n",
    "        colormap=\"Set1\",\n",
    "        categorical=True,\n",
    "        shader='sphere',\n",
    "        has_legend=True,\n",
    "        point_scale=5,\n",
    "        legend_labels=[(1, \"in database\"), (0, \"not in database\")],\n",
    "        max_point_size=5000\n",
    "    )\n",
    "    f.add_tree(\n",
    "        \"Photoswitches_tree\",\n",
    "        {\n",
    "            \"from\": s,\n",
    "            \"to\": t,\n",
    "        },\n",
    "        point_helper=\"Photoswitches\",\n",
    "    )\n",
    "    f.plot(\"Photoswitches\", template=\"smiles\")\n",
    "\n",
    "    shutil.copy(\"Photoswitches.html\", path)"
   ]
  },
  {
   "cell_type": "code",
   "execution_count": 68,
   "metadata": {},
   "outputs": [
    {
     "name": "stderr",
     "output_type": "stream",
     "text": [
      "100%|██████████| 403/403 [00:03<00:00, 102.31it/s]\n"
     ]
    },
    {
     "data": {
      "text/html": [
       "\n",
       "        <iframe\n",
       "            width=\"100%\"\n",
       "            height=\"500\"\n",
       "            src=\"./Photoswitches.html\"\n",
       "            frameborder=\"0\"\n",
       "            allowfullscreen\n",
       "            \n",
       "        ></iframe>\n",
       "        "
      ],
      "text/plain": [
       "<IPython.lib.display.IFrame at 0x115791910>"
      ]
     },
     "metadata": {},
     "output_type": "display_data"
    },
    {
     "data": {
      "text/html": [
       "<a href='./Photoswitches.html' target='_blank'>./Photoswitches.html</a><br>"
      ],
      "text/plain": [
       "/Users/kevinmaikjablonka/git/kjappelbaum/gptchem/experiments/05_inverse/photoswitch/random/Photoswitches.html"
      ]
     },
     "metadata": {},
     "output_type": "display_data"
    },
    {
     "name": "stderr",
     "output_type": "stream",
     "text": [
      "100%|██████████| 403/403 [00:03<00:00, 104.63it/s]\n"
     ]
    },
    {
     "data": {
      "text/html": [
       "\n",
       "        <iframe\n",
       "            width=\"100%\"\n",
       "            height=\"500\"\n",
       "            src=\"./Photoswitches.html\"\n",
       "            frameborder=\"0\"\n",
       "            allowfullscreen\n",
       "            \n",
       "        ></iframe>\n",
       "        "
      ],
      "text/plain": [
       "<IPython.lib.display.IFrame at 0x16f1c2cd0>"
      ]
     },
     "metadata": {},
     "output_type": "display_data"
    },
    {
     "data": {
      "text/html": [
       "<a href='./Photoswitches.html' target='_blank'>./Photoswitches.html</a><br>"
      ],
      "text/plain": [
       "/Users/kevinmaikjablonka/git/kjappelbaum/gptchem/experiments/05_inverse/photoswitch/random/Photoswitches.html"
      ]
     },
     "metadata": {},
     "output_type": "display_data"
    },
    {
     "name": "stderr",
     "output_type": "stream",
     "text": [
      "100%|██████████| 404/404 [00:03<00:00, 104.61it/s]\n"
     ]
    },
    {
     "data": {
      "text/html": [
       "\n",
       "        <iframe\n",
       "            width=\"100%\"\n",
       "            height=\"500\"\n",
       "            src=\"./Photoswitches.html\"\n",
       "            frameborder=\"0\"\n",
       "            allowfullscreen\n",
       "            \n",
       "        ></iframe>\n",
       "        "
      ],
      "text/plain": [
       "<IPython.lib.display.IFrame at 0x16f1c2370>"
      ]
     },
     "metadata": {},
     "output_type": "display_data"
    },
    {
     "data": {
      "text/html": [
       "<a href='./Photoswitches.html' target='_blank'>./Photoswitches.html</a><br>"
      ],
      "text/plain": [
       "/Users/kevinmaikjablonka/git/kjappelbaum/gptchem/experiments/05_inverse/photoswitch/random/Photoswitches.html"
      ]
     },
     "metadata": {},
     "output_type": "display_data"
    },
    {
     "name": "stderr",
     "output_type": "stream",
     "text": [
      "100%|██████████| 427/427 [00:04<00:00, 101.42it/s]\n"
     ]
    },
    {
     "data": {
      "text/html": [
       "\n",
       "        <iframe\n",
       "            width=\"100%\"\n",
       "            height=\"500\"\n",
       "            src=\"./Photoswitches.html\"\n",
       "            frameborder=\"0\"\n",
       "            allowfullscreen\n",
       "            \n",
       "        ></iframe>\n",
       "        "
      ],
      "text/plain": [
       "<IPython.lib.display.IFrame at 0x2a4fec790>"
      ]
     },
     "metadata": {},
     "output_type": "display_data"
    },
    {
     "data": {
      "text/html": [
       "<a href='./Photoswitches.html' target='_blank'>./Photoswitches.html</a><br>"
      ],
      "text/plain": [
       "/Users/kevinmaikjablonka/git/kjappelbaum/gptchem/experiments/05_inverse/photoswitch/random/Photoswitches.html"
      ]
     },
     "metadata": {},
     "output_type": "display_data"
    },
    {
     "name": "stderr",
     "output_type": "stream",
     "text": [
      "100%|██████████| 482/482 [00:04<00:00, 105.18it/s]\n"
     ]
    },
    {
     "data": {
      "text/html": [
       "\n",
       "        <iframe\n",
       "            width=\"100%\"\n",
       "            height=\"500\"\n",
       "            src=\"./Photoswitches.html\"\n",
       "            frameborder=\"0\"\n",
       "            allowfullscreen\n",
       "            \n",
       "        ></iframe>\n",
       "        "
      ],
      "text/plain": [
       "<IPython.lib.display.IFrame at 0x16f1ed400>"
      ]
     },
     "metadata": {},
     "output_type": "display_data"
    },
    {
     "data": {
      "text/html": [
       "<a href='./Photoswitches.html' target='_blank'>./Photoswitches.html</a><br>"
      ],
      "text/plain": [
       "/Users/kevinmaikjablonka/git/kjappelbaum/gptchem/experiments/05_inverse/photoswitch/random/Photoswitches.html"
      ]
     },
     "metadata": {},
     "output_type": "display_data"
    },
    {
     "name": "stderr",
     "output_type": "stream",
     "text": [
      "100%|██████████| 550/550 [00:05<00:00, 107.04it/s]\n"
     ]
    },
    {
     "data": {
      "text/html": [
       "\n",
       "        <iframe\n",
       "            width=\"100%\"\n",
       "            height=\"500\"\n",
       "            src=\"./Photoswitches.html\"\n",
       "            frameborder=\"0\"\n",
       "            allowfullscreen\n",
       "            \n",
       "        ></iframe>\n",
       "        "
      ],
      "text/plain": [
       "<IPython.lib.display.IFrame at 0x16f0da040>"
      ]
     },
     "metadata": {},
     "output_type": "display_data"
    },
    {
     "data": {
      "text/html": [
       "<a href='./Photoswitches.html' target='_blank'>./Photoswitches.html</a><br>"
      ],
      "text/plain": [
       "/Users/kevinmaikjablonka/git/kjappelbaum/gptchem/experiments/05_inverse/photoswitch/random/Photoswitches.html"
      ]
     },
     "metadata": {},
     "output_type": "display_data"
    },
    {
     "name": "stderr",
     "output_type": "stream",
     "text": [
      "100%|██████████| 530/530 [00:04<00:00, 106.41it/s]\n"
     ]
    },
    {
     "data": {
      "text/html": [
       "\n",
       "        <iframe\n",
       "            width=\"100%\"\n",
       "            height=\"500\"\n",
       "            src=\"./Photoswitches.html\"\n",
       "            frameborder=\"0\"\n",
       "            allowfullscreen\n",
       "            \n",
       "        ></iframe>\n",
       "        "
      ],
      "text/plain": [
       "<IPython.lib.display.IFrame at 0x2c9bc4c40>"
      ]
     },
     "metadata": {},
     "output_type": "display_data"
    },
    {
     "data": {
      "text/html": [
       "<a href='./Photoswitches.html' target='_blank'>./Photoswitches.html</a><br>"
      ],
      "text/plain": [
       "/Users/kevinmaikjablonka/git/kjappelbaum/gptchem/experiments/05_inverse/photoswitch/random/Photoswitches.html"
      ]
     },
     "metadata": {},
     "output_type": "display_data"
    },
    {
     "name": "stderr",
     "output_type": "stream",
     "text": [
      "100%|██████████| 469/469 [00:04<00:00, 104.95it/s]\n"
     ]
    },
    {
     "data": {
      "text/html": [
       "\n",
       "        <iframe\n",
       "            width=\"100%\"\n",
       "            height=\"500\"\n",
       "            src=\"./Photoswitches.html\"\n",
       "            frameborder=\"0\"\n",
       "            allowfullscreen\n",
       "            \n",
       "        ></iframe>\n",
       "        "
      ],
      "text/plain": [
       "<IPython.lib.display.IFrame at 0x2c9bc4670>"
      ]
     },
     "metadata": {},
     "output_type": "display_data"
    },
    {
     "data": {
      "text/html": [
       "<a href='./Photoswitches.html' target='_blank'>./Photoswitches.html</a><br>"
      ],
      "text/plain": [
       "/Users/kevinmaikjablonka/git/kjappelbaum/gptchem/experiments/05_inverse/photoswitch/random/Photoswitches.html"
      ]
     },
     "metadata": {},
     "output_type": "display_data"
    },
    {
     "name": "stderr",
     "output_type": "stream",
     "text": [
      "100%|██████████| 498/498 [00:04<00:00, 115.09it/s]\n"
     ]
    },
    {
     "data": {
      "text/html": [
       "\n",
       "        <iframe\n",
       "            width=\"100%\"\n",
       "            height=\"500\"\n",
       "            src=\"./Photoswitches.html\"\n",
       "            frameborder=\"0\"\n",
       "            allowfullscreen\n",
       "            \n",
       "        ></iframe>\n",
       "        "
      ],
      "text/plain": [
       "<IPython.lib.display.IFrame at 0x2cd469e20>"
      ]
     },
     "metadata": {},
     "output_type": "display_data"
    },
    {
     "data": {
      "text/html": [
       "<a href='./Photoswitches.html' target='_blank'>./Photoswitches.html</a><br>"
      ],
      "text/plain": [
       "/Users/kevinmaikjablonka/git/kjappelbaum/gptchem/experiments/05_inverse/photoswitch/random/Photoswitches.html"
      ]
     },
     "metadata": {},
     "output_type": "display_data"
    }
   ],
   "source": [
    "for temp in [0, 0.1, 0.2, 0.5, 0.75, 1.0, 1.25, 1.5, 2.0]:\n",
    "    make_figure(temp)"
   ]
  },
  {
   "cell_type": "code",
   "execution_count": 69,
   "metadata": {},
   "outputs": [
    {
     "name": "stderr",
     "output_type": "stream",
     "text": [
      "100%|██████████| 469/469 [00:04<00:00, 103.96it/s]\n"
     ]
    },
    {
     "data": {
      "text/html": [
       "\n",
       "        <iframe\n",
       "            width=\"100%\"\n",
       "            height=\"500\"\n",
       "            src=\"./Photoswitches.html\"\n",
       "            frameborder=\"0\"\n",
       "            allowfullscreen\n",
       "            \n",
       "        ></iframe>\n",
       "        "
      ],
      "text/plain": [
       "<IPython.lib.display.IFrame at 0x2ca52afa0>"
      ]
     },
     "metadata": {},
     "output_type": "display_data"
    },
    {
     "data": {
      "text/html": [
       "<a href='./Photoswitches.html' target='_blank'>./Photoswitches.html</a><br>"
      ],
      "text/plain": [
       "/Users/kevinmaikjablonka/git/kjappelbaum/gptchem/experiments/05_inverse/photoswitch/random/Photoswitches.html"
      ]
     },
     "metadata": {},
     "output_type": "display_data"
    }
   ],
   "source": [
    "make_figure(1.5)"
   ]
  },
  {
   "cell_type": "code",
   "execution_count": null,
   "metadata": {},
   "outputs": [],
   "source": []
  },
  {
   "cell_type": "code",
   "execution_count": null,
   "metadata": {},
   "outputs": [],
   "source": []
  }
 ],
 "metadata": {
  "kernelspec": {
   "display_name": "gptchem",
   "language": "python",
   "name": "python3"
  },
  "language_info": {
   "codemirror_mode": {
    "name": "ipython",
    "version": 3
   },
   "file_extension": ".py",
   "mimetype": "text/x-python",
   "name": "python",
   "nbconvert_exporter": "python",
   "pygments_lexer": "ipython3",
   "version": "3.9.15"
  },
  "orig_nbformat": 4,
  "vscode": {
   "interpreter": {
    "hash": "2f3b9074e5baa1438c27e2ea813f7f53b7516c83bd70840b6d64eae6820ee5df"
   }
  }
 },
 "nbformat": 4,
 "nbformat_minor": 2
}
