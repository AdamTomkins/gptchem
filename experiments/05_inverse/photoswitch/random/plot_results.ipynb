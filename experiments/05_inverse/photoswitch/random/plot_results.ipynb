{
 "cells": [
  {
   "cell_type": "code",
   "execution_count": 21,
   "metadata": {},
   "outputs": [
    {
     "name": "stdout",
     "output_type": "stream",
     "text": [
      "The autoreload extension is already loaded. To reload it, use:\n",
      "  %reload_ext autoreload\n"
     ]
    }
   ],
   "source": [
    "%load_ext autoreload\n",
    "%autoreload 2"
   ]
  },
  {
   "cell_type": "code",
   "execution_count": 22,
   "metadata": {},
   "outputs": [],
   "source": [
    "from glob import glob\n",
    "\n",
    "import matplotlib as mpl\n",
    "import matplotlib.pyplot as plt\n",
    "import pandas as pd\n",
    "from fastcore.xtras import load_pickle\n",
    "from guacamol.utils.chemistry import is_valid\n",
    "\n",
    "from gptchem.data import get_photoswitch_data\n",
    "from gptchem.evaluator import evaluate_generated_smiles, evaluate_photoswitch_smiles_pred\n",
    "from gptchem.settings import ONE_COL_GOLDEN_RATIO_HEIGHT_INCH, ONE_COL_WIDTH_INCH\n",
    "\n",
    "mpl.rcParams.update(mpl.rcParamsDefault)\n",
    "plt.style.use([\"science\", \"nature\"])\n",
    "\n",
    "import matplotx\n",
    "\n",
    "%matplotlib inline"
   ]
  },
  {
   "cell_type": "code",
   "execution_count": 23,
   "metadata": {},
   "outputs": [],
   "source": [
    "from rdkit import Chem"
   ]
  },
  {
   "cell_type": "code",
   "execution_count": 24,
   "metadata": {},
   "outputs": [],
   "source": [
    "all_res = glob(\"out/**/*.pkl\")"
   ]
  },
  {
   "cell_type": "code",
   "execution_count": 25,
   "metadata": {},
   "outputs": [],
   "source": [
    "res = load_pickle(all_res[0])"
   ]
  },
  {
   "cell_type": "code",
   "execution_count": 26,
   "metadata": {},
   "outputs": [],
   "source": [
    "from collections import defaultdict"
   ]
  },
  {
   "cell_type": "code",
   "execution_count": 27,
   "metadata": {},
   "outputs": [],
   "source": [
    "def contains_azo(smiles):\n",
    "    mol = Chem.MolFromSmiles(smiles)\n",
    "    # check if there is a N#N bond\n",
    "    smarts = \"[NX2]=N\"\n",
    "    return mol.HasSubstructMatch(Chem.MolFromSmarts(smarts))"
   ]
  },
  {
   "cell_type": "code",
   "execution_count": 28,
   "metadata": {},
   "outputs": [],
   "source": [
    "compiled_res = []\n",
    "generated_smiles = set()\n",
    "generated_smiles_w_azos = set()\n",
    "\n",
    "generated_smiles_w_azos_at_temp = defaultdict(set)\n",
    "generated_smiles_at_temp = defaultdict(set)\n",
    "\n",
    "for res_path in all_res:\n",
    "    res = load_pickle(res_path)\n",
    "    for temp_res in res[\"res_at_temp\"]:\n",
    "\n",
    "        metrics = {\n",
    "            \"noise_level\": res[\"noise_level\"],\n",
    "            \"temp\": temp_res[\"temperature\"],\n",
    "            \"frac_valid\": temp_res[\"frac_valid\"],\n",
    "            \"frac_unique\": temp_res[\"frac_unique\"],\n",
    "            \"frac_smiles_in_train\": temp_res[\"frac_smiles_in_train\"],\n",
    "            \"frac_smiles_in_pubchem\": temp_res[\"frac_smiles_in_pubchem\"],\n",
    "            \"kld\": temp_res[\"kld\"],\n",
    "            \"frechet_d\": temp_res[\"frechet_d\"],\n",
    "            \"frechet_score\": temp_res[\"frechet_score\"],\n",
    "            \"frac_contains_azo\": sum([contains_azo(s) for s in temp_res[\"valid_smiles\"]])\n",
    "            / len(temp_res[\"valid_smiles\"]),\n",
    "        }\n",
    "\n",
    "        generated_smiles.update([s for s in temp_res[\"generated_smiles\"] if is_valid(s)])\n",
    "        v_w_azo = [s for s in temp_res[\"generated_smiles\"] if is_valid(s) and contains_azo(s)]\n",
    "        generated_smiles_w_azos.update(v_w_azo)\n",
    "        generated_smiles_w_azos_at_temp[temp_res[\"temperature\"]].update(v_w_azo)\n",
    "\n",
    "        v = [s for s in temp_res[\"generated_smiles\"] if is_valid(s)]\n",
    "        generated_smiles_at_temp[temp_res[\"temperature\"]].update(v)\n",
    "\n",
    "        for me, v in temp_res[\"e_pi_pi_star_metrics\"].items():\n",
    "            metrics[\"e_pi_pi_star_\" + me] = v\n",
    "\n",
    "        for me, v in temp_res[\"z_pi_pi_star_metrics\"].items():\n",
    "            metrics[\"z_pi_pi_star_\" + me] = v\n",
    "        compiled_res.append(metrics)"
   ]
  },
  {
   "cell_type": "code",
   "execution_count": 29,
   "metadata": {},
   "outputs": [
    {
     "data": {
      "text/plain": [
       "True"
      ]
     },
     "execution_count": 29,
     "metadata": {},
     "output_type": "execute_result"
    }
   ],
   "source": [
    "contains_azo(list(generated_smiles)[5])"
   ]
  },
  {
   "cell_type": "code",
   "execution_count": 30,
   "metadata": {},
   "outputs": [
    {
     "data": {
      "image/png": "[encoded data removed]",
      "text/plain": [
       "<rdkit.Chem.rdchem.Mol at 0x2ae48a9e0>"
      ]
     },
     "execution_count": 30,
     "metadata": {},
     "output_type": "execute_result"
    }
   ],
   "source": [
    "Chem.MolFromSmiles(list(generated_smiles)[0])"
   ]
  },
  {
   "cell_type": "code",
   "execution_count": 31,
   "metadata": {},
   "outputs": [],
   "source": [
    "df = pd.DataFrame(compiled_res)"
   ]
  },
  {
   "cell_type": "code",
   "execution_count": 32,
   "metadata": {},
   "outputs": [],
   "source": [
    "grouped = df.groupby([\"temp\"]).agg([\"mean\", \"std\"])"
   ]
  },
  {
   "cell_type": "code",
   "execution_count": 33,
   "metadata": {},
   "outputs": [
    {
     "data": {
      "text/html": [
       "<div>\n",
       "<style scoped>\n",
       "    .dataframe tbody tr th:only-of-type {\n",
       "        vertical-align: middle;\n",
       "    }\n",
       "\n",
       "    .dataframe tbody tr th {\n",
       "        vertical-align: top;\n",
       "    }\n",
       "\n",
       "    .dataframe thead tr th {\n",
       "        text-align: left;\n",
       "    }\n",
       "\n",
       "    .dataframe thead tr:last-of-type th {\n",
       "        text-align: right;\n",
       "    }\n",
       "</style>\n",
       "<table border=\"1\" class=\"dataframe\">\n",
       "  <thead>\n",
       "    <tr>\n",
       "      <th></th>\n",
       "      <th colspan=\"2\" halign=\"left\">noise_level</th>\n",
       "      <th colspan=\"2\" halign=\"left\">frac_valid</th>\n",
       "      <th colspan=\"2\" halign=\"left\">frac_unique</th>\n",
       "      <th colspan=\"2\" halign=\"left\">frac_smiles_in_train</th>\n",
       "      <th colspan=\"2\" halign=\"left\">frac_smiles_in_pubchem</th>\n",
       "      <th>...</th>\n",
       "      <th colspan=\"2\" halign=\"left\">z_pi_pi_star_r2</th>\n",
       "      <th colspan=\"2\" halign=\"left\">z_pi_pi_star_max_error</th>\n",
       "      <th colspan=\"2\" halign=\"left\">z_pi_pi_star_mean_absolute_error</th>\n",
       "      <th colspan=\"2\" halign=\"left\">z_pi_pi_star_mean_squared_error</th>\n",
       "      <th colspan=\"2\" halign=\"left\">z_pi_pi_star_rmse</th>\n",
       "    </tr>\n",
       "    <tr>\n",
       "      <th></th>\n",
       "      <th>mean</th>\n",
       "      <th>std</th>\n",
       "      <th>mean</th>\n",
       "      <th>std</th>\n",
       "      <th>mean</th>\n",
       "      <th>std</th>\n",
       "      <th>mean</th>\n",
       "      <th>std</th>\n",
       "      <th>mean</th>\n",
       "      <th>std</th>\n",
       "      <th>...</th>\n",
       "      <th>mean</th>\n",
       "      <th>std</th>\n",
       "      <th>mean</th>\n",
       "      <th>std</th>\n",
       "      <th>mean</th>\n",
       "      <th>std</th>\n",
       "      <th>mean</th>\n",
       "      <th>std</th>\n",
       "      <th>mean</th>\n",
       "      <th>std</th>\n",
       "    </tr>\n",
       "    <tr>\n",
       "      <th>temp</th>\n",
       "      <th></th>\n",
       "      <th></th>\n",
       "      <th></th>\n",
       "      <th></th>\n",
       "      <th></th>\n",
       "      <th></th>\n",
       "      <th></th>\n",
       "      <th></th>\n",
       "      <th></th>\n",
       "      <th></th>\n",
       "      <th></th>\n",
       "      <th></th>\n",
       "      <th></th>\n",
       "      <th></th>\n",
       "      <th></th>\n",
       "      <th></th>\n",
       "      <th></th>\n",
       "      <th></th>\n",
       "      <th></th>\n",
       "      <th></th>\n",
       "      <th></th>\n",
       "    </tr>\n",
       "  </thead>\n",
       "  <tbody>\n",
       "    <tr>\n",
       "      <th>0.00</th>\n",
       "      <td>8.125</td>\n",
       "      <td>14.140022</td>\n",
       "      <td>0.989583</td>\n",
       "      <td>0.038259</td>\n",
       "      <td>0.037438</td>\n",
       "      <td>0.020466</td>\n",
       "      <td>0.0</td>\n",
       "      <td>0.0</td>\n",
       "      <td>1.000000</td>\n",
       "      <td>0.000000</td>\n",
       "      <td>...</td>\n",
       "      <td>-0.043191</td>\n",
       "      <td>0.054393</td>\n",
       "      <td>61.572254</td>\n",
       "      <td>25.712118</td>\n",
       "      <td>17.091112</td>\n",
       "      <td>8.335583</td>\n",
       "      <td>615.722086</td>\n",
       "      <td>741.226387</td>\n",
       "      <td>22.680350</td>\n",
       "      <td>10.282470</td>\n",
       "    </tr>\n",
       "    <tr>\n",
       "      <th>0.10</th>\n",
       "      <td>8.125</td>\n",
       "      <td>14.140022</td>\n",
       "      <td>0.980525</td>\n",
       "      <td>0.036402</td>\n",
       "      <td>0.065131</td>\n",
       "      <td>0.031472</td>\n",
       "      <td>0.0</td>\n",
       "      <td>0.0</td>\n",
       "      <td>1.000000</td>\n",
       "      <td>0.000000</td>\n",
       "      <td>...</td>\n",
       "      <td>-0.039987</td>\n",
       "      <td>0.049132</td>\n",
       "      <td>61.989934</td>\n",
       "      <td>26.578796</td>\n",
       "      <td>17.169255</td>\n",
       "      <td>8.206404</td>\n",
       "      <td>617.713286</td>\n",
       "      <td>742.200626</td>\n",
       "      <td>22.747966</td>\n",
       "      <td>10.227499</td>\n",
       "    </tr>\n",
       "    <tr>\n",
       "      <th>0.20</th>\n",
       "      <td>8.125</td>\n",
       "      <td>14.140022</td>\n",
       "      <td>0.975996</td>\n",
       "      <td>0.034815</td>\n",
       "      <td>0.125920</td>\n",
       "      <td>0.035278</td>\n",
       "      <td>0.0</td>\n",
       "      <td>0.0</td>\n",
       "      <td>1.000000</td>\n",
       "      <td>0.000000</td>\n",
       "      <td>...</td>\n",
       "      <td>-0.066827</td>\n",
       "      <td>0.061689</td>\n",
       "      <td>62.984851</td>\n",
       "      <td>25.391623</td>\n",
       "      <td>17.470335</td>\n",
       "      <td>8.587455</td>\n",
       "      <td>637.252991</td>\n",
       "      <td>767.741894</td>\n",
       "      <td>23.052686</td>\n",
       "      <td>10.508464</td>\n",
       "    </tr>\n",
       "    <tr>\n",
       "      <th>0.50</th>\n",
       "      <td>8.125</td>\n",
       "      <td>14.140022</td>\n",
       "      <td>0.971014</td>\n",
       "      <td>0.017161</td>\n",
       "      <td>0.379300</td>\n",
       "      <td>0.041106</td>\n",
       "      <td>0.0</td>\n",
       "      <td>0.0</td>\n",
       "      <td>1.000000</td>\n",
       "      <td>0.000000</td>\n",
       "      <td>...</td>\n",
       "      <td>-0.147436</td>\n",
       "      <td>0.100029</td>\n",
       "      <td>70.533794</td>\n",
       "      <td>26.939743</td>\n",
       "      <td>17.813284</td>\n",
       "      <td>8.253109</td>\n",
       "      <td>663.387616</td>\n",
       "      <td>754.601453</td>\n",
       "      <td>23.753050</td>\n",
       "      <td>10.173123</td>\n",
       "    </tr>\n",
       "    <tr>\n",
       "      <th>0.75</th>\n",
       "      <td>8.125</td>\n",
       "      <td>14.140022</td>\n",
       "      <td>0.902627</td>\n",
       "      <td>0.033384</td>\n",
       "      <td>0.570800</td>\n",
       "      <td>0.041575</td>\n",
       "      <td>0.0</td>\n",
       "      <td>0.0</td>\n",
       "      <td>1.000000</td>\n",
       "      <td>0.000000</td>\n",
       "      <td>...</td>\n",
       "      <td>-0.219255</td>\n",
       "      <td>0.169558</td>\n",
       "      <td>73.256070</td>\n",
       "      <td>25.385352</td>\n",
       "      <td>17.932351</td>\n",
       "      <td>8.379968</td>\n",
       "      <td>691.293719</td>\n",
       "      <td>817.763582</td>\n",
       "      <td>24.181111</td>\n",
       "      <td>10.545187</td>\n",
       "    </tr>\n",
       "    <tr>\n",
       "      <th>1.00</th>\n",
       "      <td>8.125</td>\n",
       "      <td>14.140022</td>\n",
       "      <td>0.697917</td>\n",
       "      <td>0.046996</td>\n",
       "      <td>0.769138</td>\n",
       "      <td>0.051791</td>\n",
       "      <td>0.0</td>\n",
       "      <td>0.0</td>\n",
       "      <td>1.000000</td>\n",
       "      <td>0.000000</td>\n",
       "      <td>...</td>\n",
       "      <td>-0.316465</td>\n",
       "      <td>0.217507</td>\n",
       "      <td>70.189462</td>\n",
       "      <td>20.106939</td>\n",
       "      <td>18.695796</td>\n",
       "      <td>7.813233</td>\n",
       "      <td>711.597706</td>\n",
       "      <td>686.524547</td>\n",
       "      <td>25.016391</td>\n",
       "      <td>9.460832</td>\n",
       "    </tr>\n",
       "    <tr>\n",
       "      <th>1.25</th>\n",
       "      <td>8.125</td>\n",
       "      <td>14.140022</td>\n",
       "      <td>0.326540</td>\n",
       "      <td>0.045946</td>\n",
       "      <td>0.908802</td>\n",
       "      <td>0.068109</td>\n",
       "      <td>0.0</td>\n",
       "      <td>0.0</td>\n",
       "      <td>1.000000</td>\n",
       "      <td>0.000000</td>\n",
       "      <td>...</td>\n",
       "      <td>-0.507095</td>\n",
       "      <td>0.376553</td>\n",
       "      <td>58.402621</td>\n",
       "      <td>18.043703</td>\n",
       "      <td>18.608751</td>\n",
       "      <td>6.625421</td>\n",
       "      <td>650.678135</td>\n",
       "      <td>556.859813</td>\n",
       "      <td>24.252311</td>\n",
       "      <td>8.075958</td>\n",
       "    </tr>\n",
       "    <tr>\n",
       "      <th>1.50</th>\n",
       "      <td>8.125</td>\n",
       "      <td>14.140022</td>\n",
       "      <td>0.120924</td>\n",
       "      <td>0.033204</td>\n",
       "      <td>1.000000</td>\n",
       "      <td>0.000000</td>\n",
       "      <td>0.0</td>\n",
       "      <td>0.0</td>\n",
       "      <td>1.000000</td>\n",
       "      <td>0.000000</td>\n",
       "      <td>...</td>\n",
       "      <td>-3.219800</td>\n",
       "      <td>4.414660</td>\n",
       "      <td>62.712580</td>\n",
       "      <td>26.779688</td>\n",
       "      <td>29.134478</td>\n",
       "      <td>12.451171</td>\n",
       "      <td>1390.862138</td>\n",
       "      <td>1634.230071</td>\n",
       "      <td>34.571292</td>\n",
       "      <td>14.289721</td>\n",
       "    </tr>\n",
       "    <tr>\n",
       "      <th>2.00</th>\n",
       "      <td>8.125</td>\n",
       "      <td>14.140022</td>\n",
       "      <td>0.125453</td>\n",
       "      <td>0.034220</td>\n",
       "      <td>1.000000</td>\n",
       "      <td>0.000000</td>\n",
       "      <td>0.0</td>\n",
       "      <td>0.0</td>\n",
       "      <td>0.986378</td>\n",
       "      <td>0.039665</td>\n",
       "      <td>...</td>\n",
       "      <td>-4.328768</td>\n",
       "      <td>3.292434</td>\n",
       "      <td>68.292860</td>\n",
       "      <td>18.265637</td>\n",
       "      <td>34.175368</td>\n",
       "      <td>4.604907</td>\n",
       "      <td>1542.045921</td>\n",
       "      <td>495.669677</td>\n",
       "      <td>38.842407</td>\n",
       "      <td>5.895911</td>\n",
       "    </tr>\n",
       "  </tbody>\n",
       "</table>\n",
       "<p>9 rows × 38 columns</p>\n",
       "</div>"
      ],
      "text/plain": [
       "     noise_level            frac_valid           frac_unique            \\\n",
       "            mean        std       mean       std        mean       std   \n",
       "temp                                                                     \n",
       "0.00       8.125  14.140022   0.989583  0.038259    0.037438  0.020466   \n",
       "0.10       8.125  14.140022   0.980525  0.036402    0.065131  0.031472   \n",
       "0.20       8.125  14.140022   0.975996  0.034815    0.125920  0.035278   \n",
       "0.50       8.125  14.140022   0.971014  0.017161    0.379300  0.041106   \n",
       "0.75       8.125  14.140022   0.902627  0.033384    0.570800  0.041575   \n",
       "1.00       8.125  14.140022   0.697917  0.046996    0.769138  0.051791   \n",
       "1.25       8.125  14.140022   0.326540  0.045946    0.908802  0.068109   \n",
       "1.50       8.125  14.140022   0.120924  0.033204    1.000000  0.000000   \n",
       "2.00       8.125  14.140022   0.125453  0.034220    1.000000  0.000000   \n",
       "\n",
       "     frac_smiles_in_train      frac_smiles_in_pubchem            ...  \\\n",
       "                     mean  std                   mean       std  ...   \n",
       "temp                                                             ...   \n",
       "0.00                  0.0  0.0               1.000000  0.000000  ...   \n",
       "0.10                  0.0  0.0               1.000000  0.000000  ...   \n",
       "0.20                  0.0  0.0               1.000000  0.000000  ...   \n",
       "0.50                  0.0  0.0               1.000000  0.000000  ...   \n",
       "0.75                  0.0  0.0               1.000000  0.000000  ...   \n",
       "1.00                  0.0  0.0               1.000000  0.000000  ...   \n",
       "1.25                  0.0  0.0               1.000000  0.000000  ...   \n",
       "1.50                  0.0  0.0               1.000000  0.000000  ...   \n",
       "2.00                  0.0  0.0               0.986378  0.039665  ...   \n",
       "\n",
       "     z_pi_pi_star_r2           z_pi_pi_star_max_error             \\\n",
       "                mean       std                   mean        std   \n",
       "temp                                                               \n",
       "0.00       -0.043191  0.054393              61.572254  25.712118   \n",
       "0.10       -0.039987  0.049132              61.989934  26.578796   \n",
       "0.20       -0.066827  0.061689              62.984851  25.391623   \n",
       "0.50       -0.147436  0.100029              70.533794  26.939743   \n",
       "0.75       -0.219255  0.169558              73.256070  25.385352   \n",
       "1.00       -0.316465  0.217507              70.189462  20.106939   \n",
       "1.25       -0.507095  0.376553              58.402621  18.043703   \n",
       "1.50       -3.219800  4.414660              62.712580  26.779688   \n",
       "2.00       -4.328768  3.292434              68.292860  18.265637   \n",
       "\n",
       "     z_pi_pi_star_mean_absolute_error             \\\n",
       "                                 mean        std   \n",
       "temp                                               \n",
       "0.00                        17.091112   8.335583   \n",
       "0.10                        17.169255   8.206404   \n",
       "0.20                        17.470335   8.587455   \n",
       "0.50                        17.813284   8.253109   \n",
       "0.75                        17.932351   8.379968   \n",
       "1.00                        18.695796   7.813233   \n",
       "1.25                        18.608751   6.625421   \n",
       "1.50                        29.134478  12.451171   \n",
       "2.00                        34.175368   4.604907   \n",
       "\n",
       "     z_pi_pi_star_mean_squared_error              z_pi_pi_star_rmse             \n",
       "                                mean          std              mean        std  \n",
       "temp                                                                            \n",
       "0.00                      615.722086   741.226387         22.680350  10.282470  \n",
       "0.10                      617.713286   742.200626         22.747966  10.227499  \n",
       "0.20                      637.252991   767.741894         23.052686  10.508464  \n",
       "0.50                      663.387616   754.601453         23.753050  10.173123  \n",
       "0.75                      691.293719   817.763582         24.181111  10.545187  \n",
       "1.00                      711.597706   686.524547         25.016391   9.460832  \n",
       "1.25                      650.678135   556.859813         24.252311   8.075958  \n",
       "1.50                     1390.862138  1634.230071         34.571292  14.289721  \n",
       "2.00                     1542.045921   495.669677         38.842407   5.895911  \n",
       "\n",
       "[9 rows x 38 columns]"
      ]
     },
     "execution_count": 33,
     "metadata": {},
     "output_type": "execute_result"
    }
   ],
   "source": [
    "grouped"
   ]
  },
  {
   "cell_type": "code",
   "execution_count": 34,
   "metadata": {},
   "outputs": [
    {
     "data": {
      "image/png": "[encoded data removed]",
      "text/plain": [
       "<Figure size 325x650 with 7 Axes>"
      ]
     },
     "metadata": {},
     "output_type": "display_data"
    }
   ],
   "source": [
    "with plt.style.context(matplotx.styles.dufte):\n",
    "    fig, ax = plt.subplots(7, 1, sharex=\"all\", figsize=(ONE_COL_WIDTH_INCH, 2 * ONE_COL_WIDTH_INCH))\n",
    "    ax[0].plot(grouped.index, grouped[\"frac_valid\"][\"mean\"], label=\"frac_valid\")\n",
    "    ax[0].fill_between(\n",
    "        grouped.index,\n",
    "        grouped[\"frac_valid\"][\"mean\"] - grouped[\"frac_valid\"][\"std\"],\n",
    "        grouped[\"frac_valid\"][\"mean\"] + grouped[\"frac_valid\"][\"std\"],\n",
    "        alpha=0.2,\n",
    "    )\n",
    "\n",
    "    matplotx.ylabel_top(\"frac. valid SMILES\", ax=ax[0])\n",
    "\n",
    "    ax[1].plot(grouped.index, grouped[\"frac_unique\"][\"mean\"], label=\"frac_unique\")\n",
    "    ax[1].fill_between(\n",
    "        grouped.index,\n",
    "        grouped[\"frac_unique\"][\"mean\"] - grouped[\"frac_unique\"][\"std\"],\n",
    "        grouped[\"frac_unique\"][\"mean\"] + grouped[\"frac_unique\"][\"std\"],\n",
    "        alpha=0.2,\n",
    "    )\n",
    "\n",
    "    matplotx.ylabel_top(\"frac. unique SMILES\", ax=ax[1])\n",
    "\n",
    "    ax[2].plot(grouped.index, grouped[\"frac_smiles_in_train\"][\"mean\"], label=\"frac_smiles_in_train\")\n",
    "    ax[2].fill_between(\n",
    "        grouped.index,\n",
    "        grouped[\"frac_smiles_in_train\"][\"mean\"] - grouped[\"frac_smiles_in_train\"][\"std\"],\n",
    "        grouped[\"frac_smiles_in_train\"][\"mean\"] + grouped[\"frac_smiles_in_train\"][\"std\"],\n",
    "        alpha=0.2,\n",
    "    )\n",
    "\n",
    "    matplotx.ylabel_top(\"frac. SMILES in train\", ax=ax[2])\n",
    "\n",
    "    ax[3].plot(\n",
    "        grouped.index, grouped[\"frac_smiles_in_pubchem\"][\"mean\"], label=\"frac_smiles_in_pubchem\"\n",
    "    )\n",
    "    ax[3].fill_between(\n",
    "        grouped.index,\n",
    "        grouped[\"frac_smiles_in_pubchem\"][\"mean\"] - grouped[\"frac_smiles_in_pubchem\"][\"std\"],\n",
    "        grouped[\"frac_smiles_in_pubchem\"][\"mean\"] + grouped[\"frac_smiles_in_pubchem\"][\"std\"],\n",
    "        alpha=0.2,\n",
    "    )\n",
    "\n",
    "    matplotx.ylabel_top(\"frac. SMILES in PubChem\", ax=ax[3])\n",
    "\n",
    "    ax[4].plot(grouped.index, grouped[\"kld\"][\"mean\"], label=\"kld\")\n",
    "    ax[4].fill_between(\n",
    "        grouped.index,\n",
    "        grouped[\"kld\"][\"mean\"] - grouped[\"kld\"][\"std\"],\n",
    "        grouped[\"kld\"][\"mean\"] + grouped[\"kld\"][\"std\"],\n",
    "        alpha=0.2,\n",
    "    )\n",
    "\n",
    "    matplotx.ylabel_top(\"KLD\", ax=ax[4])\n",
    "\n",
    "    ax[5].plot(grouped.index, grouped[\"frechet_d\"][\"mean\"], label=\"frechet_d\")\n",
    "    ax[5].fill_between(\n",
    "        grouped.index,\n",
    "        grouped[\"frechet_d\"][\"mean\"] - grouped[\"frechet_d\"][\"std\"],\n",
    "        grouped[\"frechet_d\"][\"mean\"] + grouped[\"frechet_d\"][\"std\"],\n",
    "        alpha=0.2,\n",
    "    )\n",
    "\n",
    "    matplotx.ylabel_top(\"Frechet distance\", ax=ax[5])\n",
    "\n",
    "    ax[6].plot(grouped.index, grouped[\"frac_contains_azo\"][\"mean\"], label=\"frechet_score\")\n",
    "    ax[6].fill_between(\n",
    "        grouped.index,\n",
    "        grouped[\"frac_contains_azo\"][\"mean\"] - grouped[\"frac_contains_azo\"][\"std\"],\n",
    "        grouped[\"frac_contains_azo\"][\"mean\"] + grouped[\"frac_contains_azo\"][\"std\"],\n",
    "        alpha=0.2,\n",
    "    )\n",
    "\n",
    "    matplotx.ylabel_top(\"frac. SMILES with azo\", ax=ax[6])\n",
    "\n",
    "    ax[-1].set_xlabel(\"temperature\", labelpad=4)\n",
    "\n",
    "    fig.savefig(\"photoswitch_random_smiles_metrics.pdf\", bbox_inches=\"tight\")"
   ]
  },
  {
   "cell_type": "code",
   "execution_count": 35,
   "metadata": {},
   "outputs": [
    {
     "data": {
      "image/png": "[encoded data removed]",
      "text/plain": [
       "<Figure size 325x200.861 with 2 Axes>"
      ]
     },
     "metadata": {},
     "output_type": "display_data"
    }
   ],
   "source": [
    "with plt.style.context(matplotx.styles.dufte):\n",
    "    fig, ax = plt.subplots(\n",
    "        2, 1, sharex=\"all\", figsize=(ONE_COL_WIDTH_INCH, ONE_COL_GOLDEN_RATIO_HEIGHT_INCH)\n",
    "    )\n",
    "\n",
    "    ax[0].plot(\n",
    "        grouped.index,\n",
    "        grouped[\"z_pi_pi_star_mean_absolute_error\"][\"mean\"],\n",
    "        label=\"e_pi_pi_star_metrics\",\n",
    "    )\n",
    "    ax[0].fill_between(\n",
    "        grouped.index,\n",
    "        grouped[\"z_pi_pi_star_mean_absolute_error\"][\"mean\"]\n",
    "        - grouped[\"z_pi_pi_star_mean_absolute_error\"][\"std\"],\n",
    "        grouped[\"z_pi_pi_star_mean_absolute_error\"][\"mean\"]\n",
    "        + grouped[\"z_pi_pi_star_mean_absolute_error\"][\"std\"],\n",
    "        alpha=0.2,\n",
    "    )\n",
    "\n",
    "    matplotx.ylabel_top(\"Z isomer MAE\", ax=ax[0])\n",
    "\n",
    "    ax[0].hlines(11.616605626696359, 0, 2, color=\"k\", linestyle=\"--\")\n",
    "\n",
    "    ax[0].set_ylim(8, 35)\n",
    "\n",
    "    ax[1].plot(\n",
    "        grouped.index,\n",
    "        grouped[\"e_pi_pi_star_mean_absolute_error\"][\"mean\"],\n",
    "        label=\"e_pi_pi_star_metrics\",\n",
    "    )\n",
    "    ax[1].fill_between(\n",
    "        grouped.index,\n",
    "        grouped[\"e_pi_pi_star_mean_absolute_error\"][\"mean\"]\n",
    "        - grouped[\"e_pi_pi_star_mean_absolute_error\"][\"std\"],\n",
    "        grouped[\"e_pi_pi_star_mean_absolute_error\"][\"mean\"]\n",
    "        + grouped[\"e_pi_pi_star_mean_absolute_error\"][\"std\"],\n",
    "        alpha=0.2,\n",
    "    )\n",
    "\n",
    "    matplotx.ylabel_top(\"E isomer MAE\", ax=ax[1])\n",
    "\n",
    "    ax[1].hlines(14.38998132190228, 0, 2, color=\"k\", linestyle=\"--\")\n",
    "\n",
    "    ax[-1].set_xlabel(\"temperature\", labelpad=4)\n",
    "    ax[1].set_ylim(10, 65)\n",
    "fig.savefig(\"random_photoswitch_constrain_matches.pdf\", bbox_inches=\"tight\")"
   ]
  },
  {
   "cell_type": "markdown",
   "metadata": {},
   "source": [
    "## Visualize"
   ]
  },
  {
   "cell_type": "code",
   "execution_count": 36,
   "metadata": {},
   "outputs": [],
   "source": [
    "import numpy as np\n",
    "import tmap as tm\n",
    "from faerun import Faerun\n",
    "from mhfp.encoder import MHFPEncoder\n",
    "from rdkit.Chem import AllChem\n",
    "from tqdm import tqdm"
   ]
  },
  {
   "cell_type": "code",
   "execution_count": 37,
   "metadata": {},
   "outputs": [],
   "source": [
    "import os\n",
    "import shutil"
   ]
  },
  {
   "cell_type": "code",
   "execution_count": 38,
   "metadata": {},
   "outputs": [],
   "source": [
    "def make_figure(temp):\n",
    "    path = f\"plots_all/{temp}\"\n",
    "    os.makedirs(path, exist_ok=True)\n",
    "    enc = MHFPEncoder()\n",
    "    lf = tm.LSHForest(2048, 128)\n",
    "    train_data = get_photoswitch_data()\n",
    "    train_smiles = train_data[\"SMILES\"].values\n",
    "    all_smiles = set(train_smiles) | generated_smiles_at_temp[temp]\n",
    "\n",
    "    fps = []\n",
    "    labels = []\n",
    "\n",
    "    for smiles in tqdm(all_smiles):\n",
    "        mol = AllChem.MolFromSmiles(smiles)\n",
    "        fps.append(tm.VectorUint(enc.encode_mol(mol, min_radius=0)))\n",
    "        labels.append(smiles in train_smiles)\n",
    "\n",
    "    lf.batch_add(fps)\n",
    "    lf.index()\n",
    "    cfg = tm.LayoutConfiguration()\n",
    "    cfg.k = 100\n",
    "    cfg.sl_extra_scaling_steps = 6\n",
    "    cfg.sl_repeats = 2\n",
    "    cfg.mmm_repeats = 2\n",
    "    cfg.node_size = 2\n",
    "    x, y, s, t, _ = tm.layout_from_lsh_forest(lf, config=cfg)\n",
    "\n",
    "    f = Faerun(\n",
    "        clear_color=\"#FFFFFF\",\n",
    "        coords=False,\n",
    "        view=\"free\",\n",
    "        impress='made with <a href=\"http://tmap.gdb.tools\" target=\"_blank\">tmap</a><br />and <a href=\"https://github.com/reymond-group/faerun-python\" target=\"_blank\">faerun</a>',\n",
    "    )\n",
    "    f.add_scatter(\n",
    "        f\"Photoswitches\",\n",
    "        {\n",
    "            \"x\": x,\n",
    "            \"y\": y,\n",
    "            \"c\": labels,\n",
    "            \"labels\": all_smiles,\n",
    "        },\n",
    "        colormap=\"Set1\",\n",
    "        categorical=True,\n",
    "        shader=\"sphere\",\n",
    "        has_legend=True,\n",
    "        point_scale=5,\n",
    "        legend_labels=[(1, \"in database\"), (0, \"not in database\")],\n",
    "        max_point_size=5000,\n",
    "    )\n",
    "    f.add_tree(\n",
    "        \"Photoswitches_tree\",\n",
    "        {\n",
    "            \"from\": s,\n",
    "            \"to\": t,\n",
    "        },\n",
    "        point_helper=\"Photoswitches\",\n",
    "    )\n",
    "    f.plot(\"Photoswitches\", template=\"smiles\")\n",
    "\n",
    "    shutil.copy(\"Photoswitches.html\", path)"
   ]
  },
  {
   "cell_type": "code",
   "execution_count": 39,
   "metadata": {},
   "outputs": [
    {
     "name": "stderr",
     "output_type": "stream",
     "text": [
      "100%|██████████| 406/406 [00:02<00:00, 161.41it/s]\n"
     ]
    },
    {
     "data": {
      "text/html": [
       "\n",
       "        <iframe\n",
       "            width=\"100%\"\n",
       "            height=\"500\"\n",
       "            src=\"./Photoswitches.html\"\n",
       "            frameborder=\"0\"\n",
       "            allowfullscreen\n",
       "            \n",
       "        ></iframe>\n",
       "        "
      ],
      "text/plain": [
       "<IPython.lib.display.IFrame at 0x2ae577340>"
      ]
     },
     "metadata": {},
     "output_type": "display_data"
    },
    {
     "data": {
      "text/html": [
       "<a href='./Photoswitches.html' target='_blank'>./Photoswitches.html</a><br>"
      ],
      "text/plain": [
       "/Users/kevinmaikjablonka/git/kjappelbaum/gptchem/experiments/05_inverse/photoswitch/random/Photoswitches.html"
      ]
     },
     "metadata": {},
     "output_type": "display_data"
    },
    {
     "name": "stderr",
     "output_type": "stream",
     "text": [
      "100%|██████████| 406/406 [00:02<00:00, 161.24it/s]\n"
     ]
    },
    {
     "data": {
      "text/html": [
       "\n",
       "        <iframe\n",
       "            width=\"100%\"\n",
       "            height=\"500\"\n",
       "            src=\"./Photoswitches.html\"\n",
       "            frameborder=\"0\"\n",
       "            allowfullscreen\n",
       "            \n",
       "        ></iframe>\n",
       "        "
      ],
      "text/plain": [
       "<IPython.lib.display.IFrame at 0x16f2cff10>"
      ]
     },
     "metadata": {},
     "output_type": "display_data"
    },
    {
     "data": {
      "text/html": [
       "<a href='./Photoswitches.html' target='_blank'>./Photoswitches.html</a><br>"
      ],
      "text/plain": [
       "/Users/kevinmaikjablonka/git/kjappelbaum/gptchem/experiments/05_inverse/photoswitch/random/Photoswitches.html"
      ]
     },
     "metadata": {},
     "output_type": "display_data"
    },
    {
     "name": "stderr",
     "output_type": "stream",
     "text": [
      "100%|██████████| 410/410 [00:02<00:00, 163.33it/s]\n"
     ]
    },
    {
     "data": {
      "text/html": [
       "\n",
       "        <iframe\n",
       "            width=\"100%\"\n",
       "            height=\"500\"\n",
       "            src=\"./Photoswitches.html\"\n",
       "            frameborder=\"0\"\n",
       "            allowfullscreen\n",
       "            \n",
       "        ></iframe>\n",
       "        "
      ],
      "text/plain": [
       "<IPython.lib.display.IFrame at 0x16f5216a0>"
      ]
     },
     "metadata": {},
     "output_type": "display_data"
    },
    {
     "data": {
      "text/html": [
       "<a href='./Photoswitches.html' target='_blank'>./Photoswitches.html</a><br>"
      ],
      "text/plain": [
       "/Users/kevinmaikjablonka/git/kjappelbaum/gptchem/experiments/05_inverse/photoswitch/random/Photoswitches.html"
      ]
     },
     "metadata": {},
     "output_type": "display_data"
    },
    {
     "name": "stderr",
     "output_type": "stream",
     "text": [
      "100%|██████████| 469/469 [00:02<00:00, 168.31it/s]\n"
     ]
    },
    {
     "data": {
      "text/html": [
       "\n",
       "        <iframe\n",
       "            width=\"100%\"\n",
       "            height=\"500\"\n",
       "            src=\"./Photoswitches.html\"\n",
       "            frameborder=\"0\"\n",
       "            allowfullscreen\n",
       "            \n",
       "        ></iframe>\n",
       "        "
      ],
      "text/plain": [
       "<IPython.lib.display.IFrame at 0x2b55530d0>"
      ]
     },
     "metadata": {},
     "output_type": "display_data"
    },
    {
     "data": {
      "text/html": [
       "<a href='./Photoswitches.html' target='_blank'>./Photoswitches.html</a><br>"
      ],
      "text/plain": [
       "/Users/kevinmaikjablonka/git/kjappelbaum/gptchem/experiments/05_inverse/photoswitch/random/Photoswitches.html"
      ]
     },
     "metadata": {},
     "output_type": "display_data"
    },
    {
     "name": "stderr",
     "output_type": "stream",
     "text": [
      "100%|██████████| 608/608 [00:03<00:00, 171.69it/s]\n"
     ]
    },
    {
     "data": {
      "text/html": [
       "\n",
       "        <iframe\n",
       "            width=\"100%\"\n",
       "            height=\"500\"\n",
       "            src=\"./Photoswitches.html\"\n",
       "            frameborder=\"0\"\n",
       "            allowfullscreen\n",
       "            \n",
       "        ></iframe>\n",
       "        "
      ],
      "text/plain": [
       "<IPython.lib.display.IFrame at 0x2b1655a30>"
      ]
     },
     "metadata": {},
     "output_type": "display_data"
    },
    {
     "data": {
      "text/html": [
       "<a href='./Photoswitches.html' target='_blank'>./Photoswitches.html</a><br>"
      ],
      "text/plain": [
       "/Users/kevinmaikjablonka/git/kjappelbaum/gptchem/experiments/05_inverse/photoswitch/random/Photoswitches.html"
      ]
     },
     "metadata": {},
     "output_type": "display_data"
    },
    {
     "name": "stderr",
     "output_type": "stream",
     "text": [
      "100%|██████████| 796/796 [00:04<00:00, 171.49it/s]\n"
     ]
    },
    {
     "data": {
      "text/html": [
       "\n",
       "        <iframe\n",
       "            width=\"100%\"\n",
       "            height=\"500\"\n",
       "            src=\"./Photoswitches.html\"\n",
       "            frameborder=\"0\"\n",
       "            allowfullscreen\n",
       "            \n",
       "        ></iframe>\n",
       "        "
      ],
      "text/plain": [
       "<IPython.lib.display.IFrame at 0x2b54be0d0>"
      ]
     },
     "metadata": {},
     "output_type": "display_data"
    },
    {
     "data": {
      "text/html": [
       "<a href='./Photoswitches.html' target='_blank'>./Photoswitches.html</a><br>"
      ],
      "text/plain": [
       "/Users/kevinmaikjablonka/git/kjappelbaum/gptchem/experiments/05_inverse/photoswitch/random/Photoswitches.html"
      ]
     },
     "metadata": {},
     "output_type": "display_data"
    },
    {
     "name": "stderr",
     "output_type": "stream",
     "text": [
      "100%|██████████| 736/736 [00:04<00:00, 180.66it/s]\n"
     ]
    },
    {
     "data": {
      "text/html": [
       "\n",
       "        <iframe\n",
       "            width=\"100%\"\n",
       "            height=\"500\"\n",
       "            src=\"./Photoswitches.html\"\n",
       "            frameborder=\"0\"\n",
       "            allowfullscreen\n",
       "            \n",
       "        ></iframe>\n",
       "        "
      ],
      "text/plain": [
       "<IPython.lib.display.IFrame at 0x2b16f3f40>"
      ]
     },
     "metadata": {},
     "output_type": "display_data"
    },
    {
     "data": {
      "text/html": [
       "<a href='./Photoswitches.html' target='_blank'>./Photoswitches.html</a><br>"
      ],
      "text/plain": [
       "/Users/kevinmaikjablonka/git/kjappelbaum/gptchem/experiments/05_inverse/photoswitch/random/Photoswitches.html"
      ]
     },
     "metadata": {},
     "output_type": "display_data"
    },
    {
     "name": "stderr",
     "output_type": "stream",
     "text": [
      "100%|██████████| 635/635 [00:03<00:00, 204.27it/s]\n"
     ]
    },
    {
     "data": {
      "text/html": [
       "\n",
       "        <iframe\n",
       "            width=\"100%\"\n",
       "            height=\"500\"\n",
       "            src=\"./Photoswitches.html\"\n",
       "            frameborder=\"0\"\n",
       "            allowfullscreen\n",
       "            \n",
       "        ></iframe>\n",
       "        "
      ],
      "text/plain": [
       "<IPython.lib.display.IFrame at 0x16f2c9760>"
      ]
     },
     "metadata": {},
     "output_type": "display_data"
    },
    {
     "data": {
      "text/html": [
       "<a href='./Photoswitches.html' target='_blank'>./Photoswitches.html</a><br>"
      ],
      "text/plain": [
       "/Users/kevinmaikjablonka/git/kjappelbaum/gptchem/experiments/05_inverse/photoswitch/random/Photoswitches.html"
      ]
     },
     "metadata": {},
     "output_type": "display_data"
    },
    {
     "name": "stderr",
     "output_type": "stream",
     "text": [
      "100%|██████████| 678/678 [00:03<00:00, 217.84it/s]\n"
     ]
    },
    {
     "data": {
      "text/html": [
       "\n",
       "        <iframe\n",
       "            width=\"100%\"\n",
       "            height=\"500\"\n",
       "            src=\"./Photoswitches.html\"\n",
       "            frameborder=\"0\"\n",
       "            allowfullscreen\n",
       "            \n",
       "        ></iframe>\n",
       "        "
      ],
      "text/plain": [
       "<IPython.lib.display.IFrame at 0x16f2c9760>"
      ]
     },
     "metadata": {},
     "output_type": "display_data"
    },
    {
     "data": {
      "text/html": [
       "<a href='./Photoswitches.html' target='_blank'>./Photoswitches.html</a><br>"
      ],
      "text/plain": [
       "/Users/kevinmaikjablonka/git/kjappelbaum/gptchem/experiments/05_inverse/photoswitch/random/Photoswitches.html"
      ]
     },
     "metadata": {},
     "output_type": "display_data"
    }
   ],
   "source": [
    "for temp in [0, 0.1, 0.2, 0.5, 0.75, 1.0, 1.25, 1.5, 2.0]:\n",
    "    make_figure(temp)"
   ]
  },
  {
   "cell_type": "code",
   "execution_count": 40,
   "metadata": {},
   "outputs": [
    {
     "name": "stderr",
     "output_type": "stream",
     "text": [
      "100%|██████████| 635/635 [00:03<00:00, 198.66it/s]\n"
     ]
    },
    {
     "data": {
      "text/html": [
       "\n",
       "        <iframe\n",
       "            width=\"100%\"\n",
       "            height=\"500\"\n",
       "            src=\"./Photoswitches.html\"\n",
       "            frameborder=\"0\"\n",
       "            allowfullscreen\n",
       "            \n",
       "        ></iframe>\n",
       "        "
      ],
      "text/plain": [
       "<IPython.lib.display.IFrame at 0x2b16fd130>"
      ]
     },
     "metadata": {},
     "output_type": "display_data"
    },
    {
     "data": {
      "text/html": [
       "<a href='./Photoswitches.html' target='_blank'>./Photoswitches.html</a><br>"
      ],
      "text/plain": [
       "/Users/kevinmaikjablonka/git/kjappelbaum/gptchem/experiments/05_inverse/photoswitch/random/Photoswitches.html"
      ]
     },
     "metadata": {},
     "output_type": "display_data"
    }
   ],
   "source": [
    "make_figure(1.5)"
   ]
  },
  {
   "cell_type": "code",
   "execution_count": null,
   "metadata": {},
   "outputs": [],
   "source": []
  },
  {
   "cell_type": "code",
   "execution_count": null,
   "metadata": {},
   "outputs": [],
   "source": []
  },
  {
   "cell_type": "code",
   "execution_count": null,
   "metadata": {},
   "outputs": [],
   "source": []
  },
  {
   "cell_type": "code",
   "execution_count": null,
   "metadata": {},
   "outputs": [],
   "source": []
  }
 ],
 "metadata": {
  "kernelspec": {
   "display_name": "gptchem",
   "language": "python",
   "name": "python3"
  },
  "language_info": {
   "codemirror_mode": {
    "name": "ipython",
    "version": 3
   },
   "file_extension": ".py",
   "mimetype": "text/x-python",
   "name": "python",
   "nbconvert_exporter": "python",
   "pygments_lexer": "ipython3",
   "version": "3.9.15"
  },
  "orig_nbformat": 4,
  "vscode": {
   "interpreter": {
    "hash": "2f3b9074e5baa1438c27e2ea813f7f53b7516c83bd70840b6d64eae6820ee5df"
   }
  }
 },
 "nbformat": 4,
 "nbformat_minor": 2
}
