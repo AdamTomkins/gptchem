{
 "cells": [
  {
   "cell_type": "code",
   "execution_count": 21,
   "metadata": {},
   "outputs": [
    {
     "name": "stdout",
     "output_type": "stream",
     "text": [
      "The autoreload extension is already loaded. To reload it, use:\n",
      "  %reload_ext autoreload\n"
     ]
    }
   ],
   "source": [
    "%load_ext autoreload\n",
    "%autoreload 2"
   ]
  },
  {
   "cell_type": "code",
   "execution_count": 22,
   "metadata": {},
   "outputs": [],
   "source": [
    "from glob import glob\n",
    "\n",
    "import matplotlib as mpl\n",
    "import matplotlib.pyplot as plt\n",
    "import pandas as pd\n",
    "from fastcore.xtras import load_pickle\n",
    "from guacamol.utils.chemistry import is_valid\n",
    "\n",
    "from gptchem.data import get_photoswitch_data\n",
    "from gptchem.evaluator import evaluate_generated_smiles, evaluate_photoswitch_smiles_pred\n",
    "from gptchem.settings import ONE_COL_GOLDEN_RATIO_HEIGHT_INCH, ONE_COL_WIDTH_INCH\n",
    "\n",
    "mpl.rcParams.update(mpl.rcParamsDefault)\n",
    "plt.style.use([\"science\", \"nature\"])\n",
    "\n",
    "import matplotx\n",
    "\n",
    "%matplotlib inline"
   ]
  },
  {
   "cell_type": "code",
   "execution_count": 23,
   "metadata": {},
   "outputs": [],
   "source": [
    "from rdkit import Chem"
   ]
  },
  {
   "cell_type": "code",
   "execution_count": 24,
   "metadata": {},
   "outputs": [],
   "source": [
    "all_res = glob(\"out/**/*.pkl\")"
   ]
  },
  {
   "cell_type": "code",
   "execution_count": 25,
   "metadata": {},
   "outputs": [],
   "source": [
    "res = load_pickle(all_res[0])"
   ]
  },
  {
   "cell_type": "code",
   "execution_count": 26,
   "metadata": {},
   "outputs": [],
   "source": [
    "from collections import defaultdict"
   ]
  },
  {
   "cell_type": "code",
   "execution_count": 27,
   "metadata": {},
   "outputs": [],
   "source": [
    "def contains_azo(smiles):\n",
    "    mol = Chem.MolFromSmiles(smiles)\n",
    "    # check if there is a N#N bond\n",
    "    smarts = \"[NX2]=N\"\n",
    "    return mol.HasSubstructMatch(Chem.MolFromSmarts(smarts))"
   ]
  },
  {
   "cell_type": "code",
   "execution_count": 28,
   "metadata": {},
   "outputs": [],
   "source": [
    "compiled_res = []\n",
    "generated_smiles = set()\n",
    "generated_smiles_w_azos = set()\n",
    "\n",
    "generated_smiles_w_azos_at_temp = defaultdict(set)\n",
    "generated_smiles_at_temp = defaultdict(set)\n",
    "\n",
    "for res_path in all_res:\n",
    "    res = load_pickle(res_path)\n",
    "    for temp_res in res[\"res_at_temp\"]:\n",
    "\n",
    "        metrics = {\n",
    "            \"noise_level\": res[\"noise_level\"],\n",
    "            \"temp\": temp_res[\"temperature\"],\n",
    "            \"frac_valid\": temp_res[\"frac_valid\"],\n",
    "            \"frac_unique\": temp_res[\"frac_unique\"],\n",
    "            \"frac_smiles_in_train\": temp_res[\"frac_smiles_in_train\"],\n",
    "            \"frac_smiles_in_pubchem\": temp_res[\"frac_smiles_in_pubchem\"],\n",
    "            \"kld\": temp_res[\"kld\"],\n",
    "            \"frechet_d\": temp_res[\"frechet_d\"],\n",
    "            \"frechet_score\": temp_res[\"frechet_score\"],\n",
    "            \"frac_contains_azo\": sum([contains_azo(s) for s in temp_res[\"valid_smiles\"]])\n",
    "            / len(temp_res[\"valid_smiles\"]),\n",
    "        }\n",
    "\n",
    "        generated_smiles.update([s for s in temp_res[\"generated_smiles\"] if is_valid(s)])\n",
    "        v_w_azo = [s for s in temp_res[\"generated_smiles\"] if is_valid(s) and contains_azo(s)]\n",
    "        generated_smiles_w_azos.update(v_w_azo)\n",
    "        generated_smiles_w_azos_at_temp[temp_res[\"temperature\"]].update(v_w_azo)\n",
    "\n",
    "        v = [s for s in temp_res[\"generated_smiles\"] if is_valid(s)]\n",
    "        generated_smiles_at_temp[temp_res[\"temperature\"]].update(v)\n",
    "\n",
    "        for me, v in temp_res[\"e_pi_pi_star_metrics\"].items():\n",
    "            metrics[\"e_pi_pi_star_\" + me] = v\n",
    "\n",
    "        for me, v in temp_res[\"z_pi_pi_star_metrics\"].items():\n",
    "            metrics[\"z_pi_pi_star_\" + me] = v\n",
    "        compiled_res.append(metrics)"
   ]
  },
  {
   "cell_type": "code",
   "execution_count": 29,
   "metadata": {},
   "outputs": [
    {
     "data": {
      "text/plain": [
       "True"
      ]
     },
     "execution_count": 29,
     "metadata": {},
     "output_type": "execute_result"
    }
   ],
   "source": [
    "contains_azo(list(generated_smiles)[5])"
   ]
  },
  {
   "cell_type": "code",
   "execution_count": 30,
   "metadata": {},
   "outputs": [
    {
     "data": {
      "image/png": "[encoded data removed]",
      "text/plain": [
       "<rdkit.Chem.rdchem.Mol at 0x2c9e7bd60>"
      ]
     },
     "execution_count": 30,
     "metadata": {},
     "output_type": "execute_result"
    }
   ],
   "source": [
    "Chem.MolFromSmiles(list(generated_smiles)[0])"
   ]
  },
  {
   "cell_type": "code",
   "execution_count": 31,
   "metadata": {},
   "outputs": [],
   "source": [
    "df = pd.DataFrame(compiled_res)"
   ]
  },
  {
   "cell_type": "code",
   "execution_count": 32,
   "metadata": {},
   "outputs": [],
   "source": [
    "grouped = df.groupby([\"temp\"]).agg([\"mean\", \"std\"])"
   ]
  },
  {
   "cell_type": "code",
   "execution_count": 33,
   "metadata": {},
   "outputs": [
    {
     "data": {
      "text/html": [
       "<div>\n",
       "<style scoped>\n",
       "    .dataframe tbody tr th:only-of-type {\n",
       "        vertical-align: middle;\n",
       "    }\n",
       "\n",
       "    .dataframe tbody tr th {\n",
       "        vertical-align: top;\n",
       "    }\n",
       "\n",
       "    .dataframe thead tr th {\n",
       "        text-align: left;\n",
       "    }\n",
       "\n",
       "    .dataframe thead tr:last-of-type th {\n",
       "        text-align: right;\n",
       "    }\n",
       "</style>\n",
       "<table border=\"1\" class=\"dataframe\">\n",
       "  <thead>\n",
       "    <tr>\n",
       "      <th></th>\n",
       "      <th colspan=\"2\" halign=\"left\">noise_level</th>\n",
       "      <th colspan=\"2\" halign=\"left\">frac_valid</th>\n",
       "      <th colspan=\"2\" halign=\"left\">frac_unique</th>\n",
       "      <th colspan=\"2\" halign=\"left\">frac_smiles_in_train</th>\n",
       "      <th colspan=\"2\" halign=\"left\">frac_smiles_in_pubchem</th>\n",
       "      <th>...</th>\n",
       "      <th colspan=\"2\" halign=\"left\">z_pi_pi_star_r2</th>\n",
       "      <th colspan=\"2\" halign=\"left\">z_pi_pi_star_max_error</th>\n",
       "      <th colspan=\"2\" halign=\"left\">z_pi_pi_star_mean_absolute_error</th>\n",
       "      <th colspan=\"2\" halign=\"left\">z_pi_pi_star_mean_squared_error</th>\n",
       "      <th colspan=\"2\" halign=\"left\">z_pi_pi_star_rmse</th>\n",
       "    </tr>\n",
       "    <tr>\n",
       "      <th></th>\n",
       "      <th>mean</th>\n",
       "      <th>std</th>\n",
       "      <th>mean</th>\n",
       "      <th>std</th>\n",
       "      <th>mean</th>\n",
       "      <th>std</th>\n",
       "      <th>mean</th>\n",
       "      <th>std</th>\n",
       "      <th>mean</th>\n",
       "      <th>std</th>\n",
       "      <th>...</th>\n",
       "      <th>mean</th>\n",
       "      <th>std</th>\n",
       "      <th>mean</th>\n",
       "      <th>std</th>\n",
       "      <th>mean</th>\n",
       "      <th>std</th>\n",
       "      <th>mean</th>\n",
       "      <th>std</th>\n",
       "      <th>mean</th>\n",
       "      <th>std</th>\n",
       "    </tr>\n",
       "    <tr>\n",
       "      <th>temp</th>\n",
       "      <th></th>\n",
       "      <th></th>\n",
       "      <th></th>\n",
       "      <th></th>\n",
       "      <th></th>\n",
       "      <th></th>\n",
       "      <th></th>\n",
       "      <th></th>\n",
       "      <th></th>\n",
       "      <th></th>\n",
       "      <th></th>\n",
       "      <th></th>\n",
       "      <th></th>\n",
       "      <th></th>\n",
       "      <th></th>\n",
       "      <th></th>\n",
       "      <th></th>\n",
       "      <th></th>\n",
       "      <th></th>\n",
       "      <th></th>\n",
       "      <th></th>\n",
       "    </tr>\n",
       "  </thead>\n",
       "  <tbody>\n",
       "    <tr>\n",
       "      <th>0.00</th>\n",
       "      <td>7.535714</td>\n",
       "      <td>13.471429</td>\n",
       "      <td>0.984472</td>\n",
       "      <td>0.049484</td>\n",
       "      <td>0.037625</td>\n",
       "      <td>0.024498</td>\n",
       "      <td>0.0</td>\n",
       "      <td>0.0</td>\n",
       "      <td>1.000000</td>\n",
       "      <td>0.000000</td>\n",
       "      <td>...</td>\n",
       "      <td>-0.037679</td>\n",
       "      <td>0.060345</td>\n",
       "      <td>59.526601</td>\n",
       "      <td>18.816509</td>\n",
       "      <td>16.343790</td>\n",
       "      <td>6.596106</td>\n",
       "      <td>535.386764</td>\n",
       "      <td>529.582011</td>\n",
       "      <td>21.694255</td>\n",
       "      <td>8.350241</td>\n",
       "    </tr>\n",
       "    <tr>\n",
       "      <th>0.10</th>\n",
       "      <td>7.535714</td>\n",
       "      <td>13.471429</td>\n",
       "      <td>0.979814</td>\n",
       "      <td>0.035378</td>\n",
       "      <td>0.066538</td>\n",
       "      <td>0.038213</td>\n",
       "      <td>0.0</td>\n",
       "      <td>0.0</td>\n",
       "      <td>1.000000</td>\n",
       "      <td>0.000000</td>\n",
       "      <td>...</td>\n",
       "      <td>-0.038522</td>\n",
       "      <td>0.048937</td>\n",
       "      <td>60.562075</td>\n",
       "      <td>20.900530</td>\n",
       "      <td>16.401549</td>\n",
       "      <td>6.445510</td>\n",
       "      <td>536.461202</td>\n",
       "      <td>528.742584</td>\n",
       "      <td>21.761269</td>\n",
       "      <td>8.230887</td>\n",
       "    </tr>\n",
       "    <tr>\n",
       "      <th>0.20</th>\n",
       "      <td>7.535714</td>\n",
       "      <td>13.471429</td>\n",
       "      <td>0.969720</td>\n",
       "      <td>0.036471</td>\n",
       "      <td>0.124788</td>\n",
       "      <td>0.042943</td>\n",
       "      <td>0.0</td>\n",
       "      <td>0.0</td>\n",
       "      <td>1.000000</td>\n",
       "      <td>0.000000</td>\n",
       "      <td>...</td>\n",
       "      <td>-0.078712</td>\n",
       "      <td>0.070868</td>\n",
       "      <td>60.843421</td>\n",
       "      <td>18.661915</td>\n",
       "      <td>16.822664</td>\n",
       "      <td>7.042204</td>\n",
       "      <td>565.372999</td>\n",
       "      <td>569.315968</td>\n",
       "      <td>22.238958</td>\n",
       "      <td>8.732011</td>\n",
       "    </tr>\n",
       "    <tr>\n",
       "      <th>0.50</th>\n",
       "      <td>7.535714</td>\n",
       "      <td>13.471429</td>\n",
       "      <td>0.967391</td>\n",
       "      <td>0.017054</td>\n",
       "      <td>0.385304</td>\n",
       "      <td>0.044582</td>\n",
       "      <td>0.0</td>\n",
       "      <td>0.0</td>\n",
       "      <td>1.000000</td>\n",
       "      <td>0.000000</td>\n",
       "      <td>...</td>\n",
       "      <td>-0.160328</td>\n",
       "      <td>0.103254</td>\n",
       "      <td>69.117157</td>\n",
       "      <td>19.693271</td>\n",
       "      <td>17.213116</td>\n",
       "      <td>6.639180</td>\n",
       "      <td>593.237797</td>\n",
       "      <td>551.153916</td>\n",
       "      <td>23.000874</td>\n",
       "      <td>8.314797</td>\n",
       "    </tr>\n",
       "    <tr>\n",
       "      <th>0.75</th>\n",
       "      <td>7.535714</td>\n",
       "      <td>13.471429</td>\n",
       "      <td>0.904503</td>\n",
       "      <td>0.038883</td>\n",
       "      <td>0.568468</td>\n",
       "      <td>0.032718</td>\n",
       "      <td>0.0</td>\n",
       "      <td>0.0</td>\n",
       "      <td>1.000000</td>\n",
       "      <td>0.000000</td>\n",
       "      <td>...</td>\n",
       "      <td>-0.207305</td>\n",
       "      <td>0.165349</td>\n",
       "      <td>70.875514</td>\n",
       "      <td>18.147049</td>\n",
       "      <td>16.908892</td>\n",
       "      <td>6.107023</td>\n",
       "      <td>581.866055</td>\n",
       "      <td>503.540004</td>\n",
       "      <td>22.918137</td>\n",
       "      <td>7.809022</td>\n",
       "    </tr>\n",
       "    <tr>\n",
       "      <th>1.00</th>\n",
       "      <td>7.535714</td>\n",
       "      <td>13.471429</td>\n",
       "      <td>0.692547</td>\n",
       "      <td>0.041866</td>\n",
       "      <td>0.766746</td>\n",
       "      <td>0.059218</td>\n",
       "      <td>0.0</td>\n",
       "      <td>0.0</td>\n",
       "      <td>1.000000</td>\n",
       "      <td>0.000000</td>\n",
       "      <td>...</td>\n",
       "      <td>-0.359064</td>\n",
       "      <td>0.212447</td>\n",
       "      <td>72.581737</td>\n",
       "      <td>20.762474</td>\n",
       "      <td>18.088610</td>\n",
       "      <td>6.842745</td>\n",
       "      <td>666.682300</td>\n",
       "      <td>593.120796</td>\n",
       "      <td>24.440258</td>\n",
       "      <td>8.642405</td>\n",
       "    </tr>\n",
       "    <tr>\n",
       "      <th>1.25</th>\n",
       "      <td>7.535714</td>\n",
       "      <td>13.471429</td>\n",
       "      <td>0.328416</td>\n",
       "      <td>0.051546</td>\n",
       "      <td>0.914046</td>\n",
       "      <td>0.059036</td>\n",
       "      <td>0.0</td>\n",
       "      <td>0.0</td>\n",
       "      <td>1.000000</td>\n",
       "      <td>0.000000</td>\n",
       "      <td>...</td>\n",
       "      <td>-0.557804</td>\n",
       "      <td>0.421038</td>\n",
       "      <td>58.391206</td>\n",
       "      <td>19.729582</td>\n",
       "      <td>18.265983</td>\n",
       "      <td>7.340953</td>\n",
       "      <td>650.849409</td>\n",
       "      <td>653.969846</td>\n",
       "      <td>23.923318</td>\n",
       "      <td>9.195902</td>\n",
       "    </tr>\n",
       "    <tr>\n",
       "      <th>1.50</th>\n",
       "      <td>7.535714</td>\n",
       "      <td>13.471429</td>\n",
       "      <td>0.117236</td>\n",
       "      <td>0.038175</td>\n",
       "      <td>1.000000</td>\n",
       "      <td>0.000000</td>\n",
       "      <td>0.0</td>\n",
       "      <td>0.0</td>\n",
       "      <td>1.000000</td>\n",
       "      <td>0.000000</td>\n",
       "      <td>...</td>\n",
       "      <td>-3.092728</td>\n",
       "      <td>4.381971</td>\n",
       "      <td>64.084847</td>\n",
       "      <td>27.629959</td>\n",
       "      <td>30.245796</td>\n",
       "      <td>15.414255</td>\n",
       "      <td>1542.477393</td>\n",
       "      <td>2036.846603</td>\n",
       "      <td>35.722066</td>\n",
       "      <td>16.938258</td>\n",
       "    </tr>\n",
       "    <tr>\n",
       "      <th>2.00</th>\n",
       "      <td>7.535714</td>\n",
       "      <td>13.471429</td>\n",
       "      <td>0.122671</td>\n",
       "      <td>0.032866</td>\n",
       "      <td>1.000000</td>\n",
       "      <td>0.000000</td>\n",
       "      <td>0.0</td>\n",
       "      <td>0.0</td>\n",
       "      <td>0.982143</td>\n",
       "      <td>0.048245</td>\n",
       "      <td>...</td>\n",
       "      <td>-4.978061</td>\n",
       "      <td>3.794202</td>\n",
       "      <td>65.277043</td>\n",
       "      <td>11.142901</td>\n",
       "      <td>33.144496</td>\n",
       "      <td>3.568013</td>\n",
       "      <td>1425.995918</td>\n",
       "      <td>343.583588</td>\n",
       "      <td>37.516921</td>\n",
       "      <td>4.460697</td>\n",
       "    </tr>\n",
       "  </tbody>\n",
       "</table>\n",
       "<p>9 rows × 38 columns</p>\n",
       "</div>"
      ],
      "text/plain": [
       "     noise_level            frac_valid           frac_unique            \\\n",
       "            mean        std       mean       std        mean       std   \n",
       "temp                                                                     \n",
       "0.00    7.535714  13.471429   0.984472  0.049484    0.037625  0.024498   \n",
       "0.10    7.535714  13.471429   0.979814  0.035378    0.066538  0.038213   \n",
       "0.20    7.535714  13.471429   0.969720  0.036471    0.124788  0.042943   \n",
       "0.50    7.535714  13.471429   0.967391  0.017054    0.385304  0.044582   \n",
       "0.75    7.535714  13.471429   0.904503  0.038883    0.568468  0.032718   \n",
       "1.00    7.535714  13.471429   0.692547  0.041866    0.766746  0.059218   \n",
       "1.25    7.535714  13.471429   0.328416  0.051546    0.914046  0.059036   \n",
       "1.50    7.535714  13.471429   0.117236  0.038175    1.000000  0.000000   \n",
       "2.00    7.535714  13.471429   0.122671  0.032866    1.000000  0.000000   \n",
       "\n",
       "     frac_smiles_in_train      frac_smiles_in_pubchem            ...  \\\n",
       "                     mean  std                   mean       std  ...   \n",
       "temp                                                             ...   \n",
       "0.00                  0.0  0.0               1.000000  0.000000  ...   \n",
       "0.10                  0.0  0.0               1.000000  0.000000  ...   \n",
       "0.20                  0.0  0.0               1.000000  0.000000  ...   \n",
       "0.50                  0.0  0.0               1.000000  0.000000  ...   \n",
       "0.75                  0.0  0.0               1.000000  0.000000  ...   \n",
       "1.00                  0.0  0.0               1.000000  0.000000  ...   \n",
       "1.25                  0.0  0.0               1.000000  0.000000  ...   \n",
       "1.50                  0.0  0.0               1.000000  0.000000  ...   \n",
       "2.00                  0.0  0.0               0.982143  0.048245  ...   \n",
       "\n",
       "     z_pi_pi_star_r2           z_pi_pi_star_max_error             \\\n",
       "                mean       std                   mean        std   \n",
       "temp                                                               \n",
       "0.00       -0.037679  0.060345              59.526601  18.816509   \n",
       "0.10       -0.038522  0.048937              60.562075  20.900530   \n",
       "0.20       -0.078712  0.070868              60.843421  18.661915   \n",
       "0.50       -0.160328  0.103254              69.117157  19.693271   \n",
       "0.75       -0.207305  0.165349              70.875514  18.147049   \n",
       "1.00       -0.359064  0.212447              72.581737  20.762474   \n",
       "1.25       -0.557804  0.421038              58.391206  19.729582   \n",
       "1.50       -3.092728  4.381971              64.084847  27.629959   \n",
       "2.00       -4.978061  3.794202              65.277043  11.142901   \n",
       "\n",
       "     z_pi_pi_star_mean_absolute_error             \\\n",
       "                                 mean        std   \n",
       "temp                                               \n",
       "0.00                        16.343790   6.596106   \n",
       "0.10                        16.401549   6.445510   \n",
       "0.20                        16.822664   7.042204   \n",
       "0.50                        17.213116   6.639180   \n",
       "0.75                        16.908892   6.107023   \n",
       "1.00                        18.088610   6.842745   \n",
       "1.25                        18.265983   7.340953   \n",
       "1.50                        30.245796  15.414255   \n",
       "2.00                        33.144496   3.568013   \n",
       "\n",
       "     z_pi_pi_star_mean_squared_error              z_pi_pi_star_rmse             \n",
       "                                mean          std              mean        std  \n",
       "temp                                                                            \n",
       "0.00                      535.386764   529.582011         21.694255   8.350241  \n",
       "0.10                      536.461202   528.742584         21.761269   8.230887  \n",
       "0.20                      565.372999   569.315968         22.238958   8.732011  \n",
       "0.50                      593.237797   551.153916         23.000874   8.314797  \n",
       "0.75                      581.866055   503.540004         22.918137   7.809022  \n",
       "1.00                      666.682300   593.120796         24.440258   8.642405  \n",
       "1.25                      650.849409   653.969846         23.923318   9.195902  \n",
       "1.50                     1542.477393  2036.846603         35.722066  16.938258  \n",
       "2.00                     1425.995918   343.583588         37.516921   4.460697  \n",
       "\n",
       "[9 rows x 38 columns]"
      ]
     },
     "execution_count": 33,
     "metadata": {},
     "output_type": "execute_result"
    }
   ],
   "source": [
    "grouped"
   ]
  },
  {
   "cell_type": "code",
   "execution_count": 34,
   "metadata": {},
   "outputs": [
    {
     "data": {
      "image/png": "[encoded data removed]",
      "text/plain": [
       "<Figure size 325x650 with 7 Axes>"
      ]
     },
     "metadata": {},
     "output_type": "display_data"
    }
   ],
   "source": [
    "with plt.style.context(matplotx.styles.dufte):\n",
    "    fig, ax = plt.subplots(7, 1, sharex=\"all\", figsize=(ONE_COL_WIDTH_INCH, 2 * ONE_COL_WIDTH_INCH))\n",
    "    ax[0].plot(grouped.index, grouped[\"frac_valid\"][\"mean\"], label=\"frac_valid\")\n",
    "    ax[0].fill_between(\n",
    "        grouped.index,\n",
    "        grouped[\"frac_valid\"][\"mean\"] - grouped[\"frac_valid\"][\"std\"],\n",
    "        grouped[\"frac_valid\"][\"mean\"] + grouped[\"frac_valid\"][\"std\"],\n",
    "        alpha=0.2,\n",
    "    )\n",
    "\n",
    "    matplotx.ylabel_top(\"frac. valid SMILES\", ax=ax[0])\n",
    "\n",
    "    ax[1].plot(grouped.index, grouped[\"frac_unique\"][\"mean\"], label=\"frac_unique\")\n",
    "    ax[1].fill_between(\n",
    "        grouped.index,\n",
    "        grouped[\"frac_unique\"][\"mean\"] - grouped[\"frac_unique\"][\"std\"],\n",
    "        grouped[\"frac_unique\"][\"mean\"] + grouped[\"frac_unique\"][\"std\"],\n",
    "        alpha=0.2,\n",
    "    )\n",
    "\n",
    "    matplotx.ylabel_top(\"frac. unique SMILES\", ax=ax[1])\n",
    "\n",
    "    ax[2].plot(grouped.index, grouped[\"frac_smiles_in_train\"][\"mean\"], label=\"frac_smiles_in_train\")\n",
    "    ax[2].fill_between(\n",
    "        grouped.index,\n",
    "        grouped[\"frac_smiles_in_train\"][\"mean\"] - grouped[\"frac_smiles_in_train\"][\"std\"],\n",
    "        grouped[\"frac_smiles_in_train\"][\"mean\"] + grouped[\"frac_smiles_in_train\"][\"std\"],\n",
    "        alpha=0.2,\n",
    "    )\n",
    "\n",
    "    matplotx.ylabel_top(\"frac. SMILES in train\", ax=ax[2])\n",
    "\n",
    "    ax[3].plot(\n",
    "        grouped.index, grouped[\"frac_smiles_in_pubchem\"][\"mean\"], label=\"frac_smiles_in_pubchem\"\n",
    "    )\n",
    "    ax[3].fill_between(\n",
    "        grouped.index,\n",
    "        grouped[\"frac_smiles_in_pubchem\"][\"mean\"] - grouped[\"frac_smiles_in_pubchem\"][\"std\"],\n",
    "        grouped[\"frac_smiles_in_pubchem\"][\"mean\"] + grouped[\"frac_smiles_in_pubchem\"][\"std\"],\n",
    "        alpha=0.2,\n",
    "    )\n",
    "\n",
    "    matplotx.ylabel_top(\"frac. SMILES in PubChem\", ax=ax[3])\n",
    "\n",
    "    ax[4].plot(grouped.index, grouped[\"kld\"][\"mean\"], label=\"kld\")\n",
    "    ax[4].fill_between(\n",
    "        grouped.index,\n",
    "        grouped[\"kld\"][\"mean\"] - grouped[\"kld\"][\"std\"],\n",
    "        grouped[\"kld\"][\"mean\"] + grouped[\"kld\"][\"std\"],\n",
    "        alpha=0.2,\n",
    "    )\n",
    "\n",
    "    matplotx.ylabel_top(\"KLD\", ax=ax[4])\n",
    "\n",
    "    ax[5].plot(grouped.index, grouped[\"frechet_d\"][\"mean\"], label=\"frechet_d\")\n",
    "    ax[5].fill_between(\n",
    "        grouped.index,\n",
    "        grouped[\"frechet_d\"][\"mean\"] - grouped[\"frechet_d\"][\"std\"],\n",
    "        grouped[\"frechet_d\"][\"mean\"] + grouped[\"frechet_d\"][\"std\"],\n",
    "        alpha=0.2,\n",
    "    )\n",
    "\n",
    "    matplotx.ylabel_top(\"Frechet distance\", ax=ax[5])\n",
    "\n",
    "    ax[6].plot(grouped.index, grouped[\"frac_contains_azo\"][\"mean\"], label=\"frechet_score\")\n",
    "    ax[6].fill_between(\n",
    "        grouped.index,\n",
    "        grouped[\"frac_contains_azo\"][\"mean\"] - grouped[\"frac_contains_azo\"][\"std\"],\n",
    "        grouped[\"frac_contains_azo\"][\"mean\"] + grouped[\"frac_contains_azo\"][\"std\"],\n",
    "        alpha=0.2,\n",
    "    )\n",
    "\n",
    "    matplotx.ylabel_top(\"frac. SMILES with azo\", ax=ax[6])\n",
    "\n",
    "    ax[-1].set_xlabel(\"temperature\", labelpad=4)\n",
    "\n",
    "    fig.savefig(\"photoswitch_random_smiles_metrics.pdf\", bbox_inches=\"tight\")"
   ]
  },
  {
   "cell_type": "code",
   "execution_count": 35,
   "metadata": {},
   "outputs": [
    {
     "data": {
      "image/png": "[encoded data removed]",
      "text/plain": [
       "<Figure size 325x200.861 with 2 Axes>"
      ]
     },
     "metadata": {},
     "output_type": "display_data"
    }
   ],
   "source": [
    "with plt.style.context(matplotx.styles.dufte):\n",
    "    fig, ax = plt.subplots(\n",
    "        2, 1, sharex=\"all\", figsize=(ONE_COL_WIDTH_INCH, ONE_COL_GOLDEN_RATIO_HEIGHT_INCH)\n",
    "    )\n",
    "\n",
    "    ax[0].plot(\n",
    "        grouped.index,\n",
    "        grouped[\"z_pi_pi_star_mean_absolute_error\"][\"mean\"],\n",
    "        label=\"e_pi_pi_star_metrics\",\n",
    "    )\n",
    "    ax[0].fill_between(\n",
    "        grouped.index,\n",
    "        grouped[\"z_pi_pi_star_mean_absolute_error\"][\"mean\"]\n",
    "        - grouped[\"z_pi_pi_star_mean_absolute_error\"][\"std\"],\n",
    "        grouped[\"z_pi_pi_star_mean_absolute_error\"][\"mean\"]\n",
    "        + grouped[\"z_pi_pi_star_mean_absolute_error\"][\"std\"],\n",
    "        alpha=0.2,\n",
    "    )\n",
    "\n",
    "    matplotx.ylabel_top(\"Z isomer MAE\", ax=ax[0])\n",
    "\n",
    "    ax[0].hlines(11.616605626696359, 0, 2, color=\"k\", linestyle=\"--\")\n",
    "\n",
    "    ax[0].set_ylim(8, 35)\n",
    "\n",
    "    ax[1].plot(\n",
    "        grouped.index,\n",
    "        grouped[\"e_pi_pi_star_mean_absolute_error\"][\"mean\"],\n",
    "        label=\"e_pi_pi_star_metrics\",\n",
    "    )\n",
    "    ax[1].fill_between(\n",
    "        grouped.index,\n",
    "        grouped[\"e_pi_pi_star_mean_absolute_error\"][\"mean\"]\n",
    "        - grouped[\"e_pi_pi_star_mean_absolute_error\"][\"std\"],\n",
    "        grouped[\"e_pi_pi_star_mean_absolute_error\"][\"mean\"]\n",
    "        + grouped[\"e_pi_pi_star_mean_absolute_error\"][\"std\"],\n",
    "        alpha=0.2,\n",
    "    )\n",
    "\n",
    "    matplotx.ylabel_top(\"E isomer MAE\", ax=ax[1])\n",
    "\n",
    "    ax[1].hlines(14.38998132190228, 0, 2, color=\"k\", linestyle=\"--\")\n",
    "\n",
    "    ax[-1].set_xlabel(\"temperature\", labelpad=4)\n",
    "    ax[1].set_ylim(10, 65)\n",
    "fig.savefig(\"random_photoswitch_constrain_matches.pdf\", bbox_inches=\"tight\")"
   ]
  },
  {
   "cell_type": "markdown",
   "metadata": {},
   "source": [
    "## Visualize"
   ]
  },
  {
   "cell_type": "code",
   "execution_count": 36,
   "metadata": {},
   "outputs": [],
   "source": [
    "import numpy as np\n",
    "import tmap as tm\n",
    "from faerun import Faerun\n",
    "from mhfp.encoder import MHFPEncoder\n",
    "from rdkit.Chem import AllChem\n",
    "from tqdm import tqdm"
   ]
  },
  {
   "cell_type": "code",
   "execution_count": 37,
   "metadata": {},
   "outputs": [],
   "source": [
    "import os\n",
    "import shutil"
   ]
  },
  {
   "cell_type": "code",
   "execution_count": 38,
   "metadata": {},
   "outputs": [],
   "source": [
    "def make_figure(temp):\n",
    "    path = f\"plots_all/{temp}\"\n",
    "    os.makedirs(path, exist_ok=True)\n",
    "    enc = MHFPEncoder()\n",
    "    lf = tm.LSHForest(2048, 128)\n",
    "    train_data = get_photoswitch_data()\n",
    "    train_smiles = train_data[\"SMILES\"].values\n",
    "    all_smiles = set(train_smiles) | generated_smiles_at_temp[temp]\n",
    "\n",
    "    fps = []\n",
    "    labels = []\n",
    "\n",
    "    for smiles in tqdm(all_smiles):\n",
    "        mol = AllChem.MolFromSmiles(smiles)\n",
    "        fps.append(tm.VectorUint(enc.encode_mol(mol, min_radius=0)))\n",
    "        labels.append(smiles in train_smiles)\n",
    "\n",
    "    lf.batch_add(fps)\n",
    "    lf.index()\n",
    "    cfg = tm.LayoutConfiguration()\n",
    "    cfg.k = 100\n",
    "    cfg.sl_extra_scaling_steps = 6\n",
    "    cfg.sl_repeats = 2\n",
    "    cfg.mmm_repeats = 2\n",
    "    cfg.node_size = 2\n",
    "    x, y, s, t, _ = tm.layout_from_lsh_forest(lf, config=cfg)\n",
    "\n",
    "    f = Faerun(\n",
    "        clear_color=\"#FFFFFF\",\n",
    "        coords=False,\n",
    "        view=\"free\",\n",
    "        impress='made with <a href=\"http://tmap.gdb.tools\" target=\"_blank\">tmap</a><br />and <a href=\"https://github.com/reymond-group/faerun-python\" target=\"_blank\">faerun</a>',\n",
    "    )\n",
    "    f.add_scatter(\n",
    "        f\"Photoswitches\",\n",
    "        {\n",
    "            \"x\": x,\n",
    "            \"y\": y,\n",
    "            \"c\": labels,\n",
    "            \"labels\": all_smiles,\n",
    "        },\n",
    "        colormap=\"Set1\",\n",
    "        categorical=True,\n",
    "        shader=\"sphere\",\n",
    "        has_legend=True,\n",
    "        point_scale=5,\n",
    "        legend_labels=[(1, \"in database\"), (0, \"not in database\")],\n",
    "        max_point_size=5000,\n",
    "    )\n",
    "    f.add_tree(\n",
    "        \"Photoswitches_tree\",\n",
    "        {\n",
    "            \"from\": s,\n",
    "            \"to\": t,\n",
    "        },\n",
    "        point_helper=\"Photoswitches\",\n",
    "    )\n",
    "    f.plot(\"Photoswitches\", template=\"smiles\")\n",
    "\n",
    "    shutil.copy(\"Photoswitches.html\", path)"
   ]
  },
  {
   "cell_type": "code",
   "execution_count": 39,
   "metadata": {},
   "outputs": [
    {
     "name": "stderr",
     "output_type": "stream",
     "text": [
      "100%|██████████| 404/404 [00:05<00:00, 74.33it/s]\n"
     ]
    },
    {
     "data": {
      "text/html": [
       "\n",
       "        <iframe\n",
       "            width=\"100%\"\n",
       "            height=\"500\"\n",
       "            src=\"./Photoswitches.html\"\n",
       "            frameborder=\"0\"\n",
       "            allowfullscreen\n",
       "            \n",
       "        ></iframe>\n",
       "        "
      ],
      "text/plain": [
       "<IPython.lib.display.IFrame at 0x2cf67e3d0>"
      ]
     },
     "metadata": {},
     "output_type": "display_data"
    },
    {
     "data": {
      "text/html": [
       "<a href='./Photoswitches.html' target='_blank'>./Photoswitches.html</a><br>"
      ],
      "text/plain": [
       "/Users/kevinmaikjablonka/git/kjappelbaum/gptchem/experiments/05_inverse/photoswitch/random/Photoswitches.html"
      ]
     },
     "metadata": {},
     "output_type": "display_data"
    },
    {
     "name": "stderr",
     "output_type": "stream",
     "text": [
      "100%|██████████| 404/404 [00:07<00:00, 52.57it/s]\n"
     ]
    },
    {
     "data": {
      "text/html": [
       "\n",
       "        <iframe\n",
       "            width=\"100%\"\n",
       "            height=\"500\"\n",
       "            src=\"./Photoswitches.html\"\n",
       "            frameborder=\"0\"\n",
       "            allowfullscreen\n",
       "            \n",
       "        ></iframe>\n",
       "        "
      ],
      "text/plain": [
       "<IPython.lib.display.IFrame at 0x2cf6a8580>"
      ]
     },
     "metadata": {},
     "output_type": "display_data"
    },
    {
     "data": {
      "text/html": [
       "<a href='./Photoswitches.html' target='_blank'>./Photoswitches.html</a><br>"
      ],
      "text/plain": [
       "/Users/kevinmaikjablonka/git/kjappelbaum/gptchem/experiments/05_inverse/photoswitch/random/Photoswitches.html"
      ]
     },
     "metadata": {},
     "output_type": "display_data"
    },
    {
     "name": "stderr",
     "output_type": "stream",
     "text": [
      "100%|██████████| 408/408 [00:06<00:00, 64.12it/s]\n"
     ]
    },
    {
     "data": {
      "text/html": [
       "\n",
       "        <iframe\n",
       "            width=\"100%\"\n",
       "            height=\"500\"\n",
       "            src=\"./Photoswitches.html\"\n",
       "            frameborder=\"0\"\n",
       "            allowfullscreen\n",
       "            \n",
       "        ></iframe>\n",
       "        "
      ],
      "text/plain": [
       "<IPython.lib.display.IFrame at 0x2cf4d6130>"
      ]
     },
     "metadata": {},
     "output_type": "display_data"
    },
    {
     "data": {
      "text/html": [
       "<a href='./Photoswitches.html' target='_blank'>./Photoswitches.html</a><br>"
      ],
      "text/plain": [
       "/Users/kevinmaikjablonka/git/kjappelbaum/gptchem/experiments/05_inverse/photoswitch/random/Photoswitches.html"
      ]
     },
     "metadata": {},
     "output_type": "display_data"
    },
    {
     "name": "stderr",
     "output_type": "stream",
     "text": [
      "100%|██████████| 448/448 [00:06<00:00, 66.03it/s]\n"
     ]
    },
    {
     "data": {
      "text/html": [
       "\n",
       "        <iframe\n",
       "            width=\"100%\"\n",
       "            height=\"500\"\n",
       "            src=\"./Photoswitches.html\"\n",
       "            frameborder=\"0\"\n",
       "            allowfullscreen\n",
       "            \n",
       "        ></iframe>\n",
       "        "
      ],
      "text/plain": [
       "<IPython.lib.display.IFrame at 0x2cc6f9730>"
      ]
     },
     "metadata": {},
     "output_type": "display_data"
    },
    {
     "data": {
      "text/html": [
       "<a href='./Photoswitches.html' target='_blank'>./Photoswitches.html</a><br>"
      ],
      "text/plain": [
       "/Users/kevinmaikjablonka/git/kjappelbaum/gptchem/experiments/05_inverse/photoswitch/random/Photoswitches.html"
      ]
     },
     "metadata": {},
     "output_type": "display_data"
    },
    {
     "name": "stderr",
     "output_type": "stream",
     "text": [
      "100%|██████████| 532/532 [00:08<00:00, 62.70it/s]\n"
     ]
    },
    {
     "data": {
      "text/html": [
       "\n",
       "        <iframe\n",
       "            width=\"100%\"\n",
       "            height=\"500\"\n",
       "            src=\"./Photoswitches.html\"\n",
       "            frameborder=\"0\"\n",
       "            allowfullscreen\n",
       "            \n",
       "        ></iframe>\n",
       "        "
      ],
      "text/plain": [
       "<IPython.lib.display.IFrame at 0x2cb0379d0>"
      ]
     },
     "metadata": {},
     "output_type": "display_data"
    },
    {
     "data": {
      "text/html": [
       "<a href='./Photoswitches.html' target='_blank'>./Photoswitches.html</a><br>"
      ],
      "text/plain": [
       "/Users/kevinmaikjablonka/git/kjappelbaum/gptchem/experiments/05_inverse/photoswitch/random/Photoswitches.html"
      ]
     },
     "metadata": {},
     "output_type": "display_data"
    },
    {
     "name": "stderr",
     "output_type": "stream",
     "text": [
      "100%|██████████| 654/654 [00:09<00:00, 65.76it/s]\n"
     ]
    },
    {
     "data": {
      "text/html": [
       "\n",
       "        <iframe\n",
       "            width=\"100%\"\n",
       "            height=\"500\"\n",
       "            src=\"./Photoswitches.html\"\n",
       "            frameborder=\"0\"\n",
       "            allowfullscreen\n",
       "            \n",
       "        ></iframe>\n",
       "        "
      ],
      "text/plain": [
       "<IPython.lib.display.IFrame at 0x2ca10daf0>"
      ]
     },
     "metadata": {},
     "output_type": "display_data"
    },
    {
     "data": {
      "text/html": [
       "<a href='./Photoswitches.html' target='_blank'>./Photoswitches.html</a><br>"
      ],
      "text/plain": [
       "/Users/kevinmaikjablonka/git/kjappelbaum/gptchem/experiments/05_inverse/photoswitch/random/Photoswitches.html"
      ]
     },
     "metadata": {},
     "output_type": "display_data"
    },
    {
     "name": "stderr",
     "output_type": "stream",
     "text": [
      "100%|██████████| 605/605 [00:05<00:00, 116.20it/s]\n"
     ]
    },
    {
     "data": {
      "text/html": [
       "\n",
       "        <iframe\n",
       "            width=\"100%\"\n",
       "            height=\"500\"\n",
       "            src=\"./Photoswitches.html\"\n",
       "            frameborder=\"0\"\n",
       "            allowfullscreen\n",
       "            \n",
       "        ></iframe>\n",
       "        "
      ],
      "text/plain": [
       "<IPython.lib.display.IFrame at 0x16f512fd0>"
      ]
     },
     "metadata": {},
     "output_type": "display_data"
    },
    {
     "data": {
      "text/html": [
       "<a href='./Photoswitches.html' target='_blank'>./Photoswitches.html</a><br>"
      ],
      "text/plain": [
       "/Users/kevinmaikjablonka/git/kjappelbaum/gptchem/experiments/05_inverse/photoswitch/random/Photoswitches.html"
      ]
     },
     "metadata": {},
     "output_type": "display_data"
    },
    {
     "name": "stderr",
     "output_type": "stream",
     "text": [
      "100%|██████████| 531/531 [00:04<00:00, 119.42it/s]\n"
     ]
    },
    {
     "data": {
      "text/html": [
       "\n",
       "        <iframe\n",
       "            width=\"100%\"\n",
       "            height=\"500\"\n",
       "            src=\"./Photoswitches.html\"\n",
       "            frameborder=\"0\"\n",
       "            allowfullscreen\n",
       "            \n",
       "        ></iframe>\n",
       "        "
      ],
      "text/plain": [
       "<IPython.lib.display.IFrame at 0x16f693820>"
      ]
     },
     "metadata": {},
     "output_type": "display_data"
    },
    {
     "data": {
      "text/html": [
       "<a href='./Photoswitches.html' target='_blank'>./Photoswitches.html</a><br>"
      ],
      "text/plain": [
       "/Users/kevinmaikjablonka/git/kjappelbaum/gptchem/experiments/05_inverse/photoswitch/random/Photoswitches.html"
      ]
     },
     "metadata": {},
     "output_type": "display_data"
    },
    {
     "name": "stderr",
     "output_type": "stream",
     "text": [
      "100%|██████████| 560/560 [00:04<00:00, 131.36it/s]\n"
     ]
    },
    {
     "data": {
      "text/html": [
       "\n",
       "        <iframe\n",
       "            width=\"100%\"\n",
       "            height=\"500\"\n",
       "            src=\"./Photoswitches.html\"\n",
       "            frameborder=\"0\"\n",
       "            allowfullscreen\n",
       "            \n",
       "        ></iframe>\n",
       "        "
      ],
      "text/plain": [
       "<IPython.lib.display.IFrame at 0x2cb08a850>"
      ]
     },
     "metadata": {},
     "output_type": "display_data"
    },
    {
     "data": {
      "text/html": [
       "<a href='./Photoswitches.html' target='_blank'>./Photoswitches.html</a><br>"
      ],
      "text/plain": [
       "/Users/kevinmaikjablonka/git/kjappelbaum/gptchem/experiments/05_inverse/photoswitch/random/Photoswitches.html"
      ]
     },
     "metadata": {},
     "output_type": "display_data"
    }
   ],
   "source": [
    "for temp in [0, 0.1, 0.2, 0.5, 0.75, 1.0, 1.25, 1.5, 2.0]:\n",
    "    make_figure(temp)"
   ]
  },
  {
   "cell_type": "code",
   "execution_count": 41,
   "metadata": {},
   "outputs": [
    {
     "name": "stderr",
     "output_type": "stream",
     "text": [
      "100%|██████████| 531/531 [00:04<00:00, 106.56it/s]\n"
     ]
    },
    {
     "data": {
      "text/html": [
       "\n",
       "        <iframe\n",
       "            width=\"100%\"\n",
       "            height=\"500\"\n",
       "            src=\"./Photoswitches.html\"\n",
       "            frameborder=\"0\"\n",
       "            allowfullscreen\n",
       "            \n",
       "        ></iframe>\n",
       "        "
      ],
      "text/plain": [
       "<IPython.lib.display.IFrame at 0x2cc6cb430>"
      ]
     },
     "metadata": {},
     "output_type": "display_data"
    },
    {
     "data": {
      "text/html": [
       "<a href='./Photoswitches.html' target='_blank'>./Photoswitches.html</a><br>"
      ],
      "text/plain": [
       "/Users/kevinmaikjablonka/git/kjappelbaum/gptchem/experiments/05_inverse/photoswitch/random/Photoswitches.html"
      ]
     },
     "metadata": {},
     "output_type": "display_data"
    }
   ],
   "source": [
    "make_figure(1.5)"
   ]
  },
  {
   "cell_type": "code",
   "execution_count": null,
   "metadata": {},
   "outputs": [],
   "source": []
  },
  {
   "cell_type": "code",
   "execution_count": null,
   "metadata": {},
   "outputs": [],
   "source": []
  },
  {
   "cell_type": "code",
   "execution_count": null,
   "metadata": {},
   "outputs": [],
   "source": []
  },
  {
   "cell_type": "code",
   "execution_count": null,
   "metadata": {},
   "outputs": [],
   "source": []
  }
 ],
 "metadata": {
  "kernelspec": {
   "display_name": "gptchem",
   "language": "python",
   "name": "python3"
  },
  "language_info": {
   "codemirror_mode": {
    "name": "ipython",
    "version": 3
   },
   "file_extension": ".py",
   "mimetype": "text/x-python",
   "name": "python",
   "nbconvert_exporter": "python",
   "pygments_lexer": "ipython3",
   "version": "3.9.15"
  },
  "orig_nbformat": 4,
  "vscode": {
   "interpreter": {
    "hash": "2f3b9074e5baa1438c27e2ea813f7f53b7516c83bd70840b6d64eae6820ee5df"
   }
  }
 },
 "nbformat": 4,
 "nbformat_minor": 2
}
