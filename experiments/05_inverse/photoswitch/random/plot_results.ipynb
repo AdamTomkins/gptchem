{
 "cells": [
  {
   "cell_type": "code",
   "execution_count": 1,
   "metadata": {},
   "outputs": [],
   "source": [
    "%load_ext autoreload\n",
    "%autoreload 2"
   ]
  },
  {
   "cell_type": "code",
   "execution_count": 2,
   "metadata": {},
   "outputs": [],
   "source": [
    "import pandas as pd\n",
    "from fastcore.xtras import load_pickle\n",
    "\n",
    "from gptchem.data import get_photoswitch_data\n",
    "from gptchem.evaluator import evaluate_photoswitch_smiles_pred, evaluate_generated_smiles\n",
    "\n",
    "from gptchem.settings import ONE_COL_WIDTH_INCH, ONE_COL_GOLDEN_RATIO_HEIGHT_INCH\n",
    "\n",
    "from guacamol.utils.chemistry import is_valid\n",
    "from glob import glob\n",
    "import matplotlib.pyplot as plt \n",
    "import matplotlib as mpl\n",
    "mpl.rcParams.update(mpl.rcParamsDefault)\n",
    "plt.style.use(['science', 'nature'])\n",
    "\n",
    "import matplotx\n",
    "\n",
    "\n",
    "%matplotlib inline"
   ]
  },
  {
   "cell_type": "code",
   "execution_count": 3,
   "metadata": {},
   "outputs": [],
   "source": [
    "from rdkit import Chem"
   ]
  },
  {
   "cell_type": "code",
   "execution_count": 4,
   "metadata": {},
   "outputs": [],
   "source": [
    "all_res = glob('out/**/*.pkl')"
   ]
  },
  {
   "cell_type": "code",
   "execution_count": 5,
   "metadata": {},
   "outputs": [],
   "source": [
    "res = load_pickle(all_res[0])"
   ]
  },
  {
   "cell_type": "code",
   "execution_count": 6,
   "metadata": {},
   "outputs": [],
   "source": [
    "from collections import defaultdict"
   ]
  },
  {
   "cell_type": "code",
   "execution_count": 7,
   "metadata": {},
   "outputs": [],
   "source": [
    "def contains_azo(smiles):\n",
    "    mol = Chem.MolFromSmiles(smiles)\n",
    "    # check if there is a N#N bond\n",
    "    smarts = \"[NX2]=N\"\n",
    "    return mol.HasSubstructMatch(Chem.MolFromSmarts(smarts))"
   ]
  },
  {
   "cell_type": "code",
   "execution_count": 8,
   "metadata": {},
   "outputs": [],
   "source": [
    "compiled_res = []\n",
    "generated_smiles = set()\n",
    "generated_smiles_w_azos = set()\n",
    "\n",
    "generated_smiles_w_azos_at_temp = defaultdict(set)\n",
    "generated_smiles_at_temp = defaultdict(set)\n",
    "\n",
    "for res_path in all_res:\n",
    "    res = load_pickle(res_path)\n",
    "    for temp_res in res['res_at_temp']:\n",
    "\n",
    "\n",
    "        metrics= {\n",
    "            'noise_level': res['noise_level'],\n",
    "            'temp': temp_res['temperature'],\n",
    "            'frac_valid': temp_res['frac_valid'],\n",
    "            'frac_unique': temp_res['frac_unique'],\n",
    "            'frac_smiles_in_train': temp_res['frac_smiles_in_train'],\n",
    "            'frac_smiles_in_pubchem': temp_res['frac_smiles_in_pubchem'],\n",
    "            'kld': temp_res['kld'],\n",
    "            'frechet_d': temp_res['frechet_d'],\n",
    "            'frechet_score': temp_res['frechet_score'],\n",
    "            'frac_contains_azo': sum([contains_azo(s) for s in temp_res['valid_smiles']]) / len(temp_res['valid_smiles']),\n",
    "        }\n",
    "\n",
    "        generated_smiles.update([s for s in temp_res['generated_smiles'] if is_valid(s)])\n",
    "        v_w_azo = [s for s in temp_res['generated_smiles'] if is_valid(s) and contains_azo(s)]\n",
    "        generated_smiles_w_azos.update(v_w_azo)\n",
    "        generated_smiles_w_azos_at_temp[temp_res['temperature']].update(v_w_azo)\n",
    "\n",
    "\n",
    "        v = [s for s in temp_res['generated_smiles'] if is_valid(s)]\n",
    "        generated_smiles_at_temp[temp_res['temperature']].update(v)\n",
    "\n",
    "        for me, v in temp_res['e_pi_pi_star_metrics'].items():\n",
    "            metrics[\"e_pi_pi_star_\" + me] = v\n",
    "\n",
    "        for me, v in temp_res['z_pi_pi_star_metrics'].items():\n",
    "            metrics[\"z_pi_pi_star_\" + me] = v\n",
    "        compiled_res.append(metrics)"
   ]
  },
  {
   "cell_type": "code",
   "execution_count": 9,
   "metadata": {},
   "outputs": [
    {
     "data": {
      "text/plain": [
       "True"
      ]
     },
     "execution_count": 9,
     "metadata": {},
     "output_type": "execute_result"
    }
   ],
   "source": [
    "contains_azo(list(generated_smiles)[5])"
   ]
  },
  {
   "cell_type": "code",
   "execution_count": 10,
   "metadata": {},
   "outputs": [
    {
     "data": {
      "image/png": "[encoded data removed]",
      "text/plain": [
       "<rdkit.Chem.rdchem.Mol at 0x2a4ec06d0>"
      ]
     },
     "execution_count": 10,
     "metadata": {},
     "output_type": "execute_result"
    }
   ],
   "source": [
    "Chem.MolFromSmiles(list(generated_smiles)[0])"
   ]
  },
  {
   "cell_type": "code",
   "execution_count": 11,
   "metadata": {},
   "outputs": [],
   "source": [
    "df = pd.DataFrame(compiled_res)"
   ]
  },
  {
   "cell_type": "code",
   "execution_count": 16,
   "metadata": {},
   "outputs": [],
   "source": [
    "grouped = df.groupby(['temp']).agg(['mean', 'std'])"
   ]
  },
  {
   "cell_type": "code",
   "execution_count": 17,
   "metadata": {},
   "outputs": [
    {
     "data": {
      "text/html": [
       "<div>\n",
       "<style scoped>\n",
       "    .dataframe tbody tr th:only-of-type {\n",
       "        vertical-align: middle;\n",
       "    }\n",
       "\n",
       "    .dataframe tbody tr th {\n",
       "        vertical-align: top;\n",
       "    }\n",
       "\n",
       "    .dataframe thead tr th {\n",
       "        text-align: left;\n",
       "    }\n",
       "\n",
       "    .dataframe thead tr:last-of-type th {\n",
       "        text-align: right;\n",
       "    }\n",
       "</style>\n",
       "<table border=\"1\" class=\"dataframe\">\n",
       "  <thead>\n",
       "    <tr>\n",
       "      <th></th>\n",
       "      <th colspan=\"2\" halign=\"left\">noise_level</th>\n",
       "      <th colspan=\"2\" halign=\"left\">frac_valid</th>\n",
       "      <th colspan=\"2\" halign=\"left\">frac_unique</th>\n",
       "      <th colspan=\"2\" halign=\"left\">frac_smiles_in_train</th>\n",
       "      <th colspan=\"2\" halign=\"left\">frac_smiles_in_pubchem</th>\n",
       "      <th>...</th>\n",
       "      <th colspan=\"2\" halign=\"left\">z_pi_pi_star_r2</th>\n",
       "      <th colspan=\"2\" halign=\"left\">z_pi_pi_star_max_error</th>\n",
       "      <th colspan=\"2\" halign=\"left\">z_pi_pi_star_mean_absolute_error</th>\n",
       "      <th colspan=\"2\" halign=\"left\">z_pi_pi_star_mean_squared_error</th>\n",
       "      <th colspan=\"2\" halign=\"left\">z_pi_pi_star_rmse</th>\n",
       "    </tr>\n",
       "    <tr>\n",
       "      <th></th>\n",
       "      <th>mean</th>\n",
       "      <th>std</th>\n",
       "      <th>mean</th>\n",
       "      <th>std</th>\n",
       "      <th>mean</th>\n",
       "      <th>std</th>\n",
       "      <th>mean</th>\n",
       "      <th>std</th>\n",
       "      <th>mean</th>\n",
       "      <th>std</th>\n",
       "      <th>...</th>\n",
       "      <th>mean</th>\n",
       "      <th>std</th>\n",
       "      <th>mean</th>\n",
       "      <th>std</th>\n",
       "      <th>mean</th>\n",
       "      <th>std</th>\n",
       "      <th>mean</th>\n",
       "      <th>std</th>\n",
       "      <th>mean</th>\n",
       "      <th>std</th>\n",
       "    </tr>\n",
       "    <tr>\n",
       "      <th>temp</th>\n",
       "      <th></th>\n",
       "      <th></th>\n",
       "      <th></th>\n",
       "      <th></th>\n",
       "      <th></th>\n",
       "      <th></th>\n",
       "      <th></th>\n",
       "      <th></th>\n",
       "      <th></th>\n",
       "      <th></th>\n",
       "      <th></th>\n",
       "      <th></th>\n",
       "      <th></th>\n",
       "      <th></th>\n",
       "      <th></th>\n",
       "      <th></th>\n",
       "      <th></th>\n",
       "      <th></th>\n",
       "      <th></th>\n",
       "      <th></th>\n",
       "      <th></th>\n",
       "    </tr>\n",
       "  </thead>\n",
       "  <tbody>\n",
       "    <tr>\n",
       "      <th>0.00</th>\n",
       "      <td>2.916667</td>\n",
       "      <td>3.891229</td>\n",
       "      <td>0.994565</td>\n",
       "      <td>0.013312</td>\n",
       "      <td>0.021922</td>\n",
       "      <td>0.007228</td>\n",
       "      <td>0.0</td>\n",
       "      <td>0.0</td>\n",
       "      <td>1.000000</td>\n",
       "      <td>0.000000</td>\n",
       "      <td>...</td>\n",
       "      <td>-0.019570</td>\n",
       "      <td>0.022283</td>\n",
       "      <td>52.931186</td>\n",
       "      <td>3.119836</td>\n",
       "      <td>13.557117</td>\n",
       "      <td>1.163936</td>\n",
       "      <td>334.447879</td>\n",
       "      <td>38.755118</td>\n",
       "      <td>18.263791</td>\n",
       "      <td>1.028677</td>\n",
       "    </tr>\n",
       "    <tr>\n",
       "      <th>0.10</th>\n",
       "      <td>2.916667</td>\n",
       "      <td>3.891229</td>\n",
       "      <td>0.992754</td>\n",
       "      <td>0.011226</td>\n",
       "      <td>0.043961</td>\n",
       "      <td>0.023540</td>\n",
       "      <td>0.0</td>\n",
       "      <td>0.0</td>\n",
       "      <td>1.000000</td>\n",
       "      <td>0.000000</td>\n",
       "      <td>...</td>\n",
       "      <td>-0.036519</td>\n",
       "      <td>0.033815</td>\n",
       "      <td>53.688701</td>\n",
       "      <td>3.518165</td>\n",
       "      <td>13.739110</td>\n",
       "      <td>1.010177</td>\n",
       "      <td>343.542746</td>\n",
       "      <td>31.086674</td>\n",
       "      <td>18.520052</td>\n",
       "      <td>0.812710</td>\n",
       "    </tr>\n",
       "    <tr>\n",
       "      <th>0.20</th>\n",
       "      <td>2.916667</td>\n",
       "      <td>3.891229</td>\n",
       "      <td>0.974638</td>\n",
       "      <td>0.044375</td>\n",
       "      <td>0.108157</td>\n",
       "      <td>0.039578</td>\n",
       "      <td>0.0</td>\n",
       "      <td>0.0</td>\n",
       "      <td>1.000000</td>\n",
       "      <td>0.000000</td>\n",
       "      <td>...</td>\n",
       "      <td>-0.055093</td>\n",
       "      <td>0.067049</td>\n",
       "      <td>53.189046</td>\n",
       "      <td>3.514610</td>\n",
       "      <td>13.976706</td>\n",
       "      <td>1.061089</td>\n",
       "      <td>353.301438</td>\n",
       "      <td>39.277320</td>\n",
       "      <td>18.773353</td>\n",
       "      <td>1.017449</td>\n",
       "    </tr>\n",
       "    <tr>\n",
       "      <th>0.50</th>\n",
       "      <td>2.916667</td>\n",
       "      <td>3.891229</td>\n",
       "      <td>0.971014</td>\n",
       "      <td>0.021374</td>\n",
       "      <td>0.359797</td>\n",
       "      <td>0.028427</td>\n",
       "      <td>0.0</td>\n",
       "      <td>0.0</td>\n",
       "      <td>1.000000</td>\n",
       "      <td>0.000000</td>\n",
       "      <td>...</td>\n",
       "      <td>-0.191551</td>\n",
       "      <td>0.085945</td>\n",
       "      <td>61.518354</td>\n",
       "      <td>6.847675</td>\n",
       "      <td>14.768541</td>\n",
       "      <td>1.314791</td>\n",
       "      <td>394.712500</td>\n",
       "      <td>58.383441</td>\n",
       "      <td>19.823404</td>\n",
       "      <td>1.447134</td>\n",
       "    </tr>\n",
       "    <tr>\n",
       "      <th>0.75</th>\n",
       "      <td>2.916667</td>\n",
       "      <td>3.891229</td>\n",
       "      <td>0.918478</td>\n",
       "      <td>0.043884</td>\n",
       "      <td>0.555132</td>\n",
       "      <td>0.028139</td>\n",
       "      <td>0.0</td>\n",
       "      <td>0.0</td>\n",
       "      <td>1.000000</td>\n",
       "      <td>0.000000</td>\n",
       "      <td>...</td>\n",
       "      <td>-0.215839</td>\n",
       "      <td>0.134125</td>\n",
       "      <td>65.668732</td>\n",
       "      <td>11.091720</td>\n",
       "      <td>14.490057</td>\n",
       "      <td>1.457382</td>\n",
       "      <td>396.510347</td>\n",
       "      <td>77.552217</td>\n",
       "      <td>19.835809</td>\n",
       "      <td>1.913435</td>\n",
       "    </tr>\n",
       "    <tr>\n",
       "      <th>1.00</th>\n",
       "      <td>2.916667</td>\n",
       "      <td>3.891229</td>\n",
       "      <td>0.664855</td>\n",
       "      <td>0.014447</td>\n",
       "      <td>0.755052</td>\n",
       "      <td>0.069493</td>\n",
       "      <td>0.0</td>\n",
       "      <td>0.0</td>\n",
       "      <td>1.000000</td>\n",
       "      <td>0.000000</td>\n",
       "      <td>...</td>\n",
       "      <td>-0.323246</td>\n",
       "      <td>0.146523</td>\n",
       "      <td>68.099655</td>\n",
       "      <td>10.578059</td>\n",
       "      <td>15.718704</td>\n",
       "      <td>1.849756</td>\n",
       "      <td>474.437672</td>\n",
       "      <td>87.293813</td>\n",
       "      <td>21.710761</td>\n",
       "      <td>1.922665</td>\n",
       "    </tr>\n",
       "    <tr>\n",
       "      <th>1.25</th>\n",
       "      <td>2.916667</td>\n",
       "      <td>3.891229</td>\n",
       "      <td>0.313406</td>\n",
       "      <td>0.039740</td>\n",
       "      <td>0.892921</td>\n",
       "      <td>0.063353</td>\n",
       "      <td>0.0</td>\n",
       "      <td>0.0</td>\n",
       "      <td>1.000000</td>\n",
       "      <td>0.000000</td>\n",
       "      <td>...</td>\n",
       "      <td>-0.769153</td>\n",
       "      <td>0.490967</td>\n",
       "      <td>57.030038</td>\n",
       "      <td>6.403712</td>\n",
       "      <td>16.911339</td>\n",
       "      <td>2.851603</td>\n",
       "      <td>498.944802</td>\n",
       "      <td>117.091472</td>\n",
       "      <td>22.186441</td>\n",
       "      <td>2.836895</td>\n",
       "    </tr>\n",
       "    <tr>\n",
       "      <th>1.50</th>\n",
       "      <td>2.916667</td>\n",
       "      <td>3.891229</td>\n",
       "      <td>0.106884</td>\n",
       "      <td>0.030292</td>\n",
       "      <td>1.000000</td>\n",
       "      <td>0.000000</td>\n",
       "      <td>0.0</td>\n",
       "      <td>0.0</td>\n",
       "      <td>1.000000</td>\n",
       "      <td>0.000000</td>\n",
       "      <td>...</td>\n",
       "      <td>-5.225031</td>\n",
       "      <td>6.018130</td>\n",
       "      <td>51.939797</td>\n",
       "      <td>5.624758</td>\n",
       "      <td>25.822429</td>\n",
       "      <td>4.149902</td>\n",
       "      <td>933.744601</td>\n",
       "      <td>193.974469</td>\n",
       "      <td>30.421865</td>\n",
       "      <td>3.147325</td>\n",
       "    </tr>\n",
       "    <tr>\n",
       "      <th>2.00</th>\n",
       "      <td>2.916667</td>\n",
       "      <td>3.891229</td>\n",
       "      <td>0.125000</td>\n",
       "      <td>0.035555</td>\n",
       "      <td>1.000000</td>\n",
       "      <td>0.000000</td>\n",
       "      <td>0.0</td>\n",
       "      <td>0.0</td>\n",
       "      <td>0.972222</td>\n",
       "      <td>0.068041</td>\n",
       "      <td>...</td>\n",
       "      <td>-6.770715</td>\n",
       "      <td>4.261112</td>\n",
       "      <td>58.914742</td>\n",
       "      <td>13.357223</td>\n",
       "      <td>33.213467</td>\n",
       "      <td>4.588438</td>\n",
       "      <td>1414.267616</td>\n",
       "      <td>469.493459</td>\n",
       "      <td>37.202331</td>\n",
       "      <td>6.025364</td>\n",
       "    </tr>\n",
       "  </tbody>\n",
       "</table>\n",
       "<p>9 rows × 38 columns</p>\n",
       "</div>"
      ],
      "text/plain": [
       "     noise_level           frac_valid           frac_unique            \\\n",
       "            mean       std       mean       std        mean       std   \n",
       "temp                                                                    \n",
       "0.00    2.916667  3.891229   0.994565  0.013312    0.021922  0.007228   \n",
       "0.10    2.916667  3.891229   0.992754  0.011226    0.043961  0.023540   \n",
       "0.20    2.916667  3.891229   0.974638  0.044375    0.108157  0.039578   \n",
       "0.50    2.916667  3.891229   0.971014  0.021374    0.359797  0.028427   \n",
       "0.75    2.916667  3.891229   0.918478  0.043884    0.555132  0.028139   \n",
       "1.00    2.916667  3.891229   0.664855  0.014447    0.755052  0.069493   \n",
       "1.25    2.916667  3.891229   0.313406  0.039740    0.892921  0.063353   \n",
       "1.50    2.916667  3.891229   0.106884  0.030292    1.000000  0.000000   \n",
       "2.00    2.916667  3.891229   0.125000  0.035555    1.000000  0.000000   \n",
       "\n",
       "     frac_smiles_in_train      frac_smiles_in_pubchem            ...  \\\n",
       "                     mean  std                   mean       std  ...   \n",
       "temp                                                             ...   \n",
       "0.00                  0.0  0.0               1.000000  0.000000  ...   \n",
       "0.10                  0.0  0.0               1.000000  0.000000  ...   \n",
       "0.20                  0.0  0.0               1.000000  0.000000  ...   \n",
       "0.50                  0.0  0.0               1.000000  0.000000  ...   \n",
       "0.75                  0.0  0.0               1.000000  0.000000  ...   \n",
       "1.00                  0.0  0.0               1.000000  0.000000  ...   \n",
       "1.25                  0.0  0.0               1.000000  0.000000  ...   \n",
       "1.50                  0.0  0.0               1.000000  0.000000  ...   \n",
       "2.00                  0.0  0.0               0.972222  0.068041  ...   \n",
       "\n",
       "     z_pi_pi_star_r2           z_pi_pi_star_max_error             \\\n",
       "                mean       std                   mean        std   \n",
       "temp                                                               \n",
       "0.00       -0.019570  0.022283              52.931186   3.119836   \n",
       "0.10       -0.036519  0.033815              53.688701   3.518165   \n",
       "0.20       -0.055093  0.067049              53.189046   3.514610   \n",
       "0.50       -0.191551  0.085945              61.518354   6.847675   \n",
       "0.75       -0.215839  0.134125              65.668732  11.091720   \n",
       "1.00       -0.323246  0.146523              68.099655  10.578059   \n",
       "1.25       -0.769153  0.490967              57.030038   6.403712   \n",
       "1.50       -5.225031  6.018130              51.939797   5.624758   \n",
       "2.00       -6.770715  4.261112              58.914742  13.357223   \n",
       "\n",
       "     z_pi_pi_star_mean_absolute_error            \\\n",
       "                                 mean       std   \n",
       "temp                                              \n",
       "0.00                        13.557117  1.163936   \n",
       "0.10                        13.739110  1.010177   \n",
       "0.20                        13.976706  1.061089   \n",
       "0.50                        14.768541  1.314791   \n",
       "0.75                        14.490057  1.457382   \n",
       "1.00                        15.718704  1.849756   \n",
       "1.25                        16.911339  2.851603   \n",
       "1.50                        25.822429  4.149902   \n",
       "2.00                        33.213467  4.588438   \n",
       "\n",
       "     z_pi_pi_star_mean_squared_error             z_pi_pi_star_rmse            \n",
       "                                mean         std              mean       std  \n",
       "temp                                                                          \n",
       "0.00                      334.447879   38.755118         18.263791  1.028677  \n",
       "0.10                      343.542746   31.086674         18.520052  0.812710  \n",
       "0.20                      353.301438   39.277320         18.773353  1.017449  \n",
       "0.50                      394.712500   58.383441         19.823404  1.447134  \n",
       "0.75                      396.510347   77.552217         19.835809  1.913435  \n",
       "1.00                      474.437672   87.293813         21.710761  1.922665  \n",
       "1.25                      498.944802  117.091472         22.186441  2.836895  \n",
       "1.50                      933.744601  193.974469         30.421865  3.147325  \n",
       "2.00                     1414.267616  469.493459         37.202331  6.025364  \n",
       "\n",
       "[9 rows x 38 columns]"
      ]
     },
     "execution_count": 17,
     "metadata": {},
     "output_type": "execute_result"
    }
   ],
   "source": [
    "grouped"
   ]
  },
  {
   "cell_type": "code",
   "execution_count": 18,
   "metadata": {},
   "outputs": [
    {
     "data": {
      "image/png": "[encoded data removed]",
      "text/plain": [
       "<Figure size 325x650 with 7 Axes>"
      ]
     },
     "metadata": {},
     "output_type": "display_data"
    }
   ],
   "source": [
    "with plt.style.context(matplotx.styles.dufte):\n",
    "    fig, ax = plt.subplots(7,1, sharex='all', figsize=(ONE_COL_WIDTH_INCH, 2*ONE_COL_WIDTH_INCH))\n",
    "    ax[0].plot(grouped.index, grouped['frac_valid']['mean'], label='frac_valid')\n",
    "    ax[0].fill_between(grouped.index, grouped['frac_valid']['mean'] - grouped['frac_valid']['std'], grouped['frac_valid']['mean'] + grouped['frac_valid']['std'], alpha=0.2)\n",
    "\n",
    "    matplotx.ylabel_top('frac. valid SMILES', ax=ax[0])\n",
    "\n",
    "    ax[1].plot(grouped.index, grouped['frac_unique']['mean'], label='frac_unique')\n",
    "    ax[1].fill_between(grouped.index, grouped['frac_unique']['mean'] - grouped['frac_unique']['std'], grouped['frac_unique']['mean'] + grouped['frac_unique']['std'], alpha=0.2)\n",
    "\n",
    "    matplotx.ylabel_top('frac. unique SMILES', ax=ax[1])\n",
    "\n",
    "    ax[2].plot(grouped.index, grouped['frac_smiles_in_train']['mean'], label='frac_smiles_in_train')\n",
    "    ax[2].fill_between(grouped.index, grouped['frac_smiles_in_train']['mean'] - grouped['frac_smiles_in_train']['std'], grouped['frac_smiles_in_train']['mean'] + grouped['frac_smiles_in_train']['std'], alpha=0.2)\n",
    "\n",
    "    matplotx.ylabel_top('frac. SMILES in train', ax=ax[2])\n",
    "\n",
    "    ax[3].plot(grouped.index, grouped['frac_smiles_in_pubchem']['mean'], label='frac_smiles_in_pubchem')\n",
    "    ax[3].fill_between(grouped.index, grouped['frac_smiles_in_pubchem']['mean'] - grouped['frac_smiles_in_pubchem']['std'], grouped['frac_smiles_in_pubchem']['mean'] + grouped['frac_smiles_in_pubchem']['std'], alpha=0.2)\n",
    "\n",
    "    matplotx.ylabel_top('frac. SMILES in PubChem', ax=ax[3])\n",
    "\n",
    "    ax[4].plot(grouped.index, grouped['kld']['mean'], label='kld')\n",
    "    ax[4].fill_between(grouped.index, grouped['kld']['mean'] - grouped['kld']['std'], grouped['kld']['mean'] + grouped['kld']['std'], alpha=0.2)\n",
    "\n",
    "    matplotx.ylabel_top('KLD', ax=ax[4])\n",
    "\n",
    "    ax[5].plot(grouped.index, grouped['frechet_d']['mean'], label='frechet_d')\n",
    "    ax[5].fill_between(grouped.index, grouped['frechet_d']['mean'] - grouped['frechet_d']['std'], grouped['frechet_d']['mean'] + grouped['frechet_d']['std'], alpha=0.2)\n",
    "\n",
    "    matplotx.ylabel_top('Frechet distance', ax=ax[5])\n",
    "\n",
    "    ax[6].plot(grouped.index, grouped['frac_contains_azo']['mean'], label='frechet_score')\n",
    "    ax[6].fill_between(grouped.index, grouped['frac_contains_azo']['mean'] - grouped['frac_contains_azo']['std'], grouped['frac_contains_azo']['mean'] + grouped['frac_contains_azo']['std'], alpha=0.2)\n",
    "\n",
    "    matplotx.ylabel_top('frac. SMILES with azo', ax=ax[6])\n",
    "\n",
    "    ax[-1].set_xlabel('temperature', labelpad=4)\n",
    "\n",
    "    fig.savefig('photoswitch_random_smiles_metrics.pdf', bbox_inches='tight')"
   ]
  },
  {
   "cell_type": "code",
   "execution_count": 19,
   "metadata": {},
   "outputs": [
    {
     "data": {
      "image/png": "[encoded data removed]",
      "text/plain": [
       "<Figure size 325x200.861 with 2 Axes>"
      ]
     },
     "metadata": {},
     "output_type": "display_data"
    }
   ],
   "source": [
    "with plt.style.context(matplotx.styles.dufte):\n",
    "    fig, ax = plt.subplots(2,1, sharex='all', figsize=(ONE_COL_WIDTH_INCH, ONE_COL_GOLDEN_RATIO_HEIGHT_INCH))\n",
    "\n",
    "    ax[0].plot(grouped.index, grouped['z_pi_pi_star_mean_absolute_error']['mean'], label='e_pi_pi_star_metrics')\n",
    "    ax[0].fill_between(grouped.index, grouped['z_pi_pi_star_mean_absolute_error']['mean'] - grouped['z_pi_pi_star_mean_absolute_error']['std'], grouped['z_pi_pi_star_mean_absolute_error']['mean'] + grouped['z_pi_pi_star_mean_absolute_error']['std'], alpha=0.2)\n",
    "\n",
    "    matplotx.ylabel_top('Z isomer MAE', ax=ax[0])\n",
    "\n",
    "    ax[0].hlines(11.616605626696359, 0, 2, color='k', linestyle='--')\n",
    "\n",
    "    ax[0].set_ylim(8,35)\n",
    "\n",
    "    ax[1].plot(grouped.index, grouped['e_pi_pi_star_mean_absolute_error']['mean'], label='e_pi_pi_star_metrics')\n",
    "    ax[1].fill_between(grouped.index, grouped['e_pi_pi_star_mean_absolute_error']['mean'] - grouped['e_pi_pi_star_mean_absolute_error']['std'], grouped['e_pi_pi_star_mean_absolute_error']['mean'] + grouped['e_pi_pi_star_mean_absolute_error']['std'], alpha=0.2)\n",
    "\n",
    "    matplotx.ylabel_top('E isomer MAE', ax=ax[1])\n",
    "\n",
    "    ax[1].hlines(14.38998132190228, 0, 2, color='k', linestyle='--')\n",
    "\n",
    "    ax[-1].set_xlabel('temperature', labelpad=4)\n",
    "    ax[1].set_ylim(10,65)\n",
    "fig.savefig('random_photoswitch_constrain_matches.pdf', bbox_inches='tight')"
   ]
  },
  {
   "cell_type": "markdown",
   "metadata": {},
   "source": [
    "## Visualize"
   ]
  },
  {
   "cell_type": "code",
   "execution_count": 20,
   "metadata": {},
   "outputs": [],
   "source": [
    "import tmap as tm\n",
    "import numpy as np\n",
    "\n",
    "from faerun import Faerun\n",
    "from mhfp.encoder import MHFPEncoder\n",
    "from rdkit.Chem import AllChem\n",
    "\n",
    "from tqdm import tqdm"
   ]
  },
  {
   "cell_type": "code",
   "execution_count": 21,
   "metadata": {},
   "outputs": [],
   "source": [
    "import os\n",
    "import shutil"
   ]
  },
  {
   "cell_type": "code",
   "execution_count": 28,
   "metadata": {},
   "outputs": [],
   "source": [
    "def make_figure(temp):\n",
    "    path = f\"plots_all/{temp}\"\n",
    "    os.makedirs(path, exist_ok=True)\n",
    "    enc = MHFPEncoder()\n",
    "    lf = tm.LSHForest(2048, 128)\n",
    "    train_data = get_photoswitch_data()\n",
    "    train_smiles = train_data['SMILES'].values\n",
    "    all_smiles = set(train_smiles) | generated_smiles_at_temp[temp]\n",
    "\n",
    "    fps = []\n",
    "    labels = []\n",
    "\n",
    "    for smiles in tqdm(all_smiles):\n",
    "        mol = AllChem.MolFromSmiles(smiles)\n",
    "        fps.append(tm.VectorUint(enc.encode_mol(mol, min_radius=0)))\n",
    "        labels.append(smiles in train_smiles)\n",
    "\n",
    "    lf.batch_add(fps)\n",
    "    lf.index()\n",
    "    cfg = tm.LayoutConfiguration()\n",
    "    cfg.k = 100\n",
    "    cfg.sl_extra_scaling_steps = 6\n",
    "    cfg.sl_repeats = 2\n",
    "    cfg.mmm_repeats = 2\n",
    "    cfg.node_size = 2\n",
    "    x, y, s, t, _ = tm.layout_from_lsh_forest(lf, config=cfg)\n",
    "\n",
    "    f = Faerun(\n",
    "    clear_color=\"#FFFFFF\",\n",
    "    coords=False,\n",
    "    view=\"free\",\n",
    "    impress='made with <a href=\"http://tmap.gdb.tools\" target=\"_blank\">tmap</a><br />and <a href=\"https://github.com/reymond-group/faerun-python\" target=\"_blank\">faerun</a>',\n",
    "    )\n",
    "    f.add_scatter(\n",
    "        f\"Photoswitches\",\n",
    "        {\n",
    "            \"x\": x,\n",
    "            \"y\": y,\n",
    "            \"c\": labels,\n",
    "            \"labels\": all_smiles,\n",
    "        },\n",
    "        colormap=\"Set1\",\n",
    "        categorical=True,\n",
    "        shader='sphere',\n",
    "        has_legend=True,\n",
    "        point_scale=5,\n",
    "        legend_labels=[(1, \"in database\"), (0, \"not in database\")],\n",
    "        max_point_size=5000\n",
    "    )\n",
    "    f.add_tree(\n",
    "        \"Photoswitches_tree\",\n",
    "        {\n",
    "            \"from\": s,\n",
    "            \"to\": t,\n",
    "        },\n",
    "        point_helper=\"Photoswitches\",\n",
    "    )\n",
    "    f.plot(\"Photoswitches\", template=\"smiles\")\n",
    "\n",
    "    shutil.copy(\"Photoswitches.html\", path)"
   ]
  },
  {
   "cell_type": "code",
   "execution_count": 29,
   "metadata": {},
   "outputs": [
    {
     "name": "stderr",
     "output_type": "stream",
     "text": [
      "100%|██████████| 403/403 [00:03<00:00, 111.98it/s]\n"
     ]
    },
    {
     "data": {
      "text/html": [
       "\n",
       "        <iframe\n",
       "            width=\"100%\"\n",
       "            height=\"500\"\n",
       "            src=\"./Photoswitches.html\"\n",
       "            frameborder=\"0\"\n",
       "            allowfullscreen\n",
       "            \n",
       "        ></iframe>\n",
       "        "
      ],
      "text/plain": [
       "<IPython.lib.display.IFrame at 0x2ca53d400>"
      ]
     },
     "metadata": {},
     "output_type": "display_data"
    },
    {
     "data": {
      "text/html": [
       "<a href='./Photoswitches.html' target='_blank'>./Photoswitches.html</a><br>"
      ],
      "text/plain": [
       "/Users/kevinmaikjablonka/git/kjappelbaum/gptchem/experiments/05_inverse/photoswitch/random/Photoswitches.html"
      ]
     },
     "metadata": {},
     "output_type": "display_data"
    },
    {
     "name": "stderr",
     "output_type": "stream",
     "text": [
      "100%|██████████| 403/403 [00:03<00:00, 110.91it/s]\n"
     ]
    },
    {
     "data": {
      "text/html": [
       "\n",
       "        <iframe\n",
       "            width=\"100%\"\n",
       "            height=\"500\"\n",
       "            src=\"./Photoswitches.html\"\n",
       "            frameborder=\"0\"\n",
       "            allowfullscreen\n",
       "            \n",
       "        ></iframe>\n",
       "        "
      ],
      "text/plain": [
       "<IPython.lib.display.IFrame at 0x2ca560f10>"
      ]
     },
     "metadata": {},
     "output_type": "display_data"
    },
    {
     "data": {
      "text/html": [
       "<a href='./Photoswitches.html' target='_blank'>./Photoswitches.html</a><br>"
      ],
      "text/plain": [
       "/Users/kevinmaikjablonka/git/kjappelbaum/gptchem/experiments/05_inverse/photoswitch/random/Photoswitches.html"
      ]
     },
     "metadata": {},
     "output_type": "display_data"
    },
    {
     "name": "stderr",
     "output_type": "stream",
     "text": [
      "100%|██████████| 404/404 [00:03<00:00, 109.57it/s]\n"
     ]
    },
    {
     "data": {
      "text/html": [
       "\n",
       "        <iframe\n",
       "            width=\"100%\"\n",
       "            height=\"500\"\n",
       "            src=\"./Photoswitches.html\"\n",
       "            frameborder=\"0\"\n",
       "            allowfullscreen\n",
       "            \n",
       "        ></iframe>\n",
       "        "
      ],
      "text/plain": [
       "<IPython.lib.display.IFrame at 0x2ca572a60>"
      ]
     },
     "metadata": {},
     "output_type": "display_data"
    },
    {
     "data": {
      "text/html": [
       "<a href='./Photoswitches.html' target='_blank'>./Photoswitches.html</a><br>"
      ],
      "text/plain": [
       "/Users/kevinmaikjablonka/git/kjappelbaum/gptchem/experiments/05_inverse/photoswitch/random/Photoswitches.html"
      ]
     },
     "metadata": {},
     "output_type": "display_data"
    },
    {
     "name": "stderr",
     "output_type": "stream",
     "text": [
      "100%|██████████| 421/421 [00:03<00:00, 115.30it/s]\n"
     ]
    },
    {
     "data": {
      "text/html": [
       "\n",
       "        <iframe\n",
       "            width=\"100%\"\n",
       "            height=\"500\"\n",
       "            src=\"./Photoswitches.html\"\n",
       "            frameborder=\"0\"\n",
       "            allowfullscreen\n",
       "            \n",
       "        ></iframe>\n",
       "        "
      ],
      "text/plain": [
       "<IPython.lib.display.IFrame at 0x2ca622b50>"
      ]
     },
     "metadata": {},
     "output_type": "display_data"
    },
    {
     "data": {
      "text/html": [
       "<a href='./Photoswitches.html' target='_blank'>./Photoswitches.html</a><br>"
      ],
      "text/plain": [
       "/Users/kevinmaikjablonka/git/kjappelbaum/gptchem/experiments/05_inverse/photoswitch/random/Photoswitches.html"
      ]
     },
     "metadata": {},
     "output_type": "display_data"
    },
    {
     "name": "stderr",
     "output_type": "stream",
     "text": [
      "100%|██████████| 469/469 [00:03<00:00, 119.04it/s]\n"
     ]
    },
    {
     "data": {
      "text/html": [
       "\n",
       "        <iframe\n",
       "            width=\"100%\"\n",
       "            height=\"500\"\n",
       "            src=\"./Photoswitches.html\"\n",
       "            frameborder=\"0\"\n",
       "            allowfullscreen\n",
       "            \n",
       "        ></iframe>\n",
       "        "
      ],
      "text/plain": [
       "<IPython.lib.display.IFrame at 0x2ca624670>"
      ]
     },
     "metadata": {},
     "output_type": "display_data"
    },
    {
     "data": {
      "text/html": [
       "<a href='./Photoswitches.html' target='_blank'>./Photoswitches.html</a><br>"
      ],
      "text/plain": [
       "/Users/kevinmaikjablonka/git/kjappelbaum/gptchem/experiments/05_inverse/photoswitch/random/Photoswitches.html"
      ]
     },
     "metadata": {},
     "output_type": "display_data"
    },
    {
     "name": "stderr",
     "output_type": "stream",
     "text": [
      "100%|██████████| 510/510 [00:04<00:00, 120.75it/s]\n"
     ]
    },
    {
     "data": {
      "text/html": [
       "\n",
       "        <iframe\n",
       "            width=\"100%\"\n",
       "            height=\"500\"\n",
       "            src=\"./Photoswitches.html\"\n",
       "            frameborder=\"0\"\n",
       "            allowfullscreen\n",
       "            \n",
       "        ></iframe>\n",
       "        "
      ],
      "text/plain": [
       "<IPython.lib.display.IFrame at 0x2ca566b20>"
      ]
     },
     "metadata": {},
     "output_type": "display_data"
    },
    {
     "data": {
      "text/html": [
       "<a href='./Photoswitches.html' target='_blank'>./Photoswitches.html</a><br>"
      ],
      "text/plain": [
       "/Users/kevinmaikjablonka/git/kjappelbaum/gptchem/experiments/05_inverse/photoswitch/random/Photoswitches.html"
      ]
     },
     "metadata": {},
     "output_type": "display_data"
    },
    {
     "name": "stderr",
     "output_type": "stream",
     "text": [
      "100%|██████████| 489/489 [00:04<00:00, 116.34it/s]\n"
     ]
    },
    {
     "data": {
      "text/html": [
       "\n",
       "        <iframe\n",
       "            width=\"100%\"\n",
       "            height=\"500\"\n",
       "            src=\"./Photoswitches.html\"\n",
       "            frameborder=\"0\"\n",
       "            allowfullscreen\n",
       "            \n",
       "        ></iframe>\n",
       "        "
      ],
      "text/plain": [
       "<IPython.lib.display.IFrame at 0x2c7d3c520>"
      ]
     },
     "metadata": {},
     "output_type": "display_data"
    },
    {
     "data": {
      "text/html": [
       "<a href='./Photoswitches.html' target='_blank'>./Photoswitches.html</a><br>"
      ],
      "text/plain": [
       "/Users/kevinmaikjablonka/git/kjappelbaum/gptchem/experiments/05_inverse/photoswitch/random/Photoswitches.html"
      ]
     },
     "metadata": {},
     "output_type": "display_data"
    },
    {
     "name": "stderr",
     "output_type": "stream",
     "text": [
      "100%|██████████| 451/451 [00:03<00:00, 123.56it/s]\n"
     ]
    },
    {
     "data": {
      "text/html": [
       "\n",
       "        <iframe\n",
       "            width=\"100%\"\n",
       "            height=\"500\"\n",
       "            src=\"./Photoswitches.html\"\n",
       "            frameborder=\"0\"\n",
       "            allowfullscreen\n",
       "            \n",
       "        ></iframe>\n",
       "        "
      ],
      "text/plain": [
       "<IPython.lib.display.IFrame at 0x2ca52ecd0>"
      ]
     },
     "metadata": {},
     "output_type": "display_data"
    },
    {
     "data": {
      "text/html": [
       "<a href='./Photoswitches.html' target='_blank'>./Photoswitches.html</a><br>"
      ],
      "text/plain": [
       "/Users/kevinmaikjablonka/git/kjappelbaum/gptchem/experiments/05_inverse/photoswitch/random/Photoswitches.html"
      ]
     },
     "metadata": {},
     "output_type": "display_data"
    },
    {
     "name": "stderr",
     "output_type": "stream",
     "text": [
      "100%|██████████| 472/472 [00:03<00:00, 129.69it/s]\n"
     ]
    },
    {
     "data": {
      "text/html": [
       "\n",
       "        <iframe\n",
       "            width=\"100%\"\n",
       "            height=\"500\"\n",
       "            src=\"./Photoswitches.html\"\n",
       "            frameborder=\"0\"\n",
       "            allowfullscreen\n",
       "            \n",
       "        ></iframe>\n",
       "        "
      ],
      "text/plain": [
       "<IPython.lib.display.IFrame at 0x2ca5a41c0>"
      ]
     },
     "metadata": {},
     "output_type": "display_data"
    },
    {
     "data": {
      "text/html": [
       "<a href='./Photoswitches.html' target='_blank'>./Photoswitches.html</a><br>"
      ],
      "text/plain": [
       "/Users/kevinmaikjablonka/git/kjappelbaum/gptchem/experiments/05_inverse/photoswitch/random/Photoswitches.html"
      ]
     },
     "metadata": {},
     "output_type": "display_data"
    }
   ],
   "source": [
    "for temp in [0, 0.1, 0.2, 0.5, 0.75, 1.0, 1.25, 1.5, 2.0]:\n",
    "    make_figure(temp)"
   ]
  },
  {
   "cell_type": "code",
   "execution_count": 55,
   "metadata": {},
   "outputs": [
    {
     "name": "stderr",
     "output_type": "stream",
     "text": [
      "100%|██████████| 440/440 [00:04<00:00, 93.61it/s]\n"
     ]
    },
    {
     "data": {
      "text/html": [
       "\n",
       "        <iframe\n",
       "            width=\"100%\"\n",
       "            height=\"500\"\n",
       "            src=\"./Photoswitches.html\"\n",
       "            frameborder=\"0\"\n",
       "            allowfullscreen\n",
       "            \n",
       "        ></iframe>\n",
       "        "
      ],
      "text/plain": [
       "<IPython.lib.display.IFrame at 0x2cddc80a0>"
      ]
     },
     "metadata": {},
     "output_type": "display_data"
    },
    {
     "data": {
      "text/html": [
       "<a href='./Photoswitches.html' target='_blank'>./Photoswitches.html</a><br>"
      ],
      "text/plain": [
       "/Users/kevinmaikjablonka/git/kjappelbaum/gptchem/experiments/05_inverse/photoswitch/random/Photoswitches.html"
      ]
     },
     "metadata": {},
     "output_type": "display_data"
    }
   ],
   "source": [
    "make_figure(1.5)"
   ]
  },
  {
   "cell_type": "code",
   "execution_count": null,
   "metadata": {},
   "outputs": [],
   "source": []
  }
 ],
 "metadata": {
  "kernelspec": {
   "display_name": "gptchem",
   "language": "python",
   "name": "python3"
  },
  "language_info": {
   "codemirror_mode": {
    "name": "ipython",
    "version": 3
   },
   "file_extension": ".py",
   "mimetype": "text/x-python",
   "name": "python",
   "nbconvert_exporter": "python",
   "pygments_lexer": "ipython3",
   "version": "3.9.15"
  },
  "orig_nbformat": 4,
  "vscode": {
   "interpreter": {
    "hash": "2f3b9074e5baa1438c27e2ea813f7f53b7516c83bd70840b6d64eae6820ee5df"
   }
  }
 },
 "nbformat": 4,
 "nbformat_minor": 2
}
