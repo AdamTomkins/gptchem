{
 "cells": [
  {
   "cell_type": "code",
   "execution_count": 14,
   "metadata": {},
   "outputs": [
    {
     "name": "stdout",
     "output_type": "stream",
     "text": [
      "The autoreload extension is already loaded. To reload it, use:\n",
      "  %reload_ext autoreload\n"
     ]
    }
   ],
   "source": [
    "%load_ext autoreload\n",
    "%autoreload 2"
   ]
  },
  {
   "cell_type": "code",
   "execution_count": 15,
   "metadata": {},
   "outputs": [],
   "source": [
    "import pandas as pd\n",
    "from fastcore.xtras import load_pickle\n",
    "\n",
    "from gptchem.evaluator import evaluate_photoswitch_smiles_pred"
   ]
  },
  {
   "cell_type": "code",
   "execution_count": 19,
   "metadata": {},
   "outputs": [],
   "source": [
    "res = load_pickle(\"/Users/kevinmaikjablonka/git/kjappelbaum/gptchem/experiments/05_inverse/photoswitch/random/out/20230116_235856/summary.pkl\")"
   ]
  },
  {
   "cell_type": "code",
   "execution_count": 20,
   "metadata": {},
   "outputs": [
    {
     "data": {
      "text/plain": [
       "{'train_size': 20,\n",
       " 'noise_level': 1.0,\n",
       " 'num_samples': 10,\n",
       " 'temperatures': [0.5],\n",
       " 'res_at_temp': [{'completions': {'choices': [' CC1=C(C(C)=NN1)/N=N/C2=CC(Cl)=CC=C2',\n",
       "     ' CC1=C(/N=N/C2=CC=C2C=CC=C2)C=C2',\n",
       "     ' CC1=C(C(C)=NN1)/N=N/C2=CC(C(C)=C(C)=0)C=CC=C2',\n",
       "     ' CC1=NOC(C)=C1/N=N/C2=CC(O)=CC=C2',\n",
       "     ' CC1=C(/N=N/C2=CC=C2)C=C2',\n",
       "     ' C(C)C(C)=C1/N=N/C2=CC=CC=C2',\n",
       "     ' CC1=C(C(C)=NN1)/N=N/C2=CC(C)=CC=C2',\n",
       "     ' CC1=C(C(C)=NN1)/N=N/C2=CC(Cl)=CC=C2',\n",
       "     ' CC1=NOC(C)=C1/N=N/C2=CC(O)=CC=C2',\n",
       "     ' CC1=C(C(C)=NN1)/N=N/C2=CC(Cl)=CC=C2'],\n",
       "    'logprobs': [None, None, None, None, None, None, None, None, None, None],\n",
       "    'model': 'ada:ft-lsmoepfl-2023-01-16-23-02-50'},\n",
       "   'generated_smiles': (#10) ['CC1=C(C(C)=NN1)/N=N/C2=CC(Cl)=CC=C2','CC1=C(/N=N/C2=CC=C2C=CC=C2)C=C2','CC1=C(C(C)=NN1)/N=N/C2=CC(C(C)=C(C)=0)C=CC=C2','CC1=NOC(C)=C1/N=N/C2=CC(O)=CC=C2','CC1=C(/N=N/C2=CC=C2)C=C2','C(C)C(C)=C1/N=N/C2=CC=CC=C2','CC1=C(C(C)=NN1)/N=N/C2=CC(C)=CC=C2','CC1=C(C(C)=NN1)/N=N/C2=CC(Cl)=CC=C2','CC1=NOC(C)=C1/N=N/C2=CC(O)=CC=C2','CC1=C(C(C)=NN1)/N=N/C2=CC(Cl)=CC=C2'],\n",
       "   'train_smiles': 0                       C[N]1C=C(C)C(=N1)N=NC2=CC=CC=C2\n",
       "   1                   CC1=C(C(C)=NN1)/N=N/C2=CC(Br)=CC=C2\n",
       "   2     FC1=CC(C(OCC)=O)=CC(F)=C1/N=N/C2=CC=C(C(OCC)=O...\n",
       "   3                       FC1=CC=CC(F)=C1/N=N/C2=CC=CC=C2\n",
       "   4                CN(N=C1C)C(C)=C1/N=N/C2=C(Cl)C=CC=C2Cl\n",
       "   5     CC(NC(C=C1OC)=CC(OC)=C1/N=N/C2=C(OC)C=C(NC(C)=...\n",
       "   6                      CC1=NOC(C)=C1/N=N/C2=CC(O)=CC=C2\n",
       "   7                   CC1=C(/N=N/C2=C(F)C=CC=C2F)C(C)=NO1\n",
       "   8                       CC1=C(/N=N/C2=CC=CN=C2)C(C)=NO1\n",
       "   9                      CC1=NOC(C)=C1/N=N/C2=CC=C(C)C=C2\n",
       "   10              CC1=C(C(C)=NN1)/N=N/C2=CC(C(O)=O)=CC=C2\n",
       "   11                   CC(N(C)C(C)=C1)=C1/N=N/C2=CC=CC=C2\n",
       "   12                   CC1=C(C(C)=NN1)/N=N/C2=C(F)C=CC=C2\n",
       "   13                   CC1=C(/N=N/C2=CC=CC=C2C#N)C(C)=NO1\n",
       "   14                   CC1=C(C(C)=NN1)/N=N/C2=C(C)C=CC=C2\n",
       "   15                    CC1=NOC(C)=C1/N=N/C2=C(OC)C=CC=C2\n",
       "   16                  CC(N(C)C(C)=C1C)=C1/N=N/C2=CC=CC=C2\n",
       "   17                        COC1=CC=C(/N=N/C2=CC=CS2)C=C1\n",
       "   18                     CC1=NOC(C)=C1/N=N/C2=CC(F)=CC=C2\n",
       "   19                  CC1=C(C(C)=NN1)/N=N/C2=CC(Cl)=CC=C2\n",
       "   Name: label, dtype: object,\n",
       "   'frac_valid': 0.6,\n",
       "   'frac_unique': 0.5,\n",
       "   'frac_smiles_in_train': 0.0,\n",
       "   'frac_smiles_in_pubchem': 1.0,\n",
       "   'kld': 0.38516271262713087,\n",
       "   'frechet_d': nan,\n",
       "   'frechet_score': nan,\n",
       "   'valid_smiles': ['CC1=C(C(C)=NN1)/N=N/C2=CC(Cl)=CC=C2',\n",
       "    'CC1=NOC(C)=C1/N=N/C2=CC(O)=CC=C2',\n",
       "    'CC1=C(C(C)=NN1)/N=N/C2=CC(C)=CC=C2',\n",
       "    'CC1=C(C(C)=NN1)/N=N/C2=CC(Cl)=CC=C2',\n",
       "    'CC1=NOC(C)=C1/N=N/C2=CC(O)=CC=C2',\n",
       "    'CC1=C(C(C)=NN1)/N=N/C2=CC(Cl)=CC=C2'],\n",
       "   'valid_indices': [0, 3, 6, 7, 8, 9],\n",
       "   'e_pi_pi_star_metrics': {'r2': -1.0425738838630356,\n",
       "    'max_error': 53.14012776658552,\n",
       "    'mean_absolute_error': 17.179508548096077,\n",
       "    'mean_squared_error': 608.4494478829316,\n",
       "    'rmse': 24.66676808750858},\n",
       "   'z_pi_pi_star_metrics': {'r2': -0.9749463525182931,\n",
       "    'max_error': 8.492573096171157,\n",
       "    'mean_absolute_error': 4.35835105204733,\n",
       "    'mean_squared_error': 26.50437586945594,\n",
       "    'rmse': 5.148240074963088}}],\n",
       " 'test_size': 10}"
      ]
     },
     "execution_count": 20,
     "metadata": {},
     "output_type": "execute_result"
    }
   ],
   "source": [
    "res"
   ]
  },
  {
   "cell_type": "code",
   "execution_count": null,
   "metadata": {},
   "outputs": [],
   "source": [
    "evaluate_photoswitch_smiles_pred(res[\"res_at_temp\"][0][\"valid_smiles\"])"
   ]
  },
  {
   "cell_type": "code",
   "execution_count": 9,
   "metadata": {},
   "outputs": [
    {
     "data": {
      "text/plain": [
       "dict_keys(['train_size', 'noise_level', 'num_samples', 'temperatures', 'res_at_temp', 'test_size'])"
      ]
     },
     "execution_count": 9,
     "metadata": {},
     "output_type": "execute_result"
    }
   ],
   "source": [
    "res.keys()"
   ]
  },
  {
   "cell_type": "code",
   "execution_count": null,
   "metadata": {},
   "outputs": [],
   "source": []
  }
 ],
 "metadata": {
  "kernelspec": {
   "display_name": "gptchem",
   "language": "python",
   "name": "python3"
  },
  "language_info": {
   "codemirror_mode": {
    "name": "ipython",
    "version": 3
   },
   "file_extension": ".py",
   "mimetype": "text/x-python",
   "name": "python",
   "nbconvert_exporter": "python",
   "pygments_lexer": "ipython3",
   "version": "3.9.15"
  },
  "orig_nbformat": 4,
  "vscode": {
   "interpreter": {
    "hash": "2f3b9074e5baa1438c27e2ea813f7f53b7516c83bd70840b6d64eae6820ee5df"
   }
  }
 },
 "nbformat": 4,
 "nbformat_minor": 2
}
