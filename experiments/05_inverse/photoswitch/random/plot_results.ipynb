{
 "cells": [
  {
   "cell_type": "code",
   "execution_count": 117,
   "metadata": {},
   "outputs": [
    {
     "name": "stdout",
     "output_type": "stream",
     "text": [
      "The autoreload extension is already loaded. To reload it, use:\n",
      "  %reload_ext autoreload\n"
     ]
    }
   ],
   "source": [
    "%load_ext autoreload\n",
    "%autoreload 2"
   ]
  },
  {
   "cell_type": "code",
   "execution_count": 118,
   "metadata": {},
   "outputs": [],
   "source": [
    "from glob import glob\n",
    "\n",
    "import matplotlib as mpl\n",
    "import matplotlib.pyplot as plt\n",
    "import pandas as pd\n",
    "from fastcore.xtras import load_pickle\n",
    "from guacamol.utils.chemistry import is_valid\n",
    "\n",
    "from gptchem.data import get_photoswitch_data\n",
    "from gptchem.evaluator import evaluate_generated_smiles, evaluate_photoswitch_smiles_pred\n",
    "from gptchem.settings import ONE_COL_GOLDEN_RATIO_HEIGHT_INCH, ONE_COL_WIDTH_INCH\n",
    "from rdkit.Contrib.SA_Score.sascorer import calculateScore as calculate_sascore\n",
    "from rdkit import Chem \n",
    "\n",
    "mpl.rcParams.update(mpl.rcParamsDefault)\n",
    "plt.style.use([\"science\", \"nature\"])\n",
    "\n",
    "import matplotx\n",
    "import numpy as np \n",
    "\n",
    "%matplotlib inline"
   ]
  },
  {
   "cell_type": "code",
   "execution_count": 119,
   "metadata": {},
   "outputs": [],
   "source": [
    "def get_sa_scores(smiles):\n",
    "    sa_scores = []\n",
    "    for smiles in smiles:\n",
    "        try:\n",
    "            mol = Chem.MolFromSmiles(smiles)\n",
    "            sa_scores.append(calculate_sascore(mol))\n",
    "        except: \n",
    "            pass\n",
    "    return sa_scores"
   ]
  },
  {
   "cell_type": "code",
   "execution_count": 120,
   "metadata": {},
   "outputs": [],
   "source": [
    "from rdkit import Chem"
   ]
  },
  {
   "cell_type": "code",
   "execution_count": 121,
   "metadata": {},
   "outputs": [],
   "source": [
    "all_res = glob(\"out/**/*.pkl\")"
   ]
  },
  {
   "cell_type": "code",
   "execution_count": 122,
   "metadata": {},
   "outputs": [],
   "source": [
    "res = load_pickle(all_res[0])"
   ]
  },
  {
   "cell_type": "code",
   "execution_count": 124,
   "metadata": {},
   "outputs": [
    {
     "data": {
      "text/plain": [
       "'out/20230130_112152/summary.pkl'"
      ]
     },
     "execution_count": 124,
     "metadata": {},
     "output_type": "execute_result"
    }
   ],
   "source": [
    "all_res[0]"
   ]
  },
  {
   "cell_type": "code",
   "execution_count": 94,
   "metadata": {},
   "outputs": [],
   "source": [
    "from collections import defaultdict"
   ]
  },
  {
   "cell_type": "code",
   "execution_count": 95,
   "metadata": {},
   "outputs": [],
   "source": [
    "def contains_azo(smiles):\n",
    "    mol = Chem.MolFromSmiles(smiles)\n",
    "    # check if there is a N#N bond\n",
    "    smarts = \"[NX2]=N\"\n",
    "    return mol.HasSubstructMatch(Chem.MolFromSmarts(smarts))"
   ]
  },
  {
   "cell_type": "code",
   "execution_count": 96,
   "metadata": {},
   "outputs": [],
   "source": [
    "compiled_res = []\n",
    "generated_smiles = set()\n",
    "generated_smiles_w_azos = set()\n",
    "\n",
    "generated_smiles_w_azos_at_temp = defaultdict(set)\n",
    "generated_smiles_at_temp = defaultdict(set)\n",
    "\n",
    "for res_path in all_res:\n",
    "    res = load_pickle(res_path)\n",
    "    for temp_res in res[\"res_at_temp\"]:\n",
    "        try:\n",
    "            metrics = {\n",
    "                \"noise_level\": res[\"noise_level\"],\n",
    "                \"temp\": temp_res[\"temperature\"],\n",
    "                \"frac_valid\": temp_res[\"frac_valid\"],\n",
    "                \"frac_unique\": temp_res[\"frac_unique\"],\n",
    "                \"frac_smiles_in_train\": temp_res[\"frac_smiles_in_train\"],\n",
    "                \"frac_smiles_in_pubchem\": temp_res[\"frac_smiles_in_pubchem\"],\n",
    "                \"kld\": temp_res[\"kld\"],\n",
    "                \"frechet_d\": temp_res[\"frechet_d\"],\n",
    "                \"frechet_score\": temp_res[\"frechet_score\"],\n",
    "                \"frac_contains_azo\": sum([contains_azo(s) for s in temp_res[\"valid_smiles\"]])\n",
    "                / len(temp_res[\"valid_smiles\"]),\n",
    "            }\n",
    "            valid_smiles = [s for s in temp_res[\"generated_smiles\"] if is_valid(s)]\n",
    "            generated_smiles.update(valid_smiles)\n",
    "            v_w_azo = [s for s in temp_res[\"generated_smiles\"] if is_valid(s) and contains_azo(s)]\n",
    "            metrics['sa_score'] = np.mean(get_sa_scores(v_w_azo))\n",
    "            generated_smiles_w_azos.update(v_w_azo)\n",
    "            generated_smiles_w_azos_at_temp[temp_res[\"temperature\"]].update(v_w_azo)\n",
    "\n",
    "            v = [s for s in temp_res[\"generated_smiles\"] if is_valid(s)]\n",
    "            generated_smiles_at_temp[temp_res[\"temperature\"]].update(v)\n",
    "\n",
    "            for me, v in temp_res[\"e_pi_pi_star_metrics\"].items():\n",
    "                metrics[\"e_pi_pi_star_\" + me] = v\n",
    "\n",
    "            for me, v in temp_res[\"z_pi_pi_star_metrics\"].items():\n",
    "                metrics[\"z_pi_pi_star_\" + me] = v\n",
    "\n",
    "            \n",
    "            compiled_res.append(metrics)\n",
    "\n",
    "        except Exception:\n",
    "            pass"
   ]
  },
  {
   "cell_type": "code",
   "execution_count": 97,
   "metadata": {},
   "outputs": [
    {
     "data": {
      "text/plain": [
       "True"
      ]
     },
     "execution_count": 97,
     "metadata": {},
     "output_type": "execute_result"
    }
   ],
   "source": [
    "contains_azo(list(generated_smiles)[5])"
   ]
  },
  {
   "cell_type": "code",
   "execution_count": 98,
   "metadata": {},
   "outputs": [
    {
     "data": {
      "image/png": "[encoded data removed]",
      "text/plain": [
       "<rdkit.Chem.rdchem.Mol at 0x2dfa9a740>"
      ]
     },
     "execution_count": 98,
     "metadata": {},
     "output_type": "execute_result"
    }
   ],
   "source": [
    "Chem.MolFromSmiles(list(generated_smiles)[0])"
   ]
  },
  {
   "cell_type": "code",
   "execution_count": 99,
   "metadata": {},
   "outputs": [],
   "source": [
    "df = pd.DataFrame(compiled_res)"
   ]
  },
  {
   "cell_type": "code",
   "execution_count": 100,
   "metadata": {},
   "outputs": [],
   "source": [
    "grouped = df.groupby([\"temp\"]).agg([\"mean\", \"std\"])"
   ]
  },
  {
   "cell_type": "code",
   "execution_count": 101,
   "metadata": {},
   "outputs": [
    {
     "data": {
      "image/png": "[encoded data removed]",
      "text/plain": [
       "<Figure size 325x650 with 8 Axes>"
      ]
     },
     "metadata": {},
     "output_type": "display_data"
    }
   ],
   "source": [
    "\n",
    "\n",
    "with plt.style.context(matplotx.styles.dufte):\n",
    "    fig, ax = plt.subplots(8, 1, sharex=\"all\", figsize=(ONE_COL_WIDTH_INCH, 2 * ONE_COL_WIDTH_INCH))\n",
    "    # plt.rcParams['axes.edgecolor']='#b0b0b0'\n",
    "    # plt.rcParams['axes.linewidth']=0.8\n",
    "    # plt.rcParams['xtick.color']='#b0b0b0'\n",
    "    # plt.rcParams['ytick.color']='#b0b0b0'\n",
    "    ax[0].plot(grouped.index, grouped[\"frac_valid\"][\"mean\"], label=\"frac_valid\")\n",
    "    ax[0].fill_between(\n",
    "        grouped.index,\n",
    "        grouped[\"frac_valid\"][\"mean\"] - grouped[\"frac_valid\"][\"std\"],\n",
    "        grouped[\"frac_valid\"][\"mean\"] + grouped[\"frac_valid\"][\"std\"],\n",
    "        alpha=0.2,\n",
    "    )\n",
    "\n",
    "    matplotx.ylabel_top(\"frac. valid SMILES\", ax=ax[0])\n",
    "\n",
    "    ax[1].plot(grouped.index, grouped[\"frac_unique\"][\"mean\"], label=\"frac_unique\")\n",
    "    ax[1].fill_between(\n",
    "        grouped.index,\n",
    "        grouped[\"frac_unique\"][\"mean\"] - grouped[\"frac_unique\"][\"std\"],\n",
    "        grouped[\"frac_unique\"][\"mean\"] + grouped[\"frac_unique\"][\"std\"],\n",
    "        alpha=0.2,\n",
    "    )\n",
    "\n",
    "    matplotx.ylabel_top(\"frac. unique SMILES\", ax=ax[1])\n",
    "\n",
    "    ax[2].plot(grouped.index, grouped[\"frac_smiles_in_train\"][\"mean\"], label=\"frac_smiles_in_train\")\n",
    "    ax[2].fill_between(\n",
    "        grouped.index,\n",
    "        grouped[\"frac_smiles_in_train\"][\"mean\"] - grouped[\"frac_smiles_in_train\"][\"std\"],\n",
    "        grouped[\"frac_smiles_in_train\"][\"mean\"] + grouped[\"frac_smiles_in_train\"][\"std\"],\n",
    "        alpha=0.2,\n",
    "    )\n",
    "\n",
    "    matplotx.ylabel_top(\"frac. SMILES in train\", ax=ax[2])\n",
    "\n",
    "    ax[3].plot(\n",
    "        grouped.index, grouped[\"frac_smiles_in_pubchem\"][\"mean\"], label=\"frac_smiles_in_pubchem\"\n",
    "    )\n",
    "    ax[3].fill_between(\n",
    "        grouped.index,\n",
    "        grouped[\"frac_smiles_in_pubchem\"][\"mean\"] - grouped[\"frac_smiles_in_pubchem\"][\"std\"],\n",
    "        grouped[\"frac_smiles_in_pubchem\"][\"mean\"] + grouped[\"frac_smiles_in_pubchem\"][\"std\"],\n",
    "        alpha=0.2,\n",
    "    )\n",
    "\n",
    "    matplotx.ylabel_top(\"frac. SMILES in PubChem\", ax=ax[3])\n",
    "\n",
    "    ax[4].plot(grouped.index, grouped[\"kld\"][\"mean\"], label=\"kld\")\n",
    "    ax[4].fill_between(\n",
    "        grouped.index,\n",
    "        grouped[\"kld\"][\"mean\"] - grouped[\"kld\"][\"std\"],\n",
    "        grouped[\"kld\"][\"mean\"] + grouped[\"kld\"][\"std\"],\n",
    "        alpha=0.2,\n",
    "    )\n",
    "\n",
    "    matplotx.ylabel_top(\"KLD\", ax=ax[4])\n",
    "\n",
    "    ax[5].plot(grouped.index, grouped[\"frechet_d\"][\"mean\"], label=\"frechet_d\")\n",
    "    ax[5].fill_between(\n",
    "        grouped.index,\n",
    "        grouped[\"frechet_d\"][\"mean\"] - grouped[\"frechet_d\"][\"std\"],\n",
    "        grouped[\"frechet_d\"][\"mean\"] + grouped[\"frechet_d\"][\"std\"],\n",
    "        alpha=0.2,\n",
    "    )\n",
    "\n",
    "    matplotx.ylabel_top(\"Frechet distance\", ax=ax[5])\n",
    "\n",
    "    ax[6].plot(grouped.index, grouped[\"frac_contains_azo\"][\"mean\"], label=\"frechet_score\")\n",
    "    ax[6].fill_between(\n",
    "        grouped.index,\n",
    "        grouped[\"frac_contains_azo\"][\"mean\"] - grouped[\"frac_contains_azo\"][\"std\"],\n",
    "        grouped[\"frac_contains_azo\"][\"mean\"] + grouped[\"frac_contains_azo\"][\"std\"],\n",
    "        alpha=0.2,\n",
    "    )\n",
    "\n",
    "    matplotx.ylabel_top(\"frac. SMILES with azo\", ax=ax[6])\n",
    "\n",
    "\n",
    "    ax[7].plot(grouped.index, grouped[\"sa_score\"][\"mean\"], label=\"frechet_score\")\n",
    "    ax[7].fill_between(\n",
    "        grouped.index,\n",
    "        grouped[\"sa_score\"][\"mean\"] - grouped[\"sa_score\"][\"std\"],\n",
    "        grouped[\"sa_score\"][\"mean\"] + grouped[\"sa_score\"][\"std\"],\n",
    "        alpha=0.2,\n",
    "    )\n",
    "\n",
    "    matplotx.ylabel_top(\"SA score\", ax=ax[7])\n",
    "\n",
    "\n",
    "    ax[-1].set_xlabel(\"temperature\", labelpad=4)\n",
    "\n",
    "    # for a in ax:\n",
    "    #     a.spines['top'].set_visible(False)\n",
    "    #     a.spines['right'].set_visible(False)\n",
    "    #     #a.spines['left'].set_bounds((1, len(my_range)))\n",
    "    #     a.set_xlim(0,2)\n",
    "    #     # add some space between the axis and the plot\n",
    "    #     a.spines['left'].set_position(('outward', 8))\n",
    "    #     a.spines['bottom'].set_position(('outward', 5))\n",
    "\n",
    "    for i in range(1,8):\n",
    "        ax[i].set_title('  \\n      ')\n",
    "    fig.subplots_adjust(hspace=0.5)\n",
    "    #fig.tight_layout()\n",
    "    fig.savefig(\"photoswitch_random_smiles_metrics.pdf\", bbox_inches=\"tight\")"
   ]
  },
  {
   "cell_type": "code",
   "execution_count": 102,
   "metadata": {},
   "outputs": [
    {
     "data": {
      "image/png": "[encoded data removed]",
      "text/plain": [
       "<Figure size 325x200.861 with 2 Axes>"
      ]
     },
     "metadata": {},
     "output_type": "display_data"
    }
   ],
   "source": [
    "with plt.style.context(matplotx.styles.dufte):\n",
    "    fig, ax = plt.subplots(\n",
    "        2, 1, sharex=\"all\", figsize=(ONE_COL_WIDTH_INCH, ONE_COL_GOLDEN_RATIO_HEIGHT_INCH)\n",
    "    )\n",
    "\n",
    "    ax[0].plot(\n",
    "        grouped.index,\n",
    "        grouped[\"z_pi_pi_star_mean_absolute_error\"][\"mean\"],\n",
    "        label=\"e_pi_pi_star_metrics\",\n",
    "    )\n",
    "    ax[0].fill_between(\n",
    "        grouped.index,\n",
    "        grouped[\"z_pi_pi_star_mean_absolute_error\"][\"mean\"]\n",
    "        - grouped[\"z_pi_pi_star_mean_absolute_error\"][\"std\"],\n",
    "        grouped[\"z_pi_pi_star_mean_absolute_error\"][\"mean\"]\n",
    "        + grouped[\"z_pi_pi_star_mean_absolute_error\"][\"std\"],\n",
    "        alpha=0.2,\n",
    "    )\n",
    "\n",
    "    matplotx.ylabel_top(\"Z isomer MAE\", ax=ax[0])\n",
    "\n",
    "    ax[0].hlines(11.616605626696359, 0, 2, color=\"k\", linestyle=\"--\")\n",
    "\n",
    "    ax[0].set_ylim(8, 35)\n",
    "\n",
    "    ax[1].plot(\n",
    "        grouped.index,\n",
    "        grouped[\"e_pi_pi_star_mean_absolute_error\"][\"mean\"],\n",
    "        label=\"e_pi_pi_star_metrics\",\n",
    "    )\n",
    "    ax[1].fill_between(\n",
    "        grouped.index,\n",
    "        grouped[\"e_pi_pi_star_mean_absolute_error\"][\"mean\"]\n",
    "        - grouped[\"e_pi_pi_star_mean_absolute_error\"][\"std\"],\n",
    "        grouped[\"e_pi_pi_star_mean_absolute_error\"][\"mean\"]\n",
    "        + grouped[\"e_pi_pi_star_mean_absolute_error\"][\"std\"],\n",
    "        alpha=0.2,\n",
    "    )\n",
    "\n",
    "    matplotx.ylabel_top(\"E isomer MAE\", ax=ax[1])\n",
    "\n",
    "    ax[1].hlines(14.38998132190228, 0, 2, color=\"k\", linestyle=\"--\")\n",
    "\n",
    "    ax[-1].set_xlabel(\"temperature\", labelpad=4)\n",
    "    ax[1].set_ylim(10, 65)\n",
    "\n",
    "    fig.subplots_adjust(hspace=0.5)\n",
    "fig.savefig(\"random_photoswitch_constrain_matches.pdf\", bbox_inches=\"tight\")"
   ]
  },
  {
   "cell_type": "markdown",
   "metadata": {},
   "source": [
    "## Visualize"
   ]
  },
  {
   "cell_type": "code",
   "execution_count": 103,
   "metadata": {},
   "outputs": [],
   "source": [
    "import numpy as np\n",
    "import tmap as tm\n",
    "from faerun import Faerun\n",
    "from mhfp.encoder import MHFPEncoder\n",
    "from rdkit.Chem import AllChem\n",
    "from tqdm import tqdm"
   ]
  },
  {
   "cell_type": "code",
   "execution_count": 104,
   "metadata": {},
   "outputs": [],
   "source": [
    "import os\n",
    "import shutil"
   ]
  },
  {
   "cell_type": "code",
   "execution_count": 105,
   "metadata": {},
   "outputs": [],
   "source": [
    "def make_figure(temp):\n",
    "    path = f\"plots_all/{temp}\"\n",
    "    os.makedirs(path, exist_ok=True)\n",
    "    enc = MHFPEncoder()\n",
    "    lf = tm.LSHForest(2048, 128)\n",
    "    train_data = get_photoswitch_data()\n",
    "    train_smiles = train_data[\"SMILES\"].values\n",
    "    all_smiles = set(train_smiles) | generated_smiles_at_temp[temp]\n",
    "\n",
    "    fps = []\n",
    "    labels = []\n",
    "\n",
    "    for smiles in tqdm(all_smiles):\n",
    "        mol = AllChem.MolFromSmiles(smiles)\n",
    "        fps.append(tm.VectorUint(enc.encode_mol(mol, min_radius=0)))\n",
    "        labels.append(smiles in train_smiles)\n",
    "\n",
    "    lf.batch_add(fps)\n",
    "    lf.index()\n",
    "    cfg = tm.LayoutConfiguration()\n",
    "    cfg.k = 100\n",
    "    cfg.sl_extra_scaling_steps = 6\n",
    "    cfg.sl_repeats = 2\n",
    "    cfg.mmm_repeats = 2\n",
    "    cfg.node_size = 2\n",
    "    x, y, s, t, _ = tm.layout_from_lsh_forest(lf, config=cfg)\n",
    "\n",
    "    f = Faerun(\n",
    "        clear_color=\"#FFFFFF\",\n",
    "        coords=False,\n",
    "        view=\"free\",\n",
    "        impress='made with <a href=\"http://tmap.gdb.tools\" target=\"_blank\">tmap</a><br />and <a href=\"https://github.com/reymond-group/faerun-python\" target=\"_blank\">faerun</a>',\n",
    "    )\n",
    "    f.add_scatter(\n",
    "        f\"Photoswitches\",\n",
    "        {\n",
    "            \"x\": x,\n",
    "            \"y\": y,\n",
    "            \"c\": labels,\n",
    "            \"labels\": all_smiles,\n",
    "        },\n",
    "        colormap=\"Set1\",\n",
    "        categorical=True,\n",
    "        shader=\"sphere\",\n",
    "        has_legend=True,\n",
    "        point_scale=5,\n",
    "        legend_labels=[(1, \"in database\"), (0, \"not in database\")],\n",
    "        max_point_size=5000,\n",
    "    )\n",
    "    f.add_tree(\n",
    "        \"Photoswitches_tree\",\n",
    "        {\n",
    "            \"from\": s,\n",
    "            \"to\": t,\n",
    "        },\n",
    "        point_helper=\"Photoswitches\",\n",
    "    )\n",
    "    f.plot(\"Photoswitches\", template=\"smiles\")\n",
    "\n",
    "    shutil.copy(\"Photoswitches.html\", path)"
   ]
  },
  {
   "cell_type": "code",
   "execution_count": 111,
   "metadata": {},
   "outputs": [],
   "source": [
    "import pubchempy as pcp"
   ]
  },
  {
   "cell_type": "code",
   "execution_count": 114,
   "metadata": {},
   "outputs": [],
   "source": [
    "cmpd = pcp.get_compounds(\"CN1C(=NC2=CC=CCN2)N=CC=N1\", smiles=\"CN1C(=NC2=CC=CCN2)N=CC=N1\", namespace=\"SMILES\")[0]"
   ]
  },
  {
   "cell_type": "code",
   "execution_count": 116,
   "metadata": {},
   "outputs": [
    {
     "data": {
      "text/plain": [
       "pubchempy.Compound"
      ]
     },
     "execution_count": 116,
     "metadata": {},
     "output_type": "execute_result"
    }
   ],
   "source": []
  },
  {
   "cell_type": "code",
   "execution_count": 106,
   "metadata": {},
   "outputs": [
    {
     "name": "stderr",
     "output_type": "stream",
     "text": [
      "100%|██████████| 406/406 [00:03<00:00, 128.29it/s]\n"
     ]
    },
    {
     "data": {
      "text/html": [
       "\n",
       "        <iframe\n",
       "            width=\"100%\"\n",
       "            height=\"500\"\n",
       "            src=\"./Photoswitches.html\"\n",
       "            frameborder=\"0\"\n",
       "            allowfullscreen\n",
       "            \n",
       "        ></iframe>\n",
       "        "
      ],
      "text/plain": [
       "<IPython.lib.display.IFrame at 0x2de05e0d0>"
      ]
     },
     "metadata": {},
     "output_type": "display_data"
    },
    {
     "data": {
      "text/html": [
       "<a href='./Photoswitches.html' target='_blank'>./Photoswitches.html</a><br>"
      ],
      "text/plain": [
       "/Users/kevinmaikjablonka/git/kjappelbaum/gptchem/experiments/05_inverse/photoswitch/random/Photoswitches.html"
      ]
     },
     "metadata": {},
     "output_type": "display_data"
    },
    {
     "name": "stderr",
     "output_type": "stream",
     "text": [
      "100%|██████████| 406/406 [00:03<00:00, 126.85it/s]\n"
     ]
    },
    {
     "data": {
      "text/html": [
       "\n",
       "        <iframe\n",
       "            width=\"100%\"\n",
       "            height=\"500\"\n",
       "            src=\"./Photoswitches.html\"\n",
       "            frameborder=\"0\"\n",
       "            allowfullscreen\n",
       "            \n",
       "        ></iframe>\n",
       "        "
      ],
      "text/plain": [
       "<IPython.lib.display.IFrame at 0x2dfbc7490>"
      ]
     },
     "metadata": {},
     "output_type": "display_data"
    },
    {
     "data": {
      "text/html": [
       "<a href='./Photoswitches.html' target='_blank'>./Photoswitches.html</a><br>"
      ],
      "text/plain": [
       "/Users/kevinmaikjablonka/git/kjappelbaum/gptchem/experiments/05_inverse/photoswitch/random/Photoswitches.html"
      ]
     },
     "metadata": {},
     "output_type": "display_data"
    },
    {
     "name": "stderr",
     "output_type": "stream",
     "text": [
      "100%|██████████| 410/410 [00:03<00:00, 126.42it/s]\n"
     ]
    },
    {
     "data": {
      "text/html": [
       "\n",
       "        <iframe\n",
       "            width=\"100%\"\n",
       "            height=\"500\"\n",
       "            src=\"./Photoswitches.html\"\n",
       "            frameborder=\"0\"\n",
       "            allowfullscreen\n",
       "            \n",
       "        ></iframe>\n",
       "        "
      ],
      "text/plain": [
       "<IPython.lib.display.IFrame at 0x2de867400>"
      ]
     },
     "metadata": {},
     "output_type": "display_data"
    },
    {
     "data": {
      "text/html": [
       "<a href='./Photoswitches.html' target='_blank'>./Photoswitches.html</a><br>"
      ],
      "text/plain": [
       "/Users/kevinmaikjablonka/git/kjappelbaum/gptchem/experiments/05_inverse/photoswitch/random/Photoswitches.html"
      ]
     },
     "metadata": {},
     "output_type": "display_data"
    },
    {
     "name": "stderr",
     "output_type": "stream",
     "text": [
      "100%|██████████| 487/487 [00:03<00:00, 129.72it/s]\n"
     ]
    },
    {
     "data": {
      "text/html": [
       "\n",
       "        <iframe\n",
       "            width=\"100%\"\n",
       "            height=\"500\"\n",
       "            src=\"./Photoswitches.html\"\n",
       "            frameborder=\"0\"\n",
       "            allowfullscreen\n",
       "            \n",
       "        ></iframe>\n",
       "        "
      ],
      "text/plain": [
       "<IPython.lib.display.IFrame at 0x2de153400>"
      ]
     },
     "metadata": {},
     "output_type": "display_data"
    },
    {
     "data": {
      "text/html": [
       "<a href='./Photoswitches.html' target='_blank'>./Photoswitches.html</a><br>"
      ],
      "text/plain": [
       "/Users/kevinmaikjablonka/git/kjappelbaum/gptchem/experiments/05_inverse/photoswitch/random/Photoswitches.html"
      ]
     },
     "metadata": {},
     "output_type": "display_data"
    },
    {
     "name": "stderr",
     "output_type": "stream",
     "text": [
      "100%|██████████| 647/647 [00:05<00:00, 128.28it/s]\n"
     ]
    },
    {
     "data": {
      "text/html": [
       "\n",
       "        <iframe\n",
       "            width=\"100%\"\n",
       "            height=\"500\"\n",
       "            src=\"./Photoswitches.html\"\n",
       "            frameborder=\"0\"\n",
       "            allowfullscreen\n",
       "            \n",
       "        ></iframe>\n",
       "        "
      ],
      "text/plain": [
       "<IPython.lib.display.IFrame at 0x2dfa4eb50>"
      ]
     },
     "metadata": {},
     "output_type": "display_data"
    },
    {
     "data": {
      "text/html": [
       "<a href='./Photoswitches.html' target='_blank'>./Photoswitches.html</a><br>"
      ],
      "text/plain": [
       "/Users/kevinmaikjablonka/git/kjappelbaum/gptchem/experiments/05_inverse/photoswitch/random/Photoswitches.html"
      ]
     },
     "metadata": {},
     "output_type": "display_data"
    },
    {
     "name": "stderr",
     "output_type": "stream",
     "text": [
      "100%|██████████| 884/884 [00:05<00:00, 150.26it/s]\n"
     ]
    },
    {
     "data": {
      "text/html": [
       "\n",
       "        <iframe\n",
       "            width=\"100%\"\n",
       "            height=\"500\"\n",
       "            src=\"./Photoswitches.html\"\n",
       "            frameborder=\"0\"\n",
       "            allowfullscreen\n",
       "            \n",
       "        ></iframe>\n",
       "        "
      ],
      "text/plain": [
       "<IPython.lib.display.IFrame at 0x2de9d10d0>"
      ]
     },
     "metadata": {},
     "output_type": "display_data"
    },
    {
     "data": {
      "text/html": [
       "<a href='./Photoswitches.html' target='_blank'>./Photoswitches.html</a><br>"
      ],
      "text/plain": [
       "/Users/kevinmaikjablonka/git/kjappelbaum/gptchem/experiments/05_inverse/photoswitch/random/Photoswitches.html"
      ]
     },
     "metadata": {},
     "output_type": "display_data"
    },
    {
     "name": "stderr",
     "output_type": "stream",
     "text": [
      "100%|██████████| 833/833 [00:05<00:00, 162.41it/s]\n"
     ]
    },
    {
     "data": {
      "text/html": [
       "\n",
       "        <iframe\n",
       "            width=\"100%\"\n",
       "            height=\"500\"\n",
       "            src=\"./Photoswitches.html\"\n",
       "            frameborder=\"0\"\n",
       "            allowfullscreen\n",
       "            \n",
       "        ></iframe>\n",
       "        "
      ],
      "text/plain": [
       "<IPython.lib.display.IFrame at 0x2deff0670>"
      ]
     },
     "metadata": {},
     "output_type": "display_data"
    },
    {
     "data": {
      "text/html": [
       "<a href='./Photoswitches.html' target='_blank'>./Photoswitches.html</a><br>"
      ],
      "text/plain": [
       "/Users/kevinmaikjablonka/git/kjappelbaum/gptchem/experiments/05_inverse/photoswitch/random/Photoswitches.html"
      ]
     },
     "metadata": {},
     "output_type": "display_data"
    },
    {
     "name": "stderr",
     "output_type": "stream",
     "text": [
      "100%|██████████| 694/694 [00:03<00:00, 190.85it/s]\n"
     ]
    },
    {
     "data": {
      "text/html": [
       "\n",
       "        <iframe\n",
       "            width=\"100%\"\n",
       "            height=\"500\"\n",
       "            src=\"./Photoswitches.html\"\n",
       "            frameborder=\"0\"\n",
       "            allowfullscreen\n",
       "            \n",
       "        ></iframe>\n",
       "        "
      ],
      "text/plain": [
       "<IPython.lib.display.IFrame at 0x2b59b3550>"
      ]
     },
     "metadata": {},
     "output_type": "display_data"
    },
    {
     "data": {
      "text/html": [
       "<a href='./Photoswitches.html' target='_blank'>./Photoswitches.html</a><br>"
      ],
      "text/plain": [
       "/Users/kevinmaikjablonka/git/kjappelbaum/gptchem/experiments/05_inverse/photoswitch/random/Photoswitches.html"
      ]
     },
     "metadata": {},
     "output_type": "display_data"
    },
    {
     "name": "stderr",
     "output_type": "stream",
     "text": [
      "100%|██████████| 762/762 [00:03<00:00, 192.95it/s]\n"
     ]
    },
    {
     "data": {
      "text/html": [
       "\n",
       "        <iframe\n",
       "            width=\"100%\"\n",
       "            height=\"500\"\n",
       "            src=\"./Photoswitches.html\"\n",
       "            frameborder=\"0\"\n",
       "            allowfullscreen\n",
       "            \n",
       "        ></iframe>\n",
       "        "
      ],
      "text/plain": [
       "<IPython.lib.display.IFrame at 0x2dfa3adc0>"
      ]
     },
     "metadata": {},
     "output_type": "display_data"
    },
    {
     "data": {
      "text/html": [
       "<a href='./Photoswitches.html' target='_blank'>./Photoswitches.html</a><br>"
      ],
      "text/plain": [
       "/Users/kevinmaikjablonka/git/kjappelbaum/gptchem/experiments/05_inverse/photoswitch/random/Photoswitches.html"
      ]
     },
     "metadata": {},
     "output_type": "display_data"
    }
   ],
   "source": [
    "for temp in [0, 0.1, 0.2, 0.5, 0.75, 1.0, 1.25, 1.5, 2.0]:\n",
    "    make_figure(temp)"
   ]
  },
  {
   "cell_type": "code",
   "execution_count": 107,
   "metadata": {},
   "outputs": [
    {
     "name": "stderr",
     "output_type": "stream",
     "text": [
      "100%|██████████| 694/694 [00:03<00:00, 180.50it/s]\n"
     ]
    },
    {
     "data": {
      "text/html": [
       "\n",
       "        <iframe\n",
       "            width=\"100%\"\n",
       "            height=\"500\"\n",
       "            src=\"./Photoswitches.html\"\n",
       "            frameborder=\"0\"\n",
       "            allowfullscreen\n",
       "            \n",
       "        ></iframe>\n",
       "        "
      ],
      "text/plain": [
       "<IPython.lib.display.IFrame at 0x2dfa3ae20>"
      ]
     },
     "metadata": {},
     "output_type": "display_data"
    },
    {
     "data": {
      "text/html": [
       "<a href='./Photoswitches.html' target='_blank'>./Photoswitches.html</a><br>"
      ],
      "text/plain": [
       "/Users/kevinmaikjablonka/git/kjappelbaum/gptchem/experiments/05_inverse/photoswitch/random/Photoswitches.html"
      ]
     },
     "metadata": {},
     "output_type": "display_data"
    }
   ],
   "source": [
    "make_figure(1.5)"
   ]
  },
  {
   "cell_type": "code",
   "execution_count": null,
   "metadata": {},
   "outputs": [],
   "source": []
  },
  {
   "cell_type": "code",
   "execution_count": null,
   "metadata": {},
   "outputs": [],
   "source": []
  },
  {
   "cell_type": "code",
   "execution_count": 108,
   "metadata": {},
   "outputs": [],
   "source": [
    "color1 = '#dcffdc'\n",
    "color2 = '#dcdcdc'"
   ]
  },
  {
   "cell_type": "code",
   "execution_count": 109,
   "metadata": {},
   "outputs": [],
   "source": [
    "unique_at_075 = generated_smiles_w_azos_at_temp[1.5] - set(get_photoswitch_data()[\"SMILES\"].values)\n",
    "unique_train =set(get_photoswitch_data()[\"SMILES\"].values) -generated_smiles_w_azos_at_temp[1.5]"
   ]
  },
  {
   "cell_type": "code",
   "execution_count": 110,
   "metadata": {},
   "outputs": [
    {
     "name": "stdout",
     "output_type": "stream",
     "text": [
      "CC1=CC=C(/N=N/C2=CC=CS2)C=C1\t#dcdcdc\n",
      "O=C(O)C(C=C1)=CC=C1N=NC2=NNC=C2\t#dcdcdc\n",
      "CC1=NOC(C)=C1/N=N/C2=CC(O)=CC=C2\t#dcdcdc\n",
      "CN1C=C(C(C)=NN1)N=NC2=CC=CC=C2\t#dcffdc\n",
      "O=[N+]([O-])C1=CC=CC(/N=N/C2=CC([N+]([O-])=O)=CC=C2)=C1\t#dcdcdc\n",
      "[H]C(C=C1)=CC=C1N=NC2=NNC=C2\t#dcdcdc\n",
      "Sc1[nH]nc(n1)N=Nc1c(c2ccccc2)n(c2c1cccc2)C\t#dcdcdc\n",
      "FC1=CC=CC(F)=C1/N=N/C2=C(F)C=CC=C2F\t#dcdcdc\n",
      "C1(/N=N/C2=CC=NN2)=CC=NN1\t#dcdcdc\n",
      "[H]C7=CC([N+]([O-])=O)=CC(C#N)=C7/N=N/C8=CC(OC)=C(C=C8)N(CC)CC\t#dcdcdc\n",
      "CC1=NOC(C)=C1/N=N/C2=CC=C(C)C=C2\t#dcdcdc\n",
      "[N-]=[N+]=NCC(C=C1)=CC2=C1CCC3=C(/N=N\\2)C=C(CN=[N+]=[N-])C=C3\t#dcdcdc\n",
      "OC%38=C%39N=CC=CC%39=C(/N=N/C%40=NC%41=CC(C)=C(C)C=C%41S%40)C=C%38\t#dcdcdc\n",
      "CN(C)C(C=C1)=CC=C1/N=N/C2=CC=C(N(C)C)C=C2\t#dcdcdc\n",
      "CC1=NOC(C)=CC(N)=C1/N=N/C2=CC=CC=C2\t#dcffdc\n",
      "CC1=C(/N=N/C2=CC=CS2)C=C1\t#dcffdc\n",
      "CC1=C(C(C)=NO1)/N=N/C2=CC(OC)=C=C2\t#dcffdc\n",
      "CC1=NOC(C)=C1/N=N/C2=CC(C)=CC=CC2\t#dcffdc\n",
      "OC%11=C%12N=CC=CC%12=C(/N=N/C%13=NC(CC(OCC)=O)=CS%13)C=C%11\t#dcdcdc\n",
      "CC(C=C(N(CCC#N)CCO)C=C1)=C1/N=N/C2=CC(C(F)(F)F)=CC=C2\t#dcdcdc\n",
      "CC%13=C(N%14CCCC%14)C=CC(/N=N/C%15=CC=C(N%16CCCC%16)C(C)=C%15)=C%13\t#dcdcdc\n",
      "NC1=CC(/N=N/C2=CC=CC=C2)=CC=C1\t#dcdcdc\n",
      "N#CCCN(CCC#N)C(C=C%23)=CC=C%23/N=N/C%24=CC=C([N+]([O-])=O)C=C%24\t#dcdcdc\n",
      "OC(C=C1)=CC=C1/N=N/C2=CC(C)=CC(C)=C2\t#dcdcdc\n",
      "CC(C(C=C1)=CC=C1N=NC2=NNC=C2)=O\t#dcdcdc\n",
      "Cn1c(C)c(c2c1cccc2)N=Nc1nncs1\t#dcdcdc\n",
      "C[N]1N=CC=C1N=NC2=CC=CC=C2\t#dcdcdc\n",
      "CC1=CC=CC=C1/N=N/C2=CC=CC=C2C\t#dcdcdc\n",
      "CC1=C(/N=N/C2=NN=C(CC)S2)C3=CC=CC=C3N1\t#dcdcdc\n",
      "OC%26=C%27N=CC=CC%27=C(/N=N/C%28=NC%29=CC=CC=C%29S%28)C=C%26\t#dcdcdc\n",
      "OC%29=C(N=CC=C%30)C%30=C(/N=N/C%31=CC=C(C#N)C=C%31)C=C%29\t#dcdcdc\n",
      "[H]C%13=C(C=C(OC)C(/N=N/C%14=C(C#N)C=C([N+]([O-])=O)C=C%14C#N)=C%13)N(CC)CC\t#dcdcdc\n",
      "O=[N+]([O-])C1=CC=C(/N=N/C2=CC=CC=C2)C=C1\t#dcdcdc\n",
      "CN(C)C1=CC=C(/N=N/C2=CC=C(C(F)(F)F)C=C2)C=C1\t#dcdcdc\n",
      "[H]C1=CC([N+]([O-])=O)=CC([H])=C1/N=N/C2=CC(OC)=C(C=C2)N(CC)CC\t#dcdcdc\n",
      "Oc1c(/C=N/c2cc(C(OCC)=O)ccn2)cc(/N=N/c3ccc([N+]([O-])=O)cc3)cc1\t#dcdcdc\n",
      "CCc1nnc(s1)N=Nc1c(c2ccccc2)n(c2c1cccc2)C\t#dcdcdc\n",
      "FC1=CC=CC(/N=N/C2=CC=CS2)C=C1\t#dcffdc\n",
      "CN1C2=CC=CC=C2N=C1/N=N/C3=NC4=CC=CC=C4N3C\t#dcdcdc\n",
      "C1(/N=N/C2=CC=CC=C2)=CC=CN=C1\t#dcdcdc\n",
      "OCC%25=CC(N=NC%26=NC%27=CC=C([N+]([O-])=O)C=C%27S%26)=CC=C%25\t#dcdcdc\n",
      "CCc1nnc(s1)N=Nc1c([nH]c2c1cccc2)c1ccccc1\t#dcdcdc\n",
      "CC1=C(/N=N/C2=CC=C(N(C)C)C=C2C)C=CC(Cl)=C1\t#dcdcdc\n",
      "[H]C%19=CC=C(N=C(N=NC%20=CC=C(OC)C=C%20)S%21)C%21=C%19\t#dcdcdc\n",
      "COC1=CC=C(/N=N/C2=CC=CS2)C=C1\t#dcdcdc\n",
      "[H]C1=C(C=C([H])C(/N=N/C2=C(C#N)C=C([N+]([O-])=O)C=C2C#N)=C1)N(CC)CC\t#dcdcdc\n",
      "NCC1=CC(/N=N\\2)=C(CCC3=C2C=C(CN)C=C3)C=C1\t#dcdcdc\n",
      "OCC(C=C1)=CC2=C1CCC3=C(/N=N\\2)C=C(CO)C=C3\t#dcdcdc\n",
      "CSc1nnc(s1)N=Nc1c2ccccc2n(c1C)C\t#dcdcdc\n",
      "CC1=C(C(C)=NN1)/N=N/C2=CC(N)=CC=C2\t#dcffdc\n",
      "CC1=NOC(C)=C1/N=N/C2=CCC(NC(C)=O)=CC=C2\t#dcffdc\n",
      "OC1=C(/N=N/C2=CC(C)=CC(C)=C2)C=CC=C1\t#dcdcdc\n",
      "CC1=C(/N=N/C2=CC(F)=CC(F)=C2)C(C)=NO1\t#dcdcdc\n",
      "FC1=CC(C(OCC)=O)=CC(F)=C1/N=N/C2=CC=CC=C2\t#dcdcdc\n",
      "ClC1=CC=CC=C1/N=N/C2=CC=C(NCCC#N)C=C2\t#dcdcdc\n",
      "NCCC1=CC(/N=N\\2)=C(CCC3=C2C=C(CCN)C=C3)C=C1\t#dcdcdc\n",
      "OCCC1=CC=C(/N=N/C2=CC=C(NCCC#N)C=C2)C=C1\t#dcdcdc\n",
      "[H]N(C)C(C=C1)=CC=C1/N=N/C2=CC=C([N+]([O-])=O)C=C2\t#dcdcdc\n",
      "O=C(OC)C1=CC=C(/N=N/C2=CC=CC=C2)C=C1\t#dcdcdc\n",
      "CC1=CC(N(CCC#N)CCC#N)=CC=C1/N=N/C2=CC=CC=C2\t#dcdcdc\n",
      "OC1=C2N=CC=CC2=C(/N=N/C3=NC=CS3)C=C1\t#dcdcdc\n",
      "OC4=C(N=CC=C5)C5=C(/N=N/C6=CC=C(C)C=C6)C=C4\t#dcdcdc\n",
      "FC1=CC=C(/N=N/C2=CC=C(F)C=C2)C=C1\t#dcdcdc\n",
      "FC1=CC(S)=C1/N=N/C2=CC=CC=C2\t#dcffdc\n",
      "[H]C%10=CC=C(N=C(N=NC%11=C(NC(C)=O)C=CC=C%11)S%12)C%12=C%10\t#dcdcdc\n",
      "CC1=NOC(C)=C1/N=N/C2=CC=C(NN)C=C2\t#dcffdc\n",
      "CC1=NOC(C)=C1/N=N/C2=CC(IO)=CC=C2\t#dcffdc\n",
      "COC1=CC=C(/N=N/S=S)C=C1\t#dcffdc\n",
      "FC(F)(F)C1=CC=C(/N=N/C2=CC=CC=C2)C=C1\t#dcdcdc\n",
      "CN(C)C1=CC=C(/N=N/C2=CC=C(C(OC)=O)C=C2)C=C1\t#dcdcdc\n",
      "CC1=C(C(C)=NN1)/N=N/C2=CC=C(B)C=C2\t#dcffdc\n",
      "FC1=CC=CC=C1/N=N\t#dcffdc\n",
      "OCCNC(C=C1)=CC=C1/N=N/C2=CC=C([N+]([O-])=O)C=C2\t#dcdcdc\n",
      "[H]N(CCC#N)C(C=C7)=CC=C7/N=N/C8=CC=C([N+]([O-])=O)C=C8\t#dcdcdc\n",
      "C[N]1N=C(C)C(=C1C)N=NC2=CC=CC=C2\t#dcdcdc\n",
      "[H]C4=CC=C(N=C(N=NC5=CC=CC=C5Cl)S6)C6=C4\t#dcdcdc\n",
      "OC%42=C%43N=CC=CC%43=C(/N=N/C%44=NC%45=CC=CC=C%45N%44)C=C%42\t#dcdcdc\n",
      "C[N]1C=NC(=N1)N=NC2=CC=CC=C2\t#dcdcdc\n",
      "FC1=CC(C(OCC)=O)=CC(C)C=C1/N=N/C2=C(Cl)C=CC=C2\t#dcffdc\n",
      "CC%15=CC(N(CCO)CCC#N)=CC=C%15/N=N/C%16=CC=C([N+]([O-])=O)C=C%16\t#dcdcdc\n",
      "CC1=C(/N=N/C2=CC=CC(C)=C2C)C=CC=C1C\t#dcdcdc\n",
      "CC1=NOC(C)=C1/N=N/C=O\t#dcffdc\n",
      "OC%26=C(N=CC=C%27)C%27=C(/N=N/C%28=CC=C(C(C)=O)C=C%28)C=C%26\t#dcdcdc\n",
      "O=[N+]([O-])C(C=C1)=CC=C1/N=N/C2=CC=C(NC3=CC=CC=C3)C=C2\t#dcdcdc\n",
      "OC1=C(/N=N/C2=CC=C(NC(C)=O)C=C2)C=C(C)C=C1\t#dcdcdc\n",
      "N#CC1=CC=C(/N=N/C2=CC=CS2)C=C1\t#dcdcdc\n",
      "C1(NC2=CC=CC=C2)=CC=C(/N=N/C3=CC=CC=C3)C=C1\t#dcdcdc\n",
      "OC%20=C(N=CC=C%21)C%21=C(/N=N/C%22=CC=C(C(O)=O)C=C%22)C=C%20\t#dcdcdc\n",
      "Cc1[nH]c2c(c1N=Nc1n[nH]c(n1)S)cccc2\t#dcdcdc\n",
      "O=[N+]([O-])C1=CC=C(/N=N/C2=CC=C(C=C2)[N+]([O-])=O)C=C1\t#dcdcdc\n",
      "OC%14=C%15N=CC=CC%15=C(/N=N/C%16=NC(C%17=CC=CC=C%17)=CS%16)C=C%14\t#dcdcdc\n",
      "[H]C1=CC([N+]([O-])=O)=CC([H])=C1/N=N/C2=CC([H])=C(C=C2OC)N(CC)CC\t#dcdcdc\n",
      "CC1=C(C(C)=NN1)/N=N/C2=CC(=C(F)F)C=C2\t#dcffdc\n",
      "Sc1[nH]nc(n1)N=Nc1c([nH]c2c1cccc2)c1ccccc1\t#dcdcdc\n",
      "CC(C=C(N(CCC#N)CCO)C=C1)=C1/N=N/C2=CC=CC(Br)=C2\t#dcdcdc\n",
      "[H]C%13=CC=C(N=C(N=NC%14=CC=C(NC(C)=O)C=C%14)S%15)C%15=C%13\t#dcdcdc\n",
      "ClC1=C(/N=N/C2=C(Cl)C=CC=C2)C=CC=C1\t#dcdcdc\n",
      "CC1=NOC(C)=C1/N=N/C2=CC(NC(C)=O)=CC=C2\t#dcdcdc\n",
      "NC1=CC=C(/N=N/C2=CC=C(N(CC)CC)C=C2)C=C1\t#dcdcdc\n",
      "CN(C)C1=C(/N=N/C2=CC=CC=C2)C=NC=C1\t#dcdcdc\n",
      "C12=CC=CC=C1CCC3=CC=CC=C3/N=N\\2\t#dcdcdc\n",
      "OC1=C(C(O)=O)C=C(/N=N/C2=CC=C([N+]([O-])=O)C=C2)C=C1\t#dcdcdc\n",
      "CC1=C(C(C)=NN1)/N=N/C2=CC(C(O)=O)=CC=C2\t#dcdcdc\n",
      "[H]C5=CC([N+]([O-])=O)=CC([N+]([O-])=O)=C5/N=N/C6=CC(OC)=C(C=C6)N(CC)CC\t#dcdcdc\n",
      "OC1=CC=C(/N=N/C2=CC=CC=C2)C=C1\t#dcdcdc\n",
      "CN(N=C1C)C(C)=C1/N=N/C2=CC(OC)=CC=C2\t#dcffdc\n",
      "CC1=C(/N=N/C2=CC=CC=C2C#N)C(C)=NO1\t#dcdcdc\n",
      "CN(N=C1C)CC(C)=C1/N=N/C2=CC=CC=C2\t#dcffdc\n",
      "CC(C=C(N(CCC#N)CCO)C=C1)=C1/N=N/C2=CC=CC=C2\t#dcdcdc\n",
      "FC(F)(F)C1=CC=CC=C1/N=N/C2=CC=CC=C2\t#dcdcdc\n",
      "CC1=NOC=C1/N=N/C2=CC=C(F)C=C2\t#dcffdc\n",
      "CC1=NOC(C)=C1/N=N/C2=CC=C(I)C=C2\t#dcdcdc\n",
      "CN(C)C1=CC=C(/N=N/C2=CC=C(N(CC)CC)C=C2)C=C1\t#dcdcdc\n",
      "CC1C=C(/N=N/C2=CC=CC=C2)C=C1\t#dcffdc\n",
      "NC1=CC=C(/N=N/C2=CC=C(N(C)C)C=C2)C=C1\t#dcdcdc\n",
      "C[N]1N=CC(=C1N=NC2=CC=CC=C2)C\t#dcdcdc\n",
      "CN(CCC#N)C(C=C%17)=CC=C%17/N=N/C%18=CC=CC=C%18\t#dcdcdc\n",
      "NC1=CC(CCC2=C3C=CC(N)=C2)=C(/N=N\\3)C=C1\t#dcdcdc\n",
      "CC(NC(C=C1)=CC(OC)=C1/N=N/C2=C(OC)C=C(NC(C)=O)C=C2)=O\t#dcdcdc\n",
      "CC1=C(C(C)=NN1)/N=N/C2=CC=C(NC(C)=O)C=C2\t#dcdcdc\n",
      "BrC(C=C1)=CC=C1N=NC2=NNC=C2\t#dcdcdc\n",
      "FC(F)(F)C1=C(/N=N/C2=C(C(F)(F)F)C=CC=C2)C=CC=C1\t#dcdcdc\n",
      "CN(N=C1C)C(C)=C1/N=N/C2=C(Cl)C=CC=C2Cl\t#dcdcdc\n",
      "CSc1nnc(s1)N=Nc1c([nH]c2c1cccc2)c1ccccc1\t#dcdcdc\n",
      "CC(C=CC=C1C)=C1/N=N/C2=CC=CC=C2\t#dcdcdc\n",
      "CC1=C(/N=N/C2=C(C)C=C(C=C2)N(C)C)C=CC=C1\t#dcdcdc\n",
      "CCN(CCC#N)C(C=C%19)=CC=C%19/N=N/C%20=CC=C([N+]([O-])=O)C=C%20\t#dcdcdc\n",
      "COC1=CC=CC=C1N=NC2=NC3=CC=C([N+]([O-])=O)C=C3S2\t#dcdcdc\n",
      "BrC9=CC([N+]([O-])=O)=CC([N+]([O-])=O)=C9/N=N/C%10=CC([H])=C(C=C%10OC)N(CC)CC\t#dcdcdc\n",
      "ClC(C=C%13)=CC=C%13N=NC%14=NC%15=CC=C([N+]([O-])=O)C=C%15S%14\t#dcdcdc\n",
      "O=C1C=CC(N1C2=CC=C(/N=N/C3=CC=CC=C3)C=C2)=O\t#dcdcdc\n",
      "O=[N+]([O-])C1=CC=C(/N=N/C2=CC=C(NCCC#N)C=C2)C=C1\t#dcdcdc\n",
      "FC(C=C%16)=CC=C%16N=NC%17=NC%18=CC=C([N+]([O-])=O)C=C%18S%17\t#dcdcdc\n",
      "CCN(CC)C(C=C%27)=CC=C%27/N=N/C%28=CC=C(N%29CCOCC%29)C(C)=C%28\t#dcdcdc\n",
      "OC%32=C(N=CC=C%33)C%33=C(/N=N/C%34=CC=C([N+]([O-])=O)C=C%34)C=C%32\t#dcdcdc\n",
      "CC(S1)=CC=C1/N=N/C2=CC=C(C(F)(F)F)C=C2\t#dcdcdc\n",
      "CC1=NOC(C)=C1/N=N/C2=CC(F)C=CC=C2\t#dcffdc\n",
      "COC(S1)=CC=C1/N=N/C2=CC=CC=C2\t#dcffdc\n",
      "NC1=C(/N=N/C2=CC=CC=C2)C=CC(N)=C1\t#dcdcdc\n",
      "CC1=CC=C(/N=N/C2=CC=C(C)C=C2)C=C1\t#dcdcdc\n",
      "CC(C=C(N(CCC#N)CCO)C=C1)=C1/N=N/C2=CC=C(C)C=C2\t#dcdcdc\n",
      "CC1=C(/N=N/C2=C(Cl)C=CC=C2Cl)C(C)=NO1\t#dcdcdc\n",
      "CCN(CC)C(C=C1)=CC=C1/N=N/C2=C(C#N)C=C(C#N)C=C2\t#dcdcdc\n",
      "FC1=CC(F)=CC(F)=C1/N=N/C(C(F)=C2)=C(F)C=C2F\t#dcdcdc\n",
      "CC1=C(/N=N/C2=C3C=CC=CC3=CC=C2)C(C)=NO1\t#dcdcdc\n",
      "CCN(CC)C1=CC=C(/N=N/C2=CC=C(N(CC)CC)C=C2)C=C1\t#dcdcdc\n",
      "[H]N(CCC#N)C(C=C7)=CC=C7/N=N/C8=CC=CC=C8\t#dcdcdc\n",
      "CC1=CC=C=C1/N=N/C2=CC=CC=C2\t#dcffdc\n",
      "OC(C=CC(C)=C1)=C1/N=N/C2=CC=CC=C2\t#dcdcdc\n",
      "CCN(CC)C(C=C1)=CC=C1/N=N/C2=CC(C#N)=CC(C#N)=C2\t#dcdcdc\n"
     ]
    }
   ],
   "source": [
    "\n",
    "import random\n",
    "\n",
    "lines = []\n",
    "\n",
    "for i, v in enumerate(list(unique_at_075)):\n",
    "    v = v.split()[0]\n",
    "    lines.append(f\"{v}\\t{color1}\")\n",
    "\n",
    "for i, v in enumerate(list(unique_train)):\n",
    "    v = v.split()[0]\n",
    "    lines.append(f\"{v}\\t{color2}\")\n",
    "\n",
    "for line in random.sample(lines, 150):\n",
    "    print(line)"
   ]
  },
  {
   "cell_type": "code",
   "execution_count": null,
   "metadata": {},
   "outputs": [],
   "source": []
  },
  {
   "cell_type": "code",
   "execution_count": null,
   "metadata": {},
   "outputs": [],
   "source": []
  },
  {
   "cell_type": "code",
   "execution_count": null,
   "metadata": {},
   "outputs": [],
   "source": []
  },
  {
   "cell_type": "code",
   "execution_count": null,
   "metadata": {},
   "outputs": [],
   "source": []
  },
  {
   "cell_type": "code",
   "execution_count": null,
   "metadata": {},
   "outputs": [],
   "source": []
  },
  {
   "cell_type": "code",
   "execution_count": null,
   "metadata": {},
   "outputs": [],
   "source": []
  },
  {
   "cell_type": "code",
   "execution_count": null,
   "metadata": {},
   "outputs": [],
   "source": []
  },
  {
   "cell_type": "code",
   "execution_count": null,
   "metadata": {},
   "outputs": [],
   "source": []
  },
  {
   "cell_type": "code",
   "execution_count": null,
   "metadata": {},
   "outputs": [],
   "source": []
  },
  {
   "cell_type": "code",
   "execution_count": null,
   "metadata": {},
   "outputs": [],
   "source": []
  }
 ],
 "metadata": {
  "kernelspec": {
   "display_name": "gptchem",
   "language": "python",
   "name": "python3"
  },
  "language_info": {
   "codemirror_mode": {
    "name": "ipython",
    "version": 3
   },
   "file_extension": ".py",
   "mimetype": "text/x-python",
   "name": "python",
   "nbconvert_exporter": "python",
   "pygments_lexer": "ipython3",
   "version": "3.9.15"
  },
  "orig_nbformat": 4,
  "vscode": {
   "interpreter": {
    "hash": "2f3b9074e5baa1438c27e2ea813f7f53b7516c83bd70840b6d64eae6820ee5df"
   }
  }
 },
 "nbformat": 4,
 "nbformat_minor": 2
}
