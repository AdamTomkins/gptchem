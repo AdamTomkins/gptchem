{
 "cells": [
  {
   "cell_type": "code",
   "execution_count": 1,
   "metadata": {},
   "outputs": [],
   "source": [
    "%load_ext autoreload\n",
    "%autoreload 2"
   ]
  },
  {
   "cell_type": "code",
   "execution_count": 2,
   "metadata": {},
   "outputs": [],
   "source": [
    "from glob import glob\n",
    "\n",
    "import matplotlib as mpl\n",
    "import matplotlib.pyplot as plt\n",
    "import pandas as pd\n",
    "from fastcore.xtras import load_pickle\n",
    "from guacamol.utils.chemistry import is_valid\n",
    "from fastcore.foundation import L \n",
    "from gptchem.data import get_photoswitch_data\n",
    "from gptchem.evaluator import evaluate_generated_smiles, evaluate_photoswitch_smiles_pred, is_in_pubchem, predict_photoswitch, get_regression_metrics\n",
    "from gptchem.settings import ONE_COL_GOLDEN_RATIO_HEIGHT_INCH, ONE_COL_WIDTH_INCH\n",
    "from rdkit.Contrib.SA_Score.sascorer import calculateScore as calculate_sascore\n",
    "from rdkit import Chem \n",
    "\n",
    "from scipy.stats import sem\n",
    "\n",
    "import matplotx\n",
    "import numpy as np \n",
    "\n",
    "from gptchem.plotsettings import *\n",
    "\n",
    "%matplotlib inline"
   ]
  },
  {
   "cell_type": "code",
   "execution_count": 3,
   "metadata": {},
   "outputs": [],
   "source": [
    "def get_sa_scores(smiles):\n",
    "    sa_scores = []\n",
    "    for smiles in smiles:\n",
    "        try:\n",
    "            mol = Chem.MolFromSmiles(smiles)\n",
    "            sa_scores.append(calculate_sascore(mol))\n",
    "        except: \n",
    "            pass\n",
    "    return sa_scores"
   ]
  },
  {
   "cell_type": "code",
   "execution_count": 4,
   "metadata": {},
   "outputs": [],
   "source": [
    "from rdkit import Chem"
   ]
  },
  {
   "cell_type": "code",
   "execution_count": 5,
   "metadata": {},
   "outputs": [],
   "source": [
    "all_res = glob(\"out/**/*.pkl\")"
   ]
  },
  {
   "cell_type": "code",
   "execution_count": 6,
   "metadata": {},
   "outputs": [],
   "source": [
    "res = load_pickle(all_res[0])"
   ]
  },
  {
   "cell_type": "code",
   "execution_count": 7,
   "metadata": {},
   "outputs": [],
   "source": [
    "from collections import defaultdict"
   ]
  },
  {
   "cell_type": "code",
   "execution_count": 8,
   "metadata": {},
   "outputs": [],
   "source": [
    "def contains_azo(smiles):\n",
    "    mol = Chem.MolFromSmiles(smiles)\n",
    "    # check if there is a N#N bond\n",
    "    smarts = \"[NX2]=N\"\n",
    "    return mol.HasSubstructMatch(Chem.MolFromSmarts(smarts))"
   ]
  },
  {
   "cell_type": "code",
   "execution_count": 9,
   "metadata": {},
   "outputs": [
    {
     "name": "stdout",
     "output_type": "stream",
     "text": [
      "[]\n",
      "'PUGREST.BadRequest: error: '\n",
      "'PUGREST.BadRequest: error: '\n",
      "[2.7963638599637175, 4.299873485100422, 2.7126161676560248, 4.235192233679319]\n",
      "'expected_e_pi_pi_star'\n",
      "[2.7028253984252544, 2.572514514152754, 2.942225398425254, 4.765615030532278, 3.9126435049174795]\n",
      "'expected_e_pi_pi_star'\n",
      "'PUGREST.BadRequest: error: '\n",
      "'PUGREST.BadRequest: error: '\n",
      "[]\n",
      "'PUGREST.BadRequest: error: '\n",
      "'PUGREST.BadRequest: error: '\n",
      "[2.645390598096361, 2.7173207830406394]\n",
      "'expected_e_pi_pi_star'\n",
      "[]\n",
      "'PUGREST.BadRequest: error: '\n",
      "[]\n",
      "'PUGREST.BadRequest: error: '\n",
      "[]\n",
      "'PUGREST.BadRequest: error: '\n",
      "[]\n",
      "[]\n"
     ]
    }
   ],
   "source": [
    "compiled_res = []\n",
    "generated_smiles = set()\n",
    "generated_smiles_w_azos = set()\n",
    "\n",
    "generated_smiles_w_azos_at_temp = defaultdict(set)\n",
    "generated_smiles_at_temp = defaultdict(set)\n",
    "\n",
    "for res_path in all_res:\n",
    "    res = load_pickle(res_path)\n",
    "    for temp_res in res[\"res_at_temp\"]:\n",
    "        try:\n",
    "            generated_smiles_ = [s.split()[0] for s in temp_res[\"generated_smiles\"]]\n",
    "            in_train_smiles = []\n",
    "            novel_indices = []\n",
    "            for i, s in enumerate(temp_res[\"valid_smiles\"]):\n",
    "                s = s.split()[0]\n",
    "                if s in temp_res[\"train_smiles\"].values:\n",
    "                    in_train_smiles.append(s)\n",
    "                else:\n",
    "                    novel_indices.append(i)\n",
    "            metrics = {\n",
    "                \"noise_level\": res[\"noise_level\"],\n",
    "                \"temp\": temp_res[\"temperature\"],\n",
    "                \"frac_valid\": temp_res[\"frac_valid\"],\n",
    "                \"frac_unique\": temp_res[\"frac_unique\"],\n",
    "                 \"frac_smiles_in_train\": len(in_train_smiles) / len(temp_res[\"valid_smiles\"]),\n",
    "                \"frac_smiles_in_pubchem\": sum([is_in_pubchem(s.split()[0]) for s in temp_res[\"valid_smiles\"]]) / len(temp_res[\"valid_smiles\"]), \n",
    "                \"kld\": temp_res[\"kld\"],\n",
    "                \"frechet_d\": temp_res[\"frechet_d\"],\n",
    "                \"frechet_score\": temp_res[\"frechet_score\"],\n",
    "                \"frac_contains_azo\": sum([contains_azo(s) for s in temp_res[\"valid_smiles\"]])\n",
    "                / len(temp_res[\"valid_smiles\"]),\n",
    "            }\n",
    "            valid_smiles = [s for s in generated_smiles_ if is_valid(s)]\n",
    "            generated_smiles.update(valid_smiles)\n",
    "            v_w_azo = [s for s in generated_smiles_ if is_valid(s) and contains_azo(s)]\n",
    "            if temp_res['temperature']  == 2.0:\n",
    "                print(get_sa_scores(v_w_azo) )\n",
    "            metrics['sa_score'] = np.nanmean([score for score in get_sa_scores(v_w_azo) if isinstance(score, float)])\n",
    "         \n",
    "            generated_smiles_w_azos.update(v_w_azo)\n",
    "            generated_smiles_w_azos_at_temp[temp_res[\"temperature\"]].update(v_w_azo)\n",
    "\n",
    "            valid = [s for s in generated_smiles_ if is_valid(s)]\n",
    "            generated_smiles_at_temp[temp_res[\"temperature\"]].update(valid)\n",
    "\n",
    "            pred_e, pred_z = [], []\n",
    "            for s in valid:\n",
    "                e, z = predict_photoswitch(s)\n",
    "                pred_e.append(e[0][0])\n",
    "                pred_z.append(z[0][0])\n",
    "\n",
    "            pred_e = L(pred_e)\n",
    "            pred_z = L(pred_z)\n",
    "\n",
    "            expected_e = L(temp_res[\"constrain_satisfaction\"][\"expected_e_pi_pi_star\"])\n",
    "            expected_z = L(temp_res[\"constrain_satisfaction\"][\"expected_z_pi_pi_star\"])\n",
    "\n",
    "            v = [s for s in temp_res[\"generated_smiles\"] if is_valid(s)]\n",
    "            generated_smiles_at_temp[temp_res[\"temperature\"]].update(v)\n",
    "\n",
    "            for me, v in get_regression_metrics(expected_e, pred_e).items():\n",
    "                metrics[\"e_pi_pi_star_\" + me] = v\n",
    "\n",
    "            for me, v in get_regression_metrics(expected_z, pred_z).items():\n",
    "                metrics[\"z_pi_pi_star_\" + me] = v\n",
    "\n",
    "            for me, v in get_regression_metrics(\n",
    "                expected_e[novel_indices], pred_e[novel_indices]\n",
    "            ).items():\n",
    "                metrics[\"e_pi_pi_star_novel_\" + me] = v\n",
    "\n",
    "            for me, v in get_regression_metrics(\n",
    "                expected_z[novel_indices], pred_z[novel_indices]\n",
    "            ).items():\n",
    "                metrics[\"z_pi_pi_star_novel_\" + me] = v\n",
    "\n",
    "            \n",
    "            compiled_res.append(metrics)\n",
    "\n",
    "        except Exception as e:\n",
    "            print(e)\n",
    "            pass"
   ]
  },
  {
   "cell_type": "code",
   "execution_count": 10,
   "metadata": {},
   "outputs": [
    {
     "data": {
      "text/plain": [
       "[2.7963638599637175, 4.299873485100422, 2.7126161676560248, 4.235192233679319]"
      ]
     },
     "execution_count": 10,
     "metadata": {},
     "output_type": "execute_result"
    }
   ],
   "source": [
    "get_sa_scores(['CC1=NOC(C)=C1/N=N/C2=CC(Br)=CC=C2', 'CC1=C(CC)C=C1/N=N/C2=C(Br)C=C2', 'CC1=C(C(C)=NN1)/N=N/C2=C(Cl)C=CC=C2', 'CC1=C(C(C)=NN1)/N=N/C2=CC(C)C=C2'])"
   ]
  },
  {
   "cell_type": "code",
   "execution_count": 11,
   "metadata": {},
   "outputs": [
    {
     "data": {
      "text/plain": [
       "True"
      ]
     },
     "execution_count": 11,
     "metadata": {},
     "output_type": "execute_result"
    }
   ],
   "source": [
    "contains_azo(list(generated_smiles)[5])"
   ]
  },
  {
   "cell_type": "code",
   "execution_count": 12,
   "metadata": {},
   "outputs": [
    {
     "data": {
      "image/png": "[encoded data removed]",
      "text/plain": [
       "<rdkit.Chem.rdchem.Mol at 0x2b13d14a0>"
      ]
     },
     "execution_count": 12,
     "metadata": {},
     "output_type": "execute_result"
    }
   ],
   "source": [
    "Chem.MolFromSmiles(list(generated_smiles)[0])"
   ]
  },
  {
   "cell_type": "code",
   "execution_count": 13,
   "metadata": {},
   "outputs": [],
   "source": [
    "df = pd.DataFrame(compiled_res)"
   ]
  },
  {
   "cell_type": "code",
   "execution_count": 18,
   "metadata": {},
   "outputs": [
    {
     "data": {
      "text/plain": [
       "10.490725869277744"
      ]
     },
     "execution_count": 18,
     "metadata": {},
     "output_type": "execute_result"
    }
   ],
   "source": [
    "df['e_pi_pi_star_novel_mean_absolute_percentage_error'].mean() * 100"
   ]
  },
  {
   "cell_type": "code",
   "execution_count": 19,
   "metadata": {},
   "outputs": [
    {
     "data": {
      "text/plain": [
       "6.756264193472616"
      ]
     },
     "execution_count": 19,
     "metadata": {},
     "output_type": "execute_result"
    }
   ],
   "source": [
    "df['z_pi_pi_star_novel_mean_absolute_percentage_error'].mean() * 100"
   ]
  },
  {
   "cell_type": "code",
   "execution_count": null,
   "metadata": {},
   "outputs": [],
   "source": [
    "grouped = df.groupby([\"temp\"]).agg([\"mean\", \"std\", sem, 'count'])"
   ]
  },
  {
   "cell_type": "code",
   "execution_count": null,
   "metadata": {},
   "outputs": [],
   "source": [
    "list(grouped.columns)"
   ]
  },
  {
   "cell_type": "code",
   "execution_count": null,
   "metadata": {},
   "outputs": [
    {
     "data": {
      "text/html": [
       "<div>\n",
       "<style scoped>\n",
       "    .dataframe tbody tr th:only-of-type {\n",
       "        vertical-align: middle;\n",
       "    }\n",
       "\n",
       "    .dataframe tbody tr th {\n",
       "        vertical-align: top;\n",
       "    }\n",
       "\n",
       "    .dataframe thead th {\n",
       "        text-align: right;\n",
       "    }\n",
       "</style>\n",
       "<table border=\"1\" class=\"dataframe\">\n",
       "  <thead>\n",
       "    <tr style=\"text-align: right;\">\n",
       "      <th></th>\n",
       "      <th>mean</th>\n",
       "      <th>std</th>\n",
       "      <th>sem</th>\n",
       "      <th>count</th>\n",
       "    </tr>\n",
       "    <tr>\n",
       "      <th>temp</th>\n",
       "      <th></th>\n",
       "      <th></th>\n",
       "      <th></th>\n",
       "      <th></th>\n",
       "    </tr>\n",
       "  </thead>\n",
       "  <tbody>\n",
       "    <tr>\n",
       "      <th>0.00</th>\n",
       "      <td>2.636467</td>\n",
       "      <td>0.036916</td>\n",
       "      <td>0.015071</td>\n",
       "      <td>6</td>\n",
       "    </tr>\n",
       "    <tr>\n",
       "      <th>0.10</th>\n",
       "      <td>2.637233</td>\n",
       "      <td>0.034213</td>\n",
       "      <td>0.013967</td>\n",
       "      <td>6</td>\n",
       "    </tr>\n",
       "    <tr>\n",
       "      <th>0.20</th>\n",
       "      <td>2.638344</td>\n",
       "      <td>0.029065</td>\n",
       "      <td>0.011866</td>\n",
       "      <td>6</td>\n",
       "    </tr>\n",
       "    <tr>\n",
       "      <th>0.50</th>\n",
       "      <td>2.681208</td>\n",
       "      <td>0.021050</td>\n",
       "      <td>0.008593</td>\n",
       "      <td>6</td>\n",
       "    </tr>\n",
       "    <tr>\n",
       "      <th>0.75</th>\n",
       "      <td>2.695959</td>\n",
       "      <td>0.033106</td>\n",
       "      <td>0.013515</td>\n",
       "      <td>6</td>\n",
       "    </tr>\n",
       "    <tr>\n",
       "      <th>1.00</th>\n",
       "      <td>2.793606</td>\n",
       "      <td>0.037096</td>\n",
       "      <td>0.015144</td>\n",
       "      <td>6</td>\n",
       "    </tr>\n",
       "    <tr>\n",
       "      <th>1.25</th>\n",
       "      <td>2.936699</td>\n",
       "      <td>0.087463</td>\n",
       "      <td>0.035707</td>\n",
       "      <td>6</td>\n",
       "    </tr>\n",
       "    <tr>\n",
       "      <th>1.50</th>\n",
       "      <td>3.464627</td>\n",
       "      <td>0.312997</td>\n",
       "      <td>0.127780</td>\n",
       "      <td>6</td>\n",
       "    </tr>\n",
       "    <tr>\n",
       "      <th>2.00</th>\n",
       "      <td>NaN</td>\n",
       "      <td>NaN</td>\n",
       "      <td>NaN</td>\n",
       "      <td>0</td>\n",
       "    </tr>\n",
       "  </tbody>\n",
       "</table>\n",
       "</div>"
      ],
      "text/plain": [
       "          mean       std       sem  count\n",
       "temp                                     \n",
       "0.00  2.636467  0.036916  0.015071      6\n",
       "0.10  2.637233  0.034213  0.013967      6\n",
       "0.20  2.638344  0.029065  0.011866      6\n",
       "0.50  2.681208  0.021050  0.008593      6\n",
       "0.75  2.695959  0.033106  0.013515      6\n",
       "1.00  2.793606  0.037096  0.015144      6\n",
       "1.25  2.936699  0.087463  0.035707      6\n",
       "1.50  3.464627  0.312997  0.127780      6\n",
       "2.00       NaN       NaN       NaN      0"
      ]
     },
     "execution_count": 68,
     "metadata": {},
     "output_type": "execute_result"
    }
   ],
   "source": [
    "grouped['sa_score']"
   ]
  },
  {
   "cell_type": "code",
   "execution_count": null,
   "metadata": {},
   "outputs": [
    {
     "data": {
      "image/png": "[encoded data removed]",
      "text/plain": [
       "<Figure size 325x650 with 8 Axes>"
      ]
     },
     "metadata": {},
     "output_type": "display_data"
    }
   ],
   "source": [
    "fig, ax = plt.subplots(8, 1, sharex=\"col\", figsize=(ONE_COL_WIDTH_INCH, 2 * ONE_COL_WIDTH_INCH))\n",
    "ax[0].plot(grouped.index, grouped[\"frac_valid\"][\"mean\"], label=\"frac_valid\")\n",
    "ax[0].fill_between(\n",
    "    grouped.index,\n",
    "    grouped[\"frac_valid\"][\"mean\"] - grouped[\"frac_valid\"][\"sem\"],\n",
    "    grouped[\"frac_valid\"][\"mean\"] + grouped[\"frac_valid\"][\"sem\"],\n",
    "    alpha=0.2,\n",
    ")\n",
    "\n",
    "ylabel_top(\"frac. valid SMILES\", ax=ax[0], x_pad=0.05,  y_pad=-0.02)\n",
    "\n",
    "range_frame(\n",
    "    ax[0],\n",
    "    grouped.index,\n",
    "    np.nan_to_num(\n",
    "        np.stack(\n",
    "            [\n",
    "                grouped[\"frac_valid\"][\"mean\"] - grouped[\"frac_valid\"][\"sem\"],\n",
    "                grouped[\"frac_valid\"][\"mean\"] + grouped[\"frac_valid\"][\"sem\"],\n",
    "            ]\n",
    "        ).flatten(),\n",
    "        grouped[\"frac_valid\"][\"mean\"].mean(),\n",
    "    ),\n",
    ")\n",
    "\n",
    "ax[1].plot(grouped.index, grouped[\"frac_unique\"][\"mean\"], label=\"frac_unique\")\n",
    "ax[1].fill_between(\n",
    "    grouped.index,\n",
    "    grouped[\"frac_unique\"][\"mean\"] - grouped[\"frac_unique\"][\"sem\"],\n",
    "    grouped[\"frac_unique\"][\"mean\"] + grouped[\"frac_unique\"][\"sem\"],\n",
    "    alpha=0.2,\n",
    ")\n",
    "\n",
    "range_frame(\n",
    "    ax[1],\n",
    "    grouped.index,\n",
    "    np.nan_to_num(\n",
    "        np.stack(\n",
    "            [\n",
    "                grouped[\"frac_unique\"][\"mean\"] - grouped[\"frac_unique\"][\"sem\"],\n",
    "                grouped[\"frac_unique\"][\"mean\"] + grouped[\"frac_unique\"][\"sem\"],\n",
    "            ]\n",
    "        ).flatten(),\n",
    "        grouped[\"frac_unique\"][\"mean\"].mean(),\n",
    "    ),\n",
    ")\n",
    "\n",
    "ylabel_top(\"frac. unique SMILES\", ax=ax[1], x_pad=0.05)\n",
    "\n",
    "ax[2].plot(grouped.index, grouped[\"frac_smiles_in_train\"][\"mean\"], label=\"frac_smiles_in_train\")\n",
    "ax[2].fill_between(\n",
    "    grouped.index,\n",
    "    grouped[\"frac_smiles_in_train\"][\"mean\"] - grouped[\"frac_smiles_in_train\"][\"sem\"],\n",
    "    grouped[\"frac_smiles_in_train\"][\"mean\"] + grouped[\"frac_smiles_in_train\"][\"sem\"],\n",
    "    alpha=0.2,\n",
    ")\n",
    "\n",
    "ylabel_top(\"frac. SMILES in train\", ax=ax[2], x_pad=0.05)\n",
    "\n",
    "range_frame(\n",
    "    ax[2],\n",
    "    grouped.index,\n",
    "    np.nan_to_num(\n",
    "        np.stack(\n",
    "            [\n",
    "                grouped[\"frac_smiles_in_train\"][\"mean\"] - grouped[\"frac_smiles_in_train\"][\"sem\"],\n",
    "                grouped[\"frac_smiles_in_train\"][\"mean\"] + grouped[\"frac_smiles_in_train\"][\"sem\"],\n",
    "            ]\n",
    "        ).flatten(),\n",
    "        grouped[\"frac_smiles_in_train\"][\"mean\"].mean(),\n",
    "    ),\n",
    ")\n",
    "\n",
    "\n",
    "ax[3].plot(grouped.index, grouped[\"frac_smiles_in_pubchem\"][\"mean\"], label=\"frac_smiles_in_pubchem\")\n",
    "ax[3].fill_between(\n",
    "    grouped.index,\n",
    "    grouped[\"frac_smiles_in_pubchem\"][\"mean\"] - grouped[\"frac_smiles_in_pubchem\"][\"sem\"],\n",
    "    grouped[\"frac_smiles_in_pubchem\"][\"mean\"] + grouped[\"frac_smiles_in_pubchem\"][\"sem\"],\n",
    "    alpha=0.2,\n",
    ")\n",
    "\n",
    "ylabel_top(\"frac. SMILES in PubChem\", ax=ax[3], x_pad=0.05,  y_pad=0.02)\n",
    "\n",
    "\n",
    "range_frame(\n",
    "    ax[3],\n",
    "    grouped.index,\n",
    "    np.nan_to_num(\n",
    "        np.stack(\n",
    "            [\n",
    "                grouped[\"frac_smiles_in_pubchem\"][\"mean\"]\n",
    "                - grouped[\"frac_smiles_in_pubchem\"][\"sem\"],\n",
    "                grouped[\"frac_smiles_in_pubchem\"][\"mean\"]\n",
    "                + grouped[\"frac_smiles_in_pubchem\"][\"sem\"],\n",
    "            ]\n",
    "        ).flatten(),\n",
    "        grouped[\"frac_smiles_in_pubchem\"][\"mean\"].mean(),\n",
    "    ),\n",
    ")\n",
    "\n",
    "\n",
    "ax[4].plot(grouped.index, grouped[\"kld\"][\"mean\"], label=\"kld\")\n",
    "ax[4].fill_between(\n",
    "    grouped.index,\n",
    "    grouped[\"kld\"][\"mean\"] - grouped[\"kld\"][\"sem\"],\n",
    "    grouped[\"kld\"][\"mean\"] + grouped[\"kld\"][\"sem\"],\n",
    "    alpha=0.2,\n",
    ")\n",
    "\n",
    "ylabel_top(\"KLD\", ax=ax[4], x_pad=0.05,  y_pad=0.05)\n",
    "\n",
    "\n",
    "\n",
    "range_frame(\n",
    "    ax[4],\n",
    "    grouped.index,\n",
    "    np.nan_to_num(\n",
    "        np.stack(\n",
    "            [\n",
    "                grouped[\"kld\"][\"mean\"]\n",
    "                - grouped[\"kld\"][\"sem\"],\n",
    "                grouped[\"kld\"][\"mean\"]\n",
    "                + grouped[\"kld\"][\"sem\"],\n",
    "            ]\n",
    "        ).flatten(),\n",
    "        grouped[\"kld\"][\"mean\"].mean(),\n",
    "    ),\n",
    ")\n",
    "\n",
    "\n",
    "\n",
    "ax[5].plot(grouped.index, grouped[\"frechet_d\"][\"mean\"], label=\"frechet_d\")\n",
    "ax[5].fill_between(\n",
    "    grouped.index,\n",
    "    grouped[\"frechet_d\"][\"mean\"] - grouped[\"frechet_d\"][\"sem\"],\n",
    "    grouped[\"frechet_d\"][\"mean\"] + grouped[\"frechet_d\"][\"sem\"],\n",
    "    alpha=0.2,\n",
    ")\n",
    "\n",
    "ylabel_top(\"Frechet distance\", ax=ax[5], x_pad=0.05,  y_pad=0.02)\n",
    "\n",
    "\n",
    "\n",
    "range_frame(\n",
    "    ax[5],\n",
    "    grouped.index,\n",
    "    np.nan_to_num(\n",
    "        np.stack(\n",
    "            [\n",
    "                grouped[\"frechet_d\"][\"mean\"]\n",
    "                - grouped[\"frechet_d\"][\"sem\"],\n",
    "                grouped[\"frechet_d\"][\"mean\"]\n",
    "                + grouped[\"frechet_d\"][\"sem\"],\n",
    "            ]\n",
    "        ).flatten(),\n",
    "        grouped[\"frechet_d\"][\"mean\"].mean(),\n",
    "    ),\n",
    ")\n",
    "\n",
    "\n",
    "\n",
    "ax[6].plot(grouped.index, grouped[\"frac_contains_azo\"][\"mean\"], label=\"frechet_score\")\n",
    "ax[6].fill_between(\n",
    "    grouped.index,\n",
    "    grouped[\"frac_contains_azo\"][\"mean\"] - grouped[\"frac_contains_azo\"][\"sem\"],\n",
    "    grouped[\"frac_contains_azo\"][\"mean\"] + grouped[\"frac_contains_azo\"][\"sem\"],\n",
    "    alpha=0.2,\n",
    ")\n",
    "\n",
    "ylabel_top(\"frac. SMILES with azo\", ax=ax[6], x_pad=0.05, y_pad=-0.03)\n",
    "\n",
    "range_frame(\n",
    "    ax[6],\n",
    "    grouped.index,\n",
    "    np.nan_to_num(\n",
    "        np.stack(\n",
    "            [\n",
    "                grouped[\"frac_contains_azo\"][\"mean\"]\n",
    "                - grouped[\"frac_contains_azo\"][\"sem\"],\n",
    "                grouped[\"frac_contains_azo\"][\"mean\"]\n",
    "                + grouped[\"frac_contains_azo\"][\"sem\"],\n",
    "            ]\n",
    "        ).flatten(),\n",
    "        grouped[\"frac_contains_azo\"][\"mean\"].mean(),\n",
    "    ),\n",
    ")\n",
    "\n",
    "ax[7].plot(grouped.index, grouped[\"sa_score\"][\"mean\"], label=\"frechet_score\")\n",
    "ax[7].fill_between(\n",
    "    grouped.index,\n",
    "    grouped[\"sa_score\"][\"mean\"] - grouped[\"sa_score\"][\"sem\"],\n",
    "    grouped[\"sa_score\"][\"mean\"] + grouped[\"sa_score\"][\"sem\"],\n",
    "    alpha=0.2,\n",
    ")\n",
    "\n",
    "ylabel_top(\"SA score\", ax=ax[7])\n",
    "\n",
    "range_frame(\n",
    "    ax[7],\n",
    "    grouped.index,\n",
    "    np.nan_to_num(\n",
    "        np.stack(\n",
    "            [\n",
    "                grouped[\"sa_score\"][\"mean\"]\n",
    "                - grouped[\"sa_score\"][\"sem\"],\n",
    "                grouped[\"sa_score\"][\"mean\"]\n",
    "                + grouped[\"sa_score\"][\"sem\"],\n",
    "            ]\n",
    "        ).flatten(),\n",
    "        grouped[\"sa_score\"][\"mean\"].mean(),\n",
    "    ),\n",
    ")\n",
    "\n",
    "\n",
    "\n",
    "ax[-1].set_xlabel(\"temperature\", labelpad=4)\n",
    "\n",
    "plt.subplots_adjust(hspace=0.6, top=1, bottom=0.2)\n",
    "\n",
    "fig.savefig(\"photoswitch_random_smiles_metrics_full.pdf\", bbox_inches=\"tight\")"
   ]
  },
  {
   "cell_type": "code",
   "execution_count": null,
   "metadata": {},
   "outputs": [
    {
     "data": {
      "image/png": "[encoded data removed]",
      "text/plain": [
       "<Figure size 325x650 with 4 Axes>"
      ]
     },
     "metadata": {},
     "output_type": "display_data"
    }
   ],
   "source": [
    "fig, ax = plt.subplots(4, 1, sharex=\"col\", figsize=(ONE_COL_WIDTH_INCH, 2 * ONE_COL_WIDTH_INCH))\n",
    "ax[0].plot(grouped.index, grouped[\"frac_valid\"][\"mean\"], label=\"frac_valid\")\n",
    "ax[0].fill_between(\n",
    "    grouped.index,\n",
    "    grouped[\"frac_valid\"][\"mean\"] - grouped[\"frac_valid\"][\"sem\"],\n",
    "    grouped[\"frac_valid\"][\"mean\"] + grouped[\"frac_valid\"][\"sem\"],\n",
    "    alpha=0.2,\n",
    ")\n",
    "\n",
    "ylabel_top(\"frac. valid SMILES\", ax=ax[0], x_pad=0.05,  y_pad=-0.02)\n",
    "\n",
    "range_frame(\n",
    "    ax[0],\n",
    "    grouped.index,\n",
    "    np.nan_to_num(\n",
    "        np.stack(\n",
    "            [\n",
    "                grouped[\"frac_valid\"][\"mean\"] - grouped[\"frac_valid\"][\"sem\"],\n",
    "                grouped[\"frac_valid\"][\"mean\"] + grouped[\"frac_valid\"][\"sem\"],\n",
    "            ]\n",
    "        ).flatten(),\n",
    "        grouped[\"frac_valid\"][\"mean\"].mean(),\n",
    "    ),\n",
    ")\n",
    "\n",
    "ax[1].plot(grouped.index, grouped[\"frac_smiles_in_train\"][\"mean\"], label=\"frac_smiles_in_train\")\n",
    "ax[1].fill_between(\n",
    "    grouped.index,\n",
    "    grouped[\"frac_smiles_in_train\"][\"mean\"] - grouped[\"frac_smiles_in_train\"][\"sem\"],\n",
    "    grouped[\"frac_smiles_in_train\"][\"mean\"] + grouped[\"frac_smiles_in_train\"][\"sem\"],\n",
    "    alpha=0.2,\n",
    ")\n",
    "\n",
    "ylabel_top(\"frac. in train\", ax=ax[1], x_pad=0.05)\n",
    "\n",
    "range_frame(\n",
    "    ax[1],\n",
    "    grouped.index,\n",
    "    np.nan_to_num(\n",
    "        np.stack(\n",
    "            [\n",
    "                grouped[\"frac_smiles_in_train\"][\"mean\"] - grouped[\"frac_smiles_in_train\"][\"sem\"],\n",
    "                grouped[\"frac_smiles_in_train\"][\"mean\"] + grouped[\"frac_smiles_in_train\"][\"sem\"],\n",
    "            ]\n",
    "        ).flatten(),\n",
    "        grouped[\"frac_smiles_in_train\"][\"mean\"].mean(),\n",
    "    ),\n",
    ")\n",
    "\n",
    "\n",
    "ax[2].plot(grouped.index, grouped[\"frechet_d\"][\"mean\"], label=\"frechet_d\")\n",
    "ax[2].fill_between(\n",
    "    grouped.index,\n",
    "    grouped[\"frechet_d\"][\"mean\"] - grouped[\"frechet_d\"][\"sem\"],\n",
    "    grouped[\"frechet_d\"][\"mean\"] + grouped[\"frechet_d\"][\"sem\"],\n",
    "    alpha=0.2,\n",
    ")\n",
    "\n",
    "ylabel_top(\"Frechet distance\", ax=ax[2], x_pad=0.05,  y_pad=0.02)\n",
    "\n",
    "\n",
    "range_frame(\n",
    "    ax[2],\n",
    "    grouped.index,\n",
    "    np.nan_to_num(\n",
    "        np.stack(\n",
    "            [\n",
    "                grouped[\"frechet_d\"][\"mean\"]\n",
    "                - grouped[\"frechet_d\"][\"sem\"],\n",
    "                grouped[\"frechet_d\"][\"mean\"]\n",
    "                + grouped[\"frechet_d\"][\"sem\"],\n",
    "            ]\n",
    "        ).flatten(),\n",
    "        grouped[\"frechet_d\"][\"mean\"].mean(),\n",
    "    ),\n",
    ")\n",
    "\n",
    "\n",
    "ax[3].plot(grouped.index, grouped[\"sa_score\"][\"mean\"], label=\"frechet_score\")\n",
    "ax[3].fill_between(\n",
    "    grouped.index,\n",
    "    grouped[\"sa_score\"][\"mean\"] - grouped[\"sa_score\"][\"sem\"],\n",
    "    grouped[\"sa_score\"][\"mean\"] + grouped[\"sa_score\"][\"sem\"],\n",
    "    alpha=0.2,\n",
    ")\n",
    "\n",
    "ylabel_top(\"SA score\", ax=ax[3])\n",
    "\n",
    "range_frame(\n",
    "    ax[3],\n",
    "    grouped.index,\n",
    "    np.nan_to_num(\n",
    "        np.stack(\n",
    "            [\n",
    "                grouped[\"sa_score\"][\"mean\"]\n",
    "                - grouped[\"sa_score\"][\"sem\"],\n",
    "                grouped[\"sa_score\"][\"mean\"]\n",
    "                + grouped[\"sa_score\"][\"sem\"],\n",
    "            ]\n",
    "        ).flatten(),\n",
    "        grouped[\"sa_score\"][\"mean\"].mean(),\n",
    "    ),\n",
    ")\n",
    "\n",
    "\n",
    "\n",
    "ax[-1].set_xlabel(\"temperature\", labelpad=4)\n",
    "\n",
    "plt.subplots_adjust(hspace=0.4, top=1, bottom=0.2)\n",
    "\n",
    "fig.savefig(\"photoswitch_random_smiles_metrics_subset.pdf\", bbox_inches=\"tight\")"
   ]
  },
  {
   "cell_type": "code",
   "execution_count": 75,
   "metadata": {},
   "outputs": [
    {
     "data": {
      "image/png": "[encoded data removed]",
      "text/plain": [
       "<Figure size 325x200.861 with 4 Axes>"
      ]
     },
     "metadata": {},
     "output_type": "display_data"
    }
   ],
   "source": [
    "# with plt.style.context(matplotx.styles.dufte):\n",
    "fig, ax = plt.subplots(\n",
    "    2, 2, sharex=\"all\", figsize=(ONE_COL_WIDTH_INCH, ONE_COL_GOLDEN_RATIO_HEIGHT_INCH)\n",
    ")\n",
    "\n",
    "ax[0][0].plot(\n",
    "    grouped.index,\n",
    "    grouped[\"z_pi_pi_star_mean_absolute_error\"][\"mean\"],\n",
    "    label=\"e_pi_pi_star_metrics\",\n",
    ")\n",
    "ax[0][0].fill_between(\n",
    "    grouped.index,\n",
    "    grouped[\"z_pi_pi_star_mean_absolute_error\"][\"mean\"]\n",
    "    - grouped[\"z_pi_pi_star_mean_absolute_error\"][\"sem\"],\n",
    "    grouped[\"z_pi_pi_star_mean_absolute_error\"][\"mean\"]\n",
    "    + grouped[\"z_pi_pi_star_mean_absolute_error\"][\"sem\"],\n",
    "    alpha=0.2,\n",
    ")\n",
    "\n",
    "ax[0][1].plot(\n",
    "    grouped.index,\n",
    "    grouped[\"z_pi_pi_star_novel_mean_absolute_error\"][\"mean\"],\n",
    "    label=\"e_pi_pi_star_metrics\",\n",
    ")\n",
    "ax[0][1].fill_between(\n",
    "    grouped.index,\n",
    "    grouped[\"z_pi_pi_star_novel_mean_absolute_error\"][\"mean\"]\n",
    "    - grouped[\"z_pi_pi_star_novel_mean_absolute_error\"][\"sem\"],\n",
    "    grouped[\"z_pi_pi_star_novel_mean_absolute_error\"][\"mean\"]\n",
    "    + grouped[\"z_pi_pi_star_novel_mean_absolute_error\"][\"sem\"],\n",
    "    alpha=0.2,\n",
    ")\n",
    "\n",
    "range_frame(\n",
    "    ax[0][0],\n",
    "    grouped.index,\n",
    "    np.stack(\n",
    "        [\n",
    "            np.append(\n",
    "                np.nan_to_num(\n",
    "                    np.stack(\n",
    "                        [\n",
    "                            grouped[\"z_pi_pi_star_novel_mean_absolute_error\"][\"mean\"]\n",
    "                            - grouped[\"z_pi_pi_star_novel_mean_absolute_error\"][\"sem\"],\n",
    "                            grouped[\"z_pi_pi_star_novel_mean_absolute_error\"][\"mean\"]\n",
    "                            + grouped[\"z_pi_pi_star_novel_mean_absolute_error\"][\"sem\"],\n",
    "                        ]\n",
    "                    ).flatten(),\n",
    "                    grouped[\"z_pi_pi_star_novel_mean_absolute_error\"][\"mean\"].mean(),\n",
    "                ),\n",
    "                11.616605626696359,\n",
    "            ),\n",
    "            np.append(\n",
    "                np.nan_to_num(\n",
    "                    np.stack(\n",
    "                        [\n",
    "                            grouped[\"z_pi_pi_star_mean_absolute_error\"][\"mean\"]\n",
    "                            - grouped[\"z_pi_pi_star_mean_absolute_error\"][\"sem\"],\n",
    "                            grouped[\"z_pi_pi_star_mean_absolute_error\"][\"mean\"]\n",
    "                            + grouped[\"z_pi_pi_star_mean_absolute_error\"][\"sem\"],\n",
    "                        ]\n",
    "                    ).flatten(),\n",
    "                    grouped[\"z_pi_pi_star_mean_absolute_error\"][\"mean\"].mean(),\n",
    "                ),\n",
    "                11.616605626696359,\n",
    "            ),\n",
    "        ]\n",
    "    ),\n",
    ")\n",
    "\n",
    "\n",
    "range_frame(\n",
    "    ax[0][1],\n",
    "    grouped.index,\n",
    "    np.stack(\n",
    "        [\n",
    "            np.append(\n",
    "                np.nan_to_num(\n",
    "                    np.stack(\n",
    "                        [\n",
    "                            grouped[\"z_pi_pi_star_novel_mean_absolute_error\"][\"mean\"]\n",
    "                            - grouped[\"z_pi_pi_star_novel_mean_absolute_error\"][\"sem\"],\n",
    "                            grouped[\"z_pi_pi_star_novel_mean_absolute_error\"][\"mean\"]\n",
    "                            + grouped[\"z_pi_pi_star_novel_mean_absolute_error\"][\"sem\"],\n",
    "                        ]\n",
    "                    ).flatten(),\n",
    "                    grouped[\"z_pi_pi_star_novel_mean_absolute_error\"][\"mean\"].mean(),\n",
    "                ),\n",
    "                11.616605626696359,\n",
    "            ),\n",
    "            np.append(\n",
    "                np.nan_to_num(\n",
    "                    np.stack(\n",
    "                        [\n",
    "                            grouped[\"z_pi_pi_star_mean_absolute_error\"][\"mean\"]\n",
    "                            - grouped[\"z_pi_pi_star_mean_absolute_error\"][\"sem\"],\n",
    "                            grouped[\"z_pi_pi_star_mean_absolute_error\"][\"mean\"]\n",
    "                            + grouped[\"z_pi_pi_star_mean_absolute_error\"][\"sem\"],\n",
    "                        ]\n",
    "                    ).flatten(),\n",
    "                    grouped[\"z_pi_pi_star_mean_absolute_error\"][\"mean\"].mean(),\n",
    "                ),\n",
    "                11.616605626696359,\n",
    "            ),\n",
    "        ]\n",
    "    ),\n",
    "),\n",
    "\n",
    "# ylabel_top(\"MAE / nm\", ax=ax[0][0])\n",
    "\n",
    "ax[0][0].hlines(11.616605626696359, 0, 2, color=\"k\", linestyle=\"--\")\n",
    "ax[0][1].hlines(11.616605626696359, 0, 2, color=\"k\", linestyle=\"--\")\n",
    "# ax[0].set_ylim(8, 35)\n",
    "\n",
    "ax[1][0].plot(\n",
    "    grouped.index,\n",
    "    grouped[\"e_pi_pi_star_mean_absolute_error\"][\"mean\"],\n",
    "    label=\"e_pi_pi_star_metrics\",\n",
    ")\n",
    "ax[1][0].fill_between(\n",
    "    grouped.index,\n",
    "    grouped[\"e_pi_pi_star_mean_absolute_error\"][\"mean\"]\n",
    "    - grouped[\"e_pi_pi_star_mean_absolute_error\"][\"sem\"],\n",
    "    grouped[\"e_pi_pi_star_mean_absolute_error\"][\"mean\"]\n",
    "    + grouped[\"e_pi_pi_star_mean_absolute_error\"][\"sem\"],\n",
    "    alpha=0.2,\n",
    ")\n",
    "\n",
    "range_frame(\n",
    "    ax[1][0],\n",
    "    grouped.index,\n",
    "   np.stack(\n",
    "        [\n",
    "            np.append(\n",
    "                np.nan_to_num(\n",
    "                    np.stack(\n",
    "                        [\n",
    "                            grouped[\"e_pi_pi_star_novel_mean_absolute_error\"][\"mean\"]\n",
    "                            - grouped[\"e_pi_pi_star_novel_mean_absolute_error\"][\"sem\"],\n",
    "                            grouped[\"e_pi_pi_star_novel_mean_absolute_error\"][\"mean\"]\n",
    "                            + grouped[\"e_pi_pi_star_novel_mean_absolute_error\"][\"sem\"],\n",
    "                        ]\n",
    "                    ).flatten(),\n",
    "                    grouped[\"e_pi_pi_star_novel_mean_absolute_error\"][\"mean\"].mean(),\n",
    "                ),\n",
    "                14.38998132190228,\n",
    "            ),\n",
    "             np.append(\n",
    "                np.nan_to_num(\n",
    "                    np.stack(\n",
    "                        [\n",
    "                            grouped[\"e_pi_pi_star_mean_absolute_error\"][\"mean\"]\n",
    "                            - grouped[\"e_pi_pi_star_mean_absolute_error\"][\"sem\"],\n",
    "                            grouped[\"e_pi_pi_star_mean_absolute_error\"][\"mean\"]\n",
    "                            + grouped[\"e_pi_pi_star_mean_absolute_error\"][\"sem\"],\n",
    "                        ]\n",
    "                    ).flatten(),\n",
    "                    grouped[\"e_pi_pi_star_mean_absolute_error\"][\"mean\"].mean(),\n",
    "                ),\n",
    "                14.38998132190228,\n",
    "            )\n",
    "        ]\n",
    "    ),\n",
    ")\n",
    "\n",
    "\n",
    "ax[1][1].plot(\n",
    "    grouped.index,\n",
    "    grouped[\"e_pi_pi_star_novel_mean_absolute_error\"][\"mean\"],\n",
    "    label=\"e_pi_pi_star_metrics\",\n",
    ")\n",
    "ax[1][1].fill_between(\n",
    "    grouped.index,\n",
    "    grouped[\"e_pi_pi_star_novel_mean_absolute_error\"][\"mean\"]\n",
    "    - grouped[\"e_pi_pi_star_novel_mean_absolute_error\"][\"sem\"],\n",
    "    grouped[\"e_pi_pi_star_novel_mean_absolute_error\"][\"mean\"]\n",
    "    + grouped[\"e_pi_pi_star_novel_mean_absolute_error\"][\"sem\"],\n",
    "    alpha=0.2,\n",
    ")\n",
    "\n",
    "\n",
    "range_frame(\n",
    "    ax[1][1],\n",
    "    grouped.index,\n",
    "    np.stack(\n",
    "        [\n",
    "            np.append(\n",
    "                np.nan_to_num(\n",
    "                    np.stack(\n",
    "                        [\n",
    "                            grouped[\"e_pi_pi_star_novel_mean_absolute_error\"][\"mean\"]\n",
    "                            - grouped[\"e_pi_pi_star_novel_mean_absolute_error\"][\"sem\"],\n",
    "                            grouped[\"e_pi_pi_star_novel_mean_absolute_error\"][\"mean\"]\n",
    "                            + grouped[\"e_pi_pi_star_novel_mean_absolute_error\"][\"sem\"],\n",
    "                        ]\n",
    "                    ).flatten(),\n",
    "                    grouped[\"e_pi_pi_star_novel_mean_absolute_error\"][\"mean\"].mean(),\n",
    "                ),\n",
    "                14.38998132190228,\n",
    "            ),\n",
    "             np.append(\n",
    "                np.nan_to_num(\n",
    "                    np.stack(\n",
    "                        [\n",
    "                            grouped[\"e_pi_pi_star_mean_absolute_error\"][\"mean\"]\n",
    "                            - grouped[\"e_pi_pi_star_mean_absolute_error\"][\"sem\"],\n",
    "                            grouped[\"e_pi_pi_star_mean_absolute_error\"][\"mean\"]\n",
    "                            + grouped[\"e_pi_pi_star_mean_absolute_error\"][\"sem\"],\n",
    "                        ]\n",
    "                    ).flatten(),\n",
    "                    grouped[\"e_pi_pi_star_mean_absolute_error\"][\"mean\"].mean(),\n",
    "                ),\n",
    "                14.38998132190228,\n",
    "            )\n",
    "        ]\n",
    "    ),\n",
    ")\n",
    "\n",
    "\n",
    "# ylabel_top(\"MAE / nm\", ax=ax[1][0])\n",
    "\n",
    "ax[1][0].hlines(14.38998132190228, 0, 2, color=\"k\", linestyle=\"--\")\n",
    "ax[1][1].hlines(14.38998132190228, 0, 2, color=\"k\", linestyle=\"--\")\n",
    "\n",
    "\n",
    "ax[0][0].set_title(\"all\")\n",
    "ax[0][1].set_title(\"novel\")\n",
    "\n",
    "ylabel_top(r\"$Z$ isomer MAE / nm\", ax[0][0], x_pad=0.1)\n",
    "ylabel_top(r\"$E$ isomer MAE / nm\", ax[1][0], x_pad=0.1)\n",
    "\n",
    "fig.text(0.4, -0.04, \"temperature\")\n",
    "plt.subplots_adjust(hspace=0.8, wspace=0.5, top=1, bottom=0.2)\n",
    "fig.savefig(\"random_photoswitch_constrain_matches.pdf\", bbox_inches=\"tight\")"
   ]
  },
  {
   "cell_type": "markdown",
   "metadata": {},
   "source": [
    "## Visualize"
   ]
  },
  {
   "cell_type": "code",
   "execution_count": 76,
   "metadata": {},
   "outputs": [],
   "source": [
    "import numpy as np\n",
    "import tmap as tm\n",
    "from faerun import Faerun\n",
    "from mhfp.encoder import MHFPEncoder\n",
    "from rdkit.Chem import AllChem\n",
    "from tqdm import tqdm"
   ]
  },
  {
   "cell_type": "code",
   "execution_count": 77,
   "metadata": {},
   "outputs": [],
   "source": [
    "import os\n",
    "import shutil"
   ]
  },
  {
   "cell_type": "code",
   "execution_count": 83,
   "metadata": {},
   "outputs": [],
   "source": [
    "def make_figure(temp):\n",
    "    path = f\"plots/{temp}\"\n",
    "    os.makedirs(path, exist_ok=True)\n",
    "    enc = MHFPEncoder()\n",
    "    lf = tm.LSHForest(2048, 128)\n",
    "    train_data = get_photoswitch_data()\n",
    "    train_smiles = train_data[\"SMILES\"].values\n",
    "    all_smiles = set(train_smiles) | generated_smiles_w_azos_at_temp[temp]\n",
    "    in_pubchem = [is_in_pubchem(s) for s in all_smiles]\n",
    "\n",
    "    fps = []\n",
    "    labels = []\n",
    "\n",
    "    for smiles in tqdm(all_smiles):\n",
    "        mol = AllChem.MolFromSmiles(smiles)\n",
    "        fps.append(tm.VectorUint(enc.encode_mol(mol, min_radius=0)))\n",
    "        if smiles not in generated_smiles_w_azos_at_temp[temp]:\n",
    "            labels.append(0)\n",
    "        elif smiles in train_smiles:\n",
    "            labels.append(1)\n",
    "        elif is_in_pubchem(smiles):\n",
    "            labels.append(2)\n",
    "        else:\n",
    "            labels.append(3)\n",
    "\n",
    "    lf.batch_add(fps)\n",
    "    lf.index()\n",
    "    cfg = tm.LayoutConfiguration()\n",
    "    cfg.k = 100\n",
    "    cfg.sl_extra_scaling_steps = 6\n",
    "    cfg.sl_repeats = 2\n",
    "    cfg.mmm_repeats = 2\n",
    "    cfg.node_size = 2\n",
    "    x, y, s, t, _ = tm.layout_from_lsh_forest(lf, config=cfg)\n",
    "\n",
    "    f = Faerun(\n",
    "        clear_color=\"#FFFFFF\",\n",
    "        coords=False,\n",
    "        view=\"free\",\n",
    "        # impress='made with <a href=\"http://tmap.gdb.tools\" target=\"_blank\">tmap</a><br />and <a href=\"https://github.com/reymond-group/faerun-python\" target=\"_blank\">faerun</a>',\n",
    "    )\n",
    "    f.add_scatter(\n",
    "        f\"Photoswitches\",\n",
    "        {\n",
    "            \"x\": x,\n",
    "            \"y\": y,\n",
    "            \"c\": labels,\n",
    "            \"labels\": all_smiles,\n",
    "        },\n",
    "        colormap=\"Set2\",\n",
    "        categorical=True,\n",
    "        shader=\"sphere\",\n",
    "        has_legend=True,\n",
    "        point_scale=5,\n",
    "        legend_labels=[\n",
    "            (0, \"database, not generated\"),\n",
    "            (1, \"in database\"),\n",
    "            (2, \"in PubChem\"),\n",
    "            (3, \"novel\"),\n",
    "        ],\n",
    "        max_point_size=5000,\n",
    "    )\n",
    "    f.add_tree(\n",
    "        \"Photoswitches_tree\",\n",
    "        {\n",
    "            \"from\": s,\n",
    "            \"to\": t,\n",
    "        },\n",
    "        point_helper=\"Photoswitches\",\n",
    "    )\n",
    "    f.plot(\"Photoswitches\", template=\"smiles\")\n",
    "\n",
    "    shutil.copy(\"Photoswitches.html\", path)"
   ]
  },
  {
   "cell_type": "code",
   "execution_count": 84,
   "metadata": {},
   "outputs": [],
   "source": [
    "import pubchempy as pcp"
   ]
  },
  {
   "cell_type": "code",
   "execution_count": 85,
   "metadata": {},
   "outputs": [],
   "source": [
    "cmpd = pcp.get_compounds(\"CC(C1)=CC=C1/N=N/C2=CC=C(Cl)C=C2\", smiles=\"CN1C(=NC2=CC=CCN2)N=CC=N1\", namespace=\"SMILES\")[0]"
   ]
  },
  {
   "cell_type": "code",
   "execution_count": 86,
   "metadata": {},
   "outputs": [
    {
     "data": {
      "text/plain": [
       "False"
      ]
     },
     "execution_count": 86,
     "metadata": {},
     "output_type": "execute_result"
    }
   ],
   "source": [
    "is_in_pubchem(\"CC(C1)=CC=C1/N=N/C2=CC=C(Cl)C=C2\")"
   ]
  },
  {
   "cell_type": "code",
   "execution_count": 87,
   "metadata": {},
   "outputs": [
    {
     "name": "stderr",
     "output_type": "stream",
     "text": [
      "100%|██████████| 403/403 [00:03<00:00, 115.13it/s]\n"
     ]
    },
    {
     "data": {
      "text/html": [
       "\n",
       "        <iframe\n",
       "            width=\"100%\"\n",
       "            height=\"500\"\n",
       "            src=\"./Photoswitches.html\"\n",
       "            frameborder=\"0\"\n",
       "            allowfullscreen\n",
       "            \n",
       "        ></iframe>\n",
       "        "
      ],
      "text/plain": [
       "<IPython.lib.display.IFrame at 0x2e19fd400>"
      ]
     },
     "metadata": {},
     "output_type": "display_data"
    },
    {
     "data": {
      "text/html": [
       "<a href='./Photoswitches.html' target='_blank'>./Photoswitches.html</a><br>"
      ],
      "text/plain": [
       "/Users/kevinmaikjablonka/git/kjappelbaum/gptchem/experiments/05_inverse/photoswitch/random/Photoswitches.html"
      ]
     },
     "metadata": {},
     "output_type": "display_data"
    },
    {
     "name": "stderr",
     "output_type": "stream",
     "text": [
      "100%|██████████| 404/404 [00:04<00:00, 99.00it/s] \n"
     ]
    },
    {
     "data": {
      "text/html": [
       "\n",
       "        <iframe\n",
       "            width=\"100%\"\n",
       "            height=\"500\"\n",
       "            src=\"./Photoswitches.html\"\n",
       "            frameborder=\"0\"\n",
       "            allowfullscreen\n",
       "            \n",
       "        ></iframe>\n",
       "        "
      ],
      "text/plain": [
       "<IPython.lib.display.IFrame at 0x2e1b1a700>"
      ]
     },
     "metadata": {},
     "output_type": "display_data"
    },
    {
     "data": {
      "text/html": [
       "<a href='./Photoswitches.html' target='_blank'>./Photoswitches.html</a><br>"
      ],
      "text/plain": [
       "/Users/kevinmaikjablonka/git/kjappelbaum/gptchem/experiments/05_inverse/photoswitch/random/Photoswitches.html"
      ]
     },
     "metadata": {},
     "output_type": "display_data"
    },
    {
     "name": "stderr",
     "output_type": "stream",
     "text": [
      "100%|██████████| 405/405 [00:03<00:00, 103.04it/s]\n"
     ]
    },
    {
     "data": {
      "text/html": [
       "\n",
       "        <iframe\n",
       "            width=\"100%\"\n",
       "            height=\"500\"\n",
       "            src=\"./Photoswitches.html\"\n",
       "            frameborder=\"0\"\n",
       "            allowfullscreen\n",
       "            \n",
       "        ></iframe>\n",
       "        "
      ],
      "text/plain": [
       "<IPython.lib.display.IFrame at 0x2e04923a0>"
      ]
     },
     "metadata": {},
     "output_type": "display_data"
    },
    {
     "data": {
      "text/html": [
       "<a href='./Photoswitches.html' target='_blank'>./Photoswitches.html</a><br>"
      ],
      "text/plain": [
       "/Users/kevinmaikjablonka/git/kjappelbaum/gptchem/experiments/05_inverse/photoswitch/random/Photoswitches.html"
      ]
     },
     "metadata": {},
     "output_type": "display_data"
    },
    {
     "name": "stderr",
     "output_type": "stream",
     "text": [
      "100%|██████████| 420/420 [00:04<00:00, 100.30it/s]\n"
     ]
    },
    {
     "data": {
      "text/html": [
       "\n",
       "        <iframe\n",
       "            width=\"100%\"\n",
       "            height=\"500\"\n",
       "            src=\"./Photoswitches.html\"\n",
       "            frameborder=\"0\"\n",
       "            allowfullscreen\n",
       "            \n",
       "        ></iframe>\n",
       "        "
      ],
      "text/plain": [
       "<IPython.lib.display.IFrame at 0x2dd758fa0>"
      ]
     },
     "metadata": {},
     "output_type": "display_data"
    },
    {
     "data": {
      "text/html": [
       "<a href='./Photoswitches.html' target='_blank'>./Photoswitches.html</a><br>"
      ],
      "text/plain": [
       "/Users/kevinmaikjablonka/git/kjappelbaum/gptchem/experiments/05_inverse/photoswitch/random/Photoswitches.html"
      ]
     },
     "metadata": {},
     "output_type": "display_data"
    },
    {
     "name": "stderr",
     "output_type": "stream",
     "text": [
      "100%|██████████| 457/457 [00:04<00:00, 101.40it/s]\n"
     ]
    },
    {
     "data": {
      "text/html": [
       "\n",
       "        <iframe\n",
       "            width=\"100%\"\n",
       "            height=\"500\"\n",
       "            src=\"./Photoswitches.html\"\n",
       "            frameborder=\"0\"\n",
       "            allowfullscreen\n",
       "            \n",
       "        ></iframe>\n",
       "        "
      ],
      "text/plain": [
       "<IPython.lib.display.IFrame at 0x2e24535e0>"
      ]
     },
     "metadata": {},
     "output_type": "display_data"
    },
    {
     "data": {
      "text/html": [
       "<a href='./Photoswitches.html' target='_blank'>./Photoswitches.html</a><br>"
      ],
      "text/plain": [
       "/Users/kevinmaikjablonka/git/kjappelbaum/gptchem/experiments/05_inverse/photoswitch/random/Photoswitches.html"
      ]
     },
     "metadata": {},
     "output_type": "display_data"
    },
    {
     "name": "stderr",
     "output_type": "stream",
     "text": [
      "100%|██████████| 496/496 [00:04<00:00, 104.18it/s]\n"
     ]
    },
    {
     "data": {
      "text/html": [
       "\n",
       "        <iframe\n",
       "            width=\"100%\"\n",
       "            height=\"500\"\n",
       "            src=\"./Photoswitches.html\"\n",
       "            frameborder=\"0\"\n",
       "            allowfullscreen\n",
       "            \n",
       "        ></iframe>\n",
       "        "
      ],
      "text/plain": [
       "<IPython.lib.display.IFrame at 0x2e2456940>"
      ]
     },
     "metadata": {},
     "output_type": "display_data"
    },
    {
     "data": {
      "text/html": [
       "<a href='./Photoswitches.html' target='_blank'>./Photoswitches.html</a><br>"
      ],
      "text/plain": [
       "/Users/kevinmaikjablonka/git/kjappelbaum/gptchem/experiments/05_inverse/photoswitch/random/Photoswitches.html"
      ]
     },
     "metadata": {},
     "output_type": "display_data"
    },
    {
     "name": "stderr",
     "output_type": "stream",
     "text": [
      "100%|██████████| 465/465 [00:04<00:00, 113.43it/s]\n"
     ]
    },
    {
     "data": {
      "text/html": [
       "\n",
       "        <iframe\n",
       "            width=\"100%\"\n",
       "            height=\"500\"\n",
       "            src=\"./Photoswitches.html\"\n",
       "            frameborder=\"0\"\n",
       "            allowfullscreen\n",
       "            \n",
       "        ></iframe>\n",
       "        "
      ],
      "text/plain": [
       "<IPython.lib.display.IFrame at 0x2e19121f0>"
      ]
     },
     "metadata": {},
     "output_type": "display_data"
    },
    {
     "data": {
      "text/html": [
       "<a href='./Photoswitches.html' target='_blank'>./Photoswitches.html</a><br>"
      ],
      "text/plain": [
       "/Users/kevinmaikjablonka/git/kjappelbaum/gptchem/experiments/05_inverse/photoswitch/random/Photoswitches.html"
      ]
     },
     "metadata": {},
     "output_type": "display_data"
    },
    {
     "name": "stderr",
     "output_type": "stream",
     "text": [
      "100%|██████████| 413/413 [00:05<00:00, 76.91it/s]\n"
     ]
    },
    {
     "data": {
      "text/html": [
       "\n",
       "        <iframe\n",
       "            width=\"100%\"\n",
       "            height=\"500\"\n",
       "            src=\"./Photoswitches.html\"\n",
       "            frameborder=\"0\"\n",
       "            allowfullscreen\n",
       "            \n",
       "        ></iframe>\n",
       "        "
      ],
      "text/plain": [
       "<IPython.lib.display.IFrame at 0x2e18a7190>"
      ]
     },
     "metadata": {},
     "output_type": "display_data"
    },
    {
     "data": {
      "text/html": [
       "<a href='./Photoswitches.html' target='_blank'>./Photoswitches.html</a><br>"
      ],
      "text/plain": [
       "/Users/kevinmaikjablonka/git/kjappelbaum/gptchem/experiments/05_inverse/photoswitch/random/Photoswitches.html"
      ]
     },
     "metadata": {},
     "output_type": "display_data"
    },
    {
     "name": "stderr",
     "output_type": "stream",
     "text": [
      "100%|██████████| 408/408 [00:05<00:00, 79.44it/s]\n"
     ]
    },
    {
     "data": {
      "text/html": [
       "\n",
       "        <iframe\n",
       "            width=\"100%\"\n",
       "            height=\"500\"\n",
       "            src=\"./Photoswitches.html\"\n",
       "            frameborder=\"0\"\n",
       "            allowfullscreen\n",
       "            \n",
       "        ></iframe>\n",
       "        "
      ],
      "text/plain": [
       "<IPython.lib.display.IFrame at 0x2e1baad30>"
      ]
     },
     "metadata": {},
     "output_type": "display_data"
    },
    {
     "data": {
      "text/html": [
       "<a href='./Photoswitches.html' target='_blank'>./Photoswitches.html</a><br>"
      ],
      "text/plain": [
       "/Users/kevinmaikjablonka/git/kjappelbaum/gptchem/experiments/05_inverse/photoswitch/random/Photoswitches.html"
      ]
     },
     "metadata": {},
     "output_type": "display_data"
    }
   ],
   "source": [
    "for temp in [0, 0.1, 0.2, 0.5, 0.75, 1.0, 1.25, 1.5, 2.0]:\n",
    "    make_figure(temp)"
   ]
  },
  {
   "cell_type": "code",
   "execution_count": 66,
   "metadata": {},
   "outputs": [
    {
     "name": "stderr",
     "output_type": "stream",
     "text": [
      "100%|██████████| 448/448 [00:03<00:00, 116.26it/s]\n"
     ]
    },
    {
     "data": {
      "text/html": [
       "\n",
       "        <iframe\n",
       "            width=\"100%\"\n",
       "            height=\"500\"\n",
       "            src=\"./Photoswitches.html\"\n",
       "            frameborder=\"0\"\n",
       "            allowfullscreen\n",
       "            \n",
       "        ></iframe>\n",
       "        "
      ],
      "text/plain": [
       "<IPython.lib.display.IFrame at 0x2a35b6c10>"
      ]
     },
     "metadata": {},
     "output_type": "display_data"
    },
    {
     "data": {
      "text/html": [
       "<a href='./Photoswitches.html' target='_blank'>./Photoswitches.html</a><br>"
      ],
      "text/plain": [
       "/Users/kevinmaikjablonka/git/kjappelbaum/gptchem/experiments/05_inverse/photoswitch/random/Photoswitches.html"
      ]
     },
     "metadata": {},
     "output_type": "display_data"
    }
   ],
   "source": [
    "make_figure(1.0)"
   ]
  },
  {
   "cell_type": "code",
   "execution_count": null,
   "metadata": {},
   "outputs": [],
   "source": [
    "#66c2a5\n",
    "#fc8d62\n",
    "#8da0cb\n",
    "#e78ac3"
   ]
  },
  {
   "cell_type": "code",
   "execution_count": 119,
   "metadata": {},
   "outputs": [],
   "source": [
    "color1 = '#e78ac3' #'#904a9b' # novel\n",
    "color2 = '#8da0cb' #'#4aa848' # in PubChem\n",
    "color3 = '#fc8d62' #'#5b81eb'# in database\n",
    "color4 = '#66c2a5' #'#ee3237' #database, not generated \n"
   ]
  },
  {
   "cell_type": "code",
   "execution_count": 120,
   "metadata": {},
   "outputs": [],
   "source": [
    "novel_smiles = []\n",
    "pubchem_smiles = []\n",
    "database_smiles = []\n",
    "database_not_generated_smiles = []\n",
    "input_db = set(get_photoswitch_data()[\"SMILES\"].values)\n",
    "all_smiles =  input_db| set(generated_smiles_at_temp[1.0])\n",
    "\n",
    "for smiles in all_smiles:\n",
    "    if smiles not in generated_smiles_at_temp[1.0]:\n",
    "        database_not_generated_smiles.append(smiles)\n",
    "    elif (smiles in input_db) and not is_in_pubchem(smiles):\n",
    "        database_smiles.append(smiles)\n",
    "    elif is_in_pubchem(smiles):\n",
    "        pubchem_smiles.append(smiles)\n",
    "    else:\n",
    "        novel_smiles.append(smiles)"
   ]
  },
  {
   "cell_type": "code",
   "execution_count": 121,
   "metadata": {},
   "outputs": [
    {
     "data": {
      "text/plain": [
       "(37, 36, 26, 349)"
      ]
     },
     "execution_count": 121,
     "metadata": {},
     "output_type": "execute_result"
    }
   ],
   "source": [
    "len(novel_smiles), len(pubchem_smiles), len(database_smiles), len(database_not_generated_smiles)"
   ]
  },
  {
   "cell_type": "code",
   "execution_count": 122,
   "metadata": {},
   "outputs": [
    {
     "name": "stdout",
     "output_type": "stream",
     "text": [
      "FC1=CC(/N=N/C2=CC=CS2)=CC=C1\t#e78ac3\n",
      "CC1=C(/N=N/C2=CC=C(Cl)C(C)=NO1)C(C)=NO2\t#e78ac3\n",
      "CC(N1)=CC=C1/N=N/C2=CC=C(OC)C=C2\t#e78ac3\n",
      "C[N]1N=C(C)C(C)=NO1\t#e78ac3\n",
      "CC1=NOC(C)=C1/N=N/C2=CC(NO)=CC=C2\t#e78ac3\n",
      "CC1=NOC(C)=CC(O)=C1/N=N/C2=CC=CC=C2\t#e78ac3\n",
      "C[N]1N=CC=C1N=NC2=C(F)C=CC=C2\t#e78ac3\n",
      "CC1=C(C(C)=NN1)/N=N/C2=CC(NC)=CC=C2\t#e78ac3\n",
      "CC1=C(C(C)=NN1)/N=N/C2=C(NC(C)=O)C=CC=C2\t#e78ac3\n",
      "CC(S1)=CC=C1/N=N/C2=C(F)C=CC=C2\t#e78ac3\n",
      "CC1=NOC(C)=C1/N=N/C2=CC(Br)=C2\t#e78ac3\n",
      "CC1=CC=C(/N=N/C2=CC(F)=CC=C2F)C(C)=NO1\t#e78ac3\n",
      "CC1=NOC(C)=C1/N=N/C2=CC(C(F)F)=CC=C2\t#e78ac3\n",
      "CC1=C(C(C)=NN1)/N=N/C2=CC(C)C=C2\t#e78ac3\n",
      "CC1=NOC=C1/N=N/C2=CC=C(F)C=C2\t#e78ac3\n",
      "C[N]1N=CC(=C1N=NC2=CC=CC=C2N)C2=CC=CC=C2\t#e78ac3\n",
      "CC1=NOC(/N=N/C2=CC=C(F)C=C2)C=C1\t#e78ac3\n",
      "CC1=NOC(C)=C1/N=N/C2=CC=C(NC(C)C)C=C2\t#e78ac3\n",
      "CC1=NOC(C)=C1/N=N/C2=CC=C(C(F)F)C=C2\t#e78ac3\n",
      "FC1=CC(F)=C1/N=N/C2=C(Br)C=CC=C2\t#e78ac3\n",
      "CC1=NOC(C)=C1/N=N/C2=CC(C=O)=CC=C2\t#e78ac3\n",
      "CC1=C(C(C)=N1)/N=N/C2=CC=C(F)C=C2\t#e78ac3\n",
      "CC1=C(/N=N/C2=CC=C(F)C=C2F)C(C)=NC(C)=NO1\t#e78ac3\n",
      "N#CC1=CC=C1/N=N/C2=CC=C(N)C=C2\t#e78ac3\n",
      "CC1=C(/N=N/C2=CC(Cl)=CC=C2CCl)C(C)=NO1\t#e78ac3\n",
      "FC1=CC=CC=C1/N=N/C2=CC=C(C(F)(F)F)C=C2\t#e78ac3\n",
      "CC1=C(C(N=N1)C(C)=N1)C(C)=NO1\t#e78ac3\n",
      "CN1C(/N=N/C2CC=CC=C2)=CC=C1\t#e78ac3\n",
      "CC1=NOC(C)=C1/N=N/C2=CC=C(N)C=C2\t#e78ac3\n",
      "CC1=C(/N=N/C2=CC=CC=C2N)C(C)=NO1\t#e78ac3\n",
      "CN1CC(C)=C1/N=N/C2=CC=CC=C2\t#e78ac3\n",
      "CC1=C(/N=N/C2=CC=CS2)C=C1\t#e78ac3\n",
      "CN1C(=N)C=CC=C1/N=N/C2=C(F)C=CC=C2\t#e78ac3\n",
      "CC1=C(C(C)=NN1)/N=N/C2=CC=C(C(F)F)C=C2\t#e78ac3\n",
      "FC1=CC=CC(F)=C1/N=N/C2=CC(OC)=CC=C2\t#e78ac3\n",
      "CC1=C(/N=N/C2=CC(C(F)F)C=C2F)C(C)=NO1\t#e78ac3\n",
      "CC1=NCC(C)=C1/N=N/C2=CC=C(I)C=C2\t#e78ac3\n",
      "FC1=CC=CC(F)=C1/N=N/C2=C(F)C=CC=C2\t#8da0cb\n",
      "CC1=C(C(C)=NN1)/N=N/C2=CC=C(C)C=C2\t#8da0cb\n",
      "CC1=C(/N=N/C2=CC=CC(C)=C2)C(C)=NO1\t#8da0cb\n",
      "CC1=NOC(C)=C1/N=N/C2=CC=C(OC)C=C2\t#8da0cb\n",
      "CC1=C(C(C)=NN1)/N=N/C2=CC=C(C(O)=O)C=C2\t#8da0cb\n",
      "CC1=C(C(C)=NN1)/N=N/C2=CC=CC=C2\t#8da0cb\n",
      "CC1=C(C(C)=NN1)/N=N/C2=CC=C(F)C=C2\t#8da0cb\n",
      "CC1=NOC(C)=C1/N=N/C2=CC=C(F)C=C2\t#8da0cb\n",
      "CC1=C(C(C)=NN1)/N=N/C2=CC=C(OC)C=C2\t#8da0cb\n",
      "CC1=C(C(C)=NN1)/N=N/C2=CC=C(C(F)(F)F)C=C2\t#8da0cb\n",
      "CC1=NOC(C)=C1/N=N/C2=CC=C(C)C=C2\t#8da0cb\n",
      "CC1=NOC(C)=C1/N=N/C2=CC(Cl)=CC=C2\t#8da0cb\n",
      "CC1=C(C(C)=NN1)/N=N/C2=CC=C(I)/C=C2\t#8da0cb\n",
      "CC1=NOC(C)=C1/N=N/C2=CC(OC)=CC=C2\t#8da0cb\n",
      "CC1=NOC(C)=C1/N=N/C2=CC(C(F)(F)F)=CC=C2\t#8da0cb\n",
      "CC1=NOC(C)=C1/N=N/C2=C(OC)C=CC=C2\t#8da0cb\n",
      "FC1=CC(C(OCC)=O)=CC(F)=C1/N=N/C2=CC=CC=C2\t#8da0cb\n",
      "CC1=C(C(C)=NN1)/N=N/C2=CC(OC)=CC=C2\t#8da0cb\n",
      "CC1=NOC(C)=C1/N=N/C2=C(Cl)C=CC=C2\t#8da0cb\n",
      "FC1=CC=CC(F)=C1/N=N/C2=CC=CC=C2\t#8da0cb\n",
      "CC1=NOC(C)=C1/N=N/C2=CC(C)=CC=C2\t#8da0cb\n",
      "CC1=NOC(C)=C1/N=N/C2=CC=C([N+]([O-])=O)C=C2\t#8da0cb\n",
      "CN(N=C1C)C(C)=C1/N=N/C2=C(Cl)C=CC=C2Cl\t#8da0cb\n",
      "C[N]1N=C(C)C(=C1C)N=NC2=CC=CC=C2\t#8da0cb\n",
      "C[N]1C=CC(=N1)N=NC2=CC=CC=C2\t#8da0cb\n",
      "CC1=C(C(C)=NN1)/N=N/C2=CC=C(Br)C=C2\t#8da0cb\n",
      "CC1=C(C(C)=NN1)/N=N/C2=CC(Cl)=CC=C2\t#8da0cb\n",
      "C\t#8da0cb\n",
      "CC1=C(/N=N/C2=CC=CC=C2)C(C)=NO1\t#8da0cb\n",
      "CC1=C(C(C)=NN1)/N=N/C2=C(C)C=CC=C2\t#8da0cb\n",
      "CC1=NOC(C)=C1/N=N/C2=CC=C(Cl)C=C2\t#8da0cb\n",
      "CC1=NOC(C)=C1/N=N/C2=CC=C(Br)C=C2\t#8da0cb\n",
      "CC1=NOC(C)=C1/N=N/C2=CC=CC=C2\t#8da0cb\n",
      "CC1=C(/N=N/C2=C/C=CC=C2Cl)C(C)=NO1\t#8da0cb\n",
      "N#CC1=CC=C(/N=N/C2=CC=CS2)C=C1\t#8da0cb\n",
      "CC1=C(C(C)=NN1)/N=N/C2=CC=C(Cl)C=C2\t#8da0cb\n",
      "CC1=C(C(C)=NN1)/N=N/C2=CC(F)=CC=C2\t#fc8d62\n",
      "CC1=NOC(C)=C1/N=N/C2=CC=C(C(F)(F)F)C=C2\t#fc8d62\n",
      "CC1=C(C(C)=NN1)/N=N/C2=CC(NC(C)=O)=CC=C2\t#fc8d62\n",
      "CC1=NOC(C)=C1/N=N/C2=C(Br)C=CC=C2\t#fc8d62\n",
      "CC1=NOC(C)=C1/N=N/C2=C(F)C=CC=C2\t#fc8d62\n",
      "CC1=C(C(C)=NN1)/N=N/C2=CC(Br)=CC=C2\t#fc8d62\n",
      "CC1=C(C(C)=NN1)/N=N/C2=CC(C(F)(F)F)=CC=C2\t#fc8d62\n",
      "COC(S1)=CC=C1/N=N/C2=CC=CC=C2\t#fc8d62\n",
      "CC1=C(C(C)=NN1)/N=N/C2=CC(O)=CC=C2\t#fc8d62\n",
      "CC1=NOC(C)=C1/N=N/C2=CC(Br)=CC=C2\t#fc8d62\n",
      "CC1=C(C(C)=NN1)/N=N/C2=C(Br)C=CC=C2\t#fc8d62\n",
      "COC1=CC=C(/N=N/C2=CC=CS2)C=C1\t#fc8d62\n",
      "N#CC1=CC(/N=N/C2=CC=CS2)=CC=C1\t#fc8d62\n",
      "CC1=NOC(C)=C1/N=N/C2=CC(O)=CC=C2\t#fc8d62\n",
      "C[N]1N=CC=C1N=NC2=CC=CC=C2\t#fc8d62\n",
      "CC(S1)=CC=C1/N=N/C2=CC=C(C#N)C=C2\t#fc8d62\n",
      "CC1=NOC(C)=C1/N=N/C2=CC=C(I)C=C2\t#fc8d62\n",
      "CC1=C(/N=N/C2=CC(F)=CC=C2F)C(C)=NO1\t#fc8d62\n",
      "CC1=NOC(C)=C1/N=N/C2=CC(F)=CC=C2\t#fc8d62\n",
      "C[N]1C=C(C)C(=N1)N=NC2=CC=CC=C2\t#fc8d62\n",
      "CC1=C(/N=N/C2=C(F)C=CC=C2F)C(C)=NO1\t#fc8d62\n",
      "CC1=C(/N=N/C2=CC=CC=C2C#N)C(C)=NO1\t#fc8d62\n",
      "CC1=NOC(C)=C1/N=N/C2=CC(NC(C)=O)=CC=C2\t#fc8d62\n",
      "CC1=NOC(C)=C1/N=N/C2=CC=C(NC(C)=O)C=C2\t#fc8d62\n",
      "CC1=C(C(C)=NN1)/N=N/C2=C(F)C=CC=C2\t#fc8d62\n",
      "CC1=CC=C(/N=N/C2=CC=CS2)C=C1\t#fc8d62\n",
      "CN(C)C(C=C1)=CC=C1/N=N/C2=CC=CC=C2[N+]([O-])=O\t#66c2a5\n",
      "N#CC(S1)=CC=C1/N=N/C2=CC=CC=C2\t#66c2a5\n",
      "[H]N(CCC#N)C(C=C7)=CC=C7/N=N/C8=CC=C([N+]([O-])=O)C=C8\t#66c2a5\n",
      "FC1=CC=CC(/N=N/C2=CC=CC(F)=C2)=C1\t#66c2a5\n",
      "CCc1nnc(s1)N=Nc1c(c2ccccc2)n(c2c1cccc2)C\t#66c2a5\n",
      "CCc1nnc(s1)N=Nc1c2ccccc2n(c1C)C\t#66c2a5\n",
      "OC1=C(/N=N/C2=CC=C(NC(C)=O)C=C2)C=C(C)C=C1\t#66c2a5\n",
      "CC%15=CC(N(CCO)CCC#N)=CC=C%15/N=N/C%16=CC=C([N+]([O-])=O)C=C%16\t#66c2a5\n",
      "CN1C(/N=N/C2=CC=CC=C2)=CC=C1\t#66c2a5\n",
      "Cn1c(C)c(c2c1cccc2)N=Nc1nncs1\t#66c2a5\n",
      "CCN(CCC#N)C(C=C%19)=CC=C%19/N=N/C%20=CC=C([N+]([O-])=O)C=C%20\t#66c2a5\n",
      "OC%14=C%15N=CC=CC%15=C(/N=N/C%16=NC(C%17=CC=CC=C%17)=CS%16)C=C%14\t#66c2a5\n",
      "N#CC1=CC=C(/N=N/C2=CC=CC=C2)C=C1\t#66c2a5\n",
      "ClC%11=CC([N+]([O-])=O)=CC(C#N)=C%11/N=N/C%12=CC(OC)=C(C=C%12)N(CC)CC\t#66c2a5\n",
      "OC%17=C(N=CC=C%18)C%18=C(/N=N/C%19=CC=C(Cl)C=C%19)C=C%17\t#66c2a5\n",
      "CC1=C(/N=N/C2=CC=CC=C2)C(C)=CC(C)=C1\t#66c2a5\n",
      "CC(C=C(N(CCC#N)CCO)C=C1)=C1/N=N/C2=CC(OC)=CC=C2\t#66c2a5\n",
      "ClC1=CC=CC=C1/N=N/C2=CC=C(NCCC#N)C=C2\t#66c2a5\n",
      "FC1=CC=CC=C1/N=N/C2=C(F)C=CC=C2\t#66c2a5\n",
      "C[N]1C=NC(=N1)N=NC2=CC=CC=C2\t#66c2a5\n",
      "CC(C=C(N(CCC#N)CCO)C=C1)=C1/N=N/C2=CC=CC(Br)=C2\t#66c2a5\n",
      "C[N]1C=C(C=N1)N=NC2=CC=CC=C2\t#66c2a5\n",
      "NC1=CC=CC=C1/N=N/C2=CC=CC=C2\t#66c2a5\n",
      "CC(C=C(N(CCC#N)CCO)C=C1)=C1/N=N/C2=CC=C([N+]([O-])=O)C=C2\t#66c2a5\n",
      "CC1=CC(/N=N/C2=CC(C)=C(C)C=C2)=CC=C1C\t#66c2a5\n",
      "CC(C=C(N(CCC#N)CCO)C=C1)=C1/N=N/C2=C(OC)C=CC=C2\t#66c2a5\n",
      "O=[N+]([O-])C1=CC=C(/N=N/C2=CC=C(C=C2)[N+]([O-])=O)C=C1\t#66c2a5\n",
      "CC1=C(/N=N/C2=CC=CC=C2)C=NC=C1\t#66c2a5\n",
      "O=[N+]([O-])C1=C(/N=N/C2=C([N+]([O-])=O)C=CC=C2)C=CC=C1\t#66c2a5\n",
      "COC(C=C1)=CC=C1N=NC2=NNC=C2\t#66c2a5\n",
      "FC(F)(F)C1=C(/N=N/C2=C(C(F)(F)F)C=CC=C2)C=CC=C1\t#66c2a5\n",
      "COC1=CC(/N=N/C2=CC=CS2)=CC=C1\t#66c2a5\n",
      "O=[N+]([O-])C1=CC=C(N=C(N=NC2=CC=CC=C2)S3)C3=C1\t#66c2a5\n",
      "CN(CCC#N)C(C=C%17)=CC=C%17/N=N/C%18=CC=C([N+]([O-])=O)C=C%18\t#66c2a5\n",
      "CC1=CC=C(/N=N/C2=CC=C(NCCC#N)C=C2)C=C1\t#66c2a5\n",
      "Oc1c(/C=N/c2c(C(C)C)cc(S(=O)(O)=O)cc2C(C)C)cc(/N=N/c3ccc([N+]([O-])=O)cc3)cc1\t#66c2a5\n",
      "OC%38=C%39N=CC=CC%39=C(/N=N/C%40=NC%41=CC(C)=C(C)C=C%41S%40)C=C%38\t#66c2a5\n",
      "FC(F)(F)C1=CC=C(/N=N/C2=CC=CC=C2)C=C1\t#66c2a5\n",
      "O=C1C=CC(N1C2=CC=C(/N=N/C3=CC=CC=C3)C=C2)=O\t#66c2a5\n",
      "COC(S1)=CC=C1/N=N/C2=CC=C(C#N)C=C2\t#66c2a5\n",
      "[H]C1=CC([N+]([O-])=O)=CC([H])=C1/N=N/C2=CC([H])=C(C=C2[H])N(CC)CC\t#66c2a5\n",
      "OC%22=C%23N=CC=CC%23=C(/N=N/C%24=NC(C%25=CC=C(Br)C=C%25)=CS%24)C=C%22\t#66c2a5\n",
      "N#CCCNC(C=C1)=CC=C1/N=N/C2=CC=CC(OC)=C2\t#66c2a5\n",
      "O=C(C)NC(C=C%31)=CC=C%31N=NC%32=NC%33=CC=C([N+]([O-])=O)C=C%33S%32\t#66c2a5\n",
      "CC(C=C1)=CC=C1/N=N/C2=CC=C(N(CC)CC)C=C2\t#66c2a5\n",
      "CC1=CC(Cl)=CC=C1/N=N/C2=C(C)C=C(Cl)C=C2\t#66c2a5\n",
      "[H]C%10=CC=C(N=C(N=NC%11=C(NC(C)=O)C=CC=C%11)S%12)C%12=C%10\t#66c2a5\n",
      "FC1=C(F)C(F)=C(F)C(F)=C1/N=N/C2=C(F)C(F)=C(F)C(F)=C2F\t#66c2a5\n",
      "[H]C%22=CC=C(N=C(N=NC%23=CC=CC=C%23SC)S%24)C%24=C%22\t#66c2a5\n",
      "CN(C)C1=CC=C(/N=N/C2=CC=C(C(OC)=O)C=C2)C=C1\t#66c2a5\n",
      "N#CCCN(CCC#N)C(C=C%23)=CC=C%23/N=N/C%24=CC=C([N+]([O-])=O)C=C%24\t#66c2a5\n"
     ]
    }
   ],
   "source": [
    "\n",
    "import random\n",
    "\n",
    "lines = []\n",
    "\n",
    "for i, v in enumerate(list(novel_smiles)):\n",
    "    v = v.split()[0]\n",
    "    lines.append(f\"{v}\\t{color1}\")\n",
    "\n",
    "for i, v in enumerate(list(pubchem_smiles)):\n",
    "    v = v.split()[0]\n",
    "    lines.append(f\"{v}\\t{color2}\")\n",
    "\n",
    "for i, v in enumerate(list(database_smiles)):\n",
    "    v = v.split()[0]\n",
    "    lines.append(f\"{v}\\t{color3}\")\n",
    "\n",
    "for i, v in enumerate(random.sample(list(database_not_generated_smiles), 150-len(novel_smiles) - len(pubchem_smiles) - len(database_smiles) )):\n",
    "    v = v.split()[0]\n",
    "    lines.append(f\"{v}\\t{color4}\")\n",
    "\n",
    "for line in lines:\n",
    "    print(line)"
   ]
  },
  {
   "cell_type": "markdown",
   "metadata": {},
   "source": [
    "## Find some candidates for further investigation"
   ]
  },
  {
   "cell_type": "code",
   "execution_count": null,
   "metadata": {},
   "outputs": [],
   "source": []
  },
  {
   "cell_type": "code",
   "execution_count": null,
   "metadata": {},
   "outputs": [],
   "source": []
  },
  {
   "cell_type": "code",
   "execution_count": null,
   "metadata": {},
   "outputs": [],
   "source": []
  },
  {
   "cell_type": "code",
   "execution_count": null,
   "metadata": {},
   "outputs": [],
   "source": []
  },
  {
   "cell_type": "code",
   "execution_count": null,
   "metadata": {},
   "outputs": [],
   "source": []
  },
  {
   "cell_type": "code",
   "execution_count": null,
   "metadata": {},
   "outputs": [],
   "source": []
  },
  {
   "cell_type": "code",
   "execution_count": null,
   "metadata": {},
   "outputs": [],
   "source": []
  },
  {
   "cell_type": "code",
   "execution_count": null,
   "metadata": {},
   "outputs": [],
   "source": []
  },
  {
   "cell_type": "code",
   "execution_count": null,
   "metadata": {},
   "outputs": [],
   "source": []
  }
 ],
 "metadata": {
  "kernelspec": {
   "display_name": "gptchem",
   "language": "python",
   "name": "python3"
  },
  "language_info": {
   "codemirror_mode": {
    "name": "ipython",
    "version": 3
   },
   "file_extension": ".py",
   "mimetype": "text/x-python",
   "name": "python",
   "nbconvert_exporter": "python",
   "pygments_lexer": "ipython3",
   "version": "3.9.15"
  },
  "orig_nbformat": 4,
  "vscode": {
   "interpreter": {
    "hash": "2f3b9074e5baa1438c27e2ea813f7f53b7516c83bd70840b6d64eae6820ee5df"
   }
  }
 },
 "nbformat": 4,
 "nbformat_minor": 2
}
