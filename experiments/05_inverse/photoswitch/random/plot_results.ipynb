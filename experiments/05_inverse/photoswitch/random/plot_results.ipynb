{
 "cells": [
  {
   "cell_type": "code",
   "execution_count": 1,
   "metadata": {},
   "outputs": [],
   "source": [
    "%load_ext autoreload\n",
    "%autoreload 2"
   ]
  },
  {
   "cell_type": "code",
   "execution_count": 2,
   "metadata": {},
   "outputs": [],
   "source": [
    "from glob import glob\n",
    "\n",
    "import matplotlib as mpl\n",
    "import matplotlib.pyplot as plt\n",
    "import pandas as pd\n",
    "from fastcore.xtras import load_pickle\n",
    "from guacamol.utils.chemistry import is_valid\n",
    "\n",
    "from gptchem.data import get_photoswitch_data\n",
    "from gptchem.evaluator import evaluate_generated_smiles, evaluate_photoswitch_smiles_pred\n",
    "from gptchem.settings import ONE_COL_GOLDEN_RATIO_HEIGHT_INCH, ONE_COL_WIDTH_INCH\n",
    "\n",
    "mpl.rcParams.update(mpl.rcParamsDefault)\n",
    "plt.style.use([\"science\", \"nature\"])\n",
    "\n",
    "import matplotx\n",
    "\n",
    "%matplotlib inline"
   ]
  },
  {
   "cell_type": "code",
   "execution_count": 3,
   "metadata": {},
   "outputs": [],
   "source": [
    "from rdkit import Chem"
   ]
  },
  {
   "cell_type": "code",
   "execution_count": 4,
   "metadata": {},
   "outputs": [],
   "source": [
    "all_res = glob(\"out/**/*.pkl\")"
   ]
  },
  {
   "cell_type": "code",
   "execution_count": 5,
   "metadata": {},
   "outputs": [],
   "source": [
    "res = load_pickle(all_res[0])"
   ]
  },
  {
   "cell_type": "code",
   "execution_count": 6,
   "metadata": {},
   "outputs": [],
   "source": [
    "from collections import defaultdict"
   ]
  },
  {
   "cell_type": "code",
   "execution_count": 7,
   "metadata": {},
   "outputs": [],
   "source": [
    "def contains_azo(smiles):\n",
    "    mol = Chem.MolFromSmiles(smiles)\n",
    "    # check if there is a N#N bond\n",
    "    smarts = \"[NX2]=N\"\n",
    "    return mol.HasSubstructMatch(Chem.MolFromSmarts(smarts))"
   ]
  },
  {
   "cell_type": "code",
   "execution_count": 8,
   "metadata": {},
   "outputs": [],
   "source": [
    "compiled_res = []\n",
    "generated_smiles = set()\n",
    "generated_smiles_w_azos = set()\n",
    "\n",
    "generated_smiles_w_azos_at_temp = defaultdict(set)\n",
    "generated_smiles_at_temp = defaultdict(set)\n",
    "\n",
    "for res_path in all_res:\n",
    "    res = load_pickle(res_path)\n",
    "    for temp_res in res[\"res_at_temp\"]:\n",
    "\n",
    "        metrics = {\n",
    "            \"noise_level\": res[\"noise_level\"],\n",
    "            \"temp\": temp_res[\"temperature\"],\n",
    "            \"frac_valid\": temp_res[\"frac_valid\"],\n",
    "            \"frac_unique\": temp_res[\"frac_unique\"],\n",
    "            \"frac_smiles_in_train\": temp_res[\"frac_smiles_in_train\"],\n",
    "            \"frac_smiles_in_pubchem\": temp_res[\"frac_smiles_in_pubchem\"],\n",
    "            \"kld\": temp_res[\"kld\"],\n",
    "            \"frechet_d\": temp_res[\"frechet_d\"],\n",
    "            \"frechet_score\": temp_res[\"frechet_score\"],\n",
    "            \"frac_contains_azo\": sum([contains_azo(s) for s in temp_res[\"valid_smiles\"]])\n",
    "            / len(temp_res[\"valid_smiles\"]),\n",
    "        }\n",
    "\n",
    "        generated_smiles.update([s for s in temp_res[\"generated_smiles\"] if is_valid(s)])\n",
    "        v_w_azo = [s for s in temp_res[\"generated_smiles\"] if is_valid(s) and contains_azo(s)]\n",
    "        generated_smiles_w_azos.update(v_w_azo)\n",
    "        generated_smiles_w_azos_at_temp[temp_res[\"temperature\"]].update(v_w_azo)\n",
    "\n",
    "        v = [s for s in temp_res[\"generated_smiles\"] if is_valid(s)]\n",
    "        generated_smiles_at_temp[temp_res[\"temperature\"]].update(v)\n",
    "\n",
    "        for me, v in temp_res[\"e_pi_pi_star_metrics\"].items():\n",
    "            metrics[\"e_pi_pi_star_\" + me] = v\n",
    "\n",
    "        for me, v in temp_res[\"z_pi_pi_star_metrics\"].items():\n",
    "            metrics[\"z_pi_pi_star_\" + me] = v\n",
    "        compiled_res.append(metrics)"
   ]
  },
  {
   "cell_type": "code",
   "execution_count": 9,
   "metadata": {},
   "outputs": [
    {
     "data": {
      "text/plain": [
       "True"
      ]
     },
     "execution_count": 9,
     "metadata": {},
     "output_type": "execute_result"
    }
   ],
   "source": [
    "contains_azo(list(generated_smiles)[5])"
   ]
  },
  {
   "cell_type": "code",
   "execution_count": 10,
   "metadata": {},
   "outputs": [
    {
     "data": {
      "image/png": "[encoded data removed]",
      "text/plain": [
       "<rdkit.Chem.rdchem.Mol at 0x2ac88b510>"
      ]
     },
     "execution_count": 10,
     "metadata": {},
     "output_type": "execute_result"
    }
   ],
   "source": [
    "Chem.MolFromSmiles(list(generated_smiles)[0])"
   ]
  },
  {
   "cell_type": "code",
   "execution_count": 11,
   "metadata": {},
   "outputs": [],
   "source": [
    "df = pd.DataFrame(compiled_res)"
   ]
  },
  {
   "cell_type": "code",
   "execution_count": 12,
   "metadata": {},
   "outputs": [],
   "source": [
    "grouped = df.groupby([\"temp\"]).agg([\"mean\", \"std\"])"
   ]
  },
  {
   "cell_type": "code",
   "execution_count": 13,
   "metadata": {},
   "outputs": [
    {
     "data": {
      "text/html": [
       "<div>\n",
       "<style scoped>\n",
       "    .dataframe tbody tr th:only-of-type {\n",
       "        vertical-align: middle;\n",
       "    }\n",
       "\n",
       "    .dataframe tbody tr th {\n",
       "        vertical-align: top;\n",
       "    }\n",
       "\n",
       "    .dataframe thead tr th {\n",
       "        text-align: left;\n",
       "    }\n",
       "\n",
       "    .dataframe thead tr:last-of-type th {\n",
       "        text-align: right;\n",
       "    }\n",
       "</style>\n",
       "<table border=\"1\" class=\"dataframe\">\n",
       "  <thead>\n",
       "    <tr>\n",
       "      <th></th>\n",
       "      <th colspan=\"2\" halign=\"left\">noise_level</th>\n",
       "      <th colspan=\"2\" halign=\"left\">frac_valid</th>\n",
       "      <th colspan=\"2\" halign=\"left\">frac_unique</th>\n",
       "      <th colspan=\"2\" halign=\"left\">frac_smiles_in_train</th>\n",
       "      <th colspan=\"2\" halign=\"left\">frac_smiles_in_pubchem</th>\n",
       "      <th>...</th>\n",
       "      <th colspan=\"2\" halign=\"left\">z_pi_pi_star_r2</th>\n",
       "      <th colspan=\"2\" halign=\"left\">z_pi_pi_star_max_error</th>\n",
       "      <th colspan=\"2\" halign=\"left\">z_pi_pi_star_mean_absolute_error</th>\n",
       "      <th colspan=\"2\" halign=\"left\">z_pi_pi_star_mean_squared_error</th>\n",
       "      <th colspan=\"2\" halign=\"left\">z_pi_pi_star_rmse</th>\n",
       "    </tr>\n",
       "    <tr>\n",
       "      <th></th>\n",
       "      <th>mean</th>\n",
       "      <th>std</th>\n",
       "      <th>mean</th>\n",
       "      <th>std</th>\n",
       "      <th>mean</th>\n",
       "      <th>std</th>\n",
       "      <th>mean</th>\n",
       "      <th>std</th>\n",
       "      <th>mean</th>\n",
       "      <th>std</th>\n",
       "      <th>...</th>\n",
       "      <th>mean</th>\n",
       "      <th>std</th>\n",
       "      <th>mean</th>\n",
       "      <th>std</th>\n",
       "      <th>mean</th>\n",
       "      <th>std</th>\n",
       "      <th>mean</th>\n",
       "      <th>std</th>\n",
       "      <th>mean</th>\n",
       "      <th>std</th>\n",
       "    </tr>\n",
       "    <tr>\n",
       "      <th>temp</th>\n",
       "      <th></th>\n",
       "      <th></th>\n",
       "      <th></th>\n",
       "      <th></th>\n",
       "      <th></th>\n",
       "      <th></th>\n",
       "      <th></th>\n",
       "      <th></th>\n",
       "      <th></th>\n",
       "      <th></th>\n",
       "      <th></th>\n",
       "      <th></th>\n",
       "      <th></th>\n",
       "      <th></th>\n",
       "      <th></th>\n",
       "      <th></th>\n",
       "      <th></th>\n",
       "      <th></th>\n",
       "      <th></th>\n",
       "      <th></th>\n",
       "      <th></th>\n",
       "    </tr>\n",
       "  </thead>\n",
       "  <tbody>\n",
       "    <tr>\n",
       "      <th>0.00</th>\n",
       "      <td>8.795455</td>\n",
       "      <td>14.605657</td>\n",
       "      <td>0.990119</td>\n",
       "      <td>0.039677</td>\n",
       "      <td>0.035801</td>\n",
       "      <td>0.020283</td>\n",
       "      <td>0.0</td>\n",
       "      <td>0.0</td>\n",
       "      <td>1.00000</td>\n",
       "      <td>0.000000</td>\n",
       "      <td>...</td>\n",
       "      <td>-0.039003</td>\n",
       "      <td>0.054202</td>\n",
       "      <td>62.605635</td>\n",
       "      <td>26.657359</td>\n",
       "      <td>17.455859</td>\n",
       "      <td>8.627077</td>\n",
       "      <td>641.252528</td>\n",
       "      <td>770.419877</td>\n",
       "      <td>23.078591</td>\n",
       "      <td>10.667899</td>\n",
       "    </tr>\n",
       "    <tr>\n",
       "      <th>0.10</th>\n",
       "      <td>8.795455</td>\n",
       "      <td>14.605657</td>\n",
       "      <td>0.982213</td>\n",
       "      <td>0.035744</td>\n",
       "      <td>0.063274</td>\n",
       "      <td>0.031656</td>\n",
       "      <td>0.0</td>\n",
       "      <td>0.0</td>\n",
       "      <td>1.00000</td>\n",
       "      <td>0.000000</td>\n",
       "      <td>...</td>\n",
       "      <td>-0.032567</td>\n",
       "      <td>0.041412</td>\n",
       "      <td>62.921448</td>\n",
       "      <td>27.610857</td>\n",
       "      <td>17.479638</td>\n",
       "      <td>8.516610</td>\n",
       "      <td>641.350411</td>\n",
       "      <td>772.190036</td>\n",
       "      <td>23.097006</td>\n",
       "      <td>10.630889</td>\n",
       "    </tr>\n",
       "    <tr>\n",
       "      <th>0.20</th>\n",
       "      <td>8.795455</td>\n",
       "      <td>14.605657</td>\n",
       "      <td>0.975791</td>\n",
       "      <td>0.035805</td>\n",
       "      <td>0.125734</td>\n",
       "      <td>0.036822</td>\n",
       "      <td>0.0</td>\n",
       "      <td>0.0</td>\n",
       "      <td>1.00000</td>\n",
       "      <td>0.000000</td>\n",
       "      <td>...</td>\n",
       "      <td>-0.068512</td>\n",
       "      <td>0.061114</td>\n",
       "      <td>63.979738</td>\n",
       "      <td>26.337726</td>\n",
       "      <td>17.828361</td>\n",
       "      <td>8.895970</td>\n",
       "      <td>664.477033</td>\n",
       "      <td>797.632561</td>\n",
       "      <td>23.478114</td>\n",
       "      <td>10.892580</td>\n",
       "    </tr>\n",
       "    <tr>\n",
       "      <th>0.50</th>\n",
       "      <td>8.795455</td>\n",
       "      <td>14.605657</td>\n",
       "      <td>0.972332</td>\n",
       "      <td>0.015992</td>\n",
       "      <td>0.378159</td>\n",
       "      <td>0.042755</td>\n",
       "      <td>0.0</td>\n",
       "      <td>0.0</td>\n",
       "      <td>1.00000</td>\n",
       "      <td>0.000000</td>\n",
       "      <td>...</td>\n",
       "      <td>-0.140544</td>\n",
       "      <td>0.101781</td>\n",
       "      <td>72.040015</td>\n",
       "      <td>27.679257</td>\n",
       "      <td>18.143392</td>\n",
       "      <td>8.557321</td>\n",
       "      <td>688.725763</td>\n",
       "      <td>784.583526</td>\n",
       "      <td>24.129607</td>\n",
       "      <td>10.562134</td>\n",
       "    </tr>\n",
       "    <tr>\n",
       "      <th>0.75</th>\n",
       "      <td>8.795455</td>\n",
       "      <td>14.605657</td>\n",
       "      <td>0.904150</td>\n",
       "      <td>0.034149</td>\n",
       "      <td>0.569111</td>\n",
       "      <td>0.042501</td>\n",
       "      <td>0.0</td>\n",
       "      <td>0.0</td>\n",
       "      <td>1.00000</td>\n",
       "      <td>0.000000</td>\n",
       "      <td>...</td>\n",
       "      <td>-0.200312</td>\n",
       "      <td>0.156756</td>\n",
       "      <td>74.004944</td>\n",
       "      <td>26.295129</td>\n",
       "      <td>18.133473</td>\n",
       "      <td>8.740847</td>\n",
       "      <td>710.873683</td>\n",
       "      <td>852.955109</td>\n",
       "      <td>24.397028</td>\n",
       "      <td>11.007554</td>\n",
       "    </tr>\n",
       "    <tr>\n",
       "      <th>1.00</th>\n",
       "      <td>8.795455</td>\n",
       "      <td>14.605657</td>\n",
       "      <td>0.697134</td>\n",
       "      <td>0.048063</td>\n",
       "      <td>0.765702</td>\n",
       "      <td>0.052566</td>\n",
       "      <td>0.0</td>\n",
       "      <td>0.0</td>\n",
       "      <td>1.00000</td>\n",
       "      <td>0.000000</td>\n",
       "      <td>...</td>\n",
       "      <td>-0.310559</td>\n",
       "      <td>0.220785</td>\n",
       "      <td>71.309080</td>\n",
       "      <td>20.537239</td>\n",
       "      <td>18.923018</td>\n",
       "      <td>8.133444</td>\n",
       "      <td>733.071670</td>\n",
       "      <td>714.310083</td>\n",
       "      <td>25.310420</td>\n",
       "      <td>9.841591</td>\n",
       "    </tr>\n",
       "    <tr>\n",
       "      <th>1.25</th>\n",
       "      <td>8.795455</td>\n",
       "      <td>14.605657</td>\n",
       "      <td>0.328063</td>\n",
       "      <td>0.047514</td>\n",
       "      <td>0.910613</td>\n",
       "      <td>0.062158</td>\n",
       "      <td>0.0</td>\n",
       "      <td>0.0</td>\n",
       "      <td>1.00000</td>\n",
       "      <td>0.000000</td>\n",
       "      <td>...</td>\n",
       "      <td>-0.481394</td>\n",
       "      <td>0.374110</td>\n",
       "      <td>58.007739</td>\n",
       "      <td>18.597581</td>\n",
       "      <td>18.910230</td>\n",
       "      <td>6.845933</td>\n",
       "      <td>663.470497</td>\n",
       "      <td>580.870825</td>\n",
       "      <td>24.405760</td>\n",
       "      <td>8.429671</td>\n",
       "    </tr>\n",
       "    <tr>\n",
       "      <th>1.50</th>\n",
       "      <td>8.795455</td>\n",
       "      <td>14.605657</td>\n",
       "      <td>0.119565</td>\n",
       "      <td>0.034373</td>\n",
       "      <td>1.000000</td>\n",
       "      <td>0.000000</td>\n",
       "      <td>0.0</td>\n",
       "      <td>0.0</td>\n",
       "      <td>1.00000</td>\n",
       "      <td>0.000000</td>\n",
       "      <td>...</td>\n",
       "      <td>-3.219314</td>\n",
       "      <td>4.619669</td>\n",
       "      <td>64.198918</td>\n",
       "      <td>27.520313</td>\n",
       "      <td>29.655726</td>\n",
       "      <td>12.866272</td>\n",
       "      <td>1453.138964</td>\n",
       "      <td>1695.074303</td>\n",
       "      <td>35.318594</td>\n",
       "      <td>14.681037</td>\n",
       "    </tr>\n",
       "    <tr>\n",
       "      <th>2.00</th>\n",
       "      <td>8.795455</td>\n",
       "      <td>14.605657</td>\n",
       "      <td>0.125000</td>\n",
       "      <td>0.035619</td>\n",
       "      <td>1.000000</td>\n",
       "      <td>0.000000</td>\n",
       "      <td>0.0</td>\n",
       "      <td>0.0</td>\n",
       "      <td>0.98514</td>\n",
       "      <td>0.041278</td>\n",
       "      <td>...</td>\n",
       "      <td>-4.269248</td>\n",
       "      <td>3.374932</td>\n",
       "      <td>69.750942</td>\n",
       "      <td>18.374038</td>\n",
       "      <td>34.175314</td>\n",
       "      <td>4.808963</td>\n",
       "      <td>1562.708521</td>\n",
       "      <td>513.440050</td>\n",
       "      <td>39.077458</td>\n",
       "      <td>6.112197</td>\n",
       "    </tr>\n",
       "  </tbody>\n",
       "</table>\n",
       "<p>9 rows × 38 columns</p>\n",
       "</div>"
      ],
      "text/plain": [
       "     noise_level            frac_valid           frac_unique            \\\n",
       "            mean        std       mean       std        mean       std   \n",
       "temp                                                                     \n",
       "0.00    8.795455  14.605657   0.990119  0.039677    0.035801  0.020283   \n",
       "0.10    8.795455  14.605657   0.982213  0.035744    0.063274  0.031656   \n",
       "0.20    8.795455  14.605657   0.975791  0.035805    0.125734  0.036822   \n",
       "0.50    8.795455  14.605657   0.972332  0.015992    0.378159  0.042755   \n",
       "0.75    8.795455  14.605657   0.904150  0.034149    0.569111  0.042501   \n",
       "1.00    8.795455  14.605657   0.697134  0.048063    0.765702  0.052566   \n",
       "1.25    8.795455  14.605657   0.328063  0.047514    0.910613  0.062158   \n",
       "1.50    8.795455  14.605657   0.119565  0.034373    1.000000  0.000000   \n",
       "2.00    8.795455  14.605657   0.125000  0.035619    1.000000  0.000000   \n",
       "\n",
       "     frac_smiles_in_train      frac_smiles_in_pubchem            ...  \\\n",
       "                     mean  std                   mean       std  ...   \n",
       "temp                                                             ...   \n",
       "0.00                  0.0  0.0                1.00000  0.000000  ...   \n",
       "0.10                  0.0  0.0                1.00000  0.000000  ...   \n",
       "0.20                  0.0  0.0                1.00000  0.000000  ...   \n",
       "0.50                  0.0  0.0                1.00000  0.000000  ...   \n",
       "0.75                  0.0  0.0                1.00000  0.000000  ...   \n",
       "1.00                  0.0  0.0                1.00000  0.000000  ...   \n",
       "1.25                  0.0  0.0                1.00000  0.000000  ...   \n",
       "1.50                  0.0  0.0                1.00000  0.000000  ...   \n",
       "2.00                  0.0  0.0                0.98514  0.041278  ...   \n",
       "\n",
       "     z_pi_pi_star_r2           z_pi_pi_star_max_error             \\\n",
       "                mean       std                   mean        std   \n",
       "temp                                                               \n",
       "0.00       -0.039003  0.054202              62.605635  26.657359   \n",
       "0.10       -0.032567  0.041412              62.921448  27.610857   \n",
       "0.20       -0.068512  0.061114              63.979738  26.337726   \n",
       "0.50       -0.140544  0.101781              72.040015  27.679257   \n",
       "0.75       -0.200312  0.156756              74.004944  26.295129   \n",
       "1.00       -0.310559  0.220785              71.309080  20.537239   \n",
       "1.25       -0.481394  0.374110              58.007739  18.597581   \n",
       "1.50       -3.219314  4.619669              64.198918  27.520313   \n",
       "2.00       -4.269248  3.374932              69.750942  18.374038   \n",
       "\n",
       "     z_pi_pi_star_mean_absolute_error             \\\n",
       "                                 mean        std   \n",
       "temp                                               \n",
       "0.00                        17.455859   8.627077   \n",
       "0.10                        17.479638   8.516610   \n",
       "0.20                        17.828361   8.895970   \n",
       "0.50                        18.143392   8.557321   \n",
       "0.75                        18.133473   8.740847   \n",
       "1.00                        18.923018   8.133444   \n",
       "1.25                        18.910230   6.845933   \n",
       "1.50                        29.655726  12.866272   \n",
       "2.00                        34.175314   4.808963   \n",
       "\n",
       "     z_pi_pi_star_mean_squared_error              z_pi_pi_star_rmse             \n",
       "                                mean          std              mean        std  \n",
       "temp                                                                            \n",
       "0.00                      641.252528   770.419877         23.078591  10.667899  \n",
       "0.10                      641.350411   772.190036         23.097006  10.630889  \n",
       "0.20                      664.477033   797.632561         23.478114  10.892580  \n",
       "0.50                      688.725763   784.583526         24.129607  10.562134  \n",
       "0.75                      710.873683   852.955109         24.397028  11.007554  \n",
       "1.00                      733.071670   714.310083         25.310420   9.841591  \n",
       "1.25                      663.470497   580.870825         24.405760   8.429671  \n",
       "1.50                     1453.138964  1695.074303         35.318594  14.681037  \n",
       "2.00                     1562.708521   513.440050         39.077458   6.112197  \n",
       "\n",
       "[9 rows x 38 columns]"
      ]
     },
     "execution_count": 13,
     "metadata": {},
     "output_type": "execute_result"
    }
   ],
   "source": [
    "grouped"
   ]
  },
  {
   "cell_type": "code",
   "execution_count": 14,
   "metadata": {},
   "outputs": [
    {
     "data": {
      "image/png": "[encoded data removed]",
      "text/plain": [
       "<Figure size 325x650 with 7 Axes>"
      ]
     },
     "metadata": {},
     "output_type": "display_data"
    }
   ],
   "source": [
    "with plt.style.context(matplotx.styles.dufte):\n",
    "    fig, ax = plt.subplots(7, 1, sharex=\"all\", figsize=(ONE_COL_WIDTH_INCH, 2 * ONE_COL_WIDTH_INCH))\n",
    "    ax[0].plot(grouped.index, grouped[\"frac_valid\"][\"mean\"], label=\"frac_valid\")\n",
    "    ax[0].fill_between(\n",
    "        grouped.index,\n",
    "        grouped[\"frac_valid\"][\"mean\"] - grouped[\"frac_valid\"][\"std\"],\n",
    "        grouped[\"frac_valid\"][\"mean\"] + grouped[\"frac_valid\"][\"std\"],\n",
    "        alpha=0.2,\n",
    "    )\n",
    "\n",
    "    matplotx.ylabel_top(\"frac. valid SMILES\", ax=ax[0])\n",
    "\n",
    "    ax[1].plot(grouped.index, grouped[\"frac_unique\"][\"mean\"], label=\"frac_unique\")\n",
    "    ax[1].fill_between(\n",
    "        grouped.index,\n",
    "        grouped[\"frac_unique\"][\"mean\"] - grouped[\"frac_unique\"][\"std\"],\n",
    "        grouped[\"frac_unique\"][\"mean\"] + grouped[\"frac_unique\"][\"std\"],\n",
    "        alpha=0.2,\n",
    "    )\n",
    "\n",
    "    matplotx.ylabel_top(\"frac. unique SMILES\", ax=ax[1])\n",
    "\n",
    "    ax[2].plot(grouped.index, grouped[\"frac_smiles_in_train\"][\"mean\"], label=\"frac_smiles_in_train\")\n",
    "    ax[2].fill_between(\n",
    "        grouped.index,\n",
    "        grouped[\"frac_smiles_in_train\"][\"mean\"] - grouped[\"frac_smiles_in_train\"][\"std\"],\n",
    "        grouped[\"frac_smiles_in_train\"][\"mean\"] + grouped[\"frac_smiles_in_train\"][\"std\"],\n",
    "        alpha=0.2,\n",
    "    )\n",
    "\n",
    "    matplotx.ylabel_top(\"frac. SMILES in train\", ax=ax[2])\n",
    "\n",
    "    ax[3].plot(\n",
    "        grouped.index, grouped[\"frac_smiles_in_pubchem\"][\"mean\"], label=\"frac_smiles_in_pubchem\"\n",
    "    )\n",
    "    ax[3].fill_between(\n",
    "        grouped.index,\n",
    "        grouped[\"frac_smiles_in_pubchem\"][\"mean\"] - grouped[\"frac_smiles_in_pubchem\"][\"std\"],\n",
    "        grouped[\"frac_smiles_in_pubchem\"][\"mean\"] + grouped[\"frac_smiles_in_pubchem\"][\"std\"],\n",
    "        alpha=0.2,\n",
    "    )\n",
    "\n",
    "    matplotx.ylabel_top(\"frac. SMILES in PubChem\", ax=ax[3])\n",
    "\n",
    "    ax[4].plot(grouped.index, grouped[\"kld\"][\"mean\"], label=\"kld\")\n",
    "    ax[4].fill_between(\n",
    "        grouped.index,\n",
    "        grouped[\"kld\"][\"mean\"] - grouped[\"kld\"][\"std\"],\n",
    "        grouped[\"kld\"][\"mean\"] + grouped[\"kld\"][\"std\"],\n",
    "        alpha=0.2,\n",
    "    )\n",
    "\n",
    "    matplotx.ylabel_top(\"KLD\", ax=ax[4])\n",
    "\n",
    "    ax[5].plot(grouped.index, grouped[\"frechet_d\"][\"mean\"], label=\"frechet_d\")\n",
    "    ax[5].fill_between(\n",
    "        grouped.index,\n",
    "        grouped[\"frechet_d\"][\"mean\"] - grouped[\"frechet_d\"][\"std\"],\n",
    "        grouped[\"frechet_d\"][\"mean\"] + grouped[\"frechet_d\"][\"std\"],\n",
    "        alpha=0.2,\n",
    "    )\n",
    "\n",
    "    matplotx.ylabel_top(\"Frechet distance\", ax=ax[5])\n",
    "\n",
    "    ax[6].plot(grouped.index, grouped[\"frac_contains_azo\"][\"mean\"], label=\"frechet_score\")\n",
    "    ax[6].fill_between(\n",
    "        grouped.index,\n",
    "        grouped[\"frac_contains_azo\"][\"mean\"] - grouped[\"frac_contains_azo\"][\"std\"],\n",
    "        grouped[\"frac_contains_azo\"][\"mean\"] + grouped[\"frac_contains_azo\"][\"std\"],\n",
    "        alpha=0.2,\n",
    "    )\n",
    "\n",
    "    matplotx.ylabel_top(\"frac. SMILES with azo\", ax=ax[6])\n",
    "\n",
    "    ax[-1].set_xlabel(\"temperature\", labelpad=4)\n",
    "\n",
    "    fig.savefig(\"photoswitch_random_smiles_metrics.pdf\", bbox_inches=\"tight\")"
   ]
  },
  {
   "cell_type": "code",
   "execution_count": 15,
   "metadata": {},
   "outputs": [
    {
     "data": {
      "image/png": "[encoded data removed]",
      "text/plain": [
       "<Figure size 325x200.861 with 2 Axes>"
      ]
     },
     "metadata": {},
     "output_type": "display_data"
    }
   ],
   "source": [
    "with plt.style.context(matplotx.styles.dufte):\n",
    "    fig, ax = plt.subplots(\n",
    "        2, 1, sharex=\"all\", figsize=(ONE_COL_WIDTH_INCH, ONE_COL_GOLDEN_RATIO_HEIGHT_INCH)\n",
    "    )\n",
    "\n",
    "    ax[0].plot(\n",
    "        grouped.index,\n",
    "        grouped[\"z_pi_pi_star_mean_absolute_error\"][\"mean\"],\n",
    "        label=\"e_pi_pi_star_metrics\",\n",
    "    )\n",
    "    ax[0].fill_between(\n",
    "        grouped.index,\n",
    "        grouped[\"z_pi_pi_star_mean_absolute_error\"][\"mean\"]\n",
    "        - grouped[\"z_pi_pi_star_mean_absolute_error\"][\"std\"],\n",
    "        grouped[\"z_pi_pi_star_mean_absolute_error\"][\"mean\"]\n",
    "        + grouped[\"z_pi_pi_star_mean_absolute_error\"][\"std\"],\n",
    "        alpha=0.2,\n",
    "    )\n",
    "\n",
    "    matplotx.ylabel_top(\"Z isomer MAE\", ax=ax[0])\n",
    "\n",
    "    ax[0].hlines(11.616605626696359, 0, 2, color=\"k\", linestyle=\"--\")\n",
    "\n",
    "    ax[0].set_ylim(8, 35)\n",
    "\n",
    "    ax[1].plot(\n",
    "        grouped.index,\n",
    "        grouped[\"e_pi_pi_star_mean_absolute_error\"][\"mean\"],\n",
    "        label=\"e_pi_pi_star_metrics\",\n",
    "    )\n",
    "    ax[1].fill_between(\n",
    "        grouped.index,\n",
    "        grouped[\"e_pi_pi_star_mean_absolute_error\"][\"mean\"]\n",
    "        - grouped[\"e_pi_pi_star_mean_absolute_error\"][\"std\"],\n",
    "        grouped[\"e_pi_pi_star_mean_absolute_error\"][\"mean\"]\n",
    "        + grouped[\"e_pi_pi_star_mean_absolute_error\"][\"std\"],\n",
    "        alpha=0.2,\n",
    "    )\n",
    "\n",
    "    matplotx.ylabel_top(\"E isomer MAE\", ax=ax[1])\n",
    "\n",
    "    ax[1].hlines(14.38998132190228, 0, 2, color=\"k\", linestyle=\"--\")\n",
    "\n",
    "    ax[-1].set_xlabel(\"temperature\", labelpad=4)\n",
    "    ax[1].set_ylim(10, 65)\n",
    "fig.savefig(\"random_photoswitch_constrain_matches.pdf\", bbox_inches=\"tight\")"
   ]
  },
  {
   "cell_type": "markdown",
   "metadata": {},
   "source": [
    "## Visualize"
   ]
  },
  {
   "cell_type": "code",
   "execution_count": 16,
   "metadata": {},
   "outputs": [],
   "source": [
    "import numpy as np\n",
    "import tmap as tm\n",
    "from faerun import Faerun\n",
    "from mhfp.encoder import MHFPEncoder\n",
    "from rdkit.Chem import AllChem\n",
    "from tqdm import tqdm"
   ]
  },
  {
   "cell_type": "code",
   "execution_count": 17,
   "metadata": {},
   "outputs": [],
   "source": [
    "import os\n",
    "import shutil"
   ]
  },
  {
   "cell_type": "code",
   "execution_count": 18,
   "metadata": {},
   "outputs": [],
   "source": [
    "def make_figure(temp):\n",
    "    path = f\"plots_all/{temp}\"\n",
    "    os.makedirs(path, exist_ok=True)\n",
    "    enc = MHFPEncoder()\n",
    "    lf = tm.LSHForest(2048, 128)\n",
    "    train_data = get_photoswitch_data()\n",
    "    train_smiles = train_data[\"SMILES\"].values\n",
    "    all_smiles = set(train_smiles) | generated_smiles_at_temp[temp]\n",
    "\n",
    "    fps = []\n",
    "    labels = []\n",
    "\n",
    "    for smiles in tqdm(all_smiles):\n",
    "        mol = AllChem.MolFromSmiles(smiles)\n",
    "        fps.append(tm.VectorUint(enc.encode_mol(mol, min_radius=0)))\n",
    "        labels.append(smiles in train_smiles)\n",
    "\n",
    "    lf.batch_add(fps)\n",
    "    lf.index()\n",
    "    cfg = tm.LayoutConfiguration()\n",
    "    cfg.k = 100\n",
    "    cfg.sl_extra_scaling_steps = 6\n",
    "    cfg.sl_repeats = 2\n",
    "    cfg.mmm_repeats = 2\n",
    "    cfg.node_size = 2\n",
    "    x, y, s, t, _ = tm.layout_from_lsh_forest(lf, config=cfg)\n",
    "\n",
    "    f = Faerun(\n",
    "        clear_color=\"#FFFFFF\",\n",
    "        coords=False,\n",
    "        view=\"free\",\n",
    "        impress='made with <a href=\"http://tmap.gdb.tools\" target=\"_blank\">tmap</a><br />and <a href=\"https://github.com/reymond-group/faerun-python\" target=\"_blank\">faerun</a>',\n",
    "    )\n",
    "    f.add_scatter(\n",
    "        f\"Photoswitches\",\n",
    "        {\n",
    "            \"x\": x,\n",
    "            \"y\": y,\n",
    "            \"c\": labels,\n",
    "            \"labels\": all_smiles,\n",
    "        },\n",
    "        colormap=\"Set1\",\n",
    "        categorical=True,\n",
    "        shader=\"sphere\",\n",
    "        has_legend=True,\n",
    "        point_scale=5,\n",
    "        legend_labels=[(1, \"in database\"), (0, \"not in database\")],\n",
    "        max_point_size=5000,\n",
    "    )\n",
    "    f.add_tree(\n",
    "        \"Photoswitches_tree\",\n",
    "        {\n",
    "            \"from\": s,\n",
    "            \"to\": t,\n",
    "        },\n",
    "        point_helper=\"Photoswitches\",\n",
    "    )\n",
    "    f.plot(\"Photoswitches\", template=\"smiles\")\n",
    "\n",
    "    shutil.copy(\"Photoswitches.html\", path)"
   ]
  },
  {
   "cell_type": "code",
   "execution_count": 19,
   "metadata": {},
   "outputs": [
    {
     "name": "stderr",
     "output_type": "stream",
     "text": [
      "100%|██████████| 405/405 [00:03<00:00, 109.04it/s]\n"
     ]
    },
    {
     "data": {
      "text/html": [
       "\n",
       "        <iframe\n",
       "            width=\"100%\"\n",
       "            height=\"500\"\n",
       "            src=\"./Photoswitches.html\"\n",
       "            frameborder=\"0\"\n",
       "            allowfullscreen\n",
       "            \n",
       "        ></iframe>\n",
       "        "
      ],
      "text/plain": [
       "<IPython.lib.display.IFrame at 0x16fee7460>"
      ]
     },
     "metadata": {},
     "output_type": "display_data"
    },
    {
     "data": {
      "text/html": [
       "<a href='./Photoswitches.html' target='_blank'>./Photoswitches.html</a><br>"
      ],
      "text/plain": [
       "/Users/kevinmaikjablonka/git/kjappelbaum/gptchem/experiments/05_inverse/photoswitch/random/Photoswitches.html"
      ]
     },
     "metadata": {},
     "output_type": "display_data"
    },
    {
     "name": "stderr",
     "output_type": "stream",
     "text": [
      "100%|██████████| 406/406 [00:03<00:00, 119.74it/s]\n"
     ]
    },
    {
     "data": {
      "text/html": [
       "\n",
       "        <iframe\n",
       "            width=\"100%\"\n",
       "            height=\"500\"\n",
       "            src=\"./Photoswitches.html\"\n",
       "            frameborder=\"0\"\n",
       "            allowfullscreen\n",
       "            \n",
       "        ></iframe>\n",
       "        "
      ],
      "text/plain": [
       "<IPython.lib.display.IFrame at 0x16fd34940>"
      ]
     },
     "metadata": {},
     "output_type": "display_data"
    },
    {
     "data": {
      "text/html": [
       "<a href='./Photoswitches.html' target='_blank'>./Photoswitches.html</a><br>"
      ],
      "text/plain": [
       "/Users/kevinmaikjablonka/git/kjappelbaum/gptchem/experiments/05_inverse/photoswitch/random/Photoswitches.html"
      ]
     },
     "metadata": {},
     "output_type": "display_data"
    },
    {
     "name": "stderr",
     "output_type": "stream",
     "text": [
      "100%|██████████| 410/410 [00:03<00:00, 110.59it/s]\n"
     ]
    },
    {
     "data": {
      "text/html": [
       "\n",
       "        <iframe\n",
       "            width=\"100%\"\n",
       "            height=\"500\"\n",
       "            src=\"./Photoswitches.html\"\n",
       "            frameborder=\"0\"\n",
       "            allowfullscreen\n",
       "            \n",
       "        ></iframe>\n",
       "        "
      ],
      "text/plain": [
       "<IPython.lib.display.IFrame at 0x283085df0>"
      ]
     },
     "metadata": {},
     "output_type": "display_data"
    },
    {
     "data": {
      "text/html": [
       "<a href='./Photoswitches.html' target='_blank'>./Photoswitches.html</a><br>"
      ],
      "text/plain": [
       "/Users/kevinmaikjablonka/git/kjappelbaum/gptchem/experiments/05_inverse/photoswitch/random/Photoswitches.html"
      ]
     },
     "metadata": {},
     "output_type": "display_data"
    },
    {
     "name": "stderr",
     "output_type": "stream",
     "text": [
      "100%|██████████| 466/466 [00:04<00:00, 110.79it/s]\n"
     ]
    },
    {
     "data": {
      "text/html": [
       "\n",
       "        <iframe\n",
       "            width=\"100%\"\n",
       "            height=\"500\"\n",
       "            src=\"./Photoswitches.html\"\n",
       "            frameborder=\"0\"\n",
       "            allowfullscreen\n",
       "            \n",
       "        ></iframe>\n",
       "        "
      ],
      "text/plain": [
       "<IPython.lib.display.IFrame at 0x2a9ac45e0>"
      ]
     },
     "metadata": {},
     "output_type": "display_data"
    },
    {
     "data": {
      "text/html": [
       "<a href='./Photoswitches.html' target='_blank'>./Photoswitches.html</a><br>"
      ],
      "text/plain": [
       "/Users/kevinmaikjablonka/git/kjappelbaum/gptchem/experiments/05_inverse/photoswitch/random/Photoswitches.html"
      ]
     },
     "metadata": {},
     "output_type": "display_data"
    },
    {
     "name": "stderr",
     "output_type": "stream",
     "text": [
      "100%|██████████| 593/593 [00:06<00:00, 89.54it/s] \n"
     ]
    },
    {
     "data": {
      "text/html": [
       "\n",
       "        <iframe\n",
       "            width=\"100%\"\n",
       "            height=\"500\"\n",
       "            src=\"./Photoswitches.html\"\n",
       "            frameborder=\"0\"\n",
       "            allowfullscreen\n",
       "            \n",
       "        ></iframe>\n",
       "        "
      ],
      "text/plain": [
       "<IPython.lib.display.IFrame at 0x2acb35d60>"
      ]
     },
     "metadata": {},
     "output_type": "display_data"
    },
    {
     "data": {
      "text/html": [
       "<a href='./Photoswitches.html' target='_blank'>./Photoswitches.html</a><br>"
      ],
      "text/plain": [
       "/Users/kevinmaikjablonka/git/kjappelbaum/gptchem/experiments/05_inverse/photoswitch/random/Photoswitches.html"
      ]
     },
     "metadata": {},
     "output_type": "display_data"
    },
    {
     "name": "stderr",
     "output_type": "stream",
     "text": [
      "100%|██████████| 774/774 [00:11<00:00, 67.92it/s] \n"
     ]
    },
    {
     "data": {
      "text/html": [
       "\n",
       "        <iframe\n",
       "            width=\"100%\"\n",
       "            height=\"500\"\n",
       "            src=\"./Photoswitches.html\"\n",
       "            frameborder=\"0\"\n",
       "            allowfullscreen\n",
       "            \n",
       "        ></iframe>\n",
       "        "
      ],
      "text/plain": [
       "<IPython.lib.display.IFrame at 0x16fdfc280>"
      ]
     },
     "metadata": {},
     "output_type": "display_data"
    },
    {
     "data": {
      "text/html": [
       "<a href='./Photoswitches.html' target='_blank'>./Photoswitches.html</a><br>"
      ],
      "text/plain": [
       "/Users/kevinmaikjablonka/git/kjappelbaum/gptchem/experiments/05_inverse/photoswitch/random/Photoswitches.html"
      ]
     },
     "metadata": {},
     "output_type": "display_data"
    },
    {
     "name": "stderr",
     "output_type": "stream",
     "text": [
      "100%|██████████| 710/710 [00:05<00:00, 122.64it/s]\n"
     ]
    },
    {
     "data": {
      "text/html": [
       "\n",
       "        <iframe\n",
       "            width=\"100%\"\n",
       "            height=\"500\"\n",
       "            src=\"./Photoswitches.html\"\n",
       "            frameborder=\"0\"\n",
       "            allowfullscreen\n",
       "            \n",
       "        ></iframe>\n",
       "        "
      ],
      "text/plain": [
       "<IPython.lib.display.IFrame at 0x16fe21850>"
      ]
     },
     "metadata": {},
     "output_type": "display_data"
    },
    {
     "data": {
      "text/html": [
       "<a href='./Photoswitches.html' target='_blank'>./Photoswitches.html</a><br>"
      ],
      "text/plain": [
       "/Users/kevinmaikjablonka/git/kjappelbaum/gptchem/experiments/05_inverse/photoswitch/random/Photoswitches.html"
      ]
     },
     "metadata": {},
     "output_type": "display_data"
    },
    {
     "name": "stderr",
     "output_type": "stream",
     "text": [
      "100%|██████████| 614/614 [00:07<00:00, 80.94it/s] \n"
     ]
    },
    {
     "data": {
      "text/html": [
       "\n",
       "        <iframe\n",
       "            width=\"100%\"\n",
       "            height=\"500\"\n",
       "            src=\"./Photoswitches.html\"\n",
       "            frameborder=\"0\"\n",
       "            allowfullscreen\n",
       "            \n",
       "        ></iframe>\n",
       "        "
      ],
      "text/plain": [
       "<IPython.lib.display.IFrame at 0x2b1a1dbe0>"
      ]
     },
     "metadata": {},
     "output_type": "display_data"
    },
    {
     "data": {
      "text/html": [
       "<a href='./Photoswitches.html' target='_blank'>./Photoswitches.html</a><br>"
      ],
      "text/plain": [
       "/Users/kevinmaikjablonka/git/kjappelbaum/gptchem/experiments/05_inverse/photoswitch/random/Photoswitches.html"
      ]
     },
     "metadata": {},
     "output_type": "display_data"
    },
    {
     "name": "stderr",
     "output_type": "stream",
     "text": [
      "100%|██████████| 654/654 [00:04<00:00, 143.33it/s]\n"
     ]
    },
    {
     "data": {
      "text/html": [
       "\n",
       "        <iframe\n",
       "            width=\"100%\"\n",
       "            height=\"500\"\n",
       "            src=\"./Photoswitches.html\"\n",
       "            frameborder=\"0\"\n",
       "            allowfullscreen\n",
       "            \n",
       "        ></iframe>\n",
       "        "
      ],
      "text/plain": [
       "<IPython.lib.display.IFrame at 0x283085ac0>"
      ]
     },
     "metadata": {},
     "output_type": "display_data"
    },
    {
     "data": {
      "text/html": [
       "<a href='./Photoswitches.html' target='_blank'>./Photoswitches.html</a><br>"
      ],
      "text/plain": [
       "/Users/kevinmaikjablonka/git/kjappelbaum/gptchem/experiments/05_inverse/photoswitch/random/Photoswitches.html"
      ]
     },
     "metadata": {},
     "output_type": "display_data"
    }
   ],
   "source": [
    "for temp in [0, 0.1, 0.2, 0.5, 0.75, 1.0, 1.25, 1.5, 2.0]:\n",
    "    make_figure(temp)"
   ]
  },
  {
   "cell_type": "code",
   "execution_count": 20,
   "metadata": {},
   "outputs": [
    {
     "name": "stderr",
     "output_type": "stream",
     "text": [
      "100%|██████████| 614/614 [00:05<00:00, 109.75it/s]\n"
     ]
    },
    {
     "data": {
      "text/html": [
       "\n",
       "        <iframe\n",
       "            width=\"100%\"\n",
       "            height=\"500\"\n",
       "            src=\"./Photoswitches.html\"\n",
       "            frameborder=\"0\"\n",
       "            allowfullscreen\n",
       "            \n",
       "        ></iframe>\n",
       "        "
      ],
      "text/plain": [
       "<IPython.lib.display.IFrame at 0x16fddd9a0>"
      ]
     },
     "metadata": {},
     "output_type": "display_data"
    },
    {
     "data": {
      "text/html": [
       "<a href='./Photoswitches.html' target='_blank'>./Photoswitches.html</a><br>"
      ],
      "text/plain": [
       "/Users/kevinmaikjablonka/git/kjappelbaum/gptchem/experiments/05_inverse/photoswitch/random/Photoswitches.html"
      ]
     },
     "metadata": {},
     "output_type": "display_data"
    }
   ],
   "source": [
    "make_figure(1.5)"
   ]
  },
  {
   "cell_type": "code",
   "execution_count": null,
   "metadata": {},
   "outputs": [],
   "source": []
  },
  {
   "cell_type": "code",
   "execution_count": null,
   "metadata": {},
   "outputs": [],
   "source": []
  },
  {
   "cell_type": "code",
   "execution_count": null,
   "metadata": {},
   "outputs": [],
   "source": []
  },
  {
   "cell_type": "code",
   "execution_count": null,
   "metadata": {},
   "outputs": [],
   "source": []
  }
 ],
 "metadata": {
  "kernelspec": {
   "display_name": "gptchem",
   "language": "python",
   "name": "python3"
  },
  "language_info": {
   "codemirror_mode": {
    "name": "ipython",
    "version": 3
   },
   "file_extension": ".py",
   "mimetype": "text/x-python",
   "name": "python",
   "nbconvert_exporter": "python",
   "pygments_lexer": "ipython3",
   "version": "3.9.15"
  },
  "orig_nbformat": 4,
  "vscode": {
   "interpreter": {
    "hash": "2f3b9074e5baa1438c27e2ea813f7f53b7516c83bd70840b6d64eae6820ee5df"
   }
  }
 },
 "nbformat": 4,
 "nbformat_minor": 2
}
