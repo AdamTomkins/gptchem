{
 "cells": [
  {
   "cell_type": "code",
   "execution_count": 1,
   "metadata": {},
   "outputs": [],
   "source": [
    "%load_ext autoreload\n",
    "%autoreload 2"
   ]
  },
  {
   "cell_type": "code",
   "execution_count": 2,
   "metadata": {},
   "outputs": [],
   "source": [
    "import pandas as pd\n",
    "from fastcore.xtras import load_pickle\n",
    "\n",
    "from gptchem.data import get_photoswitch_data\n",
    "from gptchem.evaluator import evaluate_photoswitch_smiles_pred, evaluate_generated_smiles\n",
    "\n",
    "from gptchem.settings import ONE_COL_WIDTH_INCH, ONE_COL_GOLDEN_RATIO_HEIGHT_INCH\n",
    "\n",
    "from guacamol.utils.chemistry import is_valid\n",
    "from glob import glob\n",
    "import seaborn as sns\n",
    "import matplotlib.pyplot as plt \n",
    "import matplotlib as mpl\n",
    "mpl.rcParams.update(mpl.rcParamsDefault)\n",
    "plt.style.use(['science', 'nature'])\n",
    "\n",
    "import matplotx\n",
    "\n",
    "\n",
    "%matplotlib inline"
   ]
  },
  {
   "cell_type": "code",
   "execution_count": 3,
   "metadata": {},
   "outputs": [],
   "source": [
    "from rdkit import Chem"
   ]
  },
  {
   "cell_type": "code",
   "execution_count": 4,
   "metadata": {},
   "outputs": [],
   "source": [
    "all_res = glob('out/**/*.pkl')"
   ]
  },
  {
   "cell_type": "code",
   "execution_count": 5,
   "metadata": {},
   "outputs": [],
   "source": [
    "res = load_pickle(all_res[0])"
   ]
  },
  {
   "cell_type": "code",
   "execution_count": 6,
   "metadata": {},
   "outputs": [],
   "source": [
    "from collections import defaultdict"
   ]
  },
  {
   "cell_type": "code",
   "execution_count": 7,
   "metadata": {},
   "outputs": [],
   "source": [
    "def contains_azo(smiles):\n",
    "    mol = Chem.MolFromSmiles(smiles)\n",
    "    # check if there is a N#N bond\n",
    "    smarts = \"[NX2]=N\"\n",
    "    return mol.HasSubstructMatch(Chem.MolFromSmarts(smarts))"
   ]
  },
  {
   "cell_type": "code",
   "execution_count": 8,
   "metadata": {},
   "outputs": [],
   "source": [
    "compiled_res = []\n",
    "generated_smiles = set()\n",
    "generated_smiles_w_azos = set()\n",
    "\n",
    "generated_smiles_w_azos_at_temp = defaultdict(set)\n",
    "generated_smiles_at_temp = defaultdict(set)\n",
    "\n",
    "for res_path in all_res:\n",
    "    res = load_pickle(res_path)\n",
    "    for temp_res in res['res_at_temp']:\n",
    "\n",
    "\n",
    "        metrics= {\n",
    "            'noise_level': res['noise_level'],\n",
    "            'temp': temp_res['temperature'],\n",
    "            'frac_valid': temp_res['frac_valid'],\n",
    "            'frac_unique': temp_res['frac_unique'],\n",
    "            'frac_smiles_in_train': temp_res['frac_smiles_in_train'],\n",
    "            'frac_smiles_in_pubchem': temp_res['frac_smiles_in_pubchem'],\n",
    "            'kld': temp_res['kld'],\n",
    "            'frechet_d': temp_res['frechet_d'],\n",
    "            'frechet_score': temp_res['frechet_score'],\n",
    "            'frac_contains_azo': sum([contains_azo(s) for s in temp_res['valid_smiles']]) / len(temp_res['valid_smiles']),\n",
    "        }\n",
    "\n",
    "        generated_smiles.update([s for s in temp_res['generated_smiles'] if is_valid(s)])\n",
    "        v_w_azo = [s for s in temp_res['generated_smiles'] if is_valid(s) and contains_azo(s)]\n",
    "        generated_smiles_w_azos.update(v_w_azo)\n",
    "        generated_smiles_w_azos_at_temp[temp_res['temperature']].update(v_w_azo)\n",
    "\n",
    "\n",
    "        v = [s for s in temp_res['generated_smiles'] if is_valid(s)]\n",
    "        generated_smiles_at_temp[temp_res['temperature']].update(v)\n",
    "\n",
    "        for me, v in temp_res['e_pi_pi_star_metrics'].items():\n",
    "            metrics[\"e_pi_pi_star_\" + me] = v\n",
    "\n",
    "        for me, v in temp_res['z_pi_pi_star_metrics'].items():\n",
    "            metrics[\"z_pi_pi_star_\" + me] = v\n",
    "        compiled_res.append(metrics)"
   ]
  },
  {
   "cell_type": "code",
   "execution_count": 9,
   "metadata": {},
   "outputs": [
    {
     "data": {
      "text/plain": [
       "True"
      ]
     },
     "execution_count": 9,
     "metadata": {},
     "output_type": "execute_result"
    }
   ],
   "source": [
    "contains_azo(list(generated_smiles)[5])"
   ]
  },
  {
   "cell_type": "code",
   "execution_count": 10,
   "metadata": {},
   "outputs": [
    {
     "data": {
      "image/png": "[encoded data removed]",
      "text/plain": [
       "<rdkit.Chem.rdchem.Mol at 0x2c7f3f5f0>"
      ]
     },
     "execution_count": 10,
     "metadata": {},
     "output_type": "execute_result"
    }
   ],
   "source": [
    "Chem.MolFromSmiles(list(generated_smiles)[0])"
   ]
  },
  {
   "cell_type": "code",
   "execution_count": 11,
   "metadata": {},
   "outputs": [],
   "source": [
    "df = pd.DataFrame(compiled_res)"
   ]
  },
  {
   "cell_type": "code",
   "execution_count": 12,
   "metadata": {},
   "outputs": [],
   "source": [
    "grouped = df.groupby(['temp']).agg(['mean', 'std'])"
   ]
  },
  {
   "cell_type": "code",
   "execution_count": 13,
   "metadata": {},
   "outputs": [
    {
     "data": {
      "text/html": [
       "<div>\n",
       "<style scoped>\n",
       "    .dataframe tbody tr th:only-of-type {\n",
       "        vertical-align: middle;\n",
       "    }\n",
       "\n",
       "    .dataframe tbody tr th {\n",
       "        vertical-align: top;\n",
       "    }\n",
       "\n",
       "    .dataframe thead tr th {\n",
       "        text-align: left;\n",
       "    }\n",
       "\n",
       "    .dataframe thead tr:last-of-type th {\n",
       "        text-align: right;\n",
       "    }\n",
       "</style>\n",
       "<table border=\"1\" class=\"dataframe\">\n",
       "  <thead>\n",
       "    <tr>\n",
       "      <th></th>\n",
       "      <th colspan=\"2\" halign=\"left\">noise_level</th>\n",
       "      <th colspan=\"2\" halign=\"left\">frac_valid</th>\n",
       "      <th colspan=\"2\" halign=\"left\">frac_unique</th>\n",
       "      <th colspan=\"2\" halign=\"left\">frac_smiles_in_train</th>\n",
       "      <th colspan=\"2\" halign=\"left\">frac_smiles_in_pubchem</th>\n",
       "      <th>...</th>\n",
       "      <th colspan=\"2\" halign=\"left\">z_pi_pi_star_r2</th>\n",
       "      <th colspan=\"2\" halign=\"left\">z_pi_pi_star_max_error</th>\n",
       "      <th colspan=\"2\" halign=\"left\">z_pi_pi_star_mean_absolute_error</th>\n",
       "      <th colspan=\"2\" halign=\"left\">z_pi_pi_star_mean_squared_error</th>\n",
       "      <th colspan=\"2\" halign=\"left\">z_pi_pi_star_rmse</th>\n",
       "    </tr>\n",
       "    <tr>\n",
       "      <th></th>\n",
       "      <th>mean</th>\n",
       "      <th>std</th>\n",
       "      <th>mean</th>\n",
       "      <th>std</th>\n",
       "      <th>mean</th>\n",
       "      <th>std</th>\n",
       "      <th>mean</th>\n",
       "      <th>std</th>\n",
       "      <th>mean</th>\n",
       "      <th>std</th>\n",
       "      <th>...</th>\n",
       "      <th>mean</th>\n",
       "      <th>std</th>\n",
       "      <th>mean</th>\n",
       "      <th>std</th>\n",
       "      <th>mean</th>\n",
       "      <th>std</th>\n",
       "      <th>mean</th>\n",
       "      <th>std</th>\n",
       "      <th>mean</th>\n",
       "      <th>std</th>\n",
       "    </tr>\n",
       "    <tr>\n",
       "      <th>temp</th>\n",
       "      <th></th>\n",
       "      <th></th>\n",
       "      <th></th>\n",
       "      <th></th>\n",
       "      <th></th>\n",
       "      <th></th>\n",
       "      <th></th>\n",
       "      <th></th>\n",
       "      <th></th>\n",
       "      <th></th>\n",
       "      <th></th>\n",
       "      <th></th>\n",
       "      <th></th>\n",
       "      <th></th>\n",
       "      <th></th>\n",
       "      <th></th>\n",
       "      <th></th>\n",
       "      <th></th>\n",
       "      <th></th>\n",
       "      <th></th>\n",
       "      <th></th>\n",
       "    </tr>\n",
       "  </thead>\n",
       "  <tbody>\n",
       "    <tr>\n",
       "      <th>0.00</th>\n",
       "      <td>0.5</td>\n",
       "      <td>NaN</td>\n",
       "      <td>1.0</td>\n",
       "      <td>NaN</td>\n",
       "      <td>0.6</td>\n",
       "      <td>NaN</td>\n",
       "      <td>0.0</td>\n",
       "      <td>NaN</td>\n",
       "      <td>1.0</td>\n",
       "      <td>NaN</td>\n",
       "      <td>...</td>\n",
       "      <td>-0.125384</td>\n",
       "      <td>NaN</td>\n",
       "      <td>35.742127</td>\n",
       "      <td>NaN</td>\n",
       "      <td>13.334744</td>\n",
       "      <td>NaN</td>\n",
       "      <td>322.508148</td>\n",
       "      <td>NaN</td>\n",
       "      <td>17.958512</td>\n",
       "      <td>NaN</td>\n",
       "    </tr>\n",
       "    <tr>\n",
       "      <th>0.10</th>\n",
       "      <td>0.5</td>\n",
       "      <td>NaN</td>\n",
       "      <td>1.0</td>\n",
       "      <td>NaN</td>\n",
       "      <td>0.6</td>\n",
       "      <td>NaN</td>\n",
       "      <td>0.0</td>\n",
       "      <td>NaN</td>\n",
       "      <td>1.0</td>\n",
       "      <td>NaN</td>\n",
       "      <td>...</td>\n",
       "      <td>-0.394620</td>\n",
       "      <td>NaN</td>\n",
       "      <td>38.490332</td>\n",
       "      <td>NaN</td>\n",
       "      <td>15.675723</td>\n",
       "      <td>NaN</td>\n",
       "      <td>399.664862</td>\n",
       "      <td>NaN</td>\n",
       "      <td>19.991620</td>\n",
       "      <td>NaN</td>\n",
       "    </tr>\n",
       "    <tr>\n",
       "      <th>0.20</th>\n",
       "      <td>0.5</td>\n",
       "      <td>NaN</td>\n",
       "      <td>1.0</td>\n",
       "      <td>NaN</td>\n",
       "      <td>0.8</td>\n",
       "      <td>NaN</td>\n",
       "      <td>0.0</td>\n",
       "      <td>NaN</td>\n",
       "      <td>1.0</td>\n",
       "      <td>NaN</td>\n",
       "      <td>...</td>\n",
       "      <td>-0.145275</td>\n",
       "      <td>NaN</td>\n",
       "      <td>35.742127</td>\n",
       "      <td>NaN</td>\n",
       "      <td>13.831574</td>\n",
       "      <td>NaN</td>\n",
       "      <td>328.208518</td>\n",
       "      <td>NaN</td>\n",
       "      <td>18.116526</td>\n",
       "      <td>NaN</td>\n",
       "    </tr>\n",
       "    <tr>\n",
       "      <th>0.50</th>\n",
       "      <td>0.5</td>\n",
       "      <td>NaN</td>\n",
       "      <td>1.0</td>\n",
       "      <td>NaN</td>\n",
       "      <td>1.0</td>\n",
       "      <td>NaN</td>\n",
       "      <td>0.0</td>\n",
       "      <td>NaN</td>\n",
       "      <td>1.0</td>\n",
       "      <td>NaN</td>\n",
       "      <td>...</td>\n",
       "      <td>-1.468414</td>\n",
       "      <td>NaN</td>\n",
       "      <td>53.884617</td>\n",
       "      <td>NaN</td>\n",
       "      <td>19.413660</td>\n",
       "      <td>NaN</td>\n",
       "      <td>707.388615</td>\n",
       "      <td>NaN</td>\n",
       "      <td>26.596778</td>\n",
       "      <td>NaN</td>\n",
       "    </tr>\n",
       "    <tr>\n",
       "      <th>0.75</th>\n",
       "      <td>0.5</td>\n",
       "      <td>NaN</td>\n",
       "      <td>1.0</td>\n",
       "      <td>NaN</td>\n",
       "      <td>0.8</td>\n",
       "      <td>NaN</td>\n",
       "      <td>0.0</td>\n",
       "      <td>NaN</td>\n",
       "      <td>1.0</td>\n",
       "      <td>NaN</td>\n",
       "      <td>...</td>\n",
       "      <td>-1.179643</td>\n",
       "      <td>NaN</td>\n",
       "      <td>53.884617</td>\n",
       "      <td>NaN</td>\n",
       "      <td>15.874802</td>\n",
       "      <td>NaN</td>\n",
       "      <td>624.633867</td>\n",
       "      <td>NaN</td>\n",
       "      <td>24.992676</td>\n",
       "      <td>NaN</td>\n",
       "    </tr>\n",
       "    <tr>\n",
       "      <th>1.00</th>\n",
       "      <td>0.5</td>\n",
       "      <td>NaN</td>\n",
       "      <td>0.6</td>\n",
       "      <td>NaN</td>\n",
       "      <td>1.0</td>\n",
       "      <td>NaN</td>\n",
       "      <td>0.0</td>\n",
       "      <td>NaN</td>\n",
       "      <td>1.0</td>\n",
       "      <td>NaN</td>\n",
       "      <td>...</td>\n",
       "      <td>-26.038951</td>\n",
       "      <td>NaN</td>\n",
       "      <td>15.264796</td>\n",
       "      <td>NaN</td>\n",
       "      <td>12.129880</td>\n",
       "      <td>NaN</td>\n",
       "      <td>166.178722</td>\n",
       "      <td>NaN</td>\n",
       "      <td>12.891033</td>\n",
       "      <td>NaN</td>\n",
       "    </tr>\n",
       "    <tr>\n",
       "      <th>1.25</th>\n",
       "      <td>0.5</td>\n",
       "      <td>NaN</td>\n",
       "      <td>0.2</td>\n",
       "      <td>NaN</td>\n",
       "      <td>1.0</td>\n",
       "      <td>NaN</td>\n",
       "      <td>0.0</td>\n",
       "      <td>NaN</td>\n",
       "      <td>1.0</td>\n",
       "      <td>NaN</td>\n",
       "      <td>...</td>\n",
       "      <td>NaN</td>\n",
       "      <td>NaN</td>\n",
       "      <td>3.054375</td>\n",
       "      <td>NaN</td>\n",
       "      <td>3.054375</td>\n",
       "      <td>NaN</td>\n",
       "      <td>9.329206</td>\n",
       "      <td>NaN</td>\n",
       "      <td>3.054375</td>\n",
       "      <td>NaN</td>\n",
       "    </tr>\n",
       "    <tr>\n",
       "      <th>1.50</th>\n",
       "      <td>0.5</td>\n",
       "      <td>NaN</td>\n",
       "      <td>0.2</td>\n",
       "      <td>NaN</td>\n",
       "      <td>1.0</td>\n",
       "      <td>NaN</td>\n",
       "      <td>0.0</td>\n",
       "      <td>NaN</td>\n",
       "      <td>1.0</td>\n",
       "      <td>NaN</td>\n",
       "      <td>...</td>\n",
       "      <td>NaN</td>\n",
       "      <td>NaN</td>\n",
       "      <td>4.681312</td>\n",
       "      <td>NaN</td>\n",
       "      <td>4.681312</td>\n",
       "      <td>NaN</td>\n",
       "      <td>21.914685</td>\n",
       "      <td>NaN</td>\n",
       "      <td>4.681312</td>\n",
       "      <td>NaN</td>\n",
       "    </tr>\n",
       "    <tr>\n",
       "      <th>2.00</th>\n",
       "      <td>0.5</td>\n",
       "      <td>NaN</td>\n",
       "      <td>0.2</td>\n",
       "      <td>NaN</td>\n",
       "      <td>1.0</td>\n",
       "      <td>NaN</td>\n",
       "      <td>0.0</td>\n",
       "      <td>NaN</td>\n",
       "      <td>1.0</td>\n",
       "      <td>NaN</td>\n",
       "      <td>...</td>\n",
       "      <td>NaN</td>\n",
       "      <td>NaN</td>\n",
       "      <td>32.906224</td>\n",
       "      <td>NaN</td>\n",
       "      <td>32.906224</td>\n",
       "      <td>NaN</td>\n",
       "      <td>1082.819599</td>\n",
       "      <td>NaN</td>\n",
       "      <td>32.906224</td>\n",
       "      <td>NaN</td>\n",
       "    </tr>\n",
       "  </tbody>\n",
       "</table>\n",
       "<p>9 rows × 38 columns</p>\n",
       "</div>"
      ],
      "text/plain": [
       "     noise_level     frac_valid     frac_unique     frac_smiles_in_train      \\\n",
       "            mean std       mean std        mean std                 mean std   \n",
       "temp                                                                           \n",
       "0.00         0.5 NaN        1.0 NaN         0.6 NaN                  0.0 NaN   \n",
       "0.10         0.5 NaN        1.0 NaN         0.6 NaN                  0.0 NaN   \n",
       "0.20         0.5 NaN        1.0 NaN         0.8 NaN                  0.0 NaN   \n",
       "0.50         0.5 NaN        1.0 NaN         1.0 NaN                  0.0 NaN   \n",
       "0.75         0.5 NaN        1.0 NaN         0.8 NaN                  0.0 NaN   \n",
       "1.00         0.5 NaN        0.6 NaN         1.0 NaN                  0.0 NaN   \n",
       "1.25         0.5 NaN        0.2 NaN         1.0 NaN                  0.0 NaN   \n",
       "1.50         0.5 NaN        0.2 NaN         1.0 NaN                  0.0 NaN   \n",
       "2.00         0.5 NaN        0.2 NaN         1.0 NaN                  0.0 NaN   \n",
       "\n",
       "     frac_smiles_in_pubchem      ... z_pi_pi_star_r2      \\\n",
       "                       mean std  ...            mean std   \n",
       "temp                             ...                       \n",
       "0.00                    1.0 NaN  ...       -0.125384 NaN   \n",
       "0.10                    1.0 NaN  ...       -0.394620 NaN   \n",
       "0.20                    1.0 NaN  ...       -0.145275 NaN   \n",
       "0.50                    1.0 NaN  ...       -1.468414 NaN   \n",
       "0.75                    1.0 NaN  ...       -1.179643 NaN   \n",
       "1.00                    1.0 NaN  ...      -26.038951 NaN   \n",
       "1.25                    1.0 NaN  ...             NaN NaN   \n",
       "1.50                    1.0 NaN  ...             NaN NaN   \n",
       "2.00                    1.0 NaN  ...             NaN NaN   \n",
       "\n",
       "     z_pi_pi_star_max_error     z_pi_pi_star_mean_absolute_error      \\\n",
       "                       mean std                             mean std   \n",
       "temp                                                                   \n",
       "0.00              35.742127 NaN                        13.334744 NaN   \n",
       "0.10              38.490332 NaN                        15.675723 NaN   \n",
       "0.20              35.742127 NaN                        13.831574 NaN   \n",
       "0.50              53.884617 NaN                        19.413660 NaN   \n",
       "0.75              53.884617 NaN                        15.874802 NaN   \n",
       "1.00              15.264796 NaN                        12.129880 NaN   \n",
       "1.25               3.054375 NaN                         3.054375 NaN   \n",
       "1.50               4.681312 NaN                         4.681312 NaN   \n",
       "2.00              32.906224 NaN                        32.906224 NaN   \n",
       "\n",
       "     z_pi_pi_star_mean_squared_error     z_pi_pi_star_rmse      \n",
       "                                mean std              mean std  \n",
       "temp                                                            \n",
       "0.00                      322.508148 NaN         17.958512 NaN  \n",
       "0.10                      399.664862 NaN         19.991620 NaN  \n",
       "0.20                      328.208518 NaN         18.116526 NaN  \n",
       "0.50                      707.388615 NaN         26.596778 NaN  \n",
       "0.75                      624.633867 NaN         24.992676 NaN  \n",
       "1.00                      166.178722 NaN         12.891033 NaN  \n",
       "1.25                        9.329206 NaN          3.054375 NaN  \n",
       "1.50                       21.914685 NaN          4.681312 NaN  \n",
       "2.00                     1082.819599 NaN         32.906224 NaN  \n",
       "\n",
       "[9 rows x 38 columns]"
      ]
     },
     "execution_count": 13,
     "metadata": {},
     "output_type": "execute_result"
    }
   ],
   "source": [
    "grouped"
   ]
  },
  {
   "cell_type": "code",
   "execution_count": 14,
   "metadata": {},
   "outputs": [
    {
     "data": {
      "image/png": "[encoded data removed]",
      "text/plain": [
       "<Figure size 325x650 with 7 Axes>"
      ]
     },
     "metadata": {},
     "output_type": "display_data"
    }
   ],
   "source": [
    "with plt.style.context(matplotx.styles.dufte):\n",
    "    fig, ax = plt.subplots(7,1, sharex='all', figsize=(ONE_COL_WIDTH_INCH, 2*ONE_COL_WIDTH_INCH))\n",
    "    ax[0].plot(grouped.index, grouped['frac_valid']['mean'], label='frac_valid')\n",
    "    ax[0].fill_between(grouped.index, grouped['frac_valid']['mean'] - grouped['frac_valid']['std'], grouped['frac_valid']['mean'] + grouped['frac_valid']['std'], alpha=0.2)\n",
    "\n",
    "    matplotx.ylabel_top('frac. valid SMILES', ax=ax[0])\n",
    "\n",
    "    ax[1].plot(grouped.index, grouped['frac_unique']['mean'], label='frac_unique')\n",
    "    ax[1].fill_between(grouped.index, grouped['frac_unique']['mean'] - grouped['frac_unique']['std'], grouped['frac_unique']['mean'] + grouped['frac_unique']['std'], alpha=0.2)\n",
    "\n",
    "    matplotx.ylabel_top('frac. unique SMILES', ax=ax[1])\n",
    "\n",
    "    ax[2].plot(grouped.index, grouped['frac_smiles_in_train']['mean'], label='frac_smiles_in_train')\n",
    "    ax[2].fill_between(grouped.index, grouped['frac_smiles_in_train']['mean'] - grouped['frac_smiles_in_train']['std'], grouped['frac_smiles_in_train']['mean'] + grouped['frac_smiles_in_train']['std'], alpha=0.2)\n",
    "\n",
    "    matplotx.ylabel_top('frac. SMILES in train', ax=ax[2])\n",
    "\n",
    "    ax[3].plot(grouped.index, grouped['frac_smiles_in_pubchem']['mean'], label='frac_smiles_in_pubchem')\n",
    "    ax[3].fill_between(grouped.index, grouped['frac_smiles_in_pubchem']['mean'] - grouped['frac_smiles_in_pubchem']['std'], grouped['frac_smiles_in_pubchem']['mean'] + grouped['frac_smiles_in_pubchem']['std'], alpha=0.2)\n",
    "\n",
    "    matplotx.ylabel_top('frac. SMILES in PubChem', ax=ax[3])\n",
    "\n",
    "    ax[4].plot(grouped.index, grouped['kld']['mean'], label='kld')\n",
    "    ax[4].fill_between(grouped.index, grouped['kld']['mean'] - grouped['kld']['std'], grouped['kld']['mean'] + grouped['kld']['std'], alpha=0.2)\n",
    "\n",
    "    matplotx.ylabel_top('KLD', ax=ax[4])\n",
    "\n",
    "    ax[5].plot(grouped.index, grouped['frechet_d']['mean'], label='frechet_d')\n",
    "    ax[5].fill_between(grouped.index, grouped['frechet_d']['mean'] - grouped['frechet_d']['std'], grouped['frechet_d']['mean'] + grouped['frechet_d']['std'], alpha=0.2)\n",
    "\n",
    "    matplotx.ylabel_top('Frechet distance', ax=ax[5])\n",
    "\n",
    "    ax[6].plot(grouped.index, grouped['frac_contains_azo']['mean'], label='frechet_score')\n",
    "    ax[6].fill_between(grouped.index, grouped['frac_contains_azo']['mean'] - grouped['frac_contains_azo']['std'], grouped['frac_contains_azo']['mean'] + grouped['frac_contains_azo']['std'], alpha=0.2)\n",
    "\n",
    "    matplotx.ylabel_top('frac. SMILES with azo', ax=ax[6])\n",
    "\n",
    "    ax[-1].set_xlabel('temperature', labelpad=4)\n",
    "\n",
    "    fig.savefig('photoswitch_extrapolation_smiles_metrics.pdf', bbox_inches='tight')"
   ]
  },
  {
   "cell_type": "code",
   "execution_count": 15,
   "metadata": {},
   "outputs": [
    {
     "data": {
      "image/png": "[encoded data removed]",
      "text/plain": [
       "<Figure size 325x200.861 with 2 Axes>"
      ]
     },
     "metadata": {},
     "output_type": "display_data"
    }
   ],
   "source": [
    "with plt.style.context(matplotx.styles.dufte):\n",
    "    fig, ax = plt.subplots(2,1, sharex='all', figsize=(ONE_COL_WIDTH_INCH, ONE_COL_GOLDEN_RATIO_HEIGHT_INCH))\n",
    "\n",
    "    ax[0].plot(grouped.index, grouped['z_pi_pi_star_mean_absolute_error']['mean'], label='e_pi_pi_star_metrics')\n",
    "    ax[0].fill_between(grouped.index, grouped['z_pi_pi_star_mean_absolute_error']['mean'] - grouped['z_pi_pi_star_mean_absolute_error']['std'], grouped['z_pi_pi_star_mean_absolute_error']['mean'] + grouped['z_pi_pi_star_mean_absolute_error']['std'], alpha=0.2)\n",
    "\n",
    "    matplotx.ylabel_top('Z isomer MAE', ax=ax[0])\n",
    "\n",
    "    ax[0].hlines(11.616605626696359, 0, 2, color='k', linestyle='--')\n",
    "\n",
    "    ax[0].set_ylim(8,35)\n",
    "\n",
    "    ax[1].plot(grouped.index, grouped['e_pi_pi_star_mean_absolute_error']['mean'], label='e_pi_pi_star_metrics')\n",
    "    ax[1].fill_between(grouped.index, grouped['e_pi_pi_star_mean_absolute_error']['mean'] - grouped['e_pi_pi_star_mean_absolute_error']['std'], grouped['e_pi_pi_star_mean_absolute_error']['mean'] + grouped['e_pi_pi_star_mean_absolute_error']['std'], alpha=0.2)\n",
    "\n",
    "    matplotx.ylabel_top('E isomer MAE', ax=ax[1])\n",
    "\n",
    "    ax[1].hlines(14.38998132190228, 0, 2, color='k', linestyle='--')\n",
    "\n",
    "    ax[-1].set_xlabel('temperature', labelpad=4)\n",
    "    ax[1].set_ylim(10,65)\n",
    "fig.savefig('extrapolation_photoswitch_constrain_matches.pdf', bbox_inches='tight')"
   ]
  },
  {
   "cell_type": "markdown",
   "metadata": {},
   "source": [
    "## Visualize"
   ]
  },
  {
   "cell_type": "code",
   "execution_count": 16,
   "metadata": {},
   "outputs": [],
   "source": [
    "import tmap as tm\n",
    "import numpy as np\n",
    "\n",
    "from faerun import Faerun\n",
    "from mhfp.encoder import MHFPEncoder\n",
    "from rdkit.Chem import AllChem\n",
    "\n",
    "from tqdm import tqdm"
   ]
  },
  {
   "cell_type": "code",
   "execution_count": 17,
   "metadata": {},
   "outputs": [],
   "source": [
    "import os\n",
    "import shutil"
   ]
  },
  {
   "cell_type": "code",
   "execution_count": 18,
   "metadata": {},
   "outputs": [],
   "source": [
    "def make_figure(temp):\n",
    "    path = f\"plots_all/{temp}\"\n",
    "    os.makedirs(path, exist_ok=True)\n",
    "    enc = MHFPEncoder()\n",
    "    lf = tm.LSHForest(2048, 128)\n",
    "    train_data = get_photoswitch_data()\n",
    "    train_smiles = train_data['SMILES'].values\n",
    "    all_smiles = set(train_smiles) | generated_smiles_at_temp[temp]\n",
    "\n",
    "    fps = []\n",
    "    labels = []\n",
    "\n",
    "    for smiles in tqdm(all_smiles):\n",
    "        mol = AllChem.MolFromSmiles(smiles)\n",
    "        fps.append(tm.VectorUint(enc.encode_mol(mol, min_radius=0)))\n",
    "        labels.append(smiles in train_smiles)\n",
    "\n",
    "    lf.batch_add(fps)\n",
    "    lf.index()\n",
    "    cfg = tm.LayoutConfiguration()\n",
    "    cfg.k = 100\n",
    "    cfg.sl_extra_scaling_steps = 6\n",
    "    cfg.sl_repeats = 2\n",
    "    cfg.mmm_repeats = 2\n",
    "    cfg.node_size = 2\n",
    "    x, y, s, t, _ = tm.layout_from_lsh_forest(lf, config=cfg)\n",
    "\n",
    "    f = Faerun(\n",
    "    clear_color=\"#FFFFFF\",\n",
    "    coords=False,\n",
    "    view=\"free\",\n",
    "    impress='made with <a href=\"http://tmap.gdb.tools\" target=\"_blank\">tmap</a><br />and <a href=\"https://github.com/reymond-group/faerun-python\" target=\"_blank\">faerun</a>',\n",
    "    )\n",
    "    f.add_scatter(\n",
    "        f\"Photoswitches\",\n",
    "        {\n",
    "            \"x\": x,\n",
    "            \"y\": y,\n",
    "            \"c\": labels,\n",
    "            \"labels\": all_smiles,\n",
    "        },\n",
    "        colormap=\"Set1\",\n",
    "        categorical=True,\n",
    "        shader='sphere',\n",
    "        has_legend=True,\n",
    "        point_scale=5,\n",
    "        legend_labels=[(1, \"in database\"), (0, \"not in database\")],\n",
    "        max_point_size=5000\n",
    "    )\n",
    "    f.add_tree(\n",
    "        \"Photoswitches_tree\",\n",
    "        {\n",
    "            \"from\": s,\n",
    "            \"to\": t,\n",
    "        },\n",
    "        point_helper=\"Photoswitches\",\n",
    "    )\n",
    "    f.plot(\"Photoswitches\", template=\"smiles\")\n",
    "\n",
    "    shutil.copy(\"Photoswitches.html\", path)"
   ]
  },
  {
   "cell_type": "code",
   "execution_count": 19,
   "metadata": {},
   "outputs": [
    {
     "name": "stderr",
     "output_type": "stream",
     "text": [
      "100%|██████████| 403/403 [00:04<00:00, 92.28it/s]\n"
     ]
    },
    {
     "data": {
      "text/html": [
       "\n",
       "        <iframe\n",
       "            width=\"100%\"\n",
       "            height=\"500\"\n",
       "            src=\"./Photoswitches.html\"\n",
       "            frameborder=\"0\"\n",
       "            allowfullscreen\n",
       "            \n",
       "        ></iframe>\n",
       "        "
      ],
      "text/plain": [
       "<IPython.lib.display.IFrame at 0x2cf2210a0>"
      ]
     },
     "metadata": {},
     "output_type": "display_data"
    },
    {
     "data": {
      "text/html": [
       "<a href='./Photoswitches.html' target='_blank'>./Photoswitches.html</a><br>"
      ],
      "text/plain": [
       "/Users/kevinmaikjablonka/git/kjappelbaum/gptchem/experiments/05_inverse/photoswitch/extrapolation/Photoswitches.html"
      ]
     },
     "metadata": {},
     "output_type": "display_data"
    },
    {
     "name": "stderr",
     "output_type": "stream",
     "text": [
      "100%|██████████| 403/403 [00:04<00:00, 100.67it/s]\n"
     ]
    },
    {
     "data": {
      "text/html": [
       "\n",
       "        <iframe\n",
       "            width=\"100%\"\n",
       "            height=\"500\"\n",
       "            src=\"./Photoswitches.html\"\n",
       "            frameborder=\"0\"\n",
       "            allowfullscreen\n",
       "            \n",
       "        ></iframe>\n",
       "        "
      ],
      "text/plain": [
       "<IPython.lib.display.IFrame at 0x2cf2240a0>"
      ]
     },
     "metadata": {},
     "output_type": "display_data"
    },
    {
     "data": {
      "text/html": [
       "<a href='./Photoswitches.html' target='_blank'>./Photoswitches.html</a><br>"
      ],
      "text/plain": [
       "/Users/kevinmaikjablonka/git/kjappelbaum/gptchem/experiments/05_inverse/photoswitch/extrapolation/Photoswitches.html"
      ]
     },
     "metadata": {},
     "output_type": "display_data"
    },
    {
     "name": "stderr",
     "output_type": "stream",
     "text": [
      "100%|██████████| 404/404 [00:04<00:00, 98.31it/s] \n"
     ]
    },
    {
     "data": {
      "text/html": [
       "\n",
       "        <iframe\n",
       "            width=\"100%\"\n",
       "            height=\"500\"\n",
       "            src=\"./Photoswitches.html\"\n",
       "            frameborder=\"0\"\n",
       "            allowfullscreen\n",
       "            \n",
       "        ></iframe>\n",
       "        "
      ],
      "text/plain": [
       "<IPython.lib.display.IFrame at 0x2c800a190>"
      ]
     },
     "metadata": {},
     "output_type": "display_data"
    },
    {
     "data": {
      "text/html": [
       "<a href='./Photoswitches.html' target='_blank'>./Photoswitches.html</a><br>"
      ],
      "text/plain": [
       "/Users/kevinmaikjablonka/git/kjappelbaum/gptchem/experiments/05_inverse/photoswitch/extrapolation/Photoswitches.html"
      ]
     },
     "metadata": {},
     "output_type": "display_data"
    },
    {
     "name": "stderr",
     "output_type": "stream",
     "text": [
      "100%|██████████| 405/405 [00:04<00:00, 87.65it/s]\n"
     ]
    },
    {
     "data": {
      "text/html": [
       "\n",
       "        <iframe\n",
       "            width=\"100%\"\n",
       "            height=\"500\"\n",
       "            src=\"./Photoswitches.html\"\n",
       "            frameborder=\"0\"\n",
       "            allowfullscreen\n",
       "            \n",
       "        ></iframe>\n",
       "        "
      ],
      "text/plain": [
       "<IPython.lib.display.IFrame at 0x2cdc38dc0>"
      ]
     },
     "metadata": {},
     "output_type": "display_data"
    },
    {
     "data": {
      "text/html": [
       "<a href='./Photoswitches.html' target='_blank'>./Photoswitches.html</a><br>"
      ],
      "text/plain": [
       "/Users/kevinmaikjablonka/git/kjappelbaum/gptchem/experiments/05_inverse/photoswitch/extrapolation/Photoswitches.html"
      ]
     },
     "metadata": {},
     "output_type": "display_data"
    },
    {
     "name": "stderr",
     "output_type": "stream",
     "text": [
      "100%|██████████| 404/404 [00:05<00:00, 76.08it/s]\n"
     ]
    },
    {
     "data": {
      "text/html": [
       "\n",
       "        <iframe\n",
       "            width=\"100%\"\n",
       "            height=\"500\"\n",
       "            src=\"./Photoswitches.html\"\n",
       "            frameborder=\"0\"\n",
       "            allowfullscreen\n",
       "            \n",
       "        ></iframe>\n",
       "        "
      ],
      "text/plain": [
       "<IPython.lib.display.IFrame at 0x2cf21ce80>"
      ]
     },
     "metadata": {},
     "output_type": "display_data"
    },
    {
     "data": {
      "text/html": [
       "<a href='./Photoswitches.html' target='_blank'>./Photoswitches.html</a><br>"
      ],
      "text/plain": [
       "/Users/kevinmaikjablonka/git/kjappelbaum/gptchem/experiments/05_inverse/photoswitch/extrapolation/Photoswitches.html"
      ]
     },
     "metadata": {},
     "output_type": "display_data"
    },
    {
     "name": "stderr",
     "output_type": "stream",
     "text": [
      "100%|██████████| 405/405 [00:04<00:00, 86.38it/s]\n"
     ]
    },
    {
     "data": {
      "text/html": [
       "\n",
       "        <iframe\n",
       "            width=\"100%\"\n",
       "            height=\"500\"\n",
       "            src=\"./Photoswitches.html\"\n",
       "            frameborder=\"0\"\n",
       "            allowfullscreen\n",
       "            \n",
       "        ></iframe>\n",
       "        "
      ],
      "text/plain": [
       "<IPython.lib.display.IFrame at 0x2cf251070>"
      ]
     },
     "metadata": {},
     "output_type": "display_data"
    },
    {
     "data": {
      "text/html": [
       "<a href='./Photoswitches.html' target='_blank'>./Photoswitches.html</a><br>"
      ],
      "text/plain": [
       "/Users/kevinmaikjablonka/git/kjappelbaum/gptchem/experiments/05_inverse/photoswitch/extrapolation/Photoswitches.html"
      ]
     },
     "metadata": {},
     "output_type": "display_data"
    },
    {
     "name": "stderr",
     "output_type": "stream",
     "text": [
      "100%|██████████| 404/404 [00:04<00:00, 82.22it/s]\n"
     ]
    },
    {
     "data": {
      "text/html": [
       "\n",
       "        <iframe\n",
       "            width=\"100%\"\n",
       "            height=\"500\"\n",
       "            src=\"./Photoswitches.html\"\n",
       "            frameborder=\"0\"\n",
       "            allowfullscreen\n",
       "            \n",
       "        ></iframe>\n",
       "        "
      ],
      "text/plain": [
       "<IPython.lib.display.IFrame at 0x2cf24d0a0>"
      ]
     },
     "metadata": {},
     "output_type": "display_data"
    },
    {
     "data": {
      "text/html": [
       "<a href='./Photoswitches.html' target='_blank'>./Photoswitches.html</a><br>"
      ],
      "text/plain": [
       "/Users/kevinmaikjablonka/git/kjappelbaum/gptchem/experiments/05_inverse/photoswitch/extrapolation/Photoswitches.html"
      ]
     },
     "metadata": {},
     "output_type": "display_data"
    },
    {
     "name": "stderr",
     "output_type": "stream",
     "text": [
      "100%|██████████| 404/404 [00:05<00:00, 72.59it/s]\n"
     ]
    },
    {
     "data": {
      "text/html": [
       "\n",
       "        <iframe\n",
       "            width=\"100%\"\n",
       "            height=\"500\"\n",
       "            src=\"./Photoswitches.html\"\n",
       "            frameborder=\"0\"\n",
       "            allowfullscreen\n",
       "            \n",
       "        ></iframe>\n",
       "        "
      ],
      "text/plain": [
       "<IPython.lib.display.IFrame at 0x2cb5b9850>"
      ]
     },
     "metadata": {},
     "output_type": "display_data"
    },
    {
     "data": {
      "text/html": [
       "<a href='./Photoswitches.html' target='_blank'>./Photoswitches.html</a><br>"
      ],
      "text/plain": [
       "/Users/kevinmaikjablonka/git/kjappelbaum/gptchem/experiments/05_inverse/photoswitch/extrapolation/Photoswitches.html"
      ]
     },
     "metadata": {},
     "output_type": "display_data"
    },
    {
     "name": "stderr",
     "output_type": "stream",
     "text": [
      "100%|██████████| 404/404 [00:04<00:00, 81.67it/s]\n"
     ]
    },
    {
     "data": {
      "text/html": [
       "\n",
       "        <iframe\n",
       "            width=\"100%\"\n",
       "            height=\"500\"\n",
       "            src=\"./Photoswitches.html\"\n",
       "            frameborder=\"0\"\n",
       "            allowfullscreen\n",
       "            \n",
       "        ></iframe>\n",
       "        "
      ],
      "text/plain": [
       "<IPython.lib.display.IFrame at 0x2cf254250>"
      ]
     },
     "metadata": {},
     "output_type": "display_data"
    },
    {
     "data": {
      "text/html": [
       "<a href='./Photoswitches.html' target='_blank'>./Photoswitches.html</a><br>"
      ],
      "text/plain": [
       "/Users/kevinmaikjablonka/git/kjappelbaum/gptchem/experiments/05_inverse/photoswitch/extrapolation/Photoswitches.html"
      ]
     },
     "metadata": {},
     "output_type": "display_data"
    }
   ],
   "source": [
    "for temp in [0, 0.1, 0.2, 0.5, 0.75, 1.0, 1.25, 1.5, 2.0]:\n",
    "    make_figure(temp)"
   ]
  },
  {
   "cell_type": "markdown",
   "metadata": {},
   "source": [
    "## Plot histograms"
   ]
  },
  {
   "cell_type": "code",
   "execution_count": 20,
   "metadata": {},
   "outputs": [],
   "source": [
    "data = get_photoswitch_data()"
   ]
  },
  {
   "cell_type": "code",
   "execution_count": 21,
   "metadata": {},
   "outputs": [],
   "source": [
    "data_subset = data.dropna(\n",
    "        subset=[\"E isomer pi-pi* wavelength in nm\", \"SMILES\", \"Z isomer pi-pi* wavelength in nm\"]\n",
    "    )"
   ]
  },
  {
   "cell_type": "code",
   "execution_count": 22,
   "metadata": {},
   "outputs": [],
   "source": [
    "data_tresholded = data_subset[data_subset['E isomer pi-pi* wavelength in nm'] < 350]"
   ]
  },
  {
   "cell_type": "code",
   "execution_count": 23,
   "metadata": {},
   "outputs": [],
   "source": [
    "all_data = pd.concat([data_subset, data_tresholded])\n",
    "all_data['kind'] = ['all'] * len(data_subset) + ['tresholded'] * len(data_tresholded)"
   ]
  },
  {
   "cell_type": "code",
   "execution_count": 24,
   "metadata": {},
   "outputs": [],
   "source": [
    "from gptchem.evaluator import predict_photoswitch"
   ]
  },
  {
   "cell_type": "code",
   "execution_count": 25,
   "metadata": {},
   "outputs": [],
   "source": [
    "predictions = []\n",
    "\n",
    "for smile in generated_smiles:\n",
    "    pred_e_pi_pi_star, pred_z_pi_pi_star = predict_photoswitch(smile)\n",
    "    predictions.append(\n",
    "        {\n",
    "            'SMILES': smile,\n",
    "            'E isomer pi-pi* wavelength in nm': pred_e_pi_pi_star[0][0],\n",
    "            'Z isomer pi-pi* wavelength in nm': pred_z_pi_pi_star[0][0],\n",
    "            \"kind\": \"generated\"\n",
    "        }\n",
    "    )"
   ]
  },
  {
   "cell_type": "code",
   "execution_count": 26,
   "metadata": {},
   "outputs": [],
   "source": [
    "pred_frame =pd.DataFrame(predictions).drop_duplicates(subset=['SMILES'])"
   ]
  },
  {
   "cell_type": "code",
   "execution_count": 27,
   "metadata": {},
   "outputs": [],
   "source": [
    "all_data = pd.concat([all_data, pred_frame])"
   ]
  },
  {
   "cell_type": "code",
   "execution_count": 28,
   "metadata": {},
   "outputs": [
    {
     "data": {
      "text/html": [
       "<div>\n",
       "<style scoped>\n",
       "    .dataframe tbody tr th:only-of-type {\n",
       "        vertical-align: middle;\n",
       "    }\n",
       "\n",
       "    .dataframe tbody tr th {\n",
       "        vertical-align: top;\n",
       "    }\n",
       "\n",
       "    .dataframe thead th {\n",
       "        text-align: right;\n",
       "    }\n",
       "</style>\n",
       "<table border=\"1\" class=\"dataframe\">\n",
       "  <thead>\n",
       "    <tr style=\"text-align: right;\">\n",
       "      <th></th>\n",
       "      <th>SMILES</th>\n",
       "      <th>rate of thermal isomerisation from Z-E in s-1</th>\n",
       "      <th>Solvent used for thermal isomerisation rates</th>\n",
       "      <th>Z PhotoStationaryState</th>\n",
       "      <th>E PhotoStationaryState</th>\n",
       "      <th>E isomer pi-pi* wavelength in nm</th>\n",
       "      <th>Extinction</th>\n",
       "      <th>E isomer n-pi* wavelength in nm</th>\n",
       "      <th>Extinction coefficient in M-1 cm-1</th>\n",
       "      <th>Z isomer pi-pi* wavelength in nm</th>\n",
       "      <th>...</th>\n",
       "      <th>CAM-B3LYP/6-31G** DFT Z isomer n-pi* wavelength in nm</th>\n",
       "      <th>BHLYP/6-31G* DFT E isomer pi-pi* wavelength in nm</th>\n",
       "      <th>BHLYP/6-31G* DFT E isomer n-pi* wavelength in nm</th>\n",
       "      <th>BHLYP/6-31G* Z isomer pi-pi* wavelength in nm</th>\n",
       "      <th>BHLYP/6-31G* DFT Z isomer n-pi* wavelength in nm</th>\n",
       "      <th>name</th>\n",
       "      <th>selfies</th>\n",
       "      <th>wavelength_cat</th>\n",
       "      <th>inchi</th>\n",
       "      <th>kind</th>\n",
       "    </tr>\n",
       "  </thead>\n",
       "  <tbody>\n",
       "    <tr>\n",
       "      <th>0</th>\n",
       "      <td>C[N]1C=CC(=N1)N=NC2=CC=CC=C2</td>\n",
       "      <td>2.100000e-07</td>\n",
       "      <td>MeCN</td>\n",
       "      <td>76.0</td>\n",
       "      <td>72.0</td>\n",
       "      <td>310.000000</td>\n",
       "      <td>1.67</td>\n",
       "      <td>442.0</td>\n",
       "      <td>0.0373</td>\n",
       "      <td>290.000000</td>\n",
       "      <td>...</td>\n",
       "      <td>NaN</td>\n",
       "      <td>NaN</td>\n",
       "      <td>NaN</td>\n",
       "      <td>NaN</td>\n",
       "      <td>NaN</td>\n",
       "      <td>NaN</td>\n",
       "      <td>[C][NH0][N][=N][C][=Branch1][Ring2][=N][Ring1]...</td>\n",
       "      <td>very small</td>\n",
       "      <td>InChI=1S/C10H10N4/c1-14-8-7-10(13-14)12-11-9-5...</td>\n",
       "      <td>all</td>\n",
       "    </tr>\n",
       "    <tr>\n",
       "      <th>1</th>\n",
       "      <td>C[N]1C=NC(=N1)N=NC2=CC=CC=C2</td>\n",
       "      <td>3.800000e-07</td>\n",
       "      <td>MeCN</td>\n",
       "      <td>90.0</td>\n",
       "      <td>84.0</td>\n",
       "      <td>310.000000</td>\n",
       "      <td>1.87</td>\n",
       "      <td>438.0</td>\n",
       "      <td>0.0505</td>\n",
       "      <td>272.000000</td>\n",
       "      <td>...</td>\n",
       "      <td>NaN</td>\n",
       "      <td>NaN</td>\n",
       "      <td>NaN</td>\n",
       "      <td>NaN</td>\n",
       "      <td>NaN</td>\n",
       "      <td>NaN</td>\n",
       "      <td>[C][NH0][C][=N][C][=Branch1][Ring2][=N][Ring1]...</td>\n",
       "      <td>very small</td>\n",
       "      <td>InChI=1S/C9H9N5/c1-14-7-10-9(13-14)12-11-8-5-3...</td>\n",
       "      <td>all</td>\n",
       "    </tr>\n",
       "    <tr>\n",
       "      <th>2</th>\n",
       "      <td>C[N]1C=C(C)C(=N1)N=NC2=CC=CC=C2</td>\n",
       "      <td>1.500000e-06</td>\n",
       "      <td>MeCN</td>\n",
       "      <td>96.0</td>\n",
       "      <td>87.0</td>\n",
       "      <td>325.000000</td>\n",
       "      <td>1.74</td>\n",
       "      <td>428.0</td>\n",
       "      <td>0.0612</td>\n",
       "      <td>286.000000</td>\n",
       "      <td>...</td>\n",
       "      <td>NaN</td>\n",
       "      <td>NaN</td>\n",
       "      <td>NaN</td>\n",
       "      <td>NaN</td>\n",
       "      <td>NaN</td>\n",
       "      <td>NaN</td>\n",
       "      <td>[C][NH0][C][=C][Branch1][C][C][C][=Branch1][Ri...</td>\n",
       "      <td>very small</td>\n",
       "      <td>InChI=1S/C11H12N4/c1-9-8-15(2)14-11(9)13-12-10...</td>\n",
       "      <td>all</td>\n",
       "    </tr>\n",
       "    <tr>\n",
       "      <th>3</th>\n",
       "      <td>C[N]1C=C(C=N1)N=NC2=CC=CC=C2</td>\n",
       "      <td>7.600000e-09</td>\n",
       "      <td>MeCN</td>\n",
       "      <td>98.0</td>\n",
       "      <td>70.0</td>\n",
       "      <td>328.000000</td>\n",
       "      <td>1.66</td>\n",
       "      <td>417.0</td>\n",
       "      <td>0.0640</td>\n",
       "      <td>275.000000</td>\n",
       "      <td>...</td>\n",
       "      <td>401.0</td>\n",
       "      <td>NaN</td>\n",
       "      <td>NaN</td>\n",
       "      <td>NaN</td>\n",
       "      <td>NaN</td>\n",
       "      <td>NaN</td>\n",
       "      <td>[C][NH0][C][=C][Branch1][Branch1][C][=N][Ring1...</td>\n",
       "      <td>very small</td>\n",
       "      <td>InChI=1S/C10H10N4/c1-14-8-10(7-11-14)13-12-9-5...</td>\n",
       "      <td>all</td>\n",
       "    </tr>\n",
       "    <tr>\n",
       "      <th>4</th>\n",
       "      <td>C[N]1N=C(C)C(=C1C)N=NC2=CC=CC=C2</td>\n",
       "      <td>7.700000e-07</td>\n",
       "      <td>MeCN</td>\n",
       "      <td>98.0</td>\n",
       "      <td>98.0</td>\n",
       "      <td>335.000000</td>\n",
       "      <td>2.27</td>\n",
       "      <td>425.0</td>\n",
       "      <td>0.0963</td>\n",
       "      <td>296.000000</td>\n",
       "      <td>...</td>\n",
       "      <td>449.0</td>\n",
       "      <td>NaN</td>\n",
       "      <td>NaN</td>\n",
       "      <td>NaN</td>\n",
       "      <td>NaN</td>\n",
       "      <td>phenyl-(1,3,5-trimethylpyrazol-4-yl)diazene</td>\n",
       "      <td>[C][NH0][N][=C][Branch1][C][C][C][=Branch1][Br...</td>\n",
       "      <td>very small</td>\n",
       "      <td>InChI=1S/C12H14N4/c1-9-12(10(2)16(3)15-9)14-13...</td>\n",
       "      <td>all</td>\n",
       "    </tr>\n",
       "    <tr>\n",
       "      <th>...</th>\n",
       "      <td>...</td>\n",
       "      <td>...</td>\n",
       "      <td>...</td>\n",
       "      <td>...</td>\n",
       "      <td>...</td>\n",
       "      <td>...</td>\n",
       "      <td>...</td>\n",
       "      <td>...</td>\n",
       "      <td>...</td>\n",
       "      <td>...</td>\n",
       "      <td>...</td>\n",
       "      <td>...</td>\n",
       "      <td>...</td>\n",
       "      <td>...</td>\n",
       "      <td>...</td>\n",
       "      <td>...</td>\n",
       "      <td>...</td>\n",
       "      <td>...</td>\n",
       "      <td>...</td>\n",
       "      <td>...</td>\n",
       "      <td>...</td>\n",
       "    </tr>\n",
       "    <tr>\n",
       "      <th>11</th>\n",
       "      <td>CC1=C(/N=N/C2=CC=CC=C2C)C(C)=NO1</td>\n",
       "      <td>NaN</td>\n",
       "      <td>NaN</td>\n",
       "      <td>NaN</td>\n",
       "      <td>NaN</td>\n",
       "      <td>315.786151</td>\n",
       "      <td>NaN</td>\n",
       "      <td>NaN</td>\n",
       "      <td>NaN</td>\n",
       "      <td>305.287686</td>\n",
       "      <td>...</td>\n",
       "      <td>NaN</td>\n",
       "      <td>NaN</td>\n",
       "      <td>NaN</td>\n",
       "      <td>NaN</td>\n",
       "      <td>NaN</td>\n",
       "      <td>NaN</td>\n",
       "      <td>NaN</td>\n",
       "      <td>NaN</td>\n",
       "      <td>NaN</td>\n",
       "      <td>generated</td>\n",
       "    </tr>\n",
       "    <tr>\n",
       "      <th>12</th>\n",
       "      <td>CN daughters Choose flavour 193 Cameroon Coral...</td>\n",
       "      <td>NaN</td>\n",
       "      <td>NaN</td>\n",
       "      <td>NaN</td>\n",
       "      <td>NaN</td>\n",
       "      <td>404.429453</td>\n",
       "      <td>NaN</td>\n",
       "      <td>NaN</td>\n",
       "      <td>NaN</td>\n",
       "      <td>322.929113</td>\n",
       "      <td>...</td>\n",
       "      <td>NaN</td>\n",
       "      <td>NaN</td>\n",
       "      <td>NaN</td>\n",
       "      <td>NaN</td>\n",
       "      <td>NaN</td>\n",
       "      <td>NaN</td>\n",
       "      <td>NaN</td>\n",
       "      <td>NaN</td>\n",
       "      <td>NaN</td>\n",
       "      <td>generated</td>\n",
       "    </tr>\n",
       "    <tr>\n",
       "      <th>13</th>\n",
       "      <td>CC1=NOC(C)=C1/N=N/C2=CC=C(C)C=C2</td>\n",
       "      <td>NaN</td>\n",
       "      <td>NaN</td>\n",
       "      <td>NaN</td>\n",
       "      <td>NaN</td>\n",
       "      <td>317.428861</td>\n",
       "      <td>NaN</td>\n",
       "      <td>NaN</td>\n",
       "      <td>NaN</td>\n",
       "      <td>304.485348</td>\n",
       "      <td>...</td>\n",
       "      <td>NaN</td>\n",
       "      <td>NaN</td>\n",
       "      <td>NaN</td>\n",
       "      <td>NaN</td>\n",
       "      <td>NaN</td>\n",
       "      <td>NaN</td>\n",
       "      <td>NaN</td>\n",
       "      <td>NaN</td>\n",
       "      <td>NaN</td>\n",
       "      <td>generated</td>\n",
       "    </tr>\n",
       "    <tr>\n",
       "      <th>14</th>\n",
       "      <td>FC1=CC=CC=C1/N=N/C2=C(F)C=CC=C2</td>\n",
       "      <td>NaN</td>\n",
       "      <td>NaN</td>\n",
       "      <td>NaN</td>\n",
       "      <td>NaN</td>\n",
       "      <td>326.858714</td>\n",
       "      <td>NaN</td>\n",
       "      <td>NaN</td>\n",
       "      <td>NaN</td>\n",
       "      <td>278.865923</td>\n",
       "      <td>...</td>\n",
       "      <td>NaN</td>\n",
       "      <td>NaN</td>\n",
       "      <td>NaN</td>\n",
       "      <td>NaN</td>\n",
       "      <td>NaN</td>\n",
       "      <td>NaN</td>\n",
       "      <td>NaN</td>\n",
       "      <td>NaN</td>\n",
       "      <td>NaN</td>\n",
       "      <td>generated</td>\n",
       "    </tr>\n",
       "    <tr>\n",
       "      <th>15</th>\n",
       "      <td>CC1=C(C(C)=NN1)/N=N/C2=CC(C(F)(F)F)=CC=C2</td>\n",
       "      <td>NaN</td>\n",
       "      <td>NaN</td>\n",
       "      <td>NaN</td>\n",
       "      <td>NaN</td>\n",
       "      <td>332.300713</td>\n",
       "      <td>NaN</td>\n",
       "      <td>NaN</td>\n",
       "      <td>NaN</td>\n",
       "      <td>297.008413</td>\n",
       "      <td>...</td>\n",
       "      <td>NaN</td>\n",
       "      <td>NaN</td>\n",
       "      <td>NaN</td>\n",
       "      <td>NaN</td>\n",
       "      <td>NaN</td>\n",
       "      <td>NaN</td>\n",
       "      <td>NaN</td>\n",
       "      <td>NaN</td>\n",
       "      <td>NaN</td>\n",
       "      <td>generated</td>\n",
       "    </tr>\n",
       "  </tbody>\n",
       "</table>\n",
       "<p>183 rows × 38 columns</p>\n",
       "</div>"
      ],
      "text/plain": [
       "                                               SMILES  \\\n",
       "0                        C[N]1C=CC(=N1)N=NC2=CC=CC=C2   \n",
       "1                        C[N]1C=NC(=N1)N=NC2=CC=CC=C2   \n",
       "2                     C[N]1C=C(C)C(=N1)N=NC2=CC=CC=C2   \n",
       "3                        C[N]1C=C(C=N1)N=NC2=CC=CC=C2   \n",
       "4                    C[N]1N=C(C)C(=C1C)N=NC2=CC=CC=C2   \n",
       "..                                                ...   \n",
       "11                   CC1=C(/N=N/C2=CC=CC=C2C)C(C)=NO1   \n",
       "12  CN daughters Choose flavour 193 Cameroon Coral...   \n",
       "13                   CC1=NOC(C)=C1/N=N/C2=CC=C(C)C=C2   \n",
       "14                    FC1=CC=CC=C1/N=N/C2=C(F)C=CC=C2   \n",
       "15          CC1=C(C(C)=NN1)/N=N/C2=CC(C(F)(F)F)=CC=C2   \n",
       "\n",
       "    rate of thermal isomerisation from Z-E in s-1  \\\n",
       "0                                    2.100000e-07   \n",
       "1                                    3.800000e-07   \n",
       "2                                    1.500000e-06   \n",
       "3                                    7.600000e-09   \n",
       "4                                    7.700000e-07   \n",
       "..                                            ...   \n",
       "11                                            NaN   \n",
       "12                                            NaN   \n",
       "13                                            NaN   \n",
       "14                                            NaN   \n",
       "15                                            NaN   \n",
       "\n",
       "   Solvent used for thermal isomerisation rates  Z PhotoStationaryState  \\\n",
       "0                                          MeCN                    76.0   \n",
       "1                                          MeCN                    90.0   \n",
       "2                                          MeCN                    96.0   \n",
       "3                                          MeCN                    98.0   \n",
       "4                                          MeCN                    98.0   \n",
       "..                                          ...                     ...   \n",
       "11                                          NaN                     NaN   \n",
       "12                                          NaN                     NaN   \n",
       "13                                          NaN                     NaN   \n",
       "14                                          NaN                     NaN   \n",
       "15                                          NaN                     NaN   \n",
       "\n",
       "    E PhotoStationaryState  E isomer pi-pi* wavelength in nm  Extinction  \\\n",
       "0                     72.0                        310.000000        1.67   \n",
       "1                     84.0                        310.000000        1.87   \n",
       "2                     87.0                        325.000000        1.74   \n",
       "3                     70.0                        328.000000        1.66   \n",
       "4                     98.0                        335.000000        2.27   \n",
       "..                     ...                               ...         ...   \n",
       "11                     NaN                        315.786151         NaN   \n",
       "12                     NaN                        404.429453         NaN   \n",
       "13                     NaN                        317.428861         NaN   \n",
       "14                     NaN                        326.858714         NaN   \n",
       "15                     NaN                        332.300713         NaN   \n",
       "\n",
       "    E isomer n-pi* wavelength in nm  Extinction coefficient in M-1 cm-1  \\\n",
       "0                             442.0                              0.0373   \n",
       "1                             438.0                              0.0505   \n",
       "2                             428.0                              0.0612   \n",
       "3                             417.0                              0.0640   \n",
       "4                             425.0                              0.0963   \n",
       "..                              ...                                 ...   \n",
       "11                              NaN                                 NaN   \n",
       "12                              NaN                                 NaN   \n",
       "13                              NaN                                 NaN   \n",
       "14                              NaN                                 NaN   \n",
       "15                              NaN                                 NaN   \n",
       "\n",
       "    Z isomer pi-pi* wavelength in nm  ...  \\\n",
       "0                         290.000000  ...   \n",
       "1                         272.000000  ...   \n",
       "2                         286.000000  ...   \n",
       "3                         275.000000  ...   \n",
       "4                         296.000000  ...   \n",
       "..                               ...  ...   \n",
       "11                        305.287686  ...   \n",
       "12                        322.929113  ...   \n",
       "13                        304.485348  ...   \n",
       "14                        278.865923  ...   \n",
       "15                        297.008413  ...   \n",
       "\n",
       "    CAM-B3LYP/6-31G** DFT Z isomer n-pi* wavelength in nm  \\\n",
       "0                                                 NaN       \n",
       "1                                                 NaN       \n",
       "2                                                 NaN       \n",
       "3                                               401.0       \n",
       "4                                               449.0       \n",
       "..                                                ...       \n",
       "11                                                NaN       \n",
       "12                                                NaN       \n",
       "13                                                NaN       \n",
       "14                                                NaN       \n",
       "15                                                NaN       \n",
       "\n",
       "    BHLYP/6-31G* DFT E isomer pi-pi* wavelength in nm  \\\n",
       "0                                                 NaN   \n",
       "1                                                 NaN   \n",
       "2                                                 NaN   \n",
       "3                                                 NaN   \n",
       "4                                                 NaN   \n",
       "..                                                ...   \n",
       "11                                                NaN   \n",
       "12                                                NaN   \n",
       "13                                                NaN   \n",
       "14                                                NaN   \n",
       "15                                                NaN   \n",
       "\n",
       "    BHLYP/6-31G* DFT E isomer n-pi* wavelength in nm  \\\n",
       "0                                                NaN   \n",
       "1                                                NaN   \n",
       "2                                                NaN   \n",
       "3                                                NaN   \n",
       "4                                                NaN   \n",
       "..                                               ...   \n",
       "11                                               NaN   \n",
       "12                                               NaN   \n",
       "13                                               NaN   \n",
       "14                                               NaN   \n",
       "15                                               NaN   \n",
       "\n",
       "    BHLYP/6-31G* Z isomer pi-pi* wavelength in nm  \\\n",
       "0                                             NaN   \n",
       "1                                             NaN   \n",
       "2                                             NaN   \n",
       "3                                             NaN   \n",
       "4                                             NaN   \n",
       "..                                            ...   \n",
       "11                                            NaN   \n",
       "12                                            NaN   \n",
       "13                                            NaN   \n",
       "14                                            NaN   \n",
       "15                                            NaN   \n",
       "\n",
       "   BHLYP/6-31G* DFT Z isomer n-pi* wavelength in nm  \\\n",
       "0                                               NaN   \n",
       "1                                               NaN   \n",
       "2                                               NaN   \n",
       "3                                               NaN   \n",
       "4                                               NaN   \n",
       "..                                              ...   \n",
       "11                                              NaN   \n",
       "12                                              NaN   \n",
       "13                                              NaN   \n",
       "14                                              NaN   \n",
       "15                                              NaN   \n",
       "\n",
       "                                           name  \\\n",
       "0                                           NaN   \n",
       "1                                           NaN   \n",
       "2                                           NaN   \n",
       "3                                           NaN   \n",
       "4   phenyl-(1,3,5-trimethylpyrazol-4-yl)diazene   \n",
       "..                                          ...   \n",
       "11                                          NaN   \n",
       "12                                          NaN   \n",
       "13                                          NaN   \n",
       "14                                          NaN   \n",
       "15                                          NaN   \n",
       "\n",
       "                                              selfies  wavelength_cat  \\\n",
       "0   [C][NH0][N][=N][C][=Branch1][Ring2][=N][Ring1]...      very small   \n",
       "1   [C][NH0][C][=N][C][=Branch1][Ring2][=N][Ring1]...      very small   \n",
       "2   [C][NH0][C][=C][Branch1][C][C][C][=Branch1][Ri...      very small   \n",
       "3   [C][NH0][C][=C][Branch1][Branch1][C][=N][Ring1...      very small   \n",
       "4   [C][NH0][N][=C][Branch1][C][C][C][=Branch1][Br...      very small   \n",
       "..                                                ...             ...   \n",
       "11                                                NaN             NaN   \n",
       "12                                                NaN             NaN   \n",
       "13                                                NaN             NaN   \n",
       "14                                                NaN             NaN   \n",
       "15                                                NaN             NaN   \n",
       "\n",
       "                                                inchi       kind  \n",
       "0   InChI=1S/C10H10N4/c1-14-8-7-10(13-14)12-11-9-5...        all  \n",
       "1   InChI=1S/C9H9N5/c1-14-7-10-9(13-14)12-11-8-5-3...        all  \n",
       "2   InChI=1S/C11H12N4/c1-9-8-15(2)14-11(9)13-12-10...        all  \n",
       "3   InChI=1S/C10H10N4/c1-14-8-10(7-11-14)13-12-9-5...        all  \n",
       "4   InChI=1S/C12H14N4/c1-9-12(10(2)16(3)15-9)14-13...        all  \n",
       "..                                                ...        ...  \n",
       "11                                                NaN  generated  \n",
       "12                                                NaN  generated  \n",
       "13                                                NaN  generated  \n",
       "14                                                NaN  generated  \n",
       "15                                                NaN  generated  \n",
       "\n",
       "[183 rows x 38 columns]"
      ]
     },
     "execution_count": 28,
     "metadata": {},
     "output_type": "execute_result"
    }
   ],
   "source": [
    "all_data"
   ]
  },
  {
   "cell_type": "code",
   "execution_count": 29,
   "metadata": {},
   "outputs": [
    {
     "data": {
      "image/png": "[encoded data removed]",
      "text/plain": [
       "<Figure size 580.223x500 with 1 Axes>"
      ]
     },
     "metadata": {},
     "output_type": "display_data"
    }
   ],
   "source": [
    "with plt.style.context(matplotx.styles.dufte):\n",
    "    sns.displot(\n",
    "        all_data,\n",
    "        x = 'E isomer pi-pi* wavelength in nm',\n",
    "        y = 'Z isomer pi-pi* wavelength in nm',\n",
    "        kind='kde',\n",
    "        hue='kind',\n",
    "        rug=True,\n",
    "    )\n",
    "\n",
    "plt.savefig('extrapolation_photoswitch_dist.pdf', bbox_inches='tight')\n"
   ]
  },
  {
   "cell_type": "code",
   "execution_count": null,
   "metadata": {},
   "outputs": [],
   "source": []
  }
 ],
 "metadata": {
  "kernelspec": {
   "display_name": "gptchem",
   "language": "python",
   "name": "python3"
  },
  "language_info": {
   "codemirror_mode": {
    "name": "ipython",
    "version": 3
   },
   "file_extension": ".py",
   "mimetype": "text/x-python",
   "name": "python",
   "nbconvert_exporter": "python",
   "pygments_lexer": "ipython3",
   "version": "3.9.15"
  },
  "orig_nbformat": 4,
  "vscode": {
   "interpreter": {
    "hash": "2f3b9074e5baa1438c27e2ea813f7f53b7516c83bd70840b6d64eae6820ee5df"
   }
  }
 },
 "nbformat": 4,
 "nbformat_minor": 2
}
