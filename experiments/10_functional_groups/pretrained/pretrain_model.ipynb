{
 "cells": [
  {
   "cell_type": "code",
   "execution_count": 1,
   "metadata": {},
   "outputs": [],
   "source": [
    "%load_ext autoreload \n",
    "%autoreload 2"
   ]
  },
  {
   "cell_type": "code",
   "execution_count": 2,
   "metadata": {},
   "outputs": [],
   "source": [
    "from gptchem.data import get_qmug_data\n",
    "from gptchem.formatter import InverseDesignFormatter\n",
    "from gptchem.tuner import Tuner "
   ]
  },
  {
   "cell_type": "code",
   "execution_count": 3,
   "metadata": {},
   "outputs": [],
   "source": [
    "data = get_qmug_data()"
   ]
  },
  {
   "cell_type": "code",
   "execution_count": 4,
   "metadata": {},
   "outputs": [],
   "source": [
    "train_data = data.sample(1000)"
   ]
  },
  {
   "cell_type": "code",
   "execution_count": 5,
   "metadata": {},
   "outputs": [],
   "source": [
    "formatter = InverseDesignFormatter(\n",
    "    representation_column=\"SMILES\",\n",
    "    property_columns=[\"GFN2_HOMO_LUMO_GAP_mean_ev\"],\n",
    "    property_names=[\"bandgap\"],\n",
    "    num_digits=2,\n",
    ")"
   ]
  },
  {
   "cell_type": "code",
   "execution_count": 6,
   "metadata": {},
   "outputs": [],
   "source": [
    "formatted = formatter(train_data)"
   ]
  },
  {
   "cell_type": "code",
   "execution_count": 7,
   "metadata": {},
   "outputs": [
    {
     "data": {
      "text/html": [
       "<div>\n",
       "<style scoped>\n",
       "    .dataframe tbody tr th:only-of-type {\n",
       "        vertical-align: middle;\n",
       "    }\n",
       "\n",
       "    .dataframe tbody tr th {\n",
       "        vertical-align: top;\n",
       "    }\n",
       "\n",
       "    .dataframe thead th {\n",
       "        text-align: right;\n",
       "    }\n",
       "</style>\n",
       "<table border=\"1\" class=\"dataframe\">\n",
       "  <thead>\n",
       "    <tr style=\"text-align: right;\">\n",
       "      <th></th>\n",
       "      <th>prompt</th>\n",
       "      <th>completion</th>\n",
       "      <th>label</th>\n",
       "      <th>representation</th>\n",
       "    </tr>\n",
       "  </thead>\n",
       "  <tbody>\n",
       "    <tr>\n",
       "      <th>0</th>\n",
       "      <td>What is a molecule with bandgap 2.83?###</td>\n",
       "      <td>[H]c1nc(N2C([H])([H])C([H])([H])C([H])(OC([H]...</td>\n",
       "      <td>[H]c1nc(N2C([H])([H])C([H])([H])C([H])(OC([H])...</td>\n",
       "      <td>[2.827840434633333]</td>\n",
       "    </tr>\n",
       "    <tr>\n",
       "      <th>1</th>\n",
       "      <td>What is a molecule with bandgap 2.56?###</td>\n",
       "      <td>[H]c1nc(N([H])C(=O)C([H])([H])N2C([H])([H])C(...</td>\n",
       "      <td>[H]c1nc(N([H])C(=O)C([H])([H])N2C([H])([H])C([...</td>\n",
       "      <td>[2.5561191858400005]</td>\n",
       "    </tr>\n",
       "    <tr>\n",
       "      <th>2</th>\n",
       "      <td>What is a molecule with bandgap 3.11?###</td>\n",
       "      <td>[H]OC(=O)C([H])([H])C([H])([H])C([H])([H])C([...</td>\n",
       "      <td>[H]OC(=O)C([H])([H])C([H])([H])C([H])([H])C([H...</td>\n",
       "      <td>[3.1067300732333334]</td>\n",
       "    </tr>\n",
       "    <tr>\n",
       "      <th>3</th>\n",
       "      <td>What is a molecule with bandgap 3.44?###</td>\n",
       "      <td>[H]OC(=O)C([H])([H])Oc1c([H])c(C([H])([H])[H]...</td>\n",
       "      <td>[H]OC(=O)C([H])([H])Oc1c([H])c(C([H])([H])[H])...</td>\n",
       "      <td>[3.4418992363600003]</td>\n",
       "    </tr>\n",
       "    <tr>\n",
       "      <th>4</th>\n",
       "      <td>What is a molecule with bandgap 1.58?###</td>\n",
       "      <td>[H]OC1=C(C([H])([H])C([H])([H])C([H])([H])C([...</td>\n",
       "      <td>[H]OC1=C(C([H])([H])C([H])([H])C([H])([H])C([H...</td>\n",
       "      <td>[1.5800544312599991]</td>\n",
       "    </tr>\n",
       "    <tr>\n",
       "      <th>...</th>\n",
       "      <td>...</td>\n",
       "      <td>...</td>\n",
       "      <td>...</td>\n",
       "      <td>...</td>\n",
       "    </tr>\n",
       "    <tr>\n",
       "      <th>995</th>\n",
       "      <td>What is a molecule with bandgap 2.74?###</td>\n",
       "      <td>[H]/C(C(=O)c1c([H])c([H])c([H])c([H])c1[H])=C...</td>\n",
       "      <td>[H]/C(C(=O)c1c([H])c([H])c([H])c([H])c1[H])=C(...</td>\n",
       "      <td>[2.7449272988333333]</td>\n",
       "    </tr>\n",
       "    <tr>\n",
       "      <th>996</th>\n",
       "      <td>What is a molecule with bandgap 2.33?###</td>\n",
       "      <td>[H]c1nc(OC([H])([H])c2c([H])c3c([H])nc(C#N)nc...</td>\n",
       "      <td>[H]c1nc(OC([H])([H])c2c([H])c3c([H])nc(C#N)nc3...</td>\n",
       "      <td>[2.3318800159533333]</td>\n",
       "    </tr>\n",
       "    <tr>\n",
       "      <th>997</th>\n",
       "      <td>What is a molecule with bandgap 3.03?###</td>\n",
       "      <td>[H]N([H])C(=O)c1nnsc1N([H])C1([H])C([H])([H])...</td>\n",
       "      <td>[H]N([H])C(=O)c1nnsc1N([H])C1([H])C([H])([H])C...</td>\n",
       "      <td>[3.0260981597999987]</td>\n",
       "    </tr>\n",
       "    <tr>\n",
       "      <th>998</th>\n",
       "      <td>What is a molecule with bandgap 3.43?###</td>\n",
       "      <td>[H]Oc1c([H])c([H])c2c(c1[H])c(C([H])([H])C([H...</td>\n",
       "      <td>[H]Oc1c([H])c([H])c2c(c1[H])c(C([H])([H])C([H]...</td>\n",
       "      <td>[3.4337603066200004]</td>\n",
       "    </tr>\n",
       "    <tr>\n",
       "      <th>999</th>\n",
       "      <td>What is a molecule with bandgap 2.06?###</td>\n",
       "      <td>[H]c1nc([H])c([H])c(C(C(=O)N2C([H])([H])C([H]...</td>\n",
       "      <td>[H]c1nc([H])c([H])c(C(C(=O)N2C([H])([H])C([H])...</td>\n",
       "      <td>[2.06058054386]</td>\n",
       "    </tr>\n",
       "  </tbody>\n",
       "</table>\n",
       "<p>1000 rows × 4 columns</p>\n",
       "</div>"
      ],
      "text/plain": [
       "                                       prompt  \\\n",
       "0    What is a molecule with bandgap 2.83?###   \n",
       "1    What is a molecule with bandgap 2.56?###   \n",
       "2    What is a molecule with bandgap 3.11?###   \n",
       "3    What is a molecule with bandgap 3.44?###   \n",
       "4    What is a molecule with bandgap 1.58?###   \n",
       "..                                        ...   \n",
       "995  What is a molecule with bandgap 2.74?###   \n",
       "996  What is a molecule with bandgap 2.33?###   \n",
       "997  What is a molecule with bandgap 3.03?###   \n",
       "998  What is a molecule with bandgap 3.43?###   \n",
       "999  What is a molecule with bandgap 2.06?###   \n",
       "\n",
       "                                            completion  \\\n",
       "0     [H]c1nc(N2C([H])([H])C([H])([H])C([H])(OC([H]...   \n",
       "1     [H]c1nc(N([H])C(=O)C([H])([H])N2C([H])([H])C(...   \n",
       "2     [H]OC(=O)C([H])([H])C([H])([H])C([H])([H])C([...   \n",
       "3     [H]OC(=O)C([H])([H])Oc1c([H])c(C([H])([H])[H]...   \n",
       "4     [H]OC1=C(C([H])([H])C([H])([H])C([H])([H])C([...   \n",
       "..                                                 ...   \n",
       "995   [H]/C(C(=O)c1c([H])c([H])c([H])c([H])c1[H])=C...   \n",
       "996   [H]c1nc(OC([H])([H])c2c([H])c3c([H])nc(C#N)nc...   \n",
       "997   [H]N([H])C(=O)c1nnsc1N([H])C1([H])C([H])([H])...   \n",
       "998   [H]Oc1c([H])c([H])c2c(c1[H])c(C([H])([H])C([H...   \n",
       "999   [H]c1nc([H])c([H])c(C(C(=O)N2C([H])([H])C([H]...   \n",
       "\n",
       "                                                 label        representation  \n",
       "0    [H]c1nc(N2C([H])([H])C([H])([H])C([H])(OC([H])...   [2.827840434633333]  \n",
       "1    [H]c1nc(N([H])C(=O)C([H])([H])N2C([H])([H])C([...  [2.5561191858400005]  \n",
       "2    [H]OC(=O)C([H])([H])C([H])([H])C([H])([H])C([H...  [3.1067300732333334]  \n",
       "3    [H]OC(=O)C([H])([H])Oc1c([H])c(C([H])([H])[H])...  [3.4418992363600003]  \n",
       "4    [H]OC1=C(C([H])([H])C([H])([H])C([H])([H])C([H...  [1.5800544312599991]  \n",
       "..                                                 ...                   ...  \n",
       "995  [H]/C(C(=O)c1c([H])c([H])c([H])c([H])c1[H])=C(...  [2.7449272988333333]  \n",
       "996  [H]c1nc(OC([H])([H])c2c([H])c3c([H])nc(C#N)nc3...  [2.3318800159533333]  \n",
       "997  [H]N([H])C(=O)c1nnsc1N([H])C1([H])C([H])([H])C...  [3.0260981597999987]  \n",
       "998  [H]Oc1c([H])c([H])c2c(c1[H])c(C([H])([H])C([H]...  [3.4337603066200004]  \n",
       "999  [H]c1nc([H])c([H])c(C(C(=O)N2C([H])([H])C([H])...       [2.06058054386]  \n",
       "\n",
       "[1000 rows x 4 columns]"
      ]
     },
     "execution_count": 7,
     "metadata": {},
     "output_type": "execute_result"
    }
   ],
   "source": [
    "formatted"
   ]
  },
  {
   "cell_type": "code",
   "execution_count": 8,
   "metadata": {},
   "outputs": [],
   "source": [
    "tuner = Tuner()"
   ]
  },
  {
   "cell_type": "code",
   "execution_count": 9,
   "metadata": {},
   "outputs": [
    {
     "name": "stderr",
     "output_type": "stream",
     "text": [
      "Upload progress: 100%|██████████| 452k/452k [00:00<00:00, 261Mit/s]\n"
     ]
    },
    {
     "name": "stdout",
     "output_type": "stream",
     "text": [
      "Uploaded file from /Users/kevinmaikjablonka/git/kjappelbaum/gptchem/experiments/10_functional_groups/pretrained/out/20230209_132031/train.jsonl: file-rtSYO5Qkc5gwdislTXEpbw1L\n"
     ]
    },
    {
     "name": "stderr",
     "output_type": "stream",
     "text": [
      "wandb: Currently logged in as: kjappelbaum. Use `wandb login --relogin` to force relogin\n",
      "wandb: wandb version 0.13.10 is available!  To upgrade, please run:\n",
      "wandb:  $ pip install wandb --upgrade\n",
      "wandb: Tracking run with wandb version 0.13.7\n",
      "wandb: Run data is saved locally in /Users/kevinmaikjablonka/git/kjappelbaum/gptchem/experiments/10_functional_groups/pretrained/wandb/run-20230209_143521-ft-t24yOKINJbekcMBORKwIpS5C\n",
      "wandb: Run `wandb offline` to turn off syncing.\n",
      "wandb: Syncing run ft-t24yOKINJbekcMBORKwIpS5C\n",
      "wandb: ⭐️ View project at https://wandb.ai/kjappelbaum/GPT-3\n",
      "wandb: 🚀 View run at https://wandb.ai/kjappelbaum/GPT-3/runs/ft-t24yOKINJbekcMBORKwIpS5C\n",
      "Traceback (most recent call last):\n",
      "  File \"/Users/kevinmaikjablonka/miniconda3/envs/gptchem/bin/openai\", line 8, in <module>\n",
      "    sys.exit(main())\n",
      "  File \"/Users/kevinmaikjablonka/miniconda3/envs/gptchem/lib/python3.9/site-packages/openai/_openai_scripts.py\", line 63, in main\n",
      "    args.func(args)\n",
      "  File \"/Users/kevinmaikjablonka/miniconda3/envs/gptchem/lib/python3.9/site-packages/openai/cli.py\", line 527, in sync\n",
      "    resp = openai.wandb_logger.WandbLogger.sync(\n",
      "  File \"/Users/kevinmaikjablonka/miniconda3/envs/gptchem/lib/python3.9/site-packages/openai/wandb_logger.py\", line 73, in sync\n",
      "    fine_tune_logged = [\n",
      "  File \"/Users/kevinmaikjablonka/miniconda3/envs/gptchem/lib/python3.9/site-packages/openai/wandb_logger.py\", line 74, in <listcomp>\n",
      "    cls._log_fine_tune(\n",
      "  File \"/Users/kevinmaikjablonka/miniconda3/envs/gptchem/lib/python3.9/site-packages/openai/wandb_logger.py\", line 162, in _log_fine_tune\n",
      "    step = metrics.pop(\"step\")\n",
      "KeyError: 'step'\n",
      "wandb: Waiting for W&B process to finish... (failed 1). Press Control-C to abort syncing.\n",
      "wandb: Synced ft-t24yOKINJbekcMBORKwIpS5C: https://wandb.ai/kjappelbaum/GPT-3/runs/ft-t24yOKINJbekcMBORKwIpS5C\n",
      "wandb: Synced 6 W&B file(s), 0 media file(s), 0 artifact file(s) and 0 other file(s)\n",
      "wandb: Find logs at: ./wandb/run-20230209_143521-ft-t24yOKINJbekcMBORKwIpS5C/logs\n"
     ]
    },
    {
     "data": {
      "text/plain": [
       "{'base_model': 'ada',\n",
       " 'batch_size': None,\n",
       " 'n_epochs': 4,\n",
       " 'learning_rate_multiplier': None,\n",
       " 'run_name': None,\n",
       " 'wandb_sync': True,\n",
       " 'outdir': '/Users/kevinmaikjablonka/git/kjappelbaum/gptchem/experiments/10_functional_groups/pretrained/out/20230209_132031',\n",
       " 'train_filename': '/Users/kevinmaikjablonka/git/kjappelbaum/gptchem/experiments/10_functional_groups/pretrained/out/20230209_132031/train.jsonl',\n",
       " 'valid_filename': 'None',\n",
       " 'model_name': 'ada:ft-lsmoepfl-2023-02-09-13-32-32',\n",
       " 'ft_id': 'ft-zpnE9SQ1yJHTkC2M0gQmgweP',\n",
       " 'date': '20230209_143541',\n",
       " 'train_file_id': 'file-rtSYO5Qkc5gwdislTXEpbw1L',\n",
       " 'valid_file_id': None}"
      ]
     },
     "execution_count": 9,
     "metadata": {},
     "output_type": "execute_result"
    }
   ],
   "source": [
    "tuner(formatted)"
   ]
  },
  {
   "cell_type": "code",
   "execution_count": null,
   "metadata": {},
   "outputs": [],
   "source": []
  }
 ],
 "metadata": {
  "kernelspec": {
   "display_name": "gptchem",
   "language": "python",
   "name": "python3"
  },
  "language_info": {
   "codemirror_mode": {
    "name": "ipython",
    "version": 3
   },
   "file_extension": ".py",
   "mimetype": "text/x-python",
   "name": "python",
   "nbconvert_exporter": "python",
   "pygments_lexer": "ipython3",
   "version": "3.9.15"
  },
  "orig_nbformat": 4,
  "vscode": {
   "interpreter": {
    "hash": "2f3b9074e5baa1438c27e2ea813f7f53b7516c83bd70840b6d64eae6820ee5df"
   }
  }
 },
 "nbformat": 4,
 "nbformat_minor": 2
}
