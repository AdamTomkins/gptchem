{
 "cells": [
  {
   "cell_type": "code",
   "execution_count": 21,
   "metadata": {},
   "outputs": [
    {
     "name": "stdout",
     "output_type": "stream",
     "text": [
      "The autoreload extension is already loaded. To reload it, use:\n",
      "  %reload_ext autoreload\n"
     ]
    }
   ],
   "source": [
    "%load_ext autoreload\n",
    "%autoreload 2"
   ]
  },
  {
   "cell_type": "code",
   "execution_count": 22,
   "metadata": {},
   "outputs": [],
   "source": [
    "from glob import glob \n",
    "from fastcore.xtras import load_pickle\n",
    "\n",
    "import pandas as pd"
   ]
  },
  {
   "cell_type": "code",
   "execution_count": 23,
   "metadata": {},
   "outputs": [],
   "source": [
    "def get_prevalence(smiles, fragment):\n",
    "    return sum([fragment in x for x in smiles]) / len(smiles)\n"
   ]
  },
  {
   "cell_type": "code",
   "execution_count": 24,
   "metadata": {},
   "outputs": [],
   "source": [
    "all_res = glob('out/*/*.pkl')"
   ]
  },
  {
   "cell_type": "code",
   "execution_count": 25,
   "metadata": {},
   "outputs": [
    {
     "data": {
      "text/plain": [
       "['out/20230206_115656/summary.pkl', 'out/20230206_090056/summary.pkl']"
      ]
     },
     "execution_count": 25,
     "metadata": {},
     "output_type": "execute_result"
    }
   ],
   "source": [
    "all_res"
   ]
  },
  {
   "cell_type": "code",
   "execution_count": 28,
   "metadata": {},
   "outputs": [],
   "source": [
    "compiled = []\n",
    "\n",
    "for res in all_res:\n",
    "    summary = load_pickle(res)\n",
    "    for temp_res in summary['res_at_temp']:\n",
    "        compiled.append({\n",
    "            'train_size': summary['train_size'],\n",
    "            'noise_level': summary['noise_level'],\n",
    "            'num_samples': summary['num_samples'],\n",
    "            'temperature': temp_res['temperature'],\n",
    "            'valid_smiles': temp_res['valid_smiles'],\n",
    "            'novel_smiles': temp_res['novel_smiles'],\n",
    "            'valid_indices': temp_res['valid_indices'],\n",
    "            'novel_indices': temp_res['novel_indices'],\n",
    "            'frac_group': temp_res['fragment_fraction'],\n",
    "            'constrain_satisfaction': temp_res['constrain_satisfaction'],\n",
    "            'constrain_satisfaction_novel': temp_res['constrain_satisfaction_novel'],\n",
    "            'prevalence': get_prevalence(temp_res['train_smiles'], summary['group']),\n",
    "            'group': summary['group'],\n",
    "        })"
   ]
  },
  {
   "cell_type": "code",
   "execution_count": 29,
   "metadata": {},
   "outputs": [],
   "source": [
    "compiled = pd.DataFrame(compiled)"
   ]
  },
  {
   "cell_type": "code",
   "execution_count": 30,
   "metadata": {},
   "outputs": [
    {
     "name": "stderr",
     "output_type": "stream",
     "text": [
      "/var/folders/m9/_txh68y946s4pxy1x2wnd3lh0000gn/T/ipykernel_53854/2225435898.py:1: FutureWarning: The default value of numeric_only in DataFrameGroupBy.mean is deprecated. In a future version, numeric_only will default to False. Either specify numeric_only or select only columns which should be valid for the function.\n",
      "  compiled.groupby(['temperature', 'group']).mean()\n"
     ]
    },
    {
     "data": {
      "text/html": [
       "<div>\n",
       "<style scoped>\n",
       "    .dataframe tbody tr th:only-of-type {\n",
       "        vertical-align: middle;\n",
       "    }\n",
       "\n",
       "    .dataframe tbody tr th {\n",
       "        vertical-align: top;\n",
       "    }\n",
       "\n",
       "    .dataframe thead th {\n",
       "        text-align: right;\n",
       "    }\n",
       "</style>\n",
       "<table border=\"1\" class=\"dataframe\">\n",
       "  <thead>\n",
       "    <tr style=\"text-align: right;\">\n",
       "      <th></th>\n",
       "      <th></th>\n",
       "      <th>train_size</th>\n",
       "      <th>noise_level</th>\n",
       "      <th>num_samples</th>\n",
       "      <th>frac_group</th>\n",
       "      <th>prevalence</th>\n",
       "    </tr>\n",
       "    <tr>\n",
       "      <th>temperature</th>\n",
       "      <th>group</th>\n",
       "      <th></th>\n",
       "      <th></th>\n",
       "      <th></th>\n",
       "      <th></th>\n",
       "      <th></th>\n",
       "    </tr>\n",
       "  </thead>\n",
       "  <tbody>\n",
       "    <tr>\n",
       "      <th>0.00</th>\n",
       "      <th>I</th>\n",
       "      <td>92.0</td>\n",
       "      <td>0.5</td>\n",
       "      <td>200.0</td>\n",
       "      <td>0.000000</td>\n",
       "      <td>0.01087</td>\n",
       "    </tr>\n",
       "    <tr>\n",
       "      <th>0.10</th>\n",
       "      <th>I</th>\n",
       "      <td>92.0</td>\n",
       "      <td>0.5</td>\n",
       "      <td>200.0</td>\n",
       "      <td>0.000000</td>\n",
       "      <td>0.01087</td>\n",
       "    </tr>\n",
       "    <tr>\n",
       "      <th>0.20</th>\n",
       "      <th>I</th>\n",
       "      <td>92.0</td>\n",
       "      <td>0.5</td>\n",
       "      <td>200.0</td>\n",
       "      <td>0.000000</td>\n",
       "      <td>0.01087</td>\n",
       "    </tr>\n",
       "    <tr>\n",
       "      <th>0.50</th>\n",
       "      <th>I</th>\n",
       "      <td>92.0</td>\n",
       "      <td>0.5</td>\n",
       "      <td>200.0</td>\n",
       "      <td>0.000000</td>\n",
       "      <td>0.01087</td>\n",
       "    </tr>\n",
       "    <tr>\n",
       "      <th>0.75</th>\n",
       "      <th>I</th>\n",
       "      <td>92.0</td>\n",
       "      <td>0.5</td>\n",
       "      <td>200.0</td>\n",
       "      <td>0.000000</td>\n",
       "      <td>0.01087</td>\n",
       "    </tr>\n",
       "    <tr>\n",
       "      <th>1.00</th>\n",
       "      <th>I</th>\n",
       "      <td>92.0</td>\n",
       "      <td>0.5</td>\n",
       "      <td>200.0</td>\n",
       "      <td>0.007692</td>\n",
       "      <td>0.01087</td>\n",
       "    </tr>\n",
       "    <tr>\n",
       "      <th>1.25</th>\n",
       "      <th>I</th>\n",
       "      <td>92.0</td>\n",
       "      <td>0.5</td>\n",
       "      <td>200.0</td>\n",
       "      <td>0.040833</td>\n",
       "      <td>0.01087</td>\n",
       "    </tr>\n",
       "    <tr>\n",
       "      <th>1.50</th>\n",
       "      <th>I</th>\n",
       "      <td>92.0</td>\n",
       "      <td>0.5</td>\n",
       "      <td>200.0</td>\n",
       "      <td>0.000000</td>\n",
       "      <td>0.01087</td>\n",
       "    </tr>\n",
       "    <tr>\n",
       "      <th>2.00</th>\n",
       "      <th>I</th>\n",
       "      <td>92.0</td>\n",
       "      <td>0.5</td>\n",
       "      <td>200.0</td>\n",
       "      <td>0.041667</td>\n",
       "      <td>0.01087</td>\n",
       "    </tr>\n",
       "  </tbody>\n",
       "</table>\n",
       "</div>"
      ],
      "text/plain": [
       "                   train_size  noise_level  num_samples  frac_group  \\\n",
       "temperature group                                                     \n",
       "0.00        I            92.0          0.5        200.0    0.000000   \n",
       "0.10        I            92.0          0.5        200.0    0.000000   \n",
       "0.20        I            92.0          0.5        200.0    0.000000   \n",
       "0.50        I            92.0          0.5        200.0    0.000000   \n",
       "0.75        I            92.0          0.5        200.0    0.000000   \n",
       "1.00        I            92.0          0.5        200.0    0.007692   \n",
       "1.25        I            92.0          0.5        200.0    0.040833   \n",
       "1.50        I            92.0          0.5        200.0    0.000000   \n",
       "2.00        I            92.0          0.5        200.0    0.041667   \n",
       "\n",
       "                   prevalence  \n",
       "temperature group              \n",
       "0.00        I         0.01087  \n",
       "0.10        I         0.01087  \n",
       "0.20        I         0.01087  \n",
       "0.50        I         0.01087  \n",
       "0.75        I         0.01087  \n",
       "1.00        I         0.01087  \n",
       "1.25        I         0.01087  \n",
       "1.50        I         0.01087  \n",
       "2.00        I         0.01087  "
      ]
     },
     "execution_count": 30,
     "metadata": {},
     "output_type": "execute_result"
    }
   ],
   "source": [
    "compiled.groupby(['temperature', 'group']).mean()"
   ]
  },
  {
   "cell_type": "code",
   "execution_count": null,
   "metadata": {},
   "outputs": [],
   "source": []
  }
 ],
 "metadata": {
  "kernelspec": {
   "display_name": "gptchem",
   "language": "python",
   "name": "python3"
  },
  "language_info": {
   "codemirror_mode": {
    "name": "ipython",
    "version": 3
   },
   "file_extension": ".py",
   "mimetype": "text/x-python",
   "name": "python",
   "nbconvert_exporter": "python",
   "pygments_lexer": "ipython3",
   "version": "3.9.15"
  },
  "orig_nbformat": 4,
  "vscode": {
   "interpreter": {
    "hash": "2f3b9074e5baa1438c27e2ea813f7f53b7516c83bd70840b6d64eae6820ee5df"
   }
  }
 },
 "nbformat": 4,
 "nbformat_minor": 2
}
